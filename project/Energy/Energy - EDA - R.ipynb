{
 "cells": [
  {
   "cell_type": "code",
   "execution_count": 1,
   "metadata": {},
   "outputs": [
    {
     "name": "stderr",
     "output_type": "stream",
     "text": [
      "\n",
      "Attaching package: 'dplyr'\n",
      "\n",
      "\n",
      "The following objects are masked from 'package:stats':\n",
      "\n",
      "    filter, lag\n",
      "\n",
      "\n",
      "The following objects are masked from 'package:base':\n",
      "\n",
      "    intersect, setdiff, setequal, union\n",
      "\n",
      "\n"
     ]
    }
   ],
   "source": [
    "library(DBI)\n",
    "library(odbc)\n",
    "library(RSQLite)\n",
    "library(dplyr)\n",
    "library(ggplot2)"
   ]
  },
  {
   "cell_type": "code",
   "execution_count": 2,
   "metadata": {},
   "outputs": [],
   "source": [
    "con <- dbConnect(odbc(), \n",
    "                 Driver = \"SQL Server\", \n",
    "                 Server = \"DESKTOP-AAGNMGA\\\\SQLEXPRESS\", \n",
    "                 Database = \"RenewableEnergy\", \n",
    "                 Trusted_Connection = \"True\")"
   ]
  },
  {
   "cell_type": "code",
   "execution_count": 7,
   "metadata": {},
   "outputs": [],
   "source": [
    "df <- dbReadTable(con,\"Energy_flatfile\")\n",
    "df70 <- df[df$Year >=1970,]\n",
    "df90 <- df[df$Year >=1990,]"
   ]
  },
  {
   "cell_type": "code",
   "execution_count": 4,
   "metadata": {},
   "outputs": [
    {
     "data": {
      "text/plain": [
       " CountryName        CountryCode             Year       SP_POP_TOTL       \n",
       " Length:13778       Length:13778       Min.   :1960   Min.   :4.279e+03  \n",
       " Class :character   Class :character   1st Qu.:1974   1st Qu.:8.274e+05  \n",
       " Mode  :character   Mode  :character   Median :1988   Median :5.446e+06  \n",
       "                                       Mean   :1987   Mean   :1.425e+08  \n",
       "                                       3rd Qu.:2001   3rd Qu.:2.755e+07  \n",
       "                                       Max.   :2015   Max.   :7.261e+09  \n",
       "                                                      NA's   :294        \n",
       " EN_CO2_OTHX_ZS   EG_USE_COMM_GD_PP_KD EG_USE_COMM_FO_ZS ER_H2O_INTR_K3   \n",
       " Min.   :-2.381   Min.   :   4.991     Min.   :  0.00    Min.   :    0.0  \n",
       " 1st Qu.: 1.136   1st Qu.:  96.756     1st Qu.: 46.32    1st Qu.:    9.5  \n",
       " Median : 2.783   Median : 130.556     Median : 77.71    Median :   60.0  \n",
       " Mean   : 4.862   Mean   : 166.097     Mean   : 67.56    Mean   : 1419.3  \n",
       " 3rd Qu.: 5.271   3rd Qu.: 188.802     3rd Qu.: 92.57    3rd Qu.:  335.4  \n",
       " Max.   :87.226   Max.   :1197.448     Max.   :100.00    Max.   :43504.0  \n",
       " NA's   :6773     NA's   :10058        NA's   :6734      NA's   :11455    \n",
       " EG_NSF_ACCS_UR_ZS EG_NSF_ACCS_ZS   EG_ELC_NUCL_ZS   EG_ELC_ACCS_RU_ZS\n",
       " Min.   :  1.995   Min.   :  2.00   Min.   : 0.000   Min.   :  0.10   \n",
       " 1st Qu.: 67.839   1st Qu.: 27.45   1st Qu.: 0.000   1st Qu.: 30.80   \n",
       " Median : 95.420   Median : 74.27   Median : 0.000   Median : 82.19   \n",
       " Mean   : 77.431   Mean   : 62.10   Mean   : 5.011   Mean   : 65.58   \n",
       " 3rd Qu.:100.000   3rd Qu.: 98.54   3rd Qu.: 1.766   3rd Qu.:100.00   \n",
       " Max.   :100.000   Max.   :100.00   Max.   :87.986   Max.   :100.00   \n",
       " NA's   :13330     NA's   :12882    NA's   :7017     NA's   :12798    \n",
       " EN_ATM_GHGO_KT_CE   EG_NSF_ACCS_RU_ZS EG_IMP_CONS_ZS      EN_ATM_CO2E_GF_ZS \n",
       " Min.   :      0.0   Min.   :  2.00    Min.   :-16718.71   Min.   :  0.0000  \n",
       " 1st Qu.:      0.0   1st Qu.: 12.55    1st Qu.:   -36.37   1st Qu.:  0.0000  \n",
       " Median :    413.6   Median : 64.73    Median :    16.13   Median :  0.3436  \n",
       " Mean   :  26166.2   Mean   : 56.44    Mean   :   -74.51   Mean   :  9.6891  \n",
       " 3rd Qu.:   3604.1   3rd Qu.: 99.99    3rd Qu.:    51.13   3rd Qu.: 14.1892  \n",
       " Max.   :1015443.0   Max.   :100.00    Max.   :   100.00   Max.   :132.2051  \n",
       " NA's   :13006       NA's   :13330     NA's   :6743        NA's   :3037      \n",
       " EN_ATM_CO2E_PP_GD EN_ATM_CO2E_KT     EN_ATM_NOXE_AG_KT_CE EG_ELC_FOSL_ZS  \n",
       " Min.   :0.005     Min.   :       4   Min.   :     0       Min.   :  0.00  \n",
       " 1st Qu.:0.192     1st Qu.:     876   1st Qu.:  1207       1st Qu.: 32.36  \n",
       " Median :0.302     Median :    8317   Median :  3340       Median : 64.97  \n",
       " Mean   :0.389     Mean   :  593821   Mean   : 13727       Mean   : 59.04  \n",
       " 3rd Qu.:0.480     3rd Qu.:   88193   3rd Qu.: 11048       3rd Qu.: 87.70  \n",
       " Max.   :3.196     Max.   :34649483   Max.   :415149       Max.   :100.00  \n",
       " NA's   :9205      NA's   :3176       NA's   :13106        NA's   :7017    \n",
       " EG_ELC_RNEW_ZS    EN_ATM_METH_AG_ZS TX_VAL_FUEL_ZS_UN EN_ATM_CO2E_LF_KT \n",
       " Min.   :  0.000   Min.   : 0.00     Min.   :  0.000   Min.   :       0  \n",
       " 1st Qu.:  2.077   1st Qu.:28.53     1st Qu.:  0.487   1st Qu.:     673  \n",
       " Median : 17.705   Median :44.48     Median :  3.769   Median :    4576  \n",
       " Mean   : 30.668   Mean   :44.53     Mean   : 16.416   Mean   :  235411  \n",
       " 3rd Qu.: 54.884   3rd Qu.:62.55     3rd Qu.: 15.239   3rd Qu.:   38929  \n",
       " Max.   :103.539   Max.   :95.06     Max.   :722.763   Max.   :11503379  \n",
       " NA's   :8703      NA's   :12948     NA's   :6699      NA's   :3195      \n",
       " NY_ADJ_DNGY_GN_ZS  IC_ELC_TIME    EN_ATM_METH_KT_CE EN_ATM_METH_EG_ZS\n",
       " Min.   : 0.000    Min.   : 18.0   Min.   :      0   Min.   : 0.255   \n",
       " 1st Qu.: 0.000    1st Qu.: 64.0   1st Qu.:   6344   1st Qu.:12.905   \n",
       " Median : 0.085    Median : 90.0   Median :  18824   Median :25.310   \n",
       " Mean   : 3.557    Mean   :105.1   Mean   : 282511   Mean   :32.312   \n",
       " 3rd Qu.: 2.411    3rd Qu.:125.8   3rd Qu.:  98329   3rd Qu.:47.035   \n",
       " Max.   :87.486    Max.   :585.0   Max.   :7515150   Max.   :98.195   \n",
       " NA's   :5151      NA's   :12291   NA's   :12946     NA's   :12948    \n",
       " EN_ATM_CO2E_GF_KT  EN_CO2_MANF_ZS  ER_H2O_INTR_PC     NY_ADJ_SVNX_CD      \n",
       " Min.   :       0   Min.   : 0.00   Min.   :       0   Min.   :-2.751e+10  \n",
       " 1st Qu.:       0   1st Qu.:15.46   1st Qu.:    1459   1st Qu.: 4.029e+07  \n",
       " Median :       0   Median :22.10   Median :    4392   Median : 1.016e+09  \n",
       " Mean   :  126362   Mean   :23.24   Mean   :   33761   Mean   : 2.567e+10  \n",
       " 3rd Qu.:   10236   3rd Qu.:29.20   3rd Qu.:   19145   3rd Qu.: 9.434e+09  \n",
       " Max.   :14656999   Max.   :83.33   Max.   :10662187   Max.   : 2.773e+12  \n",
       " NA's   :3774       NA's   :6773    NA's   :11456      NA's   :9042        \n",
       " EN_ATM_PFCG_KT_CE  TM_VAL_FUEL_ZS_UN EG_FEC_RNEW_ZS    EG_ELC_LOSS_ZS   \n",
       " Min.   :     0.0   Min.   : 0.003    Min.   :  0.002   Min.   :  0.000  \n",
       " 1st Qu.:     0.0   1st Qu.: 6.654    1st Qu.:  6.819   1st Qu.:  7.207  \n",
       " Median :     0.1   Median :11.255    Median : 24.275   Median : 10.237  \n",
       " Mean   :  2836.1   Mean   :12.970    Mean   : 34.469   Mean   : 12.330  \n",
       " 3rd Qu.:   401.6   3rd Qu.:17.435    3rd Qu.: 60.119   3rd Qu.: 15.144  \n",
       " Max.   :115357.5   Max.   :94.057    Max.   :100.000   Max.   :157.200  \n",
       " NA's   :13055      NA's   :6253      NA's   :8911      NA's   :6806     \n",
       " EN_ATM_CO2E_EG_ZS EG_USE_PCAP_KG_OE   EN_ATM_METH_AG_KT_CE EN_ATM_CO2E_PC  \n",
       " Min.   : 0.054    Min.   :    9.715   Min.   :     0       Min.   : 0.001  \n",
       " 1st Qu.: 1.678    1st Qu.:  548.438   1st Qu.:  1835       1st Qu.: 0.413  \n",
       " Median : 2.433    Median : 1189.005   Median :  4653       Median : 1.590  \n",
       " Mean   : 2.390    Mean   : 2199.007   Mean   : 22883       Mean   : 4.315  \n",
       " 3rd Qu.: 2.925    3rd Qu.: 3109.114   3rd Qu.: 17714       3rd Qu.: 6.007  \n",
       " Max.   :77.586    Max.   :22762.080   Max.   :589862       Max.   :99.840  \n",
       " NA's   :7010      NA's   :6929        NA's   :13106        NA's   :3179    \n",
       " EN_ATM_NOXE_AG_ZS EN_ATM_CO2E_LF_ZS EG_ELC_HYRO_ZS    EG_ELC_RNWX_ZS  \n",
       " Min.   : 0.00     Min.   :  0.00    Min.   :  0.000   Min.   : 0.000  \n",
       " 1st Qu.:56.46     1st Qu.: 44.10    1st Qu.:  4.562   1st Qu.: 0.000  \n",
       " Median :67.62     Median : 72.65    Median : 19.134   Median : 0.083  \n",
       " Mean   :65.05     Mean   : 67.84    Mean   : 31.686   Mean   : 1.790  \n",
       " 3rd Qu.:77.53     3rd Qu.: 95.78    3rd Qu.: 56.517   3rd Qu.: 1.293  \n",
       " Max.   :96.91     Max.   :100.00    Max.   :100.000   Max.   :62.596  \n",
       " NA's   :12948     NA's   :3038      NA's   :7017      NA's   :7017    \n",
       " EN_CO2_ETOT_ZS  EN_ATM_HFCG_KT_CE  NY_ADJ_DPEM_GN_ZS EG_ELC_COAL_ZS   \n",
       " Min.   : 0.00   Min.   :     0.0   Min.   : 0.016    Min.   :  0.000  \n",
       " 1st Qu.:22.89   1st Qu.:     0.0   1st Qu.: 0.247    1st Qu.:  0.000  \n",
       " Median :33.84   Median :    47.5   Median : 0.613    Median :  3.119  \n",
       " Mean   :33.83   Mean   : 10286.6   Mean   : 1.287    Mean   : 19.592  \n",
       " 3rd Qu.:44.49   3rd Qu.:  1191.5   3rd Qu.: 1.560    3rd Qu.: 35.907  \n",
       " Max.   :88.89   Max.   :563359.8   Max.   :15.995    Max.   :100.000  \n",
       " NA's   :6773    NA's   :13050      NA's   :13206     NA's   :7017     \n",
       " EP_PMP_DESL_CD  EG_GDP_PUSE_KO_PP_KD EG_ELC_ACCS_UR_ZS EG_EGY_PRIM_PP_KD\n",
       " Min.   :0.008   Min.   :  0.835      Min.   :  0.10    Min.   :  0.476  \n",
       " 1st Qu.:0.400   1st Qu.:  5.297      1st Qu.: 81.14    1st Qu.:  4.238  \n",
       " Median :0.730   Median :  7.660      Median : 98.57    Median :  5.846  \n",
       " Mean   :0.792   Mean   :  8.222      Mean   : 86.44    Mean   :  7.957  \n",
       " 3rd Qu.:1.110   3rd Qu.: 10.335      3rd Qu.:100.00    3rd Qu.:  8.717  \n",
       " Max.   :3.000   Max.   :200.369      Max.   :100.00    Max.   :127.450  \n",
       " NA's   :11819   NA's   :10058        NA's   :12798     NA's   :8723     \n",
       " EN_ATM_METH_EG_KT_CE EG_ELC_ACCS_ZS   EN_ATM_NOXE_KT_CE EN_CO2_TRAN_ZS \n",
       " Min.   :      0      Min.   :  0.00   Min.   :      0   Min.   : 0.00  \n",
       " 1st Qu.:   1217      1st Qu.: 52.49   1st Qu.:   2546   1st Qu.:15.52  \n",
       " Median :   5389      Median : 90.88   Median :   7926   Median :24.03  \n",
       " Mean   :  98425      Mean   : 74.51   Mean   : 116563   Mean   :26.79  \n",
       " 3rd Qu.:  36589      3rd Qu.:100.00   3rd Qu.:  42467   3rd Qu.:33.77  \n",
       " Max.   :2943583      Max.   :100.00   Max.   :2859834   Max.   :91.77  \n",
       " NA's   :12946        NA's   :12798    NA's   :12946     NA's   :6773   \n",
       " NY_ADJ_SVNX_GN_ZS  EN_ATM_NOXE_EI_ZS EN_CLC_GHGR_MT_CE   EG_ELC_NGAS_ZS   \n",
       " Min.   :-240.083   Min.   : 0.591    Min.   :-1033.640   Min.   :  0.000  \n",
       " 1st Qu.:   3.411   1st Qu.: 4.863    1st Qu.:  -28.459   1st Qu.:  0.000  \n",
       " Median :   9.331   Median :11.022    Median :   -8.185   Median :  5.106  \n",
       " Mean   :   7.943   Mean   :14.799    Mean   :  -37.037   Mean   : 17.135  \n",
       " 3rd Qu.:  14.423   3rd Qu.:21.420    3rd Qu.:   -0.324   3rd Qu.: 21.682  \n",
       " Max.   : 129.117   Max.   :94.413    Max.   : 1329.050   Max.   :100.000  \n",
       " NA's   :7882       NA's   :12948     NA's   :12838       NA's   :7017     \n",
       "  IC_ELC_OUTG      EG_GDP_PUSE_KO_PP EG_ELC_PETR_ZS   EG_ELC_RNWX_KH     \n",
       " Min.   :  0.000   Min.   :  0.547   Min.   :  0.00   Min.   :0.000e+00  \n",
       " 1st Qu.:  0.800   1st Qu.:  4.120   1st Qu.:  2.53   1st Qu.:0.000e+00  \n",
       " Median :  2.300   Median :  6.161   Median : 10.43   Median :2.400e+07  \n",
       " Mean   :  6.786   Mean   :  6.803   Mean   : 22.31   Mean   :8.790e+09  \n",
       " 3rd Qu.:  7.425   3rd Qu.:  8.455   3rd Qu.: 31.09   3rd Qu.:9.035e+08  \n",
       " Max.   :100.700   Max.   :188.782   Max.   :100.00   Max.   :1.072e+12  \n",
       " NA's   :13531     NA's   :10060     NA's   :7017     NA's   :6743       \n",
       " EG_USE_COMM_CL_ZS EN_ATM_CO2E_SF_KT  EG_USE_CRNW_ZS   NY_ADJ_SVNG_GN_ZS \n",
       " Min.   : 0.000    Min.   :       0   Min.   : 0.000   Min.   :-108.048  \n",
       " 1st Qu.: 0.702    1st Qu.:       0   1st Qu.: 1.520   1st Qu.:   2.918  \n",
       " Median : 2.777    Median :      99   Median : 7.604   Median :   8.050  \n",
       " Mean   : 6.854    Mean   :  218183   Mean   :22.860   Mean   :   7.042  \n",
       " 3rd Qu.: 8.314    3rd Qu.:   13115   3rd Qu.:38.026   3rd Qu.:  13.854  \n",
       " Max.   :99.430    Max.   :10226631   Max.   :98.186   Max.   :  94.106  \n",
       " NA's   :6757      NA's   :3708       NA's   :6743     NA's   :12851     \n",
       " EG_USE_ELEC_KH_PC NY_GDP_MKTP_CD      NY_ADJ_DNGY_CD      NY_ADJ_DPEM_CD     \n",
       " Min.   :    5.8   Min.   :8.825e+06   Min.   :0.000e+00   Min.   :0.000e+00  \n",
       " 1st Qu.:  429.1   1st Qu.:1.689e+09   1st Qu.:0.000e+00   1st Qu.:1.067e+07  \n",
       " Median : 1473.7   Median :1.049e+10   Median :0.000e+00   Median :8.270e+07  \n",
       " Mean   : 3058.8   Mean   :8.572e+11   Mean   :2.507e+09   Mean   :5.953e+08  \n",
       " 3rd Qu.: 4259.7   3rd Qu.:1.169e+11   3rd Qu.:2.885e+08   3rd Qu.:3.390e+08  \n",
       " Max.   :53202.8   Max.   :7.785e+13   Max.   :2.806e+11   Max.   :2.529e+10  \n",
       " NA's   :7167      NA's   :3432        NA's   :4405        NA's   :13100      \n",
       " EN_ATM_CO2E_KD_GD NY_ADJ_SVNG_CD       EN_ATM_CO2E_SF_ZS EN_ATM_CO2E_PP_GD_KD\n",
       " Min.   : 0.006    Min.   :-2.307e+10   Min.   :  0.000   Min.   :0.003       \n",
       " 1st Qu.: 0.337    1st Qu.: 2.223e+07   1st Qu.:  0.000   1st Qu.:0.156       \n",
       " Median : 0.518    Median : 1.336e+09   Median :  2.581   Median :0.244       \n",
       " Mean   : 0.806    Mean   : 3.288e+10   Mean   : 16.141   Mean   :0.303       \n",
       " 3rd Qu.: 0.954    3rd Qu.: 1.475e+10   3rd Qu.: 27.619   3rd Qu.:0.375       \n",
       " Max.   :12.384    Max.   : 1.773e+12   Max.   :100.000   Max.   :2.235       \n",
       " NA's   :5055      NA's   :13390        NA's   :3031      NA's   :9196        \n",
       " EN_ATM_NOXE_IN_KT_CE  EN_POP_DNST        EN_ATM_NOXE_EG_KT_CE\n",
       " Min.   :    0.0      Min.   :    0.099   Min.   :     0.0    \n",
       " 1st Qu.:    0.0      1st Qu.:   17.980   1st Qu.:   140.2    \n",
       " Median :    0.0      Median :   50.397   Median :   487.8    \n",
       " Mean   : 1246.6      Mean   :  273.193   Mean   : 10761.8    \n",
       " 3rd Qu.:  758.3      3rd Qu.:  124.648   3rd Qu.:  3692.5    \n",
       " Max.   :44624.8      Max.   :21595.350   Max.   :288710.9    \n",
       " NA's   :13106        NA's   :790         NA's   :12946       \n",
       " IE_PPI_ENGY_CD      EN_CO2_BLDG_ZS   EN_ATM_SF6G_KT_CE \n",
       " Min.   :0.000e+00   Min.   : 0.000   Min.   :     0.0  \n",
       " 1st Qu.:4.190e+07   1st Qu.: 5.378   1st Qu.:     0.0  \n",
       " Median :3.154e+08   Median : 9.884   Median :     0.0  \n",
       " Mean   :3.624e+09   Mean   :11.261   Mean   :  3563.7  \n",
       " 3rd Qu.:2.013e+09   3rd Qu.:15.538   3rd Qu.:   544.1  \n",
       " Max.   :7.330e+10   Max.   :48.039   Max.   :135936.7  \n",
       " NA's   :12724       NA's   :6773     NA's   :13037     "
      ]
     },
     "metadata": {},
     "output_type": "display_data"
    }
   ],
   "source": [
    "summary(df)"
   ]
  },
  {
   "cell_type": "code",
   "execution_count": 5,
   "metadata": {},
   "outputs": [],
   "source": [
    "exploreData <- function(data=data, y=NULL, rn=NULL, factorSize=10, dir=\"report\", debug=FALSE, ...) {\n",
    "\n",
    "  get_computer_type <- function(){\n",
    "    # check if current R client is running on PC or on the server\n",
    "    if (Sys.info()[1] == \"Windows\") {\n",
    "      computer.type = \"pc\"\n",
    "    } else if (Sys.info()[1] == \"Linux\") {\n",
    "      computer.type = \"server\"\n",
    "    }\n",
    "    return(computer.type)\n",
    "  }\n",
    "\n",
    "  whatVarType <- function(var) {\n",
    "    suppressWarnings(if (var==\"integer\" | var==\"numeric\") {\n",
    "      return(1)\n",
    "    } else if (var==\"factor\" | var==\"character\") {\n",
    "      return(2)\n",
    "    } else if (var==\"Date\" | \"POSIXct\" %in% var[[1]]) {\n",
    "      return(3)\n",
    "    } else {\n",
    "      return(0)\n",
    "    })\n",
    "  }\n",
    "\n",
    "  drawHistogram <- function(imgname=imgname, x=x) {\n",
    "    d=stats::density(x, kernel = \"gaussian\",na.rm=TRUE)\n",
    "    breakstar=(max(x,na.rm=TRUE) -min(x,na.rm=TRUE))/d$bw\n",
    "    h=graphics::hist(x, breaks=breakstar)\n",
    "    graphics::plot(h,main=\"\",xlab=imgname)\n",
    "    yfit<-seq(min(x,na.rm=TRUE),max(x,na.rm=TRUE),length=40)\n",
    "    ffit<-stats::dnorm(yfit,mean=mean(x,na.rm=T),sd=stats::sd(x,na.rm=T))\n",
    "    ffit <- ffit*diff(h$mids[1:2])*length(x)\n",
    "    lines(yfit, ffit, col=\"blue\", lwd=2)\n",
    "  }\n",
    "\n",
    "  drawFakeGraph <- function(imgname=imgname) {\n",
    "    graphics::plot.window(xlim = c(0,0),ylim = c(0,0))\n",
    "  }\n",
    "\n",
    "  drawBars <- function(imgname=imgname, x=x) {\n",
    "    graphics::plot(x)\n",
    "  }\n",
    "\n",
    "  drawGraphOne <- function(imgname=imgname, numVar=x, vartype=1) {\n",
    "    if(vartype==1) {\n",
    "      drawHistogram(imgname,numVar)\n",
    "    } else if(vartype==2) {\n",
    "      drawBars(imgname,numVar)\n",
    "    } else {\n",
    "      drawFakeGraph(imgname)\n",
    "    }\n",
    "  }\n",
    "\n",
    "  getContinuousStats <- function(x) {\n",
    "    N <- length(x)\n",
    "    n <- length(x[which(is.na(x)==FALSE)])\n",
    "    pct <- formatC(n/N * 100)\n",
    "    nmiss <- length(x[which(is.na(x)==TRUE)])\n",
    "    npct <- formatC(nmiss/N *100)\n",
    "    ma <- mean(x, na.rm=TRUE)\n",
    "    s <- stats::sd(x, na.rm=TRUE)\n",
    "    me <- formatC(stats::median(x, na.rm=TRUE))\n",
    "    q1 <- formatC(stats::quantile(x,1/4, na.rm=TRUE))\n",
    "    q3 <- formatC(stats::quantile(x,3/4, na.rm=TRUE))\n",
    "    mn <- formatC(min(x, na.rm=TRUE))\n",
    "    mx <- formatC(max(x, na.rm=TRUE))\n",
    "    html <- paste(\"<div class='Cell' style='align: top;'> <u>Data type</u>: Continuous <p> <u>Data length</u>: \",n ,\"/\", N, \" (\", pct, \"%) <br> <u>Missing</u>: \",\n",
    "                  nmiss, \" (\", npct, \"%)<p> <u>Mean</u>: \", formatC(ma), \"\\t <u>StdDev</u>: \", formatC(s), \"<br><u>Median</u>: \",me,\n",
    "                  \"\\t <u>IQR</u>: \", q1, \"-\", q3, \"<br><u>Min</u>: \", mn, \"\\t <u>Max</u>: \", mx, \"</div>\")\n",
    "    return(html)\n",
    "  }\n",
    "\n",
    "  getCategortyStats <- function(x) {\n",
    "    N <- length(x)\n",
    "    n <- length(x[which(is.na(x)==FALSE)])\n",
    "    pct <- formatC(n/N * 100)\n",
    "    nmiss <- length(x[which(is.na(x)==TRUE)])\n",
    "    npct <- formatC(nmiss/N *100)\n",
    "    l <- levels(x)\n",
    "    s <- summary(x)\n",
    "    htm <- \"<ul>\"\n",
    "    if (length(l) < 5) {\n",
    "      for (lv in l) {\n",
    "        htm <- paste(htm, \"<li><u>\", lv, \"</u>: \", s[[lv]], \"</li>\")\n",
    "      }\n",
    "      htm <- paste(htm,\"</ul>\")\n",
    "    }\n",
    "    html <- paste(\"<div class='Cell'> <u>Data type</u>: Categorical Data <p> <u>Data length</u>: \",n, \"/\", N, \" (\", pct, \"%) <br> <u>Missing</u>: \",\n",
    "                  nmiss, \" (\", npct, \"%) <p> <u>Number of levels</u>: \", length(l), \"<br>\", htm, \"</div>\")\n",
    "    return(html)\n",
    "  }\n",
    "\n",
    "  getDatesStats <- function(x) {\n",
    "    N <- length(x)\n",
    "    n <- length(x[which(is.na(x)==FALSE)])\n",
    "    pct <- formatC(n/N * 100)\n",
    "    nmiss <- length(x[which(is.na(x)==TRUE)])\n",
    "    npct <- formatC(nmiss/N *100)\n",
    "    s <- summary(x)\n",
    "    html <- paste(\"<div class='Cell'> <u>Data type</u>: Date <p> <u>Data length</u>: \",n, \"/\", N, \" (\", pct, \"%) <br> <u>Missing</u>: \",\n",
    "                  nmiss, \" (\", npct, \"%) <p> <u>Min date</u>: \", min(x, na.rm=T), \"<br><u>Max date</u>:\",max(x, na.rm=T) , \"</div>\")\n",
    "    return(html)\n",
    "  }\n",
    "\n",
    "  getStats <- function(numVar=x, vartype=1) {\n",
    "    if(vartype==1) {\n",
    "      html <- getContinuousStats(numVar)\n",
    "    } else if(vartype==2) {\n",
    "      html <- getCategortyStats(numVar)\n",
    "    } else if (vartype==3) {\n",
    "      html <- getDatesStats(numVar)\n",
    "    } else {\n",
    "      html <- \"<div class='Cell'></div>\"\n",
    "    }\n",
    "    return(html)\n",
    "  }\n",
    "\n",
    "  getOutliers <- function(x) {\n",
    "    bp <- graphics::boxplot(x,plot=FALSE)\n",
    "    return(bp$out)\n",
    "  }\n",
    "\n",
    "  getOutlierGraph <- function(x) {\n",
    "    #  mod <- tryCatch({\n",
    "    outl <- getOutliers(x)\n",
    "    df <- data.frame(x=x, cl=1)\n",
    "    if(length(outl)>0) {\n",
    "      df$cl[which(df$x %in% outl)] <- 2\n",
    "    }\n",
    "    #pl <- stats::scatter.smooth(df$x,col=df$cl)\n",
    "    pl <- tryCatch({\n",
    "      stats::scatter.smooth(df$x,col=df$cl,xlab=\"index\")\n",
    "    }, warning = function(w) {\n",
    "      n <- \"warning!\"\n",
    "    }, error = function(e) {\n",
    "      n <- \"error!\"\n",
    "    }, finally = {\n",
    "      graphics::plot(df$x ~ row.names(df),col=df$cl,xlab=\"index\")\n",
    "    })\n",
    "    ma <- mean(x, na.rm=TRUE)\n",
    "    s <- stats::sd(x, na.rm=TRUE)\n",
    "    graphics::abline(h=ma-(2*s), col=\"red\", lty=2)\n",
    "    graphics::abline(h=ma+(2*s), col=\"red\", lty=2)\n",
    "    #  }, error = function(e) {\n",
    "    #    pl <- drawFakeGraph(\"none\")\n",
    "    #  })\n",
    "    return(pl)\n",
    "  }\n",
    "\n",
    "  getScatterGraph <- function(df=data,x,y,dtype=1) {\n",
    "    #  mod <- tryCatch({\n",
    "    if(dtype==1) {\n",
    "      pl <- ggplot2::ggplot(df) + ggplot2::geom_smooth(ggplot2::aes(x=data[[x]], y=data[[y]]), method=\"loess\") + ggplot2::xlab(x) + ggplot2::ylab(y)\n",
    "    } else {\n",
    "      pl <- ggplot2::ggplot(df) + ggplot2::geom_boxplot(ggplot2::aes(y=data[[x]], color=data[[y]])) + ggplot2::xlab(x) + ggplot2::ylab(y) + ggplot2::labs(color=y)\n",
    "    }\n",
    "    return(pl)\n",
    "  }\n",
    "\n",
    "  getOutliersHtml <- function(imgname=imgname, x=x, srcdir=srcdir) {\n",
    "    bp <- getOutliers(x)\n",
    "    if (length(unique(bp)) > 10) {\n",
    "      xtrm <- paste(\"There are \", length(unique(bp)), \" outlier values\")\n",
    "    } else if (length(unique(bp)) == 0) {\n",
    "      xtrm <- \"No outlier values found\"\n",
    "    } else {\n",
    "      xtrm <- paste(formatC(unique(bp)), collapse=', ' )\n",
    "    }\n",
    "    imgsrc = paste(paste0(srcdir,\"/fig/\"),imgname, \"_2.png\",sep=\"\")\n",
    "    html <- paste0(\"<div class='Cell'><img class='origimg' src='\",imgsrc,\"' height='150' width='250'><br> <u>Outlier values</u>: <br> \", xtrm, \"</div>\")\n",
    "    return(html)\n",
    "  }\n",
    "  ################## Prepare for the report ###################\n",
    "  #report <- paste(mydir,\"/report\",sep=\"\")\n",
    "\n",
    "  ################## Check for values for rn ##################\n",
    "  if(!is.null(rn)) {\n",
    "    if(length(rn)!=ncol(data)) {\n",
    "      message(\"the value of the 'rn' argument was avoided because it does not have the same number of columns of the dataframe\")\n",
    "      rn <- NULL\n",
    "    }\n",
    "    xname <- rn\n",
    "    names(xname) <- names(data)\n",
    "  } else {\n",
    "    xname <- NULL\n",
    "  }\n",
    "\n",
    "  report <- dir\n",
    "  if (!file.exists(report)) {\n",
    "    dir.create(report)\n",
    "  }\n",
    "  fig <- paste(report,\"/fig\",sep=\"\")\n",
    "  if (!file.exists(fig)) {\n",
    "    dir.create(fig)\n",
    "  }\n",
    "  if (get_computer_type()==\"pc\") {\n",
    "    srcdir <- paste0(getwd(),\"/\",report)\n",
    "  } else {\n",
    "    #srcdir <- paste0(\"file_show?path=\",getwd(),\"/\",report)\n",
    "    srcdir <- paste0(\"/view/\",getwd(),\"/report\")\n",
    "  }\n",
    "  # determine which columns are integer\n",
    "  int_col <- which(sapply(data, is.integer))\n",
    "  int_col <- c(int_col,(which(sapply(data, is.numeric))))\n",
    "  mi <- vector()\n",
    "  # find only those integers with less than 10 unique values and convert to factor\n",
    "  for (li in int_col) {\n",
    "    if (length(unique(data[,li])) < factorSize) {\n",
    "      mi <- c(mi,li)\n",
    "      if (is.factor(data[,li]) == FALSE) {\n",
    "        data[,li] <- factor(data[,li])\n",
    "      }\n",
    "    }\n",
    "  }\n",
    "\n",
    "  str_col <- which(sapply(data, is.character))\n",
    "  mi <- vector()\n",
    "  # find only those integers with less than 10 unique values and convert to factor\n",
    "  for (li in str_col) {\n",
    "    mi <- c(mi,li)\n",
    "    data[,li] <- factor(data[,li])\n",
    "  }\n",
    "\n",
    "  # create the html report page\n",
    "  myhtml <- paste(report,\"/report.html\",sep=\"\")\n",
    "  cat(\"<!DOCTYPE html>\n",
    "      <html>\n",
    "      <head>\n",
    "      <title>Data Visualization</title>\n",
    "      <meta http-equiv='Content-Type' content='text/html; charset=UTF-8' />\n",
    "      <link rel='stylesheet' href='http://code.jquery.com/mobile/1.4.5/jquery.mobile-1.4.5.min.css'>\n",
    "\n",
    "      <script src='http://code.jquery.com/jquery-1.10.2.js'></script>\n",
    "      <script>\n",
    "      $(document).ready(function(){\n",
    "      $('.onetoone').hide();\n",
    "      });\n",
    "\n",
    "      $(function() {\n",
    "      $('.origimg').click(function(e) {\n",
    "      $('#popup_img').attr('src',$(this).attr('src'));\n",
    "      $('#myContainer').hide();\n",
    "      var pos = $(document).scrollTop();\n",
    "      $('#myContainer').css({'top':pos+20,'left':250, 'position':'absolute', 'border':'1px solid black', 'padding':'0px'});\n",
    "      $('#myContainer').show();\n",
    "      });\n",
    "      $('#myContainer').click(function(e) {\n",
    "      $('#myContainer').hide();\n",
    "      });\n",
    "\n",
    "      $('#myform2').submit(function(e) {\n",
    "      e.preventDefault();\n",
    "      });\n",
    "\n",
    "      $('#onetoone').on('click',function() {\n",
    "      console.log('onetone button - 1');\n",
    "      $('#onetoone').hide();\n",
    "      $('#aslist').show();\n",
    "      // To show only individual rows:\n",
    "      $('.Row').hide();\n",
    "      $('.onetoone').show();\n",
    "      // then we iterate\n",
    "      var i = $('.Row').length;\n",
    "      // Then we iterate\n",
    "      var nxt = $('#idx').val();\n",
    "      if (nxt < i & nxt >0) {\n",
    "      $('.Row').hide();\n",
    "      $('.Row').eq(0).show();\n",
    "      $('.Row').eq(nxt).show();\n",
    "      } else {\n",
    "      $('#idx').val(1)\n",
    "      }\n",
    "      console.log('onetone button - 2');\n",
    "      });\n",
    "\n",
    "      $('#aslist').on('click',function() {\n",
    "      console.log('aslist button - 1');\n",
    "      $('#onetoone').show();\n",
    "      $('#aslist').hide();\n",
    "      $('.onetoone').hide();\n",
    "      $('.Row').show();\n",
    "      console.log('aslist button - 2');\n",
    "      });\n",
    "\n",
    "      $('#less').on('click',function(){\n",
    "      console.log('less button - 1');\n",
    "      var i = $('.Row').length;\n",
    "      var nxt = parseInt($('#idx').val(),10) - 1;\n",
    "      if (nxt < i & nxt >0) {\n",
    "      $('#idx').val(nxt)\n",
    "      $('.Row').hide();\n",
    "      $('.Row').eq(0).show();\n",
    "      $('.Row').eq(nxt).show();\n",
    "      } else {\n",
    "      $('#idx').val(1)\n",
    "      }\n",
    "      console.log('less button - 2');\n",
    "      });\n",
    "\n",
    "      $('#more').on('click',function(){\n",
    "      console.log('more button - 1');\n",
    "      var i = $('.Row').length;\n",
    "      var nxt = parseInt($('#idx').val(),10) + 1;\n",
    "      if (nxt < i & nxt >0) {\n",
    "      $('#idx').val(nxt)\n",
    "      $('.Row').hide();\n",
    "      $('.Row').eq(0).show();\n",
    "      $('.Row').eq(nxt).show();\n",
    "      } else {\n",
    "      $('#idx').val(i)\n",
    "      }\n",
    "      console.log('more button - 2');\n",
    "      });\n",
    "\n",
    "      $('#idx').on('change', function(){\n",
    "      console.log('idx changed - 1');\n",
    "      var i = $('.Row').length;\n",
    "      var nxt = $('#idx').val();\n",
    "      if (nxt < i & nxt >0) {\n",
    "      $('#idx').val(nxt)\n",
    "      $('.Row').hide();\n",
    "      $('.Row').eq(0).show();\n",
    "      $('.Row').eq(nxt).show();\n",
    "      } else {\n",
    "      $('#idx').val(i)\n",
    "      }\n",
    "      console.log('idx changed - 2');\n",
    "      });\n",
    "      });\n",
    "\n",
    "      </script>\n",
    "\n",
    "      <style type='text/css'>\n",
    "      .Table\n",
    "      {\n",
    "      display: table;\n",
    "      }\n",
    "      .Title\n",
    "      {\n",
    "      display: table-caption;\n",
    "      text-align: center;\n",
    "      font-weight: bold;\n",
    "      font-size: larger;\n",
    "      background-color:#4C6F50;\n",
    "      color: #fff;\n",
    "      }\n",
    "      .Row\n",
    "      {\n",
    "      display: table-row;\n",
    "      }\n",
    "      .Row:nth-child(even) {\n",
    "        background-color: #56882433;\n",
    "      }\n",
    "      .Cell\n",
    "      {\n",
    "      display: table-cell;\n",
    "      border: solid;\n",
    "      border-width: thin;\n",
    "      padding-left: 5px;\n",
    "      padding-right: 5px;\n",
    "      vertical-align: top;\n",
    "      font-family: Arial, Helvetica, sans-serif;\n",
    "      font-size: 14px;\n",
    "      }\n",
    "      </style>\n",
    "\n",
    "      </head>\n",
    "\n",
    "      <body>\n",
    "      <div id='pageone' data-role='main' class='ui-content'>\n",
    "      \", file = myhtml, sep='\\n',append=FALSE)\n",
    "\n",
    "  html <- paste(\"<p><p><h1> Data Visualization & Exploration </h1>\n",
    "                <form>\n",
    "                <input type='button' id='onetoone' value='Show as Cards'>\n",
    "                <input type='button' id='aslist' class='onetoone' value='Show as List'>\n",
    "                </form>\n",
    "                <p>\n",
    "                \")\n",
    "  cat(html, file = myhtml, sep='\\n', append=TRUE)\n",
    "  # begin table\n",
    "  alt1 <- ifelse(is.null(y)== TRUE, \"\", \"<div class='Cell Title'> Dependent <br> Variable <br> Distribution </div>\")\n",
    "  html <- paste(\"<p><p>\n",
    "                <div class='Table'>\n",
    "                <div class='Row'>\n",
    "                <div class='Cell Title'> Variable </div>\n",
    "                <div class='Cell Title'> Distribution </div>\n",
    "                <div class='Cell Title'> Descriptive <br> Statistics</div>\n",
    "                <div class='Cell Title'> Outliers </div>\"\n",
    "                , alt1,\n",
    "                \"</div>\")\n",
    "  cat(html, file = myhtml, sep='\\n', append=TRUE)\n",
    "\n",
    "  #### determinate the type of each variable...\n",
    "  data_types <- sapply(sapply(data, class), whatVarType)\n",
    "  ln <- length(data)\n",
    "  ii <- 0\n",
    "  pb <- utils::txtProgressBar(min=0,max=ln,style=3)\n",
    "  for(x in names(data)) {\n",
    "\n",
    "    ## check if the value has at least more than one unique value...\n",
    "    if(length(unique(data[[x]])) < 2) {\n",
    "      message(paste(\"The variable\",x,\"has less than two unique values, so will not be included\"))\n",
    "    } else {\n",
    "\n",
    "      if(debug==TRUE) {\n",
    "        print(x)\n",
    "      } else {\n",
    "        pb <- utils::txtProgressBar(min=0,max=ln,style=3)\n",
    "      }\n",
    "\n",
    "      html <- paste(\"<div class='Row'><div class='Cell'><b>\",x,\"</b><p>\",xname[x],\"</p></div>\")\n",
    "\n",
    "      cat(html, file = myhtml, sep='\\n', append=TRUE)\n",
    "      #### initialize the first graph\n",
    "      imgname = paste(fig,\"/\",x, \"_1.png\",sep=\"\")\n",
    "      imgsrc = paste(paste0(srcdir,\"/fig/\"),x, \"_1.png\",sep=\"\")\n",
    "      ### send the data with the type to generate the correct graph..\n",
    "      grDevices::png(imgname)\n",
    "      drawGraphOne(x, data[[x]], data_types[x])\n",
    "      grDevices::dev.off()\n",
    "      html <- paste0(\"<div class='Cell'><img class='origimg'  src='\",imgsrc,\"' height='150' width='150'><br></div>\")\n",
    "      cat(html, file = myhtml, sep='\\n', append=TRUE)\n",
    "\n",
    "      # second, show the statistics\n",
    "      html <- getStats(data[[x]],data_types[x])\n",
    "      cat(html, file = myhtml, sep='\\n', append=TRUE)\n",
    "\n",
    "      # third, determine the outliers\n",
    "      imgname = paste(fig,\"/\",x, \"_2.png\",sep=\"\")\n",
    "      if(data_types[x]==1) {\n",
    "        grDevices::png(imgname)\n",
    "        getOutlierGraph(data[[x]])\n",
    "        grDevices::dev.off()\n",
    "        html <- getOutliersHtml(x,data[[x]],srcdir)\n",
    "      } else {\n",
    "        html <- \"<div class='Cell'></div>\"\n",
    "      }\n",
    "      cat(html, file = myhtml, sep='\\n', append=TRUE)\n",
    "\n",
    "      # fourth, if y is assigned, make a corresponding plot\n",
    "      if(is.null(y)==FALSE) {\n",
    "        imgname = paste(fig,\"/\",x, \"_3.png\",sep=\"\")\n",
    "        imgsrc = paste(paste0(srcdir,\"/fig/\"),x, \"_3.png\",sep=\"\")\n",
    "        #print(imgname)\n",
    "        grDevices::png(imgname)\n",
    "        ### scatter.smooth(data[[x]] ~ data[[y]])\n",
    "        #suppressWarnings(getScatterGraph(data,x,y,data_types[y]))\n",
    "        plot(getScatterGraph(data,x,y,data_types[y]))\n",
    "        grDevices::dev.off()\n",
    "        html <- paste0(\"<div class='Cell'><img class='origimg' src='\",imgsrc,\"' height='150' width='150'><br></div>\")\n",
    "        cat(html, file = myhtml, sep='\\n', append=TRUE)\n",
    "      }\n",
    "      html <- paste(\"</div>\")\n",
    "      cat(html, file = myhtml, sep='\\n', append=TRUE)\n",
    "\n",
    "      if(debug==FALSE) {\n",
    "        utils::setTxtProgressBar(pb,ii)\n",
    "        ii <- ii + 1\n",
    "      }\n",
    "    }\n",
    "  }\n",
    "  html <- paste(\"</div>\")\n",
    "  cat(html, file = myhtml, sep='\\n', append=TRUE)\n",
    "  # end table\n",
    "  html <- paste(\"</div>\n",
    "                <div data-role='popup' id='myContainer' style='display: none;'>\n",
    "                <img id='popup_img' src='' />\n",
    "                </div>\n",
    "                </div>\n",
    "                </div>\n",
    "                </div>\n",
    "                <p>\n",
    "                <div class='onetoone'>\n",
    "                <form id='myform2'>\n",
    "                <span> <input type='button' id='less' value=' << '> </span>\n",
    "                <span> <input id='idx' name='idx' value='1'></input></span>\n",
    "                <span> <input type='button' id='more' value=' >> '> </span>\n",
    "                </form>\n",
    "                </div>\n",
    "                <p>\n",
    "                </body></html>\n",
    "                \")\n",
    "  cat(html, file = myhtml, sep='\\n', append=TRUE)\n",
    "  if(.Platform$OS.type == \"unix\") {\n",
    "    system(paste(\"start /b \", myhtml))\n",
    "  } else {\n",
    "    shell(paste(\"explorer \", gsub(\"/\", \"\\\\\\\\\", myhtml) ), intern=TRUE)\n",
    "  }\n",
    "}\n",
    "\n",
    "###################### END exploreData ###############"
   ]
  },
  {
   "cell_type": "code",
   "execution_count": 6,
   "metadata": {},
   "outputs": [
    {
     "name": "stdout",
     "output_type": "stream",
     "text": [
      "  |                                                                      |   0%"
     ]
    },
    {
     "name": "stderr",
     "output_type": "stream",
     "text": [
      "Warning message:\n",
      "\"Removed 3176 rows containing non-finite values (stat_smooth).\"\n"
     ]
    },
    {
     "name": "stdout",
     "output_type": "stream",
     "text": [
      "\r",
      "  |                                                                            \r",
      "  |                                                                      |   0%"
     ]
    },
    {
     "name": "stderr",
     "output_type": "stream",
     "text": [
      "Warning message:\n",
      "\"Removed 3176 rows containing non-finite values (stat_smooth).\"\n"
     ]
    },
    {
     "name": "stdout",
     "output_type": "stream",
     "text": [
      "  |                                                                      |   0%"
     ]
    },
    {
     "name": "stderr",
     "output_type": "stream",
     "text": [
      "Warning message:\n",
      "\"Removed 3176 rows containing non-finite values (stat_smooth).\"\n"
     ]
    },
    {
     "name": "stdout",
     "output_type": "stream",
     "text": [
      "  |                                                                      |   0%"
     ]
    },
    {
     "name": "stderr",
     "output_type": "stream",
     "text": [
      "Warning message:\n",
      "\"Removed 3179 rows containing non-finite values (stat_smooth).\"\n"
     ]
    },
    {
     "name": "stdout",
     "output_type": "stream",
     "text": [
      "  |                                                                      |   0%"
     ]
    },
    {
     "name": "stderr",
     "output_type": "stream",
     "text": [
      "Warning message:\n",
      "\"Removed 7228 rows containing non-finite values (stat_smooth).\"\n"
     ]
    },
    {
     "name": "stdout",
     "output_type": "stream",
     "text": [
      "  |                                                                      |   0%"
     ]
    },
    {
     "name": "stderr",
     "output_type": "stream",
     "text": [
      "Warning message:\n",
      "\"Removed 10315 rows containing non-finite values (stat_smooth).\"\n"
     ]
    },
    {
     "name": "stdout",
     "output_type": "stream",
     "text": [
      "  |                                                                      |   0%"
     ]
    },
    {
     "name": "stderr",
     "output_type": "stream",
     "text": [
      "Warning message:\n",
      "\"Removed 7209 rows containing non-finite values (stat_smooth).\"\n"
     ]
    },
    {
     "name": "stdout",
     "output_type": "stream",
     "text": [
      "  |                                                                      |   0%"
     ]
    },
    {
     "name": "stderr",
     "output_type": "stream",
     "text": [
      "Warning message:\n",
      "\"Removed 11960 rows containing non-finite values (stat_smooth).\"\n"
     ]
    },
    {
     "name": "stdout",
     "output_type": "stream",
     "text": [
      "  |                                                                      |   0%"
     ]
    },
    {
     "name": "stderr",
     "output_type": "stream",
     "text": [
      "Warning message:\n",
      "\"Removed 13558 rows containing non-finite values (stat_smooth).\"\n"
     ]
    },
    {
     "name": "stdout",
     "output_type": "stream",
     "text": [
      "  |                                                                      |   0%"
     ]
    },
    {
     "name": "stderr",
     "output_type": "stream",
     "text": [
      "Warning message:\n",
      "\"Removed 13156 rows containing non-finite values (stat_smooth).\"\n"
     ]
    },
    {
     "name": "stdout",
     "output_type": "stream",
     "text": [
      "  |                                                                      |   0%"
     ]
    },
    {
     "name": "stderr",
     "output_type": "stream",
     "text": [
      "Warning message:\n",
      "\"Removed 7411 rows containing non-finite values (stat_smooth).\"\n"
     ]
    },
    {
     "name": "stdout",
     "output_type": "stream",
     "text": [
      "  |                                                                      |   0%"
     ]
    },
    {
     "name": "stderr",
     "output_type": "stream",
     "text": [
      "Warning message:\n",
      "\"Removed 13124 rows containing non-finite values (stat_smooth).\"\n"
     ]
    },
    {
     "name": "stdout",
     "output_type": "stream",
     "text": [
      "  |                                                                      |   0%"
     ]
    },
    {
     "name": "stderr",
     "output_type": "stream",
     "text": [
      "Warning message:\n",
      "\"Removed 13036 rows containing non-finite values (stat_smooth).\"\n"
     ]
    },
    {
     "name": "stdout",
     "output_type": "stream",
     "text": [
      "  |                                                                      |   0%"
     ]
    },
    {
     "name": "stderr",
     "output_type": "stream",
     "text": [
      "Warning message:\n",
      "\"Removed 13558 rows containing non-finite values (stat_smooth).\"\n"
     ]
    },
    {
     "name": "stdout",
     "output_type": "stream",
     "text": [
      "  |                                                                      |   0%"
     ]
    },
    {
     "name": "stderr",
     "output_type": "stream",
     "text": [
      "Warning message:\n",
      "\"Removed 7228 rows containing non-finite values (stat_smooth).\"\n"
     ]
    },
    {
     "name": "stdout",
     "output_type": "stream",
     "text": [
      "  |                                                                      |   0%"
     ]
    },
    {
     "name": "stderr",
     "output_type": "stream",
     "text": [
      "Warning message:\n",
      "\"Removed 3183 rows containing non-finite values (stat_smooth).\"\n"
     ]
    },
    {
     "name": "stdout",
     "output_type": "stream",
     "text": [
      "  |                                                                      |   0%"
     ]
    },
    {
     "name": "stderr",
     "output_type": "stream",
     "text": [
      "Warning message:\n",
      "\"Removed 9205 rows containing non-finite values (stat_smooth).\"\n"
     ]
    },
    {
     "name": "stdout",
     "output_type": "stream",
     "text": [
      "  |                                                                      |   0%"
     ]
    },
    {
     "name": "stderr",
     "output_type": "stream",
     "text": [
      "Warning message:\n",
      "\"Removed 3176 rows containing non-finite values (stat_smooth).\"\n"
     ]
    },
    {
     "name": "stdout",
     "output_type": "stream",
     "text": [
      "  |                                                                      |   0%"
     ]
    },
    {
     "name": "stderr",
     "output_type": "stream",
     "text": [
      "Warning message:\n",
      "\"Removed 13134 rows containing non-finite values (stat_smooth).\"\n"
     ]
    },
    {
     "name": "stdout",
     "output_type": "stream",
     "text": [
      "  |                                                                      |   0%"
     ]
    },
    {
     "name": "stderr",
     "output_type": "stream",
     "text": [
      "Warning message:\n",
      "\"Removed 7411 rows containing non-finite values (stat_smooth).\"\n"
     ]
    },
    {
     "name": "stdout",
     "output_type": "stream",
     "text": [
      "  |                                                                      |   0%"
     ]
    },
    {
     "name": "stderr",
     "output_type": "stream",
     "text": [
      "Warning message:\n",
      "\"Removed 9068 rows containing non-finite values (stat_smooth).\"\n"
     ]
    },
    {
     "name": "stdout",
     "output_type": "stream",
     "text": [
      "  |                                                                      |   0%"
     ]
    },
    {
     "name": "stderr",
     "output_type": "stream",
     "text": [
      "Warning message:\n",
      "\"Removed 12979 rows containing non-finite values (stat_smooth).\"\n"
     ]
    },
    {
     "name": "stdout",
     "output_type": "stream",
     "text": [
      "  |                                                                      |   0%"
     ]
    },
    {
     "name": "stderr",
     "output_type": "stream",
     "text": [
      "Warning message:\n",
      "\"Removed 7245 rows containing non-finite values (stat_smooth).\"\n"
     ]
    },
    {
     "name": "stdout",
     "output_type": "stream",
     "text": [
      "  |                                                                      |   0%"
     ]
    },
    {
     "name": "stderr",
     "output_type": "stream",
     "text": [
      "Warning message:\n",
      "\"Removed 3234 rows containing non-finite values (stat_smooth).\"\n"
     ]
    },
    {
     "name": "stdout",
     "output_type": "stream",
     "text": [
      "  |                                                                      |   0%"
     ]
    },
    {
     "name": "stderr",
     "output_type": "stream",
     "text": [
      "Warning message:\n",
      "\"Removed 6037 rows containing non-finite values (stat_smooth).\"\n"
     ]
    },
    {
     "name": "stdout",
     "output_type": "stream",
     "text": [
      "  |                                                                      |   0%"
     ]
    },
    {
     "name": "stderr",
     "output_type": "stream",
     "text": [
      "Warning message:\n",
      "\"Removed 13170 rows containing non-finite values (stat_smooth).\"\n"
     ]
    },
    {
     "name": "stdout",
     "output_type": "stream",
     "text": [
      "  |                                                                      |   0%"
     ]
    },
    {
     "name": "stderr",
     "output_type": "stream",
     "text": [
      "Warning message:\n",
      "\"Removed 12978 rows containing non-finite values (stat_smooth).\"\n"
     ]
    },
    {
     "name": "stdout",
     "output_type": "stream",
     "text": [
      "  |                                                                      |   0%"
     ]
    },
    {
     "name": "stderr",
     "output_type": "stream",
     "text": [
      "Warning message:\n",
      "\"Removed 12979 rows containing non-finite values (stat_smooth).\"\n"
     ]
    },
    {
     "name": "stdout",
     "output_type": "stream",
     "text": [
      "  |                                                                      |   0%"
     ]
    },
    {
     "name": "stderr",
     "output_type": "stream",
     "text": [
      "Warning message:\n",
      "\"Removed 3775 rows containing non-finite values (stat_smooth).\"\n"
     ]
    },
    {
     "name": "stdout",
     "output_type": "stream",
     "text": [
      "  |                                                                      |   0%"
     ]
    },
    {
     "name": "stderr",
     "output_type": "stream",
     "text": [
      "Warning message:\n",
      "\"Removed 7228 rows containing non-finite values (stat_smooth).\"\n"
     ]
    },
    {
     "name": "stdout",
     "output_type": "stream",
     "text": [
      "  |                                                                      |   0%"
     ]
    },
    {
     "name": "stderr",
     "output_type": "stream",
     "text": [
      "Warning message:\n",
      "\"Removed 11955 rows containing non-finite values (stat_smooth).\"\n"
     ]
    },
    {
     "name": "stdout",
     "output_type": "stream",
     "text": [
      "  |                                                                      |   0%"
     ]
    },
    {
     "name": "stderr",
     "output_type": "stream",
     "text": [
      "Warning message:\n",
      "\"Removed 9293 rows containing non-finite values (stat_smooth).\"\n"
     ]
    },
    {
     "name": "stdout",
     "output_type": "stream",
     "text": [
      "  |                                                                      |   0%"
     ]
    },
    {
     "name": "stderr",
     "output_type": "stream",
     "text": [
      "Warning message:\n",
      "\"Removed 13086 rows containing non-finite values (stat_smooth).\"\n"
     ]
    },
    {
     "name": "stdout",
     "output_type": "stream",
     "text": [
      "  |                                                                      |   0%"
     ]
    },
    {
     "name": "stderr",
     "output_type": "stream",
     "text": [
      "Warning message:\n",
      "\"Removed 6828 rows containing non-finite values (stat_smooth).\"\n"
     ]
    },
    {
     "name": "stdout",
     "output_type": "stream",
     "text": [
      "  |                                                                      |   0%"
     ]
    },
    {
     "name": "stderr",
     "output_type": "stream",
     "text": [
      "Warning message:\n",
      "\"Removed 9197 rows containing non-finite values (stat_smooth).\"\n"
     ]
    },
    {
     "name": "stdout",
     "output_type": "stream",
     "text": [
      "  |                                                                      |   0%"
     ]
    },
    {
     "name": "stderr",
     "output_type": "stream",
     "text": [
      "Warning message:\n",
      "\"Removed 7256 rows containing non-finite values (stat_smooth).\"\n"
     ]
    },
    {
     "name": "stdout",
     "output_type": "stream",
     "text": [
      "  |                                                                      |   0%"
     ]
    },
    {
     "name": "stderr",
     "output_type": "stream",
     "text": [
      "Warning message:\n",
      "\"Removed 7105 rows containing non-finite values (stat_smooth).\"\n"
     ]
    },
    {
     "name": "stdout",
     "output_type": "stream",
     "text": [
      "  |                                                                      |   0%"
     ]
    },
    {
     "name": "stderr",
     "output_type": "stream",
     "text": [
      "Warning message:\n",
      "\"Removed 7309 rows containing non-finite values (stat_smooth).\"\n"
     ]
    },
    {
     "name": "stdout",
     "output_type": "stream",
     "text": [
      "  |                                                                      |   0%"
     ]
    },
    {
     "name": "stderr",
     "output_type": "stream",
     "text": [
      "Warning message:\n",
      "\"Removed 13134 rows containing non-finite values (stat_smooth).\"\n"
     ]
    },
    {
     "name": "stdout",
     "output_type": "stream",
     "text": [
      "  |                                                                      |   0%"
     ]
    },
    {
     "name": "stderr",
     "output_type": "stream",
     "text": [
      "Warning message:\n",
      "\"Removed 3179 rows containing non-finite values (stat_smooth).\"\n"
     ]
    },
    {
     "name": "stdout",
     "output_type": "stream",
     "text": [
      "  |                                                                      |   0%"
     ]
    },
    {
     "name": "stderr",
     "output_type": "stream",
     "text": [
      "Warning message:\n",
      "\"Removed 12979 rows containing non-finite values (stat_smooth).\"\n"
     ]
    },
    {
     "name": "stdout",
     "output_type": "stream",
     "text": [
      "  |                                                                      |   0%"
     ]
    },
    {
     "name": "stderr",
     "output_type": "stream",
     "text": [
      "Warning message:\n",
      "\"Removed 3184 rows containing non-finite values (stat_smooth).\"\n"
     ]
    },
    {
     "name": "stdout",
     "output_type": "stream",
     "text": [
      "  |                                                                      |   0%"
     ]
    },
    {
     "name": "stderr",
     "output_type": "stream",
     "text": [
      "Warning message:\n",
      "\"Removed 7411 rows containing non-finite values (stat_smooth).\"\n"
     ]
    },
    {
     "name": "stdout",
     "output_type": "stream",
     "text": [
      "  |                                                                      |   0%"
     ]
    },
    {
     "name": "stderr",
     "output_type": "stream",
     "text": [
      "Warning message:\n",
      "\"Removed 7411 rows containing non-finite values (stat_smooth).\"\n"
     ]
    },
    {
     "name": "stdout",
     "output_type": "stream",
     "text": [
      "  |                                                                      |   0%"
     ]
    },
    {
     "name": "stderr",
     "output_type": "stream",
     "text": [
      "Warning message:\n",
      "\"Removed 7228 rows containing non-finite values (stat_smooth).\"\n"
     ]
    },
    {
     "name": "stdout",
     "output_type": "stream",
     "text": [
      "  |                                                                      |   0%"
     ]
    },
    {
     "name": "stderr",
     "output_type": "stream",
     "text": [
      "Warning message:\n",
      "\"Removed 13080 rows containing non-finite values (stat_smooth).\"\n"
     ]
    },
    {
     "name": "stdout",
     "output_type": "stream",
     "text": [
      "  |                                                                      |   0%"
     ]
    },
    {
     "name": "stderr",
     "output_type": "stream",
     "text": [
      "Warning message:\n",
      "\"Removed 13222 rows containing non-finite values (stat_smooth).\"\n"
     ]
    },
    {
     "name": "stdout",
     "output_type": "stream",
     "text": [
      "  |                                                                      |   0%"
     ]
    },
    {
     "name": "stderr",
     "output_type": "stream",
     "text": [
      "Warning message:\n",
      "\"Removed 7411 rows containing non-finite values (stat_smooth).\"\n"
     ]
    },
    {
     "name": "stdout",
     "output_type": "stream",
     "text": [
      "  |                                                                      |   0%"
     ]
    },
    {
     "name": "stderr",
     "output_type": "stream",
     "text": [
      "Warning message:\n",
      "\"Removed 12243 rows containing non-finite values (stat_smooth).\"\n"
     ]
    },
    {
     "name": "stdout",
     "output_type": "stream",
     "text": [
      "  |                                                                      |   0%"
     ]
    },
    {
     "name": "stderr",
     "output_type": "stream",
     "text": [
      "Warning message:\n",
      "\"Removed 10315 rows containing non-finite values (stat_smooth).\"\n"
     ]
    },
    {
     "name": "stdout",
     "output_type": "stream",
     "text": [
      "  |                                                                      |   0%"
     ]
    },
    {
     "name": "stderr",
     "output_type": "stream",
     "text": [
      "Warning message:\n",
      "\"Removed 13124 rows containing non-finite values (stat_smooth).\"\n"
     ]
    },
    {
     "name": "stdout",
     "output_type": "stream",
     "text": [
      "  |                                                                      |   0%"
     ]
    },
    {
     "name": "stderr",
     "output_type": "stream",
     "text": [
      "Warning message:\n",
      "\"Removed 9079 rows containing non-finite values (stat_smooth).\"\n"
     ]
    },
    {
     "name": "stdout",
     "output_type": "stream",
     "text": [
      "  |                                                                      |   0%"
     ]
    },
    {
     "name": "stderr",
     "output_type": "stream",
     "text": [
      "Warning message:\n",
      "\"Removed 12978 rows containing non-finite values (stat_smooth).\"\n"
     ]
    },
    {
     "name": "stdout",
     "output_type": "stream",
     "text": [
      "  |                                                                      |   0%"
     ]
    },
    {
     "name": "stderr",
     "output_type": "stream",
     "text": [
      "Warning message:\n",
      "\"Removed 13124 rows containing non-finite values (stat_smooth).\"\n"
     ]
    },
    {
     "name": "stdout",
     "output_type": "stream",
     "text": [
      "  |                                                                      |   0%"
     ]
    },
    {
     "name": "stderr",
     "output_type": "stream",
     "text": [
      "Warning message:\n",
      "\"Removed 12978 rows containing non-finite values (stat_smooth).\"\n"
     ]
    },
    {
     "name": "stdout",
     "output_type": "stream",
     "text": [
      "  |                                                                      |   0%"
     ]
    },
    {
     "name": "stderr",
     "output_type": "stream",
     "text": [
      "Warning message:\n",
      "\"Removed 7228 rows containing non-finite values (stat_smooth).\"\n"
     ]
    },
    {
     "name": "stdout",
     "output_type": "stream",
     "text": [
      "  |                                                                      |   0%"
     ]
    },
    {
     "name": "stderr",
     "output_type": "stream",
     "text": [
      "Warning message:\n",
      "\"Removed 8236 rows containing non-finite values (stat_smooth).\"\n"
     ]
    },
    {
     "name": "stdout",
     "output_type": "stream",
     "text": [
      "  |                                                                      |   0%"
     ]
    },
    {
     "name": "stderr",
     "output_type": "stream",
     "text": [
      "Warning message:\n",
      "\"Removed 12979 rows containing non-finite values (stat_smooth).\"\n"
     ]
    },
    {
     "name": "stdout",
     "output_type": "stream",
     "text": [
      "  |                                                                      |   0%"
     ]
    },
    {
     "name": "stderr",
     "output_type": "stream",
     "text": [
      "Warning message:\n",
      "\"Removed 12902 rows containing non-finite values (stat_smooth).\"\n"
     ]
    },
    {
     "name": "stdout",
     "output_type": "stream",
     "text": [
      "  |                                                                      |   0%"
     ]
    },
    {
     "name": "stderr",
     "output_type": "stream",
     "text": [
      "Warning message:\n",
      "\"Removed 7411 rows containing non-finite values (stat_smooth).\"\n"
     ]
    },
    {
     "name": "stdout",
     "output_type": "stream",
     "text": [
      "  |                                                                      |   0%"
     ]
    },
    {
     "name": "stderr",
     "output_type": "stream",
     "text": [
      "Warning message:\n",
      "\"Removed 13628 rows containing non-finite values (stat_smooth).\"\n"
     ]
    },
    {
     "name": "stdout",
     "output_type": "stream",
     "text": [
      "  |                                                                      |   0%"
     ]
    },
    {
     "name": "stderr",
     "output_type": "stream",
     "text": [
      "Warning message:\n",
      "\"Removed 10315 rows containing non-finite values (stat_smooth).\"\n"
     ]
    },
    {
     "name": "stdout",
     "output_type": "stream",
     "text": [
      "  |                                                                      |   0%"
     ]
    },
    {
     "name": "stderr",
     "output_type": "stream",
     "text": [
      "Warning message:\n",
      "\"Removed 7411 rows containing non-finite values (stat_smooth).\"\n"
     ]
    },
    {
     "name": "stdout",
     "output_type": "stream",
     "text": [
      "  |                                                                      |   0%"
     ]
    },
    {
     "name": "stderr",
     "output_type": "stream",
     "text": [
      "Warning message:\n",
      "\"Removed 7228 rows containing non-finite values (stat_smooth).\"\n"
     ]
    },
    {
     "name": "stdout",
     "output_type": "stream",
     "text": [
      "  |                                                                      |   0%"
     ]
    },
    {
     "name": "stderr",
     "output_type": "stream",
     "text": [
      "Warning message:\n",
      "\"Removed 7241 rows containing non-finite values (stat_smooth).\"\n"
     ]
    },
    {
     "name": "stdout",
     "output_type": "stream",
     "text": [
      "  |                                                                      |   0%"
     ]
    },
    {
     "name": "stderr",
     "output_type": "stream",
     "text": [
      "Warning message:\n",
      "\"Removed 3709 rows containing non-finite values (stat_smooth).\"\n"
     ]
    },
    {
     "name": "stdout",
     "output_type": "stream",
     "text": [
      "  |                                                                      |   0%"
     ]
    },
    {
     "name": "stderr",
     "output_type": "stream",
     "text": [
      "Warning message:\n",
      "\"Removed 7228 rows containing non-finite values (stat_smooth).\"\n"
     ]
    },
    {
     "name": "stdout",
     "output_type": "stream",
     "text": [
      "  |                                                                      |   0%"
     ]
    },
    {
     "name": "stderr",
     "output_type": "stream",
     "text": [
      "Warning message:\n",
      "\"Removed 13139 rows containing non-finite values (stat_smooth).\"\n"
     ]
    },
    {
     "name": "stdout",
     "output_type": "stream",
     "text": [
      "  |                                                                      |   0%"
     ]
    },
    {
     "name": "stderr",
     "output_type": "stream",
     "text": [
      "Warning message:\n",
      "\"Removed 7505 rows containing non-finite values (stat_smooth).\"\n"
     ]
    },
    {
     "name": "stdout",
     "output_type": "stream",
     "text": [
      "  |                                                                      |   0%"
     ]
    },
    {
     "name": "stderr",
     "output_type": "stream",
     "text": [
      "Warning message:\n",
      "\"Removed 4640 rows containing non-finite values (stat_smooth).\"\n"
     ]
    },
    {
     "name": "stdout",
     "output_type": "stream",
     "text": [
      "  |                                                                      |   0%"
     ]
    },
    {
     "name": "stderr",
     "output_type": "stream",
     "text": [
      "Warning message:\n",
      "\"Removed 6335 rows containing non-finite values (stat_smooth).\"\n"
     ]
    },
    {
     "name": "stdout",
     "output_type": "stream",
     "text": [
      "  |                                                                      |   0%"
     ]
    },
    {
     "name": "stderr",
     "output_type": "stream",
     "text": [
      "Warning message:\n",
      "\"Removed 13130 rows containing non-finite values (stat_smooth).\"\n"
     ]
    },
    {
     "name": "stdout",
     "output_type": "stream",
     "text": [
      "  |                                                                      |   0%"
     ]
    },
    {
     "name": "stderr",
     "output_type": "stream",
     "text": [
      "Warning message:\n",
      "\"Removed 5055 rows containing non-finite values (stat_smooth).\"\n"
     ]
    },
    {
     "name": "stdout",
     "output_type": "stream",
     "text": [
      "  |                                                                      |   0%"
     ]
    },
    {
     "name": "stderr",
     "output_type": "stream",
     "text": [
      "Warning message:\n",
      "\"Removed 13390 rows containing non-finite values (stat_smooth).\"\n"
     ]
    },
    {
     "name": "stdout",
     "output_type": "stream",
     "text": [
      "  |                                                                      |   0%"
     ]
    },
    {
     "name": "stderr",
     "output_type": "stream",
     "text": [
      "Warning message:\n",
      "\"Removed 3177 rows containing non-finite values (stat_smooth).\"\n"
     ]
    },
    {
     "name": "stdout",
     "output_type": "stream",
     "text": [
      "  |                                                                      |   0%"
     ]
    },
    {
     "name": "stderr",
     "output_type": "stream",
     "text": [
      "Warning message:\n",
      "\"Removed 9196 rows containing non-finite values (stat_smooth).\"\n"
     ]
    },
    {
     "name": "stdout",
     "output_type": "stream",
     "text": [
      "  |                                                                      |   0%"
     ]
    },
    {
     "name": "stderr",
     "output_type": "stream",
     "text": [
      "Warning message:\n",
      "\"Removed 13134 rows containing non-finite values (stat_smooth).\"\n"
     ]
    },
    {
     "name": "stdout",
     "output_type": "stream",
     "text": [
      "  |                                                                      |   0%"
     ]
    },
    {
     "name": "stderr",
     "output_type": "stream",
     "text": [
      "Warning message:\n",
      "\"Removed 3466 rows containing non-finite values (stat_smooth).\"\n"
     ]
    },
    {
     "name": "stdout",
     "output_type": "stream",
     "text": [
      "  |                                                                      |   0%"
     ]
    },
    {
     "name": "stderr",
     "output_type": "stream",
     "text": [
      "Warning message:\n",
      "\"Removed 12978 rows containing non-finite values (stat_smooth).\"\n"
     ]
    },
    {
     "name": "stdout",
     "output_type": "stream",
     "text": [
      "  |                                                                      |   0%"
     ]
    },
    {
     "name": "stderr",
     "output_type": "stream",
     "text": [
      "Warning message:\n",
      "\"Removed 12857 rows containing non-finite values (stat_smooth).\"\n"
     ]
    },
    {
     "name": "stdout",
     "output_type": "stream",
     "text": [
      "  |                                                                      |   0%"
     ]
    },
    {
     "name": "stderr",
     "output_type": "stream",
     "text": [
      "Warning message:\n",
      "\"Removed 7228 rows containing non-finite values (stat_smooth).\"\n"
     ]
    },
    {
     "name": "stdout",
     "output_type": "stream",
     "text": [
      "  |                                                                      |   0%"
     ]
    },
    {
     "name": "stderr",
     "output_type": "stream",
     "text": [
      "Warning message:\n",
      "\"Removed 13068 rows containing non-finite values (stat_smooth).\"\n"
     ]
    },
    {
     "name": "stdout",
     "output_type": "stream",
     "text": [
      "\r",
      "  |                                                                            \r",
      "  |===================================================================== |  99%"
     ]
    },
    {
     "name": "stderr",
     "output_type": "stream",
     "text": [
      "Warning message in system(cmd, intern = intern, wait = wait | intern, show.output.on.console = wait, :\n",
      "\"running command 'C:\\WINDOWS\\system32\\cmd.exe /c explorer  report-r\\report.html' had status 1\"\n"
     ]
    },
    {
     "data": {
      "text/html": [],
      "text/latex": [],
      "text/markdown": [],
      "text/plain": [
       "character(0)\n",
       "attr(,\"status\")\n",
       "[1] 1"
      ]
     },
     "metadata": {},
     "output_type": "display_data"
    }
   ],
   "source": [
    "exploreData(data=df, y='EN_ATM_CO2E_KT',dir=\"report-r\", debug=FALSE) "
   ]
  },
  {
   "cell_type": "code",
   "execution_count": 8,
   "metadata": {},
   "outputs": [
    {
     "name": "stdout",
     "output_type": "stream",
     "text": [
      "  |                                                                      |   0%"
     ]
    },
    {
     "name": "stderr",
     "output_type": "stream",
     "text": [
      "Warning message:\n",
      "\"Removed 2567 rows containing non-finite values (stat_smooth).\"\n"
     ]
    },
    {
     "name": "stdout",
     "output_type": "stream",
     "text": [
      "\r",
      "  |                                                                            \r",
      "  |                                                                      |   0%"
     ]
    },
    {
     "name": "stderr",
     "output_type": "stream",
     "text": [
      "Warning message:\n",
      "\"Removed 2567 rows containing non-finite values (stat_smooth).\"\n"
     ]
    },
    {
     "name": "stdout",
     "output_type": "stream",
     "text": [
      "  |                                                                      |   0%"
     ]
    },
    {
     "name": "stderr",
     "output_type": "stream",
     "text": [
      "Warning message:\n",
      "\"Removed 2567 rows containing non-finite values (stat_smooth).\"\n"
     ]
    },
    {
     "name": "stdout",
     "output_type": "stream",
     "text": [
      "  |                                                                      |   0%"
     ]
    },
    {
     "name": "stderr",
     "output_type": "stream",
     "text": [
      "Warning message:\n",
      "\"Removed 2570 rows containing non-finite values (stat_smooth).\"\n"
     ]
    },
    {
     "name": "stdout",
     "output_type": "stream",
     "text": [
      "  |                                                                      |   0%"
     ]
    },
    {
     "name": "stderr",
     "output_type": "stream",
     "text": [
      "Warning message:\n",
      "\"Removed 5151 rows containing non-finite values (stat_smooth).\"\n"
     ]
    },
    {
     "name": "stdout",
     "output_type": "stream",
     "text": [
      "  |                                                                      |   0%"
     ]
    },
    {
     "name": "stderr",
     "output_type": "stream",
     "text": [
      "Warning message:\n",
      "\"Removed 7873 rows containing non-finite values (stat_smooth).\"\n"
     ]
    },
    {
     "name": "stdout",
     "output_type": "stream",
     "text": [
      "  |                                                                      |   0%"
     ]
    },
    {
     "name": "stderr",
     "output_type": "stream",
     "text": [
      "Warning message:\n",
      "\"Removed 5121 rows containing non-finite values (stat_smooth).\"\n"
     ]
    },
    {
     "name": "stdout",
     "output_type": "stream",
     "text": [
      "  |                                                                      |   0%"
     ]
    },
    {
     "name": "stderr",
     "output_type": "stream",
     "text": [
      "Warning message:\n",
      "\"Removed 9843 rows containing non-finite values (stat_smooth).\"\n"
     ]
    },
    {
     "name": "stdout",
     "output_type": "stream",
     "text": [
      "  |                                                                      |   0%"
     ]
    },
    {
     "name": "stderr",
     "output_type": "stream",
     "text": [
      "Warning message:\n",
      "\"Removed 11116 rows containing non-finite values (stat_smooth).\"\n"
     ]
    },
    {
     "name": "stdout",
     "output_type": "stream",
     "text": [
      "  |                                                                      |   0%"
     ]
    },
    {
     "name": "stderr",
     "output_type": "stream",
     "text": [
      "Warning message:\n",
      "\"Removed 10714 rows containing non-finite values (stat_smooth).\"\n"
     ]
    },
    {
     "name": "stdout",
     "output_type": "stream",
     "text": [
      "  |                                                                      |   0%"
     ]
    },
    {
     "name": "stderr",
     "output_type": "stream",
     "text": [
      "Warning message:\n",
      "\"Removed 5274 rows containing non-finite values (stat_smooth).\"\n"
     ]
    },
    {
     "name": "stdout",
     "output_type": "stream",
     "text": [
      "  |                                                                      |   0%"
     ]
    },
    {
     "name": "stderr",
     "output_type": "stream",
     "text": [
      "Warning message:\n",
      "\"Removed 10682 rows containing non-finite values (stat_smooth).\"\n"
     ]
    },
    {
     "name": "stdout",
     "output_type": "stream",
     "text": [
      "  |                                                                      |   0%"
     ]
    },
    {
     "name": "stderr",
     "output_type": "stream",
     "text": [
      "Warning message:\n",
      "\"Removed 10594 rows containing non-finite values (stat_smooth).\"\n"
     ]
    },
    {
     "name": "stdout",
     "output_type": "stream",
     "text": [
      "  |                                                                      |   0%"
     ]
    },
    {
     "name": "stderr",
     "output_type": "stream",
     "text": [
      "Warning message:\n",
      "\"Removed 11116 rows containing non-finite values (stat_smooth).\"\n"
     ]
    },
    {
     "name": "stdout",
     "output_type": "stream",
     "text": [
      "  |                                                                      |   0%"
     ]
    },
    {
     "name": "stderr",
     "output_type": "stream",
     "text": [
      "Warning message:\n",
      "\"Removed 5151 rows containing non-finite values (stat_smooth).\"\n"
     ]
    },
    {
     "name": "stdout",
     "output_type": "stream",
     "text": [
      "  |                                                                      |   0%"
     ]
    },
    {
     "name": "stderr",
     "output_type": "stream",
     "text": [
      "Warning message:\n",
      "\"Removed 2568 rows containing non-finite values (stat_smooth).\"\n"
     ]
    },
    {
     "name": "stdout",
     "output_type": "stream",
     "text": [
      "  |                                                                      |   0%"
     ]
    },
    {
     "name": "stderr",
     "output_type": "stream",
     "text": [
      "Warning message:\n",
      "\"Removed 6763 rows containing non-finite values (stat_smooth).\"\n"
     ]
    },
    {
     "name": "stdout",
     "output_type": "stream",
     "text": [
      "  |                                                                      |   0%"
     ]
    },
    {
     "name": "stderr",
     "output_type": "stream",
     "text": [
      "Warning message:\n",
      "\"Removed 2567 rows containing non-finite values (stat_smooth).\"\n"
     ]
    },
    {
     "name": "stdout",
     "output_type": "stream",
     "text": [
      "  |                                                                      |   0%"
     ]
    },
    {
     "name": "stderr",
     "output_type": "stream",
     "text": [
      "Warning message:\n",
      "\"Removed 10692 rows containing non-finite values (stat_smooth).\"\n"
     ]
    },
    {
     "name": "stdout",
     "output_type": "stream",
     "text": [
      "  |                                                                      |   0%"
     ]
    },
    {
     "name": "stderr",
     "output_type": "stream",
     "text": [
      "Warning message:\n",
      "\"Removed 5274 rows containing non-finite values (stat_smooth).\"\n"
     ]
    },
    {
     "name": "stdout",
     "output_type": "stream",
     "text": [
      "  |                                                                      |   0%"
     ]
    },
    {
     "name": "stderr",
     "output_type": "stream",
     "text": [
      "Warning message:\n",
      "\"Removed 6626 rows containing non-finite values (stat_smooth).\"\n"
     ]
    },
    {
     "name": "stdout",
     "output_type": "stream",
     "text": [
      "  |                                                                      |   0%"
     ]
    },
    {
     "name": "stderr",
     "output_type": "stream",
     "text": [
      "Warning message:\n",
      "\"Removed 10537 rows containing non-finite values (stat_smooth).\"\n"
     ]
    },
    {
     "name": "stdout",
     "output_type": "stream",
     "text": [
      "  |                                                                      |   0%"
     ]
    },
    {
     "name": "stderr",
     "output_type": "stream",
     "text": [
      "Warning message:\n",
      "\"Removed 5502 rows containing non-finite values (stat_smooth).\"\n"
     ]
    },
    {
     "name": "stdout",
     "output_type": "stream",
     "text": [
      "  |                                                                      |   0%"
     ]
    },
    {
     "name": "stderr",
     "output_type": "stream",
     "text": [
      "Warning message:\n",
      "\"Removed 2613 rows containing non-finite values (stat_smooth).\"\n"
     ]
    },
    {
     "name": "stdout",
     "output_type": "stream",
     "text": [
      "  |                                                                      |   0%"
     ]
    },
    {
     "name": "stderr",
     "output_type": "stream",
     "text": [
      "Warning message:\n",
      "\"Removed 3595 rows containing non-finite values (stat_smooth).\"\n"
     ]
    },
    {
     "name": "stdout",
     "output_type": "stream",
     "text": [
      "  |                                                                      |   0%"
     ]
    },
    {
     "name": "stderr",
     "output_type": "stream",
     "text": [
      "Warning message:\n",
      "\"Removed 10728 rows containing non-finite values (stat_smooth).\"\n"
     ]
    },
    {
     "name": "stdout",
     "output_type": "stream",
     "text": [
      "  |                                                                      |   0%"
     ]
    },
    {
     "name": "stderr",
     "output_type": "stream",
     "text": [
      "Warning message:\n",
      "\"Removed 10536 rows containing non-finite values (stat_smooth).\"\n"
     ]
    },
    {
     "name": "stdout",
     "output_type": "stream",
     "text": [
      "  |                                                                      |   0%"
     ]
    },
    {
     "name": "stderr",
     "output_type": "stream",
     "text": [
      "Warning message:\n",
      "\"Removed 10537 rows containing non-finite values (stat_smooth).\"\n"
     ]
    },
    {
     "name": "stdout",
     "output_type": "stream",
     "text": [
      "  |                                                                      |   0%"
     ]
    },
    {
     "name": "stderr",
     "output_type": "stream",
     "text": [
      "Warning message:\n",
      "\"Removed 2979 rows containing non-finite values (stat_smooth).\"\n"
     ]
    },
    {
     "name": "stdout",
     "output_type": "stream",
     "text": [
      "  |                                                                      |   0%"
     ]
    },
    {
     "name": "stderr",
     "output_type": "stream",
     "text": [
      "Warning message:\n",
      "\"Removed 5151 rows containing non-finite values (stat_smooth).\"\n"
     ]
    },
    {
     "name": "stdout",
     "output_type": "stream",
     "text": [
      "  |                                                                      |   0%"
     ]
    },
    {
     "name": "stderr",
     "output_type": "stream",
     "text": [
      "Warning message:\n",
      "\"Removed 9840 rows containing non-finite values (stat_smooth).\"\n"
     ]
    },
    {
     "name": "stdout",
     "output_type": "stream",
     "text": [
      "  |                                                                      |   0%"
     ]
    },
    {
     "name": "stderr",
     "output_type": "stream",
     "text": [
      "Warning message:\n",
      "\"Removed 6851 rows containing non-finite values (stat_smooth).\"\n"
     ]
    },
    {
     "name": "stdout",
     "output_type": "stream",
     "text": [
      "  |                                                                      |   0%"
     ]
    },
    {
     "name": "stderr",
     "output_type": "stream",
     "text": [
      "Warning message:\n",
      "\"Removed 10644 rows containing non-finite values (stat_smooth).\"\n"
     ]
    },
    {
     "name": "stdout",
     "output_type": "stream",
     "text": [
      "  |                                                                      |   0%"
     ]
    },
    {
     "name": "stderr",
     "output_type": "stream",
     "text": [
      "Warning message:\n",
      "\"Removed 5123 rows containing non-finite values (stat_smooth).\"\n"
     ]
    },
    {
     "name": "stdout",
     "output_type": "stream",
     "text": [
      "  |                                                                      |   0%"
     ]
    },
    {
     "name": "stderr",
     "output_type": "stream",
     "text": [
      "Warning message:\n",
      "\"Removed 6755 rows containing non-finite values (stat_smooth).\"\n"
     ]
    },
    {
     "name": "stdout",
     "output_type": "stream",
     "text": [
      "  |                                                                      |   0%"
     ]
    },
    {
     "name": "stderr",
     "output_type": "stream",
     "text": [
      "Warning message:\n",
      "\"Removed 5179 rows containing non-finite values (stat_smooth).\"\n"
     ]
    },
    {
     "name": "stdout",
     "output_type": "stream",
     "text": [
      "  |                                                                      |   0%"
     ]
    },
    {
     "name": "stderr",
     "output_type": "stream",
     "text": [
      "Warning message:\n",
      "\"Removed 5018 rows containing non-finite values (stat_smooth).\"\n"
     ]
    },
    {
     "name": "stdout",
     "output_type": "stream",
     "text": [
      "  |                                                                      |   0%"
     ]
    },
    {
     "name": "stderr",
     "output_type": "stream",
     "text": [
      "Warning message:\n",
      "\"Removed 5172 rows containing non-finite values (stat_smooth).\"\n"
     ]
    },
    {
     "name": "stdout",
     "output_type": "stream",
     "text": [
      "  |                                                                      |   0%"
     ]
    },
    {
     "name": "stderr",
     "output_type": "stream",
     "text": [
      "Warning message:\n",
      "\"Removed 10692 rows containing non-finite values (stat_smooth).\"\n"
     ]
    },
    {
     "name": "stdout",
     "output_type": "stream",
     "text": [
      "  |                                                                      |   0%"
     ]
    },
    {
     "name": "stderr",
     "output_type": "stream",
     "text": [
      "Warning message:\n",
      "\"Removed 2570 rows containing non-finite values (stat_smooth).\"\n"
     ]
    },
    {
     "name": "stdout",
     "output_type": "stream",
     "text": [
      "  |                                                                      |   0%"
     ]
    },
    {
     "name": "stderr",
     "output_type": "stream",
     "text": [
      "Warning message:\n",
      "\"Removed 10537 rows containing non-finite values (stat_smooth).\"\n"
     ]
    },
    {
     "name": "stdout",
     "output_type": "stream",
     "text": [
      "  |                                                                      |   0%"
     ]
    },
    {
     "name": "stderr",
     "output_type": "stream",
     "text": [
      "Warning message:\n",
      "\"Removed 2573 rows containing non-finite values (stat_smooth).\"\n"
     ]
    },
    {
     "name": "stdout",
     "output_type": "stream",
     "text": [
      "  |                                                                      |   0%"
     ]
    },
    {
     "name": "stderr",
     "output_type": "stream",
     "text": [
      "Warning message:\n",
      "\"Removed 5274 rows containing non-finite values (stat_smooth).\"\n"
     ]
    },
    {
     "name": "stdout",
     "output_type": "stream",
     "text": [
      "  |                                                                      |   0%"
     ]
    },
    {
     "name": "stderr",
     "output_type": "stream",
     "text": [
      "Warning message:\n",
      "\"Removed 5274 rows containing non-finite values (stat_smooth).\"\n"
     ]
    },
    {
     "name": "stdout",
     "output_type": "stream",
     "text": [
      "  |                                                                      |   0%"
     ]
    },
    {
     "name": "stderr",
     "output_type": "stream",
     "text": [
      "Warning message:\n",
      "\"Removed 5151 rows containing non-finite values (stat_smooth).\"\n"
     ]
    },
    {
     "name": "stdout",
     "output_type": "stream",
     "text": [
      "  |                                                                      |   0%"
     ]
    },
    {
     "name": "stderr",
     "output_type": "stream",
     "text": [
      "Warning message:\n",
      "\"Removed 10638 rows containing non-finite values (stat_smooth).\"\n"
     ]
    },
    {
     "name": "stdout",
     "output_type": "stream",
     "text": [
      "  |                                                                      |   0%"
     ]
    },
    {
     "name": "stderr",
     "output_type": "stream",
     "text": [
      "Warning message:\n",
      "\"Removed 10780 rows containing non-finite values (stat_smooth).\"\n"
     ]
    },
    {
     "name": "stdout",
     "output_type": "stream",
     "text": [
      "  |                                                                      |   0%"
     ]
    },
    {
     "name": "stderr",
     "output_type": "stream",
     "text": [
      "Warning message:\n",
      "\"Removed 5274 rows containing non-finite values (stat_smooth).\"\n"
     ]
    },
    {
     "name": "stdout",
     "output_type": "stream",
     "text": [
      "  |                                                                      |   0%"
     ]
    },
    {
     "name": "stderr",
     "output_type": "stream",
     "text": [
      "Warning message:\n",
      "\"Removed 9801 rows containing non-finite values (stat_smooth).\"\n"
     ]
    },
    {
     "name": "stdout",
     "output_type": "stream",
     "text": [
      "  |                                                                      |   0%"
     ]
    },
    {
     "name": "stderr",
     "output_type": "stream",
     "text": [
      "Warning message:\n",
      "\"Removed 7873 rows containing non-finite values (stat_smooth).\"\n"
     ]
    },
    {
     "name": "stdout",
     "output_type": "stream",
     "text": [
      "  |                                                                      |   0%"
     ]
    },
    {
     "name": "stderr",
     "output_type": "stream",
     "text": [
      "Warning message:\n",
      "\"Removed 10682 rows containing non-finite values (stat_smooth).\"\n"
     ]
    },
    {
     "name": "stdout",
     "output_type": "stream",
     "text": [
      "  |                                                                      |   0%"
     ]
    },
    {
     "name": "stderr",
     "output_type": "stream",
     "text": [
      "Warning message:\n",
      "\"Removed 6637 rows containing non-finite values (stat_smooth).\"\n"
     ]
    },
    {
     "name": "stdout",
     "output_type": "stream",
     "text": [
      "  |                                                                      |   0%"
     ]
    },
    {
     "name": "stderr",
     "output_type": "stream",
     "text": [
      "Warning message:\n",
      "\"Removed 10536 rows containing non-finite values (stat_smooth).\"\n"
     ]
    },
    {
     "name": "stdout",
     "output_type": "stream",
     "text": [
      "  |                                                                      |   0%"
     ]
    },
    {
     "name": "stderr",
     "output_type": "stream",
     "text": [
      "Warning message:\n",
      "\"Removed 10682 rows containing non-finite values (stat_smooth).\"\n"
     ]
    },
    {
     "name": "stdout",
     "output_type": "stream",
     "text": [
      "  |                                                                      |   0%"
     ]
    },
    {
     "name": "stderr",
     "output_type": "stream",
     "text": [
      "Warning message:\n",
      "\"Removed 10536 rows containing non-finite values (stat_smooth).\"\n"
     ]
    },
    {
     "name": "stdout",
     "output_type": "stream",
     "text": [
      "  |                                                                      |   0%"
     ]
    },
    {
     "name": "stderr",
     "output_type": "stream",
     "text": [
      "Warning message:\n",
      "\"Removed 5151 rows containing non-finite values (stat_smooth).\"\n"
     ]
    },
    {
     "name": "stdout",
     "output_type": "stream",
     "text": [
      "  |                                                                      |   0%"
     ]
    },
    {
     "name": "stderr",
     "output_type": "stream",
     "text": [
      "Warning message:\n",
      "\"Removed 5794 rows containing non-finite values (stat_smooth).\"\n"
     ]
    },
    {
     "name": "stdout",
     "output_type": "stream",
     "text": [
      "  |                                                                      |   0%"
     ]
    },
    {
     "name": "stderr",
     "output_type": "stream",
     "text": [
      "Warning message:\n",
      "\"Removed 10537 rows containing non-finite values (stat_smooth).\"\n"
     ]
    },
    {
     "name": "stdout",
     "output_type": "stream",
     "text": [
      "  |                                                                      |   0%"
     ]
    },
    {
     "name": "stderr",
     "output_type": "stream",
     "text": [
      "Warning message:\n",
      "\"Removed 10460 rows containing non-finite values (stat_smooth).\"\n"
     ]
    },
    {
     "name": "stdout",
     "output_type": "stream",
     "text": [
      "  |                                                                      |   0%"
     ]
    },
    {
     "name": "stderr",
     "output_type": "stream",
     "text": [
      "Warning message:\n",
      "\"Removed 5274 rows containing non-finite values (stat_smooth).\"\n"
     ]
    },
    {
     "name": "stdout",
     "output_type": "stream",
     "text": [
      "  |                                                                      |   0%"
     ]
    },
    {
     "name": "stderr",
     "output_type": "stream",
     "text": [
      "Warning message:\n",
      "\"Removed 11186 rows containing non-finite values (stat_smooth).\"\n"
     ]
    },
    {
     "name": "stdout",
     "output_type": "stream",
     "text": [
      "  |                                                                      |   0%"
     ]
    },
    {
     "name": "stderr",
     "output_type": "stream",
     "text": [
      "Warning message:\n",
      "\"Removed 7873 rows containing non-finite values (stat_smooth).\"\n"
     ]
    },
    {
     "name": "stdout",
     "output_type": "stream",
     "text": [
      "  |                                                                      |   0%"
     ]
    },
    {
     "name": "stderr",
     "output_type": "stream",
     "text": [
      "Warning message:\n",
      "\"Removed 5274 rows containing non-finite values (stat_smooth).\"\n"
     ]
    },
    {
     "name": "stdout",
     "output_type": "stream",
     "text": [
      "  |                                                                      |   0%"
     ]
    },
    {
     "name": "stderr",
     "output_type": "stream",
     "text": [
      "Warning message:\n",
      "\"Removed 5151 rows containing non-finite values (stat_smooth).\"\n"
     ]
    },
    {
     "name": "stdout",
     "output_type": "stream",
     "text": [
      "  |                                                                      |   0%"
     ]
    },
    {
     "name": "stderr",
     "output_type": "stream",
     "text": [
      "Warning message:\n",
      "\"Removed 5164 rows containing non-finite values (stat_smooth).\"\n"
     ]
    },
    {
     "name": "stdout",
     "output_type": "stream",
     "text": [
      "  |                                                                      |   0%"
     ]
    },
    {
     "name": "stderr",
     "output_type": "stream",
     "text": [
      "Warning message:\n",
      "\"Removed 3000 rows containing non-finite values (stat_smooth).\"\n"
     ]
    },
    {
     "name": "stdout",
     "output_type": "stream",
     "text": [
      "  |                                                                      |   0%"
     ]
    },
    {
     "name": "stderr",
     "output_type": "stream",
     "text": [
      "Warning message:\n",
      "\"Removed 5151 rows containing non-finite values (stat_smooth).\"\n"
     ]
    },
    {
     "name": "stdout",
     "output_type": "stream",
     "text": [
      "  |                                                                      |   0%"
     ]
    },
    {
     "name": "stderr",
     "output_type": "stream",
     "text": [
      "Warning message:\n",
      "\"Removed 10697 rows containing non-finite values (stat_smooth).\"\n"
     ]
    },
    {
     "name": "stdout",
     "output_type": "stream",
     "text": [
      "  |                                                                      |   0%"
     ]
    },
    {
     "name": "stderr",
     "output_type": "stream",
     "text": [
      "Warning message:\n",
      "\"Removed 5368 rows containing non-finite values (stat_smooth).\"\n"
     ]
    },
    {
     "name": "stdout",
     "output_type": "stream",
     "text": [
      "  |                                                                      |   0%"
     ]
    },
    {
     "name": "stderr",
     "output_type": "stream",
     "text": [
      "Warning message:\n",
      "\"Removed 3428 rows containing non-finite values (stat_smooth).\"\n"
     ]
    },
    {
     "name": "stdout",
     "output_type": "stream",
     "text": [
      "  |                                                                      |   0%"
     ]
    },
    {
     "name": "stderr",
     "output_type": "stream",
     "text": [
      "Warning message:\n",
      "\"Removed 3893 rows containing non-finite values (stat_smooth).\"\n"
     ]
    },
    {
     "name": "stdout",
     "output_type": "stream",
     "text": [
      "  |                                                                      |   0%"
     ]
    },
    {
     "name": "stderr",
     "output_type": "stream",
     "text": [
      "Warning message:\n",
      "\"Removed 10688 rows containing non-finite values (stat_smooth).\"\n"
     ]
    },
    {
     "name": "stdout",
     "output_type": "stream",
     "text": [
      "  |                                                                      |   0%"
     ]
    },
    {
     "name": "stderr",
     "output_type": "stream",
     "text": [
      "Warning message:\n",
      "\"Removed 3700 rows containing non-finite values (stat_smooth).\"\n"
     ]
    },
    {
     "name": "stdout",
     "output_type": "stream",
     "text": [
      "  |                                                                      |   0%"
     ]
    },
    {
     "name": "stderr",
     "output_type": "stream",
     "text": [
      "Warning message:\n",
      "\"Removed 10948 rows containing non-finite values (stat_smooth).\"\n"
     ]
    },
    {
     "name": "stdout",
     "output_type": "stream",
     "text": [
      "  |                                                                      |   0%"
     ]
    },
    {
     "name": "stderr",
     "output_type": "stream",
     "text": [
      "Warning message:\n",
      "\"Removed 2568 rows containing non-finite values (stat_smooth).\"\n"
     ]
    },
    {
     "name": "stdout",
     "output_type": "stream",
     "text": [
      "  |                                                                      |   0%"
     ]
    },
    {
     "name": "stderr",
     "output_type": "stream",
     "text": [
      "Warning message:\n",
      "\"Removed 6754 rows containing non-finite values (stat_smooth).\"\n"
     ]
    },
    {
     "name": "stdout",
     "output_type": "stream",
     "text": [
      "  |                                                                      |   0%"
     ]
    },
    {
     "name": "stderr",
     "output_type": "stream",
     "text": [
      "Warning message:\n",
      "\"Removed 10692 rows containing non-finite values (stat_smooth).\"\n"
     ]
    },
    {
     "name": "stdout",
     "output_type": "stream",
     "text": [
      "  |                                                                      |   0%"
     ]
    },
    {
     "name": "stderr",
     "output_type": "stream",
     "text": [
      "Warning message:\n",
      "\"Removed 2652 rows containing non-finite values (stat_smooth).\"\n"
     ]
    },
    {
     "name": "stdout",
     "output_type": "stream",
     "text": [
      "  |                                                                      |   0%"
     ]
    },
    {
     "name": "stderr",
     "output_type": "stream",
     "text": [
      "Warning message:\n",
      "\"Removed 10536 rows containing non-finite values (stat_smooth).\"\n"
     ]
    },
    {
     "name": "stdout",
     "output_type": "stream",
     "text": [
      "  |                                                                      |   0%"
     ]
    },
    {
     "name": "stderr",
     "output_type": "stream",
     "text": [
      "Warning message:\n",
      "\"Removed 10415 rows containing non-finite values (stat_smooth).\"\n"
     ]
    },
    {
     "name": "stdout",
     "output_type": "stream",
     "text": [
      "  |                                                                      |   0%"
     ]
    },
    {
     "name": "stderr",
     "output_type": "stream",
     "text": [
      "Warning message:\n",
      "\"Removed 5151 rows containing non-finite values (stat_smooth).\"\n"
     ]
    },
    {
     "name": "stdout",
     "output_type": "stream",
     "text": [
      "  |                                                                      |   0%"
     ]
    },
    {
     "name": "stderr",
     "output_type": "stream",
     "text": [
      "Warning message:\n",
      "\"Removed 10626 rows containing non-finite values (stat_smooth).\"\n"
     ]
    },
    {
     "name": "stdout",
     "output_type": "stream",
     "text": [
      "\r",
      "  |                                                                            \r",
      "  |===================================================================== |  99%"
     ]
    },
    {
     "name": "stderr",
     "output_type": "stream",
     "text": [
      "Warning message in system(cmd, intern = intern, wait = wait | intern, show.output.on.console = wait, :\n",
      "\"running command 'C:\\WINDOWS\\system32\\cmd.exe /c explorer  report-r70\\report.html' had status 1\"\n"
     ]
    },
    {
     "data": {
      "text/html": [],
      "text/latex": [],
      "text/markdown": [],
      "text/plain": [
       "character(0)\n",
       "attr(,\"status\")\n",
       "[1] 1"
      ]
     },
     "metadata": {},
     "output_type": "display_data"
    }
   ],
   "source": [
    "exploreData(data=df70, y='EN_ATM_CO2E_KT',dir=\"report-r70\", debug=FALSE) "
   ]
  },
  {
   "cell_type": "code",
   "execution_count": 9,
   "metadata": {},
   "outputs": [
    {
     "name": "stdout",
     "output_type": "stream",
     "text": [
      "  |                                                                      |   0%"
     ]
    },
    {
     "name": "stderr",
     "output_type": "stream",
     "text": [
      "Warning message:\n",
      "\"Removed 1464 rows containing non-finite values (stat_smooth).\"\n"
     ]
    },
    {
     "name": "stdout",
     "output_type": "stream",
     "text": [
      "\r",
      "  |                                                                            \r",
      "  |                                                                      |   0%"
     ]
    },
    {
     "name": "stderr",
     "output_type": "stream",
     "text": [
      "Warning message:\n",
      "\"Removed 1464 rows containing non-finite values (stat_smooth).\"\n"
     ]
    },
    {
     "name": "stdout",
     "output_type": "stream",
     "text": [
      "  |                                                                      |   0%"
     ]
    },
    {
     "name": "stderr",
     "output_type": "stream",
     "text": [
      "Warning message:\n",
      "\"Removed 1464 rows containing non-finite values (stat_smooth).\"\n"
     ]
    },
    {
     "name": "stdout",
     "output_type": "stream",
     "text": [
      "  |                                                                      |   0%"
     ]
    },
    {
     "name": "stderr",
     "output_type": "stream",
     "text": [
      "Warning message:\n",
      "\"Removed 1467 rows containing non-finite values (stat_smooth).\"\n"
     ]
    },
    {
     "name": "stdout",
     "output_type": "stream",
     "text": [
      "  |                                                                      |   0%"
     ]
    },
    {
     "name": "stderr",
     "output_type": "stream",
     "text": [
      "Warning message:\n",
      "\"Removed 2806 rows containing non-finite values (stat_smooth).\"\n"
     ]
    },
    {
     "name": "stdout",
     "output_type": "stream",
     "text": [
      "  |                                                                      |   0%"
     ]
    },
    {
     "name": "stderr",
     "output_type": "stream",
     "text": [
      "Warning message:\n",
      "\"Removed 2933 rows containing non-finite values (stat_smooth).\"\n"
     ]
    },
    {
     "name": "stdout",
     "output_type": "stream",
     "text": [
      "  |                                                                      |   0%"
     ]
    },
    {
     "name": "stderr",
     "output_type": "stream",
     "text": [
      "Warning message:\n",
      "\"Removed 2714 rows containing non-finite values (stat_smooth).\"\n"
     ]
    },
    {
     "name": "stdout",
     "output_type": "stream",
     "text": [
      "  |                                                                      |   0%"
     ]
    },
    {
     "name": "stderr",
     "output_type": "stream",
     "text": [
      "Warning message:\n",
      "\"Removed 5587 rows containing non-finite values (stat_smooth).\"\n"
     ]
    },
    {
     "name": "stdout",
     "output_type": "stream",
     "text": [
      "  |                                                                      |   0%"
     ]
    },
    {
     "name": "stderr",
     "output_type": "stream",
     "text": [
      "Warning message:\n",
      "\"Removed 6176 rows containing non-finite values (stat_smooth).\"\n"
     ]
    },
    {
     "name": "stdout",
     "output_type": "stream",
     "text": [
      "  |                                                                      |   0%"
     ]
    },
    {
     "name": "stderr",
     "output_type": "stream",
     "text": [
      "Warning message:\n",
      "\"Removed 5774 rows containing non-finite values (stat_smooth).\"\n"
     ]
    },
    {
     "name": "stdout",
     "output_type": "stream",
     "text": [
      "  |                                                                      |   0%"
     ]
    },
    {
     "name": "stderr",
     "output_type": "stream",
     "text": [
      "Warning message:\n",
      "\"Removed 2865 rows containing non-finite values (stat_smooth).\"\n"
     ]
    },
    {
     "name": "stdout",
     "output_type": "stream",
     "text": [
      "  |                                                                      |   0%"
     ]
    },
    {
     "name": "stderr",
     "output_type": "stream",
     "text": [
      "Warning message:\n",
      "\"Removed 5742 rows containing non-finite values (stat_smooth).\"\n"
     ]
    },
    {
     "name": "stdout",
     "output_type": "stream",
     "text": [
      "  |                                                                      |   0%"
     ]
    },
    {
     "name": "stderr",
     "output_type": "stream",
     "text": [
      "Warning message:\n",
      "\"Removed 5654 rows containing non-finite values (stat_smooth).\"\n"
     ]
    },
    {
     "name": "stdout",
     "output_type": "stream",
     "text": [
      "  |                                                                      |   0%"
     ]
    },
    {
     "name": "stderr",
     "output_type": "stream",
     "text": [
      "Warning message:\n",
      "\"Removed 6176 rows containing non-finite values (stat_smooth).\"\n"
     ]
    },
    {
     "name": "stdout",
     "output_type": "stream",
     "text": [
      "  |                                                                      |   0%"
     ]
    },
    {
     "name": "stderr",
     "output_type": "stream",
     "text": [
      "Warning message:\n",
      "\"Removed 2806 rows containing non-finite values (stat_smooth).\"\n"
     ]
    },
    {
     "name": "stdout",
     "output_type": "stream",
     "text": [
      "  |                                                                      |   0%"
     ]
    },
    {
     "name": "stderr",
     "output_type": "stream",
     "text": [
      "Warning message:\n",
      "\"Removed 1464 rows containing non-finite values (stat_smooth).\"\n"
     ]
    },
    {
     "name": "stdout",
     "output_type": "stream",
     "text": [
      "  |                                                                      |   0%"
     ]
    },
    {
     "name": "stderr",
     "output_type": "stream",
     "text": [
      "Warning message:\n",
      "\"Removed 1823 rows containing non-finite values (stat_smooth).\"\n"
     ]
    },
    {
     "name": "stdout",
     "output_type": "stream",
     "text": [
      "  |                                                                      |   0%"
     ]
    },
    {
     "name": "stderr",
     "output_type": "stream",
     "text": [
      "Warning message:\n",
      "\"Removed 1464 rows containing non-finite values (stat_smooth).\"\n"
     ]
    },
    {
     "name": "stdout",
     "output_type": "stream",
     "text": [
      "  |                                                                      |   0%"
     ]
    },
    {
     "name": "stderr",
     "output_type": "stream",
     "text": [
      "Warning message:\n",
      "\"Removed 5752 rows containing non-finite values (stat_smooth).\"\n"
     ]
    },
    {
     "name": "stdout",
     "output_type": "stream",
     "text": [
      "  |                                                                      |   0%"
     ]
    },
    {
     "name": "stderr",
     "output_type": "stream",
     "text": [
      "Warning message:\n",
      "\"Removed 2865 rows containing non-finite values (stat_smooth).\"\n"
     ]
    },
    {
     "name": "stdout",
     "output_type": "stream",
     "text": [
      "  |                                                                      |   0%"
     ]
    },
    {
     "name": "stderr",
     "output_type": "stream",
     "text": [
      "Warning message:\n",
      "\"Removed 1686 rows containing non-finite values (stat_smooth).\"\n"
     ]
    },
    {
     "name": "stdout",
     "output_type": "stream",
     "text": [
      "  |                                                                      |   0%"
     ]
    },
    {
     "name": "stderr",
     "output_type": "stream",
     "text": [
      "Warning message:\n",
      "\"Removed 5597 rows containing non-finite values (stat_smooth).\"\n"
     ]
    },
    {
     "name": "stdout",
     "output_type": "stream",
     "text": [
      "  |                                                                      |   0%"
     ]
    },
    {
     "name": "stderr",
     "output_type": "stream",
     "text": [
      "Warning message:\n",
      "\"Removed 2838 rows containing non-finite values (stat_smooth).\"\n"
     ]
    },
    {
     "name": "stdout",
     "output_type": "stream",
     "text": [
      "  |                                                                      |   0%"
     ]
    },
    {
     "name": "stderr",
     "output_type": "stream",
     "text": [
      "Warning message:\n",
      "\"Removed 1469 rows containing non-finite values (stat_smooth).\"\n"
     ]
    },
    {
     "name": "stdout",
     "output_type": "stream",
     "text": [
      "  |                                                                      |   0%"
     ]
    },
    {
     "name": "stderr",
     "output_type": "stream",
     "text": [
      "Warning message:\n",
      "\"Removed 1827 rows containing non-finite values (stat_smooth).\"\n"
     ]
    },
    {
     "name": "stdout",
     "output_type": "stream",
     "text": [
      "  |                                                                      |   0%"
     ]
    },
    {
     "name": "stderr",
     "output_type": "stream",
     "text": [
      "Warning message:\n",
      "\"Removed 5788 rows containing non-finite values (stat_smooth).\"\n"
     ]
    },
    {
     "name": "stdout",
     "output_type": "stream",
     "text": [
      "  |                                                                      |   0%"
     ]
    },
    {
     "name": "stderr",
     "output_type": "stream",
     "text": [
      "Warning message:\n",
      "\"Removed 5596 rows containing non-finite values (stat_smooth).\"\n"
     ]
    },
    {
     "name": "stdout",
     "output_type": "stream",
     "text": [
      "  |                                                                      |   0%"
     ]
    },
    {
     "name": "stderr",
     "output_type": "stream",
     "text": [
      "Warning message:\n",
      "\"Removed 5597 rows containing non-finite values (stat_smooth).\"\n"
     ]
    },
    {
     "name": "stdout",
     "output_type": "stream",
     "text": [
      "  |                                                                      |   0%"
     ]
    },
    {
     "name": "stderr",
     "output_type": "stream",
     "text": [
      "Warning message:\n",
      "\"Removed 1636 rows containing non-finite values (stat_smooth).\"\n"
     ]
    },
    {
     "name": "stdout",
     "output_type": "stream",
     "text": [
      "  |                                                                      |   0%"
     ]
    },
    {
     "name": "stderr",
     "output_type": "stream",
     "text": [
      "Warning message:\n",
      "\"Removed 2806 rows containing non-finite values (stat_smooth).\"\n"
     ]
    },
    {
     "name": "stdout",
     "output_type": "stream",
     "text": [
      "  |                                                                      |   0%"
     ]
    },
    {
     "name": "stderr",
     "output_type": "stream",
     "text": [
      "Warning message:\n",
      "\"Removed 5588 rows containing non-finite values (stat_smooth).\"\n"
     ]
    },
    {
     "name": "stdout",
     "output_type": "stream",
     "text": [
      "  |                                                                      |   0%"
     ]
    },
    {
     "name": "stderr",
     "output_type": "stream",
     "text": [
      "Warning message:\n",
      "\"Removed 3447 rows containing non-finite values (stat_smooth).\"\n"
     ]
    },
    {
     "name": "stdout",
     "output_type": "stream",
     "text": [
      "  |                                                                      |   0%"
     ]
    },
    {
     "name": "stderr",
     "output_type": "stream",
     "text": [
      "Warning message:\n",
      "\"Removed 5704 rows containing non-finite values (stat_smooth).\"\n"
     ]
    },
    {
     "name": "stdout",
     "output_type": "stream",
     "text": [
      "  |                                                                      |   0%"
     ]
    },
    {
     "name": "stderr",
     "output_type": "stream",
     "text": [
      "Warning message:\n",
      "\"Removed 2685 rows containing non-finite values (stat_smooth).\"\n"
     ]
    },
    {
     "name": "stdout",
     "output_type": "stream",
     "text": [
      "  |                                                                      |   0%"
     ]
    },
    {
     "name": "stderr",
     "output_type": "stream",
     "text": [
      "Warning message:\n",
      "\"Removed 1815 rows containing non-finite values (stat_smooth).\"\n"
     ]
    },
    {
     "name": "stdout",
     "output_type": "stream",
     "text": [
      "  |                                                                      |   0%"
     ]
    },
    {
     "name": "stderr",
     "output_type": "stream",
     "text": [
      "Warning message:\n",
      "\"Removed 2820 rows containing non-finite values (stat_smooth).\"\n"
     ]
    },
    {
     "name": "stdout",
     "output_type": "stream",
     "text": [
      "  |                                                                      |   0%"
     ]
    },
    {
     "name": "stderr",
     "output_type": "stream",
     "text": [
      "Warning message:\n",
      "\"Removed 2653 rows containing non-finite values (stat_smooth).\"\n"
     ]
    },
    {
     "name": "stdout",
     "output_type": "stream",
     "text": [
      "  |                                                                      |   0%"
     ]
    },
    {
     "name": "stderr",
     "output_type": "stream",
     "text": [
      "Warning message:\n",
      "\"Removed 2741 rows containing non-finite values (stat_smooth).\"\n"
     ]
    },
    {
     "name": "stdout",
     "output_type": "stream",
     "text": [
      "  |                                                                      |   0%"
     ]
    },
    {
     "name": "stderr",
     "output_type": "stream",
     "text": [
      "Warning message:\n",
      "\"Removed 5752 rows containing non-finite values (stat_smooth).\"\n"
     ]
    },
    {
     "name": "stdout",
     "output_type": "stream",
     "text": [
      "  |                                                                      |   0%"
     ]
    },
    {
     "name": "stderr",
     "output_type": "stream",
     "text": [
      "Warning message:\n",
      "\"Removed 1467 rows containing non-finite values (stat_smooth).\"\n"
     ]
    },
    {
     "name": "stdout",
     "output_type": "stream",
     "text": [
      "  |                                                                      |   0%"
     ]
    },
    {
     "name": "stderr",
     "output_type": "stream",
     "text": [
      "Warning message:\n",
      "\"Removed 5597 rows containing non-finite values (stat_smooth).\"\n"
     ]
    },
    {
     "name": "stdout",
     "output_type": "stream",
     "text": [
      "  |                                                                      |   0%"
     ]
    },
    {
     "name": "stderr",
     "output_type": "stream",
     "text": [
      "Warning message:\n",
      "\"Removed 1467 rows containing non-finite values (stat_smooth).\"\n"
     ]
    },
    {
     "name": "stdout",
     "output_type": "stream",
     "text": [
      "  |                                                                      |   0%"
     ]
    },
    {
     "name": "stderr",
     "output_type": "stream",
     "text": [
      "Warning message:\n",
      "\"Removed 2865 rows containing non-finite values (stat_smooth).\"\n"
     ]
    },
    {
     "name": "stdout",
     "output_type": "stream",
     "text": [
      "  |                                                                      |   0%"
     ]
    },
    {
     "name": "stderr",
     "output_type": "stream",
     "text": [
      "Warning message:\n",
      "\"Removed 2865 rows containing non-finite values (stat_smooth).\"\n"
     ]
    },
    {
     "name": "stdout",
     "output_type": "stream",
     "text": [
      "  |                                                                      |   0%"
     ]
    },
    {
     "name": "stderr",
     "output_type": "stream",
     "text": [
      "Warning message:\n",
      "\"Removed 2806 rows containing non-finite values (stat_smooth).\"\n"
     ]
    },
    {
     "name": "stdout",
     "output_type": "stream",
     "text": [
      "  |                                                                      |   0%"
     ]
    },
    {
     "name": "stderr",
     "output_type": "stream",
     "text": [
      "Warning message:\n",
      "\"Removed 5698 rows containing non-finite values (stat_smooth).\"\n"
     ]
    },
    {
     "name": "stdout",
     "output_type": "stream",
     "text": [
      "  |                                                                      |   0%"
     ]
    },
    {
     "name": "stderr",
     "output_type": "stream",
     "text": [
      "Warning message:\n",
      "\"Removed 5840 rows containing non-finite values (stat_smooth).\"\n"
     ]
    },
    {
     "name": "stdout",
     "output_type": "stream",
     "text": [
      "  |                                                                      |   0%"
     ]
    },
    {
     "name": "stderr",
     "output_type": "stream",
     "text": [
      "Warning message:\n",
      "\"Removed 2865 rows containing non-finite values (stat_smooth).\"\n"
     ]
    },
    {
     "name": "stdout",
     "output_type": "stream",
     "text": [
      "  |                                                                      |   0%"
     ]
    },
    {
     "name": "stderr",
     "output_type": "stream",
     "text": [
      "Warning message:\n",
      "\"Removed 4861 rows containing non-finite values (stat_smooth).\"\n"
     ]
    },
    {
     "name": "stdout",
     "output_type": "stream",
     "text": [
      "  |                                                                      |   0%"
     ]
    },
    {
     "name": "stderr",
     "output_type": "stream",
     "text": [
      "Warning message:\n",
      "\"Removed 2933 rows containing non-finite values (stat_smooth).\"\n"
     ]
    },
    {
     "name": "stdout",
     "output_type": "stream",
     "text": [
      "  |                                                                      |   0%"
     ]
    },
    {
     "name": "stderr",
     "output_type": "stream",
     "text": [
      "Warning message:\n",
      "\"Removed 5742 rows containing non-finite values (stat_smooth).\"\n"
     ]
    },
    {
     "name": "stdout",
     "output_type": "stream",
     "text": [
      "  |                                                                      |   0%"
     ]
    },
    {
     "name": "stderr",
     "output_type": "stream",
     "text": [
      "Warning message:\n",
      "\"Removed 1697 rows containing non-finite values (stat_smooth).\"\n"
     ]
    },
    {
     "name": "stdout",
     "output_type": "stream",
     "text": [
      "  |                                                                      |   0%"
     ]
    },
    {
     "name": "stderr",
     "output_type": "stream",
     "text": [
      "Warning message:\n",
      "\"Removed 5596 rows containing non-finite values (stat_smooth).\"\n"
     ]
    },
    {
     "name": "stdout",
     "output_type": "stream",
     "text": [
      "  |                                                                      |   0%"
     ]
    },
    {
     "name": "stderr",
     "output_type": "stream",
     "text": [
      "Warning message:\n",
      "\"Removed 5742 rows containing non-finite values (stat_smooth).\"\n"
     ]
    },
    {
     "name": "stdout",
     "output_type": "stream",
     "text": [
      "  |                                                                      |   0%"
     ]
    },
    {
     "name": "stderr",
     "output_type": "stream",
     "text": [
      "Warning message:\n",
      "\"Removed 5596 rows containing non-finite values (stat_smooth).\"\n"
     ]
    },
    {
     "name": "stdout",
     "output_type": "stream",
     "text": [
      "  |                                                                      |   0%"
     ]
    },
    {
     "name": "stderr",
     "output_type": "stream",
     "text": [
      "Warning message:\n",
      "\"Removed 2806 rows containing non-finite values (stat_smooth).\"\n"
     ]
    },
    {
     "name": "stdout",
     "output_type": "stream",
     "text": [
      "  |                                                                      |   0%"
     ]
    },
    {
     "name": "stderr",
     "output_type": "stream",
     "text": [
      "Warning message:\n",
      "\"Removed 2777 rows containing non-finite values (stat_smooth).\"\n"
     ]
    },
    {
     "name": "stdout",
     "output_type": "stream",
     "text": [
      "  |                                                                      |   0%"
     ]
    },
    {
     "name": "stderr",
     "output_type": "stream",
     "text": [
      "Warning message:\n",
      "\"Removed 5597 rows containing non-finite values (stat_smooth).\"\n"
     ]
    },
    {
     "name": "stdout",
     "output_type": "stream",
     "text": [
      "  |                                                                      |   0%"
     ]
    },
    {
     "name": "stderr",
     "output_type": "stream",
     "text": [
      "Warning message:\n",
      "\"Removed 5520 rows containing non-finite values (stat_smooth).\"\n"
     ]
    },
    {
     "name": "stdout",
     "output_type": "stream",
     "text": [
      "  |                                                                      |   0%"
     ]
    },
    {
     "name": "stderr",
     "output_type": "stream",
     "text": [
      "Warning message:\n",
      "\"Removed 2865 rows containing non-finite values (stat_smooth).\"\n"
     ]
    },
    {
     "name": "stdout",
     "output_type": "stream",
     "text": [
      "  |                                                                      |   0%"
     ]
    },
    {
     "name": "stderr",
     "output_type": "stream",
     "text": [
      "Warning message:\n",
      "\"Removed 6246 rows containing non-finite values (stat_smooth).\"\n"
     ]
    },
    {
     "name": "stdout",
     "output_type": "stream",
     "text": [
      "  |                                                                      |   0%"
     ]
    },
    {
     "name": "stderr",
     "output_type": "stream",
     "text": [
      "Warning message:\n",
      "\"Removed 2933 rows containing non-finite values (stat_smooth).\"\n"
     ]
    },
    {
     "name": "stdout",
     "output_type": "stream",
     "text": [
      "  |                                                                      |   0%"
     ]
    },
    {
     "name": "stderr",
     "output_type": "stream",
     "text": [
      "Warning message:\n",
      "\"Removed 2865 rows containing non-finite values (stat_smooth).\"\n"
     ]
    },
    {
     "name": "stdout",
     "output_type": "stream",
     "text": [
      "  |                                                                      |   0%"
     ]
    },
    {
     "name": "stderr",
     "output_type": "stream",
     "text": [
      "Warning message:\n",
      "\"Removed 2806 rows containing non-finite values (stat_smooth).\"\n"
     ]
    },
    {
     "name": "stdout",
     "output_type": "stream",
     "text": [
      "  |                                                                      |   0%"
     ]
    },
    {
     "name": "stderr",
     "output_type": "stream",
     "text": [
      "Warning message:\n",
      "\"Removed 2819 rows containing non-finite values (stat_smooth).\"\n"
     ]
    },
    {
     "name": "stdout",
     "output_type": "stream",
     "text": [
      "  |                                                                      |   0%"
     ]
    },
    {
     "name": "stderr",
     "output_type": "stream",
     "text": [
      "Warning message:\n",
      "\"Removed 1678 rows containing non-finite values (stat_smooth).\"\n"
     ]
    },
    {
     "name": "stdout",
     "output_type": "stream",
     "text": [
      "  |                                                                      |   0%"
     ]
    },
    {
     "name": "stderr",
     "output_type": "stream",
     "text": [
      "Warning message:\n",
      "\"Removed 2806 rows containing non-finite values (stat_smooth).\"\n"
     ]
    },
    {
     "name": "stdout",
     "output_type": "stream",
     "text": [
      "  |                                                                      |   0%"
     ]
    },
    {
     "name": "stderr",
     "output_type": "stream",
     "text": [
      "Warning message:\n",
      "\"Removed 5757 rows containing non-finite values (stat_smooth).\"\n"
     ]
    },
    {
     "name": "stdout",
     "output_type": "stream",
     "text": [
      "  |                                                                      |   0%"
     ]
    },
    {
     "name": "stderr",
     "output_type": "stream",
     "text": [
      "Warning message:\n",
      "\"Removed 2925 rows containing non-finite values (stat_smooth).\"\n"
     ]
    },
    {
     "name": "stdout",
     "output_type": "stream",
     "text": [
      "  |                                                                      |   0%"
     ]
    },
    {
     "name": "stderr",
     "output_type": "stream",
     "text": [
      "Warning message:\n",
      "\"Removed 1657 rows containing non-finite values (stat_smooth).\"\n"
     ]
    },
    {
     "name": "stdout",
     "output_type": "stream",
     "text": [
      "  |                                                                      |   0%"
     ]
    },
    {
     "name": "stderr",
     "output_type": "stream",
     "text": [
      "Warning message:\n",
      "\"Removed 2207 rows containing non-finite values (stat_smooth).\"\n"
     ]
    },
    {
     "name": "stdout",
     "output_type": "stream",
     "text": [
      "  |                                                                      |   0%"
     ]
    },
    {
     "name": "stderr",
     "output_type": "stream",
     "text": [
      "Warning message:\n",
      "\"Removed 5748 rows containing non-finite values (stat_smooth).\"\n"
     ]
    },
    {
     "name": "stdout",
     "output_type": "stream",
     "text": [
      "  |                                                                      |   0%"
     ]
    },
    {
     "name": "stderr",
     "output_type": "stream",
     "text": [
      "Warning message:\n",
      "\"Removed 1742 rows containing non-finite values (stat_smooth).\"\n"
     ]
    },
    {
     "name": "stdout",
     "output_type": "stream",
     "text": [
      "  |                                                                      |   0%"
     ]
    },
    {
     "name": "stderr",
     "output_type": "stream",
     "text": [
      "Warning message:\n",
      "\"Removed 6008 rows containing non-finite values (stat_smooth).\"\n"
     ]
    },
    {
     "name": "stdout",
     "output_type": "stream",
     "text": [
      "  |                                                                      |   0%"
     ]
    },
    {
     "name": "stderr",
     "output_type": "stream",
     "text": [
      "Warning message:\n",
      "\"Removed 1464 rows containing non-finite values (stat_smooth).\"\n"
     ]
    },
    {
     "name": "stdout",
     "output_type": "stream",
     "text": [
      "  |                                                                      |   0%"
     ]
    },
    {
     "name": "stderr",
     "output_type": "stream",
     "text": [
      "Warning message:\n",
      "\"Removed 1814 rows containing non-finite values (stat_smooth).\"\n"
     ]
    },
    {
     "name": "stdout",
     "output_type": "stream",
     "text": [
      "  |                                                                      |   0%"
     ]
    },
    {
     "name": "stderr",
     "output_type": "stream",
     "text": [
      "Warning message:\n",
      "\"Removed 5752 rows containing non-finite values (stat_smooth).\"\n"
     ]
    },
    {
     "name": "stdout",
     "output_type": "stream",
     "text": [
      "  |                                                                      |   0%"
     ]
    },
    {
     "name": "stderr",
     "output_type": "stream",
     "text": [
      "Warning message:\n",
      "\"Removed 1489 rows containing non-finite values (stat_smooth).\"\n"
     ]
    },
    {
     "name": "stdout",
     "output_type": "stream",
     "text": [
      "  |                                                                      |   0%"
     ]
    },
    {
     "name": "stderr",
     "output_type": "stream",
     "text": [
      "Warning message:\n",
      "\"Removed 5596 rows containing non-finite values (stat_smooth).\"\n"
     ]
    },
    {
     "name": "stdout",
     "output_type": "stream",
     "text": [
      "  |                                                                      |   0%"
     ]
    },
    {
     "name": "stderr",
     "output_type": "stream",
     "text": [
      "Warning message:\n",
      "\"Removed 5475 rows containing non-finite values (stat_smooth).\"\n"
     ]
    },
    {
     "name": "stdout",
     "output_type": "stream",
     "text": [
      "  |                                                                      |   0%"
     ]
    },
    {
     "name": "stderr",
     "output_type": "stream",
     "text": [
      "Warning message:\n",
      "\"Removed 2806 rows containing non-finite values (stat_smooth).\"\n"
     ]
    },
    {
     "name": "stdout",
     "output_type": "stream",
     "text": [
      "  |                                                                      |   0%"
     ]
    },
    {
     "name": "stderr",
     "output_type": "stream",
     "text": [
      "Warning message:\n",
      "\"Removed 5686 rows containing non-finite values (stat_smooth).\"\n"
     ]
    },
    {
     "name": "stdout",
     "output_type": "stream",
     "text": [
      "\r",
      "  |                                                                            \r",
      "  |===================================================================== |  99%"
     ]
    },
    {
     "name": "stderr",
     "output_type": "stream",
     "text": [
      "Warning message in system(cmd, intern = intern, wait = wait | intern, show.output.on.console = wait, :\n",
      "\"running command 'C:\\WINDOWS\\system32\\cmd.exe /c explorer  report-r90\\report.html' had status 1\"\n"
     ]
    },
    {
     "data": {
      "text/html": [],
      "text/latex": [],
      "text/markdown": [],
      "text/plain": [
       "character(0)\n",
       "attr(,\"status\")\n",
       "[1] 1"
      ]
     },
     "metadata": {},
     "output_type": "display_data"
    }
   ],
   "source": [
    "exploreData(data=df90, y='EN_ATM_CO2E_KT',dir=\"report-r90\", debug=FALSE) "
   ]
  },
  {
   "cell_type": "code",
   "execution_count": null,
   "metadata": {},
   "outputs": [],
   "source": []
  }
 ],
 "metadata": {
  "kernelspec": {
   "display_name": "R",
   "language": "R",
   "name": "ir"
  },
  "language_info": {
   "codemirror_mode": "r",
   "file_extension": ".r",
   "mimetype": "text/x-r-source",
   "name": "R",
   "pygments_lexer": "r",
   "version": "3.6.1"
  }
 },
 "nbformat": 4,
 "nbformat_minor": 2
}
