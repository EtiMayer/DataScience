{
 "cells": [
  {
   "cell_type": "markdown",
   "metadata": {},
   "source": [
    "# Hackathon Prediction"
   ]
  },
  {
   "cell_type": "code",
   "execution_count": 1,
   "metadata": {},
   "outputs": [],
   "source": [
    "import numpy as np\n",
    "import pandas as pd\n",
    "import seaborn as sns\n",
    "import sklearn\n",
    "from sklearn import metrics\n",
    "from pandas.api.types import CategoricalDtype\n",
    "import pyMechkar as pyMechkar\n",
    "from pyMechkar import analysis"
   ]
  },
  {
   "cell_type": "code",
   "execution_count": 4,
   "metadata": {},
   "outputs": [],
   "source": [
    "# Train df\n",
    "df = pd.read_csv(\"c:/Users/Mayer/Documents/DataScience/hackathon/train.csv/nona.train-train.csv\")\n",
    "dftest = pd.read_csv(\"c:/Users/Mayer/Documents/DataScience/hackathon/train.csv/nona.train-test.csv\")"
   ]
  },
  {
   "cell_type": "code",
   "execution_count": 5,
   "metadata": {},
   "outputs": [
    {
     "data": {
      "text/html": [
       "<div>\n",
       "<style scoped>\n",
       "    .dataframe tbody tr th:only-of-type {\n",
       "        vertical-align: middle;\n",
       "    }\n",
       "\n",
       "    .dataframe tbody tr th {\n",
       "        vertical-align: top;\n",
       "    }\n",
       "\n",
       "    .dataframe thead th {\n",
       "        text-align: right;\n",
       "    }\n",
       "</style>\n",
       "<table border=\"1\" class=\"dataframe\">\n",
       "  <thead>\n",
       "    <tr style=\"text-align: right;\">\n",
       "      <th></th>\n",
       "      <th>Label</th>\n",
       "      <th>device_id</th>\n",
       "      <th>timestamp</th>\n",
       "      <th>packet_length</th>\n",
       "      <th>Header_length</th>\n",
       "      <th>TSFT</th>\n",
       "      <th>Flags</th>\n",
       "      <th>Rate</th>\n",
       "      <th>Channel</th>\n",
       "      <th>dBm_Antenna_Noise</th>\n",
       "      <th>...</th>\n",
       "      <th>WLAN_RADIO_Duration_microseconds</th>\n",
       "      <th>WLAN_RADIO_Preamble</th>\n",
       "      <th>WLAN_Version</th>\n",
       "      <th>WLAN_Retry</th>\n",
       "      <th>PWR_MGT</th>\n",
       "      <th>Sequence_number</th>\n",
       "      <th>Tagged_parameters_bytes</th>\n",
       "      <th>Supported_Rates</th>\n",
       "      <th>MAC_timestamp</th>\n",
       "      <th>TSF_timestamp</th>\n",
       "    </tr>\n",
       "  </thead>\n",
       "  <tbody>\n",
       "    <tr>\n",
       "      <th>0</th>\n",
       "      <td>10</td>\n",
       "      <td>117</td>\n",
       "      <td>1449841048</td>\n",
       "      <td>112</td>\n",
       "      <td>38</td>\n",
       "      <td>0</td>\n",
       "      <td>0</td>\n",
       "      <td>0</td>\n",
       "      <td>0</td>\n",
       "      <td>0</td>\n",
       "      <td>...</td>\n",
       "      <td>784</td>\n",
       "      <td>192</td>\n",
       "      <td>0</td>\n",
       "      <td>0</td>\n",
       "      <td>0</td>\n",
       "      <td>0</td>\n",
       "      <td>46</td>\n",
       "      <td>1</td>\n",
       "      <td>8.242913e+08</td>\n",
       "      <td>8.242913e+08</td>\n",
       "    </tr>\n",
       "    <tr>\n",
       "      <th>1</th>\n",
       "      <td>1</td>\n",
       "      <td>838</td>\n",
       "      <td>1367226144</td>\n",
       "      <td>90</td>\n",
       "      <td>26</td>\n",
       "      <td>1</td>\n",
       "      <td>0</td>\n",
       "      <td>1</td>\n",
       "      <td>1</td>\n",
       "      <td>0</td>\n",
       "      <td>...</td>\n",
       "      <td>160</td>\n",
       "      <td>96</td>\n",
       "      <td>0</td>\n",
       "      <td>0</td>\n",
       "      <td>0</td>\n",
       "      <td>3321</td>\n",
       "      <td>40</td>\n",
       "      <td>miss</td>\n",
       "      <td>3.251996e+09</td>\n",
       "      <td>3.251996e+09</td>\n",
       "    </tr>\n",
       "    <tr>\n",
       "      <th>2</th>\n",
       "      <td>3</td>\n",
       "      <td>10763</td>\n",
       "      <td>1367312396</td>\n",
       "      <td>96</td>\n",
       "      <td>26</td>\n",
       "      <td>1</td>\n",
       "      <td>0</td>\n",
       "      <td>1</td>\n",
       "      <td>1</td>\n",
       "      <td>0</td>\n",
       "      <td>...</td>\n",
       "      <td>166</td>\n",
       "      <td>96</td>\n",
       "      <td>0</td>\n",
       "      <td>0</td>\n",
       "      <td>0</td>\n",
       "      <td>65</td>\n",
       "      <td>46</td>\n",
       "      <td>miss</td>\n",
       "      <td>6.676006e+08</td>\n",
       "      <td>6.676006e+08</td>\n",
       "    </tr>\n",
       "    <tr>\n",
       "      <th>3</th>\n",
       "      <td>1</td>\n",
       "      <td>812</td>\n",
       "      <td>1367572626</td>\n",
       "      <td>82</td>\n",
       "      <td>26</td>\n",
       "      <td>1</td>\n",
       "      <td>0</td>\n",
       "      <td>1</td>\n",
       "      <td>1</td>\n",
       "      <td>0</td>\n",
       "      <td>...</td>\n",
       "      <td>152</td>\n",
       "      <td>96</td>\n",
       "      <td>0</td>\n",
       "      <td>0</td>\n",
       "      <td>0</td>\n",
       "      <td>1058</td>\n",
       "      <td>32</td>\n",
       "      <td>miss</td>\n",
       "      <td>7.080892e+08</td>\n",
       "      <td>7.080892e+08</td>\n",
       "    </tr>\n",
       "    <tr>\n",
       "      <th>4</th>\n",
       "      <td>1</td>\n",
       "      <td>5821</td>\n",
       "      <td>1367312580</td>\n",
       "      <td>93</td>\n",
       "      <td>26</td>\n",
       "      <td>1</td>\n",
       "      <td>0</td>\n",
       "      <td>1</td>\n",
       "      <td>1</td>\n",
       "      <td>0</td>\n",
       "      <td>...</td>\n",
       "      <td>163</td>\n",
       "      <td>96</td>\n",
       "      <td>0</td>\n",
       "      <td>0</td>\n",
       "      <td>0</td>\n",
       "      <td>2206</td>\n",
       "      <td>43</td>\n",
       "      <td>miss</td>\n",
       "      <td>8.507712e+08</td>\n",
       "      <td>8.507712e+08</td>\n",
       "    </tr>\n",
       "  </tbody>\n",
       "</table>\n",
       "<p>5 rows × 41 columns</p>\n",
       "</div>"
      ],
      "text/plain": [
       "   Label  device_id   timestamp  packet_length  Header_length  TSFT  Flags  \\\n",
       "0     10        117  1449841048            112             38     0      0   \n",
       "1      1        838  1367226144             90             26     1      0   \n",
       "2      3      10763  1367312396             96             26     1      0   \n",
       "3      1        812  1367572626             82             26     1      0   \n",
       "4      1       5821  1367312580             93             26     1      0   \n",
       "\n",
       "   Rate  Channel  dBm_Antenna_Noise  ...  WLAN_RADIO_Duration_microseconds  \\\n",
       "0     0        0                  0  ...                               784   \n",
       "1     1        1                  0  ...                               160   \n",
       "2     1        1                  0  ...                               166   \n",
       "3     1        1                  0  ...                               152   \n",
       "4     1        1                  0  ...                               163   \n",
       "\n",
       "   WLAN_RADIO_Preamble  WLAN_Version  WLAN_Retry PWR_MGT  Sequence_number  \\\n",
       "0                  192             0           0       0                0   \n",
       "1                   96             0           0       0             3321   \n",
       "2                   96             0           0       0               65   \n",
       "3                   96             0           0       0             1058   \n",
       "4                   96             0           0       0             2206   \n",
       "\n",
       "   Tagged_parameters_bytes  Supported_Rates  MAC_timestamp  TSF_timestamp  \n",
       "0                       46                1   8.242913e+08   8.242913e+08  \n",
       "1                       40             miss   3.251996e+09   3.251996e+09  \n",
       "2                       46             miss   6.676006e+08   6.676006e+08  \n",
       "3                       32             miss   7.080892e+08   7.080892e+08  \n",
       "4                       43             miss   8.507712e+08   8.507712e+08  \n",
       "\n",
       "[5 rows x 41 columns]"
      ]
     },
     "execution_count": 5,
     "metadata": {},
     "output_type": "execute_result"
    }
   ],
   "source": [
    "df.head()"
   ]
  },
  {
   "cell_type": "raw",
   "metadata": {},
   "source": [
    "df = df.drop(columns=['SSID'])\n",
    "dftest = dftest.drop(columns=['SSID'])"
   ]
  },
  {
   "cell_type": "code",
   "execution_count": 142,
   "metadata": {},
   "outputs": [],
   "source": [
    "test2 = pd.read_csv(\"c:/Users/Mayer/Documents/DataScience/hackathon/nona.test.csv\")"
   ]
  },
  {
   "cell_type": "code",
   "execution_count": 143,
   "metadata": {},
   "outputs": [
    {
     "data": {
      "text/html": [
       "<div>\n",
       "<style scoped>\n",
       "    .dataframe tbody tr th:only-of-type {\n",
       "        vertical-align: middle;\n",
       "    }\n",
       "\n",
       "    .dataframe tbody tr th {\n",
       "        vertical-align: top;\n",
       "    }\n",
       "\n",
       "    .dataframe thead th {\n",
       "        text-align: right;\n",
       "    }\n",
       "</style>\n",
       "<table border=\"1\" class=\"dataframe\">\n",
       "  <thead>\n",
       "    <tr style=\"text-align: right;\">\n",
       "      <th></th>\n",
       "      <th>Label</th>\n",
       "      <th>device_id</th>\n",
       "      <th>timestamp</th>\n",
       "      <th>packet_length</th>\n",
       "      <th>Header_length</th>\n",
       "      <th>TSFT</th>\n",
       "      <th>Flags</th>\n",
       "      <th>Rate</th>\n",
       "      <th>Channel</th>\n",
       "      <th>dBm_Antenna_Noise</th>\n",
       "      <th>...</th>\n",
       "      <th>WLAN_Retry</th>\n",
       "      <th>PWR_MGT</th>\n",
       "      <th>Destination_address</th>\n",
       "      <th>BSS_Id</th>\n",
       "      <th>Sequence_number</th>\n",
       "      <th>Tagged_parameters_bytes</th>\n",
       "      <th>SSID</th>\n",
       "      <th>Supported_Rates</th>\n",
       "      <th>MAC_timestamp</th>\n",
       "      <th>TSF_timestamp</th>\n",
       "    </tr>\n",
       "  </thead>\n",
       "  <tbody>\n",
       "    <tr>\n",
       "      <th>0</th>\n",
       "      <td>NaN</td>\n",
       "      <td>1</td>\n",
       "      <td>1406446702</td>\n",
       "      <td>62</td>\n",
       "      <td>18</td>\n",
       "      <td>0</td>\n",
       "      <td>1</td>\n",
       "      <td>1</td>\n",
       "      <td>1</td>\n",
       "      <td>0</td>\n",
       "      <td>...</td>\n",
       "      <td>0</td>\n",
       "      <td>0</td>\n",
       "      <td>ff:ff:ff:ff:ff:ff</td>\n",
       "      <td>ff:ff:ff:ff:ff:ff</td>\n",
       "      <td>198</td>\n",
       "      <td>20</td>\n",
       "      <td>SSID_004405</td>\n",
       "      <td>1</td>\n",
       "      <td>0</td>\n",
       "      <td>0</td>\n",
       "    </tr>\n",
       "    <tr>\n",
       "      <th>1</th>\n",
       "      <td>NaN</td>\n",
       "      <td>1</td>\n",
       "      <td>1406446702</td>\n",
       "      <td>62</td>\n",
       "      <td>18</td>\n",
       "      <td>0</td>\n",
       "      <td>1</td>\n",
       "      <td>1</td>\n",
       "      <td>1</td>\n",
       "      <td>0</td>\n",
       "      <td>...</td>\n",
       "      <td>0</td>\n",
       "      <td>0</td>\n",
       "      <td>ff:ff:ff:ff:ff:ff</td>\n",
       "      <td>ff:ff:ff:ff:ff:ff</td>\n",
       "      <td>199</td>\n",
       "      <td>20</td>\n",
       "      <td>SSID_004405</td>\n",
       "      <td>1</td>\n",
       "      <td>0</td>\n",
       "      <td>0</td>\n",
       "    </tr>\n",
       "    <tr>\n",
       "      <th>2</th>\n",
       "      <td>NaN</td>\n",
       "      <td>1</td>\n",
       "      <td>1406446702</td>\n",
       "      <td>62</td>\n",
       "      <td>18</td>\n",
       "      <td>0</td>\n",
       "      <td>1</td>\n",
       "      <td>1</td>\n",
       "      <td>1</td>\n",
       "      <td>0</td>\n",
       "      <td>...</td>\n",
       "      <td>0</td>\n",
       "      <td>0</td>\n",
       "      <td>ff:ff:ff:ff:ff:ff</td>\n",
       "      <td>ff:ff:ff:ff:ff:ff</td>\n",
       "      <td>200</td>\n",
       "      <td>20</td>\n",
       "      <td>SSID_004405</td>\n",
       "      <td>1</td>\n",
       "      <td>0</td>\n",
       "      <td>0</td>\n",
       "    </tr>\n",
       "    <tr>\n",
       "      <th>3</th>\n",
       "      <td>NaN</td>\n",
       "      <td>1</td>\n",
       "      <td>1406446738</td>\n",
       "      <td>62</td>\n",
       "      <td>18</td>\n",
       "      <td>0</td>\n",
       "      <td>1</td>\n",
       "      <td>1</td>\n",
       "      <td>1</td>\n",
       "      <td>0</td>\n",
       "      <td>...</td>\n",
       "      <td>0</td>\n",
       "      <td>0</td>\n",
       "      <td>ff:ff:ff:ff:ff:ff</td>\n",
       "      <td>ff:ff:ff:ff:ff:ff</td>\n",
       "      <td>249</td>\n",
       "      <td>20</td>\n",
       "      <td>SSID_004405</td>\n",
       "      <td>1</td>\n",
       "      <td>0</td>\n",
       "      <td>0</td>\n",
       "    </tr>\n",
       "    <tr>\n",
       "      <th>4</th>\n",
       "      <td>NaN</td>\n",
       "      <td>1</td>\n",
       "      <td>1406446738</td>\n",
       "      <td>62</td>\n",
       "      <td>18</td>\n",
       "      <td>0</td>\n",
       "      <td>1</td>\n",
       "      <td>1</td>\n",
       "      <td>1</td>\n",
       "      <td>0</td>\n",
       "      <td>...</td>\n",
       "      <td>0</td>\n",
       "      <td>0</td>\n",
       "      <td>ff:ff:ff:ff:ff:ff</td>\n",
       "      <td>ff:ff:ff:ff:ff:ff</td>\n",
       "      <td>250</td>\n",
       "      <td>20</td>\n",
       "      <td>SSID_004405</td>\n",
       "      <td>1</td>\n",
       "      <td>0</td>\n",
       "      <td>0</td>\n",
       "    </tr>\n",
       "  </tbody>\n",
       "</table>\n",
       "<p>5 rows × 45 columns</p>\n",
       "</div>"
      ],
      "text/plain": [
       "   Label  device_id   timestamp  packet_length  Header_length  TSFT  Flags  \\\n",
       "0    NaN          1  1406446702             62             18     0      1   \n",
       "1    NaN          1  1406446702             62             18     0      1   \n",
       "2    NaN          1  1406446702             62             18     0      1   \n",
       "3    NaN          1  1406446738             62             18     0      1   \n",
       "4    NaN          1  1406446738             62             18     0      1   \n",
       "\n",
       "   Rate  Channel  dBm_Antenna_Noise  ...  WLAN_Retry  PWR_MGT  \\\n",
       "0     1        1                  0  ...           0        0   \n",
       "1     1        1                  0  ...           0        0   \n",
       "2     1        1                  0  ...           0        0   \n",
       "3     1        1                  0  ...           0        0   \n",
       "4     1        1                  0  ...           0        0   \n",
       "\n",
       "  Destination_address             BSS_Id  Sequence_number  \\\n",
       "0   ff:ff:ff:ff:ff:ff  ff:ff:ff:ff:ff:ff              198   \n",
       "1   ff:ff:ff:ff:ff:ff  ff:ff:ff:ff:ff:ff              199   \n",
       "2   ff:ff:ff:ff:ff:ff  ff:ff:ff:ff:ff:ff              200   \n",
       "3   ff:ff:ff:ff:ff:ff  ff:ff:ff:ff:ff:ff              249   \n",
       "4   ff:ff:ff:ff:ff:ff  ff:ff:ff:ff:ff:ff              250   \n",
       "\n",
       "  Tagged_parameters_bytes         SSID  Supported_Rates  MAC_timestamp  \\\n",
       "0                      20  SSID_004405                1              0   \n",
       "1                      20  SSID_004405                1              0   \n",
       "2                      20  SSID_004405                1              0   \n",
       "3                      20  SSID_004405                1              0   \n",
       "4                      20  SSID_004405                1              0   \n",
       "\n",
       "   TSF_timestamp  \n",
       "0              0  \n",
       "1              0  \n",
       "2              0  \n",
       "3              0  \n",
       "4              0  \n",
       "\n",
       "[5 rows x 45 columns]"
      ]
     },
     "execution_count": 143,
     "metadata": {},
     "output_type": "execute_result"
    }
   ],
   "source": [
    "test2.head()"
   ]
  },
  {
   "cell_type": "code",
   "execution_count": 149,
   "metadata": {},
   "outputs": [],
   "source": [
    "from category_encoders import OneHotEncoder as enc\n",
    "from sklearn import preprocessing\n",
    "from sklearn.preprocessing import OneHotEncoder"
   ]
  },
  {
   "cell_type": "code",
   "execution_count": 150,
   "metadata": {},
   "outputs": [],
   "source": [
    "enc = enc(verbose=0, cols=None, drop_invariant=False, return_df=True, handle_missing='value', handle_unknown='value', use_cat_names=False)"
   ]
  },
  {
   "cell_type": "code",
   "execution_count": 151,
   "metadata": {},
   "outputs": [],
   "source": [
    "dfenc = test2\n"
   ]
  },
  {
   "cell_type": "code",
   "execution_count": 152,
   "metadata": {},
   "outputs": [],
   "source": [
    "dfenc = enc.fit_transform(dfenc)\n"
   ]
  },
  {
   "cell_type": "code",
   "execution_count": 99,
   "metadata": {},
   "outputs": [
    {
     "ename": "KeyError",
     "evalue": "'Preamble'",
     "output_type": "error",
     "traceback": [
      "\u001b[1;31m---------------------------------------------------------------------------\u001b[0m",
      "\u001b[1;31mKeyError\u001b[0m                                  Traceback (most recent call last)",
      "\u001b[1;32m~\\Anaconda3\\lib\\site-packages\\pandas\\core\\indexes\\base.py\u001b[0m in \u001b[0;36mget_loc\u001b[1;34m(self, key, method, tolerance)\u001b[0m\n\u001b[0;32m   2896\u001b[0m             \u001b[1;32mtry\u001b[0m\u001b[1;33m:\u001b[0m\u001b[1;33m\u001b[0m\u001b[1;33m\u001b[0m\u001b[0m\n\u001b[1;32m-> 2897\u001b[1;33m                 \u001b[1;32mreturn\u001b[0m \u001b[0mself\u001b[0m\u001b[1;33m.\u001b[0m\u001b[0m_engine\u001b[0m\u001b[1;33m.\u001b[0m\u001b[0mget_loc\u001b[0m\u001b[1;33m(\u001b[0m\u001b[0mkey\u001b[0m\u001b[1;33m)\u001b[0m\u001b[1;33m\u001b[0m\u001b[1;33m\u001b[0m\u001b[0m\n\u001b[0m\u001b[0;32m   2898\u001b[0m             \u001b[1;32mexcept\u001b[0m \u001b[0mKeyError\u001b[0m\u001b[1;33m:\u001b[0m\u001b[1;33m\u001b[0m\u001b[1;33m\u001b[0m\u001b[0m\n",
      "\u001b[1;32mpandas/_libs/index.pyx\u001b[0m in \u001b[0;36mpandas._libs.index.IndexEngine.get_loc\u001b[1;34m()\u001b[0m\n",
      "\u001b[1;32mpandas/_libs/index.pyx\u001b[0m in \u001b[0;36mpandas._libs.index.IndexEngine.get_loc\u001b[1;34m()\u001b[0m\n",
      "\u001b[1;32mpandas/_libs/hashtable_class_helper.pxi\u001b[0m in \u001b[0;36mpandas._libs.hashtable.PyObjectHashTable.get_item\u001b[1;34m()\u001b[0m\n",
      "\u001b[1;32mpandas/_libs/hashtable_class_helper.pxi\u001b[0m in \u001b[0;36mpandas._libs.hashtable.PyObjectHashTable.get_item\u001b[1;34m()\u001b[0m\n",
      "\u001b[1;31mKeyError\u001b[0m: 'Preamble'",
      "\nDuring handling of the above exception, another exception occurred:\n",
      "\u001b[1;31mKeyError\u001b[0m                                  Traceback (most recent call last)",
      "\u001b[1;32m<ipython-input-99-0c9cad14dbc8>\u001b[0m in \u001b[0;36m<module>\u001b[1;34m\u001b[0m\n\u001b[1;32m----> 1\u001b[1;33m \u001b[0mdfenc\u001b[0m\u001b[1;33m[\u001b[0m\u001b[1;34m'Preamble'\u001b[0m\u001b[1;33m]\u001b[0m \u001b[1;33m=\u001b[0m \u001b[0mdfenc\u001b[0m\u001b[1;33m[\u001b[0m\u001b[1;34m'Preamble'\u001b[0m\u001b[1;33m]\u001b[0m\u001b[1;33m.\u001b[0m\u001b[0mastype\u001b[0m\u001b[1;33m(\u001b[0m\u001b[1;34m\"category\"\u001b[0m\u001b[1;33m)\u001b[0m\u001b[1;33m\u001b[0m\u001b[1;33m\u001b[0m\u001b[0m\n\u001b[0m",
      "\u001b[1;32m~\\Anaconda3\\lib\\site-packages\\pandas\\core\\frame.py\u001b[0m in \u001b[0;36m__getitem__\u001b[1;34m(self, key)\u001b[0m\n\u001b[0;32m   2993\u001b[0m             \u001b[1;32mif\u001b[0m \u001b[0mself\u001b[0m\u001b[1;33m.\u001b[0m\u001b[0mcolumns\u001b[0m\u001b[1;33m.\u001b[0m\u001b[0mnlevels\u001b[0m \u001b[1;33m>\u001b[0m \u001b[1;36m1\u001b[0m\u001b[1;33m:\u001b[0m\u001b[1;33m\u001b[0m\u001b[1;33m\u001b[0m\u001b[0m\n\u001b[0;32m   2994\u001b[0m                 \u001b[1;32mreturn\u001b[0m \u001b[0mself\u001b[0m\u001b[1;33m.\u001b[0m\u001b[0m_getitem_multilevel\u001b[0m\u001b[1;33m(\u001b[0m\u001b[0mkey\u001b[0m\u001b[1;33m)\u001b[0m\u001b[1;33m\u001b[0m\u001b[1;33m\u001b[0m\u001b[0m\n\u001b[1;32m-> 2995\u001b[1;33m             \u001b[0mindexer\u001b[0m \u001b[1;33m=\u001b[0m \u001b[0mself\u001b[0m\u001b[1;33m.\u001b[0m\u001b[0mcolumns\u001b[0m\u001b[1;33m.\u001b[0m\u001b[0mget_loc\u001b[0m\u001b[1;33m(\u001b[0m\u001b[0mkey\u001b[0m\u001b[1;33m)\u001b[0m\u001b[1;33m\u001b[0m\u001b[1;33m\u001b[0m\u001b[0m\n\u001b[0m\u001b[0;32m   2996\u001b[0m             \u001b[1;32mif\u001b[0m \u001b[0mis_integer\u001b[0m\u001b[1;33m(\u001b[0m\u001b[0mindexer\u001b[0m\u001b[1;33m)\u001b[0m\u001b[1;33m:\u001b[0m\u001b[1;33m\u001b[0m\u001b[1;33m\u001b[0m\u001b[0m\n\u001b[0;32m   2997\u001b[0m                 \u001b[0mindexer\u001b[0m \u001b[1;33m=\u001b[0m \u001b[1;33m[\u001b[0m\u001b[0mindexer\u001b[0m\u001b[1;33m]\u001b[0m\u001b[1;33m\u001b[0m\u001b[1;33m\u001b[0m\u001b[0m\n",
      "\u001b[1;32m~\\Anaconda3\\lib\\site-packages\\pandas\\core\\indexes\\base.py\u001b[0m in \u001b[0;36mget_loc\u001b[1;34m(self, key, method, tolerance)\u001b[0m\n\u001b[0;32m   2897\u001b[0m                 \u001b[1;32mreturn\u001b[0m \u001b[0mself\u001b[0m\u001b[1;33m.\u001b[0m\u001b[0m_engine\u001b[0m\u001b[1;33m.\u001b[0m\u001b[0mget_loc\u001b[0m\u001b[1;33m(\u001b[0m\u001b[0mkey\u001b[0m\u001b[1;33m)\u001b[0m\u001b[1;33m\u001b[0m\u001b[1;33m\u001b[0m\u001b[0m\n\u001b[0;32m   2898\u001b[0m             \u001b[1;32mexcept\u001b[0m \u001b[0mKeyError\u001b[0m\u001b[1;33m:\u001b[0m\u001b[1;33m\u001b[0m\u001b[1;33m\u001b[0m\u001b[0m\n\u001b[1;32m-> 2899\u001b[1;33m                 \u001b[1;32mreturn\u001b[0m \u001b[0mself\u001b[0m\u001b[1;33m.\u001b[0m\u001b[0m_engine\u001b[0m\u001b[1;33m.\u001b[0m\u001b[0mget_loc\u001b[0m\u001b[1;33m(\u001b[0m\u001b[0mself\u001b[0m\u001b[1;33m.\u001b[0m\u001b[0m_maybe_cast_indexer\u001b[0m\u001b[1;33m(\u001b[0m\u001b[0mkey\u001b[0m\u001b[1;33m)\u001b[0m\u001b[1;33m)\u001b[0m\u001b[1;33m\u001b[0m\u001b[1;33m\u001b[0m\u001b[0m\n\u001b[0m\u001b[0;32m   2900\u001b[0m         \u001b[0mindexer\u001b[0m \u001b[1;33m=\u001b[0m \u001b[0mself\u001b[0m\u001b[1;33m.\u001b[0m\u001b[0mget_indexer\u001b[0m\u001b[1;33m(\u001b[0m\u001b[1;33m[\u001b[0m\u001b[0mkey\u001b[0m\u001b[1;33m]\u001b[0m\u001b[1;33m,\u001b[0m \u001b[0mmethod\u001b[0m\u001b[1;33m=\u001b[0m\u001b[0mmethod\u001b[0m\u001b[1;33m,\u001b[0m \u001b[0mtolerance\u001b[0m\u001b[1;33m=\u001b[0m\u001b[0mtolerance\u001b[0m\u001b[1;33m)\u001b[0m\u001b[1;33m\u001b[0m\u001b[1;33m\u001b[0m\u001b[0m\n\u001b[0;32m   2901\u001b[0m         \u001b[1;32mif\u001b[0m \u001b[0mindexer\u001b[0m\u001b[1;33m.\u001b[0m\u001b[0mndim\u001b[0m \u001b[1;33m>\u001b[0m \u001b[1;36m1\u001b[0m \u001b[1;32mor\u001b[0m \u001b[0mindexer\u001b[0m\u001b[1;33m.\u001b[0m\u001b[0msize\u001b[0m \u001b[1;33m>\u001b[0m \u001b[1;36m1\u001b[0m\u001b[1;33m:\u001b[0m\u001b[1;33m\u001b[0m\u001b[1;33m\u001b[0m\u001b[0m\n",
      "\u001b[1;32mpandas/_libs/index.pyx\u001b[0m in \u001b[0;36mpandas._libs.index.IndexEngine.get_loc\u001b[1;34m()\u001b[0m\n",
      "\u001b[1;32mpandas/_libs/index.pyx\u001b[0m in \u001b[0;36mpandas._libs.index.IndexEngine.get_loc\u001b[1;34m()\u001b[0m\n",
      "\u001b[1;32mpandas/_libs/hashtable_class_helper.pxi\u001b[0m in \u001b[0;36mpandas._libs.hashtable.PyObjectHashTable.get_item\u001b[1;34m()\u001b[0m\n",
      "\u001b[1;32mpandas/_libs/hashtable_class_helper.pxi\u001b[0m in \u001b[0;36mpandas._libs.hashtable.PyObjectHashTable.get_item\u001b[1;34m()\u001b[0m\n",
      "\u001b[1;31mKeyError\u001b[0m: 'Preamble'"
     ]
    }
   ],
   "source": [
    "dfenc['Preamble'] = dfenc['Preamble'].astype(\"category\")"
   ]
  },
  {
   "cell_type": "raw",
   "metadata": {},
   "source": [
    "df['SSID'] = pd.factorize(df['SSID'])\n",
    "dftest['SSID'] = pd.factorize( dftest['SSID'])\n",
    "df['Destination_address'] = pd.factorize(df['Destination_address'])\n",
    "dftest['Destination_address'] = pd.factorize( dftest['Destination_address'])\n",
    "df['Source_address'] = pd.factorize(df['Source_address'])\n",
    "dftest['Source_address'] = pd.factorize( dftest['Source_address'])\n",
    "df['BSS_Id'] = pd.factorize(df['BSS_Id'])\n",
    "dftest['BSS_Id'] = pd.factorize( dftest['BSS_Id'])\n"
   ]
  },
  {
   "cell_type": "code",
   "execution_count": 11,
   "metadata": {},
   "outputs": [
    {
     "data": {
      "text/html": [
       "<div>\n",
       "<style scoped>\n",
       "    .dataframe tbody tr th:only-of-type {\n",
       "        vertical-align: middle;\n",
       "    }\n",
       "\n",
       "    .dataframe tbody tr th {\n",
       "        vertical-align: top;\n",
       "    }\n",
       "\n",
       "    .dataframe thead th {\n",
       "        text-align: right;\n",
       "    }\n",
       "</style>\n",
       "<table border=\"1\" class=\"dataframe\">\n",
       "  <thead>\n",
       "    <tr style=\"text-align: right;\">\n",
       "      <th></th>\n",
       "      <th>Label</th>\n",
       "      <th>device_id</th>\n",
       "      <th>timestamp</th>\n",
       "      <th>packet_length</th>\n",
       "      <th>Header_length</th>\n",
       "      <th>TSFT</th>\n",
       "      <th>Flags</th>\n",
       "      <th>Rate</th>\n",
       "      <th>Channel</th>\n",
       "      <th>dBm_Antenna_Noise</th>\n",
       "      <th>...</th>\n",
       "      <th>WLAN_Retry</th>\n",
       "      <th>PWR_MGT</th>\n",
       "      <th>Sequence_number</th>\n",
       "      <th>Tagged_parameters_bytes</th>\n",
       "      <th>Supported_Rates_1</th>\n",
       "      <th>Supported_Rates_2</th>\n",
       "      <th>Supported_Rates_3</th>\n",
       "      <th>Supported_Rates_4</th>\n",
       "      <th>MAC_timestamp</th>\n",
       "      <th>TSF_timestamp</th>\n",
       "    </tr>\n",
       "  </thead>\n",
       "  <tbody>\n",
       "    <tr>\n",
       "      <th>count</th>\n",
       "      <td>109176.000000</td>\n",
       "      <td>109176.000000</td>\n",
       "      <td>1.091760e+05</td>\n",
       "      <td>109176.000000</td>\n",
       "      <td>109176.000000</td>\n",
       "      <td>109176.000000</td>\n",
       "      <td>109176.000000</td>\n",
       "      <td>109176.000000</td>\n",
       "      <td>109176.000000</td>\n",
       "      <td>109176.000000</td>\n",
       "      <td>...</td>\n",
       "      <td>109176.000000</td>\n",
       "      <td>109176.000000</td>\n",
       "      <td>109176.000000</td>\n",
       "      <td>109176.000000</td>\n",
       "      <td>109176.000000</td>\n",
       "      <td>109176.000000</td>\n",
       "      <td>109176.000000</td>\n",
       "      <td>109176.000000</td>\n",
       "      <td>1.091760e+05</td>\n",
       "      <td>1.091760e+05</td>\n",
       "    </tr>\n",
       "    <tr>\n",
       "      <th>mean</th>\n",
       "      <td>4.621144</td>\n",
       "      <td>4734.656353</td>\n",
       "      <td>1.368453e+09</td>\n",
       "      <td>123.777891</td>\n",
       "      <td>22.932449</td>\n",
       "      <td>0.561213</td>\n",
       "      <td>0.409000</td>\n",
       "      <td>0.970213</td>\n",
       "      <td>0.970213</td>\n",
       "      <td>0.152991</td>\n",
       "      <td>...</td>\n",
       "      <td>0.001566</td>\n",
       "      <td>0.005661</td>\n",
       "      <td>1320.348126</td>\n",
       "      <td>76.726295</td>\n",
       "      <td>0.029787</td>\n",
       "      <td>0.561204</td>\n",
       "      <td>0.409000</td>\n",
       "      <td>0.000009</td>\n",
       "      <td>8.426772e+14</td>\n",
       "      <td>8.426772e+14</td>\n",
       "    </tr>\n",
       "    <tr>\n",
       "      <th>std</th>\n",
       "      <td>4.318908</td>\n",
       "      <td>4071.836033</td>\n",
       "      <td>1.440117e+07</td>\n",
       "      <td>42.859290</td>\n",
       "      <td>4.605281</td>\n",
       "      <td>0.496241</td>\n",
       "      <td>0.491652</td>\n",
       "      <td>0.169999</td>\n",
       "      <td>0.169999</td>\n",
       "      <td>0.359981</td>\n",
       "      <td>...</td>\n",
       "      <td>0.039545</td>\n",
       "      <td>0.075024</td>\n",
       "      <td>1321.891599</td>\n",
       "      <td>41.315415</td>\n",
       "      <td>0.169999</td>\n",
       "      <td>0.496242</td>\n",
       "      <td>0.491652</td>\n",
       "      <td>0.003026</td>\n",
       "      <td>1.245178e+17</td>\n",
       "      <td>1.245178e+17</td>\n",
       "    </tr>\n",
       "    <tr>\n",
       "      <th>min</th>\n",
       "      <td>1.000000</td>\n",
       "      <td>1.000000</td>\n",
       "      <td>1.360050e+09</td>\n",
       "      <td>51.000000</td>\n",
       "      <td>18.000000</td>\n",
       "      <td>0.000000</td>\n",
       "      <td>0.000000</td>\n",
       "      <td>0.000000</td>\n",
       "      <td>0.000000</td>\n",
       "      <td>0.000000</td>\n",
       "      <td>...</td>\n",
       "      <td>0.000000</td>\n",
       "      <td>0.000000</td>\n",
       "      <td>0.000000</td>\n",
       "      <td>8.000000</td>\n",
       "      <td>0.000000</td>\n",
       "      <td>0.000000</td>\n",
       "      <td>0.000000</td>\n",
       "      <td>0.000000</td>\n",
       "      <td>0.000000e+00</td>\n",
       "      <td>0.000000e+00</td>\n",
       "    </tr>\n",
       "    <tr>\n",
       "      <th>25%</th>\n",
       "      <td>1.000000</td>\n",
       "      <td>663.000000</td>\n",
       "      <td>1.365768e+09</td>\n",
       "      <td>88.000000</td>\n",
       "      <td>18.000000</td>\n",
       "      <td>0.000000</td>\n",
       "      <td>0.000000</td>\n",
       "      <td>1.000000</td>\n",
       "      <td>1.000000</td>\n",
       "      <td>0.000000</td>\n",
       "      <td>...</td>\n",
       "      <td>0.000000</td>\n",
       "      <td>0.000000</td>\n",
       "      <td>22.000000</td>\n",
       "      <td>46.000000</td>\n",
       "      <td>0.000000</td>\n",
       "      <td>0.000000</td>\n",
       "      <td>0.000000</td>\n",
       "      <td>0.000000</td>\n",
       "      <td>0.000000e+00</td>\n",
       "      <td>0.000000e+00</td>\n",
       "    </tr>\n",
       "    <tr>\n",
       "      <th>50%</th>\n",
       "      <td>2.000000</td>\n",
       "      <td>3693.000000</td>\n",
       "      <td>1.366707e+09</td>\n",
       "      <td>139.000000</td>\n",
       "      <td>25.000000</td>\n",
       "      <td>1.000000</td>\n",
       "      <td>0.000000</td>\n",
       "      <td>1.000000</td>\n",
       "      <td>1.000000</td>\n",
       "      <td>0.000000</td>\n",
       "      <td>...</td>\n",
       "      <td>0.000000</td>\n",
       "      <td>0.000000</td>\n",
       "      <td>925.000000</td>\n",
       "      <td>89.000000</td>\n",
       "      <td>0.000000</td>\n",
       "      <td>1.000000</td>\n",
       "      <td>0.000000</td>\n",
       "      <td>0.000000</td>\n",
       "      <td>4.983265e+08</td>\n",
       "      <td>4.983265e+08</td>\n",
       "    </tr>\n",
       "    <tr>\n",
       "      <th>75%</th>\n",
       "      <td>11.000000</td>\n",
       "      <td>7836.000000</td>\n",
       "      <td>1.367316e+09</td>\n",
       "      <td>150.000000</td>\n",
       "      <td>26.000000</td>\n",
       "      <td>1.000000</td>\n",
       "      <td>1.000000</td>\n",
       "      <td>1.000000</td>\n",
       "      <td>1.000000</td>\n",
       "      <td>0.000000</td>\n",
       "      <td>...</td>\n",
       "      <td>0.000000</td>\n",
       "      <td>0.000000</td>\n",
       "      <td>2419.000000</td>\n",
       "      <td>100.000000</td>\n",
       "      <td>0.000000</td>\n",
       "      <td>1.000000</td>\n",
       "      <td>1.000000</td>\n",
       "      <td>0.000000</td>\n",
       "      <td>1.848471e+09</td>\n",
       "      <td>1.848471e+09</td>\n",
       "    </tr>\n",
       "    <tr>\n",
       "      <th>max</th>\n",
       "      <td>12.000000</td>\n",
       "      <td>14029.000000</td>\n",
       "      <td>1.449961e+09</td>\n",
       "      <td>296.000000</td>\n",
       "      <td>38.000000</td>\n",
       "      <td>1.000000</td>\n",
       "      <td>1.000000</td>\n",
       "      <td>1.000000</td>\n",
       "      <td>1.000000</td>\n",
       "      <td>1.000000</td>\n",
       "      <td>...</td>\n",
       "      <td>1.000000</td>\n",
       "      <td>1.000000</td>\n",
       "      <td>4095.000000</td>\n",
       "      <td>246.000000</td>\n",
       "      <td>1.000000</td>\n",
       "      <td>1.000000</td>\n",
       "      <td>1.000000</td>\n",
       "      <td>1.000000</td>\n",
       "      <td>1.840000e+19</td>\n",
       "      <td>1.840000e+19</td>\n",
       "    </tr>\n",
       "  </tbody>\n",
       "</table>\n",
       "<p>8 rows × 241 columns</p>\n",
       "</div>"
      ],
      "text/plain": [
       "               Label      device_id     timestamp  packet_length  \\\n",
       "count  109176.000000  109176.000000  1.091760e+05  109176.000000   \n",
       "mean        4.621144    4734.656353  1.368453e+09     123.777891   \n",
       "std         4.318908    4071.836033  1.440117e+07      42.859290   \n",
       "min         1.000000       1.000000  1.360050e+09      51.000000   \n",
       "25%         1.000000     663.000000  1.365768e+09      88.000000   \n",
       "50%         2.000000    3693.000000  1.366707e+09     139.000000   \n",
       "75%        11.000000    7836.000000  1.367316e+09     150.000000   \n",
       "max        12.000000   14029.000000  1.449961e+09     296.000000   \n",
       "\n",
       "       Header_length           TSFT          Flags           Rate  \\\n",
       "count  109176.000000  109176.000000  109176.000000  109176.000000   \n",
       "mean       22.932449       0.561213       0.409000       0.970213   \n",
       "std         4.605281       0.496241       0.491652       0.169999   \n",
       "min        18.000000       0.000000       0.000000       0.000000   \n",
       "25%        18.000000       0.000000       0.000000       1.000000   \n",
       "50%        25.000000       1.000000       0.000000       1.000000   \n",
       "75%        26.000000       1.000000       1.000000       1.000000   \n",
       "max        38.000000       1.000000       1.000000       1.000000   \n",
       "\n",
       "             Channel  dBm_Antenna_Noise  ...     WLAN_Retry        PWR_MGT  \\\n",
       "count  109176.000000      109176.000000  ...  109176.000000  109176.000000   \n",
       "mean        0.970213           0.152991  ...       0.001566       0.005661   \n",
       "std         0.169999           0.359981  ...       0.039545       0.075024   \n",
       "min         0.000000           0.000000  ...       0.000000       0.000000   \n",
       "25%         1.000000           0.000000  ...       0.000000       0.000000   \n",
       "50%         1.000000           0.000000  ...       0.000000       0.000000   \n",
       "75%         1.000000           0.000000  ...       0.000000       0.000000   \n",
       "max         1.000000           1.000000  ...       1.000000       1.000000   \n",
       "\n",
       "       Sequence_number  Tagged_parameters_bytes  Supported_Rates_1  \\\n",
       "count    109176.000000            109176.000000      109176.000000   \n",
       "mean       1320.348126                76.726295           0.029787   \n",
       "std        1321.891599                41.315415           0.169999   \n",
       "min           0.000000                 8.000000           0.000000   \n",
       "25%          22.000000                46.000000           0.000000   \n",
       "50%         925.000000                89.000000           0.000000   \n",
       "75%        2419.000000               100.000000           0.000000   \n",
       "max        4095.000000               246.000000           1.000000   \n",
       "\n",
       "       Supported_Rates_2  Supported_Rates_3  Supported_Rates_4  MAC_timestamp  \\\n",
       "count      109176.000000      109176.000000      109176.000000   1.091760e+05   \n",
       "mean            0.561204           0.409000           0.000009   8.426772e+14   \n",
       "std             0.496242           0.491652           0.003026   1.245178e+17   \n",
       "min             0.000000           0.000000           0.000000   0.000000e+00   \n",
       "25%             0.000000           0.000000           0.000000   0.000000e+00   \n",
       "50%             1.000000           0.000000           0.000000   4.983265e+08   \n",
       "75%             1.000000           1.000000           0.000000   1.848471e+09   \n",
       "max             1.000000           1.000000           1.000000   1.840000e+19   \n",
       "\n",
       "       TSF_timestamp  \n",
       "count   1.091760e+05  \n",
       "mean    8.426772e+14  \n",
       "std     1.245178e+17  \n",
       "min     0.000000e+00  \n",
       "25%     0.000000e+00  \n",
       "50%     4.983265e+08  \n",
       "75%     1.848471e+09  \n",
       "max     1.840000e+19  \n",
       "\n",
       "[8 rows x 241 columns]"
      ]
     },
     "execution_count": 11,
     "metadata": {},
     "output_type": "execute_result"
    }
   ],
   "source": [
    "dfenc.describe()"
   ]
  },
  {
   "cell_type": "code",
   "execution_count": 12,
   "metadata": {},
   "outputs": [
    {
     "data": {
      "text/html": [
       "<div>\n",
       "<style scoped>\n",
       "    .dataframe tbody tr th:only-of-type {\n",
       "        vertical-align: middle;\n",
       "    }\n",
       "\n",
       "    .dataframe tbody tr th {\n",
       "        vertical-align: top;\n",
       "    }\n",
       "\n",
       "    .dataframe thead th {\n",
       "        text-align: right;\n",
       "    }\n",
       "</style>\n",
       "<table border=\"1\" class=\"dataframe\">\n",
       "  <thead>\n",
       "    <tr style=\"text-align: right;\">\n",
       "      <th></th>\n",
       "      <th>Label</th>\n",
       "      <th>device_id</th>\n",
       "      <th>timestamp</th>\n",
       "      <th>packet_length</th>\n",
       "      <th>Header_length</th>\n",
       "      <th>TSFT</th>\n",
       "      <th>Flags</th>\n",
       "      <th>Rate</th>\n",
       "      <th>Channel</th>\n",
       "      <th>dBm_Antenna_Noise</th>\n",
       "      <th>...</th>\n",
       "      <th>WLAN_Version</th>\n",
       "      <th>WLAN_Retry</th>\n",
       "      <th>PWR_MGT</th>\n",
       "      <th>Sequence_number</th>\n",
       "      <th>Tagged_parameters_bytes</th>\n",
       "      <th>Supported_Rates_1</th>\n",
       "      <th>Supported_Rates_2</th>\n",
       "      <th>Supported_Rates_3</th>\n",
       "      <th>MAC_timestamp</th>\n",
       "      <th>TSF_timestamp</th>\n",
       "    </tr>\n",
       "  </thead>\n",
       "  <tbody>\n",
       "    <tr>\n",
       "      <th>count</th>\n",
       "      <td>72784.000000</td>\n",
       "      <td>72784.000000</td>\n",
       "      <td>7.278400e+04</td>\n",
       "      <td>72784.000000</td>\n",
       "      <td>72784.000000</td>\n",
       "      <td>72784.000000</td>\n",
       "      <td>72784.000000</td>\n",
       "      <td>72784.000000</td>\n",
       "      <td>72784.000000</td>\n",
       "      <td>72784.000000</td>\n",
       "      <td>...</td>\n",
       "      <td>72784.000000</td>\n",
       "      <td>72784.000000</td>\n",
       "      <td>72784.000000</td>\n",
       "      <td>72784.00000</td>\n",
       "      <td>72784.000000</td>\n",
       "      <td>72784.000000</td>\n",
       "      <td>72784.000000</td>\n",
       "      <td>72784.000000</td>\n",
       "      <td>7.278400e+04</td>\n",
       "      <td>7.278400e+04</td>\n",
       "    </tr>\n",
       "    <tr>\n",
       "      <th>mean</th>\n",
       "      <td>4.582037</td>\n",
       "      <td>4764.730669</td>\n",
       "      <td>1.368337e+09</td>\n",
       "      <td>124.363844</td>\n",
       "      <td>22.929930</td>\n",
       "      <td>0.564121</td>\n",
       "      <td>0.407342</td>\n",
       "      <td>0.971464</td>\n",
       "      <td>0.971464</td>\n",
       "      <td>0.153770</td>\n",
       "      <td>...</td>\n",
       "      <td>0.618433</td>\n",
       "      <td>0.001662</td>\n",
       "      <td>0.005757</td>\n",
       "      <td>1309.58631</td>\n",
       "      <td>77.319768</td>\n",
       "      <td>0.028536</td>\n",
       "      <td>0.564121</td>\n",
       "      <td>0.407342</td>\n",
       "      <td>5.056067e+14</td>\n",
       "      <td>5.056067e+14</td>\n",
       "    </tr>\n",
       "    <tr>\n",
       "      <th>std</th>\n",
       "      <td>4.303888</td>\n",
       "      <td>4074.121821</td>\n",
       "      <td>1.411349e+07</td>\n",
       "      <td>43.206399</td>\n",
       "      <td>4.572514</td>\n",
       "      <td>0.495875</td>\n",
       "      <td>0.491343</td>\n",
       "      <td>0.166501</td>\n",
       "      <td>0.166501</td>\n",
       "      <td>0.360731</td>\n",
       "      <td>...</td>\n",
       "      <td>3.084116</td>\n",
       "      <td>0.040740</td>\n",
       "      <td>0.075655</td>\n",
       "      <td>1316.63183</td>\n",
       "      <td>41.708785</td>\n",
       "      <td>0.166501</td>\n",
       "      <td>0.495875</td>\n",
       "      <td>0.491343</td>\n",
       "      <td>9.645214e+16</td>\n",
       "      <td>9.645214e+16</td>\n",
       "    </tr>\n",
       "    <tr>\n",
       "      <th>min</th>\n",
       "      <td>1.000000</td>\n",
       "      <td>1.000000</td>\n",
       "      <td>1.360051e+09</td>\n",
       "      <td>57.000000</td>\n",
       "      <td>18.000000</td>\n",
       "      <td>0.000000</td>\n",
       "      <td>0.000000</td>\n",
       "      <td>0.000000</td>\n",
       "      <td>0.000000</td>\n",
       "      <td>0.000000</td>\n",
       "      <td>...</td>\n",
       "      <td>0.000000</td>\n",
       "      <td>0.000000</td>\n",
       "      <td>0.000000</td>\n",
       "      <td>0.00000</td>\n",
       "      <td>8.000000</td>\n",
       "      <td>0.000000</td>\n",
       "      <td>0.000000</td>\n",
       "      <td>0.000000</td>\n",
       "      <td>0.000000e+00</td>\n",
       "      <td>0.000000e+00</td>\n",
       "    </tr>\n",
       "    <tr>\n",
       "      <th>25%</th>\n",
       "      <td>1.000000</td>\n",
       "      <td>667.000000</td>\n",
       "      <td>1.365768e+09</td>\n",
       "      <td>88.000000</td>\n",
       "      <td>18.000000</td>\n",
       "      <td>0.000000</td>\n",
       "      <td>0.000000</td>\n",
       "      <td>1.000000</td>\n",
       "      <td>1.000000</td>\n",
       "      <td>0.000000</td>\n",
       "      <td>...</td>\n",
       "      <td>0.000000</td>\n",
       "      <td>0.000000</td>\n",
       "      <td>0.000000</td>\n",
       "      <td>22.00000</td>\n",
       "      <td>46.000000</td>\n",
       "      <td>0.000000</td>\n",
       "      <td>0.000000</td>\n",
       "      <td>0.000000</td>\n",
       "      <td>0.000000e+00</td>\n",
       "      <td>0.000000e+00</td>\n",
       "    </tr>\n",
       "    <tr>\n",
       "      <th>50%</th>\n",
       "      <td>2.000000</td>\n",
       "      <td>3740.000000</td>\n",
       "      <td>1.366707e+09</td>\n",
       "      <td>139.000000</td>\n",
       "      <td>25.000000</td>\n",
       "      <td>1.000000</td>\n",
       "      <td>0.000000</td>\n",
       "      <td>1.000000</td>\n",
       "      <td>1.000000</td>\n",
       "      <td>0.000000</td>\n",
       "      <td>...</td>\n",
       "      <td>0.000000</td>\n",
       "      <td>0.000000</td>\n",
       "      <td>0.000000</td>\n",
       "      <td>919.00000</td>\n",
       "      <td>89.000000</td>\n",
       "      <td>0.000000</td>\n",
       "      <td>1.000000</td>\n",
       "      <td>0.000000</td>\n",
       "      <td>5.033244e+08</td>\n",
       "      <td>5.033244e+08</td>\n",
       "    </tr>\n",
       "    <tr>\n",
       "      <th>75%</th>\n",
       "      <td>11.000000</td>\n",
       "      <td>7866.000000</td>\n",
       "      <td>1.367316e+09</td>\n",
       "      <td>150.000000</td>\n",
       "      <td>26.000000</td>\n",
       "      <td>1.000000</td>\n",
       "      <td>1.000000</td>\n",
       "      <td>1.000000</td>\n",
       "      <td>1.000000</td>\n",
       "      <td>0.000000</td>\n",
       "      <td>...</td>\n",
       "      <td>0.000000</td>\n",
       "      <td>0.000000</td>\n",
       "      <td>0.000000</td>\n",
       "      <td>2397.00000</td>\n",
       "      <td>100.000000</td>\n",
       "      <td>0.000000</td>\n",
       "      <td>1.000000</td>\n",
       "      <td>1.000000</td>\n",
       "      <td>1.826386e+09</td>\n",
       "      <td>1.826386e+09</td>\n",
       "    </tr>\n",
       "    <tr>\n",
       "      <th>max</th>\n",
       "      <td>12.000000</td>\n",
       "      <td>14029.000000</td>\n",
       "      <td>1.449961e+09</td>\n",
       "      <td>296.000000</td>\n",
       "      <td>38.000000</td>\n",
       "      <td>1.000000</td>\n",
       "      <td>1.000000</td>\n",
       "      <td>1.000000</td>\n",
       "      <td>1.000000</td>\n",
       "      <td>1.000000</td>\n",
       "      <td>...</td>\n",
       "      <td>16.000000</td>\n",
       "      <td>1.000000</td>\n",
       "      <td>1.000000</td>\n",
       "      <td>4095.00000</td>\n",
       "      <td>246.000000</td>\n",
       "      <td>1.000000</td>\n",
       "      <td>1.000000</td>\n",
       "      <td>1.000000</td>\n",
       "      <td>1.840000e+19</td>\n",
       "      <td>1.840000e+19</td>\n",
       "    </tr>\n",
       "  </tbody>\n",
       "</table>\n",
       "<p>8 rows × 224 columns</p>\n",
       "</div>"
      ],
      "text/plain": [
       "              Label     device_id     timestamp  packet_length  Header_length  \\\n",
       "count  72784.000000  72784.000000  7.278400e+04   72784.000000   72784.000000   \n",
       "mean       4.582037   4764.730669  1.368337e+09     124.363844      22.929930   \n",
       "std        4.303888   4074.121821  1.411349e+07      43.206399       4.572514   \n",
       "min        1.000000      1.000000  1.360051e+09      57.000000      18.000000   \n",
       "25%        1.000000    667.000000  1.365768e+09      88.000000      18.000000   \n",
       "50%        2.000000   3740.000000  1.366707e+09     139.000000      25.000000   \n",
       "75%       11.000000   7866.000000  1.367316e+09     150.000000      26.000000   \n",
       "max       12.000000  14029.000000  1.449961e+09     296.000000      38.000000   \n",
       "\n",
       "               TSFT         Flags          Rate       Channel  \\\n",
       "count  72784.000000  72784.000000  72784.000000  72784.000000   \n",
       "mean       0.564121      0.407342      0.971464      0.971464   \n",
       "std        0.495875      0.491343      0.166501      0.166501   \n",
       "min        0.000000      0.000000      0.000000      0.000000   \n",
       "25%        0.000000      0.000000      1.000000      1.000000   \n",
       "50%        1.000000      0.000000      1.000000      1.000000   \n",
       "75%        1.000000      1.000000      1.000000      1.000000   \n",
       "max        1.000000      1.000000      1.000000      1.000000   \n",
       "\n",
       "       dBm_Antenna_Noise  ...  WLAN_Version    WLAN_Retry       PWR_MGT  \\\n",
       "count       72784.000000  ...  72784.000000  72784.000000  72784.000000   \n",
       "mean            0.153770  ...      0.618433      0.001662      0.005757   \n",
       "std             0.360731  ...      3.084116      0.040740      0.075655   \n",
       "min             0.000000  ...      0.000000      0.000000      0.000000   \n",
       "25%             0.000000  ...      0.000000      0.000000      0.000000   \n",
       "50%             0.000000  ...      0.000000      0.000000      0.000000   \n",
       "75%             0.000000  ...      0.000000      0.000000      0.000000   \n",
       "max             1.000000  ...     16.000000      1.000000      1.000000   \n",
       "\n",
       "       Sequence_number  Tagged_parameters_bytes  Supported_Rates_1  \\\n",
       "count      72784.00000             72784.000000       72784.000000   \n",
       "mean        1309.58631                77.319768           0.028536   \n",
       "std         1316.63183                41.708785           0.166501   \n",
       "min            0.00000                 8.000000           0.000000   \n",
       "25%           22.00000                46.000000           0.000000   \n",
       "50%          919.00000                89.000000           0.000000   \n",
       "75%         2397.00000               100.000000           0.000000   \n",
       "max         4095.00000               246.000000           1.000000   \n",
       "\n",
       "       Supported_Rates_2  Supported_Rates_3  MAC_timestamp  TSF_timestamp  \n",
       "count       72784.000000       72784.000000   7.278400e+04   7.278400e+04  \n",
       "mean            0.564121           0.407342   5.056067e+14   5.056067e+14  \n",
       "std             0.495875           0.491343   9.645214e+16   9.645214e+16  \n",
       "min             0.000000           0.000000   0.000000e+00   0.000000e+00  \n",
       "25%             0.000000           0.000000   0.000000e+00   0.000000e+00  \n",
       "50%             1.000000           0.000000   5.033244e+08   5.033244e+08  \n",
       "75%             1.000000           1.000000   1.826386e+09   1.826386e+09  \n",
       "max             1.000000           1.000000   1.840000e+19   1.840000e+19  \n",
       "\n",
       "[8 rows x 224 columns]"
      ]
     },
     "execution_count": 12,
     "metadata": {},
     "output_type": "execute_result"
    }
   ],
   "source": [
    "dfenct.describe()"
   ]
  },
  {
   "cell_type": "code",
   "execution_count": 113,
   "metadata": {},
   "outputs": [],
   "source": [
    "df2 = dfenc.copy() \n",
    "df2.dtypes[dfenc.columns[0:1]]\n",
    "df2['Label'] = df2['Label'].astype('category')"
   ]
  },
  {
   "cell_type": "code",
   "execution_count": 14,
   "metadata": {},
   "outputs": [],
   "source": [
    "dftest2 = dfenct.copy()\n",
    "dftest2.dtypes[dfenct.columns[0:1]]\n",
    "dftest2['Label'] = dftest2['Label'].astype('category')"
   ]
  },
  {
   "cell_type": "code",
   "execution_count": 114,
   "metadata": {},
   "outputs": [],
   "source": [
    "X_train = df2.iloc[:,1:47]\n",
    "y_train = df2.Label"
   ]
  },
  {
   "cell_type": "raw",
   "metadata": {},
   "source": [
    "categorical_cols = ['SSID','Destination_address','BSS_Id','Source_address','PHY_type',DataPad]"
   ]
  },
  {
   "cell_type": "raw",
   "metadata": {},
   "source": [
    "category_df = pd.get_dummies(X_train[categorical_cols].astype('category'), prefix=categorical_cols, dtype=float)"
   ]
  },
  {
   "cell_type": "code",
   "execution_count": 16,
   "metadata": {},
   "outputs": [],
   "source": [
    "X_test = dftest2.iloc[:,1:47]\n",
    "y_test = dftest2.Label"
   ]
  },
  {
   "cell_type": "code",
   "execution_count": 17,
   "metadata": {},
   "outputs": [
    {
     "data": {
      "text/html": [
       "<div>\n",
       "<style scoped>\n",
       "    .dataframe tbody tr th:only-of-type {\n",
       "        vertical-align: middle;\n",
       "    }\n",
       "\n",
       "    .dataframe tbody tr th {\n",
       "        vertical-align: top;\n",
       "    }\n",
       "\n",
       "    .dataframe thead th {\n",
       "        text-align: right;\n",
       "    }\n",
       "</style>\n",
       "<table border=\"1\" class=\"dataframe\">\n",
       "  <thead>\n",
       "    <tr style=\"text-align: right;\">\n",
       "      <th></th>\n",
       "      <th>device_id</th>\n",
       "      <th>timestamp</th>\n",
       "      <th>packet_length</th>\n",
       "      <th>Header_length</th>\n",
       "      <th>TSFT</th>\n",
       "      <th>Flags</th>\n",
       "      <th>Rate</th>\n",
       "      <th>Channel</th>\n",
       "      <th>dBm_Antenna_Noise</th>\n",
       "      <th>RX_flags</th>\n",
       "      <th>...</th>\n",
       "      <th>WLAN_RADIO_Duration_microseconds_5</th>\n",
       "      <th>WLAN_RADIO_Duration_microseconds_6</th>\n",
       "      <th>WLAN_RADIO_Duration_microseconds_7</th>\n",
       "      <th>WLAN_RADIO_Duration_microseconds_8</th>\n",
       "      <th>WLAN_RADIO_Duration_microseconds_9</th>\n",
       "      <th>WLAN_RADIO_Duration_microseconds_10</th>\n",
       "      <th>WLAN_RADIO_Duration_microseconds_11</th>\n",
       "      <th>WLAN_RADIO_Duration_microseconds_12</th>\n",
       "      <th>WLAN_RADIO_Duration_microseconds_13</th>\n",
       "      <th>WLAN_RADIO_Duration_microseconds_14</th>\n",
       "    </tr>\n",
       "  </thead>\n",
       "  <tbody>\n",
       "    <tr>\n",
       "      <th>0</th>\n",
       "      <td>117</td>\n",
       "      <td>1449841048</td>\n",
       "      <td>112</td>\n",
       "      <td>38</td>\n",
       "      <td>0</td>\n",
       "      <td>0</td>\n",
       "      <td>0</td>\n",
       "      <td>0</td>\n",
       "      <td>0</td>\n",
       "      <td>0</td>\n",
       "      <td>...</td>\n",
       "      <td>0</td>\n",
       "      <td>0</td>\n",
       "      <td>0</td>\n",
       "      <td>0</td>\n",
       "      <td>0</td>\n",
       "      <td>0</td>\n",
       "      <td>0</td>\n",
       "      <td>0</td>\n",
       "      <td>0</td>\n",
       "      <td>0</td>\n",
       "    </tr>\n",
       "    <tr>\n",
       "      <th>1</th>\n",
       "      <td>838</td>\n",
       "      <td>1367226144</td>\n",
       "      <td>90</td>\n",
       "      <td>26</td>\n",
       "      <td>1</td>\n",
       "      <td>0</td>\n",
       "      <td>1</td>\n",
       "      <td>1</td>\n",
       "      <td>0</td>\n",
       "      <td>1</td>\n",
       "      <td>...</td>\n",
       "      <td>0</td>\n",
       "      <td>0</td>\n",
       "      <td>0</td>\n",
       "      <td>0</td>\n",
       "      <td>0</td>\n",
       "      <td>0</td>\n",
       "      <td>0</td>\n",
       "      <td>0</td>\n",
       "      <td>0</td>\n",
       "      <td>0</td>\n",
       "    </tr>\n",
       "    <tr>\n",
       "      <th>2</th>\n",
       "      <td>10763</td>\n",
       "      <td>1367312396</td>\n",
       "      <td>96</td>\n",
       "      <td>26</td>\n",
       "      <td>1</td>\n",
       "      <td>0</td>\n",
       "      <td>1</td>\n",
       "      <td>1</td>\n",
       "      <td>0</td>\n",
       "      <td>1</td>\n",
       "      <td>...</td>\n",
       "      <td>0</td>\n",
       "      <td>0</td>\n",
       "      <td>0</td>\n",
       "      <td>0</td>\n",
       "      <td>0</td>\n",
       "      <td>0</td>\n",
       "      <td>0</td>\n",
       "      <td>0</td>\n",
       "      <td>0</td>\n",
       "      <td>0</td>\n",
       "    </tr>\n",
       "    <tr>\n",
       "      <th>3</th>\n",
       "      <td>812</td>\n",
       "      <td>1367572626</td>\n",
       "      <td>82</td>\n",
       "      <td>26</td>\n",
       "      <td>1</td>\n",
       "      <td>0</td>\n",
       "      <td>1</td>\n",
       "      <td>1</td>\n",
       "      <td>0</td>\n",
       "      <td>1</td>\n",
       "      <td>...</td>\n",
       "      <td>0</td>\n",
       "      <td>0</td>\n",
       "      <td>0</td>\n",
       "      <td>0</td>\n",
       "      <td>0</td>\n",
       "      <td>0</td>\n",
       "      <td>0</td>\n",
       "      <td>0</td>\n",
       "      <td>0</td>\n",
       "      <td>0</td>\n",
       "    </tr>\n",
       "    <tr>\n",
       "      <th>4</th>\n",
       "      <td>5821</td>\n",
       "      <td>1367312580</td>\n",
       "      <td>93</td>\n",
       "      <td>26</td>\n",
       "      <td>1</td>\n",
       "      <td>0</td>\n",
       "      <td>1</td>\n",
       "      <td>1</td>\n",
       "      <td>0</td>\n",
       "      <td>1</td>\n",
       "      <td>...</td>\n",
       "      <td>1</td>\n",
       "      <td>0</td>\n",
       "      <td>0</td>\n",
       "      <td>0</td>\n",
       "      <td>0</td>\n",
       "      <td>0</td>\n",
       "      <td>0</td>\n",
       "      <td>0</td>\n",
       "      <td>0</td>\n",
       "      <td>0</td>\n",
       "    </tr>\n",
       "  </tbody>\n",
       "</table>\n",
       "<p>5 rows × 46 columns</p>\n",
       "</div>"
      ],
      "text/plain": [
       "   device_id   timestamp  packet_length  Header_length  TSFT  Flags  Rate  \\\n",
       "0        117  1449841048            112             38     0      0     0   \n",
       "1        838  1367226144             90             26     1      0     1   \n",
       "2      10763  1367312396             96             26     1      0     1   \n",
       "3        812  1367572626             82             26     1      0     1   \n",
       "4       5821  1367312580             93             26     1      0     1   \n",
       "\n",
       "   Channel  dBm_Antenna_Noise  RX_flags  ...  \\\n",
       "0        0                  0         0  ...   \n",
       "1        1                  0         1  ...   \n",
       "2        1                  0         1  ...   \n",
       "3        1                  0         1  ...   \n",
       "4        1                  0         1  ...   \n",
       "\n",
       "   WLAN_RADIO_Duration_microseconds_5  WLAN_RADIO_Duration_microseconds_6  \\\n",
       "0                                   0                                   0   \n",
       "1                                   0                                   0   \n",
       "2                                   0                                   0   \n",
       "3                                   0                                   0   \n",
       "4                                   1                                   0   \n",
       "\n",
       "   WLAN_RADIO_Duration_microseconds_7  WLAN_RADIO_Duration_microseconds_8  \\\n",
       "0                                   0                                   0   \n",
       "1                                   0                                   0   \n",
       "2                                   0                                   0   \n",
       "3                                   0                                   0   \n",
       "4                                   0                                   0   \n",
       "\n",
       "   WLAN_RADIO_Duration_microseconds_9  WLAN_RADIO_Duration_microseconds_10  \\\n",
       "0                                   0                                    0   \n",
       "1                                   0                                    0   \n",
       "2                                   0                                    0   \n",
       "3                                   0                                    0   \n",
       "4                                   0                                    0   \n",
       "\n",
       "   WLAN_RADIO_Duration_microseconds_11  WLAN_RADIO_Duration_microseconds_12  \\\n",
       "0                                    0                                    0   \n",
       "1                                    0                                    0   \n",
       "2                                    0                                    0   \n",
       "3                                    0                                    0   \n",
       "4                                    0                                    0   \n",
       "\n",
       "   WLAN_RADIO_Duration_microseconds_13  WLAN_RADIO_Duration_microseconds_14  \n",
       "0                                    0                                    0  \n",
       "1                                    0                                    0  \n",
       "2                                    0                                    0  \n",
       "3                                    0                                    0  \n",
       "4                                    0                                    0  \n",
       "\n",
       "[5 rows x 46 columns]"
      ]
     },
     "execution_count": 17,
     "metadata": {},
     "output_type": "execute_result"
    }
   ],
   "source": [
    "X_train.head()"
   ]
  },
  {
   "cell_type": "code",
   "execution_count": 18,
   "metadata": {},
   "outputs": [
    {
     "data": {
      "text/plain": [
       "0    10\n",
       "1     1\n",
       "2     3\n",
       "3     1\n",
       "4     1\n",
       "Name: Label, dtype: category\n",
       "Categories (12, int64): [1, 2, 3, 4, ..., 9, 10, 11, 12]"
      ]
     },
     "execution_count": 18,
     "metadata": {},
     "output_type": "execute_result"
    }
   ],
   "source": [
    "y_train.head()"
   ]
  },
  {
   "cell_type": "markdown",
   "metadata": {},
   "source": [
    "        \n",
    "       "
   ]
  },
  {
   "cell_type": "markdown",
   "metadata": {},
   "source": [
    "# Metric Selection"
   ]
  },
  {
   "cell_type": "code",
   "execution_count": 19,
   "metadata": {},
   "outputs": [],
   "source": [
    "from sklearn.metrics import f1_score\n",
    "from sklearn.metrics import roc_auc_score\n",
    "from sklearn.model_selection import cross_val_score\n",
    "from sklearn.model_selection import cross_validate\n",
    "from sklearn.metrics import make_scorer\n"
   ]
  },
  {
   "cell_type": "markdown",
   "metadata": {},
   "source": [
    "### Logistic Regression"
   ]
  },
  {
   "cell_type": "code",
   "execution_count": 304,
   "metadata": {},
   "outputs": [],
   "source": [
    "from sklearn.linear_model import LogisticRegression"
   ]
  },
  {
   "cell_type": "code",
   "execution_count": 305,
   "metadata": {},
   "outputs": [
    {
     "name": "stderr",
     "output_type": "stream",
     "text": [
      "C:\\Users\\Mayer\\Anaconda3\\lib\\site-packages\\sklearn\\linear_model\\logistic.py:432: FutureWarning: Default solver will be changed to 'lbfgs' in 0.22. Specify a solver to silence this warning.\n",
      "  FutureWarning)\n",
      "C:\\Users\\Mayer\\Anaconda3\\lib\\site-packages\\sklearn\\linear_model\\logistic.py:469: FutureWarning: Default multi_class will be changed to 'auto' in 0.22. Specify the multi_class option to silence this warning.\n",
      "  \"this warning.\", FutureWarning)\n"
     ]
    },
    {
     "data": {
      "text/plain": [
       "LogisticRegression(C=1.0, class_weight=None, dual=False, fit_intercept=True,\n",
       "                   intercept_scaling=1, l1_ratio=None, max_iter=100,\n",
       "                   multi_class='warn', n_jobs=None, penalty='l2',\n",
       "                   random_state=None, solver='warn', tol=0.0001, verbose=0,\n",
       "                   warm_start=False)"
      ]
     },
     "execution_count": 305,
     "metadata": {},
     "output_type": "execute_result"
    }
   ],
   "source": [
    "mod1 = LogisticRegression()\n",
    "mod1.fit(X_train,y_train)"
   ]
  },
  {
   "cell_type": "code",
   "execution_count": 306,
   "metadata": {},
   "outputs": [
    {
     "data": {
      "text/plain": [
       "array([1, 1, 1, ..., 1, 1, 1], dtype=int64)"
      ]
     },
     "execution_count": 306,
     "metadata": {},
     "output_type": "execute_result"
    }
   ],
   "source": [
    "yhat1 = mod1.predict(X_train)\n",
    "yhat1"
   ]
  },
  {
   "cell_type": "code",
   "execution_count": 307,
   "metadata": {},
   "outputs": [
    {
     "data": {
      "text/plain": [
       "array([[0.44032051, 0.14730072, 0.02892088, ..., 0.00482632, 0.27494331,\n",
       "        0.00111913],\n",
       "       [0.41818572, 0.15117134, 0.03308703, ..., 0.00615026, 0.26978104,\n",
       "        0.00155204],\n",
       "       [0.41820928, 0.15116772, 0.03308248, ..., 0.00614872, 0.26978714,\n",
       "        0.00155151],\n",
       "       ...,\n",
       "       [0.41731644, 0.15130391, 0.03325484, ..., 0.00620725, 0.26955513,\n",
       "        0.00157154],\n",
       "       [0.41820858, 0.15116783, 0.03308262, ..., 0.00614877, 0.26978696,\n",
       "        0.00155153],\n",
       "       [0.41731811, 0.15130365, 0.03325452, ..., 0.00620714, 0.26955557,\n",
       "        0.0015715 ]])"
      ]
     },
     "execution_count": 307,
     "metadata": {},
     "output_type": "execute_result"
    }
   ],
   "source": [
    "yprob1 = mod1.predict_proba(X_train)\n",
    "yprob1"
   ]
  },
  {
   "cell_type": "code",
   "execution_count": 308,
   "metadata": {},
   "outputs": [
    {
     "name": "stderr",
     "output_type": "stream",
     "text": [
      "C:\\Users\\Mayer\\Anaconda3\\lib\\site-packages\\pandas\\core\\dtypes\\missing.py:277: FutureWarning: Categorical.ravel will return a Categorical object instead of an ndarray in a future version.\n",
      "  vec = libmissing.isnaobj_old(values.ravel())\n"
     ]
    },
    {
     "data": {
      "text/html": [
       "<div>\n",
       "<style scoped>\n",
       "    .dataframe tbody tr th:only-of-type {\n",
       "        vertical-align: middle;\n",
       "    }\n",
       "\n",
       "    .dataframe tbody tr th {\n",
       "        vertical-align: top;\n",
       "    }\n",
       "\n",
       "    .dataframe thead th {\n",
       "        text-align: right;\n",
       "    }\n",
       "</style>\n",
       "<table border=\"1\" class=\"dataframe\">\n",
       "  <thead>\n",
       "    <tr style=\"text-align: right;\">\n",
       "      <th>col_0</th>\n",
       "      <th>1</th>\n",
       "    </tr>\n",
       "    <tr>\n",
       "      <th>Label</th>\n",
       "      <th></th>\n",
       "    </tr>\n",
       "  </thead>\n",
       "  <tbody>\n",
       "    <tr>\n",
       "      <th>1</th>\n",
       "      <td>45771</td>\n",
       "    </tr>\n",
       "    <tr>\n",
       "      <th>2</th>\n",
       "      <td>16526</td>\n",
       "    </tr>\n",
       "    <tr>\n",
       "      <th>3</th>\n",
       "      <td>3613</td>\n",
       "    </tr>\n",
       "    <tr>\n",
       "      <th>4</th>\n",
       "      <td>3781</td>\n",
       "    </tr>\n",
       "    <tr>\n",
       "      <th>5</th>\n",
       "      <td>1071</td>\n",
       "    </tr>\n",
       "    <tr>\n",
       "      <th>6</th>\n",
       "      <td>2102</td>\n",
       "    </tr>\n",
       "    <tr>\n",
       "      <th>7</th>\n",
       "      <td>2324</td>\n",
       "    </tr>\n",
       "    <tr>\n",
       "      <th>8</th>\n",
       "      <td>559</td>\n",
       "    </tr>\n",
       "    <tr>\n",
       "      <th>9</th>\n",
       "      <td>3115</td>\n",
       "    </tr>\n",
       "    <tr>\n",
       "      <th>10</th>\n",
       "      <td>632</td>\n",
       "    </tr>\n",
       "    <tr>\n",
       "      <th>11</th>\n",
       "      <td>29514</td>\n",
       "    </tr>\n",
       "    <tr>\n",
       "      <th>12</th>\n",
       "      <td>168</td>\n",
       "    </tr>\n",
       "  </tbody>\n",
       "</table>\n",
       "</div>"
      ],
      "text/plain": [
       "col_0      1\n",
       "Label       \n",
       "1      45771\n",
       "2      16526\n",
       "3       3613\n",
       "4       3781\n",
       "5       1071\n",
       "6       2102\n",
       "7       2324\n",
       "8        559\n",
       "9       3115\n",
       "10       632\n",
       "11     29514\n",
       "12       168"
      ]
     },
     "execution_count": 308,
     "metadata": {},
     "output_type": "execute_result"
    }
   ],
   "source": [
    "pd.crosstab(y_train,yhat1)"
   ]
  },
  {
   "cell_type": "code",
   "execution_count": 314,
   "metadata": {},
   "outputs": [
    {
     "data": {
      "text/plain": [
       "0.4192404924159156"
      ]
     },
     "execution_count": 314,
     "metadata": {},
     "output_type": "execute_result"
    }
   ],
   "source": [
    "### Accuracy:\n",
    "mod1.score(X_train,y_train)"
   ]
  },
  {
   "cell_type": "code",
   "execution_count": 316,
   "metadata": {},
   "outputs": [
    {
     "name": "stdout",
     "output_type": "stream",
     "text": [
      "0.42224939547153223\n"
     ]
    },
    {
     "name": "stderr",
     "output_type": "stream",
     "text": [
      "C:\\Users\\Mayer\\Anaconda3\\lib\\site-packages\\pandas\\core\\dtypes\\missing.py:277: FutureWarning: Categorical.ravel will return a Categorical object instead of an ndarray in a future version.\n",
      "  vec = libmissing.isnaobj_old(values.ravel())\n"
     ]
    },
    {
     "data": {
      "text/html": [
       "<div>\n",
       "<style scoped>\n",
       "    .dataframe tbody tr th:only-of-type {\n",
       "        vertical-align: middle;\n",
       "    }\n",
       "\n",
       "    .dataframe tbody tr th {\n",
       "        vertical-align: top;\n",
       "    }\n",
       "\n",
       "    .dataframe thead th {\n",
       "        text-align: right;\n",
       "    }\n",
       "</style>\n",
       "<table border=\"1\" class=\"dataframe\">\n",
       "  <thead>\n",
       "    <tr style=\"text-align: right;\">\n",
       "      <th>col_0</th>\n",
       "      <th>1</th>\n",
       "    </tr>\n",
       "    <tr>\n",
       "      <th>Label</th>\n",
       "      <th></th>\n",
       "    </tr>\n",
       "  </thead>\n",
       "  <tbody>\n",
       "    <tr>\n",
       "      <th>1</th>\n",
       "      <td>30733</td>\n",
       "    </tr>\n",
       "    <tr>\n",
       "      <th>2</th>\n",
       "      <td>11051</td>\n",
       "    </tr>\n",
       "    <tr>\n",
       "      <th>3</th>\n",
       "      <td>2390</td>\n",
       "    </tr>\n",
       "    <tr>\n",
       "      <th>4</th>\n",
       "      <td>2603</td>\n",
       "    </tr>\n",
       "    <tr>\n",
       "      <th>5</th>\n",
       "      <td>752</td>\n",
       "    </tr>\n",
       "    <tr>\n",
       "      <th>6</th>\n",
       "      <td>1375</td>\n",
       "    </tr>\n",
       "    <tr>\n",
       "      <th>7</th>\n",
       "      <td>1443</td>\n",
       "    </tr>\n",
       "    <tr>\n",
       "      <th>8</th>\n",
       "      <td>391</td>\n",
       "    </tr>\n",
       "    <tr>\n",
       "      <th>9</th>\n",
       "      <td>2163</td>\n",
       "    </tr>\n",
       "    <tr>\n",
       "      <th>10</th>\n",
       "      <td>438</td>\n",
       "    </tr>\n",
       "    <tr>\n",
       "      <th>11</th>\n",
       "      <td>19344</td>\n",
       "    </tr>\n",
       "    <tr>\n",
       "      <th>12</th>\n",
       "      <td>101</td>\n",
       "    </tr>\n",
       "  </tbody>\n",
       "</table>\n",
       "</div>"
      ],
      "text/plain": [
       "col_0      1\n",
       "Label       \n",
       "1      30733\n",
       "2      11051\n",
       "3       2390\n",
       "4       2603\n",
       "5        752\n",
       "6       1375\n",
       "7       1443\n",
       "8        391\n",
       "9       2163\n",
       "10       438\n",
       "11     19344\n",
       "12       101"
      ]
     },
     "execution_count": 316,
     "metadata": {},
     "output_type": "execute_result"
    }
   ],
   "source": [
    "yhat2 = mod1.predict(X_test)\n",
    "print(mod1.score(X_test,y_test))\n",
    "pd.crosstab(y_test,yhat2)"
   ]
  },
  {
   "cell_type": "code",
   "execution_count": 317,
   "metadata": {},
   "outputs": [],
   "source": [
    "res = {1:{'model':'Logistic Regression - base model',\n",
    "           'accuracy-Train':mod1.score(X_train,y_train),\n",
    "           'accuracy-Test':mod1.score(X_test,y_test)\n",
    "      }}"
   ]
  },
  {
   "cell_type": "code",
   "execution_count": 318,
   "metadata": {},
   "outputs": [
    {
     "data": {
      "text/plain": [
       "{1: {'model': 'Logistic Regression - base model',\n",
       "  'accuracy-Train': 0.4192404924159156,\n",
       "  'accuracy-Test': 0.42224939547153223}}"
      ]
     },
     "execution_count": 318,
     "metadata": {},
     "output_type": "execute_result"
    }
   ],
   "source": [
    "res"
   ]
  },
  {
   "cell_type": "raw",
   "metadata": {},
   "source": [
    "p1 = mod1.predict()"
   ]
  },
  {
   "cell_type": "markdown",
   "metadata": {},
   "source": [
    "   "
   ]
  },
  {
   "cell_type": "markdown",
   "metadata": {},
   "source": [
    "   "
   ]
  },
  {
   "cell_type": "markdown",
   "metadata": {},
   "source": [
    "# Cross  Validation Models"
   ]
  },
  {
   "cell_type": "code",
   "execution_count": 328,
   "metadata": {},
   "outputs": [
    {
     "name": "stderr",
     "output_type": "stream",
     "text": [
      "C:\\Users\\Mayer\\Anaconda3\\lib\\site-packages\\sklearn\\linear_model\\logistic.py:469: FutureWarning: Default multi_class will be changed to 'auto' in 0.22. Specify the multi_class option to silence this warning.\n",
      "  \"this warning.\", FutureWarning)\n",
      "C:\\Users\\Mayer\\Anaconda3\\lib\\site-packages\\sklearn\\model_selection\\_split.py:1978: FutureWarning: The default value of cv will change from 3 to 5 in version 0.22. Specify it explicitly to silence this warning.\n",
      "  warnings.warn(CV_WARNING, FutureWarning)\n"
     ]
    },
    {
     "ename": "ValueError",
     "evalue": "multiclass format is not supported",
     "output_type": "error",
     "traceback": [
      "\u001b[1;31m---------------------------------------------------------------------------\u001b[0m",
      "\u001b[1;31mValueError\u001b[0m                                Traceback (most recent call last)",
      "\u001b[1;32m<ipython-input-328-b7651e50ab8f>\u001b[0m in \u001b[0;36m<module>\u001b[1;34m\u001b[0m\n\u001b[0;32m      4\u001b[0m            'F1_weighted': make_scorer(f1_score, average='weighted')}\n\u001b[0;32m      5\u001b[0m scores = cross_validate(mod1, X_train, y_train, scoring=scoring,\n\u001b[1;32m----> 6\u001b[1;33m                         cv=4, return_train_score=True)\n\u001b[0m\u001b[0;32m      7\u001b[0m \u001b[0msorted\u001b[0m\u001b[1;33m(\u001b[0m\u001b[0mscores\u001b[0m\u001b[1;33m.\u001b[0m\u001b[0mkeys\u001b[0m\u001b[1;33m(\u001b[0m\u001b[1;33m)\u001b[0m\u001b[1;33m)\u001b[0m\u001b[1;33m\u001b[0m\u001b[1;33m\u001b[0m\u001b[0m\n",
      "\u001b[1;32m~\\Anaconda3\\lib\\site-packages\\sklearn\\model_selection\\_validation.py\u001b[0m in \u001b[0;36mcross_validate\u001b[1;34m(estimator, X, y, groups, scoring, cv, n_jobs, verbose, fit_params, pre_dispatch, return_train_score, return_estimator, error_score)\u001b[0m\n\u001b[0;32m    229\u001b[0m             \u001b[0mreturn_times\u001b[0m\u001b[1;33m=\u001b[0m\u001b[1;32mTrue\u001b[0m\u001b[1;33m,\u001b[0m \u001b[0mreturn_estimator\u001b[0m\u001b[1;33m=\u001b[0m\u001b[0mreturn_estimator\u001b[0m\u001b[1;33m,\u001b[0m\u001b[1;33m\u001b[0m\u001b[1;33m\u001b[0m\u001b[0m\n\u001b[0;32m    230\u001b[0m             error_score=error_score)\n\u001b[1;32m--> 231\u001b[1;33m         for train, test in cv.split(X, y, groups))\n\u001b[0m\u001b[0;32m    232\u001b[0m \u001b[1;33m\u001b[0m\u001b[0m\n\u001b[0;32m    233\u001b[0m     \u001b[0mzipped_scores\u001b[0m \u001b[1;33m=\u001b[0m \u001b[0mlist\u001b[0m\u001b[1;33m(\u001b[0m\u001b[0mzip\u001b[0m\u001b[1;33m(\u001b[0m\u001b[1;33m*\u001b[0m\u001b[0mscores\u001b[0m\u001b[1;33m)\u001b[0m\u001b[1;33m)\u001b[0m\u001b[1;33m\u001b[0m\u001b[1;33m\u001b[0m\u001b[0m\n",
      "\u001b[1;32m~\\AppData\\Roaming\\Python\\Python37\\site-packages\\joblib\\parallel.py\u001b[0m in \u001b[0;36m__call__\u001b[1;34m(self, iterable)\u001b[0m\n\u001b[0;32m   1002\u001b[0m             \u001b[1;31m# remaining jobs.\u001b[0m\u001b[1;33m\u001b[0m\u001b[1;33m\u001b[0m\u001b[1;33m\u001b[0m\u001b[0m\n\u001b[0;32m   1003\u001b[0m             \u001b[0mself\u001b[0m\u001b[1;33m.\u001b[0m\u001b[0m_iterating\u001b[0m \u001b[1;33m=\u001b[0m \u001b[1;32mFalse\u001b[0m\u001b[1;33m\u001b[0m\u001b[1;33m\u001b[0m\u001b[0m\n\u001b[1;32m-> 1004\u001b[1;33m             \u001b[1;32mif\u001b[0m \u001b[0mself\u001b[0m\u001b[1;33m.\u001b[0m\u001b[0mdispatch_one_batch\u001b[0m\u001b[1;33m(\u001b[0m\u001b[0miterator\u001b[0m\u001b[1;33m)\u001b[0m\u001b[1;33m:\u001b[0m\u001b[1;33m\u001b[0m\u001b[1;33m\u001b[0m\u001b[0m\n\u001b[0m\u001b[0;32m   1005\u001b[0m                 \u001b[0mself\u001b[0m\u001b[1;33m.\u001b[0m\u001b[0m_iterating\u001b[0m \u001b[1;33m=\u001b[0m \u001b[0mself\u001b[0m\u001b[1;33m.\u001b[0m\u001b[0m_original_iterator\u001b[0m \u001b[1;32mis\u001b[0m \u001b[1;32mnot\u001b[0m \u001b[1;32mNone\u001b[0m\u001b[1;33m\u001b[0m\u001b[1;33m\u001b[0m\u001b[0m\n\u001b[0;32m   1006\u001b[0m \u001b[1;33m\u001b[0m\u001b[0m\n",
      "\u001b[1;32m~\\AppData\\Roaming\\Python\\Python37\\site-packages\\joblib\\parallel.py\u001b[0m in \u001b[0;36mdispatch_one_batch\u001b[1;34m(self, iterator)\u001b[0m\n\u001b[0;32m    833\u001b[0m                 \u001b[1;32mreturn\u001b[0m \u001b[1;32mFalse\u001b[0m\u001b[1;33m\u001b[0m\u001b[1;33m\u001b[0m\u001b[0m\n\u001b[0;32m    834\u001b[0m             \u001b[1;32melse\u001b[0m\u001b[1;33m:\u001b[0m\u001b[1;33m\u001b[0m\u001b[1;33m\u001b[0m\u001b[0m\n\u001b[1;32m--> 835\u001b[1;33m                 \u001b[0mself\u001b[0m\u001b[1;33m.\u001b[0m\u001b[0m_dispatch\u001b[0m\u001b[1;33m(\u001b[0m\u001b[0mtasks\u001b[0m\u001b[1;33m)\u001b[0m\u001b[1;33m\u001b[0m\u001b[1;33m\u001b[0m\u001b[0m\n\u001b[0m\u001b[0;32m    836\u001b[0m                 \u001b[1;32mreturn\u001b[0m \u001b[1;32mTrue\u001b[0m\u001b[1;33m\u001b[0m\u001b[1;33m\u001b[0m\u001b[0m\n\u001b[0;32m    837\u001b[0m \u001b[1;33m\u001b[0m\u001b[0m\n",
      "\u001b[1;32m~\\AppData\\Roaming\\Python\\Python37\\site-packages\\joblib\\parallel.py\u001b[0m in \u001b[0;36m_dispatch\u001b[1;34m(self, batch)\u001b[0m\n\u001b[0;32m    752\u001b[0m         \u001b[1;32mwith\u001b[0m \u001b[0mself\u001b[0m\u001b[1;33m.\u001b[0m\u001b[0m_lock\u001b[0m\u001b[1;33m:\u001b[0m\u001b[1;33m\u001b[0m\u001b[1;33m\u001b[0m\u001b[0m\n\u001b[0;32m    753\u001b[0m             \u001b[0mjob_idx\u001b[0m \u001b[1;33m=\u001b[0m \u001b[0mlen\u001b[0m\u001b[1;33m(\u001b[0m\u001b[0mself\u001b[0m\u001b[1;33m.\u001b[0m\u001b[0m_jobs\u001b[0m\u001b[1;33m)\u001b[0m\u001b[1;33m\u001b[0m\u001b[1;33m\u001b[0m\u001b[0m\n\u001b[1;32m--> 754\u001b[1;33m             \u001b[0mjob\u001b[0m \u001b[1;33m=\u001b[0m \u001b[0mself\u001b[0m\u001b[1;33m.\u001b[0m\u001b[0m_backend\u001b[0m\u001b[1;33m.\u001b[0m\u001b[0mapply_async\u001b[0m\u001b[1;33m(\u001b[0m\u001b[0mbatch\u001b[0m\u001b[1;33m,\u001b[0m \u001b[0mcallback\u001b[0m\u001b[1;33m=\u001b[0m\u001b[0mcb\u001b[0m\u001b[1;33m)\u001b[0m\u001b[1;33m\u001b[0m\u001b[1;33m\u001b[0m\u001b[0m\n\u001b[0m\u001b[0;32m    755\u001b[0m             \u001b[1;31m# A job can complete so quickly than its callback is\u001b[0m\u001b[1;33m\u001b[0m\u001b[1;33m\u001b[0m\u001b[1;33m\u001b[0m\u001b[0m\n\u001b[0;32m    756\u001b[0m             \u001b[1;31m# called before we get here, causing self._jobs to\u001b[0m\u001b[1;33m\u001b[0m\u001b[1;33m\u001b[0m\u001b[1;33m\u001b[0m\u001b[0m\n",
      "\u001b[1;32m~\\AppData\\Roaming\\Python\\Python37\\site-packages\\joblib\\_parallel_backends.py\u001b[0m in \u001b[0;36mapply_async\u001b[1;34m(self, func, callback)\u001b[0m\n\u001b[0;32m    207\u001b[0m     \u001b[1;32mdef\u001b[0m \u001b[0mapply_async\u001b[0m\u001b[1;33m(\u001b[0m\u001b[0mself\u001b[0m\u001b[1;33m,\u001b[0m \u001b[0mfunc\u001b[0m\u001b[1;33m,\u001b[0m \u001b[0mcallback\u001b[0m\u001b[1;33m=\u001b[0m\u001b[1;32mNone\u001b[0m\u001b[1;33m)\u001b[0m\u001b[1;33m:\u001b[0m\u001b[1;33m\u001b[0m\u001b[1;33m\u001b[0m\u001b[0m\n\u001b[0;32m    208\u001b[0m         \u001b[1;34m\"\"\"Schedule a func to be run\"\"\"\u001b[0m\u001b[1;33m\u001b[0m\u001b[1;33m\u001b[0m\u001b[0m\n\u001b[1;32m--> 209\u001b[1;33m         \u001b[0mresult\u001b[0m \u001b[1;33m=\u001b[0m \u001b[0mImmediateResult\u001b[0m\u001b[1;33m(\u001b[0m\u001b[0mfunc\u001b[0m\u001b[1;33m)\u001b[0m\u001b[1;33m\u001b[0m\u001b[1;33m\u001b[0m\u001b[0m\n\u001b[0m\u001b[0;32m    210\u001b[0m         \u001b[1;32mif\u001b[0m \u001b[0mcallback\u001b[0m\u001b[1;33m:\u001b[0m\u001b[1;33m\u001b[0m\u001b[1;33m\u001b[0m\u001b[0m\n\u001b[0;32m    211\u001b[0m             \u001b[0mcallback\u001b[0m\u001b[1;33m(\u001b[0m\u001b[0mresult\u001b[0m\u001b[1;33m)\u001b[0m\u001b[1;33m\u001b[0m\u001b[1;33m\u001b[0m\u001b[0m\n",
      "\u001b[1;32m~\\AppData\\Roaming\\Python\\Python37\\site-packages\\joblib\\_parallel_backends.py\u001b[0m in \u001b[0;36m__init__\u001b[1;34m(self, batch)\u001b[0m\n\u001b[0;32m    588\u001b[0m         \u001b[1;31m# Don't delay the application, to avoid keeping the input\u001b[0m\u001b[1;33m\u001b[0m\u001b[1;33m\u001b[0m\u001b[1;33m\u001b[0m\u001b[0m\n\u001b[0;32m    589\u001b[0m         \u001b[1;31m# arguments in memory\u001b[0m\u001b[1;33m\u001b[0m\u001b[1;33m\u001b[0m\u001b[1;33m\u001b[0m\u001b[0m\n\u001b[1;32m--> 590\u001b[1;33m         \u001b[0mself\u001b[0m\u001b[1;33m.\u001b[0m\u001b[0mresults\u001b[0m \u001b[1;33m=\u001b[0m \u001b[0mbatch\u001b[0m\u001b[1;33m(\u001b[0m\u001b[1;33m)\u001b[0m\u001b[1;33m\u001b[0m\u001b[1;33m\u001b[0m\u001b[0m\n\u001b[0m\u001b[0;32m    591\u001b[0m \u001b[1;33m\u001b[0m\u001b[0m\n\u001b[0;32m    592\u001b[0m     \u001b[1;32mdef\u001b[0m \u001b[0mget\u001b[0m\u001b[1;33m(\u001b[0m\u001b[0mself\u001b[0m\u001b[1;33m)\u001b[0m\u001b[1;33m:\u001b[0m\u001b[1;33m\u001b[0m\u001b[1;33m\u001b[0m\u001b[0m\n",
      "\u001b[1;32m~\\AppData\\Roaming\\Python\\Python37\\site-packages\\joblib\\parallel.py\u001b[0m in \u001b[0;36m__call__\u001b[1;34m(self)\u001b[0m\n\u001b[0;32m    254\u001b[0m         \u001b[1;32mwith\u001b[0m \u001b[0mparallel_backend\u001b[0m\u001b[1;33m(\u001b[0m\u001b[0mself\u001b[0m\u001b[1;33m.\u001b[0m\u001b[0m_backend\u001b[0m\u001b[1;33m,\u001b[0m \u001b[0mn_jobs\u001b[0m\u001b[1;33m=\u001b[0m\u001b[0mself\u001b[0m\u001b[1;33m.\u001b[0m\u001b[0m_n_jobs\u001b[0m\u001b[1;33m)\u001b[0m\u001b[1;33m:\u001b[0m\u001b[1;33m\u001b[0m\u001b[1;33m\u001b[0m\u001b[0m\n\u001b[0;32m    255\u001b[0m             return [func(*args, **kwargs)\n\u001b[1;32m--> 256\u001b[1;33m                     for func, args, kwargs in self.items]\n\u001b[0m\u001b[0;32m    257\u001b[0m \u001b[1;33m\u001b[0m\u001b[0m\n\u001b[0;32m    258\u001b[0m     \u001b[1;32mdef\u001b[0m \u001b[0m__len__\u001b[0m\u001b[1;33m(\u001b[0m\u001b[0mself\u001b[0m\u001b[1;33m)\u001b[0m\u001b[1;33m:\u001b[0m\u001b[1;33m\u001b[0m\u001b[1;33m\u001b[0m\u001b[0m\n",
      "\u001b[1;32m~\\AppData\\Roaming\\Python\\Python37\\site-packages\\joblib\\parallel.py\u001b[0m in \u001b[0;36m<listcomp>\u001b[1;34m(.0)\u001b[0m\n\u001b[0;32m    254\u001b[0m         \u001b[1;32mwith\u001b[0m \u001b[0mparallel_backend\u001b[0m\u001b[1;33m(\u001b[0m\u001b[0mself\u001b[0m\u001b[1;33m.\u001b[0m\u001b[0m_backend\u001b[0m\u001b[1;33m,\u001b[0m \u001b[0mn_jobs\u001b[0m\u001b[1;33m=\u001b[0m\u001b[0mself\u001b[0m\u001b[1;33m.\u001b[0m\u001b[0m_n_jobs\u001b[0m\u001b[1;33m)\u001b[0m\u001b[1;33m:\u001b[0m\u001b[1;33m\u001b[0m\u001b[1;33m\u001b[0m\u001b[0m\n\u001b[0;32m    255\u001b[0m             return [func(*args, **kwargs)\n\u001b[1;32m--> 256\u001b[1;33m                     for func, args, kwargs in self.items]\n\u001b[0m\u001b[0;32m    257\u001b[0m \u001b[1;33m\u001b[0m\u001b[0m\n\u001b[0;32m    258\u001b[0m     \u001b[1;32mdef\u001b[0m \u001b[0m__len__\u001b[0m\u001b[1;33m(\u001b[0m\u001b[0mself\u001b[0m\u001b[1;33m)\u001b[0m\u001b[1;33m:\u001b[0m\u001b[1;33m\u001b[0m\u001b[1;33m\u001b[0m\u001b[0m\n",
      "\u001b[1;32m~\\Anaconda3\\lib\\site-packages\\sklearn\\model_selection\\_validation.py\u001b[0m in \u001b[0;36m_fit_and_score\u001b[1;34m(estimator, X, y, scorer, train, test, verbose, parameters, fit_params, return_train_score, return_parameters, return_n_test_samples, return_times, return_estimator, error_score)\u001b[0m\n\u001b[0;32m    552\u001b[0m         \u001b[0mfit_time\u001b[0m \u001b[1;33m=\u001b[0m \u001b[0mtime\u001b[0m\u001b[1;33m.\u001b[0m\u001b[0mtime\u001b[0m\u001b[1;33m(\u001b[0m\u001b[1;33m)\u001b[0m \u001b[1;33m-\u001b[0m \u001b[0mstart_time\u001b[0m\u001b[1;33m\u001b[0m\u001b[1;33m\u001b[0m\u001b[0m\n\u001b[0;32m    553\u001b[0m         \u001b[1;31m# _score will return dict if is_multimetric is True\u001b[0m\u001b[1;33m\u001b[0m\u001b[1;33m\u001b[0m\u001b[1;33m\u001b[0m\u001b[0m\n\u001b[1;32m--> 554\u001b[1;33m         \u001b[0mtest_scores\u001b[0m \u001b[1;33m=\u001b[0m \u001b[0m_score\u001b[0m\u001b[1;33m(\u001b[0m\u001b[0mestimator\u001b[0m\u001b[1;33m,\u001b[0m \u001b[0mX_test\u001b[0m\u001b[1;33m,\u001b[0m \u001b[0my_test\u001b[0m\u001b[1;33m,\u001b[0m \u001b[0mscorer\u001b[0m\u001b[1;33m,\u001b[0m \u001b[0mis_multimetric\u001b[0m\u001b[1;33m)\u001b[0m\u001b[1;33m\u001b[0m\u001b[1;33m\u001b[0m\u001b[0m\n\u001b[0m\u001b[0;32m    555\u001b[0m         \u001b[0mscore_time\u001b[0m \u001b[1;33m=\u001b[0m \u001b[0mtime\u001b[0m\u001b[1;33m.\u001b[0m\u001b[0mtime\u001b[0m\u001b[1;33m(\u001b[0m\u001b[1;33m)\u001b[0m \u001b[1;33m-\u001b[0m \u001b[0mstart_time\u001b[0m \u001b[1;33m-\u001b[0m \u001b[0mfit_time\u001b[0m\u001b[1;33m\u001b[0m\u001b[1;33m\u001b[0m\u001b[0m\n\u001b[0;32m    556\u001b[0m         \u001b[1;32mif\u001b[0m \u001b[0mreturn_train_score\u001b[0m\u001b[1;33m:\u001b[0m\u001b[1;33m\u001b[0m\u001b[1;33m\u001b[0m\u001b[0m\n",
      "\u001b[1;32m~\\Anaconda3\\lib\\site-packages\\sklearn\\model_selection\\_validation.py\u001b[0m in \u001b[0;36m_score\u001b[1;34m(estimator, X_test, y_test, scorer, is_multimetric)\u001b[0m\n\u001b[0;32m    595\u001b[0m     \"\"\"\n\u001b[0;32m    596\u001b[0m     \u001b[1;32mif\u001b[0m \u001b[0mis_multimetric\u001b[0m\u001b[1;33m:\u001b[0m\u001b[1;33m\u001b[0m\u001b[1;33m\u001b[0m\u001b[0m\n\u001b[1;32m--> 597\u001b[1;33m         \u001b[1;32mreturn\u001b[0m \u001b[0m_multimetric_score\u001b[0m\u001b[1;33m(\u001b[0m\u001b[0mestimator\u001b[0m\u001b[1;33m,\u001b[0m \u001b[0mX_test\u001b[0m\u001b[1;33m,\u001b[0m \u001b[0my_test\u001b[0m\u001b[1;33m,\u001b[0m \u001b[0mscorer\u001b[0m\u001b[1;33m)\u001b[0m\u001b[1;33m\u001b[0m\u001b[1;33m\u001b[0m\u001b[0m\n\u001b[0m\u001b[0;32m    598\u001b[0m     \u001b[1;32melse\u001b[0m\u001b[1;33m:\u001b[0m\u001b[1;33m\u001b[0m\u001b[1;33m\u001b[0m\u001b[0m\n\u001b[0;32m    599\u001b[0m         \u001b[1;32mif\u001b[0m \u001b[0my_test\u001b[0m \u001b[1;32mis\u001b[0m \u001b[1;32mNone\u001b[0m\u001b[1;33m:\u001b[0m\u001b[1;33m\u001b[0m\u001b[1;33m\u001b[0m\u001b[0m\n",
      "\u001b[1;32m~\\Anaconda3\\lib\\site-packages\\sklearn\\model_selection\\_validation.py\u001b[0m in \u001b[0;36m_multimetric_score\u001b[1;34m(estimator, X_test, y_test, scorers)\u001b[0m\n\u001b[0;32m    625\u001b[0m             \u001b[0mscore\u001b[0m \u001b[1;33m=\u001b[0m \u001b[0mscorer\u001b[0m\u001b[1;33m(\u001b[0m\u001b[0mestimator\u001b[0m\u001b[1;33m,\u001b[0m \u001b[0mX_test\u001b[0m\u001b[1;33m)\u001b[0m\u001b[1;33m\u001b[0m\u001b[1;33m\u001b[0m\u001b[0m\n\u001b[0;32m    626\u001b[0m         \u001b[1;32melse\u001b[0m\u001b[1;33m:\u001b[0m\u001b[1;33m\u001b[0m\u001b[1;33m\u001b[0m\u001b[0m\n\u001b[1;32m--> 627\u001b[1;33m             \u001b[0mscore\u001b[0m \u001b[1;33m=\u001b[0m \u001b[0mscorer\u001b[0m\u001b[1;33m(\u001b[0m\u001b[0mestimator\u001b[0m\u001b[1;33m,\u001b[0m \u001b[0mX_test\u001b[0m\u001b[1;33m,\u001b[0m \u001b[0my_test\u001b[0m\u001b[1;33m)\u001b[0m\u001b[1;33m\u001b[0m\u001b[1;33m\u001b[0m\u001b[0m\n\u001b[0m\u001b[0;32m    628\u001b[0m \u001b[1;33m\u001b[0m\u001b[0m\n\u001b[0;32m    629\u001b[0m         \u001b[1;32mif\u001b[0m \u001b[0mhasattr\u001b[0m\u001b[1;33m(\u001b[0m\u001b[0mscore\u001b[0m\u001b[1;33m,\u001b[0m \u001b[1;34m'item'\u001b[0m\u001b[1;33m)\u001b[0m\u001b[1;33m:\u001b[0m\u001b[1;33m\u001b[0m\u001b[1;33m\u001b[0m\u001b[0m\n",
      "\u001b[1;32m~\\Anaconda3\\lib\\site-packages\\sklearn\\metrics\\scorer.py\u001b[0m in \u001b[0;36m__call__\u001b[1;34m(self, clf, X, y, sample_weight)\u001b[0m\n\u001b[0;32m    173\u001b[0m         \u001b[0my_type\u001b[0m \u001b[1;33m=\u001b[0m \u001b[0mtype_of_target\u001b[0m\u001b[1;33m(\u001b[0m\u001b[0my\u001b[0m\u001b[1;33m)\u001b[0m\u001b[1;33m\u001b[0m\u001b[1;33m\u001b[0m\u001b[0m\n\u001b[0;32m    174\u001b[0m         \u001b[1;32mif\u001b[0m \u001b[0my_type\u001b[0m \u001b[1;32mnot\u001b[0m \u001b[1;32min\u001b[0m \u001b[1;33m(\u001b[0m\u001b[1;34m\"binary\"\u001b[0m\u001b[1;33m,\u001b[0m \u001b[1;34m\"multilabel-indicator\"\u001b[0m\u001b[1;33m)\u001b[0m\u001b[1;33m:\u001b[0m\u001b[1;33m\u001b[0m\u001b[1;33m\u001b[0m\u001b[0m\n\u001b[1;32m--> 175\u001b[1;33m             \u001b[1;32mraise\u001b[0m \u001b[0mValueError\u001b[0m\u001b[1;33m(\u001b[0m\u001b[1;34m\"{0} format is not supported\"\u001b[0m\u001b[1;33m.\u001b[0m\u001b[0mformat\u001b[0m\u001b[1;33m(\u001b[0m\u001b[0my_type\u001b[0m\u001b[1;33m)\u001b[0m\u001b[1;33m)\u001b[0m\u001b[1;33m\u001b[0m\u001b[1;33m\u001b[0m\u001b[0m\n\u001b[0m\u001b[0;32m    176\u001b[0m \u001b[1;33m\u001b[0m\u001b[0m\n\u001b[0;32m    177\u001b[0m         \u001b[1;32mif\u001b[0m \u001b[0mis_regressor\u001b[0m\u001b[1;33m(\u001b[0m\u001b[0mclf\u001b[0m\u001b[1;33m)\u001b[0m\u001b[1;33m:\u001b[0m\u001b[1;33m\u001b[0m\u001b[1;33m\u001b[0m\u001b[0m\n",
      "\u001b[1;31mValueError\u001b[0m: multiclass format is not supported"
     ]
    }
   ],
   "source": [
    "# metrics with CV\n",
    "scoring = {'ROC_AUC': 'roc_auc',\n",
    "           'F1': make_scorer(f1_score, average='binary'),\n",
    "           'F1_weighted': make_scorer(f1_score, average='weighted')}\n",
    "scores = cross_validate(mod1, X_train, y_train, scoring=scoring,\n",
    "                        cv=4, return_train_score=True)\n",
    "sorted(scores.keys())"
   ]
  },
  {
   "cell_type": "markdown",
   "metadata": {},
   "source": [
    "### LogisticReggressionCV"
   ]
  },
  {
   "cell_type": "code",
   "execution_count": 21,
   "metadata": {},
   "outputs": [],
   "source": [
    "from  sklearn.linear_model import LogisticRegressionCV"
   ]
  },
  {
   "cell_type": "code",
   "execution_count": 22,
   "metadata": {},
   "outputs": [
    {
     "name": "stderr",
     "output_type": "stream",
     "text": [
      "C:\\Users\\Mayer\\Anaconda3\\lib\\site-packages\\sklearn\\linear_model\\logistic.py:469: FutureWarning: Default multi_class will be changed to 'auto' in 0.22. Specify the multi_class option to silence this warning.\n",
      "  \"this warning.\", FutureWarning)\n",
      "C:\\Users\\Mayer\\Anaconda3\\lib\\site-packages\\sklearn\\model_selection\\_split.py:1978: FutureWarning: The default value of cv will change from 3 to 5 in version 0.22. Specify it explicitly to silence this warning.\n",
      "  warnings.warn(CV_WARNING, FutureWarning)\n"
     ]
    }
   ],
   "source": [
    "#mod1 = LogisticRegressionCV(cv=sss,solver='liblinear',random_state=383).fit(X_train,y_train)\n",
    "mod1 = LogisticRegressionCV(random_state=383).fit(X_train,y_train)"
   ]
  },
  {
   "cell_type": "raw",
   "metadata": {},
   "source": [
    "scores_lr = cross_validate(mod1, X_train, y_train, return_train_score=True)"
   ]
  },
  {
   "cell_type": "code",
   "execution_count": 101,
   "metadata": {},
   "outputs": [],
   "source": [
    "#res = {'Logistic Regression':{\n",
    "#           'AUC-train':scores_lr['train_ROC_AUC'],\n",
    "#           'AUC-test':scores_lr['test_ROC_AUC'],\n",
    "#           'F1_W-train':scores_lr['train_F1_weighted'],\n",
    "#           'F1_W-test' : scores_lr['test_F1_weighted']\n",
    "#          \n",
    "#      }}"
   ]
  },
  {
   "cell_type": "code",
   "execution_count": 43,
   "metadata": {},
   "outputs": [],
   "source": [
    "res = {1:{'model':'Logistic Regression - base model',\n",
    "           'accuracy-Train':mod1.score(X_train,y_train),\n",
    "           'accuracy-Test':mod1.score(X_test,y_test)\n",
    "      }}"
   ]
  },
  {
   "cell_type": "markdown",
   "metadata": {},
   "source": [
    "### ComplementNB "
   ]
  },
  {
   "cell_type": "markdown",
   "metadata": {},
   "source": [
    "It is particularly suited for imbalanced data sets."
   ]
  },
  {
   "cell_type": "raw",
   "metadata": {},
   "source": [
    "#from sklearn.linear_model import ElasticNetCV\n",
    "from sklearn.naive_bayes import ComplementNB"
   ]
  },
  {
   "cell_type": "raw",
   "metadata": {},
   "source": [
    "mod2 = ComplementNB().fit(X_train,y_train)"
   ]
  },
  {
   "cell_type": "raw",
   "metadata": {},
   "source": [
    "scores_CNB = cross_validate(mod2, X_train, y_train, scoring=scoring, return_train_score=True)"
   ]
  },
  {
   "cell_type": "code",
   "execution_count": 106,
   "metadata": {},
   "outputs": [],
   "source": [
    "#res ['ComplementNB'] = {\n",
    "#           'AUC-train':scores_CNB['train_ROC_AUC'],\n",
    "#           'AUC-test':scores_CNB['test_ROC_AUC'],\n",
    "#           'F1_W-train':scores_CNB['train_F1_weighted'],\n",
    "#           'F1_W-test' : scores_CNB['test_F1_weighted']\n",
    "#          \n",
    "#      }"
   ]
  },
  {
   "cell_type": "raw",
   "metadata": {},
   "source": [
    "res2 = {'Name':'ComplementNB',\n",
    "        'Model':'mod2',\n",
    "        'AUC-train':scores_CNB['train_ROC_AUC'],\n",
    "        'AUC-test':scores_CNB['test_ROC_AUC'],\n",
    "        'F1_W-train':scores_CNB['train_F1_weighted'],\n",
    "        'F1_W-test' : scores_CNB['test_F1_weighted']\n",
    "          \n",
    "      }\n",
    "res2 = pd.DataFrame(res2)\n",
    "res = pd.concat([res, res2])"
   ]
  },
  {
   "cell_type": "markdown",
   "metadata": {},
   "source": [
    "### Support Vector Machine Classifaier (SVC)"
   ]
  },
  {
   "cell_type": "code",
   "execution_count": 332,
   "metadata": {},
   "outputs": [],
   "source": [
    "from sklearn.svm import SVC"
   ]
  },
  {
   "cell_type": "code",
   "execution_count": null,
   "metadata": {},
   "outputs": [
    {
     "name": "stderr",
     "output_type": "stream",
     "text": [
      "C:\\Users\\Mayer\\Anaconda3\\lib\\site-packages\\sklearn\\svm\\base.py:193: FutureWarning: The default value of gamma will change from 'auto' to 'scale' in version 0.22 to account better for unscaled features. Set gamma explicitly to 'auto' or 'scale' to avoid this warning.\n",
      "  \"avoid this warning.\", FutureWarning)\n"
     ]
    }
   ],
   "source": [
    "#mod3 = SVC(gamma = 'scale',kernel = 'sigmoid', class_weight = 'balanced',random_state=383).fit(X_train,y_train)\n",
    "mod3 = SVC(random_state=383).fit(X_train,y_train)"
   ]
  },
  {
   "cell_type": "raw",
   "metadata": {},
   "source": [
    "scores_SVC = cross_validate(mod3, X_train, y_train, return_train_score=True)"
   ]
  },
  {
   "cell_type": "raw",
   "metadata": {},
   "source": [
    "res = {2:{'model':'SVC',\n",
    "           'accuracy-Train':mod3.score(X_train,y_train),\n",
    "           'accuracy-Test':mod3.score(X_test,y_test)\n",
    "      }}"
   ]
  },
  {
   "cell_type": "markdown",
   "metadata": {},
   "source": [
    "### Classification Trees"
   ]
  },
  {
   "cell_type": "code",
   "execution_count": 24,
   "metadata": {},
   "outputs": [],
   "source": [
    "from sklearn.tree import DecisionTreeClassifier\n",
    "\n",
    "#mod4 = DecisionTreeClassifier(random_state=383, class_weight = 'balanced').fit(X_train,y_train)\n",
    "mod4 = DecisionTreeClassifier(random_state=383).fit(X_train,y_train)\n",
    "\n",
    "res = {3:{'model':'Classification Trees ',\n",
    "           'accuracy-Train':mod4.score(X_train,y_train),\n",
    "           'accuracy-Test':mod4.score(X_test,y_test)\n",
    "      }}"
   ]
  },
  {
   "cell_type": "code",
   "execution_count": 44,
   "metadata": {},
   "outputs": [],
   "source": [
    "res[2] = {2:{'model':'Classification Trees ',\n",
    "           'accuracy-Train':mod4.score(X_train,y_train),\n",
    "           'accuracy-Test':mod4.score(X_test,y_test)\n",
    "      }}"
   ]
  },
  {
   "cell_type": "code",
   "execution_count": 40,
   "metadata": {},
   "outputs": [
    {
     "data": {
      "text/plain": [
       "{1: {'model': 'Logistic Regression - base model',\n",
       "  'accuracy-Train': 0.7654704330622115,\n",
       "  'accuracy-Test': 0.7656765223125962},\n",
       " 2: {2: {'model': 'Classification Trees ',\n",
       "   'accuracy-Train': 1.0,\n",
       "   'accuracy-Test': 0.999986260716641}}}"
      ]
     },
     "execution_count": 40,
     "metadata": {},
     "output_type": "execute_result"
    }
   ],
   "source": [
    "res"
   ]
  },
  {
   "cell_type": "markdown",
   "metadata": {},
   "source": [
    "### Random Forest"
   ]
  },
  {
   "cell_type": "code",
   "execution_count": 25,
   "metadata": {},
   "outputs": [
    {
     "name": "stderr",
     "output_type": "stream",
     "text": [
      "C:\\Users\\Mayer\\Anaconda3\\lib\\site-packages\\sklearn\\ensemble\\forest.py:245: FutureWarning: The default value of n_estimators will change from 10 in version 0.20 to 100 in 0.22.\n",
      "  \"10 in version 0.20 to 100 in 0.22.\", FutureWarning)\n"
     ]
    }
   ],
   "source": [
    "from sklearn.ensemble import RandomForestClassifier\n",
    "\n",
    "#mod5 = RandomForestClassifier(random_state=383, class_weight = 'balanced').fit(X_train,y_train)\n",
    "mod5 = RandomForestClassifier(random_state=383).fit(X_train,y_train)\n",
    "\n",
    "res = {4:{'model':'Random Forest ',\n",
    "           'accuracy-Train':mod5.score(X_train,y_train),\n",
    "           'accuracy-Test':mod5.score(X_test,y_test)\n",
    "      }}"
   ]
  },
  {
   "cell_type": "code",
   "execution_count": 139,
   "metadata": {},
   "outputs": [],
   "source": [
    "feature = X_train.columns"
   ]
  },
  {
   "cell_type": "code",
   "execution_count": 45,
   "metadata": {},
   "outputs": [],
   "source": [
    "res [3]= {3:{'model':'Random Forest ',\n",
    "           'accuracy-Train':mod5.score(X_train,y_train),\n",
    "           'accuracy-Test':mod5.score(X_test,y_test)\n",
    "      }}"
   ]
  },
  {
   "cell_type": "markdown",
   "metadata": {},
   "source": [
    "### ADAboost"
   ]
  },
  {
   "cell_type": "code",
   "execution_count": 27,
   "metadata": {},
   "outputs": [],
   "source": [
    "from sklearn.ensemble import AdaBoostClassifier\n",
    "\n",
    "mod6 = AdaBoostClassifier(random_state=383).fit(X_train,y_train)\n",
    "\n",
    "\n",
    "res = {5:{'model':'ADABoost ',\n",
    "           'accuracy-Train':mod6.score(X_train,y_train),\n",
    "           'accuracy-Test':mod6.score(X_test,y_test)\n",
    "      }}"
   ]
  },
  {
   "cell_type": "code",
   "execution_count": 46,
   "metadata": {},
   "outputs": [],
   "source": [
    "res[4] = {4:{'model':'ADABoost ',\n",
    "           'accuracy-Train':mod6.score(X_train,y_train),\n",
    "           'accuracy-Test':mod6.score(X_test,y_test)\n",
    "      }}"
   ]
  },
  {
   "cell_type": "markdown",
   "metadata": {},
   "source": [
    "### eXtreme Gradient Boosting (XGboost)"
   ]
  },
  {
   "cell_type": "code",
   "execution_count": 31,
   "metadata": {},
   "outputs": [
    {
     "ename": "XGBoostError",
     "evalue": "need to call fit or load_model beforehand",
     "output_type": "error",
     "traceback": [
      "\u001b[1;31m---------------------------------------------------------------------------\u001b[0m",
      "\u001b[1;31mXGBoostError\u001b[0m                              Traceback (most recent call last)",
      "\u001b[1;32m<ipython-input-31-a56ceb734e67>\u001b[0m in \u001b[0;36m<module>\u001b[1;34m\u001b[0m\n\u001b[0;32m     12\u001b[0m \u001b[1;33m\u001b[0m\u001b[0m\n\u001b[0;32m     13\u001b[0m res = {6:{'model':'XGBoost ',\n\u001b[1;32m---> 14\u001b[1;33m            \u001b[1;34m'accuracy-Train'\u001b[0m\u001b[1;33m:\u001b[0m\u001b[0mmod7\u001b[0m\u001b[1;33m.\u001b[0m\u001b[0mscore\u001b[0m\u001b[1;33m(\u001b[0m\u001b[0mX_train\u001b[0m\u001b[1;33m,\u001b[0m\u001b[0my_train\u001b[0m\u001b[1;33m)\u001b[0m\u001b[1;33m,\u001b[0m\u001b[1;33m\u001b[0m\u001b[1;33m\u001b[0m\u001b[0m\n\u001b[0m\u001b[0;32m     15\u001b[0m            \u001b[1;34m'accuracy-Test'\u001b[0m\u001b[1;33m:\u001b[0m\u001b[0mmod7\u001b[0m\u001b[1;33m.\u001b[0m\u001b[0mscore\u001b[0m\u001b[1;33m(\u001b[0m\u001b[0mX_test\u001b[0m\u001b[1;33m,\u001b[0m\u001b[0my_test\u001b[0m\u001b[1;33m)\u001b[0m\u001b[1;33m\u001b[0m\u001b[1;33m\u001b[0m\u001b[0m\n\u001b[0;32m     16\u001b[0m       }}\n",
      "\u001b[1;32m~\\Anaconda3\\lib\\site-packages\\sklearn\\base.py\u001b[0m in \u001b[0;36mscore\u001b[1;34m(self, X, y, sample_weight)\u001b[0m\n\u001b[0;32m    355\u001b[0m         \"\"\"\n\u001b[0;32m    356\u001b[0m         \u001b[1;32mfrom\u001b[0m \u001b[1;33m.\u001b[0m\u001b[0mmetrics\u001b[0m \u001b[1;32mimport\u001b[0m \u001b[0maccuracy_score\u001b[0m\u001b[1;33m\u001b[0m\u001b[1;33m\u001b[0m\u001b[0m\n\u001b[1;32m--> 357\u001b[1;33m         \u001b[1;32mreturn\u001b[0m \u001b[0maccuracy_score\u001b[0m\u001b[1;33m(\u001b[0m\u001b[0my\u001b[0m\u001b[1;33m,\u001b[0m \u001b[0mself\u001b[0m\u001b[1;33m.\u001b[0m\u001b[0mpredict\u001b[0m\u001b[1;33m(\u001b[0m\u001b[0mX\u001b[0m\u001b[1;33m)\u001b[0m\u001b[1;33m,\u001b[0m \u001b[0msample_weight\u001b[0m\u001b[1;33m=\u001b[0m\u001b[0msample_weight\u001b[0m\u001b[1;33m)\u001b[0m\u001b[1;33m\u001b[0m\u001b[1;33m\u001b[0m\u001b[0m\n\u001b[0m\u001b[0;32m    358\u001b[0m \u001b[1;33m\u001b[0m\u001b[0m\n\u001b[0;32m    359\u001b[0m \u001b[1;33m\u001b[0m\u001b[0m\n",
      "\u001b[1;32m~\\Anaconda3\\lib\\site-packages\\xgboost\\sklearn.py\u001b[0m in \u001b[0;36mpredict\u001b[1;34m(self, data, output_margin, ntree_limit, validate_features, base_margin)\u001b[0m\n\u001b[0;32m    882\u001b[0m         \u001b[1;32mif\u001b[0m \u001b[0mntree_limit\u001b[0m \u001b[1;32mis\u001b[0m \u001b[1;32mNone\u001b[0m\u001b[1;33m:\u001b[0m\u001b[1;33m\u001b[0m\u001b[1;33m\u001b[0m\u001b[0m\n\u001b[0;32m    883\u001b[0m             \u001b[0mntree_limit\u001b[0m \u001b[1;33m=\u001b[0m \u001b[0mgetattr\u001b[0m\u001b[1;33m(\u001b[0m\u001b[0mself\u001b[0m\u001b[1;33m,\u001b[0m \u001b[1;34m\"best_ntree_limit\"\u001b[0m\u001b[1;33m,\u001b[0m \u001b[1;36m0\u001b[0m\u001b[1;33m)\u001b[0m\u001b[1;33m\u001b[0m\u001b[1;33m\u001b[0m\u001b[0m\n\u001b[1;32m--> 884\u001b[1;33m         class_probs = self.get_booster().predict(\n\u001b[0m\u001b[0;32m    885\u001b[0m             \u001b[0mtest_dmatrix\u001b[0m\u001b[1;33m,\u001b[0m\u001b[1;33m\u001b[0m\u001b[1;33m\u001b[0m\u001b[0m\n\u001b[0;32m    886\u001b[0m             \u001b[0moutput_margin\u001b[0m\u001b[1;33m=\u001b[0m\u001b[0moutput_margin\u001b[0m\u001b[1;33m,\u001b[0m\u001b[1;33m\u001b[0m\u001b[1;33m\u001b[0m\u001b[0m\n",
      "\u001b[1;32m~\\Anaconda3\\lib\\site-packages\\xgboost\\sklearn.py\u001b[0m in \u001b[0;36mget_booster\u001b[1;34m(self)\u001b[0m\n\u001b[0;32m    259\u001b[0m         \"\"\"\n\u001b[0;32m    260\u001b[0m         \u001b[1;32mif\u001b[0m \u001b[1;32mnot\u001b[0m \u001b[0mhasattr\u001b[0m\u001b[1;33m(\u001b[0m\u001b[0mself\u001b[0m\u001b[1;33m,\u001b[0m \u001b[1;34m'_Booster'\u001b[0m\u001b[1;33m)\u001b[0m\u001b[1;33m:\u001b[0m\u001b[1;33m\u001b[0m\u001b[1;33m\u001b[0m\u001b[0m\n\u001b[1;32m--> 261\u001b[1;33m             \u001b[1;32mraise\u001b[0m \u001b[0mXGBoostError\u001b[0m\u001b[1;33m(\u001b[0m\u001b[1;34m'need to call fit or load_model beforehand'\u001b[0m\u001b[1;33m)\u001b[0m\u001b[1;33m\u001b[0m\u001b[1;33m\u001b[0m\u001b[0m\n\u001b[0m\u001b[0;32m    262\u001b[0m         \u001b[1;32mreturn\u001b[0m \u001b[0mself\u001b[0m\u001b[1;33m.\u001b[0m\u001b[0m_Booster\u001b[0m\u001b[1;33m\u001b[0m\u001b[1;33m\u001b[0m\u001b[0m\n\u001b[0;32m    263\u001b[0m \u001b[1;33m\u001b[0m\u001b[0m\n",
      "\u001b[1;31mXGBoostError\u001b[0m: need to call fit or load_model beforehand"
     ]
    }
   ],
   "source": [
    "from xgboost import XGBClassifier\n",
    "from xgboost import cv\n",
    "from xgboost import DMatrix\n",
    "\n",
    "weights = {0: 1, 1: 3}\n",
    "dtrain = DMatrix(np.array(X_train), label=y_train,weight = weights)\n",
    "#params = {'max_depth':3, 'eta':1, 'objective':\"reg:logistic\"}\n",
    "\n",
    "#mod7 = XGBClassifier(objective='reg:logistic',random_state=383)\n",
    "mod7 = XGBClassifier(random_state=383)\n",
    "\n",
    "\n",
    "res = {6:{'model':'XGBoost ',\n",
    "           'accuracy-Train':mod7.score(X_train,y_train),\n",
    "           'accuracy-Test':mod7.score(X_test,y_test)\n",
    "      }}"
   ]
  },
  {
   "cell_type": "markdown",
   "metadata": {},
   "source": [
    "### GradientBoostingClassifier"
   ]
  },
  {
   "cell_type": "code",
   "execution_count": 33,
   "metadata": {},
   "outputs": [],
   "source": [
    "from sklearn.ensemble import GradientBoostingClassifier\n",
    "\n",
    "mod8 = GradientBoostingClassifier(random_state=383).fit(X_train,y_train)\n",
    "\n",
    "\n",
    "res[5] = {5:{'model':'GradientBoostingClassifier ',\n",
    "           'accuracy-Train':mod8.score(X_train,y_train),\n",
    "           'accuracy-Test':mod8.score(X_test,y_test)\n",
    "      }}"
   ]
  },
  {
   "cell_type": "code",
   "execution_count": 47,
   "metadata": {},
   "outputs": [],
   "source": [
    "res[5] = {5:{'model':'GradientBoostingClassifier ',\n",
    "           'accuracy-Train':mod8.score(X_train,y_train),\n",
    "           'accuracy-Test':mod8.score(X_test,y_test)\n",
    "      }}"
   ]
  },
  {
   "cell_type": "markdown",
   "metadata": {},
   "source": [
    "## Results"
   ]
  },
  {
   "cell_type": "code",
   "execution_count": 48,
   "metadata": {},
   "outputs": [
    {
     "data": {
      "text/plain": [
       "{1: {'model': 'Logistic Regression - base model',\n",
       "  'accuracy-Train': 0.7654704330622115,\n",
       "  'accuracy-Test': 0.7656765223125962},\n",
       " 2: {2: {'model': 'Classification Trees ',\n",
       "   'accuracy-Train': 1.0,\n",
       "   'accuracy-Test': 0.999986260716641}},\n",
       " 3: {3: {'model': 'Random Forest ',\n",
       "   'accuracy-Train': 0.9999542023888034,\n",
       "   'accuracy-Test': 0.9916877335678171}},\n",
       " 4: {4: {'model': 'ADABoost ',\n",
       "   'accuracy-Train': 0.7290155345497179,\n",
       "   'accuracy-Test': 0.7291025500109914}},\n",
       " 5: {5: {'model': 'GradientBoostingClassifier ',\n",
       "   'accuracy-Train': 1.0,\n",
       "   'accuracy-Test': 0.9999587821499231}}}"
      ]
     },
     "execution_count": 48,
     "metadata": {},
     "output_type": "execute_result"
    }
   ],
   "source": [
    "res"
   ]
  },
  {
   "cell_type": "markdown",
   "metadata": {},
   "source": [
    "accuracy-test score shows that the best model by both score and diffrance between train score to test score is <b> Random Forest </b>"
   ]
  },
  {
   "cell_type": "markdown",
   "metadata": {},
   "source": [
    "# ADAboost Fine-Tuning"
   ]
  },
  {
   "cell_type": "code",
   "execution_count": 123,
   "metadata": {},
   "outputs": [],
   "source": [
    "#from sklearn.metrics import mean_squared_error, mean_absolute_error\n",
    "#from sklearn.metrics import score\n",
    "from sklearn.model_selection import GridSearchCV, RandomizedSearchCV"
   ]
  },
  {
   "cell_type": "markdown",
   "metadata": {},
   "source": [
    "We will use <b> Random Search </b> for the fine tuning of the model"
   ]
  },
  {
   "cell_type": "code",
   "execution_count": 124,
   "metadata": {},
   "outputs": [],
   "source": [
    "#def evaluate (model, X,y):\n",
    "#    y_hat = model.predict(X)\n",
    "#    AUC = roc_auc_score(y,y_hat)\n",
    "#    \n",
    "#    print('Model Performance')\n",
    "#    print('AUC = {:0.4f}'.format(AUC))\n",
    "#        \n",
    "#    return [AUC]"
   ]
  },
  {
   "cell_type": "markdown",
   "metadata": {},
   "source": [
    "#### Run base model"
   ]
  },
  {
   "cell_type": "code",
   "execution_count": 125,
   "metadata": {},
   "outputs": [
    {
     "data": {
      "text/html": [
       "<div>\n",
       "<style scoped>\n",
       "    .dataframe tbody tr th:only-of-type {\n",
       "        vertical-align: middle;\n",
       "    }\n",
       "\n",
       "    .dataframe tbody tr th {\n",
       "        vertical-align: top;\n",
       "    }\n",
       "\n",
       "    .dataframe thead th {\n",
       "        text-align: right;\n",
       "    }\n",
       "</style>\n",
       "<table border=\"1\" class=\"dataframe\">\n",
       "  <thead>\n",
       "    <tr style=\"text-align: right;\">\n",
       "      <th></th>\n",
       "      <th>Base Score</th>\n",
       "    </tr>\n",
       "  </thead>\n",
       "  <tbody>\n",
       "    <tr>\n",
       "      <th>0</th>\n",
       "      <td>0.967917</td>\n",
       "    </tr>\n",
       "    <tr>\n",
       "      <th>1</th>\n",
       "      <td>0.969182</td>\n",
       "    </tr>\n",
       "    <tr>\n",
       "      <th>2</th>\n",
       "      <td>0.942010</td>\n",
       "    </tr>\n",
       "  </tbody>\n",
       "</table>\n",
       "</div>"
      ],
      "text/plain": [
       "   Base Score\n",
       "0    0.967917\n",
       "1    0.969182\n",
       "2    0.942010"
      ]
     },
     "execution_count": 125,
     "metadata": {},
     "output_type": "execute_result"
    }
   ],
   "source": [
    "mod6 = AdaBoostClassifier(random_state=383).fit(X_train,y_train)\n",
    "y_hat = mod6.predict(X_train)\n",
    "\n",
    "#mod6_AUC = evaluate (mod6, X_test,y_test)\n",
    "\n",
    "# Return the mean accuracy on the given test data\n",
    "#base_score = mod6.score(X_train, y_hat)\n",
    "base_AUC = cross_validate(mod6, X_train, y_hat, scoring='roc_auc',cv=sss, return_train_score=False)\n",
    "\n",
    "base_res = {'Base Score':base_AUC['test_score']}\n",
    "base_res = pd.DataFrame(base_res)\n",
    "base_res\n"
   ]
  },
  {
   "cell_type": "markdown",
   "metadata": {},
   "source": [
    "Hayperparameter Fine-Tuning"
   ]
  },
  {
   "cell_type": "code",
   "execution_count": 126,
   "metadata": {},
   "outputs": [
    {
     "name": "stdout",
     "output_type": "stream",
     "text": [
      "{'n_estimators': [10, 80, 151, 222, 292, 363, 434, 504, 575, 646, 717, 787, 858, 929, 1000], 'learning_rate': [1e-06, 0.1, 0.05, 0.01, 0.005, 0.001, 0.0005, 0.0001, 5e-05, 1e-05, 5e-06, 1], 'algorithm': ['SAMME', 'SAMME.R']}\n"
     ]
    }
   ],
   "source": [
    "# The maximum number of estimators at which boosting is terminated\n",
    "n_estimators = [int(x) for x in np.linspace(start=10, stop=1000, num=15)]\n",
    "# Learning rate shrinks the contribution\n",
    "learning_rate = [1e-6,1e-1,5e-2,1e-2,5e-3,1e-3,5e-4,1e-4,5e-5,1e-5,5e-6,1]\n",
    "# Boosting algorithm\n",
    "algorithm = ['SAMME', 'SAMME.R']\n",
    "\n",
    "random_grid = {'n_estimators': n_estimators,\n",
    "               'learning_rate': learning_rate,\n",
    "               'algorithm': algorithm}\n",
    "\n",
    "print(random_grid)"
   ]
  },
  {
   "cell_type": "code",
   "execution_count": 127,
   "metadata": {},
   "outputs": [
    {
     "name": "stdout",
     "output_type": "stream",
     "text": [
      "Fitting 3 folds for each of 100 candidates, totalling 300 fits\n"
     ]
    },
    {
     "name": "stderr",
     "output_type": "stream",
     "text": [
      "[Parallel(n_jobs=-1)]: Using backend LokyBackend with 4 concurrent workers.\n",
      "[Parallel(n_jobs=-1)]: Done  33 tasks      | elapsed:   32.9s\n",
      "[Parallel(n_jobs=-1)]: Done 154 tasks      | elapsed:  2.0min\n",
      "[Parallel(n_jobs=-1)]: Done 300 out of 300 | elapsed:  3.6min finished\n"
     ]
    },
    {
     "data": {
      "text/plain": [
       "RandomizedSearchCV(cv=StratifiedShuffleSplit(n_splits=3, random_state=952, test_size=0.5,\n",
       "            train_size=None),\n",
       "                   error_score='raise-deprecating',\n",
       "                   estimator=AdaBoostClassifier(algorithm='SAMME.R',\n",
       "                                                base_estimator=None,\n",
       "                                                learning_rate=1.0,\n",
       "                                                n_estimators=50,\n",
       "                                                random_state=None),\n",
       "                   iid='warn', n_iter=100, n_jobs=-1,\n",
       "                   param_distributions={'algorithm': ['SAMME', 'SAMME.R'],\n",
       "                                        'learning_rate': [1e-06, 0.1, 0.05,\n",
       "                                                          0.01, 0.005, 0.001,\n",
       "                                                          0.0005, 0.0001, 5e-05,\n",
       "                                                          1e-05, 5e-06, 1],\n",
       "                                        'n_estimators': [10, 80, 151, 222, 292,\n",
       "                                                         363, 434, 504, 575,\n",
       "                                                         646, 717, 787, 858,\n",
       "                                                         929, 1000]},\n",
       "                   pre_dispatch='2*n_jobs', random_state=383, refit=True,\n",
       "                   return_train_score=False, scoring=None, verbose=2)"
      ]
     },
     "execution_count": 127,
     "metadata": {},
     "output_type": "execute_result"
    }
   ],
   "source": [
    "ab = AdaBoostClassifier()\n",
    "\n",
    "ab_random = RandomizedSearchCV(estimator = ab, param_distributions = random_grid, n_iter = 100, cv = sss,\n",
    "                               verbose=2, random_state = 383, n_jobs=-1)\n",
    "\n",
    "# Fit the random search model\n",
    "ab_random.fit(X_train,y_train)"
   ]
  },
  {
   "cell_type": "code",
   "execution_count": 128,
   "metadata": {},
   "outputs": [
    {
     "data": {
      "text/plain": [
       "{'n_estimators': 575, 'learning_rate': 0.05, 'algorithm': 'SAMME.R'}"
      ]
     },
     "execution_count": 128,
     "metadata": {},
     "output_type": "execute_result"
    }
   ],
   "source": [
    "ab_random.best_params_"
   ]
  },
  {
   "cell_type": "code",
   "execution_count": 129,
   "metadata": {},
   "outputs": [
    {
     "data": {
      "text/html": [
       "<div>\n",
       "<style scoped>\n",
       "    .dataframe tbody tr th:only-of-type {\n",
       "        vertical-align: middle;\n",
       "    }\n",
       "\n",
       "    .dataframe tbody tr th {\n",
       "        vertical-align: top;\n",
       "    }\n",
       "\n",
       "    .dataframe thead th {\n",
       "        text-align: right;\n",
       "    }\n",
       "</style>\n",
       "<table border=\"1\" class=\"dataframe\">\n",
       "  <thead>\n",
       "    <tr style=\"text-align: right;\">\n",
       "      <th></th>\n",
       "      <th>Base Score</th>\n",
       "      <th>Random Score</th>\n",
       "    </tr>\n",
       "  </thead>\n",
       "  <tbody>\n",
       "    <tr>\n",
       "      <th>0</th>\n",
       "      <td>0.967917</td>\n",
       "      <td>0.992135</td>\n",
       "    </tr>\n",
       "    <tr>\n",
       "      <th>1</th>\n",
       "      <td>0.969182</td>\n",
       "      <td>0.982311</td>\n",
       "    </tr>\n",
       "    <tr>\n",
       "      <th>2</th>\n",
       "      <td>0.942010</td>\n",
       "      <td>0.982153</td>\n",
       "    </tr>\n",
       "  </tbody>\n",
       "</table>\n",
       "</div>"
      ],
      "text/plain": [
       "   Base Score  Random Score\n",
       "0    0.967917      0.992135\n",
       "1    0.969182      0.982311\n",
       "2    0.942010      0.982153"
      ]
     },
     "execution_count": 129,
     "metadata": {},
     "output_type": "execute_result"
    }
   ],
   "source": [
    "best_random = ab_random.best_estimator_\n",
    "yhat = best_random.predict(X_train)\n",
    "\n",
    "random_AUC = cross_validate(best_random, X_train, y_hat, scoring='roc_auc',cv=sss, return_train_score=False)\n",
    "#random_score = best_random.score(X_test, y_test)\n",
    "\n",
    "random_res = {'Base Score':base_AUC['test_score'],\n",
    "              'Random Score':random_AUC['test_score']\n",
    "      }\n",
    "random_res = pd.DataFrame(random_res)\n",
    "random_res"
   ]
  },
  {
   "cell_type": "markdown",
   "metadata": {},
   "source": [
    "<b>Grid Search</b> : We decide which parameters and how (not randomly)"
   ]
  },
  {
   "cell_type": "code",
   "execution_count": 130,
   "metadata": {},
   "outputs": [],
   "source": [
    "# Create the parameter grid\n",
    "param_grid = {'n_estimators': [400,500,600],\n",
    "               'learning_rate': [0.01, 0.05, 0.1],\n",
    "               'algorithm': ['SAMME.R']\n",
    "}\n",
    "\n",
    "grid_search = GridSearchCV(estimator = ab, param_grid = param_grid, cv = sss,\n",
    "                           verbose=2, n_jobs=-1)"
   ]
  },
  {
   "cell_type": "code",
   "execution_count": 131,
   "metadata": {},
   "outputs": [
    {
     "name": "stdout",
     "output_type": "stream",
     "text": [
      "Fitting 3 folds for each of 9 candidates, totalling 27 fits\n"
     ]
    },
    {
     "name": "stderr",
     "output_type": "stream",
     "text": [
      "[Parallel(n_jobs=-1)]: Using backend LokyBackend with 4 concurrent workers.\n",
      "[Parallel(n_jobs=-1)]: Done  27 out of  27 | elapsed:   25.0s finished\n"
     ]
    },
    {
     "data": {
      "text/plain": [
       "GridSearchCV(cv=StratifiedShuffleSplit(n_splits=3, random_state=952, test_size=0.5,\n",
       "            train_size=None),\n",
       "             error_score='raise-deprecating',\n",
       "             estimator=AdaBoostClassifier(algorithm='SAMME.R',\n",
       "                                          base_estimator=None,\n",
       "                                          learning_rate=1.0, n_estimators=50,\n",
       "                                          random_state=None),\n",
       "             iid='warn', n_jobs=-1,\n",
       "             param_grid={'algorithm': ['SAMME.R'],\n",
       "                         'learning_rate': [0.01, 0.05, 0.1],\n",
       "                         'n_estimators': [400, 500, 600]},\n",
       "             pre_dispatch='2*n_jobs', refit=True, return_train_score=False,\n",
       "             scoring=None, verbose=2)"
      ]
     },
     "execution_count": 131,
     "metadata": {},
     "output_type": "execute_result"
    }
   ],
   "source": [
    "# Fit the grid search to the data\n",
    "grid_search.fit(X_train,y_train)"
   ]
  },
  {
   "cell_type": "code",
   "execution_count": 132,
   "metadata": {},
   "outputs": [
    {
     "data": {
      "text/plain": [
       "{'algorithm': 'SAMME.R', 'learning_rate': 0.05, 'n_estimators': 600}"
      ]
     },
     "execution_count": 132,
     "metadata": {},
     "output_type": "execute_result"
    }
   ],
   "source": [
    "grid_search.best_params_"
   ]
  },
  {
   "cell_type": "code",
   "execution_count": 133,
   "metadata": {},
   "outputs": [
    {
     "data": {
      "text/html": [
       "<div>\n",
       "<style scoped>\n",
       "    .dataframe tbody tr th:only-of-type {\n",
       "        vertical-align: middle;\n",
       "    }\n",
       "\n",
       "    .dataframe tbody tr th {\n",
       "        vertical-align: top;\n",
       "    }\n",
       "\n",
       "    .dataframe thead th {\n",
       "        text-align: right;\n",
       "    }\n",
       "</style>\n",
       "<table border=\"1\" class=\"dataframe\">\n",
       "  <thead>\n",
       "    <tr style=\"text-align: right;\">\n",
       "      <th></th>\n",
       "      <th>Base Score</th>\n",
       "      <th>Random Score</th>\n",
       "      <th>Grid Score</th>\n",
       "    </tr>\n",
       "  </thead>\n",
       "  <tbody>\n",
       "    <tr>\n",
       "      <th>0</th>\n",
       "      <td>0.967917</td>\n",
       "      <td>0.992135</td>\n",
       "      <td>0.997653</td>\n",
       "    </tr>\n",
       "    <tr>\n",
       "      <th>1</th>\n",
       "      <td>0.969182</td>\n",
       "      <td>0.982311</td>\n",
       "      <td>0.995994</td>\n",
       "    </tr>\n",
       "    <tr>\n",
       "      <th>2</th>\n",
       "      <td>0.942010</td>\n",
       "      <td>0.982153</td>\n",
       "      <td>0.996485</td>\n",
       "    </tr>\n",
       "  </tbody>\n",
       "</table>\n",
       "</div>"
      ],
      "text/plain": [
       "   Base Score  Random Score  Grid Score\n",
       "0    0.967917      0.992135    0.997653\n",
       "1    0.969182      0.982311    0.995994\n",
       "2    0.942010      0.982153    0.996485"
      ]
     },
     "execution_count": 133,
     "metadata": {},
     "output_type": "execute_result"
    }
   ],
   "source": [
    "#the best parameters\n",
    "best_grid = grid_search.best_estimator_\n",
    "y_hat = best_grid.predict(X_train)\n",
    "\n",
    "grid_AUC = cross_validate(best_grid, X_train, y_hat, scoring='roc_auc',cv=sss, return_train_score=False)\n",
    "#grid_score = best_grid.score(X_test, y_test)\n",
    "\n",
    "grid_res = {'Base Score':base_AUC['test_score'],\n",
    "            'Random Score':random_AUC['test_score'],\n",
    "            'Grid Score':grid_AUC['test_score']\n",
    "      }\n",
    "grid_res = pd.DataFrame(grid_res)\n",
    "grid_res"
   ]
  },
  {
   "cell_type": "markdown",
   "metadata": {},
   "source": [
    "We can see the improvment between base, random and grid fine tuning"
   ]
  },
  {
   "cell_type": "markdown",
   "metadata": {},
   "source": [
    "# Predict the final results"
   ]
  },
  {
   "cell_type": "code",
   "execution_count": 148,
   "metadata": {},
   "outputs": [],
   "source": [
    "test2 = test2.drop(columns=['Label'])\n"
   ]
  },
  {
   "cell_type": "code",
   "execution_count": 157,
   "metadata": {},
   "outputs": [
    {
     "data": {
      "text/html": [
       "<div>\n",
       "<style scoped>\n",
       "    .dataframe tbody tr th:only-of-type {\n",
       "        vertical-align: middle;\n",
       "    }\n",
       "\n",
       "    .dataframe tbody tr th {\n",
       "        vertical-align: top;\n",
       "    }\n",
       "\n",
       "    .dataframe thead th {\n",
       "        text-align: right;\n",
       "    }\n",
       "</style>\n",
       "<table border=\"1\" class=\"dataframe\">\n",
       "  <thead>\n",
       "    <tr style=\"text-align: right;\">\n",
       "      <th></th>\n",
       "      <th>device_id</th>\n",
       "      <th>timestamp</th>\n",
       "      <th>packet_length</th>\n",
       "      <th>Header_length</th>\n",
       "      <th>TSFT</th>\n",
       "      <th>Flags</th>\n",
       "      <th>Rate</th>\n",
       "      <th>Channel</th>\n",
       "      <th>dBm_Antenna_Noise</th>\n",
       "      <th>RX_flags</th>\n",
       "      <th>...</th>\n",
       "      <th>SSID_607</th>\n",
       "      <th>SSID_608</th>\n",
       "      <th>SSID_609</th>\n",
       "      <th>SSID_610</th>\n",
       "      <th>SSID_611</th>\n",
       "      <th>SSID_612</th>\n",
       "      <th>SSID_613</th>\n",
       "      <th>Supported_Rates</th>\n",
       "      <th>MAC_timestamp</th>\n",
       "      <th>TSF_timestamp</th>\n",
       "    </tr>\n",
       "  </thead>\n",
       "  <tbody>\n",
       "    <tr>\n",
       "      <th>0</th>\n",
       "      <td>1</td>\n",
       "      <td>1406446702</td>\n",
       "      <td>62</td>\n",
       "      <td>18</td>\n",
       "      <td>0</td>\n",
       "      <td>1</td>\n",
       "      <td>1</td>\n",
       "      <td>1</td>\n",
       "      <td>0</td>\n",
       "      <td>1</td>\n",
       "      <td>...</td>\n",
       "      <td>0</td>\n",
       "      <td>0</td>\n",
       "      <td>0</td>\n",
       "      <td>0</td>\n",
       "      <td>0</td>\n",
       "      <td>0</td>\n",
       "      <td>0</td>\n",
       "      <td>1</td>\n",
       "      <td>0</td>\n",
       "      <td>0</td>\n",
       "    </tr>\n",
       "    <tr>\n",
       "      <th>1</th>\n",
       "      <td>1</td>\n",
       "      <td>1406446702</td>\n",
       "      <td>62</td>\n",
       "      <td>18</td>\n",
       "      <td>0</td>\n",
       "      <td>1</td>\n",
       "      <td>1</td>\n",
       "      <td>1</td>\n",
       "      <td>0</td>\n",
       "      <td>1</td>\n",
       "      <td>...</td>\n",
       "      <td>0</td>\n",
       "      <td>0</td>\n",
       "      <td>0</td>\n",
       "      <td>0</td>\n",
       "      <td>0</td>\n",
       "      <td>0</td>\n",
       "      <td>0</td>\n",
       "      <td>1</td>\n",
       "      <td>0</td>\n",
       "      <td>0</td>\n",
       "    </tr>\n",
       "    <tr>\n",
       "      <th>2</th>\n",
       "      <td>1</td>\n",
       "      <td>1406446702</td>\n",
       "      <td>62</td>\n",
       "      <td>18</td>\n",
       "      <td>0</td>\n",
       "      <td>1</td>\n",
       "      <td>1</td>\n",
       "      <td>1</td>\n",
       "      <td>0</td>\n",
       "      <td>1</td>\n",
       "      <td>...</td>\n",
       "      <td>0</td>\n",
       "      <td>0</td>\n",
       "      <td>0</td>\n",
       "      <td>0</td>\n",
       "      <td>0</td>\n",
       "      <td>0</td>\n",
       "      <td>0</td>\n",
       "      <td>1</td>\n",
       "      <td>0</td>\n",
       "      <td>0</td>\n",
       "    </tr>\n",
       "    <tr>\n",
       "      <th>3</th>\n",
       "      <td>1</td>\n",
       "      <td>1406446738</td>\n",
       "      <td>62</td>\n",
       "      <td>18</td>\n",
       "      <td>0</td>\n",
       "      <td>1</td>\n",
       "      <td>1</td>\n",
       "      <td>1</td>\n",
       "      <td>0</td>\n",
       "      <td>1</td>\n",
       "      <td>...</td>\n",
       "      <td>0</td>\n",
       "      <td>0</td>\n",
       "      <td>0</td>\n",
       "      <td>0</td>\n",
       "      <td>0</td>\n",
       "      <td>0</td>\n",
       "      <td>0</td>\n",
       "      <td>1</td>\n",
       "      <td>0</td>\n",
       "      <td>0</td>\n",
       "    </tr>\n",
       "    <tr>\n",
       "      <th>4</th>\n",
       "      <td>1</td>\n",
       "      <td>1406446738</td>\n",
       "      <td>62</td>\n",
       "      <td>18</td>\n",
       "      <td>0</td>\n",
       "      <td>1</td>\n",
       "      <td>1</td>\n",
       "      <td>1</td>\n",
       "      <td>0</td>\n",
       "      <td>1</td>\n",
       "      <td>...</td>\n",
       "      <td>0</td>\n",
       "      <td>0</td>\n",
       "      <td>0</td>\n",
       "      <td>0</td>\n",
       "      <td>0</td>\n",
       "      <td>0</td>\n",
       "      <td>0</td>\n",
       "      <td>1</td>\n",
       "      <td>0</td>\n",
       "      <td>0</td>\n",
       "    </tr>\n",
       "    <tr>\n",
       "      <th>...</th>\n",
       "      <td>...</td>\n",
       "      <td>...</td>\n",
       "      <td>...</td>\n",
       "      <td>...</td>\n",
       "      <td>...</td>\n",
       "      <td>...</td>\n",
       "      <td>...</td>\n",
       "      <td>...</td>\n",
       "      <td>...</td>\n",
       "      <td>...</td>\n",
       "      <td>...</td>\n",
       "      <td>...</td>\n",
       "      <td>...</td>\n",
       "      <td>...</td>\n",
       "      <td>...</td>\n",
       "      <td>...</td>\n",
       "      <td>...</td>\n",
       "      <td>...</td>\n",
       "      <td>...</td>\n",
       "      <td>...</td>\n",
       "      <td>...</td>\n",
       "    </tr>\n",
       "    <tr>\n",
       "      <th>17254</th>\n",
       "      <td>998</td>\n",
       "      <td>1487537149</td>\n",
       "      <td>145</td>\n",
       "      <td>18</td>\n",
       "      <td>0</td>\n",
       "      <td>1</td>\n",
       "      <td>1</td>\n",
       "      <td>1</td>\n",
       "      <td>0</td>\n",
       "      <td>1</td>\n",
       "      <td>...</td>\n",
       "      <td>0</td>\n",
       "      <td>0</td>\n",
       "      <td>0</td>\n",
       "      <td>0</td>\n",
       "      <td>1</td>\n",
       "      <td>0</td>\n",
       "      <td>0</td>\n",
       "      <td>1</td>\n",
       "      <td>0</td>\n",
       "      <td>0</td>\n",
       "    </tr>\n",
       "    <tr>\n",
       "      <th>17255</th>\n",
       "      <td>998</td>\n",
       "      <td>1487537194</td>\n",
       "      <td>145</td>\n",
       "      <td>18</td>\n",
       "      <td>0</td>\n",
       "      <td>1</td>\n",
       "      <td>1</td>\n",
       "      <td>1</td>\n",
       "      <td>0</td>\n",
       "      <td>1</td>\n",
       "      <td>...</td>\n",
       "      <td>0</td>\n",
       "      <td>0</td>\n",
       "      <td>0</td>\n",
       "      <td>1</td>\n",
       "      <td>0</td>\n",
       "      <td>0</td>\n",
       "      <td>0</td>\n",
       "      <td>1</td>\n",
       "      <td>0</td>\n",
       "      <td>0</td>\n",
       "    </tr>\n",
       "    <tr>\n",
       "      <th>17256</th>\n",
       "      <td>998</td>\n",
       "      <td>1487537194</td>\n",
       "      <td>145</td>\n",
       "      <td>18</td>\n",
       "      <td>0</td>\n",
       "      <td>1</td>\n",
       "      <td>1</td>\n",
       "      <td>1</td>\n",
       "      <td>0</td>\n",
       "      <td>1</td>\n",
       "      <td>...</td>\n",
       "      <td>0</td>\n",
       "      <td>0</td>\n",
       "      <td>0</td>\n",
       "      <td>0</td>\n",
       "      <td>0</td>\n",
       "      <td>1</td>\n",
       "      <td>0</td>\n",
       "      <td>1</td>\n",
       "      <td>0</td>\n",
       "      <td>0</td>\n",
       "    </tr>\n",
       "    <tr>\n",
       "      <th>17257</th>\n",
       "      <td>998</td>\n",
       "      <td>1487537194</td>\n",
       "      <td>145</td>\n",
       "      <td>18</td>\n",
       "      <td>0</td>\n",
       "      <td>1</td>\n",
       "      <td>1</td>\n",
       "      <td>1</td>\n",
       "      <td>0</td>\n",
       "      <td>1</td>\n",
       "      <td>...</td>\n",
       "      <td>0</td>\n",
       "      <td>0</td>\n",
       "      <td>0</td>\n",
       "      <td>0</td>\n",
       "      <td>0</td>\n",
       "      <td>0</td>\n",
       "      <td>1</td>\n",
       "      <td>1</td>\n",
       "      <td>0</td>\n",
       "      <td>0</td>\n",
       "    </tr>\n",
       "    <tr>\n",
       "      <th>17258</th>\n",
       "      <td>999</td>\n",
       "      <td>1439470911</td>\n",
       "      <td>91</td>\n",
       "      <td>18</td>\n",
       "      <td>0</td>\n",
       "      <td>1</td>\n",
       "      <td>1</td>\n",
       "      <td>1</td>\n",
       "      <td>0</td>\n",
       "      <td>1</td>\n",
       "      <td>...</td>\n",
       "      <td>0</td>\n",
       "      <td>0</td>\n",
       "      <td>0</td>\n",
       "      <td>0</td>\n",
       "      <td>0</td>\n",
       "      <td>0</td>\n",
       "      <td>0</td>\n",
       "      <td>1</td>\n",
       "      <td>0</td>\n",
       "      <td>0</td>\n",
       "    </tr>\n",
       "  </tbody>\n",
       "</table>\n",
       "<p>17259 rows × 778 columns</p>\n",
       "</div>"
      ],
      "text/plain": [
       "       device_id   timestamp  packet_length  Header_length  TSFT  Flags  Rate  \\\n",
       "0              1  1406446702             62             18     0      1     1   \n",
       "1              1  1406446702             62             18     0      1     1   \n",
       "2              1  1406446702             62             18     0      1     1   \n",
       "3              1  1406446738             62             18     0      1     1   \n",
       "4              1  1406446738             62             18     0      1     1   \n",
       "...          ...         ...            ...            ...   ...    ...   ...   \n",
       "17254        998  1487537149            145             18     0      1     1   \n",
       "17255        998  1487537194            145             18     0      1     1   \n",
       "17256        998  1487537194            145             18     0      1     1   \n",
       "17257        998  1487537194            145             18     0      1     1   \n",
       "17258        999  1439470911             91             18     0      1     1   \n",
       "\n",
       "       Channel  dBm_Antenna_Noise  RX_flags  ...  SSID_607  SSID_608  \\\n",
       "0            1                  0         1  ...         0         0   \n",
       "1            1                  0         1  ...         0         0   \n",
       "2            1                  0         1  ...         0         0   \n",
       "3            1                  0         1  ...         0         0   \n",
       "4            1                  0         1  ...         0         0   \n",
       "...        ...                ...       ...  ...       ...       ...   \n",
       "17254        1                  0         1  ...         0         0   \n",
       "17255        1                  0         1  ...         0         0   \n",
       "17256        1                  0         1  ...         0         0   \n",
       "17257        1                  0         1  ...         0         0   \n",
       "17258        1                  0         1  ...         0         0   \n",
       "\n",
       "       SSID_609  SSID_610  SSID_611  SSID_612  SSID_613  Supported_Rates  \\\n",
       "0             0         0         0         0         0                1   \n",
       "1             0         0         0         0         0                1   \n",
       "2             0         0         0         0         0                1   \n",
       "3             0         0         0         0         0                1   \n",
       "4             0         0         0         0         0                1   \n",
       "...         ...       ...       ...       ...       ...              ...   \n",
       "17254         0         0         1         0         0                1   \n",
       "17255         0         1         0         0         0                1   \n",
       "17256         0         0         0         1         0                1   \n",
       "17257         0         0         0         0         1                1   \n",
       "17258         0         0         0         0         0                1   \n",
       "\n",
       "       MAC_timestamp  TSF_timestamp  \n",
       "0                  0              0  \n",
       "1                  0              0  \n",
       "2                  0              0  \n",
       "3                  0              0  \n",
       "4                  0              0  \n",
       "...              ...            ...  \n",
       "17254              0              0  \n",
       "17255              0              0  \n",
       "17256              0              0  \n",
       "17257              0              0  \n",
       "17258              0              0  \n",
       "\n",
       "[17259 rows x 778 columns]"
      ]
     },
     "execution_count": 157,
     "metadata": {},
     "output_type": "execute_result"
    }
   ],
   "source": [
    " dfenc"
   ]
  },
  {
   "cell_type": "code",
   "execution_count": 158,
   "metadata": {},
   "outputs": [],
   "source": [
    " dfenc = dfenc[feature]"
   ]
  },
  {
   "cell_type": "code",
   "execution_count": 159,
   "metadata": {},
   "outputs": [],
   "source": [
    "p1 = mod5.predict(dfenc)"
   ]
  },
  {
   "cell_type": "code",
   "execution_count": 160,
   "metadata": {},
   "outputs": [
    {
     "data": {
      "text/plain": [
       "array([11, 11, 11, ...,  1,  1,  1], dtype=int64)"
      ]
     },
     "execution_count": 160,
     "metadata": {},
     "output_type": "execute_result"
    }
   ],
   "source": [
    "p1"
   ]
  },
  {
   "cell_type": "code",
   "execution_count": 161,
   "metadata": {},
   "outputs": [],
   "source": [
    "pd.DataFrame(p1).to_csv(\"predict1.csv\")"
   ]
  },
  {
   "cell_type": "code",
   "execution_count": 135,
   "metadata": {},
   "outputs": [],
   "source": [
    "importance=mod5.feature_importances_"
   ]
  },
  {
   "cell_type": "code",
   "execution_count": 136,
   "metadata": {},
   "outputs": [
    {
     "name": "stdout",
     "output_type": "stream",
     "text": [
      "Feature: 0,Score: 0.49355\n",
      "Feature: 1,Score: 0.05916\n",
      "Feature: 2,Score: 0.11247\n",
      "Feature: 3,Score: 0.02543\n",
      "Feature: 4,Score: 0.01830\n",
      "Feature: 5,Score: 0.00256\n",
      "Feature: 6,Score: 0.00965\n",
      "Feature: 7,Score: 0.00090\n",
      "Feature: 8,Score: 0.00042\n",
      "Feature: 9,Score: 0.00431\n",
      "Feature: 10,Score: 0.00007\n",
      "Feature: 11,Score: 0.01806\n",
      "Feature: 12,Score: 0.00326\n",
      "Feature: 13,Score: 0.00358\n",
      "Feature: 14,Score: 0.00002\n",
      "Feature: 15,Score: 0.02969\n",
      "Feature: 16,Score: 0.00046\n",
      "Feature: 17,Score: 0.03575\n",
      "Feature: 18,Score: 0.00000\n",
      "Feature: 19,Score: 0.01567\n",
      "Feature: 20,Score: 0.00172\n",
      "Feature: 21,Score: 0.00086\n",
      "Feature: 22,Score: 0.00004\n",
      "Feature: 23,Score: 0.00067\n",
      "Feature: 24,Score: 0.03138\n",
      "Feature: 25,Score: 0.00025\n",
      "Feature: 26,Score: 0.01596\n",
      "Feature: 27,Score: 0.01852\n",
      "Feature: 28,Score: 0.00350\n",
      "Feature: 29,Score: 0.00169\n",
      "Feature: 30,Score: 0.03983\n",
      "Feature: 31,Score: 0.00436\n",
      "Feature: 32,Score: 0.00021\n",
      "Feature: 33,Score: 0.00136\n",
      "Feature: 34,Score: 0.00584\n",
      "Feature: 35,Score: 0.00144\n",
      "Feature: 36,Score: 0.00190\n",
      "Feature: 37,Score: 0.01000\n",
      "Feature: 38,Score: 0.00069\n",
      "Feature: 39,Score: 0.00344\n",
      "Feature: 40,Score: 0.00403\n",
      "Feature: 41,Score: 0.00270\n",
      "Feature: 42,Score: 0.00339\n",
      "Feature: 43,Score: 0.00501\n",
      "Feature: 44,Score: 0.00493\n",
      "Feature: 45,Score: 0.00295\n"
     ]
    }
   ],
   "source": [
    "for i,v in enumerate(importance):\n",
    "    print('Feature: %0d,Score: %.5f'% (i,v))"
   ]
  },
  {
   "cell_type": "code",
   "execution_count": 134,
   "metadata": {},
   "outputs": [],
   "source": [
    "# make a prediction\n",
    "y_pred = best_grid.predict(X_test)\n"
   ]
  },
  {
   "cell_type": "code",
   "execution_count": 136,
   "metadata": {},
   "outputs": [
    {
     "data": {
      "text/html": [
       "<div>\n",
       "<style scoped>\n",
       "    .dataframe tbody tr th:only-of-type {\n",
       "        vertical-align: middle;\n",
       "    }\n",
       "\n",
       "    .dataframe tbody tr th {\n",
       "        vertical-align: top;\n",
       "    }\n",
       "\n",
       "    .dataframe thead th {\n",
       "        text-align: right;\n",
       "    }\n",
       "</style>\n",
       "<table border=\"1\" class=\"dataframe\">\n",
       "  <thead>\n",
       "    <tr style=\"text-align: right;\">\n",
       "      <th>col_0</th>\n",
       "      <th>0</th>\n",
       "      <th>1</th>\n",
       "    </tr>\n",
       "    <tr>\n",
       "      <th>NoShow</th>\n",
       "      <th></th>\n",
       "      <th></th>\n",
       "    </tr>\n",
       "  </thead>\n",
       "  <tbody>\n",
       "    <tr>\n",
       "      <th>0</th>\n",
       "      <td>793</td>\n",
       "      <td>20</td>\n",
       "    </tr>\n",
       "    <tr>\n",
       "      <th>1</th>\n",
       "      <td>47</td>\n",
       "      <td>14</td>\n",
       "    </tr>\n",
       "  </tbody>\n",
       "</table>\n",
       "</div>"
      ],
      "text/plain": [
       "col_0     0   1\n",
       "NoShow         \n",
       "0       793  20\n",
       "1        47  14"
      ]
     },
     "execution_count": 136,
     "metadata": {},
     "output_type": "execute_result"
    }
   ],
   "source": [
    "pd.crosstab(y_test,y_pred)"
   ]
  },
  {
   "cell_type": "code",
   "execution_count": 142,
   "metadata": {},
   "outputs": [
    {
     "data": {
      "text/html": [
       "<div>\n",
       "<style scoped>\n",
       "    .dataframe tbody tr th:only-of-type {\n",
       "        vertical-align: middle;\n",
       "    }\n",
       "\n",
       "    .dataframe tbody tr th {\n",
       "        vertical-align: top;\n",
       "    }\n",
       "\n",
       "    .dataframe thead th {\n",
       "        text-align: right;\n",
       "    }\n",
       "</style>\n",
       "<table border=\"1\" class=\"dataframe\">\n",
       "  <thead>\n",
       "    <tr style=\"text-align: right;\">\n",
       "      <th></th>\n",
       "      <th>0</th>\n",
       "      <th>1</th>\n",
       "    </tr>\n",
       "  </thead>\n",
       "  <tbody>\n",
       "    <tr>\n",
       "      <th>0</th>\n",
       "      <td>0.548398</td>\n",
       "      <td>0.451602</td>\n",
       "    </tr>\n",
       "    <tr>\n",
       "      <th>1</th>\n",
       "      <td>0.522407</td>\n",
       "      <td>0.477593</td>\n",
       "    </tr>\n",
       "    <tr>\n",
       "      <th>2</th>\n",
       "      <td>0.539654</td>\n",
       "      <td>0.460346</td>\n",
       "    </tr>\n",
       "    <tr>\n",
       "      <th>3</th>\n",
       "      <td>0.539654</td>\n",
       "      <td>0.460346</td>\n",
       "    </tr>\n",
       "    <tr>\n",
       "      <th>4</th>\n",
       "      <td>0.539654</td>\n",
       "      <td>0.460346</td>\n",
       "    </tr>\n",
       "    <tr>\n",
       "      <th>...</th>\n",
       "      <td>...</td>\n",
       "      <td>...</td>\n",
       "    </tr>\n",
       "    <tr>\n",
       "      <th>869</th>\n",
       "      <td>0.547447</td>\n",
       "      <td>0.452553</td>\n",
       "    </tr>\n",
       "    <tr>\n",
       "      <th>870</th>\n",
       "      <td>0.547447</td>\n",
       "      <td>0.452553</td>\n",
       "    </tr>\n",
       "    <tr>\n",
       "      <th>871</th>\n",
       "      <td>0.540053</td>\n",
       "      <td>0.459947</td>\n",
       "    </tr>\n",
       "    <tr>\n",
       "      <th>872</th>\n",
       "      <td>0.550280</td>\n",
       "      <td>0.449720</td>\n",
       "    </tr>\n",
       "    <tr>\n",
       "      <th>873</th>\n",
       "      <td>0.543937</td>\n",
       "      <td>0.456063</td>\n",
       "    </tr>\n",
       "  </tbody>\n",
       "</table>\n",
       "<p>874 rows × 2 columns</p>\n",
       "</div>"
      ],
      "text/plain": [
       "            0         1\n",
       "0    0.548398  0.451602\n",
       "1    0.522407  0.477593\n",
       "2    0.539654  0.460346\n",
       "3    0.539654  0.460346\n",
       "4    0.539654  0.460346\n",
       "..        ...       ...\n",
       "869  0.547447  0.452553\n",
       "870  0.547447  0.452553\n",
       "871  0.540053  0.459947\n",
       "872  0.550280  0.449720\n",
       "873  0.543937  0.456063\n",
       "\n",
       "[874 rows x 2 columns]"
      ]
     },
     "execution_count": 142,
     "metadata": {},
     "output_type": "execute_result"
    }
   ],
   "source": [
    "yprob = best_grid.predict_proba(X_test)\n",
    "yprob = pd.DataFrame(yprob)\n",
    "yprob"
   ]
  },
  {
   "cell_type": "markdown",
   "metadata": {},
   "source": [
    "## Saving the model"
   ]
  },
  {
   "cell_type": "code",
   "execution_count": 143,
   "metadata": {},
   "outputs": [
    {
     "name": "stderr",
     "output_type": "stream",
     "text": [
      "C:\\Users\\Mayer\\Anaconda3\\lib\\site-packages\\sklearn\\externals\\joblib\\__init__.py:15: DeprecationWarning: sklearn.externals.joblib is deprecated in 0.21 and will be removed in 0.23. Please import this functionality directly from joblib, which can be installed with: pip install joblib. If this warning is raised when loading pickled models, you may need to re-serialize those models with scikit-learn 0.21+.\n",
      "  warnings.warn(msg, category=DeprecationWarning)\n"
     ]
    },
    {
     "data": {
      "text/plain": [
       "['NoShowFinalModel.model']"
      ]
     },
     "execution_count": 143,
     "metadata": {},
     "output_type": "execute_result"
    }
   ],
   "source": [
    "from sklearn.externals import joblib\n",
    "\n",
    "filename = 'NoShowFinalModel.model'\n",
    "joblib.dump(best_grid,filename)\n",
    "             "
   ]
  },
  {
   "cell_type": "code",
   "execution_count": null,
   "metadata": {},
   "outputs": [],
   "source": []
  }
 ],
 "metadata": {
  "kernelspec": {
   "display_name": "Python 3",
   "language": "python",
   "name": "python3"
  },
  "language_info": {
   "codemirror_mode": {
    "name": "ipython",
    "version": 3
   },
   "file_extension": ".py",
   "mimetype": "text/x-python",
   "name": "python",
   "nbconvert_exporter": "python",
   "pygments_lexer": "ipython3",
   "version": "3.7.3"
  }
 },
 "nbformat": 4,
 "nbformat_minor": 2
}
