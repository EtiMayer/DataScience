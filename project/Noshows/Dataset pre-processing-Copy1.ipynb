{
 "cells": [
  {
   "cell_type": "markdown",
   "metadata": {},
   "source": [
    "# Preparing the data for modeling"
   ]
  },
  {
   "cell_type": "markdown",
   "metadata": {},
   "source": [
    "## Subsetting the dataset\n",
    " \n",
    "When our flat-file is ready for modeling we have to procede to generate the partitions that we will use for modeling. No matter which method we will use for training our data, we have to generate first a test dataset. This test dataset has to be set on hold aside and only used at the end of the whole process of training and selecting the best model.\n",
    " \n",
    "After we selected the test dataset we proceed to use the rest of the data for training the models. There are three main strategies for that:\n",
    " \n",
    "* Dividing into train and dev\n",
    "* Using Cross-validation\n",
    "* Using Bootstrapping\n",
    "\n",
    "\n",
    "## Test dataset"
   ]
  },
  {
   "cell_type": "code",
   "execution_count": 57,
   "metadata": {},
   "outputs": [],
   "source": [
    "data <- read.csv(\"c:/Users/Mayer/Documents/DataScience/project/Noshows/NoShow_varSel.csv\")"
   ]
  },
  {
   "cell_type": "code",
   "execution_count": 61,
   "metadata": {},
   "outputs": [
    {
     "data": {
      "text/html": [
       "<table>\n",
       "<caption>A data.frame: 6 × 57</caption>\n",
       "<thead>\n",
       "\t<tr><th></th><th scope=col>NoShow</th><th scope=col>sunday</th><th scope=col>monday</th><th scope=col>time_booked</th><th scope=col>cancel_days_1</th><th scope=col>cancel_days_2</th><th scope=col>cancel_days_3</th><th scope=col>cancel_days_4</th><th scope=col>cancel_days_5</th><th scope=col>cancel_days_6</th><th scope=col>...</th><th scope=col>quantity_6</th><th scope=col>quantity_7</th><th scope=col>amount</th><th scope=col>avg_receipt_4</th><th scope=col>avg_quantity_3</th><th scope=col>avg_quantity_5</th><th scope=col>total_cancel12</th><th scope=col>hclust4</th><th scope=col>Mclust3</th><th scope=col>Mclust4</th></tr>\n",
       "\t<tr><th></th><th scope=col>&lt;int&gt;</th><th scope=col>&lt;int&gt;</th><th scope=col>&lt;int&gt;</th><th scope=col>&lt;int&gt;</th><th scope=col>&lt;int&gt;</th><th scope=col>&lt;int&gt;</th><th scope=col>&lt;int&gt;</th><th scope=col>&lt;int&gt;</th><th scope=col>&lt;int&gt;</th><th scope=col>&lt;int&gt;</th><th scope=col>...</th><th scope=col>&lt;int&gt;</th><th scope=col>&lt;int&gt;</th><th scope=col>&lt;dbl&gt;</th><th scope=col>&lt;int&gt;</th><th scope=col>&lt;int&gt;</th><th scope=col>&lt;int&gt;</th><th scope=col>&lt;int&gt;</th><th scope=col>&lt;int&gt;</th><th scope=col>&lt;int&gt;</th><th scope=col>&lt;int&gt;</th></tr>\n",
       "</thead>\n",
       "<tbody>\n",
       "\t<tr><th scope=row>1</th><td>1</td><td>0</td><td>0</td><td> 510</td><td>1</td><td>0</td><td>0</td><td>0</td><td>0</td><td>0</td><td>...</td><td>0</td><td>1</td><td>5.145923</td><td>0</td><td>0</td><td>0</td><td>0</td><td>1</td><td>2</td><td>3</td></tr>\n",
       "\t<tr><th scope=row>2</th><td>0</td><td>0</td><td>0</td><td>1080</td><td>0</td><td>0</td><td>0</td><td>0</td><td>0</td><td>0</td><td>...</td><td>0</td><td>1</td><td>5.753366</td><td>0</td><td>0</td><td>0</td><td>0</td><td>2</td><td>2</td><td>3</td></tr>\n",
       "\t<tr><th scope=row>3</th><td>0</td><td>0</td><td>0</td><td> 640</td><td>0</td><td>0</td><td>0</td><td>0</td><td>0</td><td>0</td><td>...</td><td>0</td><td>0</td><td>5.572154</td><td>0</td><td>0</td><td>0</td><td>0</td><td>3</td><td>3</td><td>4</td></tr>\n",
       "\t<tr><th scope=row>4</th><td>0</td><td>0</td><td>0</td><td> 790</td><td>0</td><td>0</td><td>0</td><td>0</td><td>0</td><td>0</td><td>...</td><td>0</td><td>0</td><td>5.572154</td><td>1</td><td>1</td><td>0</td><td>0</td><td>4</td><td>2</td><td>3</td></tr>\n",
       "\t<tr><th scope=row>5</th><td>0</td><td>0</td><td>0</td><td> 720</td><td>0</td><td>0</td><td>0</td><td>0</td><td>1</td><td>0</td><td>...</td><td>0</td><td>1</td><td>4.025352</td><td>0</td><td>0</td><td>0</td><td>0</td><td>4</td><td>3</td><td>4</td></tr>\n",
       "\t<tr><th scope=row>6</th><td>0</td><td>0</td><td>0</td><td> 660</td><td>0</td><td>0</td><td>0</td><td>0</td><td>0</td><td>0</td><td>...</td><td>0</td><td>1</td><td>4.262680</td><td>0</td><td>0</td><td>0</td><td>0</td><td>3</td><td>2</td><td>3</td></tr>\n",
       "</tbody>\n",
       "</table>\n"
      ],
      "text/latex": [
       "A data.frame: 6 × 57\n",
       "\\begin{tabular}{r|lllllllllllllllllllll}\n",
       "  & NoShow & sunday & monday & time\\_booked & cancel\\_days\\_1 & cancel\\_days\\_2 & cancel\\_days\\_3 & cancel\\_days\\_4 & cancel\\_days\\_5 & cancel\\_days\\_6 & ... & quantity\\_6 & quantity\\_7 & amount & avg\\_receipt\\_4 & avg\\_quantity\\_3 & avg\\_quantity\\_5 & total\\_cancel12 & hclust4 & Mclust3 & Mclust4\\\\\n",
       "  & <int> & <int> & <int> & <int> & <int> & <int> & <int> & <int> & <int> & <int> & ... & <int> & <int> & <dbl> & <int> & <int> & <int> & <int> & <int> & <int> & <int>\\\\\n",
       "\\hline\n",
       "\t1 & 1 & 0 & 0 &  510 & 1 & 0 & 0 & 0 & 0 & 0 & ... & 0 & 1 & 5.145923 & 0 & 0 & 0 & 0 & 1 & 2 & 3\\\\\n",
       "\t2 & 0 & 0 & 0 & 1080 & 0 & 0 & 0 & 0 & 0 & 0 & ... & 0 & 1 & 5.753366 & 0 & 0 & 0 & 0 & 2 & 2 & 3\\\\\n",
       "\t3 & 0 & 0 & 0 &  640 & 0 & 0 & 0 & 0 & 0 & 0 & ... & 0 & 0 & 5.572154 & 0 & 0 & 0 & 0 & 3 & 3 & 4\\\\\n",
       "\t4 & 0 & 0 & 0 &  790 & 0 & 0 & 0 & 0 & 0 & 0 & ... & 0 & 0 & 5.572154 & 1 & 1 & 0 & 0 & 4 & 2 & 3\\\\\n",
       "\t5 & 0 & 0 & 0 &  720 & 0 & 0 & 0 & 0 & 1 & 0 & ... & 0 & 1 & 4.025352 & 0 & 0 & 0 & 0 & 4 & 3 & 4\\\\\n",
       "\t6 & 0 & 0 & 0 &  660 & 0 & 0 & 0 & 0 & 0 & 0 & ... & 0 & 1 & 4.262680 & 0 & 0 & 0 & 0 & 3 & 2 & 3\\\\\n",
       "\\end{tabular}\n"
      ],
      "text/markdown": [
       "\n",
       "A data.frame: 6 × 57\n",
       "\n",
       "| <!--/--> | NoShow &lt;int&gt; | sunday &lt;int&gt; | monday &lt;int&gt; | time_booked &lt;int&gt; | cancel_days_1 &lt;int&gt; | cancel_days_2 &lt;int&gt; | cancel_days_3 &lt;int&gt; | cancel_days_4 &lt;int&gt; | cancel_days_5 &lt;int&gt; | cancel_days_6 &lt;int&gt; | ... ... | quantity_6 &lt;int&gt; | quantity_7 &lt;int&gt; | amount &lt;dbl&gt; | avg_receipt_4 &lt;int&gt; | avg_quantity_3 &lt;int&gt; | avg_quantity_5 &lt;int&gt; | total_cancel12 &lt;int&gt; | hclust4 &lt;int&gt; | Mclust3 &lt;int&gt; | Mclust4 &lt;int&gt; |\n",
       "|---|---|---|---|---|---|---|---|---|---|---|---|---|---|---|---|---|---|---|---|---|---|\n",
       "| 1 | 1 | 0 | 0 |  510 | 1 | 0 | 0 | 0 | 0 | 0 | ... | 0 | 1 | 5.145923 | 0 | 0 | 0 | 0 | 1 | 2 | 3 |\n",
       "| 2 | 0 | 0 | 0 | 1080 | 0 | 0 | 0 | 0 | 0 | 0 | ... | 0 | 1 | 5.753366 | 0 | 0 | 0 | 0 | 2 | 2 | 3 |\n",
       "| 3 | 0 | 0 | 0 |  640 | 0 | 0 | 0 | 0 | 0 | 0 | ... | 0 | 0 | 5.572154 | 0 | 0 | 0 | 0 | 3 | 3 | 4 |\n",
       "| 4 | 0 | 0 | 0 |  790 | 0 | 0 | 0 | 0 | 0 | 0 | ... | 0 | 0 | 5.572154 | 1 | 1 | 0 | 0 | 4 | 2 | 3 |\n",
       "| 5 | 0 | 0 | 0 |  720 | 0 | 0 | 0 | 0 | 1 | 0 | ... | 0 | 1 | 4.025352 | 0 | 0 | 0 | 0 | 4 | 3 | 4 |\n",
       "| 6 | 0 | 0 | 0 |  660 | 0 | 0 | 0 | 0 | 0 | 0 | ... | 0 | 1 | 4.262680 | 0 | 0 | 0 | 0 | 3 | 2 | 3 |\n",
       "\n"
      ],
      "text/plain": [
       "  NoShow sunday monday time_booked cancel_days_1 cancel_days_2 cancel_days_3\n",
       "1 1      0      0       510        1             0             0            \n",
       "2 0      0      0      1080        0             0             0            \n",
       "3 0      0      0       640        0             0             0            \n",
       "4 0      0      0       790        0             0             0            \n",
       "5 0      0      0       720        0             0             0            \n",
       "6 0      0      0       660        0             0             0            \n",
       "  cancel_days_4 cancel_days_5 cancel_days_6 ... quantity_6 quantity_7 amount  \n",
       "1 0             0             0             ... 0          1          5.145923\n",
       "2 0             0             0             ... 0          1          5.753366\n",
       "3 0             0             0             ... 0          0          5.572154\n",
       "4 0             0             0             ... 0          0          5.572154\n",
       "5 0             1             0             ... 0          1          4.025352\n",
       "6 0             0             0             ... 0          1          4.262680\n",
       "  avg_receipt_4 avg_quantity_3 avg_quantity_5 total_cancel12 hclust4 Mclust3\n",
       "1 0             0              0              0              1       2      \n",
       "2 0             0              0              0              2       2      \n",
       "3 0             0              0              0              3       3      \n",
       "4 1             1              0              0              4       2      \n",
       "5 0             0              0              0              4       3      \n",
       "6 0             0              0              0              3       2      \n",
       "  Mclust4\n",
       "1 3      \n",
       "2 3      \n",
       "3 4      \n",
       "4 3      \n",
       "5 4      \n",
       "6 3      "
      ]
     },
     "metadata": {},
     "output_type": "display_data"
    }
   ],
   "source": [
    "head(data)"
   ]
  },
  {
   "cell_type": "code",
   "execution_count": 59,
   "metadata": {},
   "outputs": [
    {
     "data": {
      "text/plain": [
       "     NoShow           sunday            monday           time_booked    \n",
       " Min.   :0.0000   Min.   :0.00000   Min.   :0.0000000   Min.   : 480.0  \n",
       " 1st Qu.:0.0000   1st Qu.:0.00000   1st Qu.:0.0000000   1st Qu.: 660.0  \n",
       " Median :0.0000   Median :0.00000   Median :0.0000000   Median : 790.0  \n",
       " Mean   :0.0783   Mean   :0.02976   Mean   :0.0004579   Mean   : 804.7  \n",
       " 3rd Qu.:0.0000   3rd Qu.:0.00000   3rd Qu.:0.0000000   3rd Qu.: 960.0  \n",
       " Max.   :1.0000   Max.   :1.00000   Max.   :1.0000000   Max.   :1170.0  \n",
       " cancel_days_1     cancel_days_2     cancel_days_3      cancel_days_4    \n",
       " Min.   :0.00000   Min.   :0.00000   Min.   :0.000000   Min.   :0.00000  \n",
       " 1st Qu.:0.00000   1st Qu.:0.00000   1st Qu.:0.000000   1st Qu.:0.00000  \n",
       " Median :0.00000   Median :0.00000   Median :0.000000   Median :0.00000  \n",
       " Mean   :0.06136   Mean   :0.01648   Mean   :0.008242   Mean   :0.00641  \n",
       " 3rd Qu.:0.00000   3rd Qu.:0.00000   3rd Qu.:0.000000   3rd Qu.:0.00000  \n",
       " Max.   :1.00000   Max.   :1.00000   Max.   :1.000000   Max.   :1.00000  \n",
       " cancel_days_5     cancel_days_6     cancel_days_7     service_CAL      \n",
       " Min.   :0.00000   Min.   :0.00000   Min.   :0.0000   Min.   :0.000000  \n",
       " 1st Qu.:0.00000   1st Qu.:0.00000   1st Qu.:1.0000   1st Qu.:0.000000  \n",
       " Median :0.00000   Median :0.00000   Median :1.0000   Median :0.000000  \n",
       " Mean   :0.01419   Mean   :0.01877   Mean   :0.8745   Mean   :0.002747  \n",
       " 3rd Qu.:0.00000   3rd Qu.:0.00000   3rd Qu.:1.0000   3rd Qu.:0.000000  \n",
       " Max.   :1.00000   Max.   :1.00000   Max.   :1.0000   Max.   :1.000000  \n",
       "  service_CALC      service_CAS         service_CBAL     service_CCAMO   \n",
       " Min.   :0.00000   Min.   :0.0000000   Min.   :0.00000   Min.   :0.0000  \n",
       " 1st Qu.:0.00000   1st Qu.:0.0000000   1st Qu.:0.00000   1st Qu.:0.0000  \n",
       " Median :0.00000   Median :0.0000000   Median :0.00000   Median :0.0000  \n",
       " Mean   :0.01832   Mean   :0.0004579   Mean   :0.01099   Mean   :0.0087  \n",
       " 3rd Qu.:0.00000   3rd Qu.:0.0000000   3rd Qu.:0.00000   3rd Qu.:0.0000  \n",
       " Max.   :1.00000   Max.   :1.0000000   Max.   :1.00000   Max.   :1.0000  \n",
       "  service_CCO         service_CDPB      service_CFC      service_CHLFH    \n",
       " Min.   :0.0000000   Min.   :0.00000   Min.   :0.00000   Min.   :0.00000  \n",
       " 1st Qu.:0.0000000   1st Qu.:0.00000   1st Qu.:0.00000   1st Qu.:0.00000  \n",
       " Median :0.0000000   Median :0.00000   Median :0.00000   Median :0.00000  \n",
       " Mean   :0.0009158   Mean   :0.00641   Mean   :0.03022   Mean   :0.00641  \n",
       " 3rd Qu.:0.0000000   3rd Qu.:0.00000   3rd Qu.:0.00000   3rd Qu.:0.00000  \n",
       " Max.   :1.0000000   Max.   :1.00000   Max.   :1.00000   Max.   :1.00000  \n",
       " service_CHLFHC      service_CHLHH      service_CHLHHC     service_CHLPHC    \n",
       " Min.   :0.0000000   Min.   :0.000000   Min.   :0.000000   Min.   :0.000000  \n",
       " 1st Qu.:0.0000000   1st Qu.:0.000000   1st Qu.:0.000000   1st Qu.:0.000000  \n",
       " Median :0.0000000   Median :0.000000   Median :0.000000   Median :0.000000  \n",
       " Mean   :0.0004579   Mean   :0.002747   Mean   :0.001374   Mean   :0.008242  \n",
       " 3rd Qu.:0.0000000   3rd Qu.:0.000000   3rd Qu.:0.000000   3rd Qu.:0.000000  \n",
       " Max.   :1.0000000   Max.   :1.000000   Max.   :1.000000   Max.   :1.000000  \n",
       " service_CHLPL      service_CMT        service_CON        service_CT      \n",
       " Min.   :0.00000   Min.   :0.000000   Min.   :0.00000   Min.   :0.000000  \n",
       " 1st Qu.:0.00000   1st Qu.:0.000000   1st Qu.:0.00000   1st Qu.:0.000000  \n",
       " Median :0.00000   Median :0.000000   Median :0.00000   Median :0.000000  \n",
       " Mean   :0.02381   Mean   :0.005495   Mean   :0.04258   Mean   :0.004579  \n",
       " 3rd Qu.:0.00000   3rd Qu.:0.000000   3rd Qu.:0.00000   3rd Qu.:0.000000  \n",
       " Max.   :1.00000   Max.   :1.000000   Max.   :1.00000   Max.   :1.000000  \n",
       "  service_FRI        service_MISC       service_SBD5     service_SDUD     \n",
       " Min.   :0.000000   Min.   :0.000000   Min.   :0.0000   Min.   :0.000000  \n",
       " 1st Qu.:0.000000   1st Qu.:0.000000   1st Qu.:0.0000   1st Qu.:0.000000  \n",
       " Median :0.000000   Median :0.000000   Median :0.0000   Median :0.000000  \n",
       " Mean   :0.003663   Mean   :0.001374   Mean   :0.0087   Mean   :0.004121  \n",
       " 3rd Qu.:0.000000   3rd Qu.:0.000000   3rd Qu.:0.0000   3rd Qu.:0.000000  \n",
       " Max.   :1.000000   Max.   :1.000000   Max.   :1.0000   Max.   :1.000000  \n",
       "  service_SHCC       service_SHCW    service_SMARTBOND   service_SMO      \n",
       " Min.   :0.000000   Min.   :0.0000   Min.   :0.000000   Min.   :0.000000  \n",
       " 1st Qu.:0.000000   1st Qu.:0.0000   1st Qu.:0.000000   1st Qu.:0.000000  \n",
       " Median :0.000000   Median :0.0000   Median :0.000000   Median :0.000000  \n",
       " Mean   :0.007326   Mean   :0.3603   Mean   :0.004579   Mean   :0.001374  \n",
       " 3rd Qu.:0.000000   3rd Qu.:1.0000   3rd Qu.:0.000000   3rd Qu.:0.000000  \n",
       " Max.   :1.000000   Max.   :1.0000   Max.   :1.000000   Max.   :1.000000  \n",
       "  staff_BECKY      staff_HOUSE        staff_KELLY     Canceled_By_BECKY\n",
       " Min.   :0.0000   Min.   :0.000000   Min.   :0.0000   Min.   :0.00000  \n",
       " 1st Qu.:0.0000   1st Qu.:0.000000   1st Qu.:0.0000   1st Qu.:0.00000  \n",
       " Median :0.0000   Median :0.000000   Median :0.0000   Median :0.00000  \n",
       " Mean   :0.2363   Mean   :0.009615   Mean   :0.1474   Mean   :0.01328  \n",
       " 3rd Qu.:0.0000   3rd Qu.:0.000000   3rd Qu.:0.0000   3rd Qu.:0.00000  \n",
       " Max.   :1.0000   Max.   :1.000000   Max.   :1.0000   Max.   :1.00000  \n",
       " Canceled_By_JJ    Canceled_By_JOANNE Canceled_By_KELLY Canceled_By_SINEAD\n",
       " Min.   :0.00000   Min.   :0.000000   Min.   :0.00000   Min.   :0.000000  \n",
       " 1st Qu.:0.00000   1st Qu.:0.000000   1st Qu.:0.00000   1st Qu.:0.000000  \n",
       " Median :0.00000   Median :0.000000   Median :0.00000   Median :0.000000  \n",
       " Mean   :0.04258   Mean   :0.007784   Mean   :0.01465   Mean   :0.007326  \n",
       " 3rd Qu.:0.00000   3rd Qu.:0.000000   3rd Qu.:0.00000   3rd Qu.:0.000000  \n",
       " Max.   :1.00000   Max.   :1.000000   Max.   :1.00000   Max.   :1.000000  \n",
       "   quantity_1          quantity_2       quantity_5        quantity_6    \n",
       " Min.   :0.0000000   Min.   :0.0000   Min.   :0.00000   Min.   :0.0000  \n",
       " 1st Qu.:0.0000000   1st Qu.:0.0000   1st Qu.:0.00000   1st Qu.:0.0000  \n",
       " Median :0.0000000   Median :1.0000   Median :0.00000   Median :0.0000  \n",
       " Mean   :0.0004579   Mean   :0.5087   Mean   :0.01099   Mean   :0.0087  \n",
       " 3rd Qu.:0.0000000   3rd Qu.:1.0000   3rd Qu.:0.00000   3rd Qu.:0.0000  \n",
       " Max.   :1.0000000   Max.   :1.0000   Max.   :1.00000   Max.   :1.0000  \n",
       "   quantity_7         amount      avg_receipt_4    avg_quantity_3  \n",
       " Min.   :0.0000   Min.   :0.000   Min.   :0.0000   Min.   :0.0000  \n",
       " 1st Qu.:0.0000   1st Qu.:3.932   1st Qu.:0.0000   1st Qu.:0.0000  \n",
       " Median :0.0000   Median :4.263   Median :0.0000   Median :0.0000  \n",
       " Mean   :0.2152   Mean   :3.982   Mean   :0.1909   Mean   :0.1992  \n",
       " 3rd Qu.:0.0000   3rd Qu.:4.710   3rd Qu.:0.0000   3rd Qu.:0.0000  \n",
       " Max.   :1.0000   Max.   :5.950   Max.   :1.0000   Max.   :1.0000  \n",
       " avg_quantity_5     total_cancel12      hclust4         Mclust3     \n",
       " Min.   :0.000000   Min.   :0.0000   Min.   :1.000   Min.   :1.000  \n",
       " 1st Qu.:0.000000   1st Qu.:0.0000   1st Qu.:2.000   1st Qu.:2.000  \n",
       " Median :0.000000   Median :0.0000   Median :3.000   Median :2.000  \n",
       " Mean   :0.005037   Mean   :0.4794   Mean   :2.566   Mean   :1.916  \n",
       " 3rd Qu.:0.000000   3rd Qu.:1.0000   3rd Qu.:3.000   3rd Qu.:2.000  \n",
       " Max.   :1.000000   Max.   :4.0000   Max.   :4.000   Max.   :3.000  \n",
       "    Mclust4     \n",
       " Min.   :1.000  \n",
       " 1st Qu.:2.000  \n",
       " Median :2.000  \n",
       " Mean   :2.343  \n",
       " 3rd Qu.:3.000  \n",
       " Max.   :4.000  "
      ]
     },
     "metadata": {},
     "output_type": "display_data"
    }
   ],
   "source": [
    "summary(data)"
   ]
  },
  {
   "cell_type": "code",
   "execution_count": 62,
   "metadata": {},
   "outputs": [
    {
     "data": {
      "text/html": [
       "<table>\n",
       "<caption>A matrix: 57 × 2 of type chr</caption>\n",
       "<thead>\n",
       "\t<tr><th></th><th scope=col>Index</th><th scope=col>Type</th></tr>\n",
       "</thead>\n",
       "<tbody>\n",
       "\t<tr><th scope=row>NoShow</th><td>1 </td><td>integer</td></tr>\n",
       "\t<tr><th scope=row>sunday</th><td>2 </td><td>integer</td></tr>\n",
       "\t<tr><th scope=row>monday</th><td>3 </td><td>integer</td></tr>\n",
       "\t<tr><th scope=row>time_booked</th><td>4 </td><td>integer</td></tr>\n",
       "\t<tr><th scope=row>cancel_days_1</th><td>5 </td><td>integer</td></tr>\n",
       "\t<tr><th scope=row>cancel_days_2</th><td>6 </td><td>integer</td></tr>\n",
       "\t<tr><th scope=row>cancel_days_3</th><td>7 </td><td>integer</td></tr>\n",
       "\t<tr><th scope=row>cancel_days_4</th><td>8 </td><td>integer</td></tr>\n",
       "\t<tr><th scope=row>cancel_days_5</th><td>9 </td><td>integer</td></tr>\n",
       "\t<tr><th scope=row>cancel_days_6</th><td>10</td><td>integer</td></tr>\n",
       "\t<tr><th scope=row>cancel_days_7</th><td>11</td><td>integer</td></tr>\n",
       "\t<tr><th scope=row>service_CAL</th><td>12</td><td>integer</td></tr>\n",
       "\t<tr><th scope=row>service_CALC</th><td>13</td><td>integer</td></tr>\n",
       "\t<tr><th scope=row>service_CAS</th><td>14</td><td>integer</td></tr>\n",
       "\t<tr><th scope=row>service_CBAL</th><td>15</td><td>integer</td></tr>\n",
       "\t<tr><th scope=row>service_CCAMO</th><td>16</td><td>integer</td></tr>\n",
       "\t<tr><th scope=row>service_CCO</th><td>17</td><td>integer</td></tr>\n",
       "\t<tr><th scope=row>service_CDPB</th><td>18</td><td>integer</td></tr>\n",
       "\t<tr><th scope=row>service_CFC</th><td>19</td><td>integer</td></tr>\n",
       "\t<tr><th scope=row>service_CHLFH</th><td>20</td><td>integer</td></tr>\n",
       "\t<tr><th scope=row>service_CHLFHC</th><td>21</td><td>integer</td></tr>\n",
       "\t<tr><th scope=row>service_CHLHH</th><td>22</td><td>integer</td></tr>\n",
       "\t<tr><th scope=row>service_CHLHHC</th><td>23</td><td>integer</td></tr>\n",
       "\t<tr><th scope=row>service_CHLPHC</th><td>24</td><td>integer</td></tr>\n",
       "\t<tr><th scope=row>service_CHLPL</th><td>25</td><td>integer</td></tr>\n",
       "\t<tr><th scope=row>service_CMT</th><td>26</td><td>integer</td></tr>\n",
       "\t<tr><th scope=row>service_CON</th><td>27</td><td>integer</td></tr>\n",
       "\t<tr><th scope=row>service_CT</th><td>28</td><td>integer</td></tr>\n",
       "\t<tr><th scope=row>service_FRI</th><td>29</td><td>integer</td></tr>\n",
       "\t<tr><th scope=row>service_MISC</th><td>30</td><td>integer</td></tr>\n",
       "\t<tr><th scope=row>service_SBD5</th><td>31</td><td>integer</td></tr>\n",
       "\t<tr><th scope=row>service_SDUD</th><td>32</td><td>integer</td></tr>\n",
       "\t<tr><th scope=row>service_SHCC</th><td>33</td><td>integer</td></tr>\n",
       "\t<tr><th scope=row>service_SHCW</th><td>34</td><td>integer</td></tr>\n",
       "\t<tr><th scope=row>service_SMARTBOND</th><td>35</td><td>integer</td></tr>\n",
       "\t<tr><th scope=row>service_SMO</th><td>36</td><td>integer</td></tr>\n",
       "\t<tr><th scope=row>staff_BECKY</th><td>37</td><td>integer</td></tr>\n",
       "\t<tr><th scope=row>staff_HOUSE</th><td>38</td><td>integer</td></tr>\n",
       "\t<tr><th scope=row>staff_KELLY</th><td>39</td><td>integer</td></tr>\n",
       "\t<tr><th scope=row>Canceled_By_BECKY</th><td>40</td><td>integer</td></tr>\n",
       "\t<tr><th scope=row>Canceled_By_JJ</th><td>41</td><td>integer</td></tr>\n",
       "\t<tr><th scope=row>Canceled_By_JOANNE</th><td>42</td><td>integer</td></tr>\n",
       "\t<tr><th scope=row>Canceled_By_KELLY</th><td>43</td><td>integer</td></tr>\n",
       "\t<tr><th scope=row>Canceled_By_SINEAD</th><td>44</td><td>integer</td></tr>\n",
       "\t<tr><th scope=row>quantity_1</th><td>45</td><td>integer</td></tr>\n",
       "\t<tr><th scope=row>quantity_2</th><td>46</td><td>integer</td></tr>\n",
       "\t<tr><th scope=row>quantity_5</th><td>47</td><td>integer</td></tr>\n",
       "\t<tr><th scope=row>quantity_6</th><td>48</td><td>integer</td></tr>\n",
       "\t<tr><th scope=row>quantity_7</th><td>49</td><td>integer</td></tr>\n",
       "\t<tr><th scope=row>amount</th><td>50</td><td>numeric</td></tr>\n",
       "\t<tr><th scope=row>avg_receipt_4</th><td>51</td><td>integer</td></tr>\n",
       "\t<tr><th scope=row>avg_quantity_3</th><td>52</td><td>integer</td></tr>\n",
       "\t<tr><th scope=row>avg_quantity_5</th><td>53</td><td>integer</td></tr>\n",
       "\t<tr><th scope=row>total_cancel12</th><td>54</td><td>integer</td></tr>\n",
       "\t<tr><th scope=row>hclust4</th><td>55</td><td>integer</td></tr>\n",
       "\t<tr><th scope=row>Mclust3</th><td>56</td><td>integer</td></tr>\n",
       "\t<tr><th scope=row>Mclust4</th><td>57</td><td>integer</td></tr>\n",
       "</tbody>\n",
       "</table>\n"
      ],
      "text/latex": [
       "A matrix: 57 × 2 of type chr\n",
       "\\begin{tabular}{r|ll}\n",
       "  & Index & Type\\\\\n",
       "\\hline\n",
       "\tNoShow & 1  & integer\\\\\n",
       "\tsunday & 2  & integer\\\\\n",
       "\tmonday & 3  & integer\\\\\n",
       "\ttime\\_booked & 4  & integer\\\\\n",
       "\tcancel\\_days\\_1 & 5  & integer\\\\\n",
       "\tcancel\\_days\\_2 & 6  & integer\\\\\n",
       "\tcancel\\_days\\_3 & 7  & integer\\\\\n",
       "\tcancel\\_days\\_4 & 8  & integer\\\\\n",
       "\tcancel\\_days\\_5 & 9  & integer\\\\\n",
       "\tcancel\\_days\\_6 & 10 & integer\\\\\n",
       "\tcancel\\_days\\_7 & 11 & integer\\\\\n",
       "\tservice\\_CAL & 12 & integer\\\\\n",
       "\tservice\\_CALC & 13 & integer\\\\\n",
       "\tservice\\_CAS & 14 & integer\\\\\n",
       "\tservice\\_CBAL & 15 & integer\\\\\n",
       "\tservice\\_CCAMO & 16 & integer\\\\\n",
       "\tservice\\_CCO & 17 & integer\\\\\n",
       "\tservice\\_CDPB & 18 & integer\\\\\n",
       "\tservice\\_CFC & 19 & integer\\\\\n",
       "\tservice\\_CHLFH & 20 & integer\\\\\n",
       "\tservice\\_CHLFHC & 21 & integer\\\\\n",
       "\tservice\\_CHLHH & 22 & integer\\\\\n",
       "\tservice\\_CHLHHC & 23 & integer\\\\\n",
       "\tservice\\_CHLPHC & 24 & integer\\\\\n",
       "\tservice\\_CHLPL & 25 & integer\\\\\n",
       "\tservice\\_CMT & 26 & integer\\\\\n",
       "\tservice\\_CON & 27 & integer\\\\\n",
       "\tservice\\_CT & 28 & integer\\\\\n",
       "\tservice\\_FRI & 29 & integer\\\\\n",
       "\tservice\\_MISC & 30 & integer\\\\\n",
       "\tservice\\_SBD5 & 31 & integer\\\\\n",
       "\tservice\\_SDUD & 32 & integer\\\\\n",
       "\tservice\\_SHCC & 33 & integer\\\\\n",
       "\tservice\\_SHCW & 34 & integer\\\\\n",
       "\tservice\\_SMARTBOND & 35 & integer\\\\\n",
       "\tservice\\_SMO & 36 & integer\\\\\n",
       "\tstaff\\_BECKY & 37 & integer\\\\\n",
       "\tstaff\\_HOUSE & 38 & integer\\\\\n",
       "\tstaff\\_KELLY & 39 & integer\\\\\n",
       "\tCanceled\\_By\\_BECKY & 40 & integer\\\\\n",
       "\tCanceled\\_By\\_JJ & 41 & integer\\\\\n",
       "\tCanceled\\_By\\_JOANNE & 42 & integer\\\\\n",
       "\tCanceled\\_By\\_KELLY & 43 & integer\\\\\n",
       "\tCanceled\\_By\\_SINEAD & 44 & integer\\\\\n",
       "\tquantity\\_1 & 45 & integer\\\\\n",
       "\tquantity\\_2 & 46 & integer\\\\\n",
       "\tquantity\\_5 & 47 & integer\\\\\n",
       "\tquantity\\_6 & 48 & integer\\\\\n",
       "\tquantity\\_7 & 49 & integer\\\\\n",
       "\tamount & 50 & numeric\\\\\n",
       "\tavg\\_receipt\\_4 & 51 & integer\\\\\n",
       "\tavg\\_quantity\\_3 & 52 & integer\\\\\n",
       "\tavg\\_quantity\\_5 & 53 & integer\\\\\n",
       "\ttotal\\_cancel12 & 54 & integer\\\\\n",
       "\thclust4 & 55 & integer\\\\\n",
       "\tMclust3 & 56 & integer\\\\\n",
       "\tMclust4 & 57 & integer\\\\\n",
       "\\end{tabular}\n"
      ],
      "text/markdown": [
       "\n",
       "A matrix: 57 × 2 of type chr\n",
       "\n",
       "| <!--/--> | Index | Type |\n",
       "|---|---|---|\n",
       "| NoShow | 1  | integer |\n",
       "| sunday | 2  | integer |\n",
       "| monday | 3  | integer |\n",
       "| time_booked | 4  | integer |\n",
       "| cancel_days_1 | 5  | integer |\n",
       "| cancel_days_2 | 6  | integer |\n",
       "| cancel_days_3 | 7  | integer |\n",
       "| cancel_days_4 | 8  | integer |\n",
       "| cancel_days_5 | 9  | integer |\n",
       "| cancel_days_6 | 10 | integer |\n",
       "| cancel_days_7 | 11 | integer |\n",
       "| service_CAL | 12 | integer |\n",
       "| service_CALC | 13 | integer |\n",
       "| service_CAS | 14 | integer |\n",
       "| service_CBAL | 15 | integer |\n",
       "| service_CCAMO | 16 | integer |\n",
       "| service_CCO | 17 | integer |\n",
       "| service_CDPB | 18 | integer |\n",
       "| service_CFC | 19 | integer |\n",
       "| service_CHLFH | 20 | integer |\n",
       "| service_CHLFHC | 21 | integer |\n",
       "| service_CHLHH | 22 | integer |\n",
       "| service_CHLHHC | 23 | integer |\n",
       "| service_CHLPHC | 24 | integer |\n",
       "| service_CHLPL | 25 | integer |\n",
       "| service_CMT | 26 | integer |\n",
       "| service_CON | 27 | integer |\n",
       "| service_CT | 28 | integer |\n",
       "| service_FRI | 29 | integer |\n",
       "| service_MISC | 30 | integer |\n",
       "| service_SBD5 | 31 | integer |\n",
       "| service_SDUD | 32 | integer |\n",
       "| service_SHCC | 33 | integer |\n",
       "| service_SHCW | 34 | integer |\n",
       "| service_SMARTBOND | 35 | integer |\n",
       "| service_SMO | 36 | integer |\n",
       "| staff_BECKY | 37 | integer |\n",
       "| staff_HOUSE | 38 | integer |\n",
       "| staff_KELLY | 39 | integer |\n",
       "| Canceled_By_BECKY | 40 | integer |\n",
       "| Canceled_By_JJ | 41 | integer |\n",
       "| Canceled_By_JOANNE | 42 | integer |\n",
       "| Canceled_By_KELLY | 43 | integer |\n",
       "| Canceled_By_SINEAD | 44 | integer |\n",
       "| quantity_1 | 45 | integer |\n",
       "| quantity_2 | 46 | integer |\n",
       "| quantity_5 | 47 | integer |\n",
       "| quantity_6 | 48 | integer |\n",
       "| quantity_7 | 49 | integer |\n",
       "| amount | 50 | numeric |\n",
       "| avg_receipt_4 | 51 | integer |\n",
       "| avg_quantity_3 | 52 | integer |\n",
       "| avg_quantity_5 | 53 | integer |\n",
       "| total_cancel12 | 54 | integer |\n",
       "| hclust4 | 55 | integer |\n",
       "| Mclust3 | 56 | integer |\n",
       "| Mclust4 | 57 | integer |\n",
       "\n"
      ],
      "text/plain": [
       "                   Index Type   \n",
       "NoShow             1     integer\n",
       "sunday             2     integer\n",
       "monday             3     integer\n",
       "time_booked        4     integer\n",
       "cancel_days_1      5     integer\n",
       "cancel_days_2      6     integer\n",
       "cancel_days_3      7     integer\n",
       "cancel_days_4      8     integer\n",
       "cancel_days_5      9     integer\n",
       "cancel_days_6      10    integer\n",
       "cancel_days_7      11    integer\n",
       "service_CAL        12    integer\n",
       "service_CALC       13    integer\n",
       "service_CAS        14    integer\n",
       "service_CBAL       15    integer\n",
       "service_CCAMO      16    integer\n",
       "service_CCO        17    integer\n",
       "service_CDPB       18    integer\n",
       "service_CFC        19    integer\n",
       "service_CHLFH      20    integer\n",
       "service_CHLFHC     21    integer\n",
       "service_CHLHH      22    integer\n",
       "service_CHLHHC     23    integer\n",
       "service_CHLPHC     24    integer\n",
       "service_CHLPL      25    integer\n",
       "service_CMT        26    integer\n",
       "service_CON        27    integer\n",
       "service_CT         28    integer\n",
       "service_FRI        29    integer\n",
       "service_MISC       30    integer\n",
       "service_SBD5       31    integer\n",
       "service_SDUD       32    integer\n",
       "service_SHCC       33    integer\n",
       "service_SHCW       34    integer\n",
       "service_SMARTBOND  35    integer\n",
       "service_SMO        36    integer\n",
       "staff_BECKY        37    integer\n",
       "staff_HOUSE        38    integer\n",
       "staff_KELLY        39    integer\n",
       "Canceled_By_BECKY  40    integer\n",
       "Canceled_By_JJ     41    integer\n",
       "Canceled_By_JOANNE 42    integer\n",
       "Canceled_By_KELLY  43    integer\n",
       "Canceled_By_SINEAD 44    integer\n",
       "quantity_1         45    integer\n",
       "quantity_2         46    integer\n",
       "quantity_5         47    integer\n",
       "quantity_6         48    integer\n",
       "quantity_7         49    integer\n",
       "amount             50    numeric\n",
       "avg_receipt_4      51    integer\n",
       "avg_quantity_3     52    integer\n",
       "avg_quantity_5     53    integer\n",
       "total_cancel12     54    integer\n",
       "hclust4            55    integer\n",
       "Mclust3            56    integer\n",
       "Mclust4            57    integer"
      ]
     },
     "metadata": {},
     "output_type": "display_data"
    }
   ],
   "source": [
    "#table of types\n",
    "TypeTab <- NULL\n",
    "TypeTab <- cbind(Index=c(1:57),Type=sapply(data[,1:57],class))\n",
    "TypeTab"
   ]
  },
  {
   "cell_type": "code",
   "execution_count": 19,
   "metadata": {},
   "outputs": [],
   "source": [
    "#vfactor <- function(data=data, factorSize =10) {\n",
    " # determine which columns are integer\n",
    " # int_col <- which(sapply(data, is.integer))\n",
    " # int_col <- c(int_col,(which(sapply(data, is.numeric))))\n",
    " # mi <- vector()\n",
    "  # find only those integers with less than 10 unique values and convert to factor\n",
    " # for (li in int_col) {\n",
    "  #  if (length(unique(data[,li])) < factorSize) {\n",
    "   #   mi <- c(mi,li)\n",
    "    #  if (is.factor(data[,li]) == FALSE) {\n",
    "     #   data[,li] <- as.factor(data[,li])\n",
    "     # }\n",
    "   # }\n",
    " # }\n",
    "#}"
   ]
  },
  {
   "cell_type": "code",
   "execution_count": 63,
   "metadata": {},
   "outputs": [
    {
     "data": {
      "text/plain": [
       "     NoShow           sunday            monday           time_booked    \n",
       " Min.   :0.0000   Min.   :0.00000   Min.   :0.0000000   Min.   : 480.0  \n",
       " 1st Qu.:0.0000   1st Qu.:0.00000   1st Qu.:0.0000000   1st Qu.: 660.0  \n",
       " Median :0.0000   Median :0.00000   Median :0.0000000   Median : 790.0  \n",
       " Mean   :0.0783   Mean   :0.02976   Mean   :0.0004579   Mean   : 804.7  \n",
       " 3rd Qu.:0.0000   3rd Qu.:0.00000   3rd Qu.:0.0000000   3rd Qu.: 960.0  \n",
       " Max.   :1.0000   Max.   :1.00000   Max.   :1.0000000   Max.   :1170.0  \n",
       " cancel_days_1     cancel_days_2     cancel_days_3      cancel_days_4    \n",
       " Min.   :0.00000   Min.   :0.00000   Min.   :0.000000   Min.   :0.00000  \n",
       " 1st Qu.:0.00000   1st Qu.:0.00000   1st Qu.:0.000000   1st Qu.:0.00000  \n",
       " Median :0.00000   Median :0.00000   Median :0.000000   Median :0.00000  \n",
       " Mean   :0.06136   Mean   :0.01648   Mean   :0.008242   Mean   :0.00641  \n",
       " 3rd Qu.:0.00000   3rd Qu.:0.00000   3rd Qu.:0.000000   3rd Qu.:0.00000  \n",
       " Max.   :1.00000   Max.   :1.00000   Max.   :1.000000   Max.   :1.00000  \n",
       " cancel_days_5     cancel_days_6     cancel_days_7     service_CAL      \n",
       " Min.   :0.00000   Min.   :0.00000   Min.   :0.0000   Min.   :0.000000  \n",
       " 1st Qu.:0.00000   1st Qu.:0.00000   1st Qu.:1.0000   1st Qu.:0.000000  \n",
       " Median :0.00000   Median :0.00000   Median :1.0000   Median :0.000000  \n",
       " Mean   :0.01419   Mean   :0.01877   Mean   :0.8745   Mean   :0.002747  \n",
       " 3rd Qu.:0.00000   3rd Qu.:0.00000   3rd Qu.:1.0000   3rd Qu.:0.000000  \n",
       " Max.   :1.00000   Max.   :1.00000   Max.   :1.0000   Max.   :1.000000  \n",
       "  service_CALC      service_CAS         service_CBAL     service_CCAMO   \n",
       " Min.   :0.00000   Min.   :0.0000000   Min.   :0.00000   Min.   :0.0000  \n",
       " 1st Qu.:0.00000   1st Qu.:0.0000000   1st Qu.:0.00000   1st Qu.:0.0000  \n",
       " Median :0.00000   Median :0.0000000   Median :0.00000   Median :0.0000  \n",
       " Mean   :0.01832   Mean   :0.0004579   Mean   :0.01099   Mean   :0.0087  \n",
       " 3rd Qu.:0.00000   3rd Qu.:0.0000000   3rd Qu.:0.00000   3rd Qu.:0.0000  \n",
       " Max.   :1.00000   Max.   :1.0000000   Max.   :1.00000   Max.   :1.0000  \n",
       "  service_CCO         service_CDPB      service_CFC      service_CHLFH    \n",
       " Min.   :0.0000000   Min.   :0.00000   Min.   :0.00000   Min.   :0.00000  \n",
       " 1st Qu.:0.0000000   1st Qu.:0.00000   1st Qu.:0.00000   1st Qu.:0.00000  \n",
       " Median :0.0000000   Median :0.00000   Median :0.00000   Median :0.00000  \n",
       " Mean   :0.0009158   Mean   :0.00641   Mean   :0.03022   Mean   :0.00641  \n",
       " 3rd Qu.:0.0000000   3rd Qu.:0.00000   3rd Qu.:0.00000   3rd Qu.:0.00000  \n",
       " Max.   :1.0000000   Max.   :1.00000   Max.   :1.00000   Max.   :1.00000  \n",
       " service_CHLFHC      service_CHLHH      service_CHLHHC     service_CHLPHC    \n",
       " Min.   :0.0000000   Min.   :0.000000   Min.   :0.000000   Min.   :0.000000  \n",
       " 1st Qu.:0.0000000   1st Qu.:0.000000   1st Qu.:0.000000   1st Qu.:0.000000  \n",
       " Median :0.0000000   Median :0.000000   Median :0.000000   Median :0.000000  \n",
       " Mean   :0.0004579   Mean   :0.002747   Mean   :0.001374   Mean   :0.008242  \n",
       " 3rd Qu.:0.0000000   3rd Qu.:0.000000   3rd Qu.:0.000000   3rd Qu.:0.000000  \n",
       " Max.   :1.0000000   Max.   :1.000000   Max.   :1.000000   Max.   :1.000000  \n",
       " service_CHLPL      service_CMT        service_CON        service_CT      \n",
       " Min.   :0.00000   Min.   :0.000000   Min.   :0.00000   Min.   :0.000000  \n",
       " 1st Qu.:0.00000   1st Qu.:0.000000   1st Qu.:0.00000   1st Qu.:0.000000  \n",
       " Median :0.00000   Median :0.000000   Median :0.00000   Median :0.000000  \n",
       " Mean   :0.02381   Mean   :0.005495   Mean   :0.04258   Mean   :0.004579  \n",
       " 3rd Qu.:0.00000   3rd Qu.:0.000000   3rd Qu.:0.00000   3rd Qu.:0.000000  \n",
       " Max.   :1.00000   Max.   :1.000000   Max.   :1.00000   Max.   :1.000000  \n",
       "  service_FRI        service_MISC       service_SBD5     service_SDUD     \n",
       " Min.   :0.000000   Min.   :0.000000   Min.   :0.0000   Min.   :0.000000  \n",
       " 1st Qu.:0.000000   1st Qu.:0.000000   1st Qu.:0.0000   1st Qu.:0.000000  \n",
       " Median :0.000000   Median :0.000000   Median :0.0000   Median :0.000000  \n",
       " Mean   :0.003663   Mean   :0.001374   Mean   :0.0087   Mean   :0.004121  \n",
       " 3rd Qu.:0.000000   3rd Qu.:0.000000   3rd Qu.:0.0000   3rd Qu.:0.000000  \n",
       " Max.   :1.000000   Max.   :1.000000   Max.   :1.0000   Max.   :1.000000  \n",
       "  service_SHCC       service_SHCW    service_SMARTBOND   service_SMO      \n",
       " Min.   :0.000000   Min.   :0.0000   Min.   :0.000000   Min.   :0.000000  \n",
       " 1st Qu.:0.000000   1st Qu.:0.0000   1st Qu.:0.000000   1st Qu.:0.000000  \n",
       " Median :0.000000   Median :0.0000   Median :0.000000   Median :0.000000  \n",
       " Mean   :0.007326   Mean   :0.3603   Mean   :0.004579   Mean   :0.001374  \n",
       " 3rd Qu.:0.000000   3rd Qu.:1.0000   3rd Qu.:0.000000   3rd Qu.:0.000000  \n",
       " Max.   :1.000000   Max.   :1.0000   Max.   :1.000000   Max.   :1.000000  \n",
       "  staff_BECKY      staff_HOUSE        staff_KELLY     Canceled_By_BECKY\n",
       " Min.   :0.0000   Min.   :0.000000   Min.   :0.0000   Min.   :0.00000  \n",
       " 1st Qu.:0.0000   1st Qu.:0.000000   1st Qu.:0.0000   1st Qu.:0.00000  \n",
       " Median :0.0000   Median :0.000000   Median :0.0000   Median :0.00000  \n",
       " Mean   :0.2363   Mean   :0.009615   Mean   :0.1474   Mean   :0.01328  \n",
       " 3rd Qu.:0.0000   3rd Qu.:0.000000   3rd Qu.:0.0000   3rd Qu.:0.00000  \n",
       " Max.   :1.0000   Max.   :1.000000   Max.   :1.0000   Max.   :1.00000  \n",
       " Canceled_By_JJ    Canceled_By_JOANNE Canceled_By_KELLY Canceled_By_SINEAD\n",
       " Min.   :0.00000   Min.   :0.000000   Min.   :0.00000   Min.   :0.000000  \n",
       " 1st Qu.:0.00000   1st Qu.:0.000000   1st Qu.:0.00000   1st Qu.:0.000000  \n",
       " Median :0.00000   Median :0.000000   Median :0.00000   Median :0.000000  \n",
       " Mean   :0.04258   Mean   :0.007784   Mean   :0.01465   Mean   :0.007326  \n",
       " 3rd Qu.:0.00000   3rd Qu.:0.000000   3rd Qu.:0.00000   3rd Qu.:0.000000  \n",
       " Max.   :1.00000   Max.   :1.000000   Max.   :1.00000   Max.   :1.000000  \n",
       "   quantity_1          quantity_2       quantity_5        quantity_6    \n",
       " Min.   :0.0000000   Min.   :0.0000   Min.   :0.00000   Min.   :0.0000  \n",
       " 1st Qu.:0.0000000   1st Qu.:0.0000   1st Qu.:0.00000   1st Qu.:0.0000  \n",
       " Median :0.0000000   Median :1.0000   Median :0.00000   Median :0.0000  \n",
       " Mean   :0.0004579   Mean   :0.5087   Mean   :0.01099   Mean   :0.0087  \n",
       " 3rd Qu.:0.0000000   3rd Qu.:1.0000   3rd Qu.:0.00000   3rd Qu.:0.0000  \n",
       " Max.   :1.0000000   Max.   :1.0000   Max.   :1.00000   Max.   :1.0000  \n",
       "   quantity_7         amount      avg_receipt_4    avg_quantity_3  \n",
       " Min.   :0.0000   Min.   :0.000   Min.   :0.0000   Min.   :0.0000  \n",
       " 1st Qu.:0.0000   1st Qu.:3.932   1st Qu.:0.0000   1st Qu.:0.0000  \n",
       " Median :0.0000   Median :4.263   Median :0.0000   Median :0.0000  \n",
       " Mean   :0.2152   Mean   :3.982   Mean   :0.1909   Mean   :0.1992  \n",
       " 3rd Qu.:0.0000   3rd Qu.:4.710   3rd Qu.:0.0000   3rd Qu.:0.0000  \n",
       " Max.   :1.0000   Max.   :5.950   Max.   :1.0000   Max.   :1.0000  \n",
       " avg_quantity_5     total_cancel12      hclust4         Mclust3     \n",
       " Min.   :0.000000   Min.   :0.0000   Min.   :1.000   Min.   :1.000  \n",
       " 1st Qu.:0.000000   1st Qu.:0.0000   1st Qu.:2.000   1st Qu.:2.000  \n",
       " Median :0.000000   Median :0.0000   Median :3.000   Median :2.000  \n",
       " Mean   :0.005037   Mean   :0.4794   Mean   :2.566   Mean   :1.916  \n",
       " 3rd Qu.:0.000000   3rd Qu.:1.0000   3rd Qu.:3.000   3rd Qu.:2.000  \n",
       " Max.   :1.000000   Max.   :4.0000   Max.   :4.000   Max.   :3.000  \n",
       "    Mclust4     \n",
       " Min.   :1.000  \n",
       " 1st Qu.:2.000  \n",
       " Median :2.000  \n",
       " Mean   :2.343  \n",
       " 3rd Qu.:3.000  \n",
       " Max.   :4.000  "
      ]
     },
     "metadata": {},
     "output_type": "display_data"
    },
    {
     "data": {
      "text/plain": [
       " NoShow   sunday   monday    time_booked     cancel_days_1 cancel_days_2\n",
       " 0:2013   0:2119   0:2183   Min.   : 480.0   0:2050        0:2148       \n",
       " 1: 171   1:  65   1:   1   1st Qu.: 660.0   1: 134        1:  36       \n",
       "                            Median : 790.0                              \n",
       "                            Mean   : 804.7                              \n",
       "                            3rd Qu.: 960.0                              \n",
       "                            Max.   :1170.0                              \n",
       " cancel_days_3 cancel_days_4 cancel_days_5 cancel_days_6 cancel_days_7\n",
       " 0:2166        0:2170        0:2153        0:2143        0: 274       \n",
       " 1:  18        1:  14        1:  31        1:  41        1:1910       \n",
       "                                                                      \n",
       "                                                                      \n",
       "                                                                      \n",
       "                                                                      \n",
       " service_CAL service_CALC service_CAS service_CBAL service_CCAMO service_CCO\n",
       " 0:2178      0:2144       0:2183      0:2160       0:2165        0:2182     \n",
       " 1:   6      1:  40       1:   1      1:  24       1:  19        1:   2     \n",
       "                                                                            \n",
       "                                                                            \n",
       "                                                                            \n",
       "                                                                            \n",
       " service_CDPB service_CFC service_CHLFH service_CHLFHC service_CHLHH\n",
       " 0:2170       0:2118      0:2170        0:2183         0:2178       \n",
       " 1:  14       1:  66      1:  14        1:   1         1:   6       \n",
       "                                                                    \n",
       "                                                                    \n",
       "                                                                    \n",
       "                                                                    \n",
       " service_CHLHHC service_CHLPHC service_CHLPL service_CMT service_CON service_CT\n",
       " 0:2181         0:2166         0:2132        0:2172      0:2091      0:2174    \n",
       " 1:   3         1:  18         1:  52        1:  12      1:  93      1:  10    \n",
       "                                                                               \n",
       "                                                                               \n",
       "                                                                               \n",
       "                                                                               \n",
       " service_FRI service_MISC service_SBD5 service_SDUD service_SHCC service_SHCW\n",
       " 0:2176      0:2181       0:2165       0:2175       0:2168       0:1397      \n",
       " 1:   8      1:   3       1:  19       1:   9       1:  16       1: 787      \n",
       "                                                                             \n",
       "                                                                             \n",
       "                                                                             \n",
       "                                                                             \n",
       " service_SMARTBOND service_SMO staff_BECKY staff_HOUSE staff_KELLY\n",
       " 0:2174            0:2181      0:1668      0:2163      0:1862     \n",
       " 1:  10            1:   3      1: 516      1:  21      1: 322     \n",
       "                                                                  \n",
       "                                                                  \n",
       "                                                                  \n",
       "                                                                  \n",
       " Canceled_By_BECKY Canceled_By_JJ Canceled_By_JOANNE Canceled_By_KELLY\n",
       " 0:2155            0:2091         0:2167             0:2152           \n",
       " 1:  29            1:  93         1:  17             1:  32           \n",
       "                                                                      \n",
       "                                                                      \n",
       "                                                                      \n",
       "                                                                      \n",
       " Canceled_By_SINEAD quantity_1 quantity_2 quantity_5 quantity_6 quantity_7\n",
       " 0:2168             0:2183     0:1073     0:2160     0:2165     0:1714    \n",
       " 1:  16             1:   1     1:1111     1:  24     1:  19     1: 470    \n",
       "                                                                          \n",
       "                                                                          \n",
       "                                                                          \n",
       "                                                                          \n",
       "     amount      avg_receipt_4 avg_quantity_3 avg_quantity_5 total_cancel12  \n",
       " Min.   :0.000   0:1767        0:1749         0:2173         Min.   :0.0000  \n",
       " 1st Qu.:3.932   1: 417        1: 435         1:  11         1st Qu.:0.0000  \n",
       " Median :4.263                                               Median :0.0000  \n",
       " Mean   :3.982                                               Mean   :0.4794  \n",
       " 3rd Qu.:4.710                                               3rd Qu.:1.0000  \n",
       " Max.   :5.950                                               Max.   :4.0000  \n",
       " hclust4 Mclust3  Mclust4\n",
       " 1:350   1: 456   1:456  \n",
       " 2:730   2:1456   2:794  \n",
       " 3:621   3: 272   3:662  \n",
       " 4:483            4:272  \n",
       "                         \n",
       "                         "
      ]
     },
     "metadata": {},
     "output_type": "display_data"
    }
   ],
   "source": [
    "toFactor <- function(data) {\n",
    "    for (i in names(data)){\n",
    "        if (length(unique(data[[i]]))<5){\n",
    "            data[[i]] <- factor(data[[i]])\n",
    "        }\n",
    "    }\n",
    "    return(data)\n",
    "}\n",
    "data2 <- toFactor(data) \n",
    "summary(data)\n",
    "summary(data2)"
   ]
  },
  {
   "cell_type": "code",
   "execution_count": 64,
   "metadata": {},
   "outputs": [],
   "source": [
    "library(mechkar)"
   ]
  },
  {
   "cell_type": "code",
   "execution_count": 65,
   "metadata": {},
   "outputs": [
    {
     "name": "stderr",
     "output_type": "stream",
     "text": [
      "Warning message in Table1(data = data2, y = \"NoShow\"):\n",
      "\"The following variables have unique values and will not be included in the analysis: \"\n"
     ]
    },
    {
     "name": "stdout",
     "output_type": "stream",
     "text": [
      "  |======================================================================| 100%"
     ]
    },
    {
     "name": "stderr",
     "output_type": "stream",
     "text": [
      "Warning message in `[<-.factor`(`*tmp*`, iseq, value = \"0\"):\n",
      "\"invalid factor level, NA generated\"\n",
      "Warning message:\n",
      "\"Column `Del` joining character vector and factor, coercing into character vector\"\n",
      "Warning message:\n",
      "\"Column `V1` joining character vector and factor, coercing into character vector\"\n",
      "Warning message:\n",
      "\"Column `V2` joining character vector and factor, coercing into character vector\"\n",
      "Warning message:\n",
      "\"Column `n` joining character vector and factor, coercing into character vector\"\n"
     ]
    },
    {
     "name": "stdout",
     "output_type": "stream",
     "text": [
      "  |======================================================================| 100%"
     ]
    },
    {
     "name": "stderr",
     "output_type": "stream",
     "text": [
      "Warning message in `[<-.factor`(`*tmp*`, iseq, value = \"1\"):\n",
      "\"invalid factor level, NA generated\"\n",
      "Warning message:\n",
      "\"Column `Del` joining character vector and factor, coercing into character vector\"\n",
      "Warning message:\n",
      "\"Column `V1` joining character vector and factor, coercing into character vector\"\n",
      "Warning message:\n",
      "\"Column `V2` joining character vector and factor, coercing into character vector\"\n",
      "Warning message:\n",
      "\"Column `n` joining character vector and factor, coercing into character vector\"\n"
     ]
    },
    {
     "name": "stdout",
     "output_type": "stream",
     "text": [
      "  |================                                                      |  23%"
     ]
    },
    {
     "name": "stderr",
     "output_type": "stream",
     "text": [
      "Warning message in stats::chisq.test(data[[v]], data[[y]]):\n",
      "\"Chi-squared approximation may be incorrect\"\n"
     ]
    },
    {
     "name": "stdout",
     "output_type": "stream",
     "text": [
      "  |===============================================                       |  67%"
     ]
    },
    {
     "name": "stderr",
     "output_type": "stream",
     "text": [
      "Warning message in stats::chisq.test(data[[v]], data[[y]]):\n",
      "\"Chi-squared approximation may be incorrect\"\n"
     ]
    },
    {
     "name": "stdout",
     "output_type": "stream",
     "text": [
      "  |=================================================                     |  70%"
     ]
    },
    {
     "name": "stderr",
     "output_type": "stream",
     "text": [
      "Warning message in stats::chisq.test(data[[v]], data[[y]]):\n",
      "\"Chi-squared approximation may be incorrect\"\n"
     ]
    },
    {
     "name": "stdout",
     "output_type": "stream",
     "text": [
      "\r",
      "  |                                                                            \r",
      "  |==================================================                    |  72%"
     ]
    },
    {
     "name": "stderr",
     "output_type": "stream",
     "text": [
      "Warning message in stats::chisq.test(data[[v]], data[[y]]):\n",
      "\"Chi-squared approximation may be incorrect\"\n"
     ]
    },
    {
     "name": "stdout",
     "output_type": "stream",
     "text": [
      "\r",
      "  |                                                                            \r",
      "  |====================================================                  |  74%"
     ]
    },
    {
     "name": "stderr",
     "output_type": "stream",
     "text": [
      "Warning message in stats::chisq.test(data[[v]], data[[y]]):\n",
      "\"Chi-squared approximation may be incorrect\"\n"
     ]
    },
    {
     "name": "stdout",
     "output_type": "stream",
     "text": [
      "  |===================================================================== |  98%"
     ]
    },
    {
     "name": "stderr",
     "output_type": "stream",
     "text": [
      "Warning message:\n",
      "\"Column `V1` joining character vector and factor, coercing into character vector\"\n",
      "Warning message:\n",
      "\"Column `n` joining character vector and factor, coercing into character vector\"\n"
     ]
    },
    {
     "data": {
      "text/html": [
       "<table>\n",
       "<caption>A tibble: 69 × 6</caption>\n",
       "<thead>\n",
       "\t<tr><th scope=col>V1</th><th scope=col>V2</th><th scope=col>Pop</th><th scope=col>0</th><th scope=col>1</th><th scope=col>pval</th></tr>\n",
       "\t<tr><th scope=col>&lt;chr&gt;</th><th scope=col>&lt;chr&gt;</th><th scope=col>&lt;chr&gt;</th><th scope=col>&lt;fct&gt;</th><th scope=col>&lt;fct&gt;</th><th scope=col>&lt;fct&gt;</th></tr>\n",
       "</thead>\n",
       "<tbody>\n",
       "\t<tr><td>Individuals   </td><td>n           </td><td>2184               </td><td>2013               </td><td>171                </td><td>NA   </td></tr>\n",
       "\t<tr><td>NoShow        </td><td>1           </td><td>171 (7.8%)         </td><td>0 (0.0%)           </td><td>171 (100.0%)       </td><td>0    </td></tr>\n",
       "\t<tr><td>sunday        </td><td>1           </td><td>65 (3.0%)          </td><td>53 (2.6%)          </td><td>12 (7.0%)          </td><td>0.003</td></tr>\n",
       "\t<tr><td>monday        </td><td>1           </td><td>1 (0.0%)           </td><td>1 (0.0%)           </td><td>0 (0.0%)           </td><td>1    </td></tr>\n",
       "\t<tr><td>time_booked   </td><td>Mean (SD)   </td><td>804.7 (175.8)      </td><td>804.2 (175.4)      </td><td>810.5 (180.8)      </td><td>NA   </td></tr>\n",
       "\t<tr><td>time_booked   </td><td>Median (IQR)</td><td>790.0 (660.0-960.0)</td><td>790.0 (660.0-950.0)</td><td>810.0 (650.0-970.0)</td><td>0.653</td></tr>\n",
       "\t<tr><td>cancel_days_1 </td><td>1           </td><td>134 (6.1%)         </td><td>0 (0.0%)           </td><td>134 (78.4%)        </td><td>0    </td></tr>\n",
       "\t<tr><td>cancel_days_2 </td><td>1           </td><td>36 (1.6%)          </td><td>0 (0.0%)           </td><td>36 (21.1%)         </td><td>0    </td></tr>\n",
       "\t<tr><td>cancel_days_3 </td><td>1           </td><td>18 (0.8%)          </td><td>18 (0.9%)          </td><td>0 (0.0%)           </td><td>0.391</td></tr>\n",
       "\t<tr><td>cancel_days_4 </td><td>1           </td><td>14 (0.6%)          </td><td>14 (0.7%)          </td><td>0 (0.0%)           </td><td>0.619</td></tr>\n",
       "\t<tr><td>cancel_days_5 </td><td>1           </td><td>31 (1.4%)          </td><td>31 (1.5%)          </td><td>0 (0.0%)           </td><td>0.168</td></tr>\n",
       "\t<tr><td>cancel_days_6 </td><td>1           </td><td>41 (1.9%)          </td><td>41 (2.0%)          </td><td>0 (0.0%)           </td><td>0.071</td></tr>\n",
       "\t<tr><td>cancel_days_7 </td><td>1           </td><td>1,910 (87.5%)      </td><td>1,909 (94.8%)      </td><td>1 (0.6%)           </td><td>0    </td></tr>\n",
       "\t<tr><td>service_CAL   </td><td>1           </td><td>6 (0.3%)           </td><td>6 (0.3%)           </td><td>0 (0.0%)           </td><td>1    </td></tr>\n",
       "\t<tr><td>service_CALC  </td><td>1           </td><td>40 (1.8%)          </td><td>39 (1.9%)          </td><td>1 (0.6%)           </td><td>0.205</td></tr>\n",
       "\t<tr><td>service_CAS   </td><td>1           </td><td>1 (0.0%)           </td><td>1 (0.0%)           </td><td>0 (0.0%)           </td><td>1    </td></tr>\n",
       "\t<tr><td>service_CBAL  </td><td>1           </td><td>24 (1.1%)          </td><td>16 (0.8%)          </td><td>8 (4.7%)           </td><td>0    </td></tr>\n",
       "\t<tr><td>service_CCAMO </td><td>1           </td><td>19 (0.9%)          </td><td>16 (0.8%)          </td><td>3 (1.8%)           </td><td>0.195</td></tr>\n",
       "\t<tr><td>service_CCO   </td><td>1           </td><td>2 (0.1%)           </td><td>1 (0.0%)           </td><td>1 (0.6%)           </td><td>0.026</td></tr>\n",
       "\t<tr><td>service_CDPB  </td><td>1           </td><td>14 (0.6%)          </td><td>9 (0.4%)           </td><td>5 (2.9%)           </td><td>0    </td></tr>\n",
       "\t<tr><td>service_CFC   </td><td>1           </td><td>66 (3.0%)          </td><td>58 (2.9%)          </td><td>8 (4.7%)           </td><td>0.278</td></tr>\n",
       "\t<tr><td>service_CHLFH </td><td>1           </td><td>14 (0.6%)          </td><td>12 (0.6%)          </td><td>2 (1.2%)           </td><td>0.367</td></tr>\n",
       "\t<tr><td>service_CHLFHC</td><td>1           </td><td>1 (0.0%)           </td><td>1 (0.0%)           </td><td>0 (0.0%)           </td><td>1    </td></tr>\n",
       "\t<tr><td>service_CHLHH </td><td>1           </td><td>6 (0.3%)           </td><td>4 (0.2%)           </td><td>2 (1.2%)           </td><td>0.02 </td></tr>\n",
       "\t<tr><td>service_CHLHHC</td><td>1           </td><td>3 (0.1%)           </td><td>3 (0.1%)           </td><td>0 (0.0%)           </td><td>1    </td></tr>\n",
       "\t<tr><td>service_CHLPHC</td><td>1           </td><td>18 (0.8%)          </td><td>18 (0.9%)          </td><td>0 (0.0%)           </td><td>0.391</td></tr>\n",
       "\t<tr><td>service_CHLPL </td><td>1           </td><td>52 (2.4%)          </td><td>48 (2.4%)          </td><td>4 (2.3%)           </td><td>0.97 </td></tr>\n",
       "\t<tr><td>service_CMT   </td><td>1           </td><td>12 (0.5%)          </td><td>12 (0.6%)          </td><td>0 (0.0%)           </td><td>0.616</td></tr>\n",
       "\t<tr><td>service_CON   </td><td>1           </td><td>93 (4.3%)          </td><td>62 (3.1%)          </td><td>31 (18.1%)         </td><td>0    </td></tr>\n",
       "\t<tr><td>service_CT    </td><td>1           </td><td>10 (0.5%)          </td><td>10 (0.5%)          </td><td>0 (0.0%)           </td><td>1    </td></tr>\n",
       "\t<tr><td>...</td><td>...</td><td>...</td><td>...</td><td>...</td><td>...</td></tr>\n",
       "\t<tr><td>staff_HOUSE       </td><td>1           </td><td>21 (1.0%)    </td><td>19 (0.9%)    </td><td>2 (1.2%)     </td><td>0.772</td></tr>\n",
       "\t<tr><td>staff_KELLY       </td><td>1           </td><td>322 (14.7%)  </td><td>286 (14.2%)  </td><td>36 (21.1%)   </td><td>0.021</td></tr>\n",
       "\t<tr><td>Canceled_By_BECKY </td><td>1           </td><td>29 (1.3%)    </td><td>16 (0.8%)    </td><td>13 (7.6%)    </td><td>0    </td></tr>\n",
       "\t<tr><td>Canceled_By_JJ    </td><td>1           </td><td>93 (4.3%)    </td><td>45 (2.2%)    </td><td>48 (28.1%)   </td><td>0    </td></tr>\n",
       "\t<tr><td>Canceled_By_JOANNE</td><td>1           </td><td>17 (0.8%)    </td><td>9 (0.4%)     </td><td>8 (4.7%)     </td><td>0    </td></tr>\n",
       "\t<tr><td>Canceled_By_KELLY </td><td>1           </td><td>32 (1.5%)    </td><td>13 (0.6%)    </td><td>19 (11.1%)   </td><td>0    </td></tr>\n",
       "\t<tr><td>Canceled_By_SINEAD</td><td>1           </td><td>16 (0.7%)    </td><td>10 (0.5%)    </td><td>6 (3.5%)     </td><td>0    </td></tr>\n",
       "\t<tr><td>quantity_1        </td><td>1           </td><td>1 (0.0%)     </td><td>1 (0.0%)     </td><td>0 (0.0%)     </td><td>1    </td></tr>\n",
       "\t<tr><td>quantity_2        </td><td>1           </td><td>1,111 (50.9%)</td><td>1,087 (54.0%)</td><td>24 (14.0%)   </td><td>0    </td></tr>\n",
       "\t<tr><td>quantity_5        </td><td>1           </td><td>24 (1.1%)    </td><td>24 (1.2%)    </td><td>0 (0.0%)     </td><td>0.252</td></tr>\n",
       "\t<tr><td>quantity_6        </td><td>1           </td><td>19 (0.9%)    </td><td>18 (0.9%)    </td><td>1 (0.6%)     </td><td>0.676</td></tr>\n",
       "\t<tr><td>quantity_7        </td><td>1           </td><td>470 (21.5%)  </td><td>328 (16.3%)  </td><td>142 (83.0%)  </td><td>0    </td></tr>\n",
       "\t<tr><td>amount            </td><td>Mean (SD)   </td><td>4.0 (1.4)    </td><td>4.0 (1.3)    </td><td>3.6 (1.8)    </td><td>NA   </td></tr>\n",
       "\t<tr><td>amount            </td><td>Median (IQR)</td><td>4.3 (3.9-4.7)</td><td>4.3 (3.9-4.7)</td><td>4.0 (3.5-4.8)</td><td>0.003</td></tr>\n",
       "\t<tr><td>avg_receipt_4     </td><td>1           </td><td>417 (19.1%)  </td><td>384 (19.1%)  </td><td>33 (19.3%)   </td><td>1    </td></tr>\n",
       "\t<tr><td>avg_quantity_3    </td><td>1           </td><td>435 (19.9%)  </td><td>401 (19.9%)  </td><td>34 (19.9%)   </td><td>1    </td></tr>\n",
       "\t<tr><td>avg_quantity_5    </td><td>1           </td><td>11 (0.5%)    </td><td>11 (0.5%)    </td><td>0 (0.0%)     </td><td>1    </td></tr>\n",
       "\t<tr><td>total_cancel12    </td><td>Mean (SD)   </td><td>0.5 (0.9)    </td><td>0.5 (0.9)    </td><td>0.7 (0.8)    </td><td>NA   </td></tr>\n",
       "\t<tr><td>total_cancel12    </td><td>Median (IQR)</td><td>0.0 (0.0-1.0)</td><td>0.0 (0.0-1.0)</td><td>1.0 (0.0-1.0)</td><td>0.005</td></tr>\n",
       "\t<tr><td>hclust4           </td><td>1           </td><td>350 (16.0%)  </td><td>325 (16.1%)  </td><td>25 (14.6%)   </td><td>NA   </td></tr>\n",
       "\t<tr><td>hclust4           </td><td>2           </td><td>730 (33.4%)  </td><td>671 (33.3%)  </td><td>59 (34.5%)   </td><td>0.916</td></tr>\n",
       "\t<tr><td>hclust4           </td><td>3           </td><td>621 (28.4%)  </td><td>570 (28.3%)  </td><td>51 (29.8%)   </td><td>NA   </td></tr>\n",
       "\t<tr><td>hclust4           </td><td>4           </td><td>483 (22.1%)  </td><td>447 (22.2%)  </td><td>36 (21.1%)   </td><td>NA   </td></tr>\n",
       "\t<tr><td>Mclust3           </td><td>1           </td><td>456 (20.9%)  </td><td>380 (18.9%)  </td><td>76 (44.4%)   </td><td>NA   </td></tr>\n",
       "\t<tr><td>Mclust3           </td><td>2           </td><td>1,456 (66.7%)</td><td>1,425 (70.8%)</td><td>31 (18.1%)   </td><td>0    </td></tr>\n",
       "\t<tr><td>Mclust3           </td><td>3           </td><td>272 (12.5%)  </td><td>208 (10.3%)  </td><td>64 (37.4%)   </td><td>NA   </td></tr>\n",
       "\t<tr><td>Mclust4           </td><td>1           </td><td>456 (20.9%)  </td><td>380 (18.9%)  </td><td>76 (44.4%)   </td><td>NA   </td></tr>\n",
       "\t<tr><td>Mclust4           </td><td>2           </td><td>794 (36.4%)  </td><td>774 (38.5%)  </td><td>20 (11.7%)   </td><td>0    </td></tr>\n",
       "\t<tr><td>Mclust4           </td><td>3           </td><td>662 (30.3%)  </td><td>651 (32.3%)  </td><td>11 (6.4%)    </td><td>NA   </td></tr>\n",
       "\t<tr><td>Mclust4           </td><td>4           </td><td>272 (12.5%)  </td><td>208 (10.3%)  </td><td>64 (37.4%)   </td><td>NA   </td></tr>\n",
       "</tbody>\n",
       "</table>\n"
      ],
      "text/latex": [
       "A tibble: 69 × 6\n",
       "\\begin{tabular}{llllll}\n",
       " V1 & V2 & Pop & 0 & 1 & pval\\\\\n",
       " <chr> & <chr> & <chr> & <fct> & <fct> & <fct>\\\\\n",
       "\\hline\n",
       "\t Individuals    & n            & 2184                & 2013                & 171                 & NA   \\\\\n",
       "\t NoShow         & 1            & 171 (7.8\\%)          & 0 (0.0\\%)            & 171 (100.0\\%)        & 0    \\\\\n",
       "\t sunday         & 1            & 65 (3.0\\%)           & 53 (2.6\\%)           & 12 (7.0\\%)           & 0.003\\\\\n",
       "\t monday         & 1            & 1 (0.0\\%)            & 1 (0.0\\%)            & 0 (0.0\\%)            & 1    \\\\\n",
       "\t time\\_booked    & Mean (SD)    & 804.7 (175.8)       & 804.2 (175.4)       & 810.5 (180.8)       & NA   \\\\\n",
       "\t time\\_booked    & Median (IQR) & 790.0 (660.0-960.0) & 790.0 (660.0-950.0) & 810.0 (650.0-970.0) & 0.653\\\\\n",
       "\t cancel\\_days\\_1  & 1            & 134 (6.1\\%)          & 0 (0.0\\%)            & 134 (78.4\\%)         & 0    \\\\\n",
       "\t cancel\\_days\\_2  & 1            & 36 (1.6\\%)           & 0 (0.0\\%)            & 36 (21.1\\%)          & 0    \\\\\n",
       "\t cancel\\_days\\_3  & 1            & 18 (0.8\\%)           & 18 (0.9\\%)           & 0 (0.0\\%)            & 0.391\\\\\n",
       "\t cancel\\_days\\_4  & 1            & 14 (0.6\\%)           & 14 (0.7\\%)           & 0 (0.0\\%)            & 0.619\\\\\n",
       "\t cancel\\_days\\_5  & 1            & 31 (1.4\\%)           & 31 (1.5\\%)           & 0 (0.0\\%)            & 0.168\\\\\n",
       "\t cancel\\_days\\_6  & 1            & 41 (1.9\\%)           & 41 (2.0\\%)           & 0 (0.0\\%)            & 0.071\\\\\n",
       "\t cancel\\_days\\_7  & 1            & 1,910 (87.5\\%)       & 1,909 (94.8\\%)       & 1 (0.6\\%)            & 0    \\\\\n",
       "\t service\\_CAL    & 1            & 6 (0.3\\%)            & 6 (0.3\\%)            & 0 (0.0\\%)            & 1    \\\\\n",
       "\t service\\_CALC   & 1            & 40 (1.8\\%)           & 39 (1.9\\%)           & 1 (0.6\\%)            & 0.205\\\\\n",
       "\t service\\_CAS    & 1            & 1 (0.0\\%)            & 1 (0.0\\%)            & 0 (0.0\\%)            & 1    \\\\\n",
       "\t service\\_CBAL   & 1            & 24 (1.1\\%)           & 16 (0.8\\%)           & 8 (4.7\\%)            & 0    \\\\\n",
       "\t service\\_CCAMO  & 1            & 19 (0.9\\%)           & 16 (0.8\\%)           & 3 (1.8\\%)            & 0.195\\\\\n",
       "\t service\\_CCO    & 1            & 2 (0.1\\%)            & 1 (0.0\\%)            & 1 (0.6\\%)            & 0.026\\\\\n",
       "\t service\\_CDPB   & 1            & 14 (0.6\\%)           & 9 (0.4\\%)            & 5 (2.9\\%)            & 0    \\\\\n",
       "\t service\\_CFC    & 1            & 66 (3.0\\%)           & 58 (2.9\\%)           & 8 (4.7\\%)            & 0.278\\\\\n",
       "\t service\\_CHLFH  & 1            & 14 (0.6\\%)           & 12 (0.6\\%)           & 2 (1.2\\%)            & 0.367\\\\\n",
       "\t service\\_CHLFHC & 1            & 1 (0.0\\%)            & 1 (0.0\\%)            & 0 (0.0\\%)            & 1    \\\\\n",
       "\t service\\_CHLHH  & 1            & 6 (0.3\\%)            & 4 (0.2\\%)            & 2 (1.2\\%)            & 0.02 \\\\\n",
       "\t service\\_CHLHHC & 1            & 3 (0.1\\%)            & 3 (0.1\\%)            & 0 (0.0\\%)            & 1    \\\\\n",
       "\t service\\_CHLPHC & 1            & 18 (0.8\\%)           & 18 (0.9\\%)           & 0 (0.0\\%)            & 0.391\\\\\n",
       "\t service\\_CHLPL  & 1            & 52 (2.4\\%)           & 48 (2.4\\%)           & 4 (2.3\\%)            & 0.97 \\\\\n",
       "\t service\\_CMT    & 1            & 12 (0.5\\%)           & 12 (0.6\\%)           & 0 (0.0\\%)            & 0.616\\\\\n",
       "\t service\\_CON    & 1            & 93 (4.3\\%)           & 62 (3.1\\%)           & 31 (18.1\\%)          & 0    \\\\\n",
       "\t service\\_CT     & 1            & 10 (0.5\\%)           & 10 (0.5\\%)           & 0 (0.0\\%)            & 1    \\\\\n",
       "\t ... & ... & ... & ... & ... & ...\\\\\n",
       "\t staff\\_HOUSE        & 1            & 21 (1.0\\%)     & 19 (0.9\\%)     & 2 (1.2\\%)      & 0.772\\\\\n",
       "\t staff\\_KELLY        & 1            & 322 (14.7\\%)   & 286 (14.2\\%)   & 36 (21.1\\%)    & 0.021\\\\\n",
       "\t Canceled\\_By\\_BECKY  & 1            & 29 (1.3\\%)     & 16 (0.8\\%)     & 13 (7.6\\%)     & 0    \\\\\n",
       "\t Canceled\\_By\\_JJ     & 1            & 93 (4.3\\%)     & 45 (2.2\\%)     & 48 (28.1\\%)    & 0    \\\\\n",
       "\t Canceled\\_By\\_JOANNE & 1            & 17 (0.8\\%)     & 9 (0.4\\%)      & 8 (4.7\\%)      & 0    \\\\\n",
       "\t Canceled\\_By\\_KELLY  & 1            & 32 (1.5\\%)     & 13 (0.6\\%)     & 19 (11.1\\%)    & 0    \\\\\n",
       "\t Canceled\\_By\\_SINEAD & 1            & 16 (0.7\\%)     & 10 (0.5\\%)     & 6 (3.5\\%)      & 0    \\\\\n",
       "\t quantity\\_1         & 1            & 1 (0.0\\%)      & 1 (0.0\\%)      & 0 (0.0\\%)      & 1    \\\\\n",
       "\t quantity\\_2         & 1            & 1,111 (50.9\\%) & 1,087 (54.0\\%) & 24 (14.0\\%)    & 0    \\\\\n",
       "\t quantity\\_5         & 1            & 24 (1.1\\%)     & 24 (1.2\\%)     & 0 (0.0\\%)      & 0.252\\\\\n",
       "\t quantity\\_6         & 1            & 19 (0.9\\%)     & 18 (0.9\\%)     & 1 (0.6\\%)      & 0.676\\\\\n",
       "\t quantity\\_7         & 1            & 470 (21.5\\%)   & 328 (16.3\\%)   & 142 (83.0\\%)   & 0    \\\\\n",
       "\t amount             & Mean (SD)    & 4.0 (1.4)     & 4.0 (1.3)     & 3.6 (1.8)     & NA   \\\\\n",
       "\t amount             & Median (IQR) & 4.3 (3.9-4.7) & 4.3 (3.9-4.7) & 4.0 (3.5-4.8) & 0.003\\\\\n",
       "\t avg\\_receipt\\_4      & 1            & 417 (19.1\\%)   & 384 (19.1\\%)   & 33 (19.3\\%)    & 1    \\\\\n",
       "\t avg\\_quantity\\_3     & 1            & 435 (19.9\\%)   & 401 (19.9\\%)   & 34 (19.9\\%)    & 1    \\\\\n",
       "\t avg\\_quantity\\_5     & 1            & 11 (0.5\\%)     & 11 (0.5\\%)     & 0 (0.0\\%)      & 1    \\\\\n",
       "\t total\\_cancel12     & Mean (SD)    & 0.5 (0.9)     & 0.5 (0.9)     & 0.7 (0.8)     & NA   \\\\\n",
       "\t total\\_cancel12     & Median (IQR) & 0.0 (0.0-1.0) & 0.0 (0.0-1.0) & 1.0 (0.0-1.0) & 0.005\\\\\n",
       "\t hclust4            & 1            & 350 (16.0\\%)   & 325 (16.1\\%)   & 25 (14.6\\%)    & NA   \\\\\n",
       "\t hclust4            & 2            & 730 (33.4\\%)   & 671 (33.3\\%)   & 59 (34.5\\%)    & 0.916\\\\\n",
       "\t hclust4            & 3            & 621 (28.4\\%)   & 570 (28.3\\%)   & 51 (29.8\\%)    & NA   \\\\\n",
       "\t hclust4            & 4            & 483 (22.1\\%)   & 447 (22.2\\%)   & 36 (21.1\\%)    & NA   \\\\\n",
       "\t Mclust3            & 1            & 456 (20.9\\%)   & 380 (18.9\\%)   & 76 (44.4\\%)    & NA   \\\\\n",
       "\t Mclust3            & 2            & 1,456 (66.7\\%) & 1,425 (70.8\\%) & 31 (18.1\\%)    & 0    \\\\\n",
       "\t Mclust3            & 3            & 272 (12.5\\%)   & 208 (10.3\\%)   & 64 (37.4\\%)    & NA   \\\\\n",
       "\t Mclust4            & 1            & 456 (20.9\\%)   & 380 (18.9\\%)   & 76 (44.4\\%)    & NA   \\\\\n",
       "\t Mclust4            & 2            & 794 (36.4\\%)   & 774 (38.5\\%)   & 20 (11.7\\%)    & 0    \\\\\n",
       "\t Mclust4            & 3            & 662 (30.3\\%)   & 651 (32.3\\%)   & 11 (6.4\\%)     & NA   \\\\\n",
       "\t Mclust4            & 4            & 272 (12.5\\%)   & 208 (10.3\\%)   & 64 (37.4\\%)    & NA   \\\\\n",
       "\\end{tabular}\n"
      ],
      "text/markdown": [
       "\n",
       "A tibble: 69 × 6\n",
       "\n",
       "| V1 &lt;chr&gt; | V2 &lt;chr&gt; | Pop &lt;chr&gt; | 0 &lt;fct&gt; | 1 &lt;fct&gt; | pval &lt;fct&gt; |\n",
       "|---|---|---|---|---|---|\n",
       "| Individuals    | n            | 2184                | 2013                | 171                 | NA    |\n",
       "| NoShow         | 1            | 171 (7.8%)          | 0 (0.0%)            | 171 (100.0%)        | 0     |\n",
       "| sunday         | 1            | 65 (3.0%)           | 53 (2.6%)           | 12 (7.0%)           | 0.003 |\n",
       "| monday         | 1            | 1 (0.0%)            | 1 (0.0%)            | 0 (0.0%)            | 1     |\n",
       "| time_booked    | Mean (SD)    | 804.7 (175.8)       | 804.2 (175.4)       | 810.5 (180.8)       | NA    |\n",
       "| time_booked    | Median (IQR) | 790.0 (660.0-960.0) | 790.0 (660.0-950.0) | 810.0 (650.0-970.0) | 0.653 |\n",
       "| cancel_days_1  | 1            | 134 (6.1%)          | 0 (0.0%)            | 134 (78.4%)         | 0     |\n",
       "| cancel_days_2  | 1            | 36 (1.6%)           | 0 (0.0%)            | 36 (21.1%)          | 0     |\n",
       "| cancel_days_3  | 1            | 18 (0.8%)           | 18 (0.9%)           | 0 (0.0%)            | 0.391 |\n",
       "| cancel_days_4  | 1            | 14 (0.6%)           | 14 (0.7%)           | 0 (0.0%)            | 0.619 |\n",
       "| cancel_days_5  | 1            | 31 (1.4%)           | 31 (1.5%)           | 0 (0.0%)            | 0.168 |\n",
       "| cancel_days_6  | 1            | 41 (1.9%)           | 41 (2.0%)           | 0 (0.0%)            | 0.071 |\n",
       "| cancel_days_7  | 1            | 1,910 (87.5%)       | 1,909 (94.8%)       | 1 (0.6%)            | 0     |\n",
       "| service_CAL    | 1            | 6 (0.3%)            | 6 (0.3%)            | 0 (0.0%)            | 1     |\n",
       "| service_CALC   | 1            | 40 (1.8%)           | 39 (1.9%)           | 1 (0.6%)            | 0.205 |\n",
       "| service_CAS    | 1            | 1 (0.0%)            | 1 (0.0%)            | 0 (0.0%)            | 1     |\n",
       "| service_CBAL   | 1            | 24 (1.1%)           | 16 (0.8%)           | 8 (4.7%)            | 0     |\n",
       "| service_CCAMO  | 1            | 19 (0.9%)           | 16 (0.8%)           | 3 (1.8%)            | 0.195 |\n",
       "| service_CCO    | 1            | 2 (0.1%)            | 1 (0.0%)            | 1 (0.6%)            | 0.026 |\n",
       "| service_CDPB   | 1            | 14 (0.6%)           | 9 (0.4%)            | 5 (2.9%)            | 0     |\n",
       "| service_CFC    | 1            | 66 (3.0%)           | 58 (2.9%)           | 8 (4.7%)            | 0.278 |\n",
       "| service_CHLFH  | 1            | 14 (0.6%)           | 12 (0.6%)           | 2 (1.2%)            | 0.367 |\n",
       "| service_CHLFHC | 1            | 1 (0.0%)            | 1 (0.0%)            | 0 (0.0%)            | 1     |\n",
       "| service_CHLHH  | 1            | 6 (0.3%)            | 4 (0.2%)            | 2 (1.2%)            | 0.02  |\n",
       "| service_CHLHHC | 1            | 3 (0.1%)            | 3 (0.1%)            | 0 (0.0%)            | 1     |\n",
       "| service_CHLPHC | 1            | 18 (0.8%)           | 18 (0.9%)           | 0 (0.0%)            | 0.391 |\n",
       "| service_CHLPL  | 1            | 52 (2.4%)           | 48 (2.4%)           | 4 (2.3%)            | 0.97  |\n",
       "| service_CMT    | 1            | 12 (0.5%)           | 12 (0.6%)           | 0 (0.0%)            | 0.616 |\n",
       "| service_CON    | 1            | 93 (4.3%)           | 62 (3.1%)           | 31 (18.1%)          | 0     |\n",
       "| service_CT     | 1            | 10 (0.5%)           | 10 (0.5%)           | 0 (0.0%)            | 1     |\n",
       "| ... | ... | ... | ... | ... | ... |\n",
       "| staff_HOUSE        | 1            | 21 (1.0%)     | 19 (0.9%)     | 2 (1.2%)      | 0.772 |\n",
       "| staff_KELLY        | 1            | 322 (14.7%)   | 286 (14.2%)   | 36 (21.1%)    | 0.021 |\n",
       "| Canceled_By_BECKY  | 1            | 29 (1.3%)     | 16 (0.8%)     | 13 (7.6%)     | 0     |\n",
       "| Canceled_By_JJ     | 1            | 93 (4.3%)     | 45 (2.2%)     | 48 (28.1%)    | 0     |\n",
       "| Canceled_By_JOANNE | 1            | 17 (0.8%)     | 9 (0.4%)      | 8 (4.7%)      | 0     |\n",
       "| Canceled_By_KELLY  | 1            | 32 (1.5%)     | 13 (0.6%)     | 19 (11.1%)    | 0     |\n",
       "| Canceled_By_SINEAD | 1            | 16 (0.7%)     | 10 (0.5%)     | 6 (3.5%)      | 0     |\n",
       "| quantity_1         | 1            | 1 (0.0%)      | 1 (0.0%)      | 0 (0.0%)      | 1     |\n",
       "| quantity_2         | 1            | 1,111 (50.9%) | 1,087 (54.0%) | 24 (14.0%)    | 0     |\n",
       "| quantity_5         | 1            | 24 (1.1%)     | 24 (1.2%)     | 0 (0.0%)      | 0.252 |\n",
       "| quantity_6         | 1            | 19 (0.9%)     | 18 (0.9%)     | 1 (0.6%)      | 0.676 |\n",
       "| quantity_7         | 1            | 470 (21.5%)   | 328 (16.3%)   | 142 (83.0%)   | 0     |\n",
       "| amount             | Mean (SD)    | 4.0 (1.4)     | 4.0 (1.3)     | 3.6 (1.8)     | NA    |\n",
       "| amount             | Median (IQR) | 4.3 (3.9-4.7) | 4.3 (3.9-4.7) | 4.0 (3.5-4.8) | 0.003 |\n",
       "| avg_receipt_4      | 1            | 417 (19.1%)   | 384 (19.1%)   | 33 (19.3%)    | 1     |\n",
       "| avg_quantity_3     | 1            | 435 (19.9%)   | 401 (19.9%)   | 34 (19.9%)    | 1     |\n",
       "| avg_quantity_5     | 1            | 11 (0.5%)     | 11 (0.5%)     | 0 (0.0%)      | 1     |\n",
       "| total_cancel12     | Mean (SD)    | 0.5 (0.9)     | 0.5 (0.9)     | 0.7 (0.8)     | NA    |\n",
       "| total_cancel12     | Median (IQR) | 0.0 (0.0-1.0) | 0.0 (0.0-1.0) | 1.0 (0.0-1.0) | 0.005 |\n",
       "| hclust4            | 1            | 350 (16.0%)   | 325 (16.1%)   | 25 (14.6%)    | NA    |\n",
       "| hclust4            | 2            | 730 (33.4%)   | 671 (33.3%)   | 59 (34.5%)    | 0.916 |\n",
       "| hclust4            | 3            | 621 (28.4%)   | 570 (28.3%)   | 51 (29.8%)    | NA    |\n",
       "| hclust4            | 4            | 483 (22.1%)   | 447 (22.2%)   | 36 (21.1%)    | NA    |\n",
       "| Mclust3            | 1            | 456 (20.9%)   | 380 (18.9%)   | 76 (44.4%)    | NA    |\n",
       "| Mclust3            | 2            | 1,456 (66.7%) | 1,425 (70.8%) | 31 (18.1%)    | 0     |\n",
       "| Mclust3            | 3            | 272 (12.5%)   | 208 (10.3%)   | 64 (37.4%)    | NA    |\n",
       "| Mclust4            | 1            | 456 (20.9%)   | 380 (18.9%)   | 76 (44.4%)    | NA    |\n",
       "| Mclust4            | 2            | 794 (36.4%)   | 774 (38.5%)   | 20 (11.7%)    | 0     |\n",
       "| Mclust4            | 3            | 662 (30.3%)   | 651 (32.3%)   | 11 (6.4%)     | NA    |\n",
       "| Mclust4            | 4            | 272 (12.5%)   | 208 (10.3%)   | 64 (37.4%)    | NA    |\n",
       "\n"
      ],
      "text/plain": [
       "    V1                 V2           Pop                 0                  \n",
       "1   Individuals        n            2184                2013               \n",
       "2   NoShow             1            171 (7.8%)          0 (0.0%)           \n",
       "3   sunday             1            65 (3.0%)           53 (2.6%)          \n",
       "4   monday             1            1 (0.0%)            1 (0.0%)           \n",
       "5   time_booked        Mean (SD)    804.7 (175.8)       804.2 (175.4)      \n",
       "6   time_booked        Median (IQR) 790.0 (660.0-960.0) 790.0 (660.0-950.0)\n",
       "7   cancel_days_1      1            134 (6.1%)          0 (0.0%)           \n",
       "8   cancel_days_2      1            36 (1.6%)           0 (0.0%)           \n",
       "9   cancel_days_3      1            18 (0.8%)           18 (0.9%)          \n",
       "10  cancel_days_4      1            14 (0.6%)           14 (0.7%)          \n",
       "11  cancel_days_5      1            31 (1.4%)           31 (1.5%)          \n",
       "12  cancel_days_6      1            41 (1.9%)           41 (2.0%)          \n",
       "13  cancel_days_7      1            1,910 (87.5%)       1,909 (94.8%)      \n",
       "14  service_CAL        1            6 (0.3%)            6 (0.3%)           \n",
       "15  service_CALC       1            40 (1.8%)           39 (1.9%)          \n",
       "16  service_CAS        1            1 (0.0%)            1 (0.0%)           \n",
       "17  service_CBAL       1            24 (1.1%)           16 (0.8%)          \n",
       "18  service_CCAMO      1            19 (0.9%)           16 (0.8%)          \n",
       "19  service_CCO        1            2 (0.1%)            1 (0.0%)           \n",
       "20  service_CDPB       1            14 (0.6%)           9 (0.4%)           \n",
       "21  service_CFC        1            66 (3.0%)           58 (2.9%)          \n",
       "22  service_CHLFH      1            14 (0.6%)           12 (0.6%)          \n",
       "23  service_CHLFHC     1            1 (0.0%)            1 (0.0%)           \n",
       "24  service_CHLHH      1            6 (0.3%)            4 (0.2%)           \n",
       "25  service_CHLHHC     1            3 (0.1%)            3 (0.1%)           \n",
       "26  service_CHLPHC     1            18 (0.8%)           18 (0.9%)          \n",
       "27  service_CHLPL      1            52 (2.4%)           48 (2.4%)          \n",
       "28  service_CMT        1            12 (0.5%)           12 (0.6%)          \n",
       "29  service_CON        1            93 (4.3%)           62 (3.1%)          \n",
       "30  service_CT         1            10 (0.5%)           10 (0.5%)          \n",
       "... ...                ...          ...                 ...                \n",
       "40  staff_HOUSE        1            21 (1.0%)           19 (0.9%)          \n",
       "41  staff_KELLY        1            322 (14.7%)         286 (14.2%)        \n",
       "42  Canceled_By_BECKY  1            29 (1.3%)           16 (0.8%)          \n",
       "43  Canceled_By_JJ     1            93 (4.3%)           45 (2.2%)          \n",
       "44  Canceled_By_JOANNE 1            17 (0.8%)           9 (0.4%)           \n",
       "45  Canceled_By_KELLY  1            32 (1.5%)           13 (0.6%)          \n",
       "46  Canceled_By_SINEAD 1            16 (0.7%)           10 (0.5%)          \n",
       "47  quantity_1         1            1 (0.0%)            1 (0.0%)           \n",
       "48  quantity_2         1            1,111 (50.9%)       1,087 (54.0%)      \n",
       "49  quantity_5         1            24 (1.1%)           24 (1.2%)          \n",
       "50  quantity_6         1            19 (0.9%)           18 (0.9%)          \n",
       "51  quantity_7         1            470 (21.5%)         328 (16.3%)        \n",
       "52  amount             Mean (SD)    4.0 (1.4)           4.0 (1.3)          \n",
       "53  amount             Median (IQR) 4.3 (3.9-4.7)       4.3 (3.9-4.7)      \n",
       "54  avg_receipt_4      1            417 (19.1%)         384 (19.1%)        \n",
       "55  avg_quantity_3     1            435 (19.9%)         401 (19.9%)        \n",
       "56  avg_quantity_5     1            11 (0.5%)           11 (0.5%)          \n",
       "57  total_cancel12     Mean (SD)    0.5 (0.9)           0.5 (0.9)          \n",
       "58  total_cancel12     Median (IQR) 0.0 (0.0-1.0)       0.0 (0.0-1.0)      \n",
       "59  hclust4            1            350 (16.0%)         325 (16.1%)        \n",
       "60  hclust4            2            730 (33.4%)         671 (33.3%)        \n",
       "61  hclust4            3            621 (28.4%)         570 (28.3%)        \n",
       "62  hclust4            4            483 (22.1%)         447 (22.2%)        \n",
       "63  Mclust3            1            456 (20.9%)         380 (18.9%)        \n",
       "64  Mclust3            2            1,456 (66.7%)       1,425 (70.8%)      \n",
       "65  Mclust3            3            272 (12.5%)         208 (10.3%)        \n",
       "66  Mclust4            1            456 (20.9%)         380 (18.9%)        \n",
       "67  Mclust4            2            794 (36.4%)         774 (38.5%)        \n",
       "68  Mclust4            3            662 (30.3%)         651 (32.3%)        \n",
       "69  Mclust4            4            272 (12.5%)         208 (10.3%)        \n",
       "    1                   pval \n",
       "1   171                 NA   \n",
       "2   171 (100.0%)        0    \n",
       "3   12 (7.0%)           0.003\n",
       "4   0 (0.0%)            1    \n",
       "5   810.5 (180.8)       NA   \n",
       "6   810.0 (650.0-970.0) 0.653\n",
       "7   134 (78.4%)         0    \n",
       "8   36 (21.1%)          0    \n",
       "9   0 (0.0%)            0.391\n",
       "10  0 (0.0%)            0.619\n",
       "11  0 (0.0%)            0.168\n",
       "12  0 (0.0%)            0.071\n",
       "13  1 (0.6%)            0    \n",
       "14  0 (0.0%)            1    \n",
       "15  1 (0.6%)            0.205\n",
       "16  0 (0.0%)            1    \n",
       "17  8 (4.7%)            0    \n",
       "18  3 (1.8%)            0.195\n",
       "19  1 (0.6%)            0.026\n",
       "20  5 (2.9%)            0    \n",
       "21  8 (4.7%)            0.278\n",
       "22  2 (1.2%)            0.367\n",
       "23  0 (0.0%)            1    \n",
       "24  2 (1.2%)            0.02 \n",
       "25  0 (0.0%)            1    \n",
       "26  0 (0.0%)            0.391\n",
       "27  4 (2.3%)            0.97 \n",
       "28  0 (0.0%)            0.616\n",
       "29  31 (18.1%)          0    \n",
       "30  0 (0.0%)            1    \n",
       "... ...                 ...  \n",
       "40  2 (1.2%)            0.772\n",
       "41  36 (21.1%)          0.021\n",
       "42  13 (7.6%)           0    \n",
       "43  48 (28.1%)          0    \n",
       "44  8 (4.7%)            0    \n",
       "45  19 (11.1%)          0    \n",
       "46  6 (3.5%)            0    \n",
       "47  0 (0.0%)            1    \n",
       "48  24 (14.0%)          0    \n",
       "49  0 (0.0%)            0.252\n",
       "50  1 (0.6%)            0.676\n",
       "51  142 (83.0%)         0    \n",
       "52  3.6 (1.8)           NA   \n",
       "53  4.0 (3.5-4.8)       0.003\n",
       "54  33 (19.3%)          1    \n",
       "55  34 (19.9%)          1    \n",
       "56  0 (0.0%)            1    \n",
       "57  0.7 (0.8)           NA   \n",
       "58  1.0 (0.0-1.0)       0.005\n",
       "59  25 (14.6%)          NA   \n",
       "60  59 (34.5%)          0.916\n",
       "61  51 (29.8%)          NA   \n",
       "62  36 (21.1%)          NA   \n",
       "63  76 (44.4%)          NA   \n",
       "64  31 (18.1%)          0    \n",
       "65  64 (37.4%)          NA   \n",
       "66  76 (44.4%)          NA   \n",
       "67  20 (11.7%)          0    \n",
       "68  11 (6.4%)           NA   \n",
       "69  64 (37.4%)          NA   "
      ]
     },
     "metadata": {},
     "output_type": "display_data"
    }
   ],
   "source": [
    "Table1(data = data2,y = \"NoShow\")"
   ]
  },
  {
   "cell_type": "markdown",
   "metadata": {},
   "source": [
    "## Test dataset"
   ]
  },
  {
   "cell_type": "code",
   "execution_count": 67,
   "metadata": {},
   "outputs": [
    {
     "name": "stderr",
     "output_type": "stream",
     "text": [
      "Dataset partitioned into:\n",
      "\n",
      " + Train dataset: train\n",
      "\n",
      " + Test dataset: test\n",
      "\n",
      "Warning message in Table1(data = df, y = \"traintest_ind_\", messages = FALSE):\n",
      "\"The following variables have unique values and will not be included in the analysis: \"\n"
     ]
    },
    {
     "name": "stdout",
     "output_type": "stream",
     "text": [
      "  |======================================================================| 100%"
     ]
    },
    {
     "name": "stderr",
     "output_type": "stream",
     "text": [
      "Warning message in `[<-.factor`(`*tmp*`, iseq, value = \"1\"):\n",
      "\"invalid factor level, NA generated\"\n",
      "Warning message:\n",
      "\"Column `Del` joining character vector and factor, coercing into character vector\"\n",
      "Warning message:\n",
      "\"Column `V1` joining character vector and factor, coercing into character vector\"\n",
      "Warning message:\n",
      "\"Column `V2` joining character vector and factor, coercing into character vector\"\n",
      "Warning message:\n",
      "\"Column `n` joining character vector and factor, coercing into character vector\"\n"
     ]
    },
    {
     "name": "stdout",
     "output_type": "stream",
     "text": [
      "  |======================================================================| 100%"
     ]
    },
    {
     "name": "stderr",
     "output_type": "stream",
     "text": [
      "Warning message in `[<-.factor`(`*tmp*`, iseq, value = \"2\"):\n",
      "\"invalid factor level, NA generated\"\n",
      "Warning message:\n",
      "\"Column `Del` joining character vector and factor, coercing into character vector\"\n",
      "Warning message:\n",
      "\"Column `V1` joining character vector and factor, coercing into character vector\"\n",
      "Warning message:\n",
      "\"Column `V2` joining character vector and factor, coercing into character vector\"\n",
      "Warning message:\n",
      "\"Column `n` joining character vector and factor, coercing into character vector\"\n"
     ]
    },
    {
     "name": "stdout",
     "output_type": "stream",
     "text": [
      "  |===================================================================== |  98%"
     ]
    },
    {
     "name": "stderr",
     "output_type": "stream",
     "text": [
      "Warning message:\n",
      "\"Column `V1` joining character vector and factor, coercing into character vector\"\n",
      "Warning message:\n",
      "\"Column `n` joining character vector and factor, coercing into character vector\"\n",
      "Warning message in Ops.factor(pval, 0.05):\n",
      "\"'<' not meaningful for factors\"\n",
      " \n",
      "\n",
      "You got a perfectly balanced training and test datasets\n",
      "\n",
      " \n",
      "\n"
     ]
    }
   ],
   "source": [
    "tab1 <- train_test(data = data2, train_name = \"train\", test_name = \"test\",prop = 0.6, seed = 123, tableone=T)"
   ]
  },
  {
   "cell_type": "code",
   "execution_count": 69,
   "metadata": {},
   "outputs": [
    {
     "data": {
      "text/html": [
       "<style>\n",
       ".list-inline {list-style: none; margin:0; padding: 0}\n",
       ".list-inline>li {display: inline-block}\n",
       ".list-inline>li:not(:last-child)::after {content: \"\\00b7\"; padding: 0 .5ex}\n",
       "</style>\n",
       "<ol class=list-inline><li>1310</li><li>57</li></ol>\n"
      ],
      "text/latex": [
       "\\begin{enumerate*}\n",
       "\\item 1310\n",
       "\\item 57\n",
       "\\end{enumerate*}\n"
      ],
      "text/markdown": [
       "1. 1310\n",
       "2. 57\n",
       "\n",
       "\n"
      ],
      "text/plain": [
       "[1] 1310   57"
      ]
     },
     "metadata": {},
     "output_type": "display_data"
    },
    {
     "data": {
      "text/html": [
       "<style>\n",
       ".list-inline {list-style: none; margin:0; padding: 0}\n",
       ".list-inline>li {display: inline-block}\n",
       ".list-inline>li:not(:last-child)::after {content: \"\\00b7\"; padding: 0 .5ex}\n",
       "</style>\n",
       "<ol class=list-inline><li>874</li><li>57</li></ol>\n"
      ],
      "text/latex": [
       "\\begin{enumerate*}\n",
       "\\item 874\n",
       "\\item 57\n",
       "\\end{enumerate*}\n"
      ],
      "text/markdown": [
       "1. 874\n",
       "2. 57\n",
       "\n",
       "\n"
      ],
      "text/plain": [
       "[1] 874  57"
      ]
     },
     "metadata": {},
     "output_type": "display_data"
    }
   ],
   "source": [
    "dim(train)\n",
    "dim(test)"
   ]
  },
  {
   "cell_type": "code",
   "execution_count": 70,
   "metadata": {},
   "outputs": [
    {
     "data": {
      "text/html": [
       "<table>\n",
       "<caption>A tibble: 71 × 6</caption>\n",
       "<thead>\n",
       "\t<tr><th scope=col>V1</th><th scope=col>V2</th><th scope=col>Pop</th><th scope=col>1</th><th scope=col>2</th><th scope=col>pval</th></tr>\n",
       "\t<tr><th scope=col>&lt;chr&gt;</th><th scope=col>&lt;chr&gt;</th><th scope=col>&lt;chr&gt;</th><th scope=col>&lt;fct&gt;</th><th scope=col>&lt;fct&gt;</th><th scope=col>&lt;fct&gt;</th></tr>\n",
       "</thead>\n",
       "<tbody>\n",
       "\t<tr><td>Individuals   </td><td>n           </td><td>2184               </td><td>1310               </td><td>874                </td><td>NA   </td></tr>\n",
       "\t<tr><td>NoShow        </td><td>1           </td><td>171 (7.8%)         </td><td>107 (8.2%)         </td><td>64 (7.3%)          </td><td>0.523</td></tr>\n",
       "\t<tr><td>sunday        </td><td>1           </td><td>65 (3.0%)          </td><td>38 (2.9%)          </td><td>27 (3.1%)          </td><td>0.9  </td></tr>\n",
       "\t<tr><td>monday        </td><td>1           </td><td>1 (0.0%)           </td><td>1 (0.1%)           </td><td>0 (0.0%)           </td><td>1    </td></tr>\n",
       "\t<tr><td>time_booked   </td><td>Mean (SD)   </td><td>804.7 (175.8)      </td><td>798.2 (176.5)      </td><td>814.4 (174.4)      </td><td>NA   </td></tr>\n",
       "\t<tr><td>time_booked   </td><td>Median (IQR)</td><td>790.0 (660.0-960.0)</td><td>780.0 (660.0-940.0)</td><td>810.0 (660.0-960.0)</td><td>0.035</td></tr>\n",
       "\t<tr><td>cancel_days_1 </td><td>1           </td><td>134 (6.1%)         </td><td>82 (6.3%)          </td><td>52 (5.9%)          </td><td>0.838</td></tr>\n",
       "\t<tr><td>cancel_days_2 </td><td>1           </td><td>36 (1.6%)          </td><td>24 (1.8%)          </td><td>12 (1.4%)          </td><td>0.513</td></tr>\n",
       "\t<tr><td>cancel_days_3 </td><td>1           </td><td>18 (0.8%)          </td><td>13 (1.0%)          </td><td>5 (0.6%)           </td><td>0.287</td></tr>\n",
       "\t<tr><td>cancel_days_4 </td><td>1           </td><td>14 (0.6%)          </td><td>11 (0.8%)          </td><td>3 (0.3%)           </td><td>0.154</td></tr>\n",
       "\t<tr><td>cancel_days_5 </td><td>1           </td><td>31 (1.4%)          </td><td>20 (1.5%)          </td><td>11 (1.3%)          </td><td>0.738</td></tr>\n",
       "\t<tr><td>cancel_days_6 </td><td>1           </td><td>41 (1.9%)          </td><td>31 (2.4%)          </td><td>10 (1.1%)          </td><td>0.057</td></tr>\n",
       "\t<tr><td>cancel_days_7 </td><td>1           </td><td>1,910 (87.5%)      </td><td>1,129 (86.2%)      </td><td>781 (89.4%)        </td><td>0.033</td></tr>\n",
       "\t<tr><td>service_CAL   </td><td>1           </td><td>6 (0.3%)           </td><td>1 (0.1%)           </td><td>5 (0.6%)           </td><td>0.03 </td></tr>\n",
       "\t<tr><td>service_CALC  </td><td>1           </td><td>40 (1.8%)          </td><td>26 (2.0%)          </td><td>14 (1.6%)          </td><td>0.623</td></tr>\n",
       "\t<tr><td>service_CAS   </td><td>1           </td><td>1 (0.0%)           </td><td>1 (0.1%)           </td><td>0 (0.0%)           </td><td>1    </td></tr>\n",
       "\t<tr><td>service_CBAL  </td><td>1           </td><td>24 (1.1%)          </td><td>13 (1.0%)          </td><td>11 (1.3%)          </td><td>0.708</td></tr>\n",
       "\t<tr><td>service_CCAMO </td><td>1           </td><td>19 (0.9%)          </td><td>13 (1.0%)          </td><td>6 (0.7%)           </td><td>0.604</td></tr>\n",
       "\t<tr><td>service_CCO   </td><td>1           </td><td>2 (0.1%)           </td><td>2 (0.2%)           </td><td>0 (0.0%)           </td><td>0.52 </td></tr>\n",
       "\t<tr><td>service_CDPB  </td><td>1           </td><td>14 (0.6%)          </td><td>8 (0.6%)           </td><td>6 (0.7%)           </td><td>1    </td></tr>\n",
       "\t<tr><td>service_CFC   </td><td>1           </td><td>66 (3.0%)          </td><td>40 (3.1%)          </td><td>26 (3.0%)          </td><td>1    </td></tr>\n",
       "\t<tr><td>service_CHLFH </td><td>1           </td><td>14 (0.6%)          </td><td>8 (0.6%)           </td><td>6 (0.7%)           </td><td>1    </td></tr>\n",
       "\t<tr><td>service_CHLFHC</td><td>1           </td><td>1 (0.0%)           </td><td>1 (0.1%)           </td><td>0 (0.0%)           </td><td>1    </td></tr>\n",
       "\t<tr><td>service_CHLHH </td><td>1           </td><td>6 (0.3%)           </td><td>3 (0.2%)           </td><td>3 (0.3%)           </td><td>0.617</td></tr>\n",
       "\t<tr><td>service_CHLHHC</td><td>1           </td><td>3 (0.1%)           </td><td>1 (0.1%)           </td><td>2 (0.2%)           </td><td>0.346</td></tr>\n",
       "\t<tr><td>service_CHLPHC</td><td>1           </td><td>18 (0.8%)          </td><td>12 (0.9%)          </td><td>6 (0.7%)           </td><td>0.734</td></tr>\n",
       "\t<tr><td>service_CHLPL </td><td>1           </td><td>52 (2.4%)          </td><td>28 (2.1%)          </td><td>24 (2.7%)          </td><td>0.441</td></tr>\n",
       "\t<tr><td>service_CMT   </td><td>1           </td><td>12 (0.5%)          </td><td>9 (0.7%)           </td><td>3 (0.3%)           </td><td>0.287</td></tr>\n",
       "\t<tr><td>service_CON   </td><td>1           </td><td>93 (4.3%)          </td><td>50 (3.8%)          </td><td>43 (4.9%)          </td><td>0.253</td></tr>\n",
       "\t<tr><td>service_CT    </td><td>1           </td><td>10 (0.5%)          </td><td>7 (0.5%)           </td><td>3 (0.3%)           </td><td>0.517</td></tr>\n",
       "\t<tr><td>...</td><td>...</td><td>...</td><td>...</td><td>...</td><td>...</td></tr>\n",
       "\t<tr><td>Canceled_By_BECKY </td><td>1           </td><td>29 (1.3%)    </td><td>20 (1.5%)    </td><td>9 (1.0%)     </td><td>0.422</td></tr>\n",
       "\t<tr><td>Canceled_By_JJ    </td><td>1           </td><td>93 (4.3%)    </td><td>71 (5.4%)    </td><td>22 (2.5%)    </td><td>0.001</td></tr>\n",
       "\t<tr><td>Canceled_By_JOANNE</td><td>1           </td><td>17 (0.8%)    </td><td>14 (1.1%)    </td><td>3 (0.3%)     </td><td>0.059</td></tr>\n",
       "\t<tr><td>Canceled_By_KELLY </td><td>1           </td><td>32 (1.5%)    </td><td>20 (1.5%)    </td><td>12 (1.4%)    </td><td>0.911</td></tr>\n",
       "\t<tr><td>Canceled_By_SINEAD</td><td>1           </td><td>16 (0.7%)    </td><td>11 (0.8%)    </td><td>5 (0.6%)     </td><td>0.473</td></tr>\n",
       "\t<tr><td>quantity_1        </td><td>1           </td><td>1 (0.0%)     </td><td>1 (0.1%)     </td><td>0 (0.0%)     </td><td>1    </td></tr>\n",
       "\t<tr><td>quantity_2        </td><td>1           </td><td>1,111 (50.9%)</td><td>668 (51.0%)  </td><td>443 (50.7%)  </td><td>0.923</td></tr>\n",
       "\t<tr><td>quantity_5        </td><td>1           </td><td>24 (1.1%)    </td><td>9 (0.7%)     </td><td>15 (1.7%)    </td><td>0.04 </td></tr>\n",
       "\t<tr><td>quantity_6        </td><td>1           </td><td>19 (0.9%)    </td><td>11 (0.8%)    </td><td>8 (0.9%)     </td><td>1    </td></tr>\n",
       "\t<tr><td>quantity_7        </td><td>1           </td><td>470 (21.5%)  </td><td>283 (21.6%)  </td><td>187 (21.4%)  </td><td>0.95 </td></tr>\n",
       "\t<tr><td>amount            </td><td>Mean (SD)   </td><td>4.0 (1.4)    </td><td>4.0 (1.4)    </td><td>4.0 (1.4)    </td><td>NA   </td></tr>\n",
       "\t<tr><td>amount            </td><td>Median (IQR)</td><td>4.3 (3.9-4.7)</td><td>4.3 (3.9-4.6)</td><td>4.3 (3.7-4.8)</td><td>0.712</td></tr>\n",
       "\t<tr><td>avg_receipt_4     </td><td>1           </td><td>417 (19.1%)  </td><td>237 (18.1%)  </td><td>180 (20.6%)  </td><td>0.161</td></tr>\n",
       "\t<tr><td>avg_quantity_3    </td><td>1           </td><td>435 (19.9%)  </td><td>247 (18.9%)  </td><td>188 (21.5%)  </td><td>0.142</td></tr>\n",
       "\t<tr><td>avg_quantity_5    </td><td>1           </td><td>11 (0.5%)    </td><td>10 (0.8%)    </td><td>1 (0.1%)     </td><td>0.036</td></tr>\n",
       "\t<tr><td>total_cancel12    </td><td>Mean (SD)   </td><td>0.5 (0.9)    </td><td>0.5 (0.9)    </td><td>0.5 (0.9)    </td><td>NA   </td></tr>\n",
       "\t<tr><td>total_cancel12    </td><td>Median (IQR)</td><td>0.0 (0.0-1.0)</td><td>0.0 (0.0-1.0)</td><td>0.0 (0.0-1.0)</td><td>1    </td></tr>\n",
       "\t<tr><td>hclust4           </td><td>1           </td><td>350 (16.0%)  </td><td>224 (17.1%)  </td><td>126 (14.4%)  </td><td>NA   </td></tr>\n",
       "\t<tr><td>hclust4           </td><td>2           </td><td>730 (33.4%)  </td><td>417 (31.8%)  </td><td>313 (35.8%)  </td><td>0.116</td></tr>\n",
       "\t<tr><td>hclust4           </td><td>3           </td><td>621 (28.4%)  </td><td>384 (29.3%)  </td><td>237 (27.1%)  </td><td>NA   </td></tr>\n",
       "\t<tr><td>hclust4           </td><td>4           </td><td>483 (22.1%)  </td><td>285 (21.8%)  </td><td>198 (22.7%)  </td><td>NA   </td></tr>\n",
       "\t<tr><td>Mclust3           </td><td>1           </td><td>456 (20.9%)  </td><td>272 (20.8%)  </td><td>184 (21.1%)  </td><td>NA   </td></tr>\n",
       "\t<tr><td>Mclust3           </td><td>2           </td><td>1,456 (66.7%)</td><td>870 (66.4%)  </td><td>586 (67.0%)  </td><td>0.813</td></tr>\n",
       "\t<tr><td>Mclust3           </td><td>3           </td><td>272 (12.5%)  </td><td>168 (12.8%)  </td><td>104 (11.9%)  </td><td>NA   </td></tr>\n",
       "\t<tr><td>Mclust4           </td><td>1           </td><td>456 (20.9%)  </td><td>272 (20.8%)  </td><td>184 (21.1%)  </td><td>NA   </td></tr>\n",
       "\t<tr><td>Mclust4           </td><td>2           </td><td>794 (36.4%)  </td><td>479 (36.6%)  </td><td>315 (36.0%)  </td><td>0.884</td></tr>\n",
       "\t<tr><td>Mclust4           </td><td>3           </td><td>662 (30.3%)  </td><td>391 (29.8%)  </td><td>271 (31.0%)  </td><td>NA   </td></tr>\n",
       "\t<tr><td>Mclust4           </td><td>4           </td><td>272 (12.5%)  </td><td>168 (12.8%)  </td><td>104 (11.9%)  </td><td>NA   </td></tr>\n",
       "\t<tr><td>traintest_ind_    </td><td>Mean (SD)   </td><td>1.4 (0.5)    </td><td>NA           </td><td>NA           </td><td>NA   </td></tr>\n",
       "\t<tr><td>traintest_ind_    </td><td>Median (IQR)</td><td>1.0 (1.0-2.0)</td><td>NA           </td><td>NA           </td><td>0    </td></tr>\n",
       "</tbody>\n",
       "</table>\n"
      ],
      "text/latex": [
       "A tibble: 71 × 6\n",
       "\\begin{tabular}{llllll}\n",
       " V1 & V2 & Pop & 1 & 2 & pval\\\\\n",
       " <chr> & <chr> & <chr> & <fct> & <fct> & <fct>\\\\\n",
       "\\hline\n",
       "\t Individuals    & n            & 2184                & 1310                & 874                 & NA   \\\\\n",
       "\t NoShow         & 1            & 171 (7.8\\%)          & 107 (8.2\\%)          & 64 (7.3\\%)           & 0.523\\\\\n",
       "\t sunday         & 1            & 65 (3.0\\%)           & 38 (2.9\\%)           & 27 (3.1\\%)           & 0.9  \\\\\n",
       "\t monday         & 1            & 1 (0.0\\%)            & 1 (0.1\\%)            & 0 (0.0\\%)            & 1    \\\\\n",
       "\t time\\_booked    & Mean (SD)    & 804.7 (175.8)       & 798.2 (176.5)       & 814.4 (174.4)       & NA   \\\\\n",
       "\t time\\_booked    & Median (IQR) & 790.0 (660.0-960.0) & 780.0 (660.0-940.0) & 810.0 (660.0-960.0) & 0.035\\\\\n",
       "\t cancel\\_days\\_1  & 1            & 134 (6.1\\%)          & 82 (6.3\\%)           & 52 (5.9\\%)           & 0.838\\\\\n",
       "\t cancel\\_days\\_2  & 1            & 36 (1.6\\%)           & 24 (1.8\\%)           & 12 (1.4\\%)           & 0.513\\\\\n",
       "\t cancel\\_days\\_3  & 1            & 18 (0.8\\%)           & 13 (1.0\\%)           & 5 (0.6\\%)            & 0.287\\\\\n",
       "\t cancel\\_days\\_4  & 1            & 14 (0.6\\%)           & 11 (0.8\\%)           & 3 (0.3\\%)            & 0.154\\\\\n",
       "\t cancel\\_days\\_5  & 1            & 31 (1.4\\%)           & 20 (1.5\\%)           & 11 (1.3\\%)           & 0.738\\\\\n",
       "\t cancel\\_days\\_6  & 1            & 41 (1.9\\%)           & 31 (2.4\\%)           & 10 (1.1\\%)           & 0.057\\\\\n",
       "\t cancel\\_days\\_7  & 1            & 1,910 (87.5\\%)       & 1,129 (86.2\\%)       & 781 (89.4\\%)         & 0.033\\\\\n",
       "\t service\\_CAL    & 1            & 6 (0.3\\%)            & 1 (0.1\\%)            & 5 (0.6\\%)            & 0.03 \\\\\n",
       "\t service\\_CALC   & 1            & 40 (1.8\\%)           & 26 (2.0\\%)           & 14 (1.6\\%)           & 0.623\\\\\n",
       "\t service\\_CAS    & 1            & 1 (0.0\\%)            & 1 (0.1\\%)            & 0 (0.0\\%)            & 1    \\\\\n",
       "\t service\\_CBAL   & 1            & 24 (1.1\\%)           & 13 (1.0\\%)           & 11 (1.3\\%)           & 0.708\\\\\n",
       "\t service\\_CCAMO  & 1            & 19 (0.9\\%)           & 13 (1.0\\%)           & 6 (0.7\\%)            & 0.604\\\\\n",
       "\t service\\_CCO    & 1            & 2 (0.1\\%)            & 2 (0.2\\%)            & 0 (0.0\\%)            & 0.52 \\\\\n",
       "\t service\\_CDPB   & 1            & 14 (0.6\\%)           & 8 (0.6\\%)            & 6 (0.7\\%)            & 1    \\\\\n",
       "\t service\\_CFC    & 1            & 66 (3.0\\%)           & 40 (3.1\\%)           & 26 (3.0\\%)           & 1    \\\\\n",
       "\t service\\_CHLFH  & 1            & 14 (0.6\\%)           & 8 (0.6\\%)            & 6 (0.7\\%)            & 1    \\\\\n",
       "\t service\\_CHLFHC & 1            & 1 (0.0\\%)            & 1 (0.1\\%)            & 0 (0.0\\%)            & 1    \\\\\n",
       "\t service\\_CHLHH  & 1            & 6 (0.3\\%)            & 3 (0.2\\%)            & 3 (0.3\\%)            & 0.617\\\\\n",
       "\t service\\_CHLHHC & 1            & 3 (0.1\\%)            & 1 (0.1\\%)            & 2 (0.2\\%)            & 0.346\\\\\n",
       "\t service\\_CHLPHC & 1            & 18 (0.8\\%)           & 12 (0.9\\%)           & 6 (0.7\\%)            & 0.734\\\\\n",
       "\t service\\_CHLPL  & 1            & 52 (2.4\\%)           & 28 (2.1\\%)           & 24 (2.7\\%)           & 0.441\\\\\n",
       "\t service\\_CMT    & 1            & 12 (0.5\\%)           & 9 (0.7\\%)            & 3 (0.3\\%)            & 0.287\\\\\n",
       "\t service\\_CON    & 1            & 93 (4.3\\%)           & 50 (3.8\\%)           & 43 (4.9\\%)           & 0.253\\\\\n",
       "\t service\\_CT     & 1            & 10 (0.5\\%)           & 7 (0.5\\%)            & 3 (0.3\\%)            & 0.517\\\\\n",
       "\t ... & ... & ... & ... & ... & ...\\\\\n",
       "\t Canceled\\_By\\_BECKY  & 1            & 29 (1.3\\%)     & 20 (1.5\\%)     & 9 (1.0\\%)      & 0.422\\\\\n",
       "\t Canceled\\_By\\_JJ     & 1            & 93 (4.3\\%)     & 71 (5.4\\%)     & 22 (2.5\\%)     & 0.001\\\\\n",
       "\t Canceled\\_By\\_JOANNE & 1            & 17 (0.8\\%)     & 14 (1.1\\%)     & 3 (0.3\\%)      & 0.059\\\\\n",
       "\t Canceled\\_By\\_KELLY  & 1            & 32 (1.5\\%)     & 20 (1.5\\%)     & 12 (1.4\\%)     & 0.911\\\\\n",
       "\t Canceled\\_By\\_SINEAD & 1            & 16 (0.7\\%)     & 11 (0.8\\%)     & 5 (0.6\\%)      & 0.473\\\\\n",
       "\t quantity\\_1         & 1            & 1 (0.0\\%)      & 1 (0.1\\%)      & 0 (0.0\\%)      & 1    \\\\\n",
       "\t quantity\\_2         & 1            & 1,111 (50.9\\%) & 668 (51.0\\%)   & 443 (50.7\\%)   & 0.923\\\\\n",
       "\t quantity\\_5         & 1            & 24 (1.1\\%)     & 9 (0.7\\%)      & 15 (1.7\\%)     & 0.04 \\\\\n",
       "\t quantity\\_6         & 1            & 19 (0.9\\%)     & 11 (0.8\\%)     & 8 (0.9\\%)      & 1    \\\\\n",
       "\t quantity\\_7         & 1            & 470 (21.5\\%)   & 283 (21.6\\%)   & 187 (21.4\\%)   & 0.95 \\\\\n",
       "\t amount             & Mean (SD)    & 4.0 (1.4)     & 4.0 (1.4)     & 4.0 (1.4)     & NA   \\\\\n",
       "\t amount             & Median (IQR) & 4.3 (3.9-4.7) & 4.3 (3.9-4.6) & 4.3 (3.7-4.8) & 0.712\\\\\n",
       "\t avg\\_receipt\\_4      & 1            & 417 (19.1\\%)   & 237 (18.1\\%)   & 180 (20.6\\%)   & 0.161\\\\\n",
       "\t avg\\_quantity\\_3     & 1            & 435 (19.9\\%)   & 247 (18.9\\%)   & 188 (21.5\\%)   & 0.142\\\\\n",
       "\t avg\\_quantity\\_5     & 1            & 11 (0.5\\%)     & 10 (0.8\\%)     & 1 (0.1\\%)      & 0.036\\\\\n",
       "\t total\\_cancel12     & Mean (SD)    & 0.5 (0.9)     & 0.5 (0.9)     & 0.5 (0.9)     & NA   \\\\\n",
       "\t total\\_cancel12     & Median (IQR) & 0.0 (0.0-1.0) & 0.0 (0.0-1.0) & 0.0 (0.0-1.0) & 1    \\\\\n",
       "\t hclust4            & 1            & 350 (16.0\\%)   & 224 (17.1\\%)   & 126 (14.4\\%)   & NA   \\\\\n",
       "\t hclust4            & 2            & 730 (33.4\\%)   & 417 (31.8\\%)   & 313 (35.8\\%)   & 0.116\\\\\n",
       "\t hclust4            & 3            & 621 (28.4\\%)   & 384 (29.3\\%)   & 237 (27.1\\%)   & NA   \\\\\n",
       "\t hclust4            & 4            & 483 (22.1\\%)   & 285 (21.8\\%)   & 198 (22.7\\%)   & NA   \\\\\n",
       "\t Mclust3            & 1            & 456 (20.9\\%)   & 272 (20.8\\%)   & 184 (21.1\\%)   & NA   \\\\\n",
       "\t Mclust3            & 2            & 1,456 (66.7\\%) & 870 (66.4\\%)   & 586 (67.0\\%)   & 0.813\\\\\n",
       "\t Mclust3            & 3            & 272 (12.5\\%)   & 168 (12.8\\%)   & 104 (11.9\\%)   & NA   \\\\\n",
       "\t Mclust4            & 1            & 456 (20.9\\%)   & 272 (20.8\\%)   & 184 (21.1\\%)   & NA   \\\\\n",
       "\t Mclust4            & 2            & 794 (36.4\\%)   & 479 (36.6\\%)   & 315 (36.0\\%)   & 0.884\\\\\n",
       "\t Mclust4            & 3            & 662 (30.3\\%)   & 391 (29.8\\%)   & 271 (31.0\\%)   & NA   \\\\\n",
       "\t Mclust4            & 4            & 272 (12.5\\%)   & 168 (12.8\\%)   & 104 (11.9\\%)   & NA   \\\\\n",
       "\t traintest\\_ind\\_     & Mean (SD)    & 1.4 (0.5)     & NA            & NA            & NA   \\\\\n",
       "\t traintest\\_ind\\_     & Median (IQR) & 1.0 (1.0-2.0) & NA            & NA            & 0    \\\\\n",
       "\\end{tabular}\n"
      ],
      "text/markdown": [
       "\n",
       "A tibble: 71 × 6\n",
       "\n",
       "| V1 &lt;chr&gt; | V2 &lt;chr&gt; | Pop &lt;chr&gt; | 1 &lt;fct&gt; | 2 &lt;fct&gt; | pval &lt;fct&gt; |\n",
       "|---|---|---|---|---|---|\n",
       "| Individuals    | n            | 2184                | 1310                | 874                 | NA    |\n",
       "| NoShow         | 1            | 171 (7.8%)          | 107 (8.2%)          | 64 (7.3%)           | 0.523 |\n",
       "| sunday         | 1            | 65 (3.0%)           | 38 (2.9%)           | 27 (3.1%)           | 0.9   |\n",
       "| monday         | 1            | 1 (0.0%)            | 1 (0.1%)            | 0 (0.0%)            | 1     |\n",
       "| time_booked    | Mean (SD)    | 804.7 (175.8)       | 798.2 (176.5)       | 814.4 (174.4)       | NA    |\n",
       "| time_booked    | Median (IQR) | 790.0 (660.0-960.0) | 780.0 (660.0-940.0) | 810.0 (660.0-960.0) | 0.035 |\n",
       "| cancel_days_1  | 1            | 134 (6.1%)          | 82 (6.3%)           | 52 (5.9%)           | 0.838 |\n",
       "| cancel_days_2  | 1            | 36 (1.6%)           | 24 (1.8%)           | 12 (1.4%)           | 0.513 |\n",
       "| cancel_days_3  | 1            | 18 (0.8%)           | 13 (1.0%)           | 5 (0.6%)            | 0.287 |\n",
       "| cancel_days_4  | 1            | 14 (0.6%)           | 11 (0.8%)           | 3 (0.3%)            | 0.154 |\n",
       "| cancel_days_5  | 1            | 31 (1.4%)           | 20 (1.5%)           | 11 (1.3%)           | 0.738 |\n",
       "| cancel_days_6  | 1            | 41 (1.9%)           | 31 (2.4%)           | 10 (1.1%)           | 0.057 |\n",
       "| cancel_days_7  | 1            | 1,910 (87.5%)       | 1,129 (86.2%)       | 781 (89.4%)         | 0.033 |\n",
       "| service_CAL    | 1            | 6 (0.3%)            | 1 (0.1%)            | 5 (0.6%)            | 0.03  |\n",
       "| service_CALC   | 1            | 40 (1.8%)           | 26 (2.0%)           | 14 (1.6%)           | 0.623 |\n",
       "| service_CAS    | 1            | 1 (0.0%)            | 1 (0.1%)            | 0 (0.0%)            | 1     |\n",
       "| service_CBAL   | 1            | 24 (1.1%)           | 13 (1.0%)           | 11 (1.3%)           | 0.708 |\n",
       "| service_CCAMO  | 1            | 19 (0.9%)           | 13 (1.0%)           | 6 (0.7%)            | 0.604 |\n",
       "| service_CCO    | 1            | 2 (0.1%)            | 2 (0.2%)            | 0 (0.0%)            | 0.52  |\n",
       "| service_CDPB   | 1            | 14 (0.6%)           | 8 (0.6%)            | 6 (0.7%)            | 1     |\n",
       "| service_CFC    | 1            | 66 (3.0%)           | 40 (3.1%)           | 26 (3.0%)           | 1     |\n",
       "| service_CHLFH  | 1            | 14 (0.6%)           | 8 (0.6%)            | 6 (0.7%)            | 1     |\n",
       "| service_CHLFHC | 1            | 1 (0.0%)            | 1 (0.1%)            | 0 (0.0%)            | 1     |\n",
       "| service_CHLHH  | 1            | 6 (0.3%)            | 3 (0.2%)            | 3 (0.3%)            | 0.617 |\n",
       "| service_CHLHHC | 1            | 3 (0.1%)            | 1 (0.1%)            | 2 (0.2%)            | 0.346 |\n",
       "| service_CHLPHC | 1            | 18 (0.8%)           | 12 (0.9%)           | 6 (0.7%)            | 0.734 |\n",
       "| service_CHLPL  | 1            | 52 (2.4%)           | 28 (2.1%)           | 24 (2.7%)           | 0.441 |\n",
       "| service_CMT    | 1            | 12 (0.5%)           | 9 (0.7%)            | 3 (0.3%)            | 0.287 |\n",
       "| service_CON    | 1            | 93 (4.3%)           | 50 (3.8%)           | 43 (4.9%)           | 0.253 |\n",
       "| service_CT     | 1            | 10 (0.5%)           | 7 (0.5%)            | 3 (0.3%)            | 0.517 |\n",
       "| ... | ... | ... | ... | ... | ... |\n",
       "| Canceled_By_BECKY  | 1            | 29 (1.3%)     | 20 (1.5%)     | 9 (1.0%)      | 0.422 |\n",
       "| Canceled_By_JJ     | 1            | 93 (4.3%)     | 71 (5.4%)     | 22 (2.5%)     | 0.001 |\n",
       "| Canceled_By_JOANNE | 1            | 17 (0.8%)     | 14 (1.1%)     | 3 (0.3%)      | 0.059 |\n",
       "| Canceled_By_KELLY  | 1            | 32 (1.5%)     | 20 (1.5%)     | 12 (1.4%)     | 0.911 |\n",
       "| Canceled_By_SINEAD | 1            | 16 (0.7%)     | 11 (0.8%)     | 5 (0.6%)      | 0.473 |\n",
       "| quantity_1         | 1            | 1 (0.0%)      | 1 (0.1%)      | 0 (0.0%)      | 1     |\n",
       "| quantity_2         | 1            | 1,111 (50.9%) | 668 (51.0%)   | 443 (50.7%)   | 0.923 |\n",
       "| quantity_5         | 1            | 24 (1.1%)     | 9 (0.7%)      | 15 (1.7%)     | 0.04  |\n",
       "| quantity_6         | 1            | 19 (0.9%)     | 11 (0.8%)     | 8 (0.9%)      | 1     |\n",
       "| quantity_7         | 1            | 470 (21.5%)   | 283 (21.6%)   | 187 (21.4%)   | 0.95  |\n",
       "| amount             | Mean (SD)    | 4.0 (1.4)     | 4.0 (1.4)     | 4.0 (1.4)     | NA    |\n",
       "| amount             | Median (IQR) | 4.3 (3.9-4.7) | 4.3 (3.9-4.6) | 4.3 (3.7-4.8) | 0.712 |\n",
       "| avg_receipt_4      | 1            | 417 (19.1%)   | 237 (18.1%)   | 180 (20.6%)   | 0.161 |\n",
       "| avg_quantity_3     | 1            | 435 (19.9%)   | 247 (18.9%)   | 188 (21.5%)   | 0.142 |\n",
       "| avg_quantity_5     | 1            | 11 (0.5%)     | 10 (0.8%)     | 1 (0.1%)      | 0.036 |\n",
       "| total_cancel12     | Mean (SD)    | 0.5 (0.9)     | 0.5 (0.9)     | 0.5 (0.9)     | NA    |\n",
       "| total_cancel12     | Median (IQR) | 0.0 (0.0-1.0) | 0.0 (0.0-1.0) | 0.0 (0.0-1.0) | 1     |\n",
       "| hclust4            | 1            | 350 (16.0%)   | 224 (17.1%)   | 126 (14.4%)   | NA    |\n",
       "| hclust4            | 2            | 730 (33.4%)   | 417 (31.8%)   | 313 (35.8%)   | 0.116 |\n",
       "| hclust4            | 3            | 621 (28.4%)   | 384 (29.3%)   | 237 (27.1%)   | NA    |\n",
       "| hclust4            | 4            | 483 (22.1%)   | 285 (21.8%)   | 198 (22.7%)   | NA    |\n",
       "| Mclust3            | 1            | 456 (20.9%)   | 272 (20.8%)   | 184 (21.1%)   | NA    |\n",
       "| Mclust3            | 2            | 1,456 (66.7%) | 870 (66.4%)   | 586 (67.0%)   | 0.813 |\n",
       "| Mclust3            | 3            | 272 (12.5%)   | 168 (12.8%)   | 104 (11.9%)   | NA    |\n",
       "| Mclust4            | 1            | 456 (20.9%)   | 272 (20.8%)   | 184 (21.1%)   | NA    |\n",
       "| Mclust4            | 2            | 794 (36.4%)   | 479 (36.6%)   | 315 (36.0%)   | 0.884 |\n",
       "| Mclust4            | 3            | 662 (30.3%)   | 391 (29.8%)   | 271 (31.0%)   | NA    |\n",
       "| Mclust4            | 4            | 272 (12.5%)   | 168 (12.8%)   | 104 (11.9%)   | NA    |\n",
       "| traintest_ind_     | Mean (SD)    | 1.4 (0.5)     | NA            | NA            | NA    |\n",
       "| traintest_ind_     | Median (IQR) | 1.0 (1.0-2.0) | NA            | NA            | 0     |\n",
       "\n"
      ],
      "text/plain": [
       "    V1                 V2           Pop                 1                  \n",
       "1   Individuals        n            2184                1310               \n",
       "2   NoShow             1            171 (7.8%)          107 (8.2%)         \n",
       "3   sunday             1            65 (3.0%)           38 (2.9%)          \n",
       "4   monday             1            1 (0.0%)            1 (0.1%)           \n",
       "5   time_booked        Mean (SD)    804.7 (175.8)       798.2 (176.5)      \n",
       "6   time_booked        Median (IQR) 790.0 (660.0-960.0) 780.0 (660.0-940.0)\n",
       "7   cancel_days_1      1            134 (6.1%)          82 (6.3%)          \n",
       "8   cancel_days_2      1            36 (1.6%)           24 (1.8%)          \n",
       "9   cancel_days_3      1            18 (0.8%)           13 (1.0%)          \n",
       "10  cancel_days_4      1            14 (0.6%)           11 (0.8%)          \n",
       "11  cancel_days_5      1            31 (1.4%)           20 (1.5%)          \n",
       "12  cancel_days_6      1            41 (1.9%)           31 (2.4%)          \n",
       "13  cancel_days_7      1            1,910 (87.5%)       1,129 (86.2%)      \n",
       "14  service_CAL        1            6 (0.3%)            1 (0.1%)           \n",
       "15  service_CALC       1            40 (1.8%)           26 (2.0%)          \n",
       "16  service_CAS        1            1 (0.0%)            1 (0.1%)           \n",
       "17  service_CBAL       1            24 (1.1%)           13 (1.0%)          \n",
       "18  service_CCAMO      1            19 (0.9%)           13 (1.0%)          \n",
       "19  service_CCO        1            2 (0.1%)            2 (0.2%)           \n",
       "20  service_CDPB       1            14 (0.6%)           8 (0.6%)           \n",
       "21  service_CFC        1            66 (3.0%)           40 (3.1%)          \n",
       "22  service_CHLFH      1            14 (0.6%)           8 (0.6%)           \n",
       "23  service_CHLFHC     1            1 (0.0%)            1 (0.1%)           \n",
       "24  service_CHLHH      1            6 (0.3%)            3 (0.2%)           \n",
       "25  service_CHLHHC     1            3 (0.1%)            1 (0.1%)           \n",
       "26  service_CHLPHC     1            18 (0.8%)           12 (0.9%)          \n",
       "27  service_CHLPL      1            52 (2.4%)           28 (2.1%)          \n",
       "28  service_CMT        1            12 (0.5%)           9 (0.7%)           \n",
       "29  service_CON        1            93 (4.3%)           50 (3.8%)          \n",
       "30  service_CT         1            10 (0.5%)           7 (0.5%)           \n",
       "... ...                ...          ...                 ...                \n",
       "42  Canceled_By_BECKY  1            29 (1.3%)           20 (1.5%)          \n",
       "43  Canceled_By_JJ     1            93 (4.3%)           71 (5.4%)          \n",
       "44  Canceled_By_JOANNE 1            17 (0.8%)           14 (1.1%)          \n",
       "45  Canceled_By_KELLY  1            32 (1.5%)           20 (1.5%)          \n",
       "46  Canceled_By_SINEAD 1            16 (0.7%)           11 (0.8%)          \n",
       "47  quantity_1         1            1 (0.0%)            1 (0.1%)           \n",
       "48  quantity_2         1            1,111 (50.9%)       668 (51.0%)        \n",
       "49  quantity_5         1            24 (1.1%)           9 (0.7%)           \n",
       "50  quantity_6         1            19 (0.9%)           11 (0.8%)          \n",
       "51  quantity_7         1            470 (21.5%)         283 (21.6%)        \n",
       "52  amount             Mean (SD)    4.0 (1.4)           4.0 (1.4)          \n",
       "53  amount             Median (IQR) 4.3 (3.9-4.7)       4.3 (3.9-4.6)      \n",
       "54  avg_receipt_4      1            417 (19.1%)         237 (18.1%)        \n",
       "55  avg_quantity_3     1            435 (19.9%)         247 (18.9%)        \n",
       "56  avg_quantity_5     1            11 (0.5%)           10 (0.8%)          \n",
       "57  total_cancel12     Mean (SD)    0.5 (0.9)           0.5 (0.9)          \n",
       "58  total_cancel12     Median (IQR) 0.0 (0.0-1.0)       0.0 (0.0-1.0)      \n",
       "59  hclust4            1            350 (16.0%)         224 (17.1%)        \n",
       "60  hclust4            2            730 (33.4%)         417 (31.8%)        \n",
       "61  hclust4            3            621 (28.4%)         384 (29.3%)        \n",
       "62  hclust4            4            483 (22.1%)         285 (21.8%)        \n",
       "63  Mclust3            1            456 (20.9%)         272 (20.8%)        \n",
       "64  Mclust3            2            1,456 (66.7%)       870 (66.4%)        \n",
       "65  Mclust3            3            272 (12.5%)         168 (12.8%)        \n",
       "66  Mclust4            1            456 (20.9%)         272 (20.8%)        \n",
       "67  Mclust4            2            794 (36.4%)         479 (36.6%)        \n",
       "68  Mclust4            3            662 (30.3%)         391 (29.8%)        \n",
       "69  Mclust4            4            272 (12.5%)         168 (12.8%)        \n",
       "70  traintest_ind_     Mean (SD)    1.4 (0.5)           NA                 \n",
       "71  traintest_ind_     Median (IQR) 1.0 (1.0-2.0)       NA                 \n",
       "    2                   pval \n",
       "1   874                 NA   \n",
       "2   64 (7.3%)           0.523\n",
       "3   27 (3.1%)           0.9  \n",
       "4   0 (0.0%)            1    \n",
       "5   814.4 (174.4)       NA   \n",
       "6   810.0 (660.0-960.0) 0.035\n",
       "7   52 (5.9%)           0.838\n",
       "8   12 (1.4%)           0.513\n",
       "9   5 (0.6%)            0.287\n",
       "10  3 (0.3%)            0.154\n",
       "11  11 (1.3%)           0.738\n",
       "12  10 (1.1%)           0.057\n",
       "13  781 (89.4%)         0.033\n",
       "14  5 (0.6%)            0.03 \n",
       "15  14 (1.6%)           0.623\n",
       "16  0 (0.0%)            1    \n",
       "17  11 (1.3%)           0.708\n",
       "18  6 (0.7%)            0.604\n",
       "19  0 (0.0%)            0.52 \n",
       "20  6 (0.7%)            1    \n",
       "21  26 (3.0%)           1    \n",
       "22  6 (0.7%)            1    \n",
       "23  0 (0.0%)            1    \n",
       "24  3 (0.3%)            0.617\n",
       "25  2 (0.2%)            0.346\n",
       "26  6 (0.7%)            0.734\n",
       "27  24 (2.7%)           0.441\n",
       "28  3 (0.3%)            0.287\n",
       "29  43 (4.9%)           0.253\n",
       "30  3 (0.3%)            0.517\n",
       "... ...                 ...  \n",
       "42  9 (1.0%)            0.422\n",
       "43  22 (2.5%)           0.001\n",
       "44  3 (0.3%)            0.059\n",
       "45  12 (1.4%)           0.911\n",
       "46  5 (0.6%)            0.473\n",
       "47  0 (0.0%)            1    \n",
       "48  443 (50.7%)         0.923\n",
       "49  15 (1.7%)           0.04 \n",
       "50  8 (0.9%)            1    \n",
       "51  187 (21.4%)         0.95 \n",
       "52  4.0 (1.4)           NA   \n",
       "53  4.3 (3.7-4.8)       0.712\n",
       "54  180 (20.6%)         0.161\n",
       "55  188 (21.5%)         0.142\n",
       "56  1 (0.1%)            0.036\n",
       "57  0.5 (0.9)           NA   \n",
       "58  0.0 (0.0-1.0)       1    \n",
       "59  126 (14.4%)         NA   \n",
       "60  313 (35.8%)         0.116\n",
       "61  237 (27.1%)         NA   \n",
       "62  198 (22.7%)         NA   \n",
       "63  184 (21.1%)         NA   \n",
       "64  586 (67.0%)         0.813\n",
       "65  104 (11.9%)         NA   \n",
       "66  184 (21.1%)         NA   \n",
       "67  315 (36.0%)         0.884\n",
       "68  271 (31.0%)         NA   \n",
       "69  104 (11.9%)         NA   \n",
       "70  NA                  NA   \n",
       "71  NA                  0    "
      ]
     },
     "metadata": {},
     "output_type": "display_data"
    }
   ],
   "source": [
    "tab1"
   ]
  },
  {
   "cell_type": "code",
   "execution_count": 71,
   "metadata": {},
   "outputs": [],
   "source": [
    "write.csv(test,\"C:\\\\Users\\\\Mayer\\\\Documents\\\\DataScience\\\\project\\\\Noshows\\\\NoShowTest.csv\",row.names = FALSE)"
   ]
  },
  {
   "cell_type": "markdown",
   "metadata": {},
   "source": [
    "## Train and Dev"
   ]
  },
  {
   "cell_type": "code",
   "execution_count": 27,
   "metadata": {},
   "outputs": [
    {
     "name": "stderr",
     "output_type": "stream",
     "text": [
      "Dataset partitioned into:\n",
      "\n",
      " + Train dataset: train\n",
      "\n",
      " + Test dataset: dev\n",
      "\n",
      "Warning message in Table1(data = df, y = \"traintest_ind_\", messages = FALSE):\n",
      "\"The following variables have unique values and will not be included in the analysis: \"\n"
     ]
    },
    {
     "name": "stdout",
     "output_type": "stream",
     "text": [
      "  |======================================================================| 100%"
     ]
    },
    {
     "name": "stderr",
     "output_type": "stream",
     "text": [
      "Warning message in `[<-.factor`(`*tmp*`, iseq, value = \"1\"):\n",
      "\"invalid factor level, NA generated\"\n",
      "Warning message:\n",
      "\"Column `Del` joining character vector and factor, coercing into character vector\"\n",
      "Warning message:\n",
      "\"Column `V1` joining character vector and factor, coercing into character vector\"\n",
      "Warning message:\n",
      "\"Column `V2` joining character vector and factor, coercing into character vector\"\n",
      "Warning message:\n",
      "\"Column `n` joining character vector and factor, coercing into character vector\"\n"
     ]
    },
    {
     "name": "stdout",
     "output_type": "stream",
     "text": [
      "  |======================================================================| 100%"
     ]
    },
    {
     "name": "stderr",
     "output_type": "stream",
     "text": [
      "Warning message in `[<-.factor`(`*tmp*`, iseq, value = \"2\"):\n",
      "\"invalid factor level, NA generated\"\n",
      "Warning message:\n",
      "\"Column `Del` joining character vector and factor, coercing into character vector\"\n",
      "Warning message:\n",
      "\"Column `V1` joining character vector and factor, coercing into character vector\"\n",
      "Warning message:\n",
      "\"Column `V2` joining character vector and factor, coercing into character vector\"\n",
      "Warning message:\n",
      "\"Column `n` joining character vector and factor, coercing into character vector\"\n"
     ]
    },
    {
     "name": "stdout",
     "output_type": "stream",
     "text": [
      "  |===================================================================== |  98%"
     ]
    },
    {
     "name": "stderr",
     "output_type": "stream",
     "text": [
      "Warning message:\n",
      "\"Column `V1` joining character vector and factor, coercing into character vector\"\n",
      "Warning message:\n",
      "\"Column `n` joining character vector and factor, coercing into character vector\"\n",
      "Warning message in Ops.factor(pval, 0.05):\n",
      "\"'<' not meaningful for factors\"\n",
      " \n",
      "\n",
      "You got a perfectly balanced training and test datasets\n",
      "\n",
      " \n",
      "\n"
     ]
    }
   ],
   "source": [
    "tab2 <- train_test(data = temp, train_name = \"train\", test_name = \"dev\",prop = 0.7, seed = 123, tableone=T)"
   ]
  },
  {
   "cell_type": "code",
   "execution_count": 28,
   "metadata": {},
   "outputs": [
    {
     "data": {
      "text/html": [
       "<style>\n",
       ".list-inline {list-style: none; margin:0; padding: 0}\n",
       ".list-inline>li {display: inline-block}\n",
       ".list-inline>li:not(:last-child)::after {content: \"\\00b7\"; padding: 0 .5ex}\n",
       "</style>\n",
       "<ol class=list-inline><li>916</li><li>61</li></ol>\n"
      ],
      "text/latex": [
       "\\begin{enumerate*}\n",
       "\\item 916\n",
       "\\item 61\n",
       "\\end{enumerate*}\n"
      ],
      "text/markdown": [
       "1. 916\n",
       "2. 61\n",
       "\n",
       "\n"
      ],
      "text/plain": [
       "[1] 916  61"
      ]
     },
     "metadata": {},
     "output_type": "display_data"
    },
    {
     "data": {
      "text/html": [
       "<style>\n",
       ".list-inline {list-style: none; margin:0; padding: 0}\n",
       ".list-inline>li {display: inline-block}\n",
       ".list-inline>li:not(:last-child)::after {content: \"\\00b7\"; padding: 0 .5ex}\n",
       "</style>\n",
       "<ol class=list-inline><li>394</li><li>61</li></ol>\n"
      ],
      "text/latex": [
       "\\begin{enumerate*}\n",
       "\\item 394\n",
       "\\item 61\n",
       "\\end{enumerate*}\n"
      ],
      "text/markdown": [
       "1. 394\n",
       "2. 61\n",
       "\n",
       "\n"
      ],
      "text/plain": [
       "[1] 394  61"
      ]
     },
     "metadata": {},
     "output_type": "display_data"
    }
   ],
   "source": [
    "dim(train)\n",
    "dim(dev)"
   ]
  },
  {
   "cell_type": "code",
   "execution_count": 29,
   "metadata": {},
   "outputs": [
    {
     "data": {
      "text/html": [
       "<table>\n",
       "<caption>A tibble: 73 × 6</caption>\n",
       "<thead>\n",
       "\t<tr><th scope=col>V1</th><th scope=col>V2</th><th scope=col>Pop</th><th scope=col>1</th><th scope=col>2</th><th scope=col>pval</th></tr>\n",
       "\t<tr><th scope=col>&lt;chr&gt;</th><th scope=col>&lt;chr&gt;</th><th scope=col>&lt;chr&gt;</th><th scope=col>&lt;fct&gt;</th><th scope=col>&lt;fct&gt;</th><th scope=col>&lt;fct&gt;</th></tr>\n",
       "</thead>\n",
       "<tbody>\n",
       "\t<tr><td>Individuals   </td><td>n           </td><td>1310               </td><td>916                </td><td>394                </td><td>NA   </td></tr>\n",
       "\t<tr><td>NoShow        </td><td>1           </td><td>107 (8.2%)         </td><td>75 (8.2%)          </td><td>32 (8.1%)          </td><td>1    </td></tr>\n",
       "\t<tr><td>sunday        </td><td>1           </td><td>38 (2.9%)          </td><td>28 (3.1%)          </td><td>10 (2.5%)          </td><td>0.739</td></tr>\n",
       "\t<tr><td>monday        </td><td>1           </td><td>1 (0.1%)           </td><td>0 (0.0%)           </td><td>1 (0.3%)           </td><td>0.301</td></tr>\n",
       "\t<tr><td>saturday      </td><td>1           </td><td>259 (19.8%)        </td><td>180 (19.7%)        </td><td>79 (20.1%)         </td><td>0.927</td></tr>\n",
       "\t<tr><td>time_booked   </td><td>Mean (SD)   </td><td>805.4 (174.7)      </td><td>801.3 (176.0)      </td><td>815.2 (171.4)      </td><td>NA   </td></tr>\n",
       "\t<tr><td>time_booked   </td><td>Median (IQR)</td><td>800.0 (660.0-950.0)</td><td>780.0 (660.0-940.0)</td><td>810.0 (660.0-960.0)</td><td>0.186</td></tr>\n",
       "\t<tr><td>cancel_days_1 </td><td>1           </td><td>82 (6.3%)          </td><td>60 (6.6%)          </td><td>22 (5.6%)          </td><td>0.591</td></tr>\n",
       "\t<tr><td>cancel_days_2 </td><td>1           </td><td>24 (1.8%)          </td><td>14 (1.5%)          </td><td>10 (2.5%)          </td><td>0.305</td></tr>\n",
       "\t<tr><td>cancel_days_3 </td><td>1           </td><td>13 (1.0%)          </td><td>10 (1.1%)          </td><td>3 (0.8%)           </td><td>0.58 </td></tr>\n",
       "\t<tr><td>cancel_days_4 </td><td>1           </td><td>11 (0.8%)          </td><td>9 (1.0%)           </td><td>2 (0.5%)           </td><td>0.388</td></tr>\n",
       "\t<tr><td>cancel_days_5 </td><td>1           </td><td>20 (1.5%)          </td><td>15 (1.6%)          </td><td>5 (1.3%)           </td><td>0.618</td></tr>\n",
       "\t<tr><td>cancel_days_6 </td><td>1           </td><td>31 (2.4%)          </td><td>18 (2.0%)          </td><td>13 (3.3%)          </td><td>0.208</td></tr>\n",
       "\t<tr><td>cancel_days_7 </td><td>1           </td><td>1,129 (86.2%)      </td><td>790 (86.2%)        </td><td>339 (86.0%)        </td><td>0.991</td></tr>\n",
       "\t<tr><td>service_CAL   </td><td>1           </td><td>1 (0.1%)           </td><td>1 (0.1%)           </td><td>0 (0.0%)           </td><td>1    </td></tr>\n",
       "\t<tr><td>service_CALC  </td><td>1           </td><td>26 (2.0%)          </td><td>20 (2.2%)          </td><td>6 (1.5%)           </td><td>0.569</td></tr>\n",
       "\t<tr><td>service_CAS   </td><td>1           </td><td>1 (0.1%)           </td><td>1 (0.1%)           </td><td>0 (0.0%)           </td><td>1    </td></tr>\n",
       "\t<tr><td>service_CBAL  </td><td>1           </td><td>13 (1.0%)          </td><td>11 (1.2%)          </td><td>2 (0.5%)           </td><td>0.246</td></tr>\n",
       "\t<tr><td>service_CCAMO </td><td>1           </td><td>13 (1.0%)          </td><td>9 (1.0%)           </td><td>4 (1.0%)           </td><td>0.956</td></tr>\n",
       "\t<tr><td>service_CCO   </td><td>1           </td><td>2 (0.2%)           </td><td>2 (0.2%)           </td><td>0 (0.0%)           </td><td>1    </td></tr>\n",
       "\t<tr><td>service_CDPB  </td><td>1           </td><td>8 (0.6%)           </td><td>4 (0.4%)           </td><td>4 (1.0%)           </td><td>0.218</td></tr>\n",
       "\t<tr><td>service_CHLFH </td><td>1           </td><td>8 (0.6%)           </td><td>5 (0.5%)           </td><td>3 (0.8%)           </td><td>0.646</td></tr>\n",
       "\t<tr><td>service_CHLFHC</td><td>1           </td><td>1 (0.1%)           </td><td>1 (0.1%)           </td><td>0 (0.0%)           </td><td>1    </td></tr>\n",
       "\t<tr><td>service_CHLHH </td><td>1           </td><td>3 (0.2%)           </td><td>1 (0.1%)           </td><td>2 (0.5%)           </td><td>0.167</td></tr>\n",
       "\t<tr><td>service_CHLHHC</td><td>1           </td><td>1 (0.1%)           </td><td>0 (0.0%)           </td><td>1 (0.3%)           </td><td>0.301</td></tr>\n",
       "\t<tr><td>service_CHLPHC</td><td>1           </td><td>12 (0.9%)          </td><td>7 (0.8%)           </td><td>5 (1.3%)           </td><td>0.379</td></tr>\n",
       "\t<tr><td>service_CHLPL </td><td>1           </td><td>28 (2.1%)          </td><td>19 (2.1%)          </td><td>9 (2.3%)           </td><td>0.974</td></tr>\n",
       "\t<tr><td>service_CMT   </td><td>1           </td><td>9 (0.7%)           </td><td>7 (0.8%)           </td><td>2 (0.5%)           </td><td>0.606</td></tr>\n",
       "\t<tr><td>service_CON   </td><td>1           </td><td>50 (3.8%)          </td><td>36 (3.9%)          </td><td>14 (3.6%)          </td><td>0.866</td></tr>\n",
       "\t<tr><td>service_CT    </td><td>1           </td><td>7 (0.5%)           </td><td>3 (0.3%)           </td><td>4 (1.0%)           </td><td>0.118</td></tr>\n",
       "\t<tr><td>...</td><td>...</td><td>...</td><td>...</td><td>...</td><td>...</td></tr>\n",
       "\t<tr><td>staff_JJ          </td><td>1           </td><td>495 (37.8%)   </td><td>347 (37.9%)  </td><td>148 (37.6%)  </td><td>0.963</td></tr>\n",
       "\t<tr><td>staff_KELLY       </td><td>1           </td><td>185 (14.1%)   </td><td>119 (13.0%)  </td><td>66 (16.8%)   </td><td>0.088</td></tr>\n",
       "\t<tr><td>Canceled_By_BECKY </td><td>1           </td><td>20 (1.5%)     </td><td>14 (1.5%)    </td><td>6 (1.5%)     </td><td>1    </td></tr>\n",
       "\t<tr><td>Canceled_By_HOUSE </td><td>0           </td><td>1,310 (100.0%)</td><td>916 (100.0%) </td><td>394 (100.0%) </td><td>NA   </td></tr>\n",
       "\t<tr><td>Canceled_By_JJ    </td><td>1           </td><td>71 (5.4%)     </td><td>52 (5.7%)    </td><td>19 (4.8%)    </td><td>0.622</td></tr>\n",
       "\t<tr><td>Canceled_By_JOANNE</td><td>1           </td><td>14 (1.1%)     </td><td>10 (1.1%)    </td><td>4 (1.0%)     </td><td>0.902</td></tr>\n",
       "\t<tr><td>Canceled_By_KELLY </td><td>1           </td><td>20 (1.5%)     </td><td>12 (1.3%)    </td><td>8 (2.0%)     </td><td>0.466</td></tr>\n",
       "\t<tr><td>Canceled_By_SINEAD</td><td>1           </td><td>11 (0.8%)     </td><td>5 (0.5%)     </td><td>6 (1.5%)     </td><td>0.076</td></tr>\n",
       "\t<tr><td>quantity_1        </td><td>1           </td><td>1 (0.1%)      </td><td>1 (0.1%)     </td><td>0 (0.0%)     </td><td>1    </td></tr>\n",
       "\t<tr><td>quantity_2        </td><td>1           </td><td>668 (51.0%)   </td><td>481 (52.5%)  </td><td>187 (47.5%)  </td><td>0.106</td></tr>\n",
       "\t<tr><td>quantity_3        </td><td>1           </td><td>280 (21.4%)   </td><td>194 (21.2%)  </td><td>86 (21.8%)   </td><td>0.85 </td></tr>\n",
       "\t<tr><td>quantity_5        </td><td>1           </td><td>9 (0.7%)      </td><td>6 (0.7%)     </td><td>3 (0.8%)     </td><td>0.831</td></tr>\n",
       "\t<tr><td>quantity_6        </td><td>1           </td><td>11 (0.8%)     </td><td>6 (0.7%)     </td><td>5 (1.3%)     </td><td>0.264</td></tr>\n",
       "\t<tr><td>quantity_7        </td><td>1           </td><td>283 (21.6%)   </td><td>190 (20.7%)  </td><td>93 (23.6%)   </td><td>0.28 </td></tr>\n",
       "\t<tr><td>amount            </td><td>Mean (SD)   </td><td>4.0 (1.4)     </td><td>4.0 (1.4)    </td><td>4.0 (1.4)    </td><td>NA   </td></tr>\n",
       "\t<tr><td>amount            </td><td>Median (IQR)</td><td>4.3 (3.9-4.7) </td><td>4.3 (3.9-4.6)</td><td>4.3 (3.9-4.8)</td><td>0.911</td></tr>\n",
       "\t<tr><td>avg_receipt_4     </td><td>1           </td><td>237 (18.1%)   </td><td>157 (17.1%)  </td><td>80 (20.3%)   </td><td>0.198</td></tr>\n",
       "\t<tr><td>avg_quantity_5    </td><td>1           </td><td>10 (0.8%)     </td><td>7 (0.8%)     </td><td>3 (0.8%)     </td><td>0.996</td></tr>\n",
       "\t<tr><td>total_cancel12    </td><td>Mean (SD)   </td><td>0.7 (1.1)     </td><td>0.7 (1.1)    </td><td>0.7 (1.0)    </td><td>NA   </td></tr>\n",
       "\t<tr><td>total_cancel12    </td><td>Median (IQR)</td><td>0.0 (0.0-1.1) </td><td>0.0 (0.0-1.1)</td><td>0.0 (0.0-1.1)</td><td>0.658</td></tr>\n",
       "\t<tr><td>hclust4           </td><td>1           </td><td>457 (34.9%)   </td><td>331 (36.1%)  </td><td>126 (32.0%)  </td><td>NA   </td></tr>\n",
       "\t<tr><td>hclust4           </td><td>2           </td><td>228 (17.4%)   </td><td>162 (17.7%)  </td><td>66 (16.8%)   </td><td>0.134</td></tr>\n",
       "\t<tr><td>hclust4           </td><td>3           </td><td>477 (36.4%)   </td><td>315 (34.4%)  </td><td>162 (41.1%)  </td><td>NA   </td></tr>\n",
       "\t<tr><td>hclust4           </td><td>4           </td><td>148 (11.3%)   </td><td>108 (11.8%)  </td><td>40 (10.2%)   </td><td>NA   </td></tr>\n",
       "\t<tr><td>Mclust4           </td><td>1           </td><td>266 (20.3%)   </td><td>183 (20.0%)  </td><td>83 (21.1%)   </td><td>NA   </td></tr>\n",
       "\t<tr><td>Mclust4           </td><td>2           </td><td>349 (26.6%)   </td><td>237 (25.9%)  </td><td>112 (28.4%)  </td><td>0.368</td></tr>\n",
       "\t<tr><td>Mclust4           </td><td>3           </td><td>274 (20.9%)   </td><td>188 (20.5%)  </td><td>86 (21.8%)   </td><td>NA   </td></tr>\n",
       "\t<tr><td>Mclust4           </td><td>4           </td><td>421 (32.1%)   </td><td>308 (33.6%)  </td><td>113 (28.7%)  </td><td>NA   </td></tr>\n",
       "\t<tr><td>traintest_ind_    </td><td>Mean (SD)   </td><td>1.3 (0.5)     </td><td>NA           </td><td>NA           </td><td>NA   </td></tr>\n",
       "\t<tr><td>traintest_ind_    </td><td>Median (IQR)</td><td>1.0 (1.0-2.0) </td><td>NA           </td><td>NA           </td><td>0    </td></tr>\n",
       "</tbody>\n",
       "</table>\n"
      ],
      "text/latex": [
       "A tibble: 73 × 6\n",
       "\\begin{tabular}{llllll}\n",
       " V1 & V2 & Pop & 1 & 2 & pval\\\\\n",
       " <chr> & <chr> & <chr> & <fct> & <fct> & <fct>\\\\\n",
       "\\hline\n",
       "\t Individuals    & n            & 1310                & 916                 & 394                 & NA   \\\\\n",
       "\t NoShow         & 1            & 107 (8.2\\%)          & 75 (8.2\\%)           & 32 (8.1\\%)           & 1    \\\\\n",
       "\t sunday         & 1            & 38 (2.9\\%)           & 28 (3.1\\%)           & 10 (2.5\\%)           & 0.739\\\\\n",
       "\t monday         & 1            & 1 (0.1\\%)            & 0 (0.0\\%)            & 1 (0.3\\%)            & 0.301\\\\\n",
       "\t saturday       & 1            & 259 (19.8\\%)         & 180 (19.7\\%)         & 79 (20.1\\%)          & 0.927\\\\\n",
       "\t time\\_booked    & Mean (SD)    & 805.4 (174.7)       & 801.3 (176.0)       & 815.2 (171.4)       & NA   \\\\\n",
       "\t time\\_booked    & Median (IQR) & 800.0 (660.0-950.0) & 780.0 (660.0-940.0) & 810.0 (660.0-960.0) & 0.186\\\\\n",
       "\t cancel\\_days\\_1  & 1            & 82 (6.3\\%)           & 60 (6.6\\%)           & 22 (5.6\\%)           & 0.591\\\\\n",
       "\t cancel\\_days\\_2  & 1            & 24 (1.8\\%)           & 14 (1.5\\%)           & 10 (2.5\\%)           & 0.305\\\\\n",
       "\t cancel\\_days\\_3  & 1            & 13 (1.0\\%)           & 10 (1.1\\%)           & 3 (0.8\\%)            & 0.58 \\\\\n",
       "\t cancel\\_days\\_4  & 1            & 11 (0.8\\%)           & 9 (1.0\\%)            & 2 (0.5\\%)            & 0.388\\\\\n",
       "\t cancel\\_days\\_5  & 1            & 20 (1.5\\%)           & 15 (1.6\\%)           & 5 (1.3\\%)            & 0.618\\\\\n",
       "\t cancel\\_days\\_6  & 1            & 31 (2.4\\%)           & 18 (2.0\\%)           & 13 (3.3\\%)           & 0.208\\\\\n",
       "\t cancel\\_days\\_7  & 1            & 1,129 (86.2\\%)       & 790 (86.2\\%)         & 339 (86.0\\%)         & 0.991\\\\\n",
       "\t service\\_CAL    & 1            & 1 (0.1\\%)            & 1 (0.1\\%)            & 0 (0.0\\%)            & 1    \\\\\n",
       "\t service\\_CALC   & 1            & 26 (2.0\\%)           & 20 (2.2\\%)           & 6 (1.5\\%)            & 0.569\\\\\n",
       "\t service\\_CAS    & 1            & 1 (0.1\\%)            & 1 (0.1\\%)            & 0 (0.0\\%)            & 1    \\\\\n",
       "\t service\\_CBAL   & 1            & 13 (1.0\\%)           & 11 (1.2\\%)           & 2 (0.5\\%)            & 0.246\\\\\n",
       "\t service\\_CCAMO  & 1            & 13 (1.0\\%)           & 9 (1.0\\%)            & 4 (1.0\\%)            & 0.956\\\\\n",
       "\t service\\_CCO    & 1            & 2 (0.2\\%)            & 2 (0.2\\%)            & 0 (0.0\\%)            & 1    \\\\\n",
       "\t service\\_CDPB   & 1            & 8 (0.6\\%)            & 4 (0.4\\%)            & 4 (1.0\\%)            & 0.218\\\\\n",
       "\t service\\_CHLFH  & 1            & 8 (0.6\\%)            & 5 (0.5\\%)            & 3 (0.8\\%)            & 0.646\\\\\n",
       "\t service\\_CHLFHC & 1            & 1 (0.1\\%)            & 1 (0.1\\%)            & 0 (0.0\\%)            & 1    \\\\\n",
       "\t service\\_CHLHH  & 1            & 3 (0.2\\%)            & 1 (0.1\\%)            & 2 (0.5\\%)            & 0.167\\\\\n",
       "\t service\\_CHLHHC & 1            & 1 (0.1\\%)            & 0 (0.0\\%)            & 1 (0.3\\%)            & 0.301\\\\\n",
       "\t service\\_CHLPHC & 1            & 12 (0.9\\%)           & 7 (0.8\\%)            & 5 (1.3\\%)            & 0.379\\\\\n",
       "\t service\\_CHLPL  & 1            & 28 (2.1\\%)           & 19 (2.1\\%)           & 9 (2.3\\%)            & 0.974\\\\\n",
       "\t service\\_CMT    & 1            & 9 (0.7\\%)            & 7 (0.8\\%)            & 2 (0.5\\%)            & 0.606\\\\\n",
       "\t service\\_CON    & 1            & 50 (3.8\\%)           & 36 (3.9\\%)           & 14 (3.6\\%)           & 0.866\\\\\n",
       "\t service\\_CT     & 1            & 7 (0.5\\%)            & 3 (0.3\\%)            & 4 (1.0\\%)            & 0.118\\\\\n",
       "\t ... & ... & ... & ... & ... & ...\\\\\n",
       "\t staff\\_JJ           & 1            & 495 (37.8\\%)    & 347 (37.9\\%)   & 148 (37.6\\%)   & 0.963\\\\\n",
       "\t staff\\_KELLY        & 1            & 185 (14.1\\%)    & 119 (13.0\\%)   & 66 (16.8\\%)    & 0.088\\\\\n",
       "\t Canceled\\_By\\_BECKY  & 1            & 20 (1.5\\%)      & 14 (1.5\\%)     & 6 (1.5\\%)      & 1    \\\\\n",
       "\t Canceled\\_By\\_HOUSE  & 0            & 1,310 (100.0\\%) & 916 (100.0\\%)  & 394 (100.0\\%)  & NA   \\\\\n",
       "\t Canceled\\_By\\_JJ     & 1            & 71 (5.4\\%)      & 52 (5.7\\%)     & 19 (4.8\\%)     & 0.622\\\\\n",
       "\t Canceled\\_By\\_JOANNE & 1            & 14 (1.1\\%)      & 10 (1.1\\%)     & 4 (1.0\\%)      & 0.902\\\\\n",
       "\t Canceled\\_By\\_KELLY  & 1            & 20 (1.5\\%)      & 12 (1.3\\%)     & 8 (2.0\\%)      & 0.466\\\\\n",
       "\t Canceled\\_By\\_SINEAD & 1            & 11 (0.8\\%)      & 5 (0.5\\%)      & 6 (1.5\\%)      & 0.076\\\\\n",
       "\t quantity\\_1         & 1            & 1 (0.1\\%)       & 1 (0.1\\%)      & 0 (0.0\\%)      & 1    \\\\\n",
       "\t quantity\\_2         & 1            & 668 (51.0\\%)    & 481 (52.5\\%)   & 187 (47.5\\%)   & 0.106\\\\\n",
       "\t quantity\\_3         & 1            & 280 (21.4\\%)    & 194 (21.2\\%)   & 86 (21.8\\%)    & 0.85 \\\\\n",
       "\t quantity\\_5         & 1            & 9 (0.7\\%)       & 6 (0.7\\%)      & 3 (0.8\\%)      & 0.831\\\\\n",
       "\t quantity\\_6         & 1            & 11 (0.8\\%)      & 6 (0.7\\%)      & 5 (1.3\\%)      & 0.264\\\\\n",
       "\t quantity\\_7         & 1            & 283 (21.6\\%)    & 190 (20.7\\%)   & 93 (23.6\\%)    & 0.28 \\\\\n",
       "\t amount             & Mean (SD)    & 4.0 (1.4)      & 4.0 (1.4)     & 4.0 (1.4)     & NA   \\\\\n",
       "\t amount             & Median (IQR) & 4.3 (3.9-4.7)  & 4.3 (3.9-4.6) & 4.3 (3.9-4.8) & 0.911\\\\\n",
       "\t avg\\_receipt\\_4      & 1            & 237 (18.1\\%)    & 157 (17.1\\%)   & 80 (20.3\\%)    & 0.198\\\\\n",
       "\t avg\\_quantity\\_5     & 1            & 10 (0.8\\%)      & 7 (0.8\\%)      & 3 (0.8\\%)      & 0.996\\\\\n",
       "\t total\\_cancel12     & Mean (SD)    & 0.7 (1.1)      & 0.7 (1.1)     & 0.7 (1.0)     & NA   \\\\\n",
       "\t total\\_cancel12     & Median (IQR) & 0.0 (0.0-1.1)  & 0.0 (0.0-1.1) & 0.0 (0.0-1.1) & 0.658\\\\\n",
       "\t hclust4            & 1            & 457 (34.9\\%)    & 331 (36.1\\%)   & 126 (32.0\\%)   & NA   \\\\\n",
       "\t hclust4            & 2            & 228 (17.4\\%)    & 162 (17.7\\%)   & 66 (16.8\\%)    & 0.134\\\\\n",
       "\t hclust4            & 3            & 477 (36.4\\%)    & 315 (34.4\\%)   & 162 (41.1\\%)   & NA   \\\\\n",
       "\t hclust4            & 4            & 148 (11.3\\%)    & 108 (11.8\\%)   & 40 (10.2\\%)    & NA   \\\\\n",
       "\t Mclust4            & 1            & 266 (20.3\\%)    & 183 (20.0\\%)   & 83 (21.1\\%)    & NA   \\\\\n",
       "\t Mclust4            & 2            & 349 (26.6\\%)    & 237 (25.9\\%)   & 112 (28.4\\%)   & 0.368\\\\\n",
       "\t Mclust4            & 3            & 274 (20.9\\%)    & 188 (20.5\\%)   & 86 (21.8\\%)    & NA   \\\\\n",
       "\t Mclust4            & 4            & 421 (32.1\\%)    & 308 (33.6\\%)   & 113 (28.7\\%)   & NA   \\\\\n",
       "\t traintest\\_ind\\_     & Mean (SD)    & 1.3 (0.5)      & NA            & NA            & NA   \\\\\n",
       "\t traintest\\_ind\\_     & Median (IQR) & 1.0 (1.0-2.0)  & NA            & NA            & 0    \\\\\n",
       "\\end{tabular}\n"
      ],
      "text/markdown": [
       "\n",
       "A tibble: 73 × 6\n",
       "\n",
       "| V1 &lt;chr&gt; | V2 &lt;chr&gt; | Pop &lt;chr&gt; | 1 &lt;fct&gt; | 2 &lt;fct&gt; | pval &lt;fct&gt; |\n",
       "|---|---|---|---|---|---|\n",
       "| Individuals    | n            | 1310                | 916                 | 394                 | NA    |\n",
       "| NoShow         | 1            | 107 (8.2%)          | 75 (8.2%)           | 32 (8.1%)           | 1     |\n",
       "| sunday         | 1            | 38 (2.9%)           | 28 (3.1%)           | 10 (2.5%)           | 0.739 |\n",
       "| monday         | 1            | 1 (0.1%)            | 0 (0.0%)            | 1 (0.3%)            | 0.301 |\n",
       "| saturday       | 1            | 259 (19.8%)         | 180 (19.7%)         | 79 (20.1%)          | 0.927 |\n",
       "| time_booked    | Mean (SD)    | 805.4 (174.7)       | 801.3 (176.0)       | 815.2 (171.4)       | NA    |\n",
       "| time_booked    | Median (IQR) | 800.0 (660.0-950.0) | 780.0 (660.0-940.0) | 810.0 (660.0-960.0) | 0.186 |\n",
       "| cancel_days_1  | 1            | 82 (6.3%)           | 60 (6.6%)           | 22 (5.6%)           | 0.591 |\n",
       "| cancel_days_2  | 1            | 24 (1.8%)           | 14 (1.5%)           | 10 (2.5%)           | 0.305 |\n",
       "| cancel_days_3  | 1            | 13 (1.0%)           | 10 (1.1%)           | 3 (0.8%)            | 0.58  |\n",
       "| cancel_days_4  | 1            | 11 (0.8%)           | 9 (1.0%)            | 2 (0.5%)            | 0.388 |\n",
       "| cancel_days_5  | 1            | 20 (1.5%)           | 15 (1.6%)           | 5 (1.3%)            | 0.618 |\n",
       "| cancel_days_6  | 1            | 31 (2.4%)           | 18 (2.0%)           | 13 (3.3%)           | 0.208 |\n",
       "| cancel_days_7  | 1            | 1,129 (86.2%)       | 790 (86.2%)         | 339 (86.0%)         | 0.991 |\n",
       "| service_CAL    | 1            | 1 (0.1%)            | 1 (0.1%)            | 0 (0.0%)            | 1     |\n",
       "| service_CALC   | 1            | 26 (2.0%)           | 20 (2.2%)           | 6 (1.5%)            | 0.569 |\n",
       "| service_CAS    | 1            | 1 (0.1%)            | 1 (0.1%)            | 0 (0.0%)            | 1     |\n",
       "| service_CBAL   | 1            | 13 (1.0%)           | 11 (1.2%)           | 2 (0.5%)            | 0.246 |\n",
       "| service_CCAMO  | 1            | 13 (1.0%)           | 9 (1.0%)            | 4 (1.0%)            | 0.956 |\n",
       "| service_CCO    | 1            | 2 (0.2%)            | 2 (0.2%)            | 0 (0.0%)            | 1     |\n",
       "| service_CDPB   | 1            | 8 (0.6%)            | 4 (0.4%)            | 4 (1.0%)            | 0.218 |\n",
       "| service_CHLFH  | 1            | 8 (0.6%)            | 5 (0.5%)            | 3 (0.8%)            | 0.646 |\n",
       "| service_CHLFHC | 1            | 1 (0.1%)            | 1 (0.1%)            | 0 (0.0%)            | 1     |\n",
       "| service_CHLHH  | 1            | 3 (0.2%)            | 1 (0.1%)            | 2 (0.5%)            | 0.167 |\n",
       "| service_CHLHHC | 1            | 1 (0.1%)            | 0 (0.0%)            | 1 (0.3%)            | 0.301 |\n",
       "| service_CHLPHC | 1            | 12 (0.9%)           | 7 (0.8%)            | 5 (1.3%)            | 0.379 |\n",
       "| service_CHLPL  | 1            | 28 (2.1%)           | 19 (2.1%)           | 9 (2.3%)            | 0.974 |\n",
       "| service_CMT    | 1            | 9 (0.7%)            | 7 (0.8%)            | 2 (0.5%)            | 0.606 |\n",
       "| service_CON    | 1            | 50 (3.8%)           | 36 (3.9%)           | 14 (3.6%)           | 0.866 |\n",
       "| service_CT     | 1            | 7 (0.5%)            | 3 (0.3%)            | 4 (1.0%)            | 0.118 |\n",
       "| ... | ... | ... | ... | ... | ... |\n",
       "| staff_JJ           | 1            | 495 (37.8%)    | 347 (37.9%)   | 148 (37.6%)   | 0.963 |\n",
       "| staff_KELLY        | 1            | 185 (14.1%)    | 119 (13.0%)   | 66 (16.8%)    | 0.088 |\n",
       "| Canceled_By_BECKY  | 1            | 20 (1.5%)      | 14 (1.5%)     | 6 (1.5%)      | 1     |\n",
       "| Canceled_By_HOUSE  | 0            | 1,310 (100.0%) | 916 (100.0%)  | 394 (100.0%)  | NA    |\n",
       "| Canceled_By_JJ     | 1            | 71 (5.4%)      | 52 (5.7%)     | 19 (4.8%)     | 0.622 |\n",
       "| Canceled_By_JOANNE | 1            | 14 (1.1%)      | 10 (1.1%)     | 4 (1.0%)      | 0.902 |\n",
       "| Canceled_By_KELLY  | 1            | 20 (1.5%)      | 12 (1.3%)     | 8 (2.0%)      | 0.466 |\n",
       "| Canceled_By_SINEAD | 1            | 11 (0.8%)      | 5 (0.5%)      | 6 (1.5%)      | 0.076 |\n",
       "| quantity_1         | 1            | 1 (0.1%)       | 1 (0.1%)      | 0 (0.0%)      | 1     |\n",
       "| quantity_2         | 1            | 668 (51.0%)    | 481 (52.5%)   | 187 (47.5%)   | 0.106 |\n",
       "| quantity_3         | 1            | 280 (21.4%)    | 194 (21.2%)   | 86 (21.8%)    | 0.85  |\n",
       "| quantity_5         | 1            | 9 (0.7%)       | 6 (0.7%)      | 3 (0.8%)      | 0.831 |\n",
       "| quantity_6         | 1            | 11 (0.8%)      | 6 (0.7%)      | 5 (1.3%)      | 0.264 |\n",
       "| quantity_7         | 1            | 283 (21.6%)    | 190 (20.7%)   | 93 (23.6%)    | 0.28  |\n",
       "| amount             | Mean (SD)    | 4.0 (1.4)      | 4.0 (1.4)     | 4.0 (1.4)     | NA    |\n",
       "| amount             | Median (IQR) | 4.3 (3.9-4.7)  | 4.3 (3.9-4.6) | 4.3 (3.9-4.8) | 0.911 |\n",
       "| avg_receipt_4      | 1            | 237 (18.1%)    | 157 (17.1%)   | 80 (20.3%)    | 0.198 |\n",
       "| avg_quantity_5     | 1            | 10 (0.8%)      | 7 (0.8%)      | 3 (0.8%)      | 0.996 |\n",
       "| total_cancel12     | Mean (SD)    | 0.7 (1.1)      | 0.7 (1.1)     | 0.7 (1.0)     | NA    |\n",
       "| total_cancel12     | Median (IQR) | 0.0 (0.0-1.1)  | 0.0 (0.0-1.1) | 0.0 (0.0-1.1) | 0.658 |\n",
       "| hclust4            | 1            | 457 (34.9%)    | 331 (36.1%)   | 126 (32.0%)   | NA    |\n",
       "| hclust4            | 2            | 228 (17.4%)    | 162 (17.7%)   | 66 (16.8%)    | 0.134 |\n",
       "| hclust4            | 3            | 477 (36.4%)    | 315 (34.4%)   | 162 (41.1%)   | NA    |\n",
       "| hclust4            | 4            | 148 (11.3%)    | 108 (11.8%)   | 40 (10.2%)    | NA    |\n",
       "| Mclust4            | 1            | 266 (20.3%)    | 183 (20.0%)   | 83 (21.1%)    | NA    |\n",
       "| Mclust4            | 2            | 349 (26.6%)    | 237 (25.9%)   | 112 (28.4%)   | 0.368 |\n",
       "| Mclust4            | 3            | 274 (20.9%)    | 188 (20.5%)   | 86 (21.8%)    | NA    |\n",
       "| Mclust4            | 4            | 421 (32.1%)    | 308 (33.6%)   | 113 (28.7%)   | NA    |\n",
       "| traintest_ind_     | Mean (SD)    | 1.3 (0.5)      | NA            | NA            | NA    |\n",
       "| traintest_ind_     | Median (IQR) | 1.0 (1.0-2.0)  | NA            | NA            | 0     |\n",
       "\n"
      ],
      "text/plain": [
       "    V1                 V2           Pop                 1                  \n",
       "1   Individuals        n            1310                916                \n",
       "2   NoShow             1            107 (8.2%)          75 (8.2%)          \n",
       "3   sunday             1            38 (2.9%)           28 (3.1%)          \n",
       "4   monday             1            1 (0.1%)            0 (0.0%)           \n",
       "5   saturday           1            259 (19.8%)         180 (19.7%)        \n",
       "6   time_booked        Mean (SD)    805.4 (174.7)       801.3 (176.0)      \n",
       "7   time_booked        Median (IQR) 800.0 (660.0-950.0) 780.0 (660.0-940.0)\n",
       "8   cancel_days_1      1            82 (6.3%)           60 (6.6%)          \n",
       "9   cancel_days_2      1            24 (1.8%)           14 (1.5%)          \n",
       "10  cancel_days_3      1            13 (1.0%)           10 (1.1%)          \n",
       "11  cancel_days_4      1            11 (0.8%)           9 (1.0%)           \n",
       "12  cancel_days_5      1            20 (1.5%)           15 (1.6%)          \n",
       "13  cancel_days_6      1            31 (2.4%)           18 (2.0%)          \n",
       "14  cancel_days_7      1            1,129 (86.2%)       790 (86.2%)        \n",
       "15  service_CAL        1            1 (0.1%)            1 (0.1%)           \n",
       "16  service_CALC       1            26 (2.0%)           20 (2.2%)          \n",
       "17  service_CAS        1            1 (0.1%)            1 (0.1%)           \n",
       "18  service_CBAL       1            13 (1.0%)           11 (1.2%)          \n",
       "19  service_CCAMO      1            13 (1.0%)           9 (1.0%)           \n",
       "20  service_CCO        1            2 (0.2%)            2 (0.2%)           \n",
       "21  service_CDPB       1            8 (0.6%)            4 (0.4%)           \n",
       "22  service_CHLFH      1            8 (0.6%)            5 (0.5%)           \n",
       "23  service_CHLFHC     1            1 (0.1%)            1 (0.1%)           \n",
       "24  service_CHLHH      1            3 (0.2%)            1 (0.1%)           \n",
       "25  service_CHLHHC     1            1 (0.1%)            0 (0.0%)           \n",
       "26  service_CHLPHC     1            12 (0.9%)           7 (0.8%)           \n",
       "27  service_CHLPL      1            28 (2.1%)           19 (2.1%)          \n",
       "28  service_CMT        1            9 (0.7%)            7 (0.8%)           \n",
       "29  service_CON        1            50 (3.8%)           36 (3.9%)          \n",
       "30  service_CT         1            7 (0.5%)            3 (0.3%)           \n",
       "... ...                ...          ...                 ...                \n",
       "44  staff_JJ           1            495 (37.8%)         347 (37.9%)        \n",
       "45  staff_KELLY        1            185 (14.1%)         119 (13.0%)        \n",
       "46  Canceled_By_BECKY  1            20 (1.5%)           14 (1.5%)          \n",
       "47  Canceled_By_HOUSE  0            1,310 (100.0%)      916 (100.0%)       \n",
       "48  Canceled_By_JJ     1            71 (5.4%)           52 (5.7%)          \n",
       "49  Canceled_By_JOANNE 1            14 (1.1%)           10 (1.1%)          \n",
       "50  Canceled_By_KELLY  1            20 (1.5%)           12 (1.3%)          \n",
       "51  Canceled_By_SINEAD 1            11 (0.8%)           5 (0.5%)           \n",
       "52  quantity_1         1            1 (0.1%)            1 (0.1%)           \n",
       "53  quantity_2         1            668 (51.0%)         481 (52.5%)        \n",
       "54  quantity_3         1            280 (21.4%)         194 (21.2%)        \n",
       "55  quantity_5         1            9 (0.7%)            6 (0.7%)           \n",
       "56  quantity_6         1            11 (0.8%)           6 (0.7%)           \n",
       "57  quantity_7         1            283 (21.6%)         190 (20.7%)        \n",
       "58  amount             Mean (SD)    4.0 (1.4)           4.0 (1.4)          \n",
       "59  amount             Median (IQR) 4.3 (3.9-4.7)       4.3 (3.9-4.6)      \n",
       "60  avg_receipt_4      1            237 (18.1%)         157 (17.1%)        \n",
       "61  avg_quantity_5     1            10 (0.8%)           7 (0.8%)           \n",
       "62  total_cancel12     Mean (SD)    0.7 (1.1)           0.7 (1.1)          \n",
       "63  total_cancel12     Median (IQR) 0.0 (0.0-1.1)       0.0 (0.0-1.1)      \n",
       "64  hclust4            1            457 (34.9%)         331 (36.1%)        \n",
       "65  hclust4            2            228 (17.4%)         162 (17.7%)        \n",
       "66  hclust4            3            477 (36.4%)         315 (34.4%)        \n",
       "67  hclust4            4            148 (11.3%)         108 (11.8%)        \n",
       "68  Mclust4            1            266 (20.3%)         183 (20.0%)        \n",
       "69  Mclust4            2            349 (26.6%)         237 (25.9%)        \n",
       "70  Mclust4            3            274 (20.9%)         188 (20.5%)        \n",
       "71  Mclust4            4            421 (32.1%)         308 (33.6%)        \n",
       "72  traintest_ind_     Mean (SD)    1.3 (0.5)           NA                 \n",
       "73  traintest_ind_     Median (IQR) 1.0 (1.0-2.0)       NA                 \n",
       "    2                   pval \n",
       "1   394                 NA   \n",
       "2   32 (8.1%)           1    \n",
       "3   10 (2.5%)           0.739\n",
       "4   1 (0.3%)            0.301\n",
       "5   79 (20.1%)          0.927\n",
       "6   815.2 (171.4)       NA   \n",
       "7   810.0 (660.0-960.0) 0.186\n",
       "8   22 (5.6%)           0.591\n",
       "9   10 (2.5%)           0.305\n",
       "10  3 (0.8%)            0.58 \n",
       "11  2 (0.5%)            0.388\n",
       "12  5 (1.3%)            0.618\n",
       "13  13 (3.3%)           0.208\n",
       "14  339 (86.0%)         0.991\n",
       "15  0 (0.0%)            1    \n",
       "16  6 (1.5%)            0.569\n",
       "17  0 (0.0%)            1    \n",
       "18  2 (0.5%)            0.246\n",
       "19  4 (1.0%)            0.956\n",
       "20  0 (0.0%)            1    \n",
       "21  4 (1.0%)            0.218\n",
       "22  3 (0.8%)            0.646\n",
       "23  0 (0.0%)            1    \n",
       "24  2 (0.5%)            0.167\n",
       "25  1 (0.3%)            0.301\n",
       "26  5 (1.3%)            0.379\n",
       "27  9 (2.3%)            0.974\n",
       "28  2 (0.5%)            0.606\n",
       "29  14 (3.6%)           0.866\n",
       "30  4 (1.0%)            0.118\n",
       "... ...                 ...  \n",
       "44  148 (37.6%)         0.963\n",
       "45  66 (16.8%)          0.088\n",
       "46  6 (1.5%)            1    \n",
       "47  394 (100.0%)        NA   \n",
       "48  19 (4.8%)           0.622\n",
       "49  4 (1.0%)            0.902\n",
       "50  8 (2.0%)            0.466\n",
       "51  6 (1.5%)            0.076\n",
       "52  0 (0.0%)            1    \n",
       "53  187 (47.5%)         0.106\n",
       "54  86 (21.8%)          0.85 \n",
       "55  3 (0.8%)            0.831\n",
       "56  5 (1.3%)            0.264\n",
       "57  93 (23.6%)          0.28 \n",
       "58  4.0 (1.4)           NA   \n",
       "59  4.3 (3.9-4.8)       0.911\n",
       "60  80 (20.3%)          0.198\n",
       "61  3 (0.8%)            0.996\n",
       "62  0.7 (1.0)           NA   \n",
       "63  0.0 (0.0-1.1)       0.658\n",
       "64  126 (32.0%)         NA   \n",
       "65  66 (16.8%)          0.134\n",
       "66  162 (41.1%)         NA   \n",
       "67  40 (10.2%)          NA   \n",
       "68  83 (21.1%)          NA   \n",
       "69  112 (28.4%)         0.368\n",
       "70  86 (21.8%)          NA   \n",
       "71  113 (28.7%)         NA   \n",
       "72  NA                  NA   \n",
       "73  NA                  0    "
      ]
     },
     "metadata": {},
     "output_type": "display_data"
    }
   ],
   "source": [
    "tab2"
   ]
  },
  {
   "cell_type": "code",
   "execution_count": 67,
   "metadata": {},
   "outputs": [],
   "source": [
    "### save memeory, remove the datasets that will not be used more...\n",
    "##rm(temp,data)"
   ]
  },
  {
   "cell_type": "markdown",
   "metadata": {},
   "source": [
    "Checking the distribution of the outcome on the three subsets"
   ]
  },
  {
   "cell_type": "code",
   "execution_count": 30,
   "metadata": {},
   "outputs": [
    {
     "name": "stderr",
     "output_type": "stream",
     "text": [
      "Loading required package: ggplot2\n",
      "\n",
      "Warning message:\n",
      "\"package 'ggplot2' was built under R version 3.6.3\"\n"
     ]
    },
    {
     "data": {
      "image/png": "[encoded data removed]",
      "text/plain": [
       "plot without title"
      ]
     },
     "metadata": {
      "image/png": {
       "height": 300,
       "width": 300
      }
     },
     "output_type": "display_data"
    }
   ],
   "source": [
    "require(ggplot2)\n",
    "\n",
    "options(repr.plot.width = 5, repr.plot.height = 5 )\n",
    "\n",
    "ggplot() +\n",
    "        geom_bar(aes(x=train$NoShow),color=\"red\",alpha=0.3) +\n",
    "    geom_bar(aes(x=dev$NoShow),color=\"blue\",alpha=0.3) +\n",
    "    geom_bar(aes(x=test$NoShow),color=\"green\",alpha=0.3)\n"
   ]
  },
  {
   "cell_type": "markdown",
   "metadata": {},
   "source": [
    "# Train-Dev"
   ]
  },
  {
   "cell_type": "code",
   "execution_count": 31,
   "metadata": {},
   "outputs": [],
   "source": [
    "library(ranger)\n",
    "\n",
    "mod1 <- ranger(NoShow ~., data=train)\n"
   ]
  },
  {
   "cell_type": "code",
   "execution_count": 32,
   "metadata": {},
   "outputs": [
    {
     "data": {
      "text/plain": [
       "Ranger result\n",
       "\n",
       "Call:\n",
       " ranger(NoShow ~ ., data = train) \n",
       "\n",
       "Type:                             Classification \n",
       "Number of trees:                  500 \n",
       "Sample size:                      916 \n",
       "Number of independent variables:  60 \n",
       "Mtry:                             7 \n",
       "Target node size:                 1 \n",
       "Variable importance mode:         none \n",
       "Splitrule:                        gini \n",
       "OOB prediction error:             0.22 % "
      ]
     },
     "metadata": {},
     "output_type": "display_data"
    }
   ],
   "source": [
    "mod1"
   ]
  },
  {
   "cell_type": "code",
   "execution_count": 33,
   "metadata": {},
   "outputs": [
    {
     "data": {
      "text/plain": [
       "Ranger prediction\n",
       "\n",
       "Type:                             Classification \n",
       "Sample size:                      394 \n",
       "Number of independent variables:  60 "
      ]
     },
     "metadata": {},
     "output_type": "display_data"
    }
   ],
   "source": [
    "pred1 <- predict(mod1, data=dev)\n",
    "pred1"
   ]
  },
  {
   "cell_type": "code",
   "execution_count": 34,
   "metadata": {},
   "outputs": [
    {
     "data": {
      "text/plain": [
       "   pred\n",
       "obs   0   1\n",
       "  0 362   0\n",
       "  1   0  32"
      ]
     },
     "metadata": {},
     "output_type": "display_data"
    }
   ],
   "source": [
    "table(obs=dev$NoShow, pred=pred1$predictions)"
   ]
  },
  {
   "cell_type": "code",
   "execution_count": 36,
   "metadata": {},
   "outputs": [
    {
     "name": "stderr",
     "output_type": "stream",
     "text": [
      "Loading required package: lattice\n",
      "\n"
     ]
    }
   ],
   "source": [
    "library(caret)"
   ]
  },
  {
   "cell_type": "code",
   "execution_count": 37,
   "metadata": {},
   "outputs": [
    {
     "data": {
      "text/plain": [
       "Confusion Matrix and Statistics\n",
       "\n",
       "          Reference\n",
       "Prediction   0   1\n",
       "         0 362   0\n",
       "         1   0  32\n",
       "                                     \n",
       "               Accuracy : 1          \n",
       "                 95% CI : (0.9907, 1)\n",
       "    No Information Rate : 0.9188     \n",
       "    P-Value [Acc > NIR] : 3.204e-15  \n",
       "                                     \n",
       "                  Kappa : 1          \n",
       "                                     \n",
       " Mcnemar's Test P-Value : NA         \n",
       "                                     \n",
       "            Sensitivity : 1.0000     \n",
       "            Specificity : 1.0000     \n",
       "         Pos Pred Value : 1.0000     \n",
       "         Neg Pred Value : 1.0000     \n",
       "             Prevalence : 0.9188     \n",
       "         Detection Rate : 0.9188     \n",
       "   Detection Prevalence : 0.9188     \n",
       "      Balanced Accuracy : 1.0000     \n",
       "                                     \n",
       "       'Positive' Class : 0          \n",
       "                                     "
      ]
     },
     "metadata": {},
     "output_type": "display_data"
    }
   ],
   "source": [
    "confusionMatrix(pred1$predictions, dev$NoShow)"
   ]
  },
  {
   "cell_type": "markdown",
   "metadata": {},
   "source": [
    "# Cross-Validation\n",
    "\n",
    "<img src=\"https://genome.tugraz.at/proclassify/help/pages/images/xv_folds.gif\"/>\n"
   ]
  },
  {
   "cell_type": "code",
   "execution_count": 38,
   "metadata": {},
   "outputs": [
    {
     "name": "stderr",
     "output_type": "stream",
     "text": [
      "Loading required package: DMwR\n",
      "\n",
      "Warning message:\n",
      "\"package 'DMwR' was built under R version 3.6.3\"\n",
      "Loading required package: grid\n",
      "\n",
      "Registered S3 method overwritten by 'xts':\n",
      "  method     from\n",
      "  as.zoo.xts zoo \n",
      "\n",
      "Registered S3 method overwritten by 'quantmod':\n",
      "  method            from\n",
      "  as.zoo.data.frame zoo \n",
      "\n",
      "\n",
      "Attaching package: 'dplyr'\n",
      "\n",
      "\n",
      "The following objects are masked from 'package:stats':\n",
      "\n",
      "    filter, lag\n",
      "\n",
      "\n",
      "The following objects are masked from 'package:base':\n",
      "\n",
      "    intersect, setdiff, setequal, union\n",
      "\n",
      "\n"
     ]
    }
   ],
   "source": [
    "if(!require(DMwR)) {install.packages(\"DMwR\");require(DMwR)}\n",
    "library(dplyr)"
   ]
  },
  {
   "cell_type": "code",
   "execution_count": 45,
   "metadata": {},
   "outputs": [],
   "source": [
    "set.seed(1065)\n",
    "seeds <- vector(mode = \"list\", length = 51)\n",
    "for(i in 1:50) seeds[[i]] <- sample.int(1000, 22)\n",
    "\n",
    "## For the last model:\n",
    "seeds[[51]] <- sample.int(1000, 1)"
   ]
  },
  {
   "cell_type": "code",
   "execution_count": 46,
   "metadata": {},
   "outputs": [
    {
     "data": {
      "text/html": [
       "<style>\n",
       ".list-inline {list-style: none; margin:0; padding: 0}\n",
       ".list-inline>li {display: inline-block}\n",
       ".list-inline>li:not(:last-child)::after {content: \"\\00b7\"; padding: 0 .5ex}\n",
       "</style>\n",
       "<ol class=list-inline><li>'service_EXT'</li><li>'service_FF'</li><li>'service_NECK'</li><li>'service_SSUD'</li><li>'Canceled_By_HOUSE'</li></ol>\n"
      ],
      "text/latex": [
       "\\begin{enumerate*}\n",
       "\\item 'service\\_EXT'\n",
       "\\item 'service\\_FF'\n",
       "\\item 'service\\_NECK'\n",
       "\\item 'service\\_SSUD'\n",
       "\\item 'Canceled\\_By\\_HOUSE'\n",
       "\\end{enumerate*}\n"
      ],
      "text/markdown": [
       "1. 'service_EXT'\n",
       "2. 'service_FF'\n",
       "3. 'service_NECK'\n",
       "4. 'service_SSUD'\n",
       "5. 'Canceled_By_HOUSE'\n",
       "\n",
       "\n"
      ],
      "text/plain": [
       "[1] \"service_EXT\"       \"service_FF\"        \"service_NECK\"     \n",
       "[4] \"service_SSUD\"      \"Canceled_By_HOUSE\""
      ]
     },
     "metadata": {},
     "output_type": "display_data"
    }
   ],
   "source": [
    "# droping variables with less then 1  level\n",
    "l <- sapply(data2, function(x) is.factor(x))\n",
    "m <- data2[, l]\n",
    "n <- ifelse( sapply(m, function(x) length(levels(x))) == 1, \"DROP\", \"NODROP\")\n",
    "n<-as.data.frame(n)\n",
    "dv <- n %>% tibble::rownames_to_column() %>% filter (n=='DROP')\n",
    "(dv <- dv$rowname)"
   ]
  },
  {
   "cell_type": "code",
   "execution_count": 47,
   "metadata": {},
   "outputs": [
    {
     "data": {
      "text/html": [
       "<table>\n",
       "<caption>A data.frame: 6 × 56</caption>\n",
       "<thead>\n",
       "\t<tr><th></th><th scope=col>NoShow</th><th scope=col>sunday</th><th scope=col>monday</th><th scope=col>saturday</th><th scope=col>time_booked</th><th scope=col>cancel_days_1</th><th scope=col>cancel_days_2</th><th scope=col>cancel_days_3</th><th scope=col>cancel_days_4</th><th scope=col>cancel_days_5</th><th scope=col>...</th><th scope=col>quantity_3</th><th scope=col>quantity_5</th><th scope=col>quantity_6</th><th scope=col>quantity_7</th><th scope=col>amount</th><th scope=col>avg_receipt_4</th><th scope=col>avg_quantity_5</th><th scope=col>total_cancel12</th><th scope=col>hclust4</th><th scope=col>Mclust4</th></tr>\n",
       "\t<tr><th></th><th scope=col>&lt;fct&gt;</th><th scope=col>&lt;fct&gt;</th><th scope=col>&lt;fct&gt;</th><th scope=col>&lt;fct&gt;</th><th scope=col>&lt;int&gt;</th><th scope=col>&lt;fct&gt;</th><th scope=col>&lt;fct&gt;</th><th scope=col>&lt;fct&gt;</th><th scope=col>&lt;fct&gt;</th><th scope=col>&lt;fct&gt;</th><th scope=col>...</th><th scope=col>&lt;fct&gt;</th><th scope=col>&lt;fct&gt;</th><th scope=col>&lt;fct&gt;</th><th scope=col>&lt;fct&gt;</th><th scope=col>&lt;dbl&gt;</th><th scope=col>&lt;fct&gt;</th><th scope=col>&lt;fct&gt;</th><th scope=col>&lt;dbl&gt;</th><th scope=col>&lt;fct&gt;</th><th scope=col>&lt;fct&gt;</th></tr>\n",
       "</thead>\n",
       "<tbody>\n",
       "\t<tr><th scope=row>526</th><td>0</td><td>0</td><td>0</td><td>0</td><td> 550</td><td>0</td><td>0</td><td>0</td><td>0</td><td>0</td><td>...</td><td>0</td><td>0</td><td>0</td><td>0</td><td>4.110874</td><td>0</td><td>0</td><td>1.791759</td><td>4</td><td>4</td></tr>\n",
       "\t<tr><th scope=row>195</th><td>0</td><td>0</td><td>0</td><td>0</td><td> 760</td><td>0</td><td>0</td><td>0</td><td>0</td><td>0</td><td>...</td><td>0</td><td>0</td><td>0</td><td>0</td><td>4.418841</td><td>0</td><td>0</td><td>0.000000</td><td>1</td><td>3</td></tr>\n",
       "\t<tr><th scope=row>1842</th><td>0</td><td>0</td><td>0</td><td>1</td><td> 600</td><td>0</td><td>0</td><td>0</td><td>0</td><td>0</td><td>...</td><td>0</td><td>0</td><td>0</td><td>1</td><td>5.572154</td><td>0</td><td>0</td><td>1.098612</td><td>1</td><td>4</td></tr>\n",
       "\t<tr><th scope=row>1142</th><td>0</td><td>0</td><td>0</td><td>0</td><td> 540</td><td>0</td><td>0</td><td>0</td><td>0</td><td>0</td><td>...</td><td>0</td><td>0</td><td>0</td><td>1</td><td>4.025352</td><td>0</td><td>0</td><td>0.000000</td><td>4</td><td>4</td></tr>\n",
       "\t<tr><th scope=row>1253</th><td>0</td><td>0</td><td>0</td><td>0</td><td>1020</td><td>0</td><td>0</td><td>0</td><td>0</td><td>0</td><td>...</td><td>0</td><td>0</td><td>0</td><td>0</td><td>3.433987</td><td>0</td><td>0</td><td>0.000000</td><td>2</td><td>2</td></tr>\n",
       "\t<tr><th scope=row>1268</th><td>0</td><td>0</td><td>0</td><td>1</td><td> 530</td><td>0</td><td>0</td><td>0</td><td>0</td><td>0</td><td>...</td><td>1</td><td>0</td><td>0</td><td>0</td><td>4.394449</td><td>0</td><td>0</td><td>0.000000</td><td>4</td><td>4</td></tr>\n",
       "</tbody>\n",
       "</table>\n"
      ],
      "text/latex": [
       "A data.frame: 6 × 56\n",
       "\\begin{tabular}{r|lllllllllllllllllllll}\n",
       "  & NoShow & sunday & monday & saturday & time\\_booked & cancel\\_days\\_1 & cancel\\_days\\_2 & cancel\\_days\\_3 & cancel\\_days\\_4 & cancel\\_days\\_5 & ... & quantity\\_3 & quantity\\_5 & quantity\\_6 & quantity\\_7 & amount & avg\\_receipt\\_4 & avg\\_quantity\\_5 & total\\_cancel12 & hclust4 & Mclust4\\\\\n",
       "  & <fct> & <fct> & <fct> & <fct> & <int> & <fct> & <fct> & <fct> & <fct> & <fct> & ... & <fct> & <fct> & <fct> & <fct> & <dbl> & <fct> & <fct> & <dbl> & <fct> & <fct>\\\\\n",
       "\\hline\n",
       "\t526 & 0 & 0 & 0 & 0 &  550 & 0 & 0 & 0 & 0 & 0 & ... & 0 & 0 & 0 & 0 & 4.110874 & 0 & 0 & 1.791759 & 4 & 4\\\\\n",
       "\t195 & 0 & 0 & 0 & 0 &  760 & 0 & 0 & 0 & 0 & 0 & ... & 0 & 0 & 0 & 0 & 4.418841 & 0 & 0 & 0.000000 & 1 & 3\\\\\n",
       "\t1842 & 0 & 0 & 0 & 1 &  600 & 0 & 0 & 0 & 0 & 0 & ... & 0 & 0 & 0 & 1 & 5.572154 & 0 & 0 & 1.098612 & 1 & 4\\\\\n",
       "\t1142 & 0 & 0 & 0 & 0 &  540 & 0 & 0 & 0 & 0 & 0 & ... & 0 & 0 & 0 & 1 & 4.025352 & 0 & 0 & 0.000000 & 4 & 4\\\\\n",
       "\t1253 & 0 & 0 & 0 & 0 & 1020 & 0 & 0 & 0 & 0 & 0 & ... & 0 & 0 & 0 & 0 & 3.433987 & 0 & 0 & 0.000000 & 2 & 2\\\\\n",
       "\t1268 & 0 & 0 & 0 & 1 &  530 & 0 & 0 & 0 & 0 & 0 & ... & 1 & 0 & 0 & 0 & 4.394449 & 0 & 0 & 0.000000 & 4 & 4\\\\\n",
       "\\end{tabular}\n"
      ],
      "text/markdown": [
       "\n",
       "A data.frame: 6 × 56\n",
       "\n",
       "| <!--/--> | NoShow &lt;fct&gt; | sunday &lt;fct&gt; | monday &lt;fct&gt; | saturday &lt;fct&gt; | time_booked &lt;int&gt; | cancel_days_1 &lt;fct&gt; | cancel_days_2 &lt;fct&gt; | cancel_days_3 &lt;fct&gt; | cancel_days_4 &lt;fct&gt; | cancel_days_5 &lt;fct&gt; | ... ... | quantity_3 &lt;fct&gt; | quantity_5 &lt;fct&gt; | quantity_6 &lt;fct&gt; | quantity_7 &lt;fct&gt; | amount &lt;dbl&gt; | avg_receipt_4 &lt;fct&gt; | avg_quantity_5 &lt;fct&gt; | total_cancel12 &lt;dbl&gt; | hclust4 &lt;fct&gt; | Mclust4 &lt;fct&gt; |\n",
       "|---|---|---|---|---|---|---|---|---|---|---|---|---|---|---|---|---|---|---|---|---|---|\n",
       "| 526 | 0 | 0 | 0 | 0 |  550 | 0 | 0 | 0 | 0 | 0 | ... | 0 | 0 | 0 | 0 | 4.110874 | 0 | 0 | 1.791759 | 4 | 4 |\n",
       "| 195 | 0 | 0 | 0 | 0 |  760 | 0 | 0 | 0 | 0 | 0 | ... | 0 | 0 | 0 | 0 | 4.418841 | 0 | 0 | 0.000000 | 1 | 3 |\n",
       "| 1842 | 0 | 0 | 0 | 1 |  600 | 0 | 0 | 0 | 0 | 0 | ... | 0 | 0 | 0 | 1 | 5.572154 | 0 | 0 | 1.098612 | 1 | 4 |\n",
       "| 1142 | 0 | 0 | 0 | 0 |  540 | 0 | 0 | 0 | 0 | 0 | ... | 0 | 0 | 0 | 1 | 4.025352 | 0 | 0 | 0.000000 | 4 | 4 |\n",
       "| 1253 | 0 | 0 | 0 | 0 | 1020 | 0 | 0 | 0 | 0 | 0 | ... | 0 | 0 | 0 | 0 | 3.433987 | 0 | 0 | 0.000000 | 2 | 2 |\n",
       "| 1268 | 0 | 0 | 0 | 1 |  530 | 0 | 0 | 0 | 0 | 0 | ... | 1 | 0 | 0 | 0 | 4.394449 | 0 | 0 | 0.000000 | 4 | 4 |\n",
       "\n"
      ],
      "text/plain": [
       "     NoShow sunday monday saturday time_booked cancel_days_1 cancel_days_2\n",
       "526  0      0      0      0         550        0             0            \n",
       "195  0      0      0      0         760        0             0            \n",
       "1842 0      0      0      1         600        0             0            \n",
       "1142 0      0      0      0         540        0             0            \n",
       "1253 0      0      0      0        1020        0             0            \n",
       "1268 0      0      0      1         530        0             0            \n",
       "     cancel_days_3 cancel_days_4 cancel_days_5 ... quantity_3 quantity_5\n",
       "526  0             0             0             ... 0          0         \n",
       "195  0             0             0             ... 0          0         \n",
       "1842 0             0             0             ... 0          0         \n",
       "1142 0             0             0             ... 0          0         \n",
       "1253 0             0             0             ... 0          0         \n",
       "1268 0             0             0             ... 1          0         \n",
       "     quantity_6 quantity_7 amount   avg_receipt_4 avg_quantity_5 total_cancel12\n",
       "526  0          0          4.110874 0             0              1.791759      \n",
       "195  0          0          4.418841 0             0              0.000000      \n",
       "1842 0          1          5.572154 0             0              1.098612      \n",
       "1142 0          1          4.025352 0             0              0.000000      \n",
       "1253 0          0          3.433987 0             0              0.000000      \n",
       "1268 0          0          4.394449 0             0              0.000000      \n",
       "     hclust4 Mclust4\n",
       "526  4       4      \n",
       "195  1       3      \n",
       "1842 1       4      \n",
       "1142 4       4      \n",
       "1253 2       2      \n",
       "1268 4       4      "
      ]
     },
     "metadata": {},
     "output_type": "display_data"
    }
   ],
   "source": [
    "vn <- setdiff(names(temp),dv)\n",
    "temp2 <- temp[,vn]\n",
    "head(temp2)"
   ]
  },
  {
   "cell_type": "code",
   "execution_count": 48,
   "metadata": {},
   "outputs": [],
   "source": [
    "# define training control\n",
    "train_control <- trainControl(method = \"repeatedcv\", repeats = 5, seeds=seeds, sampling='smote')\n",
    "# train the model\n",
    "model <- train(NoShow~., data=temp2, trControl=train_control, method=\"ranger\")"
   ]
  },
  {
   "cell_type": "code",
   "execution_count": 49,
   "metadata": {},
   "outputs": [
    {
     "name": "stdout",
     "output_type": "stream",
     "text": [
      "Random Forest \n",
      "\n",
      "1310 samples\n",
      "  55 predictor\n",
      "   2 classes: '0', '1' \n",
      "\n",
      "No pre-processing\n",
      "Resampling: Cross-Validated (10 fold, repeated 5 times) \n",
      "Summary of sample sizes: 1179, 1179, 1178, 1179, 1179, 1179, ... \n",
      "Addtional sampling using SMOTE\n",
      "\n",
      "Resampling results across tuning parameters:\n",
      "\n",
      "  mtry  splitrule   Accuracy   Kappa    \n",
      "   2    gini        0.9818269  0.8743342\n",
      "   2    extratrees  0.9839655  0.8986177\n",
      "  30    gini        0.9992378  0.9947253\n",
      "  30    extratrees  0.9987809  0.9918702\n",
      "  59    gini        0.9987774  0.9917875\n",
      "  59    extratrees  0.9984721  0.9900915\n",
      "\n",
      "Tuning parameter 'min.node.size' was held constant at a value of 1\n",
      "Accuracy was used to select the optimal model using the largest value.\n",
      "The final values used for the model were mtry = 30, splitrule = gini\n",
      " and min.node.size = 1.\n"
     ]
    }
   ],
   "source": [
    "# summarize results\n",
    "print(model)"
   ]
  },
  {
   "cell_type": "markdown",
   "metadata": {},
   "source": [
    "# Dataset Inbalance"
   ]
  },
  {
   "cell_type": "code",
   "execution_count": 50,
   "metadata": {},
   "outputs": [
    {
     "name": "stderr",
     "output_type": "stream",
     "text": [
      "Loading required package: imbalance\n",
      "\n",
      "Warning message:\n",
      "\"package 'imbalance' was built under R version 3.6.3\"\n",
      "Loading required package: ROSE\n",
      "\n",
      "Loaded ROSE 0.0-3\n",
      "\n",
      "\n"
     ]
    }
   ],
   "source": [
    "if(!require(imbalance)){install.packages(\"imbalance\");require(imbalance)}\n",
    "### ROSE = Random Over-Sampling Examples\n",
    "if(!require(ROSE)){install.packages(\"ROSE\");require(ROSE)}\n"
   ]
  },
  {
   "cell_type": "code",
   "execution_count": 51,
   "metadata": {},
   "outputs": [
    {
     "data": {
      "text/plain": [
       "\n",
       "   0    1 \n",
       "1203  107 "
      ]
     },
     "metadata": {},
     "output_type": "display_data"
    },
    {
     "data": {
      "text/plain": [
       "\n",
       "        0         1 \n",
       "91.832061  8.167939 "
      ]
     },
     "metadata": {},
     "output_type": "display_data"
    }
   ],
   "source": [
    "table(temp2$NoShow)\n",
    "table(temp2$NoShow)/nrow(temp2)*100"
   ]
  },
  {
   "cell_type": "code",
   "execution_count": 52,
   "metadata": {},
   "outputs": [
    {
     "data": {
      "text/html": [
       "<table>\n",
       "<caption>A matrix: 1 × 3 of type int</caption>\n",
       "<thead>\n",
       "\t<tr><th scope=col>numZero</th><th scope=col>numOne</th><th scope=col>nInstances</th></tr>\n",
       "</thead>\n",
       "<tbody>\n",
       "\t<tr><td>1203</td><td>107</td><td>1096</td></tr>\n",
       "</tbody>\n",
       "</table>\n"
      ],
      "text/latex": [
       "A matrix: 1 × 3 of type int\n",
       "\\begin{tabular}{lll}\n",
       " numZero & numOne & nInstances\\\\\n",
       "\\hline\n",
       "\t 1203 & 107 & 1096\\\\\n",
       "\\end{tabular}\n"
      ],
      "text/markdown": [
       "\n",
       "A matrix: 1 × 3 of type int\n",
       "\n",
       "| numZero | numOne | nInstances |\n",
       "|---|---|---|\n",
       "| 1203 | 107 | 1096 |\n",
       "\n"
      ],
      "text/plain": [
       "     numZero numOne nInstances\n",
       "[1,] 1203    107    1096      "
      ]
     },
     "metadata": {},
     "output_type": "display_data"
    }
   ],
   "source": [
    "numZero <- length(which(temp2$NoShow == 0))\n",
    "numOne <- length(which(temp2$NoShow == 1))\n",
    "nInstances <- numZero - numOne\n",
    "cbind(numZero=numZero,numOne=numOne,nInstances=nInstances)"
   ]
  },
  {
   "cell_type": "markdown",
   "metadata": {},
   "source": [
    "## Under Sampling\n",
    " \n",
    "This techniques uses all the rows containing the minority class and select randomly the same number of minority class for the rows with the mayority class "
   ]
  },
  {
   "cell_type": "code",
   "execution_count": 53,
   "metadata": {},
   "outputs": [
    {
     "data": {
      "text/plain": [
       "\n",
       "  0   1 \n",
       "107 107 "
      ]
     },
     "metadata": {},
     "output_type": "display_data"
    }
   ],
   "source": [
    "data_balanced_under <- ovun.sample(NoShow ~ ., data = temp2, method = \"under\",N = numOne*2)$data\n",
    "table(data_balanced_under$NoShow)"
   ]
  },
  {
   "cell_type": "markdown",
   "metadata": {},
   "source": [
    "## Over Sampling\n",
    " \n",
    "Over sampling takes the number of rows of the mayority class and repeat the rows of the minority class up to the same number of the mayority class. The repeated rows are selected randomly."
   ]
  },
  {
   "cell_type": "code",
   "execution_count": 54,
   "metadata": {},
   "outputs": [
    {
     "data": {
      "text/plain": [
       "\n",
       "   0    1 \n",
       "1203 1203 "
      ]
     },
     "metadata": {},
     "output_type": "display_data"
    }
   ],
   "source": [
    "#over sampling\n",
    "data_balanced_over <- ovun.sample(NoShow ~ ., data = temp2, method = \"over\",N = numZero*2)$data\n",
    "table(data_balanced_over$NoShow)"
   ]
  },
  {
   "cell_type": "markdown",
   "metadata": {},
   "source": [
    "## Over-Under Sampling\n",
    " \n",
    "In this technique we randomly select half of the majority class rows (under sampling) and increment the minority class rows by selecting them randomly.   "
   ]
  },
  {
   "cell_type": "code",
   "execution_count": 55,
   "metadata": {},
   "outputs": [
    {
     "data": {
      "text/plain": [
       "\n",
       "  0   1 \n",
       "629 574 "
      ]
     },
     "metadata": {},
     "output_type": "display_data"
    }
   ],
   "source": [
    "#over_under sampling\n",
    "data_balanced_both <- ovun.sample(NoShow ~ ., data = temp2, method = \"both\", p=0.5,N = 1203, seed = 1)$data\n",
    "table(data_balanced_both$NoShow)"
   ]
  },
  {
   "cell_type": "markdown",
   "metadata": {},
   "source": [
    "## ROSE (Random Over-Sampling Examples) \n",
    " \n",
    "Creates a sample of synthetic data by enlarging the features space of minority and majority class examples. ROSE selects an observation belonging to the class k and generates new examples in its neighbourhood"
   ]
  },
  {
   "cell_type": "code",
   "execution_count": 56,
   "metadata": {},
   "outputs": [
    {
     "data": {
      "text/plain": [
       "\n",
       "  0   1 \n",
       "685 625 "
      ]
     },
     "metadata": {},
     "output_type": "display_data"
    }
   ],
   "source": [
    "# Rose: \n",
    "data.rose <- ROSE(NoShow ~ ., data = temp2, seed = 1)$data\n",
    "table(data.rose$NoShow)"
   ]
  },
  {
   "cell_type": "markdown",
   "metadata": {},
   "source": [
    "## Models"
   ]
  },
  {
   "cell_type": "code",
   "execution_count": 242,
   "metadata": {},
   "outputs": [
    {
     "data": {
      "text/plain": [
       "    obs\n",
       "pred    0    1\n",
       "   0 1203    0\n",
       "   1    0  107"
      ]
     },
     "metadata": {},
     "output_type": "display_data"
    }
   ],
   "source": [
    "mod1 <- ranger(NoShow ~., data=temp2)\n",
    "pred1 <-predict(mod1, data=temp2,type='response')\n",
    "table(pred=pred1$predictions, obs =temp2$NoShow)"
   ]
  },
  {
   "cell_type": "code",
   "execution_count": 244,
   "metadata": {},
   "outputs": [
    {
     "data": {
      "text/plain": [
       "    obs\n",
       "pred   0   1\n",
       "   0 107   0\n",
       "   1   0 107"
      ]
     },
     "metadata": {},
     "output_type": "display_data"
    },
    {
     "data": {
      "text/plain": [
       "    obs\n",
       "pred    0    1\n",
       "   0 1203    0\n",
       "   1    0  107"
      ]
     },
     "metadata": {},
     "output_type": "display_data"
    }
   ],
   "source": [
    "mod2 <- ranger(NoShow ~., data=data_balanced_under)\n",
    "pred2 <- predict(mod2, data=data_balanced_under,type='response')\n",
    "table(pred=pred2$predictions, obs =data_balanced_under$NoShow)\n",
    "table(pred=pred1$predictions, obs =temp2$NoShow)"
   ]
  },
  {
   "cell_type": "code",
   "execution_count": 245,
   "metadata": {},
   "outputs": [
    {
     "data": {
      "text/plain": [
       "    obs\n",
       "pred    0    1\n",
       "   0 1203    0\n",
       "   1    0 1203"
      ]
     },
     "metadata": {},
     "output_type": "display_data"
    },
    {
     "data": {
      "text/plain": [
       "    obs\n",
       "pred    0    1\n",
       "   0 1203    0\n",
       "   1    0  107"
      ]
     },
     "metadata": {},
     "output_type": "display_data"
    }
   ],
   "source": [
    "mod3 <- ranger(NoShow ~., data=data_balanced_over)\n",
    "pred3 <- predict(mod3, data=data_balanced_over,type='response')\n",
    "table(pred=pred3$predictions, obs =data_balanced_over$NoShow)\n",
    "table(pred=pred1$predictions, obs =temp2$NoShow)"
   ]
  },
  {
   "cell_type": "code",
   "execution_count": 246,
   "metadata": {},
   "outputs": [
    {
     "data": {
      "text/plain": [
       "    obs\n",
       "pred   0   1\n",
       "   0 629   0\n",
       "   1   0 574"
      ]
     },
     "metadata": {},
     "output_type": "display_data"
    },
    {
     "data": {
      "text/plain": [
       "    obs\n",
       "pred    0    1\n",
       "   0 1203    0\n",
       "   1    0  107"
      ]
     },
     "metadata": {},
     "output_type": "display_data"
    }
   ],
   "source": [
    "mod4 <- ranger(NoShow ~., data=data_balanced_both)\n",
    "pred4 <- predict(mod4, data=data_balanced_both,type='response')\n",
    "table(pred=pred4$predictions, obs =data_balanced_both$NoShow)\n",
    "table(pred=pred1$predictions, obs =temp2$NoShow)"
   ]
  },
  {
   "cell_type": "code",
   "execution_count": 251,
   "metadata": {},
   "outputs": [
    {
     "data": {
      "text/plain": [
       "    obs\n",
       "pred   0   1\n",
       "   0 685   0\n",
       "   1   0 625"
      ]
     },
     "metadata": {},
     "output_type": "display_data"
    },
    {
     "data": {
      "text/plain": [
       "    obs\n",
       "pred    0    1\n",
       "   0 1203    0\n",
       "   1    0  107"
      ]
     },
     "metadata": {},
     "output_type": "display_data"
    }
   ],
   "source": [
    "mod5 <- ranger(NoShow ~., data=data.rose)\n",
    "pred5 <- predict(mod5, data=data.rose,type='response')\n",
    "table(pred=pred5$predictions, obs =data.rose$NoShow)\n",
    "table(pred=pred1$predictions, obs =temp2$NoShow)\n"
   ]
  },
  {
   "cell_type": "code",
   "execution_count": null,
   "metadata": {},
   "outputs": [],
   "source": []
  }
 ],
 "metadata": {
  "kernelspec": {
   "display_name": "R",
   "language": "R",
   "name": "ir"
  },
  "language_info": {
   "codemirror_mode": "r",
   "file_extension": ".r",
   "mimetype": "text/x-r-source",
   "name": "R",
   "pygments_lexer": "r",
   "version": "3.6.1"
  }
 },
 "nbformat": 4,
 "nbformat_minor": 2
}
