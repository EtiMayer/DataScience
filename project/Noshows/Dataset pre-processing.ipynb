{
 "cells": [
  {
   "cell_type": "markdown",
   "metadata": {},
   "source": [
    "# Preparing the data for modeling"
   ]
  },
  {
   "cell_type": "markdown",
   "metadata": {},
   "source": [
    "## Subsetting the dataset\n",
    " \n",
    "When our flat-file is ready for modeling we have to procede to generate the partitions that we will use for modeling. No matter which method we will use for training our data, we have to generate first a test dataset. This test dataset has to be set on hold aside and only used at the end of the whole process of training and selecting the best model.\n",
    " \n",
    "After we selected the test dataset we proceed to use the rest of the data for training the models. There are three main strategies for that:\n",
    " \n",
    "* Dividing into train and dev\n",
    "* Using Cross-validation\n",
    "* Using Bootstrapping\n",
    "\n",
    "\n",
    "## Test dataset"
   ]
  },
  {
   "cell_type": "code",
   "execution_count": 1,
   "metadata": {},
   "outputs": [],
   "source": [
    "data <- read.csv(\"c:/Users/Mayer/Documents/DataScience/project/Noshows/NoShow_varSel.csv\")"
   ]
  },
  {
   "cell_type": "code",
   "execution_count": 2,
   "metadata": {},
   "outputs": [
    {
     "data": {
      "text/html": [
       "<table>\n",
       "<caption>A data.frame: 6 × 64</caption>\n",
       "<thead>\n",
       "\t<tr><th></th><th scope=col>NoShow</th><th scope=col>sunday</th><th scope=col>monday</th><th scope=col>saturday</th><th scope=col>time_booked</th><th scope=col>cancel_days_1</th><th scope=col>cancel_days_2</th><th scope=col>cancel_days_3</th><th scope=col>cancel_days_4</th><th scope=col>cancel_days_5</th><th scope=col>...</th><th scope=col>total_cancel12</th><th scope=col>hclust3_1</th><th scope=col>hclust4_4</th><th scope=col>Mclust3_1</th><th scope=col>Mclust3_2</th><th scope=col>Mclust3_3</th><th scope=col>Mclust4_1</th><th scope=col>Mclust4_2</th><th scope=col>Mclust4_3</th><th scope=col>Mclust4_4</th></tr>\n",
       "\t<tr><th></th><th scope=col>&lt;int&gt;</th><th scope=col>&lt;int&gt;</th><th scope=col>&lt;int&gt;</th><th scope=col>&lt;int&gt;</th><th scope=col>&lt;int&gt;</th><th scope=col>&lt;int&gt;</th><th scope=col>&lt;int&gt;</th><th scope=col>&lt;int&gt;</th><th scope=col>&lt;int&gt;</th><th scope=col>&lt;int&gt;</th><th scope=col>...</th><th scope=col>&lt;int&gt;</th><th scope=col>&lt;int&gt;</th><th scope=col>&lt;int&gt;</th><th scope=col>&lt;int&gt;</th><th scope=col>&lt;int&gt;</th><th scope=col>&lt;int&gt;</th><th scope=col>&lt;int&gt;</th><th scope=col>&lt;int&gt;</th><th scope=col>&lt;int&gt;</th><th scope=col>&lt;int&gt;</th></tr>\n",
       "</thead>\n",
       "<tbody>\n",
       "\t<tr><th scope=row>1</th><td>1</td><td>0</td><td>0</td><td>0</td><td> 510</td><td>1</td><td>0</td><td>0</td><td>0</td><td>0</td><td>...</td><td>0</td><td>1</td><td>0</td><td>0</td><td>1</td><td>0</td><td>0</td><td>0</td><td>1</td><td>0</td></tr>\n",
       "\t<tr><th scope=row>2</th><td>0</td><td>0</td><td>0</td><td>0</td><td>1080</td><td>0</td><td>0</td><td>0</td><td>0</td><td>0</td><td>...</td><td>0</td><td>0</td><td>0</td><td>0</td><td>1</td><td>0</td><td>0</td><td>0</td><td>1</td><td>0</td></tr>\n",
       "\t<tr><th scope=row>3</th><td>0</td><td>0</td><td>0</td><td>0</td><td> 640</td><td>0</td><td>0</td><td>0</td><td>0</td><td>0</td><td>...</td><td>0</td><td>1</td><td>0</td><td>0</td><td>0</td><td>1</td><td>0</td><td>0</td><td>0</td><td>1</td></tr>\n",
       "\t<tr><th scope=row>4</th><td>0</td><td>0</td><td>0</td><td>0</td><td> 790</td><td>0</td><td>0</td><td>0</td><td>0</td><td>0</td><td>...</td><td>0</td><td>0</td><td>1</td><td>0</td><td>1</td><td>0</td><td>0</td><td>0</td><td>1</td><td>0</td></tr>\n",
       "\t<tr><th scope=row>5</th><td>0</td><td>0</td><td>0</td><td>0</td><td> 720</td><td>0</td><td>0</td><td>0</td><td>0</td><td>1</td><td>...</td><td>0</td><td>0</td><td>1</td><td>0</td><td>0</td><td>1</td><td>0</td><td>0</td><td>0</td><td>1</td></tr>\n",
       "\t<tr><th scope=row>6</th><td>0</td><td>0</td><td>0</td><td>0</td><td> 660</td><td>0</td><td>0</td><td>0</td><td>0</td><td>0</td><td>...</td><td>0</td><td>1</td><td>0</td><td>0</td><td>1</td><td>0</td><td>0</td><td>0</td><td>1</td><td>0</td></tr>\n",
       "</tbody>\n",
       "</table>\n"
      ],
      "text/latex": [
       "A data.frame: 6 × 64\n",
       "\\begin{tabular}{r|lllllllllllllllllllll}\n",
       "  & NoShow & sunday & monday & saturday & time\\_booked & cancel\\_days\\_1 & cancel\\_days\\_2 & cancel\\_days\\_3 & cancel\\_days\\_4 & cancel\\_days\\_5 & ... & total\\_cancel12 & hclust3\\_1 & hclust4\\_4 & Mclust3\\_1 & Mclust3\\_2 & Mclust3\\_3 & Mclust4\\_1 & Mclust4\\_2 & Mclust4\\_3 & Mclust4\\_4\\\\\n",
       "  & <int> & <int> & <int> & <int> & <int> & <int> & <int> & <int> & <int> & <int> & ... & <int> & <int> & <int> & <int> & <int> & <int> & <int> & <int> & <int> & <int>\\\\\n",
       "\\hline\n",
       "\t1 & 1 & 0 & 0 & 0 &  510 & 1 & 0 & 0 & 0 & 0 & ... & 0 & 1 & 0 & 0 & 1 & 0 & 0 & 0 & 1 & 0\\\\\n",
       "\t2 & 0 & 0 & 0 & 0 & 1080 & 0 & 0 & 0 & 0 & 0 & ... & 0 & 0 & 0 & 0 & 1 & 0 & 0 & 0 & 1 & 0\\\\\n",
       "\t3 & 0 & 0 & 0 & 0 &  640 & 0 & 0 & 0 & 0 & 0 & ... & 0 & 1 & 0 & 0 & 0 & 1 & 0 & 0 & 0 & 1\\\\\n",
       "\t4 & 0 & 0 & 0 & 0 &  790 & 0 & 0 & 0 & 0 & 0 & ... & 0 & 0 & 1 & 0 & 1 & 0 & 0 & 0 & 1 & 0\\\\\n",
       "\t5 & 0 & 0 & 0 & 0 &  720 & 0 & 0 & 0 & 0 & 1 & ... & 0 & 0 & 1 & 0 & 0 & 1 & 0 & 0 & 0 & 1\\\\\n",
       "\t6 & 0 & 0 & 0 & 0 &  660 & 0 & 0 & 0 & 0 & 0 & ... & 0 & 1 & 0 & 0 & 1 & 0 & 0 & 0 & 1 & 0\\\\\n",
       "\\end{tabular}\n"
      ],
      "text/markdown": [
       "\n",
       "A data.frame: 6 × 64\n",
       "\n",
       "| <!--/--> | NoShow &lt;int&gt; | sunday &lt;int&gt; | monday &lt;int&gt; | saturday &lt;int&gt; | time_booked &lt;int&gt; | cancel_days_1 &lt;int&gt; | cancel_days_2 &lt;int&gt; | cancel_days_3 &lt;int&gt; | cancel_days_4 &lt;int&gt; | cancel_days_5 &lt;int&gt; | ... ... | total_cancel12 &lt;int&gt; | hclust3_1 &lt;int&gt; | hclust4_4 &lt;int&gt; | Mclust3_1 &lt;int&gt; | Mclust3_2 &lt;int&gt; | Mclust3_3 &lt;int&gt; | Mclust4_1 &lt;int&gt; | Mclust4_2 &lt;int&gt; | Mclust4_3 &lt;int&gt; | Mclust4_4 &lt;int&gt; |\n",
       "|---|---|---|---|---|---|---|---|---|---|---|---|---|---|---|---|---|---|---|---|---|---|\n",
       "| 1 | 1 | 0 | 0 | 0 |  510 | 1 | 0 | 0 | 0 | 0 | ... | 0 | 1 | 0 | 0 | 1 | 0 | 0 | 0 | 1 | 0 |\n",
       "| 2 | 0 | 0 | 0 | 0 | 1080 | 0 | 0 | 0 | 0 | 0 | ... | 0 | 0 | 0 | 0 | 1 | 0 | 0 | 0 | 1 | 0 |\n",
       "| 3 | 0 | 0 | 0 | 0 |  640 | 0 | 0 | 0 | 0 | 0 | ... | 0 | 1 | 0 | 0 | 0 | 1 | 0 | 0 | 0 | 1 |\n",
       "| 4 | 0 | 0 | 0 | 0 |  790 | 0 | 0 | 0 | 0 | 0 | ... | 0 | 0 | 1 | 0 | 1 | 0 | 0 | 0 | 1 | 0 |\n",
       "| 5 | 0 | 0 | 0 | 0 |  720 | 0 | 0 | 0 | 0 | 1 | ... | 0 | 0 | 1 | 0 | 0 | 1 | 0 | 0 | 0 | 1 |\n",
       "| 6 | 0 | 0 | 0 | 0 |  660 | 0 | 0 | 0 | 0 | 0 | ... | 0 | 1 | 0 | 0 | 1 | 0 | 0 | 0 | 1 | 0 |\n",
       "\n"
      ],
      "text/plain": [
       "  NoShow sunday monday saturday time_booked cancel_days_1 cancel_days_2\n",
       "1 1      0      0      0         510        1             0            \n",
       "2 0      0      0      0        1080        0             0            \n",
       "3 0      0      0      0         640        0             0            \n",
       "4 0      0      0      0         790        0             0            \n",
       "5 0      0      0      0         720        0             0            \n",
       "6 0      0      0      0         660        0             0            \n",
       "  cancel_days_3 cancel_days_4 cancel_days_5 ... total_cancel12 hclust3_1\n",
       "1 0             0             0             ... 0              1        \n",
       "2 0             0             0             ... 0              0        \n",
       "3 0             0             0             ... 0              1        \n",
       "4 0             0             0             ... 0              0        \n",
       "5 0             0             1             ... 0              0        \n",
       "6 0             0             0             ... 0              1        \n",
       "  hclust4_4 Mclust3_1 Mclust3_2 Mclust3_3 Mclust4_1 Mclust4_2 Mclust4_3\n",
       "1 0         0         1         0         0         0         1        \n",
       "2 0         0         1         0         0         0         1        \n",
       "3 0         0         0         1         0         0         0        \n",
       "4 1         0         1         0         0         0         1        \n",
       "5 1         0         0         1         0         0         0        \n",
       "6 0         0         1         0         0         0         1        \n",
       "  Mclust4_4\n",
       "1 0        \n",
       "2 0        \n",
       "3 1        \n",
       "4 0        \n",
       "5 1        \n",
       "6 0        "
      ]
     },
     "metadata": {},
     "output_type": "display_data"
    }
   ],
   "source": [
    "head(data)"
   ]
  },
  {
   "cell_type": "code",
   "execution_count": 3,
   "metadata": {},
   "outputs": [
    {
     "data": {
      "text/plain": [
       "     NoShow           sunday            monday             saturday     \n",
       " Min.   :0.0000   Min.   :0.00000   Min.   :0.0000000   Min.   :0.0000  \n",
       " 1st Qu.:0.0000   1st Qu.:0.00000   1st Qu.:0.0000000   1st Qu.:0.0000  \n",
       " Median :0.0000   Median :0.00000   Median :0.0000000   Median :0.0000  \n",
       " Mean   :0.0783   Mean   :0.02976   Mean   :0.0004579   Mean   :0.1969  \n",
       " 3rd Qu.:0.0000   3rd Qu.:0.00000   3rd Qu.:0.0000000   3rd Qu.:0.0000  \n",
       " Max.   :1.0000   Max.   :1.00000   Max.   :1.0000000   Max.   :1.0000  \n",
       "  time_booked     cancel_days_1     cancel_days_2     cancel_days_3     \n",
       " Min.   : 480.0   Min.   :0.00000   Min.   :0.00000   Min.   :0.000000  \n",
       " 1st Qu.: 660.0   1st Qu.:0.00000   1st Qu.:0.00000   1st Qu.:0.000000  \n",
       " Median : 790.0   Median :0.00000   Median :0.00000   Median :0.000000  \n",
       " Mean   : 804.7   Mean   :0.06136   Mean   :0.01648   Mean   :0.008242  \n",
       " 3rd Qu.: 960.0   3rd Qu.:0.00000   3rd Qu.:0.00000   3rd Qu.:0.000000  \n",
       " Max.   :1170.0   Max.   :1.00000   Max.   :1.00000   Max.   :1.000000  \n",
       " cancel_days_4     cancel_days_5     cancel_days_6     cancel_days_7   \n",
       " Min.   :0.00000   Min.   :0.00000   Min.   :0.00000   Min.   :0.0000  \n",
       " 1st Qu.:0.00000   1st Qu.:0.00000   1st Qu.:0.00000   1st Qu.:1.0000  \n",
       " Median :0.00000   Median :0.00000   Median :0.00000   Median :1.0000  \n",
       " Mean   :0.00641   Mean   :0.01419   Mean   :0.01877   Mean   :0.8745  \n",
       " 3rd Qu.:0.00000   3rd Qu.:0.00000   3rd Qu.:0.00000   3rd Qu.:1.0000  \n",
       " Max.   :1.00000   Max.   :1.00000   Max.   :1.00000   Max.   :1.0000  \n",
       "  service_CAL        service_CALC      service_CAS         service_CBAL    \n",
       " Min.   :0.000000   Min.   :0.00000   Min.   :0.0000000   Min.   :0.00000  \n",
       " 1st Qu.:0.000000   1st Qu.:0.00000   1st Qu.:0.0000000   1st Qu.:0.00000  \n",
       " Median :0.000000   Median :0.00000   Median :0.0000000   Median :0.00000  \n",
       " Mean   :0.002747   Mean   :0.01832   Mean   :0.0004579   Mean   :0.01099  \n",
       " 3rd Qu.:0.000000   3rd Qu.:0.00000   3rd Qu.:0.0000000   3rd Qu.:0.00000  \n",
       " Max.   :1.000000   Max.   :1.00000   Max.   :1.0000000   Max.   :1.00000  \n",
       " service_CCAMO     service_CCO         service_CDPB      service_CFC     \n",
       " Min.   :0.0000   Min.   :0.0000000   Min.   :0.00000   Min.   :0.00000  \n",
       " 1st Qu.:0.0000   1st Qu.:0.0000000   1st Qu.:0.00000   1st Qu.:0.00000  \n",
       " Median :0.0000   Median :0.0000000   Median :0.00000   Median :0.00000  \n",
       " Mean   :0.0087   Mean   :0.0009158   Mean   :0.00641   Mean   :0.03022  \n",
       " 3rd Qu.:0.0000   3rd Qu.:0.0000000   3rd Qu.:0.00000   3rd Qu.:0.00000  \n",
       " Max.   :1.0000   Max.   :1.0000000   Max.   :1.00000   Max.   :1.00000  \n",
       " service_CHLFH     service_CHLFHC      service_CHLHH      service_CHLHHC    \n",
       " Min.   :0.00000   Min.   :0.0000000   Min.   :0.000000   Min.   :0.000000  \n",
       " 1st Qu.:0.00000   1st Qu.:0.0000000   1st Qu.:0.000000   1st Qu.:0.000000  \n",
       " Median :0.00000   Median :0.0000000   Median :0.000000   Median :0.000000  \n",
       " Mean   :0.00641   Mean   :0.0004579   Mean   :0.002747   Mean   :0.001374  \n",
       " 3rd Qu.:0.00000   3rd Qu.:0.0000000   3rd Qu.:0.000000   3rd Qu.:0.000000  \n",
       " Max.   :1.00000   Max.   :1.0000000   Max.   :1.000000   Max.   :1.000000  \n",
       " service_CHLPHC     service_CHLPL      service_CMT        service_CON     \n",
       " Min.   :0.000000   Min.   :0.00000   Min.   :0.000000   Min.   :0.00000  \n",
       " 1st Qu.:0.000000   1st Qu.:0.00000   1st Qu.:0.000000   1st Qu.:0.00000  \n",
       " Median :0.000000   Median :0.00000   Median :0.000000   Median :0.00000  \n",
       " Mean   :0.008242   Mean   :0.02381   Mean   :0.005495   Mean   :0.04258  \n",
       " 3rd Qu.:0.000000   3rd Qu.:0.00000   3rd Qu.:0.000000   3rd Qu.:0.00000  \n",
       " Max.   :1.000000   Max.   :1.00000   Max.   :1.000000   Max.   :1.00000  \n",
       "   service_CT        service_FRI        service_MISC       service_SBD    \n",
       " Min.   :0.000000   Min.   :0.000000   Min.   :0.000000   Min.   :0.0000  \n",
       " 1st Qu.:0.000000   1st Qu.:0.000000   1st Qu.:0.000000   1st Qu.:0.0000  \n",
       " Median :0.000000   Median :0.000000   Median :0.000000   Median :0.0000  \n",
       " Mean   :0.004579   Mean   :0.003663   Mean   :0.001374   Mean   :0.1754  \n",
       " 3rd Qu.:0.000000   3rd Qu.:0.000000   3rd Qu.:0.000000   3rd Qu.:0.0000  \n",
       " Max.   :1.000000   Max.   :1.000000   Max.   :1.000000   Max.   :1.0000  \n",
       "  service_SBD5     service_SDUD       service_SHCC       service_SHCW   \n",
       " Min.   :0.0000   Min.   :0.000000   Min.   :0.000000   Min.   :0.0000  \n",
       " 1st Qu.:0.0000   1st Qu.:0.000000   1st Qu.:0.000000   1st Qu.:0.0000  \n",
       " Median :0.0000   Median :0.000000   Median :0.000000   Median :0.0000  \n",
       " Mean   :0.0087   Mean   :0.004121   Mean   :0.007326   Mean   :0.3603  \n",
       " 3rd Qu.:0.0000   3rd Qu.:0.000000   3rd Qu.:0.000000   3rd Qu.:1.0000  \n",
       " Max.   :1.0000   Max.   :1.000000   Max.   :1.000000   Max.   :1.0000  \n",
       " service_SMARTBOND   service_SMO        staff_HOUSE        staff_KELLY    \n",
       " Min.   :0.000000   Min.   :0.000000   Min.   :0.000000   Min.   :0.0000  \n",
       " 1st Qu.:0.000000   1st Qu.:0.000000   1st Qu.:0.000000   1st Qu.:0.0000  \n",
       " Median :0.000000   Median :0.000000   Median :0.000000   Median :0.0000  \n",
       " Mean   :0.004579   Mean   :0.001374   Mean   :0.009615   Mean   :0.1474  \n",
       " 3rd Qu.:0.000000   3rd Qu.:0.000000   3rd Qu.:0.000000   3rd Qu.:0.0000  \n",
       " Max.   :1.000000   Max.   :1.000000   Max.   :1.000000   Max.   :1.0000  \n",
       " Canceled_By_BECKY Canceled_By_JJ    Canceled_By_JOANNE Canceled_By_KELLY\n",
       " Min.   :0.00000   Min.   :0.00000   Min.   :0.000000   Min.   :0.00000  \n",
       " 1st Qu.:0.00000   1st Qu.:0.00000   1st Qu.:0.000000   1st Qu.:0.00000  \n",
       " Median :0.00000   Median :0.00000   Median :0.000000   Median :0.00000  \n",
       " Mean   :0.01328   Mean   :0.04258   Mean   :0.007784   Mean   :0.01465  \n",
       " 3rd Qu.:0.00000   3rd Qu.:0.00000   3rd Qu.:0.000000   3rd Qu.:0.00000  \n",
       " Max.   :1.00000   Max.   :1.00000   Max.   :1.000000   Max.   :1.00000  \n",
       " Canceled_By_SINEAD   quantity_1          quantity_2       quantity_5     \n",
       " Min.   :0.000000   Min.   :0.0000000   Min.   :0.0000   Min.   :0.00000  \n",
       " 1st Qu.:0.000000   1st Qu.:0.0000000   1st Qu.:0.0000   1st Qu.:0.00000  \n",
       " Median :0.000000   Median :0.0000000   Median :1.0000   Median :0.00000  \n",
       " Mean   :0.007326   Mean   :0.0004579   Mean   :0.5087   Mean   :0.01099  \n",
       " 3rd Qu.:0.000000   3rd Qu.:0.0000000   3rd Qu.:1.0000   3rd Qu.:0.00000  \n",
       " Max.   :1.000000   Max.   :1.0000000   Max.   :1.0000   Max.   :1.00000  \n",
       "   quantity_6       quantity_7         amount      avg_receipt_4   \n",
       " Min.   :0.0000   Min.   :0.0000   Min.   :0.000   Min.   :0.0000  \n",
       " 1st Qu.:0.0000   1st Qu.:0.0000   1st Qu.:3.932   1st Qu.:0.0000  \n",
       " Median :0.0000   Median :0.0000   Median :4.263   Median :0.0000  \n",
       " Mean   :0.0087   Mean   :0.2152   Mean   :3.982   Mean   :0.1909  \n",
       " 3rd Qu.:0.0000   3rd Qu.:0.0000   3rd Qu.:4.710   3rd Qu.:0.0000  \n",
       " Max.   :1.0000   Max.   :1.0000   Max.   :5.950   Max.   :1.0000  \n",
       " avg_receipt_5     avg_quantity_5     total_cancel12     hclust3_1     \n",
       " Min.   :0.00000   Min.   :0.000000   Min.   :0.0000   Min.   :0.0000  \n",
       " 1st Qu.:0.00000   1st Qu.:0.000000   1st Qu.:0.0000   1st Qu.:0.0000  \n",
       " Median :0.00000   Median :0.000000   Median :0.0000   Median :0.0000  \n",
       " Mean   :0.03617   Mean   :0.005037   Mean   :0.4794   Mean   :0.4446  \n",
       " 3rd Qu.:0.00000   3rd Qu.:0.000000   3rd Qu.:1.0000   3rd Qu.:1.0000  \n",
       " Max.   :1.00000   Max.   :1.000000   Max.   :4.0000   Max.   :1.0000  \n",
       "   hclust4_4        Mclust3_1        Mclust3_2        Mclust3_3     \n",
       " Min.   :0.0000   Min.   :0.0000   Min.   :0.0000   Min.   :0.0000  \n",
       " 1st Qu.:0.0000   1st Qu.:0.0000   1st Qu.:0.0000   1st Qu.:0.0000  \n",
       " Median :0.0000   Median :0.0000   Median :1.0000   Median :0.0000  \n",
       " Mean   :0.2212   Mean   :0.2088   Mean   :0.6667   Mean   :0.1245  \n",
       " 3rd Qu.:0.0000   3rd Qu.:0.0000   3rd Qu.:1.0000   3rd Qu.:0.0000  \n",
       " Max.   :1.0000   Max.   :1.0000   Max.   :1.0000   Max.   :1.0000  \n",
       "   Mclust4_1        Mclust4_2        Mclust4_3        Mclust4_4     \n",
       " Min.   :0.0000   Min.   :0.0000   Min.   :0.0000   Min.   :0.0000  \n",
       " 1st Qu.:0.0000   1st Qu.:0.0000   1st Qu.:0.0000   1st Qu.:0.0000  \n",
       " Median :0.0000   Median :0.0000   Median :0.0000   Median :0.0000  \n",
       " Mean   :0.2088   Mean   :0.3636   Mean   :0.3031   Mean   :0.1245  \n",
       " 3rd Qu.:0.0000   3rd Qu.:1.0000   3rd Qu.:1.0000   3rd Qu.:0.0000  \n",
       " Max.   :1.0000   Max.   :1.0000   Max.   :1.0000   Max.   :1.0000  "
      ]
     },
     "metadata": {},
     "output_type": "display_data"
    }
   ],
   "source": [
    "summary(data)"
   ]
  },
  {
   "cell_type": "code",
   "execution_count": 4,
   "metadata": {},
   "outputs": [
    {
     "data": {
      "text/html": [
       "<table>\n",
       "<caption>A matrix: 64 × 2 of type chr</caption>\n",
       "<thead>\n",
       "\t<tr><th></th><th scope=col>Index</th><th scope=col>Type</th></tr>\n",
       "</thead>\n",
       "<tbody>\n",
       "\t<tr><th scope=row>NoShow</th><td>1 </td><td>integer</td></tr>\n",
       "\t<tr><th scope=row>sunday</th><td>2 </td><td>integer</td></tr>\n",
       "\t<tr><th scope=row>monday</th><td>3 </td><td>integer</td></tr>\n",
       "\t<tr><th scope=row>saturday</th><td>4 </td><td>integer</td></tr>\n",
       "\t<tr><th scope=row>time_booked</th><td>5 </td><td>integer</td></tr>\n",
       "\t<tr><th scope=row>cancel_days_1</th><td>6 </td><td>integer</td></tr>\n",
       "\t<tr><th scope=row>cancel_days_2</th><td>7 </td><td>integer</td></tr>\n",
       "\t<tr><th scope=row>cancel_days_3</th><td>8 </td><td>integer</td></tr>\n",
       "\t<tr><th scope=row>cancel_days_4</th><td>9 </td><td>integer</td></tr>\n",
       "\t<tr><th scope=row>cancel_days_5</th><td>10</td><td>integer</td></tr>\n",
       "\t<tr><th scope=row>cancel_days_6</th><td>11</td><td>integer</td></tr>\n",
       "\t<tr><th scope=row>cancel_days_7</th><td>12</td><td>integer</td></tr>\n",
       "\t<tr><th scope=row>service_CAL</th><td>13</td><td>integer</td></tr>\n",
       "\t<tr><th scope=row>service_CALC</th><td>14</td><td>integer</td></tr>\n",
       "\t<tr><th scope=row>service_CAS</th><td>15</td><td>integer</td></tr>\n",
       "\t<tr><th scope=row>service_CBAL</th><td>16</td><td>integer</td></tr>\n",
       "\t<tr><th scope=row>service_CCAMO</th><td>17</td><td>integer</td></tr>\n",
       "\t<tr><th scope=row>service_CCO</th><td>18</td><td>integer</td></tr>\n",
       "\t<tr><th scope=row>service_CDPB</th><td>19</td><td>integer</td></tr>\n",
       "\t<tr><th scope=row>service_CFC</th><td>20</td><td>integer</td></tr>\n",
       "\t<tr><th scope=row>service_CHLFH</th><td>21</td><td>integer</td></tr>\n",
       "\t<tr><th scope=row>service_CHLFHC</th><td>22</td><td>integer</td></tr>\n",
       "\t<tr><th scope=row>service_CHLHH</th><td>23</td><td>integer</td></tr>\n",
       "\t<tr><th scope=row>service_CHLHHC</th><td>24</td><td>integer</td></tr>\n",
       "\t<tr><th scope=row>service_CHLPHC</th><td>25</td><td>integer</td></tr>\n",
       "\t<tr><th scope=row>service_CHLPL</th><td>26</td><td>integer</td></tr>\n",
       "\t<tr><th scope=row>service_CMT</th><td>27</td><td>integer</td></tr>\n",
       "\t<tr><th scope=row>service_CON</th><td>28</td><td>integer</td></tr>\n",
       "\t<tr><th scope=row>service_CT</th><td>29</td><td>integer</td></tr>\n",
       "\t<tr><th scope=row>service_FRI</th><td>30</td><td>integer</td></tr>\n",
       "\t<tr><th scope=row>...</th><td>...</td><td>...</td></tr>\n",
       "\t<tr><th scope=row>service_SHCC</th><td>35</td><td>integer</td></tr>\n",
       "\t<tr><th scope=row>service_SHCW</th><td>36</td><td>integer</td></tr>\n",
       "\t<tr><th scope=row>service_SMARTBOND</th><td>37</td><td>integer</td></tr>\n",
       "\t<tr><th scope=row>service_SMO</th><td>38</td><td>integer</td></tr>\n",
       "\t<tr><th scope=row>staff_HOUSE</th><td>39</td><td>integer</td></tr>\n",
       "\t<tr><th scope=row>staff_KELLY</th><td>40</td><td>integer</td></tr>\n",
       "\t<tr><th scope=row>Canceled_By_BECKY</th><td>41</td><td>integer</td></tr>\n",
       "\t<tr><th scope=row>Canceled_By_JJ</th><td>42</td><td>integer</td></tr>\n",
       "\t<tr><th scope=row>Canceled_By_JOANNE</th><td>43</td><td>integer</td></tr>\n",
       "\t<tr><th scope=row>Canceled_By_KELLY</th><td>44</td><td>integer</td></tr>\n",
       "\t<tr><th scope=row>Canceled_By_SINEAD</th><td>45</td><td>integer</td></tr>\n",
       "\t<tr><th scope=row>quantity_1</th><td>46</td><td>integer</td></tr>\n",
       "\t<tr><th scope=row>quantity_2</th><td>47</td><td>integer</td></tr>\n",
       "\t<tr><th scope=row>quantity_5</th><td>48</td><td>integer</td></tr>\n",
       "\t<tr><th scope=row>quantity_6</th><td>49</td><td>integer</td></tr>\n",
       "\t<tr><th scope=row>quantity_7</th><td>50</td><td>integer</td></tr>\n",
       "\t<tr><th scope=row>amount</th><td>51</td><td>numeric</td></tr>\n",
       "\t<tr><th scope=row>avg_receipt_4</th><td>52</td><td>integer</td></tr>\n",
       "\t<tr><th scope=row>avg_receipt_5</th><td>53</td><td>integer</td></tr>\n",
       "\t<tr><th scope=row>avg_quantity_5</th><td>54</td><td>integer</td></tr>\n",
       "\t<tr><th scope=row>total_cancel12</th><td>55</td><td>integer</td></tr>\n",
       "\t<tr><th scope=row>hclust3_1</th><td>56</td><td>integer</td></tr>\n",
       "\t<tr><th scope=row>hclust4_4</th><td>57</td><td>integer</td></tr>\n",
       "\t<tr><th scope=row>Mclust3_1</th><td>58</td><td>integer</td></tr>\n",
       "\t<tr><th scope=row>Mclust3_2</th><td>59</td><td>integer</td></tr>\n",
       "\t<tr><th scope=row>Mclust3_3</th><td>60</td><td>integer</td></tr>\n",
       "\t<tr><th scope=row>Mclust4_1</th><td>61</td><td>integer</td></tr>\n",
       "\t<tr><th scope=row>Mclust4_2</th><td>62</td><td>integer</td></tr>\n",
       "\t<tr><th scope=row>Mclust4_3</th><td>63</td><td>integer</td></tr>\n",
       "\t<tr><th scope=row>Mclust4_4</th><td>64</td><td>integer</td></tr>\n",
       "</tbody>\n",
       "</table>\n"
      ],
      "text/latex": [
       "A matrix: 64 × 2 of type chr\n",
       "\\begin{tabular}{r|ll}\n",
       "  & Index & Type\\\\\n",
       "\\hline\n",
       "\tNoShow & 1  & integer\\\\\n",
       "\tsunday & 2  & integer\\\\\n",
       "\tmonday & 3  & integer\\\\\n",
       "\tsaturday & 4  & integer\\\\\n",
       "\ttime\\_booked & 5  & integer\\\\\n",
       "\tcancel\\_days\\_1 & 6  & integer\\\\\n",
       "\tcancel\\_days\\_2 & 7  & integer\\\\\n",
       "\tcancel\\_days\\_3 & 8  & integer\\\\\n",
       "\tcancel\\_days\\_4 & 9  & integer\\\\\n",
       "\tcancel\\_days\\_5 & 10 & integer\\\\\n",
       "\tcancel\\_days\\_6 & 11 & integer\\\\\n",
       "\tcancel\\_days\\_7 & 12 & integer\\\\\n",
       "\tservice\\_CAL & 13 & integer\\\\\n",
       "\tservice\\_CALC & 14 & integer\\\\\n",
       "\tservice\\_CAS & 15 & integer\\\\\n",
       "\tservice\\_CBAL & 16 & integer\\\\\n",
       "\tservice\\_CCAMO & 17 & integer\\\\\n",
       "\tservice\\_CCO & 18 & integer\\\\\n",
       "\tservice\\_CDPB & 19 & integer\\\\\n",
       "\tservice\\_CFC & 20 & integer\\\\\n",
       "\tservice\\_CHLFH & 21 & integer\\\\\n",
       "\tservice\\_CHLFHC & 22 & integer\\\\\n",
       "\tservice\\_CHLHH & 23 & integer\\\\\n",
       "\tservice\\_CHLHHC & 24 & integer\\\\\n",
       "\tservice\\_CHLPHC & 25 & integer\\\\\n",
       "\tservice\\_CHLPL & 26 & integer\\\\\n",
       "\tservice\\_CMT & 27 & integer\\\\\n",
       "\tservice\\_CON & 28 & integer\\\\\n",
       "\tservice\\_CT & 29 & integer\\\\\n",
       "\tservice\\_FRI & 30 & integer\\\\\n",
       "\t... & ... & ...\\\\\n",
       "\tservice\\_SHCC & 35 & integer\\\\\n",
       "\tservice\\_SHCW & 36 & integer\\\\\n",
       "\tservice\\_SMARTBOND & 37 & integer\\\\\n",
       "\tservice\\_SMO & 38 & integer\\\\\n",
       "\tstaff\\_HOUSE & 39 & integer\\\\\n",
       "\tstaff\\_KELLY & 40 & integer\\\\\n",
       "\tCanceled\\_By\\_BECKY & 41 & integer\\\\\n",
       "\tCanceled\\_By\\_JJ & 42 & integer\\\\\n",
       "\tCanceled\\_By\\_JOANNE & 43 & integer\\\\\n",
       "\tCanceled\\_By\\_KELLY & 44 & integer\\\\\n",
       "\tCanceled\\_By\\_SINEAD & 45 & integer\\\\\n",
       "\tquantity\\_1 & 46 & integer\\\\\n",
       "\tquantity\\_2 & 47 & integer\\\\\n",
       "\tquantity\\_5 & 48 & integer\\\\\n",
       "\tquantity\\_6 & 49 & integer\\\\\n",
       "\tquantity\\_7 & 50 & integer\\\\\n",
       "\tamount & 51 & numeric\\\\\n",
       "\tavg\\_receipt\\_4 & 52 & integer\\\\\n",
       "\tavg\\_receipt\\_5 & 53 & integer\\\\\n",
       "\tavg\\_quantity\\_5 & 54 & integer\\\\\n",
       "\ttotal\\_cancel12 & 55 & integer\\\\\n",
       "\thclust3\\_1 & 56 & integer\\\\\n",
       "\thclust4\\_4 & 57 & integer\\\\\n",
       "\tMclust3\\_1 & 58 & integer\\\\\n",
       "\tMclust3\\_2 & 59 & integer\\\\\n",
       "\tMclust3\\_3 & 60 & integer\\\\\n",
       "\tMclust4\\_1 & 61 & integer\\\\\n",
       "\tMclust4\\_2 & 62 & integer\\\\\n",
       "\tMclust4\\_3 & 63 & integer\\\\\n",
       "\tMclust4\\_4 & 64 & integer\\\\\n",
       "\\end{tabular}\n"
      ],
      "text/markdown": [
       "\n",
       "A matrix: 64 × 2 of type chr\n",
       "\n",
       "| <!--/--> | Index | Type |\n",
       "|---|---|---|\n",
       "| NoShow | 1  | integer |\n",
       "| sunday | 2  | integer |\n",
       "| monday | 3  | integer |\n",
       "| saturday | 4  | integer |\n",
       "| time_booked | 5  | integer |\n",
       "| cancel_days_1 | 6  | integer |\n",
       "| cancel_days_2 | 7  | integer |\n",
       "| cancel_days_3 | 8  | integer |\n",
       "| cancel_days_4 | 9  | integer |\n",
       "| cancel_days_5 | 10 | integer |\n",
       "| cancel_days_6 | 11 | integer |\n",
       "| cancel_days_7 | 12 | integer |\n",
       "| service_CAL | 13 | integer |\n",
       "| service_CALC | 14 | integer |\n",
       "| service_CAS | 15 | integer |\n",
       "| service_CBAL | 16 | integer |\n",
       "| service_CCAMO | 17 | integer |\n",
       "| service_CCO | 18 | integer |\n",
       "| service_CDPB | 19 | integer |\n",
       "| service_CFC | 20 | integer |\n",
       "| service_CHLFH | 21 | integer |\n",
       "| service_CHLFHC | 22 | integer |\n",
       "| service_CHLHH | 23 | integer |\n",
       "| service_CHLHHC | 24 | integer |\n",
       "| service_CHLPHC | 25 | integer |\n",
       "| service_CHLPL | 26 | integer |\n",
       "| service_CMT | 27 | integer |\n",
       "| service_CON | 28 | integer |\n",
       "| service_CT | 29 | integer |\n",
       "| service_FRI | 30 | integer |\n",
       "| ... | ... | ... |\n",
       "| service_SHCC | 35 | integer |\n",
       "| service_SHCW | 36 | integer |\n",
       "| service_SMARTBOND | 37 | integer |\n",
       "| service_SMO | 38 | integer |\n",
       "| staff_HOUSE | 39 | integer |\n",
       "| staff_KELLY | 40 | integer |\n",
       "| Canceled_By_BECKY | 41 | integer |\n",
       "| Canceled_By_JJ | 42 | integer |\n",
       "| Canceled_By_JOANNE | 43 | integer |\n",
       "| Canceled_By_KELLY | 44 | integer |\n",
       "| Canceled_By_SINEAD | 45 | integer |\n",
       "| quantity_1 | 46 | integer |\n",
       "| quantity_2 | 47 | integer |\n",
       "| quantity_5 | 48 | integer |\n",
       "| quantity_6 | 49 | integer |\n",
       "| quantity_7 | 50 | integer |\n",
       "| amount | 51 | numeric |\n",
       "| avg_receipt_4 | 52 | integer |\n",
       "| avg_receipt_5 | 53 | integer |\n",
       "| avg_quantity_5 | 54 | integer |\n",
       "| total_cancel12 | 55 | integer |\n",
       "| hclust3_1 | 56 | integer |\n",
       "| hclust4_4 | 57 | integer |\n",
       "| Mclust3_1 | 58 | integer |\n",
       "| Mclust3_2 | 59 | integer |\n",
       "| Mclust3_3 | 60 | integer |\n",
       "| Mclust4_1 | 61 | integer |\n",
       "| Mclust4_2 | 62 | integer |\n",
       "| Mclust4_3 | 63 | integer |\n",
       "| Mclust4_4 | 64 | integer |\n",
       "\n"
      ],
      "text/plain": [
       "                   Index Type   \n",
       "NoShow             1     integer\n",
       "sunday             2     integer\n",
       "monday             3     integer\n",
       "saturday           4     integer\n",
       "time_booked        5     integer\n",
       "cancel_days_1      6     integer\n",
       "cancel_days_2      7     integer\n",
       "cancel_days_3      8     integer\n",
       "cancel_days_4      9     integer\n",
       "cancel_days_5      10    integer\n",
       "cancel_days_6      11    integer\n",
       "cancel_days_7      12    integer\n",
       "service_CAL        13    integer\n",
       "service_CALC       14    integer\n",
       "service_CAS        15    integer\n",
       "service_CBAL       16    integer\n",
       "service_CCAMO      17    integer\n",
       "service_CCO        18    integer\n",
       "service_CDPB       19    integer\n",
       "service_CFC        20    integer\n",
       "service_CHLFH      21    integer\n",
       "service_CHLFHC     22    integer\n",
       "service_CHLHH      23    integer\n",
       "service_CHLHHC     24    integer\n",
       "service_CHLPHC     25    integer\n",
       "service_CHLPL      26    integer\n",
       "service_CMT        27    integer\n",
       "service_CON        28    integer\n",
       "service_CT         29    integer\n",
       "service_FRI        30    integer\n",
       "...                ...   ...    \n",
       "service_SHCC       35    integer\n",
       "service_SHCW       36    integer\n",
       "service_SMARTBOND  37    integer\n",
       "service_SMO        38    integer\n",
       "staff_HOUSE        39    integer\n",
       "staff_KELLY        40    integer\n",
       "Canceled_By_BECKY  41    integer\n",
       "Canceled_By_JJ     42    integer\n",
       "Canceled_By_JOANNE 43    integer\n",
       "Canceled_By_KELLY  44    integer\n",
       "Canceled_By_SINEAD 45    integer\n",
       "quantity_1         46    integer\n",
       "quantity_2         47    integer\n",
       "quantity_5         48    integer\n",
       "quantity_6         49    integer\n",
       "quantity_7         50    integer\n",
       "amount             51    numeric\n",
       "avg_receipt_4      52    integer\n",
       "avg_receipt_5      53    integer\n",
       "avg_quantity_5     54    integer\n",
       "total_cancel12     55    integer\n",
       "hclust3_1          56    integer\n",
       "hclust4_4          57    integer\n",
       "Mclust3_1          58    integer\n",
       "Mclust3_2          59    integer\n",
       "Mclust3_3          60    integer\n",
       "Mclust4_1          61    integer\n",
       "Mclust4_2          62    integer\n",
       "Mclust4_3          63    integer\n",
       "Mclust4_4          64    integer"
      ]
     },
     "metadata": {},
     "output_type": "display_data"
    }
   ],
   "source": [
    "#table of types\n",
    "TypeTab <- NULL\n",
    "TypeTab <- cbind(Index=c(1:64),Type=sapply(data[,1:64],class))\n",
    "TypeTab"
   ]
  },
  {
   "cell_type": "raw",
   "metadata": {},
   "source": [
    "toFactor <- function(data) {\n",
    "    for (i in names(data)){\n",
    "        if (length(unique(data[[i]]))<5){\n",
    "            data[[i]] <- factor(data[[i]])\n",
    "        }\n",
    "    }\n",
    "    return(data)\n",
    "}\n",
    "data2 <- toFactor(data) \n",
    "summary(data)\n",
    "summary(data2)"
   ]
  },
  {
   "cell_type": "code",
   "execution_count": 5,
   "metadata": {},
   "outputs": [
    {
     "name": "stderr",
     "output_type": "stream",
     "text": [
      "Warning message:\n",
      "\"package 'mechkar' was built under R version 3.6.3\"\n"
     ]
    }
   ],
   "source": [
    "library(mechkar)"
   ]
  },
  {
   "cell_type": "code",
   "execution_count": 6,
   "metadata": {},
   "outputs": [
    {
     "name": "stderr",
     "output_type": "stream",
     "text": [
      "Warning message in Table1(data = data, y = \"NoShow\"):\n",
      "\"The following variables have unique values and will not be included in the analysis: \"\n"
     ]
    },
    {
     "name": "stdout",
     "output_type": "stream",
     "text": [
      "  |======================================================================| 100%"
     ]
    },
    {
     "name": "stderr",
     "output_type": "stream",
     "text": [
      "Warning message in `[<-.factor`(`*tmp*`, iseq, value = \"0\"):\n",
      "\"invalid factor level, NA generated\"\n",
      "Warning message:\n",
      "\"Column `Del` joining character vector and factor, coercing into character vector\"\n",
      "Warning message:\n",
      "\"Column `V1` joining character vector and factor, coercing into character vector\"\n",
      "Warning message:\n",
      "\"Column `V2` joining character vector and factor, coercing into character vector\"\n",
      "Warning message:\n",
      "\"Column `n` joining character vector and factor, coercing into character vector\"\n"
     ]
    },
    {
     "name": "stdout",
     "output_type": "stream",
     "text": [
      "  |======================================================================| 100%"
     ]
    },
    {
     "name": "stderr",
     "output_type": "stream",
     "text": [
      "Warning message in `[<-.factor`(`*tmp*`, iseq, value = \"1\"):\n",
      "\"invalid factor level, NA generated\"\n",
      "Warning message:\n",
      "\"Column `Del` joining character vector and factor, coercing into character vector\"\n",
      "Warning message:\n",
      "\"Column `V1` joining character vector and factor, coercing into character vector\"\n",
      "Warning message:\n",
      "\"Column `V2` joining character vector and factor, coercing into character vector\"\n",
      "Warning message:\n",
      "\"Column `n` joining character vector and factor, coercing into character vector\"\n"
     ]
    },
    {
     "name": "stdout",
     "output_type": "stream",
     "text": [
      "  |===================================================================== |  98%"
     ]
    },
    {
     "name": "stderr",
     "output_type": "stream",
     "text": [
      "Warning message:\n",
      "\"Column `V1` joining character vector and factor, coercing into character vector\"\n",
      "Warning message:\n",
      "\"Column `n` joining character vector and factor, coercing into character vector\"\n"
     ]
    },
    {
     "data": {
      "text/html": [
       "<table>\n",
       "<caption>A tibble: 129 × 6</caption>\n",
       "<thead>\n",
       "\t<tr><th scope=col>V1</th><th scope=col>V2</th><th scope=col>Pop</th><th scope=col>0</th><th scope=col>1</th><th scope=col>pval</th></tr>\n",
       "\t<tr><th scope=col>&lt;chr&gt;</th><th scope=col>&lt;chr&gt;</th><th scope=col>&lt;chr&gt;</th><th scope=col>&lt;fct&gt;</th><th scope=col>&lt;fct&gt;</th><th scope=col>&lt;fct&gt;</th></tr>\n",
       "</thead>\n",
       "<tbody>\n",
       "\t<tr><td>Individuals  </td><td>n           </td><td>2184               </td><td>2013               </td><td>171                </td><td>NA   </td></tr>\n",
       "\t<tr><td>NoShow       </td><td>Mean (SD)   </td><td>0.1 (0.3)          </td><td>NA                 </td><td>NA                 </td><td>NA   </td></tr>\n",
       "\t<tr><td>NoShow       </td><td>Median (IQR)</td><td>0.0 (0.0-0.0)      </td><td>NA                 </td><td>NA                 </td><td>0    </td></tr>\n",
       "\t<tr><td>sunday       </td><td>Mean (SD)   </td><td>0.0 (0.2)          </td><td>0.0 (0.2)          </td><td>0.1 (0.3)          </td><td>NA   </td></tr>\n",
       "\t<tr><td>sunday       </td><td>Median (IQR)</td><td>0.0 (0.0-0.0)      </td><td>0.0 (0.0-0.0)      </td><td>0.0 (0.0-0.0)      </td><td>0.028</td></tr>\n",
       "\t<tr><td>monday       </td><td>Mean (SD)   </td><td>0.0 (0.0)          </td><td>0.0 (0.0)          </td><td>0.0 (0.0)          </td><td>NA   </td></tr>\n",
       "\t<tr><td>monday       </td><td>Median (IQR)</td><td>0.0 (0.0-0.0)      </td><td>0.0 (0.0-0.0)      </td><td>0.0 (0.0-0.0)      </td><td>0.318</td></tr>\n",
       "\t<tr><td>saturday     </td><td>Mean (SD)   </td><td>0.2 (0.4)          </td><td>0.2 (0.4)          </td><td>0.2 (0.4)          </td><td>NA   </td></tr>\n",
       "\t<tr><td>saturday     </td><td>Median (IQR)</td><td>0.0 (0.0-0.0)      </td><td>0.0 (0.0-0.0)      </td><td>0.0 (0.0-0.0)      </td><td>0.182</td></tr>\n",
       "\t<tr><td>time_booked  </td><td>Mean (SD)   </td><td>804.7 (175.8)      </td><td>804.2 (175.4)      </td><td>810.5 (180.8)      </td><td>NA   </td></tr>\n",
       "\t<tr><td>time_booked  </td><td>Median (IQR)</td><td>790.0 (660.0-960.0)</td><td>790.0 (660.0-950.0)</td><td>810.0 (650.0-970.0)</td><td>0.653</td></tr>\n",
       "\t<tr><td>cancel_days_1</td><td>Mean (SD)   </td><td>0.1 (0.2)          </td><td>0.0 (0.0)          </td><td>0.8 (0.4)          </td><td>NA   </td></tr>\n",
       "\t<tr><td>cancel_days_1</td><td>Median (IQR)</td><td>0.0 (0.0-0.0)      </td><td>0.0 (0.0-0.0)      </td><td>1.0 (1.0-1.0)      </td><td>0    </td></tr>\n",
       "\t<tr><td>cancel_days_2</td><td>Mean (SD)   </td><td>0.0 (0.1)          </td><td>0.0 (0.0)          </td><td>0.2 (0.4)          </td><td>NA   </td></tr>\n",
       "\t<tr><td>cancel_days_2</td><td>Median (IQR)</td><td>0.0 (0.0-0.0)      </td><td>0.0 (0.0-0.0)      </td><td>0.0 (0.0-0.0)      </td><td>0    </td></tr>\n",
       "\t<tr><td>cancel_days_3</td><td>Mean (SD)   </td><td>0.0 (0.1)          </td><td>0.0 (0.1)          </td><td>0.0 (0.0)          </td><td>NA   </td></tr>\n",
       "\t<tr><td>cancel_days_3</td><td>Median (IQR)</td><td>0.0 (0.0-0.0)      </td><td>0.0 (0.0-0.0)      </td><td>0.0 (0.0-0.0)      </td><td>0    </td></tr>\n",
       "\t<tr><td>cancel_days_4</td><td>Mean (SD)   </td><td>0.0 (0.1)          </td><td>0.0 (0.1)          </td><td>0.0 (0.0)          </td><td>NA   </td></tr>\n",
       "\t<tr><td>cancel_days_4</td><td>Median (IQR)</td><td>0.0 (0.0-0.0)      </td><td>0.0 (0.0-0.0)      </td><td>0.0 (0.0-0.0)      </td><td>0    </td></tr>\n",
       "\t<tr><td>cancel_days_5</td><td>Mean (SD)   </td><td>0.0 (0.1)          </td><td>0.0 (0.1)          </td><td>0.0 (0.0)          </td><td>NA   </td></tr>\n",
       "\t<tr><td>cancel_days_5</td><td>Median (IQR)</td><td>0.0 (0.0-0.0)      </td><td>0.0 (0.0-0.0)      </td><td>0.0 (0.0-0.0)      </td><td>0    </td></tr>\n",
       "\t<tr><td>cancel_days_6</td><td>Mean (SD)   </td><td>0.0 (0.1)          </td><td>0.0 (0.1)          </td><td>0.0 (0.0)          </td><td>NA   </td></tr>\n",
       "\t<tr><td>cancel_days_6</td><td>Median (IQR)</td><td>0.0 (0.0-0.0)      </td><td>0.0 (0.0-0.0)      </td><td>0.0 (0.0-0.0)      </td><td>0    </td></tr>\n",
       "\t<tr><td>cancel_days_7</td><td>Mean (SD)   </td><td>0.9 (0.3)          </td><td>0.9 (0.2)          </td><td>0.0 (0.1)          </td><td>NA   </td></tr>\n",
       "\t<tr><td>cancel_days_7</td><td>Median (IQR)</td><td>1.0 (1.0-1.0)      </td><td>1.0 (1.0-1.0)      </td><td>0.0 (0.0-0.0)      </td><td>0    </td></tr>\n",
       "\t<tr><td>service_CAL  </td><td>Mean (SD)   </td><td>0.0 (0.1)          </td><td>0.0 (0.1)          </td><td>0.0 (0.0)          </td><td>NA   </td></tr>\n",
       "\t<tr><td>service_CAL  </td><td>Median (IQR)</td><td>0.0 (0.0-0.0)      </td><td>0.0 (0.0-0.0)      </td><td>0.0 (0.0-0.0)      </td><td>0.014</td></tr>\n",
       "\t<tr><td>service_CALC </td><td>Mean (SD)   </td><td>0.0 (0.1)          </td><td>0.0 (0.1)          </td><td>0.0 (0.1)          </td><td>NA   </td></tr>\n",
       "\t<tr><td>service_CALC </td><td>Median (IQR)</td><td>0.0 (0.0-0.0)      </td><td>0.0 (0.0-0.0)      </td><td>0.0 (0.0-0.0)      </td><td>0.041</td></tr>\n",
       "\t<tr><td>service_CAS  </td><td>Mean (SD)   </td><td>0.0 (0.0)          </td><td>0.0 (0.0)          </td><td>0.0 (0.0)          </td><td>NA   </td></tr>\n",
       "\t<tr><td>...</td><td>...</td><td>...</td><td>...</td><td>...</td><td>...</td></tr>\n",
       "\t<tr><td>quantity_7    </td><td>Mean (SD)   </td><td>0.2 (0.4)    </td><td>0.2 (0.4)    </td><td>0.8 (0.4)    </td><td>NA   </td></tr>\n",
       "\t<tr><td>quantity_7    </td><td>Median (IQR)</td><td>0.0 (0.0-0.0)</td><td>0.0 (0.0-0.0)</td><td>1.0 (1.0-1.0)</td><td>0    </td></tr>\n",
       "\t<tr><td>amount        </td><td>Mean (SD)   </td><td>4.0 (1.4)    </td><td>4.0 (1.3)    </td><td>3.6 (1.8)    </td><td>NA   </td></tr>\n",
       "\t<tr><td>amount        </td><td>Median (IQR)</td><td>4.3 (3.9-4.7)</td><td>4.3 (3.9-4.7)</td><td>4.0 (3.5-4.8)</td><td>0.003</td></tr>\n",
       "\t<tr><td>avg_receipt_4 </td><td>Mean (SD)   </td><td>0.2 (0.4)    </td><td>0.2 (0.4)    </td><td>0.2 (0.4)    </td><td>NA   </td></tr>\n",
       "\t<tr><td>avg_receipt_4 </td><td>Median (IQR)</td><td>0.0 (0.0-0.0)</td><td>0.0 (0.0-0.0)</td><td>0.0 (0.0-0.0)</td><td>0.943</td></tr>\n",
       "\t<tr><td>avg_receipt_5 </td><td>Mean (SD)   </td><td>0.0 (0.2)    </td><td>0.0 (0.2)    </td><td>0.0 (0.1)    </td><td>NA   </td></tr>\n",
       "\t<tr><td>avg_receipt_5 </td><td>Median (IQR)</td><td>0.0 (0.0-0.0)</td><td>0.0 (0.0-0.0)</td><td>0.0 (0.0-0.0)</td><td>0.065</td></tr>\n",
       "\t<tr><td>avg_quantity_5</td><td>Mean (SD)   </td><td>0.0 (0.1)    </td><td>0.0 (0.1)    </td><td>0.0 (0.0)    </td><td>NA   </td></tr>\n",
       "\t<tr><td>avg_quantity_5</td><td>Median (IQR)</td><td>0.0 (0.0-0.0)</td><td>0.0 (0.0-0.0)</td><td>0.0 (0.0-0.0)</td><td>0.001</td></tr>\n",
       "\t<tr><td>total_cancel12</td><td>Mean (SD)   </td><td>0.5 (0.9)    </td><td>0.5 (0.9)    </td><td>0.7 (0.8)    </td><td>NA   </td></tr>\n",
       "\t<tr><td>total_cancel12</td><td>Median (IQR)</td><td>0.0 (0.0-1.0)</td><td>0.0 (0.0-1.0)</td><td>1.0 (0.0-1.0)</td><td>0.005</td></tr>\n",
       "\t<tr><td>hclust3_1     </td><td>Mean (SD)   </td><td>0.4 (0.5)    </td><td>0.4 (0.5)    </td><td>0.4 (0.5)    </td><td>NA   </td></tr>\n",
       "\t<tr><td>hclust3_1     </td><td>Median (IQR)</td><td>0.0 (0.0-1.0)</td><td>0.0 (0.0-1.0)</td><td>0.0 (0.0-1.0)</td><td>0.997</td></tr>\n",
       "\t<tr><td>hclust4_4     </td><td>Mean (SD)   </td><td>0.2 (0.4)    </td><td>0.2 (0.4)    </td><td>0.2 (0.4)    </td><td>NA   </td></tr>\n",
       "\t<tr><td>hclust4_4     </td><td>Median (IQR)</td><td>0.0 (0.0-0.0)</td><td>0.0 (0.0-0.0)</td><td>0.0 (0.0-0.0)</td><td>0.727</td></tr>\n",
       "\t<tr><td>Mclust3_1     </td><td>Mean (SD)   </td><td>0.2 (0.4)    </td><td>0.2 (0.4)    </td><td>0.4 (0.5)    </td><td>NA   </td></tr>\n",
       "\t<tr><td>Mclust3_1     </td><td>Median (IQR)</td><td>0.0 (0.0-0.0)</td><td>0.0 (0.0-0.0)</td><td>0.0 (0.0-1.0)</td><td>0    </td></tr>\n",
       "\t<tr><td>Mclust3_2     </td><td>Mean (SD)   </td><td>0.7 (0.5)    </td><td>0.7 (0.5)    </td><td>0.2 (0.4)    </td><td>NA   </td></tr>\n",
       "\t<tr><td>Mclust3_2     </td><td>Median (IQR)</td><td>1.0 (0.0-1.0)</td><td>1.0 (0.0-1.0)</td><td>0.0 (0.0-0.0)</td><td>0    </td></tr>\n",
       "\t<tr><td>Mclust3_3     </td><td>Mean (SD)   </td><td>0.1 (0.3)    </td><td>0.1 (0.3)    </td><td>0.4 (0.5)    </td><td>NA   </td></tr>\n",
       "\t<tr><td>Mclust3_3     </td><td>Median (IQR)</td><td>0.0 (0.0-0.0)</td><td>0.0 (0.0-0.0)</td><td>0.0 (0.0-1.0)</td><td>0    </td></tr>\n",
       "\t<tr><td>Mclust4_1     </td><td>Mean (SD)   </td><td>0.2 (0.4)    </td><td>0.2 (0.4)    </td><td>0.4 (0.5)    </td><td>NA   </td></tr>\n",
       "\t<tr><td>Mclust4_1     </td><td>Median (IQR)</td><td>0.0 (0.0-0.0)</td><td>0.0 (0.0-0.0)</td><td>0.0 (0.0-1.0)</td><td>0    </td></tr>\n",
       "\t<tr><td>Mclust4_2     </td><td>Mean (SD)   </td><td>0.4 (0.5)    </td><td>0.4 (0.5)    </td><td>0.1 (0.3)    </td><td>NA   </td></tr>\n",
       "\t<tr><td>Mclust4_2     </td><td>Median (IQR)</td><td>0.0 (0.0-1.0)</td><td>0.0 (0.0-1.0)</td><td>0.0 (0.0-0.0)</td><td>0    </td></tr>\n",
       "\t<tr><td>Mclust4_3     </td><td>Mean (SD)   </td><td>0.3 (0.5)    </td><td>0.3 (0.5)    </td><td>0.1 (0.2)    </td><td>NA   </td></tr>\n",
       "\t<tr><td>Mclust4_3     </td><td>Median (IQR)</td><td>0.0 (0.0-1.0)</td><td>0.0 (0.0-1.0)</td><td>0.0 (0.0-0.0)</td><td>0    </td></tr>\n",
       "\t<tr><td>Mclust4_4     </td><td>Mean (SD)   </td><td>0.1 (0.3)    </td><td>0.1 (0.3)    </td><td>0.4 (0.5)    </td><td>NA   </td></tr>\n",
       "\t<tr><td>Mclust4_4     </td><td>Median (IQR)</td><td>0.0 (0.0-0.0)</td><td>0.0 (0.0-0.0)</td><td>0.0 (0.0-1.0)</td><td>0    </td></tr>\n",
       "</tbody>\n",
       "</table>\n"
      ],
      "text/latex": [
       "A tibble: 129 × 6\n",
       "\\begin{tabular}{llllll}\n",
       " V1 & V2 & Pop & 0 & 1 & pval\\\\\n",
       " <chr> & <chr> & <chr> & <fct> & <fct> & <fct>\\\\\n",
       "\\hline\n",
       "\t Individuals   & n            & 2184                & 2013                & 171                 & NA   \\\\\n",
       "\t NoShow        & Mean (SD)    & 0.1 (0.3)           & NA                  & NA                  & NA   \\\\\n",
       "\t NoShow        & Median (IQR) & 0.0 (0.0-0.0)       & NA                  & NA                  & 0    \\\\\n",
       "\t sunday        & Mean (SD)    & 0.0 (0.2)           & 0.0 (0.2)           & 0.1 (0.3)           & NA   \\\\\n",
       "\t sunday        & Median (IQR) & 0.0 (0.0-0.0)       & 0.0 (0.0-0.0)       & 0.0 (0.0-0.0)       & 0.028\\\\\n",
       "\t monday        & Mean (SD)    & 0.0 (0.0)           & 0.0 (0.0)           & 0.0 (0.0)           & NA   \\\\\n",
       "\t monday        & Median (IQR) & 0.0 (0.0-0.0)       & 0.0 (0.0-0.0)       & 0.0 (0.0-0.0)       & 0.318\\\\\n",
       "\t saturday      & Mean (SD)    & 0.2 (0.4)           & 0.2 (0.4)           & 0.2 (0.4)           & NA   \\\\\n",
       "\t saturday      & Median (IQR) & 0.0 (0.0-0.0)       & 0.0 (0.0-0.0)       & 0.0 (0.0-0.0)       & 0.182\\\\\n",
       "\t time\\_booked   & Mean (SD)    & 804.7 (175.8)       & 804.2 (175.4)       & 810.5 (180.8)       & NA   \\\\\n",
       "\t time\\_booked   & Median (IQR) & 790.0 (660.0-960.0) & 790.0 (660.0-950.0) & 810.0 (650.0-970.0) & 0.653\\\\\n",
       "\t cancel\\_days\\_1 & Mean (SD)    & 0.1 (0.2)           & 0.0 (0.0)           & 0.8 (0.4)           & NA   \\\\\n",
       "\t cancel\\_days\\_1 & Median (IQR) & 0.0 (0.0-0.0)       & 0.0 (0.0-0.0)       & 1.0 (1.0-1.0)       & 0    \\\\\n",
       "\t cancel\\_days\\_2 & Mean (SD)    & 0.0 (0.1)           & 0.0 (0.0)           & 0.2 (0.4)           & NA   \\\\\n",
       "\t cancel\\_days\\_2 & Median (IQR) & 0.0 (0.0-0.0)       & 0.0 (0.0-0.0)       & 0.0 (0.0-0.0)       & 0    \\\\\n",
       "\t cancel\\_days\\_3 & Mean (SD)    & 0.0 (0.1)           & 0.0 (0.1)           & 0.0 (0.0)           & NA   \\\\\n",
       "\t cancel\\_days\\_3 & Median (IQR) & 0.0 (0.0-0.0)       & 0.0 (0.0-0.0)       & 0.0 (0.0-0.0)       & 0    \\\\\n",
       "\t cancel\\_days\\_4 & Mean (SD)    & 0.0 (0.1)           & 0.0 (0.1)           & 0.0 (0.0)           & NA   \\\\\n",
       "\t cancel\\_days\\_4 & Median (IQR) & 0.0 (0.0-0.0)       & 0.0 (0.0-0.0)       & 0.0 (0.0-0.0)       & 0    \\\\\n",
       "\t cancel\\_days\\_5 & Mean (SD)    & 0.0 (0.1)           & 0.0 (0.1)           & 0.0 (0.0)           & NA   \\\\\n",
       "\t cancel\\_days\\_5 & Median (IQR) & 0.0 (0.0-0.0)       & 0.0 (0.0-0.0)       & 0.0 (0.0-0.0)       & 0    \\\\\n",
       "\t cancel\\_days\\_6 & Mean (SD)    & 0.0 (0.1)           & 0.0 (0.1)           & 0.0 (0.0)           & NA   \\\\\n",
       "\t cancel\\_days\\_6 & Median (IQR) & 0.0 (0.0-0.0)       & 0.0 (0.0-0.0)       & 0.0 (0.0-0.0)       & 0    \\\\\n",
       "\t cancel\\_days\\_7 & Mean (SD)    & 0.9 (0.3)           & 0.9 (0.2)           & 0.0 (0.1)           & NA   \\\\\n",
       "\t cancel\\_days\\_7 & Median (IQR) & 1.0 (1.0-1.0)       & 1.0 (1.0-1.0)       & 0.0 (0.0-0.0)       & 0    \\\\\n",
       "\t service\\_CAL   & Mean (SD)    & 0.0 (0.1)           & 0.0 (0.1)           & 0.0 (0.0)           & NA   \\\\\n",
       "\t service\\_CAL   & Median (IQR) & 0.0 (0.0-0.0)       & 0.0 (0.0-0.0)       & 0.0 (0.0-0.0)       & 0.014\\\\\n",
       "\t service\\_CALC  & Mean (SD)    & 0.0 (0.1)           & 0.0 (0.1)           & 0.0 (0.1)           & NA   \\\\\n",
       "\t service\\_CALC  & Median (IQR) & 0.0 (0.0-0.0)       & 0.0 (0.0-0.0)       & 0.0 (0.0-0.0)       & 0.041\\\\\n",
       "\t service\\_CAS   & Mean (SD)    & 0.0 (0.0)           & 0.0 (0.0)           & 0.0 (0.0)           & NA   \\\\\n",
       "\t ... & ... & ... & ... & ... & ...\\\\\n",
       "\t quantity\\_7     & Mean (SD)    & 0.2 (0.4)     & 0.2 (0.4)     & 0.8 (0.4)     & NA   \\\\\n",
       "\t quantity\\_7     & Median (IQR) & 0.0 (0.0-0.0) & 0.0 (0.0-0.0) & 1.0 (1.0-1.0) & 0    \\\\\n",
       "\t amount         & Mean (SD)    & 4.0 (1.4)     & 4.0 (1.3)     & 3.6 (1.8)     & NA   \\\\\n",
       "\t amount         & Median (IQR) & 4.3 (3.9-4.7) & 4.3 (3.9-4.7) & 4.0 (3.5-4.8) & 0.003\\\\\n",
       "\t avg\\_receipt\\_4  & Mean (SD)    & 0.2 (0.4)     & 0.2 (0.4)     & 0.2 (0.4)     & NA   \\\\\n",
       "\t avg\\_receipt\\_4  & Median (IQR) & 0.0 (0.0-0.0) & 0.0 (0.0-0.0) & 0.0 (0.0-0.0) & 0.943\\\\\n",
       "\t avg\\_receipt\\_5  & Mean (SD)    & 0.0 (0.2)     & 0.0 (0.2)     & 0.0 (0.1)     & NA   \\\\\n",
       "\t avg\\_receipt\\_5  & Median (IQR) & 0.0 (0.0-0.0) & 0.0 (0.0-0.0) & 0.0 (0.0-0.0) & 0.065\\\\\n",
       "\t avg\\_quantity\\_5 & Mean (SD)    & 0.0 (0.1)     & 0.0 (0.1)     & 0.0 (0.0)     & NA   \\\\\n",
       "\t avg\\_quantity\\_5 & Median (IQR) & 0.0 (0.0-0.0) & 0.0 (0.0-0.0) & 0.0 (0.0-0.0) & 0.001\\\\\n",
       "\t total\\_cancel12 & Mean (SD)    & 0.5 (0.9)     & 0.5 (0.9)     & 0.7 (0.8)     & NA   \\\\\n",
       "\t total\\_cancel12 & Median (IQR) & 0.0 (0.0-1.0) & 0.0 (0.0-1.0) & 1.0 (0.0-1.0) & 0.005\\\\\n",
       "\t hclust3\\_1      & Mean (SD)    & 0.4 (0.5)     & 0.4 (0.5)     & 0.4 (0.5)     & NA   \\\\\n",
       "\t hclust3\\_1      & Median (IQR) & 0.0 (0.0-1.0) & 0.0 (0.0-1.0) & 0.0 (0.0-1.0) & 0.997\\\\\n",
       "\t hclust4\\_4      & Mean (SD)    & 0.2 (0.4)     & 0.2 (0.4)     & 0.2 (0.4)     & NA   \\\\\n",
       "\t hclust4\\_4      & Median (IQR) & 0.0 (0.0-0.0) & 0.0 (0.0-0.0) & 0.0 (0.0-0.0) & 0.727\\\\\n",
       "\t Mclust3\\_1      & Mean (SD)    & 0.2 (0.4)     & 0.2 (0.4)     & 0.4 (0.5)     & NA   \\\\\n",
       "\t Mclust3\\_1      & Median (IQR) & 0.0 (0.0-0.0) & 0.0 (0.0-0.0) & 0.0 (0.0-1.0) & 0    \\\\\n",
       "\t Mclust3\\_2      & Mean (SD)    & 0.7 (0.5)     & 0.7 (0.5)     & 0.2 (0.4)     & NA   \\\\\n",
       "\t Mclust3\\_2      & Median (IQR) & 1.0 (0.0-1.0) & 1.0 (0.0-1.0) & 0.0 (0.0-0.0) & 0    \\\\\n",
       "\t Mclust3\\_3      & Mean (SD)    & 0.1 (0.3)     & 0.1 (0.3)     & 0.4 (0.5)     & NA   \\\\\n",
       "\t Mclust3\\_3      & Median (IQR) & 0.0 (0.0-0.0) & 0.0 (0.0-0.0) & 0.0 (0.0-1.0) & 0    \\\\\n",
       "\t Mclust4\\_1      & Mean (SD)    & 0.2 (0.4)     & 0.2 (0.4)     & 0.4 (0.5)     & NA   \\\\\n",
       "\t Mclust4\\_1      & Median (IQR) & 0.0 (0.0-0.0) & 0.0 (0.0-0.0) & 0.0 (0.0-1.0) & 0    \\\\\n",
       "\t Mclust4\\_2      & Mean (SD)    & 0.4 (0.5)     & 0.4 (0.5)     & 0.1 (0.3)     & NA   \\\\\n",
       "\t Mclust4\\_2      & Median (IQR) & 0.0 (0.0-1.0) & 0.0 (0.0-1.0) & 0.0 (0.0-0.0) & 0    \\\\\n",
       "\t Mclust4\\_3      & Mean (SD)    & 0.3 (0.5)     & 0.3 (0.5)     & 0.1 (0.2)     & NA   \\\\\n",
       "\t Mclust4\\_3      & Median (IQR) & 0.0 (0.0-1.0) & 0.0 (0.0-1.0) & 0.0 (0.0-0.0) & 0    \\\\\n",
       "\t Mclust4\\_4      & Mean (SD)    & 0.1 (0.3)     & 0.1 (0.3)     & 0.4 (0.5)     & NA   \\\\\n",
       "\t Mclust4\\_4      & Median (IQR) & 0.0 (0.0-0.0) & 0.0 (0.0-0.0) & 0.0 (0.0-1.0) & 0    \\\\\n",
       "\\end{tabular}\n"
      ],
      "text/markdown": [
       "\n",
       "A tibble: 129 × 6\n",
       "\n",
       "| V1 &lt;chr&gt; | V2 &lt;chr&gt; | Pop &lt;chr&gt; | 0 &lt;fct&gt; | 1 &lt;fct&gt; | pval &lt;fct&gt; |\n",
       "|---|---|---|---|---|---|\n",
       "| Individuals   | n            | 2184                | 2013                | 171                 | NA    |\n",
       "| NoShow        | Mean (SD)    | 0.1 (0.3)           | NA                  | NA                  | NA    |\n",
       "| NoShow        | Median (IQR) | 0.0 (0.0-0.0)       | NA                  | NA                  | 0     |\n",
       "| sunday        | Mean (SD)    | 0.0 (0.2)           | 0.0 (0.2)           | 0.1 (0.3)           | NA    |\n",
       "| sunday        | Median (IQR) | 0.0 (0.0-0.0)       | 0.0 (0.0-0.0)       | 0.0 (0.0-0.0)       | 0.028 |\n",
       "| monday        | Mean (SD)    | 0.0 (0.0)           | 0.0 (0.0)           | 0.0 (0.0)           | NA    |\n",
       "| monday        | Median (IQR) | 0.0 (0.0-0.0)       | 0.0 (0.0-0.0)       | 0.0 (0.0-0.0)       | 0.318 |\n",
       "| saturday      | Mean (SD)    | 0.2 (0.4)           | 0.2 (0.4)           | 0.2 (0.4)           | NA    |\n",
       "| saturday      | Median (IQR) | 0.0 (0.0-0.0)       | 0.0 (0.0-0.0)       | 0.0 (0.0-0.0)       | 0.182 |\n",
       "| time_booked   | Mean (SD)    | 804.7 (175.8)       | 804.2 (175.4)       | 810.5 (180.8)       | NA    |\n",
       "| time_booked   | Median (IQR) | 790.0 (660.0-960.0) | 790.0 (660.0-950.0) | 810.0 (650.0-970.0) | 0.653 |\n",
       "| cancel_days_1 | Mean (SD)    | 0.1 (0.2)           | 0.0 (0.0)           | 0.8 (0.4)           | NA    |\n",
       "| cancel_days_1 | Median (IQR) | 0.0 (0.0-0.0)       | 0.0 (0.0-0.0)       | 1.0 (1.0-1.0)       | 0     |\n",
       "| cancel_days_2 | Mean (SD)    | 0.0 (0.1)           | 0.0 (0.0)           | 0.2 (0.4)           | NA    |\n",
       "| cancel_days_2 | Median (IQR) | 0.0 (0.0-0.0)       | 0.0 (0.0-0.0)       | 0.0 (0.0-0.0)       | 0     |\n",
       "| cancel_days_3 | Mean (SD)    | 0.0 (0.1)           | 0.0 (0.1)           | 0.0 (0.0)           | NA    |\n",
       "| cancel_days_3 | Median (IQR) | 0.0 (0.0-0.0)       | 0.0 (0.0-0.0)       | 0.0 (0.0-0.0)       | 0     |\n",
       "| cancel_days_4 | Mean (SD)    | 0.0 (0.1)           | 0.0 (0.1)           | 0.0 (0.0)           | NA    |\n",
       "| cancel_days_4 | Median (IQR) | 0.0 (0.0-0.0)       | 0.0 (0.0-0.0)       | 0.0 (0.0-0.0)       | 0     |\n",
       "| cancel_days_5 | Mean (SD)    | 0.0 (0.1)           | 0.0 (0.1)           | 0.0 (0.0)           | NA    |\n",
       "| cancel_days_5 | Median (IQR) | 0.0 (0.0-0.0)       | 0.0 (0.0-0.0)       | 0.0 (0.0-0.0)       | 0     |\n",
       "| cancel_days_6 | Mean (SD)    | 0.0 (0.1)           | 0.0 (0.1)           | 0.0 (0.0)           | NA    |\n",
       "| cancel_days_6 | Median (IQR) | 0.0 (0.0-0.0)       | 0.0 (0.0-0.0)       | 0.0 (0.0-0.0)       | 0     |\n",
       "| cancel_days_7 | Mean (SD)    | 0.9 (0.3)           | 0.9 (0.2)           | 0.0 (0.1)           | NA    |\n",
       "| cancel_days_7 | Median (IQR) | 1.0 (1.0-1.0)       | 1.0 (1.0-1.0)       | 0.0 (0.0-0.0)       | 0     |\n",
       "| service_CAL   | Mean (SD)    | 0.0 (0.1)           | 0.0 (0.1)           | 0.0 (0.0)           | NA    |\n",
       "| service_CAL   | Median (IQR) | 0.0 (0.0-0.0)       | 0.0 (0.0-0.0)       | 0.0 (0.0-0.0)       | 0.014 |\n",
       "| service_CALC  | Mean (SD)    | 0.0 (0.1)           | 0.0 (0.1)           | 0.0 (0.1)           | NA    |\n",
       "| service_CALC  | Median (IQR) | 0.0 (0.0-0.0)       | 0.0 (0.0-0.0)       | 0.0 (0.0-0.0)       | 0.041 |\n",
       "| service_CAS   | Mean (SD)    | 0.0 (0.0)           | 0.0 (0.0)           | 0.0 (0.0)           | NA    |\n",
       "| ... | ... | ... | ... | ... | ... |\n",
       "| quantity_7     | Mean (SD)    | 0.2 (0.4)     | 0.2 (0.4)     | 0.8 (0.4)     | NA    |\n",
       "| quantity_7     | Median (IQR) | 0.0 (0.0-0.0) | 0.0 (0.0-0.0) | 1.0 (1.0-1.0) | 0     |\n",
       "| amount         | Mean (SD)    | 4.0 (1.4)     | 4.0 (1.3)     | 3.6 (1.8)     | NA    |\n",
       "| amount         | Median (IQR) | 4.3 (3.9-4.7) | 4.3 (3.9-4.7) | 4.0 (3.5-4.8) | 0.003 |\n",
       "| avg_receipt_4  | Mean (SD)    | 0.2 (0.4)     | 0.2 (0.4)     | 0.2 (0.4)     | NA    |\n",
       "| avg_receipt_4  | Median (IQR) | 0.0 (0.0-0.0) | 0.0 (0.0-0.0) | 0.0 (0.0-0.0) | 0.943 |\n",
       "| avg_receipt_5  | Mean (SD)    | 0.0 (0.2)     | 0.0 (0.2)     | 0.0 (0.1)     | NA    |\n",
       "| avg_receipt_5  | Median (IQR) | 0.0 (0.0-0.0) | 0.0 (0.0-0.0) | 0.0 (0.0-0.0) | 0.065 |\n",
       "| avg_quantity_5 | Mean (SD)    | 0.0 (0.1)     | 0.0 (0.1)     | 0.0 (0.0)     | NA    |\n",
       "| avg_quantity_5 | Median (IQR) | 0.0 (0.0-0.0) | 0.0 (0.0-0.0) | 0.0 (0.0-0.0) | 0.001 |\n",
       "| total_cancel12 | Mean (SD)    | 0.5 (0.9)     | 0.5 (0.9)     | 0.7 (0.8)     | NA    |\n",
       "| total_cancel12 | Median (IQR) | 0.0 (0.0-1.0) | 0.0 (0.0-1.0) | 1.0 (0.0-1.0) | 0.005 |\n",
       "| hclust3_1      | Mean (SD)    | 0.4 (0.5)     | 0.4 (0.5)     | 0.4 (0.5)     | NA    |\n",
       "| hclust3_1      | Median (IQR) | 0.0 (0.0-1.0) | 0.0 (0.0-1.0) | 0.0 (0.0-1.0) | 0.997 |\n",
       "| hclust4_4      | Mean (SD)    | 0.2 (0.4)     | 0.2 (0.4)     | 0.2 (0.4)     | NA    |\n",
       "| hclust4_4      | Median (IQR) | 0.0 (0.0-0.0) | 0.0 (0.0-0.0) | 0.0 (0.0-0.0) | 0.727 |\n",
       "| Mclust3_1      | Mean (SD)    | 0.2 (0.4)     | 0.2 (0.4)     | 0.4 (0.5)     | NA    |\n",
       "| Mclust3_1      | Median (IQR) | 0.0 (0.0-0.0) | 0.0 (0.0-0.0) | 0.0 (0.0-1.0) | 0     |\n",
       "| Mclust3_2      | Mean (SD)    | 0.7 (0.5)     | 0.7 (0.5)     | 0.2 (0.4)     | NA    |\n",
       "| Mclust3_2      | Median (IQR) | 1.0 (0.0-1.0) | 1.0 (0.0-1.0) | 0.0 (0.0-0.0) | 0     |\n",
       "| Mclust3_3      | Mean (SD)    | 0.1 (0.3)     | 0.1 (0.3)     | 0.4 (0.5)     | NA    |\n",
       "| Mclust3_3      | Median (IQR) | 0.0 (0.0-0.0) | 0.0 (0.0-0.0) | 0.0 (0.0-1.0) | 0     |\n",
       "| Mclust4_1      | Mean (SD)    | 0.2 (0.4)     | 0.2 (0.4)     | 0.4 (0.5)     | NA    |\n",
       "| Mclust4_1      | Median (IQR) | 0.0 (0.0-0.0) | 0.0 (0.0-0.0) | 0.0 (0.0-1.0) | 0     |\n",
       "| Mclust4_2      | Mean (SD)    | 0.4 (0.5)     | 0.4 (0.5)     | 0.1 (0.3)     | NA    |\n",
       "| Mclust4_2      | Median (IQR) | 0.0 (0.0-1.0) | 0.0 (0.0-1.0) | 0.0 (0.0-0.0) | 0     |\n",
       "| Mclust4_3      | Mean (SD)    | 0.3 (0.5)     | 0.3 (0.5)     | 0.1 (0.2)     | NA    |\n",
       "| Mclust4_3      | Median (IQR) | 0.0 (0.0-1.0) | 0.0 (0.0-1.0) | 0.0 (0.0-0.0) | 0     |\n",
       "| Mclust4_4      | Mean (SD)    | 0.1 (0.3)     | 0.1 (0.3)     | 0.4 (0.5)     | NA    |\n",
       "| Mclust4_4      | Median (IQR) | 0.0 (0.0-0.0) | 0.0 (0.0-0.0) | 0.0 (0.0-1.0) | 0     |\n",
       "\n"
      ],
      "text/plain": [
       "    V1             V2           Pop                 0                  \n",
       "1   Individuals    n            2184                2013               \n",
       "2   NoShow         Mean (SD)    0.1 (0.3)           NA                 \n",
       "3   NoShow         Median (IQR) 0.0 (0.0-0.0)       NA                 \n",
       "4   sunday         Mean (SD)    0.0 (0.2)           0.0 (0.2)          \n",
       "5   sunday         Median (IQR) 0.0 (0.0-0.0)       0.0 (0.0-0.0)      \n",
       "6   monday         Mean (SD)    0.0 (0.0)           0.0 (0.0)          \n",
       "7   monday         Median (IQR) 0.0 (0.0-0.0)       0.0 (0.0-0.0)      \n",
       "8   saturday       Mean (SD)    0.2 (0.4)           0.2 (0.4)          \n",
       "9   saturday       Median (IQR) 0.0 (0.0-0.0)       0.0 (0.0-0.0)      \n",
       "10  time_booked    Mean (SD)    804.7 (175.8)       804.2 (175.4)      \n",
       "11  time_booked    Median (IQR) 790.0 (660.0-960.0) 790.0 (660.0-950.0)\n",
       "12  cancel_days_1  Mean (SD)    0.1 (0.2)           0.0 (0.0)          \n",
       "13  cancel_days_1  Median (IQR) 0.0 (0.0-0.0)       0.0 (0.0-0.0)      \n",
       "14  cancel_days_2  Mean (SD)    0.0 (0.1)           0.0 (0.0)          \n",
       "15  cancel_days_2  Median (IQR) 0.0 (0.0-0.0)       0.0 (0.0-0.0)      \n",
       "16  cancel_days_3  Mean (SD)    0.0 (0.1)           0.0 (0.1)          \n",
       "17  cancel_days_3  Median (IQR) 0.0 (0.0-0.0)       0.0 (0.0-0.0)      \n",
       "18  cancel_days_4  Mean (SD)    0.0 (0.1)           0.0 (0.1)          \n",
       "19  cancel_days_4  Median (IQR) 0.0 (0.0-0.0)       0.0 (0.0-0.0)      \n",
       "20  cancel_days_5  Mean (SD)    0.0 (0.1)           0.0 (0.1)          \n",
       "21  cancel_days_5  Median (IQR) 0.0 (0.0-0.0)       0.0 (0.0-0.0)      \n",
       "22  cancel_days_6  Mean (SD)    0.0 (0.1)           0.0 (0.1)          \n",
       "23  cancel_days_6  Median (IQR) 0.0 (0.0-0.0)       0.0 (0.0-0.0)      \n",
       "24  cancel_days_7  Mean (SD)    0.9 (0.3)           0.9 (0.2)          \n",
       "25  cancel_days_7  Median (IQR) 1.0 (1.0-1.0)       1.0 (1.0-1.0)      \n",
       "26  service_CAL    Mean (SD)    0.0 (0.1)           0.0 (0.1)          \n",
       "27  service_CAL    Median (IQR) 0.0 (0.0-0.0)       0.0 (0.0-0.0)      \n",
       "28  service_CALC   Mean (SD)    0.0 (0.1)           0.0 (0.1)          \n",
       "29  service_CALC   Median (IQR) 0.0 (0.0-0.0)       0.0 (0.0-0.0)      \n",
       "30  service_CAS    Mean (SD)    0.0 (0.0)           0.0 (0.0)          \n",
       "... ...            ...          ...                 ...                \n",
       "100 quantity_7     Mean (SD)    0.2 (0.4)           0.2 (0.4)          \n",
       "101 quantity_7     Median (IQR) 0.0 (0.0-0.0)       0.0 (0.0-0.0)      \n",
       "102 amount         Mean (SD)    4.0 (1.4)           4.0 (1.3)          \n",
       "103 amount         Median (IQR) 4.3 (3.9-4.7)       4.3 (3.9-4.7)      \n",
       "104 avg_receipt_4  Mean (SD)    0.2 (0.4)           0.2 (0.4)          \n",
       "105 avg_receipt_4  Median (IQR) 0.0 (0.0-0.0)       0.0 (0.0-0.0)      \n",
       "106 avg_receipt_5  Mean (SD)    0.0 (0.2)           0.0 (0.2)          \n",
       "107 avg_receipt_5  Median (IQR) 0.0 (0.0-0.0)       0.0 (0.0-0.0)      \n",
       "108 avg_quantity_5 Mean (SD)    0.0 (0.1)           0.0 (0.1)          \n",
       "109 avg_quantity_5 Median (IQR) 0.0 (0.0-0.0)       0.0 (0.0-0.0)      \n",
       "110 total_cancel12 Mean (SD)    0.5 (0.9)           0.5 (0.9)          \n",
       "111 total_cancel12 Median (IQR) 0.0 (0.0-1.0)       0.0 (0.0-1.0)      \n",
       "112 hclust3_1      Mean (SD)    0.4 (0.5)           0.4 (0.5)          \n",
       "113 hclust3_1      Median (IQR) 0.0 (0.0-1.0)       0.0 (0.0-1.0)      \n",
       "114 hclust4_4      Mean (SD)    0.2 (0.4)           0.2 (0.4)          \n",
       "115 hclust4_4      Median (IQR) 0.0 (0.0-0.0)       0.0 (0.0-0.0)      \n",
       "116 Mclust3_1      Mean (SD)    0.2 (0.4)           0.2 (0.4)          \n",
       "117 Mclust3_1      Median (IQR) 0.0 (0.0-0.0)       0.0 (0.0-0.0)      \n",
       "118 Mclust3_2      Mean (SD)    0.7 (0.5)           0.7 (0.5)          \n",
       "119 Mclust3_2      Median (IQR) 1.0 (0.0-1.0)       1.0 (0.0-1.0)      \n",
       "120 Mclust3_3      Mean (SD)    0.1 (0.3)           0.1 (0.3)          \n",
       "121 Mclust3_3      Median (IQR) 0.0 (0.0-0.0)       0.0 (0.0-0.0)      \n",
       "122 Mclust4_1      Mean (SD)    0.2 (0.4)           0.2 (0.4)          \n",
       "123 Mclust4_1      Median (IQR) 0.0 (0.0-0.0)       0.0 (0.0-0.0)      \n",
       "124 Mclust4_2      Mean (SD)    0.4 (0.5)           0.4 (0.5)          \n",
       "125 Mclust4_2      Median (IQR) 0.0 (0.0-1.0)       0.0 (0.0-1.0)      \n",
       "126 Mclust4_3      Mean (SD)    0.3 (0.5)           0.3 (0.5)          \n",
       "127 Mclust4_3      Median (IQR) 0.0 (0.0-1.0)       0.0 (0.0-1.0)      \n",
       "128 Mclust4_4      Mean (SD)    0.1 (0.3)           0.1 (0.3)          \n",
       "129 Mclust4_4      Median (IQR) 0.0 (0.0-0.0)       0.0 (0.0-0.0)      \n",
       "    1                   pval \n",
       "1   171                 NA   \n",
       "2   NA                  NA   \n",
       "3   NA                  0    \n",
       "4   0.1 (0.3)           NA   \n",
       "5   0.0 (0.0-0.0)       0.028\n",
       "6   0.0 (0.0)           NA   \n",
       "7   0.0 (0.0-0.0)       0.318\n",
       "8   0.2 (0.4)           NA   \n",
       "9   0.0 (0.0-0.0)       0.182\n",
       "10  810.5 (180.8)       NA   \n",
       "11  810.0 (650.0-970.0) 0.653\n",
       "12  0.8 (0.4)           NA   \n",
       "13  1.0 (1.0-1.0)       0    \n",
       "14  0.2 (0.4)           NA   \n",
       "15  0.0 (0.0-0.0)       0    \n",
       "16  0.0 (0.0)           NA   \n",
       "17  0.0 (0.0-0.0)       0    \n",
       "18  0.0 (0.0)           NA   \n",
       "19  0.0 (0.0-0.0)       0    \n",
       "20  0.0 (0.0)           NA   \n",
       "21  0.0 (0.0-0.0)       0    \n",
       "22  0.0 (0.0)           NA   \n",
       "23  0.0 (0.0-0.0)       0    \n",
       "24  0.0 (0.1)           NA   \n",
       "25  0.0 (0.0-0.0)       0    \n",
       "26  0.0 (0.0)           NA   \n",
       "27  0.0 (0.0-0.0)       0.014\n",
       "28  0.0 (0.1)           NA   \n",
       "29  0.0 (0.0-0.0)       0.041\n",
       "30  0.0 (0.0)           NA   \n",
       "... ...                 ...  \n",
       "100 0.8 (0.4)           NA   \n",
       "101 1.0 (1.0-1.0)       0    \n",
       "102 3.6 (1.8)           NA   \n",
       "103 4.0 (3.5-4.8)       0.003\n",
       "104 0.2 (0.4)           NA   \n",
       "105 0.0 (0.0-0.0)       0.943\n",
       "106 0.0 (0.1)           NA   \n",
       "107 0.0 (0.0-0.0)       0.065\n",
       "108 0.0 (0.0)           NA   \n",
       "109 0.0 (0.0-0.0)       0.001\n",
       "110 0.7 (0.8)           NA   \n",
       "111 1.0 (0.0-1.0)       0.005\n",
       "112 0.4 (0.5)           NA   \n",
       "113 0.0 (0.0-1.0)       0.997\n",
       "114 0.2 (0.4)           NA   \n",
       "115 0.0 (0.0-0.0)       0.727\n",
       "116 0.4 (0.5)           NA   \n",
       "117 0.0 (0.0-1.0)       0    \n",
       "118 0.2 (0.4)           NA   \n",
       "119 0.0 (0.0-0.0)       0    \n",
       "120 0.4 (0.5)           NA   \n",
       "121 0.0 (0.0-1.0)       0    \n",
       "122 0.4 (0.5)           NA   \n",
       "123 0.0 (0.0-1.0)       0    \n",
       "124 0.1 (0.3)           NA   \n",
       "125 0.0 (0.0-0.0)       0    \n",
       "126 0.1 (0.2)           NA   \n",
       "127 0.0 (0.0-0.0)       0    \n",
       "128 0.4 (0.5)           NA   \n",
       "129 0.0 (0.0-1.0)       0    "
      ]
     },
     "metadata": {},
     "output_type": "display_data"
    }
   ],
   "source": [
    "Table1(data = data,y = \"NoShow\")"
   ]
  },
  {
   "cell_type": "markdown",
   "metadata": {},
   "source": [
    "## Test dataset"
   ]
  },
  {
   "cell_type": "code",
   "execution_count": 7,
   "metadata": {},
   "outputs": [
    {
     "name": "stderr",
     "output_type": "stream",
     "text": [
      "Dataset partitioned into:\n",
      "\n",
      " + Train dataset: train\n",
      "\n",
      " + Test dataset: test\n",
      "\n",
      "Warning message in Table1(data = df, y = \"traintest_ind_\", messages = FALSE):\n",
      "\"The following variables have unique values and will not be included in the analysis: \"\n"
     ]
    },
    {
     "name": "stdout",
     "output_type": "stream",
     "text": [
      "  |======================================================================| 100%"
     ]
    },
    {
     "name": "stderr",
     "output_type": "stream",
     "text": [
      "Warning message in `[<-.factor`(`*tmp*`, iseq, value = \"1\"):\n",
      "\"invalid factor level, NA generated\"\n",
      "Warning message:\n",
      "\"Column `Del` joining character vector and factor, coercing into character vector\"\n",
      "Warning message:\n",
      "\"Column `V1` joining character vector and factor, coercing into character vector\"\n",
      "Warning message:\n",
      "\"Column `V2` joining character vector and factor, coercing into character vector\"\n",
      "Warning message:\n",
      "\"Column `n` joining character vector and factor, coercing into character vector\"\n"
     ]
    },
    {
     "name": "stdout",
     "output_type": "stream",
     "text": [
      "  |======================================================================| 100%"
     ]
    },
    {
     "name": "stderr",
     "output_type": "stream",
     "text": [
      "Warning message in `[<-.factor`(`*tmp*`, iseq, value = \"2\"):\n",
      "\"invalid factor level, NA generated\"\n",
      "Warning message:\n",
      "\"Column `Del` joining character vector and factor, coercing into character vector\"\n",
      "Warning message:\n",
      "\"Column `V1` joining character vector and factor, coercing into character vector\"\n",
      "Warning message:\n",
      "\"Column `V2` joining character vector and factor, coercing into character vector\"\n",
      "Warning message:\n",
      "\"Column `n` joining character vector and factor, coercing into character vector\"\n"
     ]
    },
    {
     "name": "stdout",
     "output_type": "stream",
     "text": [
      "  |===================================================================== |  98%"
     ]
    },
    {
     "name": "stderr",
     "output_type": "stream",
     "text": [
      "Warning message:\n",
      "\"Column `V1` joining character vector and factor, coercing into character vector\"\n",
      "Warning message:\n",
      "\"Column `n` joining character vector and factor, coercing into character vector\"\n",
      "Warning message in Ops.factor(pval, 0.05):\n",
      "\"'<' not meaningful for factors\"\n",
      " \n",
      "\n",
      "You got a perfectly balanced training and test datasets\n",
      "\n",
      " \n",
      "\n"
     ]
    }
   ],
   "source": [
    "tab1 <- train_test(data = data, train_name = \"train\", test_name = \"test\",prop = 0.6, seed = 952, tableone=T)"
   ]
  },
  {
   "cell_type": "code",
   "execution_count": 8,
   "metadata": {},
   "outputs": [
    {
     "data": {
      "text/html": [
       "<style>\n",
       ".list-inline {list-style: none; margin:0; padding: 0}\n",
       ".list-inline>li {display: inline-block}\n",
       ".list-inline>li:not(:last-child)::after {content: \"\\00b7\"; padding: 0 .5ex}\n",
       "</style>\n",
       "<ol class=list-inline><li>1310</li><li>64</li></ol>\n"
      ],
      "text/latex": [
       "\\begin{enumerate*}\n",
       "\\item 1310\n",
       "\\item 64\n",
       "\\end{enumerate*}\n"
      ],
      "text/markdown": [
       "1. 1310\n",
       "2. 64\n",
       "\n",
       "\n"
      ],
      "text/plain": [
       "[1] 1310   64"
      ]
     },
     "metadata": {},
     "output_type": "display_data"
    },
    {
     "data": {
      "text/html": [
       "<style>\n",
       ".list-inline {list-style: none; margin:0; padding: 0}\n",
       ".list-inline>li {display: inline-block}\n",
       ".list-inline>li:not(:last-child)::after {content: \"\\00b7\"; padding: 0 .5ex}\n",
       "</style>\n",
       "<ol class=list-inline><li>874</li><li>64</li></ol>\n"
      ],
      "text/latex": [
       "\\begin{enumerate*}\n",
       "\\item 874\n",
       "\\item 64\n",
       "\\end{enumerate*}\n"
      ],
      "text/markdown": [
       "1. 874\n",
       "2. 64\n",
       "\n",
       "\n"
      ],
      "text/plain": [
       "[1] 874  64"
      ]
     },
     "metadata": {},
     "output_type": "display_data"
    }
   ],
   "source": [
    "dim(train)\n",
    "dim(test)"
   ]
  },
  {
   "cell_type": "code",
   "execution_count": 9,
   "metadata": {},
   "outputs": [
    {
     "data": {
      "text/html": [
       "<table>\n",
       "<caption>A tibble: 131 × 6</caption>\n",
       "<thead>\n",
       "\t<tr><th scope=col>V1</th><th scope=col>V2</th><th scope=col>Pop</th><th scope=col>1</th><th scope=col>2</th><th scope=col>pval</th></tr>\n",
       "\t<tr><th scope=col>&lt;chr&gt;</th><th scope=col>&lt;chr&gt;</th><th scope=col>&lt;chr&gt;</th><th scope=col>&lt;fct&gt;</th><th scope=col>&lt;fct&gt;</th><th scope=col>&lt;fct&gt;</th></tr>\n",
       "</thead>\n",
       "<tbody>\n",
       "\t<tr><td>Individuals  </td><td>n           </td><td>2184               </td><td>1310               </td><td>874                </td><td>NA   </td></tr>\n",
       "\t<tr><td>NoShow       </td><td>Mean (SD)   </td><td>0.1 (0.3)          </td><td>0.1 (0.3)          </td><td>0.1 (0.3)          </td><td>NA   </td></tr>\n",
       "\t<tr><td>NoShow       </td><td>Median (IQR)</td><td>0.0 (0.0-0.0)      </td><td>0.0 (0.0-0.0)      </td><td>0.0 (0.0-0.0)      </td><td>0.22 </td></tr>\n",
       "\t<tr><td>sunday       </td><td>Mean (SD)   </td><td>0.0 (0.2)          </td><td>0.0 (0.2)          </td><td>0.0 (0.2)          </td><td>NA   </td></tr>\n",
       "\t<tr><td>sunday       </td><td>Median (IQR)</td><td>0.0 (0.0-0.0)      </td><td>0.0 (0.0-0.0)      </td><td>0.0 (0.0-0.0)      </td><td>0.614</td></tr>\n",
       "\t<tr><td>monday       </td><td>Mean (SD)   </td><td>0.0 (0.0)          </td><td>0.0 (0.0)          </td><td>0.0 (0.0)          </td><td>NA   </td></tr>\n",
       "\t<tr><td>monday       </td><td>Median (IQR)</td><td>0.0 (0.0-0.0)      </td><td>0.0 (0.0-0.0)      </td><td>0.0 (0.0-0.0)      </td><td>0.318</td></tr>\n",
       "\t<tr><td>saturday     </td><td>Mean (SD)   </td><td>0.2 (0.4)          </td><td>0.2 (0.4)          </td><td>0.2 (0.4)          </td><td>NA   </td></tr>\n",
       "\t<tr><td>saturday     </td><td>Median (IQR)</td><td>0.0 (0.0-0.0)      </td><td>0.0 (0.0-0.0)      </td><td>0.0 (0.0-0.0)      </td><td>0.269</td></tr>\n",
       "\t<tr><td>time_booked  </td><td>Mean (SD)   </td><td>804.7 (175.8)      </td><td>803.9 (174.4)      </td><td>805.9 (178.0)      </td><td>NA   </td></tr>\n",
       "\t<tr><td>time_booked  </td><td>Median (IQR)</td><td>790.0 (660.0-960.0)</td><td>790.0 (660.0-950.0)</td><td>800.0 (660.0-960.0)</td><td>0.794</td></tr>\n",
       "\t<tr><td>cancel_days_1</td><td>Mean (SD)   </td><td>0.1 (0.2)          </td><td>0.1 (0.2)          </td><td>0.1 (0.2)          </td><td>NA   </td></tr>\n",
       "\t<tr><td>cancel_days_1</td><td>Median (IQR)</td><td>0.0 (0.0-0.0)      </td><td>0.0 (0.0-0.0)      </td><td>0.0 (0.0-0.0)      </td><td>0.394</td></tr>\n",
       "\t<tr><td>cancel_days_2</td><td>Mean (SD)   </td><td>0.0 (0.1)          </td><td>0.0 (0.1)          </td><td>0.0 (0.1)          </td><td>NA   </td></tr>\n",
       "\t<tr><td>cancel_days_2</td><td>Median (IQR)</td><td>0.0 (0.0-0.0)      </td><td>0.0 (0.0-0.0)      </td><td>0.0 (0.0-0.0)      </td><td>0.396</td></tr>\n",
       "\t<tr><td>cancel_days_3</td><td>Mean (SD)   </td><td>0.0 (0.1)          </td><td>0.0 (0.1)          </td><td>0.0 (0.1)          </td><td>NA   </td></tr>\n",
       "\t<tr><td>cancel_days_3</td><td>Median (IQR)</td><td>0.0 (0.0-0.0)      </td><td>0.0 (0.0-0.0)      </td><td>0.0 (0.0-0.0)      </td><td>0.262</td></tr>\n",
       "\t<tr><td>cancel_days_4</td><td>Mean (SD)   </td><td>0.0 (0.1)          </td><td>0.0 (0.1)          </td><td>0.0 (0.1)          </td><td>NA   </td></tr>\n",
       "\t<tr><td>cancel_days_4</td><td>Median (IQR)</td><td>0.0 (0.0-0.0)      </td><td>0.0 (0.0-0.0)      </td><td>0.0 (0.0-0.0)      </td><td>0.463</td></tr>\n",
       "\t<tr><td>cancel_days_5</td><td>Mean (SD)   </td><td>0.0 (0.1)          </td><td>0.0 (0.1)          </td><td>0.0 (0.1)          </td><td>NA   </td></tr>\n",
       "\t<tr><td>cancel_days_5</td><td>Median (IQR)</td><td>0.0 (0.0-0.0)      </td><td>0.0 (0.0-0.0)      </td><td>0.0 (0.0-0.0)      </td><td>0.355</td></tr>\n",
       "\t<tr><td>cancel_days_6</td><td>Mean (SD)   </td><td>0.0 (0.1)          </td><td>0.0 (0.1)          </td><td>0.0 (0.1)          </td><td>NA   </td></tr>\n",
       "\t<tr><td>cancel_days_6</td><td>Median (IQR)</td><td>0.0 (0.0-0.0)      </td><td>0.0 (0.0-0.0)      </td><td>0.0 (0.0-0.0)      </td><td>0.265</td></tr>\n",
       "\t<tr><td>cancel_days_7</td><td>Mean (SD)   </td><td>0.9 (0.3)          </td><td>0.9 (0.3)          </td><td>0.9 (0.3)          </td><td>NA   </td></tr>\n",
       "\t<tr><td>cancel_days_7</td><td>Median (IQR)</td><td>1.0 (1.0-1.0)      </td><td>1.0 (1.0-1.0)      </td><td>1.0 (1.0-1.0)      </td><td>0.828</td></tr>\n",
       "\t<tr><td>service_CAL  </td><td>Mean (SD)   </td><td>0.0 (0.1)          </td><td>0.0 (0.1)          </td><td>0.0 (0.0)          </td><td>NA   </td></tr>\n",
       "\t<tr><td>service_CAL  </td><td>Median (IQR)</td><td>0.0 (0.0-0.0)      </td><td>0.0 (0.0-0.0)      </td><td>0.0 (0.0-0.0)      </td><td>0.731</td></tr>\n",
       "\t<tr><td>service_CALC </td><td>Mean (SD)   </td><td>0.0 (0.1)          </td><td>0.0 (0.1)          </td><td>0.0 (0.1)          </td><td>NA   </td></tr>\n",
       "\t<tr><td>service_CALC </td><td>Median (IQR)</td><td>0.0 (0.0-0.0)      </td><td>0.0 (0.0-0.0)      </td><td>0.0 (0.0-0.0)      </td><td>0.312</td></tr>\n",
       "\t<tr><td>service_CAS  </td><td>Mean (SD)   </td><td>0.0 (0.0)          </td><td>0.0 (0.0)          </td><td>0.0 (0.0)          </td><td>NA   </td></tr>\n",
       "\t<tr><td>...</td><td>...</td><td>...</td><td>...</td><td>...</td><td>...</td></tr>\n",
       "\t<tr><td>amount        </td><td>Mean (SD)   </td><td>4.0 (1.4)    </td><td>4.0 (1.4)    </td><td>4.0 (1.4)    </td><td>NA   </td></tr>\n",
       "\t<tr><td>amount        </td><td>Median (IQR)</td><td>4.3 (3.9-4.7)</td><td>4.3 (3.9-4.7)</td><td>4.1 (3.7-4.7)</td><td>0.457</td></tr>\n",
       "\t<tr><td>avg_receipt_4 </td><td>Mean (SD)   </td><td>0.2 (0.4)    </td><td>0.2 (0.4)    </td><td>0.2 (0.4)    </td><td>NA   </td></tr>\n",
       "\t<tr><td>avg_receipt_4 </td><td>Median (IQR)</td><td>0.0 (0.0-0.0)</td><td>0.0 (0.0-0.0)</td><td>0.0 (0.0-0.0)</td><td>0.074</td></tr>\n",
       "\t<tr><td>avg_receipt_5 </td><td>Mean (SD)   </td><td>0.0 (0.2)    </td><td>0.0 (0.2)    </td><td>0.0 (0.2)    </td><td>NA   </td></tr>\n",
       "\t<tr><td>avg_receipt_5 </td><td>Median (IQR)</td><td>0.0 (0.0-0.0)</td><td>0.0 (0.0-0.0)</td><td>0.0 (0.0-0.0)</td><td>0.109</td></tr>\n",
       "\t<tr><td>avg_quantity_5</td><td>Mean (SD)   </td><td>0.0 (0.1)    </td><td>0.0 (0.1)    </td><td>0.0 (0.0)    </td><td>NA   </td></tr>\n",
       "\t<tr><td>avg_quantity_5</td><td>Median (IQR)</td><td>0.0 (0.0-0.0)</td><td>0.0 (0.0-0.0)</td><td>0.0 (0.0-0.0)</td><td>0.102</td></tr>\n",
       "\t<tr><td>total_cancel12</td><td>Mean (SD)   </td><td>0.5 (0.9)    </td><td>0.5 (0.9)    </td><td>0.5 (0.9)    </td><td>NA   </td></tr>\n",
       "\t<tr><td>total_cancel12</td><td>Median (IQR)</td><td>0.0 (0.0-1.0)</td><td>0.0 (0.0-1.0)</td><td>0.0 (0.0-1.0)</td><td>0.314</td></tr>\n",
       "\t<tr><td>hclust3_1     </td><td>Mean (SD)   </td><td>0.4 (0.5)    </td><td>0.4 (0.5)    </td><td>0.4 (0.5)    </td><td>NA   </td></tr>\n",
       "\t<tr><td>hclust3_1     </td><td>Median (IQR)</td><td>0.0 (0.0-1.0)</td><td>0.0 (0.0-1.0)</td><td>0.0 (0.0-1.0)</td><td>0.753</td></tr>\n",
       "\t<tr><td>hclust4_4     </td><td>Mean (SD)   </td><td>0.2 (0.4)    </td><td>0.2 (0.4)    </td><td>0.2 (0.4)    </td><td>NA   </td></tr>\n",
       "\t<tr><td>hclust4_4     </td><td>Median (IQR)</td><td>0.0 (0.0-0.0)</td><td>0.0 (0.0-0.0)</td><td>0.0 (0.0-0.0)</td><td>0.443</td></tr>\n",
       "\t<tr><td>Mclust3_1     </td><td>Mean (SD)   </td><td>0.2 (0.4)    </td><td>0.2 (0.4)    </td><td>0.2 (0.4)    </td><td>NA   </td></tr>\n",
       "\t<tr><td>Mclust3_1     </td><td>Median (IQR)</td><td>0.0 (0.0-0.0)</td><td>0.0 (0.0-0.0)</td><td>0.0 (0.0-0.0)</td><td>0.959</td></tr>\n",
       "\t<tr><td>Mclust3_2     </td><td>Mean (SD)   </td><td>0.7 (0.5)    </td><td>0.7 (0.5)    </td><td>0.7 (0.5)    </td><td>NA   </td></tr>\n",
       "\t<tr><td>Mclust3_2     </td><td>Median (IQR)</td><td>1.0 (0.0-1.0)</td><td>1.0 (0.0-1.0)</td><td>1.0 (0.0-1.0)</td><td>0.294</td></tr>\n",
       "\t<tr><td>Mclust3_3     </td><td>Mean (SD)   </td><td>0.1 (0.3)    </td><td>0.1 (0.3)    </td><td>0.1 (0.3)    </td><td>NA   </td></tr>\n",
       "\t<tr><td>Mclust3_3     </td><td>Median (IQR)</td><td>0.0 (0.0-0.0)</td><td>0.0 (0.0-0.0)</td><td>0.0 (0.0-0.0)</td><td>0.146</td></tr>\n",
       "\t<tr><td>Mclust4_1     </td><td>Mean (SD)   </td><td>0.2 (0.4)    </td><td>0.2 (0.4)    </td><td>0.2 (0.4)    </td><td>NA   </td></tr>\n",
       "\t<tr><td>Mclust4_1     </td><td>Median (IQR)</td><td>0.0 (0.0-0.0)</td><td>0.0 (0.0-0.0)</td><td>0.0 (0.0-0.0)</td><td>0.959</td></tr>\n",
       "\t<tr><td>Mclust4_2     </td><td>Mean (SD)   </td><td>0.4 (0.5)    </td><td>0.4 (0.5)    </td><td>0.4 (0.5)    </td><td>NA   </td></tr>\n",
       "\t<tr><td>Mclust4_2     </td><td>Median (IQR)</td><td>0.0 (0.0-1.0)</td><td>0.0 (0.0-1.0)</td><td>0.0 (0.0-1.0)</td><td>0.454</td></tr>\n",
       "\t<tr><td>Mclust4_3     </td><td>Mean (SD)   </td><td>0.3 (0.5)    </td><td>0.3 (0.5)    </td><td>0.3 (0.5)    </td><td>NA   </td></tr>\n",
       "\t<tr><td>Mclust4_3     </td><td>Median (IQR)</td><td>0.0 (0.0-1.0)</td><td>0.0 (0.0-1.0)</td><td>0.0 (0.0-1.0)</td><td>0.77 </td></tr>\n",
       "\t<tr><td>Mclust4_4     </td><td>Mean (SD)   </td><td>0.1 (0.3)    </td><td>0.1 (0.3)    </td><td>0.1 (0.3)    </td><td>NA   </td></tr>\n",
       "\t<tr><td>Mclust4_4     </td><td>Median (IQR)</td><td>0.0 (0.0-0.0)</td><td>0.0 (0.0-0.0)</td><td>0.0 (0.0-0.0)</td><td>0.146</td></tr>\n",
       "\t<tr><td>traintest_ind_</td><td>Mean (SD)   </td><td>1.4 (0.5)    </td><td>NA           </td><td>NA           </td><td>NA   </td></tr>\n",
       "\t<tr><td>traintest_ind_</td><td>Median (IQR)</td><td>1.0 (1.0-2.0)</td><td>NA           </td><td>NA           </td><td>0    </td></tr>\n",
       "</tbody>\n",
       "</table>\n"
      ],
      "text/latex": [
       "A tibble: 131 × 6\n",
       "\\begin{tabular}{llllll}\n",
       " V1 & V2 & Pop & 1 & 2 & pval\\\\\n",
       " <chr> & <chr> & <chr> & <fct> & <fct> & <fct>\\\\\n",
       "\\hline\n",
       "\t Individuals   & n            & 2184                & 1310                & 874                 & NA   \\\\\n",
       "\t NoShow        & Mean (SD)    & 0.1 (0.3)           & 0.1 (0.3)           & 0.1 (0.3)           & NA   \\\\\n",
       "\t NoShow        & Median (IQR) & 0.0 (0.0-0.0)       & 0.0 (0.0-0.0)       & 0.0 (0.0-0.0)       & 0.22 \\\\\n",
       "\t sunday        & Mean (SD)    & 0.0 (0.2)           & 0.0 (0.2)           & 0.0 (0.2)           & NA   \\\\\n",
       "\t sunday        & Median (IQR) & 0.0 (0.0-0.0)       & 0.0 (0.0-0.0)       & 0.0 (0.0-0.0)       & 0.614\\\\\n",
       "\t monday        & Mean (SD)    & 0.0 (0.0)           & 0.0 (0.0)           & 0.0 (0.0)           & NA   \\\\\n",
       "\t monday        & Median (IQR) & 0.0 (0.0-0.0)       & 0.0 (0.0-0.0)       & 0.0 (0.0-0.0)       & 0.318\\\\\n",
       "\t saturday      & Mean (SD)    & 0.2 (0.4)           & 0.2 (0.4)           & 0.2 (0.4)           & NA   \\\\\n",
       "\t saturday      & Median (IQR) & 0.0 (0.0-0.0)       & 0.0 (0.0-0.0)       & 0.0 (0.0-0.0)       & 0.269\\\\\n",
       "\t time\\_booked   & Mean (SD)    & 804.7 (175.8)       & 803.9 (174.4)       & 805.9 (178.0)       & NA   \\\\\n",
       "\t time\\_booked   & Median (IQR) & 790.0 (660.0-960.0) & 790.0 (660.0-950.0) & 800.0 (660.0-960.0) & 0.794\\\\\n",
       "\t cancel\\_days\\_1 & Mean (SD)    & 0.1 (0.2)           & 0.1 (0.2)           & 0.1 (0.2)           & NA   \\\\\n",
       "\t cancel\\_days\\_1 & Median (IQR) & 0.0 (0.0-0.0)       & 0.0 (0.0-0.0)       & 0.0 (0.0-0.0)       & 0.394\\\\\n",
       "\t cancel\\_days\\_2 & Mean (SD)    & 0.0 (0.1)           & 0.0 (0.1)           & 0.0 (0.1)           & NA   \\\\\n",
       "\t cancel\\_days\\_2 & Median (IQR) & 0.0 (0.0-0.0)       & 0.0 (0.0-0.0)       & 0.0 (0.0-0.0)       & 0.396\\\\\n",
       "\t cancel\\_days\\_3 & Mean (SD)    & 0.0 (0.1)           & 0.0 (0.1)           & 0.0 (0.1)           & NA   \\\\\n",
       "\t cancel\\_days\\_3 & Median (IQR) & 0.0 (0.0-0.0)       & 0.0 (0.0-0.0)       & 0.0 (0.0-0.0)       & 0.262\\\\\n",
       "\t cancel\\_days\\_4 & Mean (SD)    & 0.0 (0.1)           & 0.0 (0.1)           & 0.0 (0.1)           & NA   \\\\\n",
       "\t cancel\\_days\\_4 & Median (IQR) & 0.0 (0.0-0.0)       & 0.0 (0.0-0.0)       & 0.0 (0.0-0.0)       & 0.463\\\\\n",
       "\t cancel\\_days\\_5 & Mean (SD)    & 0.0 (0.1)           & 0.0 (0.1)           & 0.0 (0.1)           & NA   \\\\\n",
       "\t cancel\\_days\\_5 & Median (IQR) & 0.0 (0.0-0.0)       & 0.0 (0.0-0.0)       & 0.0 (0.0-0.0)       & 0.355\\\\\n",
       "\t cancel\\_days\\_6 & Mean (SD)    & 0.0 (0.1)           & 0.0 (0.1)           & 0.0 (0.1)           & NA   \\\\\n",
       "\t cancel\\_days\\_6 & Median (IQR) & 0.0 (0.0-0.0)       & 0.0 (0.0-0.0)       & 0.0 (0.0-0.0)       & 0.265\\\\\n",
       "\t cancel\\_days\\_7 & Mean (SD)    & 0.9 (0.3)           & 0.9 (0.3)           & 0.9 (0.3)           & NA   \\\\\n",
       "\t cancel\\_days\\_7 & Median (IQR) & 1.0 (1.0-1.0)       & 1.0 (1.0-1.0)       & 1.0 (1.0-1.0)       & 0.828\\\\\n",
       "\t service\\_CAL   & Mean (SD)    & 0.0 (0.1)           & 0.0 (0.1)           & 0.0 (0.0)           & NA   \\\\\n",
       "\t service\\_CAL   & Median (IQR) & 0.0 (0.0-0.0)       & 0.0 (0.0-0.0)       & 0.0 (0.0-0.0)       & 0.731\\\\\n",
       "\t service\\_CALC  & Mean (SD)    & 0.0 (0.1)           & 0.0 (0.1)           & 0.0 (0.1)           & NA   \\\\\n",
       "\t service\\_CALC  & Median (IQR) & 0.0 (0.0-0.0)       & 0.0 (0.0-0.0)       & 0.0 (0.0-0.0)       & 0.312\\\\\n",
       "\t service\\_CAS   & Mean (SD)    & 0.0 (0.0)           & 0.0 (0.0)           & 0.0 (0.0)           & NA   \\\\\n",
       "\t ... & ... & ... & ... & ... & ...\\\\\n",
       "\t amount         & Mean (SD)    & 4.0 (1.4)     & 4.0 (1.4)     & 4.0 (1.4)     & NA   \\\\\n",
       "\t amount         & Median (IQR) & 4.3 (3.9-4.7) & 4.3 (3.9-4.7) & 4.1 (3.7-4.7) & 0.457\\\\\n",
       "\t avg\\_receipt\\_4  & Mean (SD)    & 0.2 (0.4)     & 0.2 (0.4)     & 0.2 (0.4)     & NA   \\\\\n",
       "\t avg\\_receipt\\_4  & Median (IQR) & 0.0 (0.0-0.0) & 0.0 (0.0-0.0) & 0.0 (0.0-0.0) & 0.074\\\\\n",
       "\t avg\\_receipt\\_5  & Mean (SD)    & 0.0 (0.2)     & 0.0 (0.2)     & 0.0 (0.2)     & NA   \\\\\n",
       "\t avg\\_receipt\\_5  & Median (IQR) & 0.0 (0.0-0.0) & 0.0 (0.0-0.0) & 0.0 (0.0-0.0) & 0.109\\\\\n",
       "\t avg\\_quantity\\_5 & Mean (SD)    & 0.0 (0.1)     & 0.0 (0.1)     & 0.0 (0.0)     & NA   \\\\\n",
       "\t avg\\_quantity\\_5 & Median (IQR) & 0.0 (0.0-0.0) & 0.0 (0.0-0.0) & 0.0 (0.0-0.0) & 0.102\\\\\n",
       "\t total\\_cancel12 & Mean (SD)    & 0.5 (0.9)     & 0.5 (0.9)     & 0.5 (0.9)     & NA   \\\\\n",
       "\t total\\_cancel12 & Median (IQR) & 0.0 (0.0-1.0) & 0.0 (0.0-1.0) & 0.0 (0.0-1.0) & 0.314\\\\\n",
       "\t hclust3\\_1      & Mean (SD)    & 0.4 (0.5)     & 0.4 (0.5)     & 0.4 (0.5)     & NA   \\\\\n",
       "\t hclust3\\_1      & Median (IQR) & 0.0 (0.0-1.0) & 0.0 (0.0-1.0) & 0.0 (0.0-1.0) & 0.753\\\\\n",
       "\t hclust4\\_4      & Mean (SD)    & 0.2 (0.4)     & 0.2 (0.4)     & 0.2 (0.4)     & NA   \\\\\n",
       "\t hclust4\\_4      & Median (IQR) & 0.0 (0.0-0.0) & 0.0 (0.0-0.0) & 0.0 (0.0-0.0) & 0.443\\\\\n",
       "\t Mclust3\\_1      & Mean (SD)    & 0.2 (0.4)     & 0.2 (0.4)     & 0.2 (0.4)     & NA   \\\\\n",
       "\t Mclust3\\_1      & Median (IQR) & 0.0 (0.0-0.0) & 0.0 (0.0-0.0) & 0.0 (0.0-0.0) & 0.959\\\\\n",
       "\t Mclust3\\_2      & Mean (SD)    & 0.7 (0.5)     & 0.7 (0.5)     & 0.7 (0.5)     & NA   \\\\\n",
       "\t Mclust3\\_2      & Median (IQR) & 1.0 (0.0-1.0) & 1.0 (0.0-1.0) & 1.0 (0.0-1.0) & 0.294\\\\\n",
       "\t Mclust3\\_3      & Mean (SD)    & 0.1 (0.3)     & 0.1 (0.3)     & 0.1 (0.3)     & NA   \\\\\n",
       "\t Mclust3\\_3      & Median (IQR) & 0.0 (0.0-0.0) & 0.0 (0.0-0.0) & 0.0 (0.0-0.0) & 0.146\\\\\n",
       "\t Mclust4\\_1      & Mean (SD)    & 0.2 (0.4)     & 0.2 (0.4)     & 0.2 (0.4)     & NA   \\\\\n",
       "\t Mclust4\\_1      & Median (IQR) & 0.0 (0.0-0.0) & 0.0 (0.0-0.0) & 0.0 (0.0-0.0) & 0.959\\\\\n",
       "\t Mclust4\\_2      & Mean (SD)    & 0.4 (0.5)     & 0.4 (0.5)     & 0.4 (0.5)     & NA   \\\\\n",
       "\t Mclust4\\_2      & Median (IQR) & 0.0 (0.0-1.0) & 0.0 (0.0-1.0) & 0.0 (0.0-1.0) & 0.454\\\\\n",
       "\t Mclust4\\_3      & Mean (SD)    & 0.3 (0.5)     & 0.3 (0.5)     & 0.3 (0.5)     & NA   \\\\\n",
       "\t Mclust4\\_3      & Median (IQR) & 0.0 (0.0-1.0) & 0.0 (0.0-1.0) & 0.0 (0.0-1.0) & 0.77 \\\\\n",
       "\t Mclust4\\_4      & Mean (SD)    & 0.1 (0.3)     & 0.1 (0.3)     & 0.1 (0.3)     & NA   \\\\\n",
       "\t Mclust4\\_4      & Median (IQR) & 0.0 (0.0-0.0) & 0.0 (0.0-0.0) & 0.0 (0.0-0.0) & 0.146\\\\\n",
       "\t traintest\\_ind\\_ & Mean (SD)    & 1.4 (0.5)     & NA            & NA            & NA   \\\\\n",
       "\t traintest\\_ind\\_ & Median (IQR) & 1.0 (1.0-2.0) & NA            & NA            & 0    \\\\\n",
       "\\end{tabular}\n"
      ],
      "text/markdown": [
       "\n",
       "A tibble: 131 × 6\n",
       "\n",
       "| V1 &lt;chr&gt; | V2 &lt;chr&gt; | Pop &lt;chr&gt; | 1 &lt;fct&gt; | 2 &lt;fct&gt; | pval &lt;fct&gt; |\n",
       "|---|---|---|---|---|---|\n",
       "| Individuals   | n            | 2184                | 1310                | 874                 | NA    |\n",
       "| NoShow        | Mean (SD)    | 0.1 (0.3)           | 0.1 (0.3)           | 0.1 (0.3)           | NA    |\n",
       "| NoShow        | Median (IQR) | 0.0 (0.0-0.0)       | 0.0 (0.0-0.0)       | 0.0 (0.0-0.0)       | 0.22  |\n",
       "| sunday        | Mean (SD)    | 0.0 (0.2)           | 0.0 (0.2)           | 0.0 (0.2)           | NA    |\n",
       "| sunday        | Median (IQR) | 0.0 (0.0-0.0)       | 0.0 (0.0-0.0)       | 0.0 (0.0-0.0)       | 0.614 |\n",
       "| monday        | Mean (SD)    | 0.0 (0.0)           | 0.0 (0.0)           | 0.0 (0.0)           | NA    |\n",
       "| monday        | Median (IQR) | 0.0 (0.0-0.0)       | 0.0 (0.0-0.0)       | 0.0 (0.0-0.0)       | 0.318 |\n",
       "| saturday      | Mean (SD)    | 0.2 (0.4)           | 0.2 (0.4)           | 0.2 (0.4)           | NA    |\n",
       "| saturday      | Median (IQR) | 0.0 (0.0-0.0)       | 0.0 (0.0-0.0)       | 0.0 (0.0-0.0)       | 0.269 |\n",
       "| time_booked   | Mean (SD)    | 804.7 (175.8)       | 803.9 (174.4)       | 805.9 (178.0)       | NA    |\n",
       "| time_booked   | Median (IQR) | 790.0 (660.0-960.0) | 790.0 (660.0-950.0) | 800.0 (660.0-960.0) | 0.794 |\n",
       "| cancel_days_1 | Mean (SD)    | 0.1 (0.2)           | 0.1 (0.2)           | 0.1 (0.2)           | NA    |\n",
       "| cancel_days_1 | Median (IQR) | 0.0 (0.0-0.0)       | 0.0 (0.0-0.0)       | 0.0 (0.0-0.0)       | 0.394 |\n",
       "| cancel_days_2 | Mean (SD)    | 0.0 (0.1)           | 0.0 (0.1)           | 0.0 (0.1)           | NA    |\n",
       "| cancel_days_2 | Median (IQR) | 0.0 (0.0-0.0)       | 0.0 (0.0-0.0)       | 0.0 (0.0-0.0)       | 0.396 |\n",
       "| cancel_days_3 | Mean (SD)    | 0.0 (0.1)           | 0.0 (0.1)           | 0.0 (0.1)           | NA    |\n",
       "| cancel_days_3 | Median (IQR) | 0.0 (0.0-0.0)       | 0.0 (0.0-0.0)       | 0.0 (0.0-0.0)       | 0.262 |\n",
       "| cancel_days_4 | Mean (SD)    | 0.0 (0.1)           | 0.0 (0.1)           | 0.0 (0.1)           | NA    |\n",
       "| cancel_days_4 | Median (IQR) | 0.0 (0.0-0.0)       | 0.0 (0.0-0.0)       | 0.0 (0.0-0.0)       | 0.463 |\n",
       "| cancel_days_5 | Mean (SD)    | 0.0 (0.1)           | 0.0 (0.1)           | 0.0 (0.1)           | NA    |\n",
       "| cancel_days_5 | Median (IQR) | 0.0 (0.0-0.0)       | 0.0 (0.0-0.0)       | 0.0 (0.0-0.0)       | 0.355 |\n",
       "| cancel_days_6 | Mean (SD)    | 0.0 (0.1)           | 0.0 (0.1)           | 0.0 (0.1)           | NA    |\n",
       "| cancel_days_6 | Median (IQR) | 0.0 (0.0-0.0)       | 0.0 (0.0-0.0)       | 0.0 (0.0-0.0)       | 0.265 |\n",
       "| cancel_days_7 | Mean (SD)    | 0.9 (0.3)           | 0.9 (0.3)           | 0.9 (0.3)           | NA    |\n",
       "| cancel_days_7 | Median (IQR) | 1.0 (1.0-1.0)       | 1.0 (1.0-1.0)       | 1.0 (1.0-1.0)       | 0.828 |\n",
       "| service_CAL   | Mean (SD)    | 0.0 (0.1)           | 0.0 (0.1)           | 0.0 (0.0)           | NA    |\n",
       "| service_CAL   | Median (IQR) | 0.0 (0.0-0.0)       | 0.0 (0.0-0.0)       | 0.0 (0.0-0.0)       | 0.731 |\n",
       "| service_CALC  | Mean (SD)    | 0.0 (0.1)           | 0.0 (0.1)           | 0.0 (0.1)           | NA    |\n",
       "| service_CALC  | Median (IQR) | 0.0 (0.0-0.0)       | 0.0 (0.0-0.0)       | 0.0 (0.0-0.0)       | 0.312 |\n",
       "| service_CAS   | Mean (SD)    | 0.0 (0.0)           | 0.0 (0.0)           | 0.0 (0.0)           | NA    |\n",
       "| ... | ... | ... | ... | ... | ... |\n",
       "| amount         | Mean (SD)    | 4.0 (1.4)     | 4.0 (1.4)     | 4.0 (1.4)     | NA    |\n",
       "| amount         | Median (IQR) | 4.3 (3.9-4.7) | 4.3 (3.9-4.7) | 4.1 (3.7-4.7) | 0.457 |\n",
       "| avg_receipt_4  | Mean (SD)    | 0.2 (0.4)     | 0.2 (0.4)     | 0.2 (0.4)     | NA    |\n",
       "| avg_receipt_4  | Median (IQR) | 0.0 (0.0-0.0) | 0.0 (0.0-0.0) | 0.0 (0.0-0.0) | 0.074 |\n",
       "| avg_receipt_5  | Mean (SD)    | 0.0 (0.2)     | 0.0 (0.2)     | 0.0 (0.2)     | NA    |\n",
       "| avg_receipt_5  | Median (IQR) | 0.0 (0.0-0.0) | 0.0 (0.0-0.0) | 0.0 (0.0-0.0) | 0.109 |\n",
       "| avg_quantity_5 | Mean (SD)    | 0.0 (0.1)     | 0.0 (0.1)     | 0.0 (0.0)     | NA    |\n",
       "| avg_quantity_5 | Median (IQR) | 0.0 (0.0-0.0) | 0.0 (0.0-0.0) | 0.0 (0.0-0.0) | 0.102 |\n",
       "| total_cancel12 | Mean (SD)    | 0.5 (0.9)     | 0.5 (0.9)     | 0.5 (0.9)     | NA    |\n",
       "| total_cancel12 | Median (IQR) | 0.0 (0.0-1.0) | 0.0 (0.0-1.0) | 0.0 (0.0-1.0) | 0.314 |\n",
       "| hclust3_1      | Mean (SD)    | 0.4 (0.5)     | 0.4 (0.5)     | 0.4 (0.5)     | NA    |\n",
       "| hclust3_1      | Median (IQR) | 0.0 (0.0-1.0) | 0.0 (0.0-1.0) | 0.0 (0.0-1.0) | 0.753 |\n",
       "| hclust4_4      | Mean (SD)    | 0.2 (0.4)     | 0.2 (0.4)     | 0.2 (0.4)     | NA    |\n",
       "| hclust4_4      | Median (IQR) | 0.0 (0.0-0.0) | 0.0 (0.0-0.0) | 0.0 (0.0-0.0) | 0.443 |\n",
       "| Mclust3_1      | Mean (SD)    | 0.2 (0.4)     | 0.2 (0.4)     | 0.2 (0.4)     | NA    |\n",
       "| Mclust3_1      | Median (IQR) | 0.0 (0.0-0.0) | 0.0 (0.0-0.0) | 0.0 (0.0-0.0) | 0.959 |\n",
       "| Mclust3_2      | Mean (SD)    | 0.7 (0.5)     | 0.7 (0.5)     | 0.7 (0.5)     | NA    |\n",
       "| Mclust3_2      | Median (IQR) | 1.0 (0.0-1.0) | 1.0 (0.0-1.0) | 1.0 (0.0-1.0) | 0.294 |\n",
       "| Mclust3_3      | Mean (SD)    | 0.1 (0.3)     | 0.1 (0.3)     | 0.1 (0.3)     | NA    |\n",
       "| Mclust3_3      | Median (IQR) | 0.0 (0.0-0.0) | 0.0 (0.0-0.0) | 0.0 (0.0-0.0) | 0.146 |\n",
       "| Mclust4_1      | Mean (SD)    | 0.2 (0.4)     | 0.2 (0.4)     | 0.2 (0.4)     | NA    |\n",
       "| Mclust4_1      | Median (IQR) | 0.0 (0.0-0.0) | 0.0 (0.0-0.0) | 0.0 (0.0-0.0) | 0.959 |\n",
       "| Mclust4_2      | Mean (SD)    | 0.4 (0.5)     | 0.4 (0.5)     | 0.4 (0.5)     | NA    |\n",
       "| Mclust4_2      | Median (IQR) | 0.0 (0.0-1.0) | 0.0 (0.0-1.0) | 0.0 (0.0-1.0) | 0.454 |\n",
       "| Mclust4_3      | Mean (SD)    | 0.3 (0.5)     | 0.3 (0.5)     | 0.3 (0.5)     | NA    |\n",
       "| Mclust4_3      | Median (IQR) | 0.0 (0.0-1.0) | 0.0 (0.0-1.0) | 0.0 (0.0-1.0) | 0.77  |\n",
       "| Mclust4_4      | Mean (SD)    | 0.1 (0.3)     | 0.1 (0.3)     | 0.1 (0.3)     | NA    |\n",
       "| Mclust4_4      | Median (IQR) | 0.0 (0.0-0.0) | 0.0 (0.0-0.0) | 0.0 (0.0-0.0) | 0.146 |\n",
       "| traintest_ind_ | Mean (SD)    | 1.4 (0.5)     | NA            | NA            | NA    |\n",
       "| traintest_ind_ | Median (IQR) | 1.0 (1.0-2.0) | NA            | NA            | 0     |\n",
       "\n"
      ],
      "text/plain": [
       "    V1             V2           Pop                 1                  \n",
       "1   Individuals    n            2184                1310               \n",
       "2   NoShow         Mean (SD)    0.1 (0.3)           0.1 (0.3)          \n",
       "3   NoShow         Median (IQR) 0.0 (0.0-0.0)       0.0 (0.0-0.0)      \n",
       "4   sunday         Mean (SD)    0.0 (0.2)           0.0 (0.2)          \n",
       "5   sunday         Median (IQR) 0.0 (0.0-0.0)       0.0 (0.0-0.0)      \n",
       "6   monday         Mean (SD)    0.0 (0.0)           0.0 (0.0)          \n",
       "7   monday         Median (IQR) 0.0 (0.0-0.0)       0.0 (0.0-0.0)      \n",
       "8   saturday       Mean (SD)    0.2 (0.4)           0.2 (0.4)          \n",
       "9   saturday       Median (IQR) 0.0 (0.0-0.0)       0.0 (0.0-0.0)      \n",
       "10  time_booked    Mean (SD)    804.7 (175.8)       803.9 (174.4)      \n",
       "11  time_booked    Median (IQR) 790.0 (660.0-960.0) 790.0 (660.0-950.0)\n",
       "12  cancel_days_1  Mean (SD)    0.1 (0.2)           0.1 (0.2)          \n",
       "13  cancel_days_1  Median (IQR) 0.0 (0.0-0.0)       0.0 (0.0-0.0)      \n",
       "14  cancel_days_2  Mean (SD)    0.0 (0.1)           0.0 (0.1)          \n",
       "15  cancel_days_2  Median (IQR) 0.0 (0.0-0.0)       0.0 (0.0-0.0)      \n",
       "16  cancel_days_3  Mean (SD)    0.0 (0.1)           0.0 (0.1)          \n",
       "17  cancel_days_3  Median (IQR) 0.0 (0.0-0.0)       0.0 (0.0-0.0)      \n",
       "18  cancel_days_4  Mean (SD)    0.0 (0.1)           0.0 (0.1)          \n",
       "19  cancel_days_4  Median (IQR) 0.0 (0.0-0.0)       0.0 (0.0-0.0)      \n",
       "20  cancel_days_5  Mean (SD)    0.0 (0.1)           0.0 (0.1)          \n",
       "21  cancel_days_5  Median (IQR) 0.0 (0.0-0.0)       0.0 (0.0-0.0)      \n",
       "22  cancel_days_6  Mean (SD)    0.0 (0.1)           0.0 (0.1)          \n",
       "23  cancel_days_6  Median (IQR) 0.0 (0.0-0.0)       0.0 (0.0-0.0)      \n",
       "24  cancel_days_7  Mean (SD)    0.9 (0.3)           0.9 (0.3)          \n",
       "25  cancel_days_7  Median (IQR) 1.0 (1.0-1.0)       1.0 (1.0-1.0)      \n",
       "26  service_CAL    Mean (SD)    0.0 (0.1)           0.0 (0.1)          \n",
       "27  service_CAL    Median (IQR) 0.0 (0.0-0.0)       0.0 (0.0-0.0)      \n",
       "28  service_CALC   Mean (SD)    0.0 (0.1)           0.0 (0.1)          \n",
       "29  service_CALC   Median (IQR) 0.0 (0.0-0.0)       0.0 (0.0-0.0)      \n",
       "30  service_CAS    Mean (SD)    0.0 (0.0)           0.0 (0.0)          \n",
       "... ...            ...          ...                 ...                \n",
       "102 amount         Mean (SD)    4.0 (1.4)           4.0 (1.4)          \n",
       "103 amount         Median (IQR) 4.3 (3.9-4.7)       4.3 (3.9-4.7)      \n",
       "104 avg_receipt_4  Mean (SD)    0.2 (0.4)           0.2 (0.4)          \n",
       "105 avg_receipt_4  Median (IQR) 0.0 (0.0-0.0)       0.0 (0.0-0.0)      \n",
       "106 avg_receipt_5  Mean (SD)    0.0 (0.2)           0.0 (0.2)          \n",
       "107 avg_receipt_5  Median (IQR) 0.0 (0.0-0.0)       0.0 (0.0-0.0)      \n",
       "108 avg_quantity_5 Mean (SD)    0.0 (0.1)           0.0 (0.1)          \n",
       "109 avg_quantity_5 Median (IQR) 0.0 (0.0-0.0)       0.0 (0.0-0.0)      \n",
       "110 total_cancel12 Mean (SD)    0.5 (0.9)           0.5 (0.9)          \n",
       "111 total_cancel12 Median (IQR) 0.0 (0.0-1.0)       0.0 (0.0-1.0)      \n",
       "112 hclust3_1      Mean (SD)    0.4 (0.5)           0.4 (0.5)          \n",
       "113 hclust3_1      Median (IQR) 0.0 (0.0-1.0)       0.0 (0.0-1.0)      \n",
       "114 hclust4_4      Mean (SD)    0.2 (0.4)           0.2 (0.4)          \n",
       "115 hclust4_4      Median (IQR) 0.0 (0.0-0.0)       0.0 (0.0-0.0)      \n",
       "116 Mclust3_1      Mean (SD)    0.2 (0.4)           0.2 (0.4)          \n",
       "117 Mclust3_1      Median (IQR) 0.0 (0.0-0.0)       0.0 (0.0-0.0)      \n",
       "118 Mclust3_2      Mean (SD)    0.7 (0.5)           0.7 (0.5)          \n",
       "119 Mclust3_2      Median (IQR) 1.0 (0.0-1.0)       1.0 (0.0-1.0)      \n",
       "120 Mclust3_3      Mean (SD)    0.1 (0.3)           0.1 (0.3)          \n",
       "121 Mclust3_3      Median (IQR) 0.0 (0.0-0.0)       0.0 (0.0-0.0)      \n",
       "122 Mclust4_1      Mean (SD)    0.2 (0.4)           0.2 (0.4)          \n",
       "123 Mclust4_1      Median (IQR) 0.0 (0.0-0.0)       0.0 (0.0-0.0)      \n",
       "124 Mclust4_2      Mean (SD)    0.4 (0.5)           0.4 (0.5)          \n",
       "125 Mclust4_2      Median (IQR) 0.0 (0.0-1.0)       0.0 (0.0-1.0)      \n",
       "126 Mclust4_3      Mean (SD)    0.3 (0.5)           0.3 (0.5)          \n",
       "127 Mclust4_3      Median (IQR) 0.0 (0.0-1.0)       0.0 (0.0-1.0)      \n",
       "128 Mclust4_4      Mean (SD)    0.1 (0.3)           0.1 (0.3)          \n",
       "129 Mclust4_4      Median (IQR) 0.0 (0.0-0.0)       0.0 (0.0-0.0)      \n",
       "130 traintest_ind_ Mean (SD)    1.4 (0.5)           NA                 \n",
       "131 traintest_ind_ Median (IQR) 1.0 (1.0-2.0)       NA                 \n",
       "    2                   pval \n",
       "1   874                 NA   \n",
       "2   0.1 (0.3)           NA   \n",
       "3   0.0 (0.0-0.0)       0.22 \n",
       "4   0.0 (0.2)           NA   \n",
       "5   0.0 (0.0-0.0)       0.614\n",
       "6   0.0 (0.0)           NA   \n",
       "7   0.0 (0.0-0.0)       0.318\n",
       "8   0.2 (0.4)           NA   \n",
       "9   0.0 (0.0-0.0)       0.269\n",
       "10  805.9 (178.0)       NA   \n",
       "11  800.0 (660.0-960.0) 0.794\n",
       "12  0.1 (0.2)           NA   \n",
       "13  0.0 (0.0-0.0)       0.394\n",
       "14  0.0 (0.1)           NA   \n",
       "15  0.0 (0.0-0.0)       0.396\n",
       "16  0.0 (0.1)           NA   \n",
       "17  0.0 (0.0-0.0)       0.262\n",
       "18  0.0 (0.1)           NA   \n",
       "19  0.0 (0.0-0.0)       0.463\n",
       "20  0.0 (0.1)           NA   \n",
       "21  0.0 (0.0-0.0)       0.355\n",
       "22  0.0 (0.1)           NA   \n",
       "23  0.0 (0.0-0.0)       0.265\n",
       "24  0.9 (0.3)           NA   \n",
       "25  1.0 (1.0-1.0)       0.828\n",
       "26  0.0 (0.0)           NA   \n",
       "27  0.0 (0.0-0.0)       0.731\n",
       "28  0.0 (0.1)           NA   \n",
       "29  0.0 (0.0-0.0)       0.312\n",
       "30  0.0 (0.0)           NA   \n",
       "... ...                 ...  \n",
       "102 4.0 (1.4)           NA   \n",
       "103 4.1 (3.7-4.7)       0.457\n",
       "104 0.2 (0.4)           NA   \n",
       "105 0.0 (0.0-0.0)       0.074\n",
       "106 0.0 (0.2)           NA   \n",
       "107 0.0 (0.0-0.0)       0.109\n",
       "108 0.0 (0.0)           NA   \n",
       "109 0.0 (0.0-0.0)       0.102\n",
       "110 0.5 (0.9)           NA   \n",
       "111 0.0 (0.0-1.0)       0.314\n",
       "112 0.4 (0.5)           NA   \n",
       "113 0.0 (0.0-1.0)       0.753\n",
       "114 0.2 (0.4)           NA   \n",
       "115 0.0 (0.0-0.0)       0.443\n",
       "116 0.2 (0.4)           NA   \n",
       "117 0.0 (0.0-0.0)       0.959\n",
       "118 0.7 (0.5)           NA   \n",
       "119 1.0 (0.0-1.0)       0.294\n",
       "120 0.1 (0.3)           NA   \n",
       "121 0.0 (0.0-0.0)       0.146\n",
       "122 0.2 (0.4)           NA   \n",
       "123 0.0 (0.0-0.0)       0.959\n",
       "124 0.4 (0.5)           NA   \n",
       "125 0.0 (0.0-1.0)       0.454\n",
       "126 0.3 (0.5)           NA   \n",
       "127 0.0 (0.0-1.0)       0.77 \n",
       "128 0.1 (0.3)           NA   \n",
       "129 0.0 (0.0-0.0)       0.146\n",
       "130 NA                  NA   \n",
       "131 NA                  0    "
      ]
     },
     "metadata": {},
     "output_type": "display_data"
    }
   ],
   "source": [
    "tab1"
   ]
  },
  {
   "cell_type": "code",
   "execution_count": 10,
   "metadata": {},
   "outputs": [],
   "source": [
    "write.csv(test,\"C:\\\\Users\\\\Mayer\\\\Documents\\\\DataScience\\\\project\\\\Noshows\\\\NoShowTest.csv\",row.names = FALSE)"
   ]
  },
  {
   "cell_type": "code",
   "execution_count": 11,
   "metadata": {},
   "outputs": [
    {
     "name": "stderr",
     "output_type": "stream",
     "text": [
      "Warning message:\n",
      "\"glm.fit: algorithm did not converge\"\n",
      "Warning message:\n",
      "\"glm.fit: fitted probabilities numerically 0 or 1 occurred\"\n",
      "Warning message in predict.lm(object, newdata, se.fit, scale = 1, type = if (type == :\n",
      "\"prediction from a rank-deficient fit may be misleading\"\n"
     ]
    },
    {
     "data": {
      "text/plain": [
       "    obs\n",
       "pred    0    1\n",
       "   0 1200    0\n",
       "   1    0  110"
      ]
     },
     "metadata": {},
     "output_type": "display_data"
    }
   ],
   "source": [
    "glmmod <- glm(NoShow ~., data=train,family='binomial')\n",
    "pred <- ifelse(predict(glmmod, newdata=train,type='response')>=0.5,1,0)\n",
    "table(pred=pred, obs =train$NoShow)\n",
    "#table(pred=ifelse(predict(mod, newdata=test,type='response')>=0.5,1,0), obs =test$NoShow)"
   ]
  },
  {
   "cell_type": "code",
   "execution_count": 12,
   "metadata": {},
   "outputs": [
    {
     "data": {
      "text/plain": [
       "\n",
       "Call:\n",
       "glm(formula = NoShow ~ ., family = \"binomial\", data = train)\n",
       "\n",
       "Deviance Residuals: \n",
       "       Min          1Q      Median          3Q         Max  \n",
       "-6.383e-06  -2.766e-06  -2.365e-06  -2.006e-06   2.085e-05  \n",
       "\n",
       "Coefficients: (6 not defined because of singularities)\n",
       "                     Estimate Std. Error z value Pr(>|z|)\n",
       "(Intercept)        -2.390e+01  3.068e+05   0.000    1.000\n",
       "sunday              9.294e-01  8.096e+04   0.000    1.000\n",
       "monday             -8.457e-02  4.402e+05   0.000    1.000\n",
       "saturday           -9.969e-02  2.488e+04   0.000    1.000\n",
       "time_booked        -2.529e-03  1.378e+02   0.000    1.000\n",
       "cancel_days_1       5.158e+01  4.250e+04   0.001    0.999\n",
       "cancel_days_2       5.065e+01  6.276e+04   0.001    0.999\n",
       "cancel_days_3      -4.484e+01  1.111e+05   0.000    1.000\n",
       "cancel_days_4      -4.503e+01  1.459e+05   0.000    1.000\n",
       "cancel_days_5      -4.524e+01  1.057e+05   0.000    1.000\n",
       "cancel_days_6      -4.540e+01  1.059e+05   0.000    1.000\n",
       "cancel_days_7              NA         NA      NA       NA\n",
       "service_CAL        -4.002e-01  3.138e+05   0.000    1.000\n",
       "service_CALC        5.726e-01  8.391e+04   0.000    1.000\n",
       "service_CAS                NA         NA      NA       NA\n",
       "service_CBAL       -4.867e-01  2.794e+05   0.000    1.000\n",
       "service_CCAMO      -2.456e-01  2.720e+05   0.000    1.000\n",
       "service_CCO        -1.579e+00  5.954e+05   0.000    1.000\n",
       "service_CDPB       -1.544e-01  2.970e+05   0.000    1.000\n",
       "service_CFC         3.724e-01  7.356e+04   0.000    1.000\n",
       "service_CHLFH      -1.289e+00  4.041e+05   0.000    1.000\n",
       "service_CHLFHC     -8.784e-02  4.406e+05   0.000    1.000\n",
       "service_CHLHH      -2.531e-01  2.944e+05   0.000    1.000\n",
       "service_CHLHHC     -3.294e-01  3.319e+05   0.000    1.000\n",
       "service_CHLPHC      1.789e-01  2.770e+05   0.000    1.000\n",
       "service_CHLPL       9.266e-01  8.160e+04   0.000    1.000\n",
       "service_CMT        -1.866e-01  2.869e+05   0.000    1.000\n",
       "service_CON         1.108e+00  7.193e+04   0.000    1.000\n",
       "service_CT         -1.978e-01  3.055e+05   0.000    1.000\n",
       "service_FRI         1.671e-01  2.811e+05   0.000    1.000\n",
       "service_MISC       -1.240e-01  3.303e+05   0.000    1.000\n",
       "service_SBD        -1.152e-01  3.465e+04   0.000    1.000\n",
       "service_SBD5       -9.193e-01  3.032e+05   0.000    1.000\n",
       "service_SDUD        1.473e-01  3.078e+05   0.000    1.000\n",
       "service_SHCC       -3.714e-01  2.535e+05   0.000    1.000\n",
       "service_SHCW        4.317e-02  2.544e+04   0.000    1.000\n",
       "service_SMARTBOND  -2.410e-01  2.841e+05   0.000    1.000\n",
       "service_SMO        -1.266e+00  3.752e+05   0.000    1.000\n",
       "staff_HOUSE         5.333e-01  1.281e+05   0.000    1.000\n",
       "staff_KELLY        -1.478e-01  3.306e+04   0.000    1.000\n",
       "Canceled_By_BECKY   3.402e+00  3.589e+05   0.000    1.000\n",
       "Canceled_By_JJ      4.712e+01  5.662e+04   0.001    0.999\n",
       "Canceled_By_JOANNE  3.647e+00  5.920e+05   0.000    1.000\n",
       "Canceled_By_KELLY   2.549e+00  2.125e+05   0.000    1.000\n",
       "Canceled_By_SINEAD  4.326e+01  3.316e+05   0.000    1.000\n",
       "quantity_1         -4.376e-02  3.581e+05   0.000    1.000\n",
       "quantity_2         -1.991e-01  2.594e+04   0.000    1.000\n",
       "quantity_5          1.210e-01  9.446e+04   0.000    1.000\n",
       "quantity_6          4.867e-02  1.132e+05   0.000    1.000\n",
       "quantity_7          5.006e-01  3.063e+04   0.000    1.000\n",
       "amount              2.028e-02  9.685e+03   0.000    1.000\n",
       "avg_receipt_4       4.556e-01  2.219e+04   0.000    1.000\n",
       "avg_receipt_5      -1.516e-01  5.664e+04   0.000    1.000\n",
       "avg_quantity_5      5.768e-03  1.370e+05   0.000    1.000\n",
       "total_cancel12     -7.854e-02  1.436e+04   0.000    1.000\n",
       "hclust3_1          -7.609e-01  5.486e+04   0.000    1.000\n",
       "hclust4_4          -4.384e-01  3.649e+04   0.000    1.000\n",
       "Mclust3_1          -1.305e+00  2.598e+05   0.000    1.000\n",
       "Mclust3_2          -9.309e-03  2.587e+05   0.000    1.000\n",
       "Mclust3_3                  NA         NA      NA       NA\n",
       "Mclust4_1                  NA         NA      NA       NA\n",
       "Mclust4_2          -1.645e-01  2.390e+04   0.000    1.000\n",
       "Mclust4_3                  NA         NA      NA       NA\n",
       "Mclust4_4                  NA         NA      NA       NA\n",
       "\n",
       "(Dispersion parameter for binomial family taken to be 1)\n",
       "\n",
       "    Null deviance: 7.5550e+02  on 1309  degrees of freedom\n",
       "Residual deviance: 9.1617e-09  on 1252  degrees of freedom\n",
       "AIC: 116\n",
       "\n",
       "Number of Fisher Scoring iterations: 25\n"
      ]
     },
     "metadata": {},
     "output_type": "display_data"
    }
   ],
   "source": [
    "summary (glmmod)\n"
   ]
  },
  {
   "cell_type": "markdown",
   "metadata": {},
   "source": [
    "## Using VIF to find multicollinearity"
   ]
  },
  {
   "cell_type": "code",
   "execution_count": 109,
   "metadata": {},
   "outputs": [
    {
     "ename": "ERROR",
     "evalue": "Error in vif.default(glmmod): there are aliased coefficients in the model\n",
     "output_type": "error",
     "traceback": [
      "Error in vif.default(glmmod): there are aliased coefficients in the model\nTraceback:\n",
      "1. car::vif(glmmod)",
      "2. vif.default(glmmod)",
      "3. stop(\"there are aliased coefficients in the model\")"
     ]
    }
   ],
   "source": [
    "car::vif(glmmod)"
   ]
  },
  {
   "cell_type": "code",
   "execution_count": 96,
   "metadata": {},
   "outputs": [
    {
     "name": "stderr",
     "output_type": "stream",
     "text": [
      "Warning message:\n",
      "\"glm.fit: algorithm did not converge\"\n",
      "Warning message:\n",
      "\"glm.fit: fitted probabilities numerically 0 or 1 occurred\"\n"
     ]
    },
    {
     "data": {
      "text/html": [
       "<style>\n",
       ".list-inline {list-style: none; margin:0; padding: 0}\n",
       ".list-inline>li {display: inline-block}\n",
       ".list-inline>li:not(:last-child)::after {content: \"\\00b7\"; padding: 0 .5ex}\n",
       "</style>\n",
       "<ol class=list-inline><li>'cancel_days_7'</li><li>'service_CAS'</li><li>'Mclust3_3'</li><li>'Mclust4_1'</li><li>'Mclust4_3'</li><li>'Mclust4_4'</li></ol>\n"
      ],
      "text/latex": [
       "\\begin{enumerate*}\n",
       "\\item 'cancel\\_days\\_7'\n",
       "\\item 'service\\_CAS'\n",
       "\\item 'Mclust3\\_3'\n",
       "\\item 'Mclust4\\_1'\n",
       "\\item 'Mclust4\\_3'\n",
       "\\item 'Mclust4\\_4'\n",
       "\\end{enumerate*}\n"
      ],
      "text/markdown": [
       "1. 'cancel_days_7'\n",
       "2. 'service_CAS'\n",
       "3. 'Mclust3_3'\n",
       "4. 'Mclust4_1'\n",
       "5. 'Mclust4_3'\n",
       "6. 'Mclust4_4'\n",
       "\n",
       "\n"
      ],
      "text/plain": [
       "[1] \"cancel_days_7\" \"service_CAS\"   \"Mclust3_3\"     \"Mclust4_1\"    \n",
       "[5] \"Mclust4_3\"     \"Mclust4_4\"    "
      ]
     },
     "metadata": {},
     "output_type": "display_data"
    },
    {
     "data": {
      "text/plain": [
       "NoShow ~ ."
      ]
     },
     "metadata": {},
     "output_type": "display_data"
    }
   ],
   "source": [
    "formula <- as.formula(NoShow ~ .)\n",
    "fit <-glm(formula, data = train,family='binomial')\n",
    "\n",
    "#the linearly dependent variables\n",
    "ld.vars <- attributes(alias(fit)$Complete)$dimnames[[1]]\n",
    "ld.vars\n"
   ]
  },
  {
   "cell_type": "code",
   "execution_count": 90,
   "metadata": {},
   "outputs": [
    {
     "data": {
      "text/plain": [
       "NoShow ~ . - cancel_days_7 - service_CAS - Mclust3_3 - Mclust4_1 - \n",
       "    Mclust4_3 - Mclust4_4"
      ]
     },
     "metadata": {},
     "output_type": "display_data"
    }
   ],
   "source": [
    "#remove the linearly dependent variables variables\n",
    "formula.new <- as.formula(\n",
    "    paste(\n",
    "        paste(deparse(formula), collapse=\"\"), \n",
    "        paste(ld.vars, collapse=\"-\"),\n",
    "        sep=\"-\"\n",
    "    )\n",
    ")\n",
    "formula.new"
   ]
  },
  {
   "cell_type": "code",
   "execution_count": 110,
   "metadata": {},
   "outputs": [
    {
     "name": "stderr",
     "output_type": "stream",
     "text": [
      "Warning message:\n",
      "\"glm.fit: algorithm did not converge\"\n",
      "Warning message:\n",
      "\"glm.fit: fitted probabilities numerically 0 or 1 occurred\"\n"
     ]
    },
    {
     "data": {
      "text/html": [
       "<style>\n",
       ".dl-inline {width: auto; margin:0; padding: 0}\n",
       ".dl-inline>dt, .dl-inline>dd {float: none; width: auto; display: inline-block}\n",
       ".dl-inline>dt::after {content: \":\\0020\"; padding-right: .5ex}\n",
       ".dl-inline>dt:not(:first-of-type) {padding-left: .5ex}\n",
       "</style><dl class=dl-inline><dt>sunday</dt><dd>1.84170600498156</dd><dt>monday</dt><dd>1.52682577655203</dd><dt>saturday</dt><dd>1.23456627625987</dd><dt>time_booked</dt><dd>7.95875009479182</dd><dt>cancel_days_1</dt><dd>1.49817432551384</dd><dt>cancel_days_2</dt><dd>1.22469405816947</dd><dt>cancel_days_3</dt><dd>2.05256621047621</dd><dt>cancel_days_4</dt><dd>1.5155631747562</dd><dt>cancel_days_5</dt><dd>1.91268037140422</dd><dt>cancel_days_6</dt><dd>2.30529336903842</dd><dt>service_CAL</dt><dd>3.13541527946815</dd><dt>service_CALC</dt><dd>1.5072019352219</dd><dt>service_CBAL</dt><dd>8.5584196840557</dd><dt>service_CCAMO</dt><dd>10.8711521396868</dd><dt>service_CCO</dt><dd>1.19984418860376</dd><dt>service_CDPB</dt><dd>3.9409493498445</dd><dt>service_CFC</dt><dd>1.8661010362915</dd><dt>service_CHLFH</dt><dd>1.6931736185672</dd><dt>service_CHLFHC</dt><dd>1.53001180049651</dd><dt>service_CHLHH</dt><dd>4.85238637969223</dd><dt>service_CHLHHC</dt><dd>2.61640971813153</dd><dt>service_CHLPHC</dt><dd>8.24261224629606</dd><dt>service_CHLPL</dt><dd>1.72643803220079</dd><dt>service_CMT</dt><dd>5.59294669828928</dd><dt>service_CON</dt><dd>3.37768280545377</dd><dt>service_CT</dt><dd>3.68607630765255</dd><dt>service_FRI</dt><dd>6.58421511868456</dd><dt>service_MISC</dt><dd>2.58449435986232</dd><dt>service_SBD</dt><dd>2.01665190493109</dd><dt>service_SBD5</dt><dd>8.24845856053598</dd><dt>service_SDUD</dt><dd>2.26778809832569</dd><dt>service_SHCC</dt><dd>4.87185777606528</dd><dt>service_SHCW</dt><dd>1.96059088262778</dd><dt>service_SMARTBOND</dt><dd>4.91419114166328</dd><dt>service_SMO</dt><dd>1.70375954732237</dd><dt>staff_HOUSE</dt><dd>2.35852860810598</dd><dt>staff_KELLY</dt><dd>1.38030691961513</dd><dt>Canceled_By_BECKY</dt><dd>1.41320601775026</dd><dt>Canceled_By_JJ</dt><dd>3.46450065269625</dd><dt>Canceled_By_JOANNE</dt><dd>1.23981463549594</dd><dt>Canceled_By_KELLY</dt><dd>2.13797651751204</dd><dt>Canceled_By_SINEAD</dt><dd>2.0235792823034</dd><dt>quantity_1</dt><dd>1.01036707161737</dd><dt>quantity_2</dt><dd>2.06186534813581</dd><dt>quantity_5</dt><dd>1.12362042079402</dd><dt>quantity_6</dt><dd>1.18717514506524</dd><dt>quantity_7</dt><dd>2.56365439164708</dd><dt>amount</dt><dd>2.24821994464739</dd><dt>avg_receipt_4</dt><dd>1.25443467992588</dd><dt>avg_receipt_5</dt><dd>1.4605175374845</dd><dt>avg_quantity_5</dt><dd>1.37306213757094</dd><dt>total_cancel12</dt><dd>1.85789410900614</dd><dt>hclust3_1</dt><dd>9.36823893127941</dd><dt>hclust4_4</dt><dd>2.65413858060642</dd><dt>Mclust3_1</dt><dd>129.268668785929</dd><dt>Mclust3_2</dt><dd>166.722876914049</dd><dt>Mclust4_2</dt><dd>1.55809597116303</dd></dl>\n"
      ],
      "text/latex": [
       "\\begin{description*}\n",
       "\\item[sunday] 1.84170600498156\n",
       "\\item[monday] 1.52682577655203\n",
       "\\item[saturday] 1.23456627625987\n",
       "\\item[time\\textbackslash{}\\_booked] 7.95875009479182\n",
       "\\item[cancel\\textbackslash{}\\_days\\textbackslash{}\\_1] 1.49817432551384\n",
       "\\item[cancel\\textbackslash{}\\_days\\textbackslash{}\\_2] 1.22469405816947\n",
       "\\item[cancel\\textbackslash{}\\_days\\textbackslash{}\\_3] 2.05256621047621\n",
       "\\item[cancel\\textbackslash{}\\_days\\textbackslash{}\\_4] 1.5155631747562\n",
       "\\item[cancel\\textbackslash{}\\_days\\textbackslash{}\\_5] 1.91268037140422\n",
       "\\item[cancel\\textbackslash{}\\_days\\textbackslash{}\\_6] 2.30529336903842\n",
       "\\item[service\\textbackslash{}\\_CAL] 3.13541527946815\n",
       "\\item[service\\textbackslash{}\\_CALC] 1.5072019352219\n",
       "\\item[service\\textbackslash{}\\_CBAL] 8.5584196840557\n",
       "\\item[service\\textbackslash{}\\_CCAMO] 10.8711521396868\n",
       "\\item[service\\textbackslash{}\\_CCO] 1.19984418860376\n",
       "\\item[service\\textbackslash{}\\_CDPB] 3.9409493498445\n",
       "\\item[service\\textbackslash{}\\_CFC] 1.8661010362915\n",
       "\\item[service\\textbackslash{}\\_CHLFH] 1.6931736185672\n",
       "\\item[service\\textbackslash{}\\_CHLFHC] 1.53001180049651\n",
       "\\item[service\\textbackslash{}\\_CHLHH] 4.85238637969223\n",
       "\\item[service\\textbackslash{}\\_CHLHHC] 2.61640971813153\n",
       "\\item[service\\textbackslash{}\\_CHLPHC] 8.24261224629606\n",
       "\\item[service\\textbackslash{}\\_CHLPL] 1.72643803220079\n",
       "\\item[service\\textbackslash{}\\_CMT] 5.59294669828928\n",
       "\\item[service\\textbackslash{}\\_CON] 3.37768280545377\n",
       "\\item[service\\textbackslash{}\\_CT] 3.68607630765255\n",
       "\\item[service\\textbackslash{}\\_FRI] 6.58421511868456\n",
       "\\item[service\\textbackslash{}\\_MISC] 2.58449435986232\n",
       "\\item[service\\textbackslash{}\\_SBD] 2.01665190493109\n",
       "\\item[service\\textbackslash{}\\_SBD5] 8.24845856053598\n",
       "\\item[service\\textbackslash{}\\_SDUD] 2.26778809832569\n",
       "\\item[service\\textbackslash{}\\_SHCC] 4.87185777606528\n",
       "\\item[service\\textbackslash{}\\_SHCW] 1.96059088262778\n",
       "\\item[service\\textbackslash{}\\_SMARTBOND] 4.91419114166328\n",
       "\\item[service\\textbackslash{}\\_SMO] 1.70375954732237\n",
       "\\item[staff\\textbackslash{}\\_HOUSE] 2.35852860810598\n",
       "\\item[staff\\textbackslash{}\\_KELLY] 1.38030691961513\n",
       "\\item[Canceled\\textbackslash{}\\_By\\textbackslash{}\\_BECKY] 1.41320601775026\n",
       "\\item[Canceled\\textbackslash{}\\_By\\textbackslash{}\\_JJ] 3.46450065269625\n",
       "\\item[Canceled\\textbackslash{}\\_By\\textbackslash{}\\_JOANNE] 1.23981463549594\n",
       "\\item[Canceled\\textbackslash{}\\_By\\textbackslash{}\\_KELLY] 2.13797651751204\n",
       "\\item[Canceled\\textbackslash{}\\_By\\textbackslash{}\\_SINEAD] 2.0235792823034\n",
       "\\item[quantity\\textbackslash{}\\_1] 1.01036707161737\n",
       "\\item[quantity\\textbackslash{}\\_2] 2.06186534813581\n",
       "\\item[quantity\\textbackslash{}\\_5] 1.12362042079402\n",
       "\\item[quantity\\textbackslash{}\\_6] 1.18717514506524\n",
       "\\item[quantity\\textbackslash{}\\_7] 2.56365439164708\n",
       "\\item[amount] 2.24821994464739\n",
       "\\item[avg\\textbackslash{}\\_receipt\\textbackslash{}\\_4] 1.25443467992588\n",
       "\\item[avg\\textbackslash{}\\_receipt\\textbackslash{}\\_5] 1.4605175374845\n",
       "\\item[avg\\textbackslash{}\\_quantity\\textbackslash{}\\_5] 1.37306213757094\n",
       "\\item[total\\textbackslash{}\\_cancel12] 1.85789410900614\n",
       "\\item[hclust3\\textbackslash{}\\_1] 9.36823893127941\n",
       "\\item[hclust4\\textbackslash{}\\_4] 2.65413858060642\n",
       "\\item[Mclust3\\textbackslash{}\\_1] 129.268668785929\n",
       "\\item[Mclust3\\textbackslash{}\\_2] 166.722876914049\n",
       "\\item[Mclust4\\textbackslash{}\\_2] 1.55809597116303\n",
       "\\end{description*}\n"
      ],
      "text/markdown": [
       "sunday\n",
       ":   1.84170600498156monday\n",
       ":   1.52682577655203saturday\n",
       ":   1.23456627625987time_booked\n",
       ":   7.95875009479182cancel_days_1\n",
       ":   1.49817432551384cancel_days_2\n",
       ":   1.22469405816947cancel_days_3\n",
       ":   2.05256621047621cancel_days_4\n",
       ":   1.5155631747562cancel_days_5\n",
       ":   1.91268037140422cancel_days_6\n",
       ":   2.30529336903842service_CAL\n",
       ":   3.13541527946815service_CALC\n",
       ":   1.5072019352219service_CBAL\n",
       ":   8.5584196840557service_CCAMO\n",
       ":   10.8711521396868service_CCO\n",
       ":   1.19984418860376service_CDPB\n",
       ":   3.9409493498445service_CFC\n",
       ":   1.8661010362915service_CHLFH\n",
       ":   1.6931736185672service_CHLFHC\n",
       ":   1.53001180049651service_CHLHH\n",
       ":   4.85238637969223service_CHLHHC\n",
       ":   2.61640971813153service_CHLPHC\n",
       ":   8.24261224629606service_CHLPL\n",
       ":   1.72643803220079service_CMT\n",
       ":   5.59294669828928service_CON\n",
       ":   3.37768280545377service_CT\n",
       ":   3.68607630765255service_FRI\n",
       ":   6.58421511868456service_MISC\n",
       ":   2.58449435986232service_SBD\n",
       ":   2.01665190493109service_SBD5\n",
       ":   8.24845856053598service_SDUD\n",
       ":   2.26778809832569service_SHCC\n",
       ":   4.87185777606528service_SHCW\n",
       ":   1.96059088262778service_SMARTBOND\n",
       ":   4.91419114166328service_SMO\n",
       ":   1.70375954732237staff_HOUSE\n",
       ":   2.35852860810598staff_KELLY\n",
       ":   1.38030691961513Canceled_By_BECKY\n",
       ":   1.41320601775026Canceled_By_JJ\n",
       ":   3.46450065269625Canceled_By_JOANNE\n",
       ":   1.23981463549594Canceled_By_KELLY\n",
       ":   2.13797651751204Canceled_By_SINEAD\n",
       ":   2.0235792823034quantity_1\n",
       ":   1.01036707161737quantity_2\n",
       ":   2.06186534813581quantity_5\n",
       ":   1.12362042079402quantity_6\n",
       ":   1.18717514506524quantity_7\n",
       ":   2.56365439164708amount\n",
       ":   2.24821994464739avg_receipt_4\n",
       ":   1.25443467992588avg_receipt_5\n",
       ":   1.4605175374845avg_quantity_5\n",
       ":   1.37306213757094total_cancel12\n",
       ":   1.85789410900614hclust3_1\n",
       ":   9.36823893127941hclust4_4\n",
       ":   2.65413858060642Mclust3_1\n",
       ":   129.268668785929Mclust3_2\n",
       ":   166.722876914049Mclust4_2\n",
       ":   1.55809597116303\n",
       "\n"
      ],
      "text/plain": [
       "            sunday             monday           saturday        time_booked \n",
       "          1.841706           1.526826           1.234566           7.958750 \n",
       "     cancel_days_1      cancel_days_2      cancel_days_3      cancel_days_4 \n",
       "          1.498174           1.224694           2.052566           1.515563 \n",
       "     cancel_days_5      cancel_days_6        service_CAL       service_CALC \n",
       "          1.912680           2.305293           3.135415           1.507202 \n",
       "      service_CBAL      service_CCAMO        service_CCO       service_CDPB \n",
       "          8.558420          10.871152           1.199844           3.940949 \n",
       "       service_CFC      service_CHLFH     service_CHLFHC      service_CHLHH \n",
       "          1.866101           1.693174           1.530012           4.852386 \n",
       "    service_CHLHHC     service_CHLPHC      service_CHLPL        service_CMT \n",
       "          2.616410           8.242612           1.726438           5.592947 \n",
       "       service_CON         service_CT        service_FRI       service_MISC \n",
       "          3.377683           3.686076           6.584215           2.584494 \n",
       "       service_SBD       service_SBD5       service_SDUD       service_SHCC \n",
       "          2.016652           8.248459           2.267788           4.871858 \n",
       "      service_SHCW  service_SMARTBOND        service_SMO        staff_HOUSE \n",
       "          1.960591           4.914191           1.703760           2.358529 \n",
       "       staff_KELLY  Canceled_By_BECKY     Canceled_By_JJ Canceled_By_JOANNE \n",
       "          1.380307           1.413206           3.464501           1.239815 \n",
       " Canceled_By_KELLY Canceled_By_SINEAD         quantity_1         quantity_2 \n",
       "          2.137977           2.023579           1.010367           2.061865 \n",
       "        quantity_5         quantity_6         quantity_7             amount \n",
       "          1.123620           1.187175           2.563654           2.248220 \n",
       "     avg_receipt_4      avg_receipt_5     avg_quantity_5     total_cancel12 \n",
       "          1.254435           1.460518           1.373062           1.857894 \n",
       "         hclust3_1          hclust4_4          Mclust3_1          Mclust3_2 \n",
       "          9.368239           2.654139         129.268669         166.722877 \n",
       "         Mclust4_2 \n",
       "          1.558096 "
      ]
     },
     "metadata": {},
     "output_type": "display_data"
    }
   ],
   "source": [
    "#run model again\n",
    "glmmod.new <-glm(formula.new, data = train,family='binomial')\n",
    "vifTable <-car::vif(glmmod.new)\n",
    "vifTable"
   ]
  },
  {
   "cell_type": "code",
   "execution_count": 115,
   "metadata": {},
   "outputs": [
    {
     "data": {
      "text/html": [
       "<style>\n",
       ".list-inline {list-style: none; margin:0; padding: 0}\n",
       ".list-inline>li {display: inline-block}\n",
       ".list-inline>li:not(:last-child)::after {content: \"\\00b7\"; padding: 0 .5ex}\n",
       "</style>\n",
       "<ol class=list-inline><li>'time_booked'</li><li>'service_CBAL'</li><li>'service_CCAMO'</li><li>'service_CHLPHC'</li><li>'service_CMT'</li><li>'service_FRI'</li><li>'service_SBD5'</li><li>'hclust3_1'</li><li>'Mclust3_1'</li><li>'Mclust3_2'</li></ol>\n"
      ],
      "text/latex": [
       "\\begin{enumerate*}\n",
       "\\item 'time\\_booked'\n",
       "\\item 'service\\_CBAL'\n",
       "\\item 'service\\_CCAMO'\n",
       "\\item 'service\\_CHLPHC'\n",
       "\\item 'service\\_CMT'\n",
       "\\item 'service\\_FRI'\n",
       "\\item 'service\\_SBD5'\n",
       "\\item 'hclust3\\_1'\n",
       "\\item 'Mclust3\\_1'\n",
       "\\item 'Mclust3\\_2'\n",
       "\\end{enumerate*}\n"
      ],
      "text/markdown": [
       "1. 'time_booked'\n",
       "2. 'service_CBAL'\n",
       "3. 'service_CCAMO'\n",
       "4. 'service_CHLPHC'\n",
       "5. 'service_CMT'\n",
       "6. 'service_FRI'\n",
       "7. 'service_SBD5'\n",
       "8. 'hclust3_1'\n",
       "9. 'Mclust3_1'\n",
       "10. 'Mclust3_2'\n",
       "\n",
       "\n"
      ],
      "text/plain": [
       " [1] \"time_booked\"    \"service_CBAL\"   \"service_CCAMO\"  \"service_CHLPHC\"\n",
       " [5] \"service_CMT\"    \"service_FRI\"    \"service_SBD5\"   \"hclust3_1\"     \n",
       " [9] \"Mclust3_1\"      \"Mclust3_2\"     "
      ]
     },
     "metadata": {},
     "output_type": "display_data"
    },
    {
     "data": {
      "text/html": [
       "<style>\n",
       ".list-inline {list-style: none; margin:0; padding: 0}\n",
       ".list-inline>li {display: inline-block}\n",
       ".list-inline>li:not(:last-child)::after {content: \"\\00b7\"; padding: 0 .5ex}\n",
       "</style>\n",
       "<ol class=list-inline><li>'service_CCAMO'</li><li>'Mclust3_1'</li><li>'Mclust3_2'</li></ol>\n"
      ],
      "text/latex": [
       "\\begin{enumerate*}\n",
       "\\item 'service\\_CCAMO'\n",
       "\\item 'Mclust3\\_1'\n",
       "\\item 'Mclust3\\_2'\n",
       "\\end{enumerate*}\n"
      ],
      "text/markdown": [
       "1. 'service_CCAMO'\n",
       "2. 'Mclust3_1'\n",
       "3. 'Mclust3_2'\n",
       "\n",
       "\n"
      ],
      "text/plain": [
       "[1] \"service_CCAMO\" \"Mclust3_1\"     \"Mclust3_2\"    "
      ]
     },
     "metadata": {},
     "output_type": "display_data"
    }
   ],
   "source": [
    "#a VIF value that exceeds 5 or 10 indicates a problematic amount of collinearity\n",
    "varSel5 <- names(which(vifTable>5))\n",
    "varSel5\n",
    "varSel10 <- names(which(vifTable>10))\n",
    "varSel10"
   ]
  },
  {
   "cell_type": "code",
   "execution_count": 105,
   "metadata": {},
   "outputs": [
    {
     "data": {
      "text/plain": [
       "NoShow ~ . - time_booked - service_CBAL - service_CCAMO - service_CHLPHC - \n",
       "    service_CMT - service_FRI - service_SBD5 - hclust3_1 - Mclust3_1 - \n",
       "    Mclust3_2"
      ]
     },
     "metadata": {},
     "output_type": "display_data"
    },
    {
     "data": {
      "text/plain": [
       "NoShow ~ . - service_CCAMO - Mclust3_1 - Mclust3_2"
      ]
     },
     "metadata": {},
     "output_type": "display_data"
    }
   ],
   "source": [
    "# Build a model excluding varSel5 variables\n",
    "\n",
    "formula5 <-as.formula(\n",
    "    paste(\n",
    "        paste(deparse(formula), collapse=\"\"), \n",
    "        paste(varSel5, collapse=\"-\"),\n",
    "        sep=\"-\"\n",
    "    )\n",
    ")\n",
    "formula5\n",
    "\n",
    "# Build a model excluding  varSel10 variables\n",
    "\n",
    "formula10 <-as.formula(\n",
    "    paste(\n",
    "        paste(deparse(formula), collapse=\"\"), \n",
    "        paste(varSel10, collapse=\"-\"),\n",
    "        sep=\"-\"\n",
    "    )\n",
    ")\n",
    "formula10"
   ]
  },
  {
   "cell_type": "code",
   "execution_count": 106,
   "metadata": {},
   "outputs": [
    {
     "name": "stderr",
     "output_type": "stream",
     "text": [
      "Warning message:\n",
      "\"glm.fit: algorithm did not converge\"\n",
      "Warning message:\n",
      "\"glm.fit: fitted probabilities numerically 0 or 1 occurred\"\n",
      "Warning message in predict.lm(object, newdata, se.fit, scale = 1, type = if (type == :\n",
      "\"prediction from a rank-deficient fit may be misleading\"\n"
     ]
    },
    {
     "data": {
      "text/plain": [
       "    obs\n",
       "pred    0    1\n",
       "   0 1200    0\n",
       "   1    0  110"
      ]
     },
     "metadata": {},
     "output_type": "display_data"
    },
    {
     "name": "stderr",
     "output_type": "stream",
     "text": [
      "Warning message in predict.lm(object, newdata, se.fit, scale = 1, type = if (type == :\n",
      "\"prediction from a rank-deficient fit may be misleading\"\n"
     ]
    },
    {
     "data": {
      "text/plain": [
       "    obs\n",
       "pred   0   1\n",
       "   0 813   0\n",
       "   1   0  61"
      ]
     },
     "metadata": {},
     "output_type": "display_data"
    },
    {
     "name": "stderr",
     "output_type": "stream",
     "text": [
      "Warning message:\n",
      "\"glm.fit: algorithm did not converge\"\n",
      "Warning message:\n",
      "\"glm.fit: fitted probabilities numerically 0 or 1 occurred\"\n",
      "Warning message in predict.lm(object, newdata, se.fit, scale = 1, type = if (type == :\n",
      "\"prediction from a rank-deficient fit may be misleading\"\n"
     ]
    },
    {
     "data": {
      "text/plain": [
       "    obs\n",
       "pred    0    1\n",
       "   0 1200    0\n",
       "   1    0  110"
      ]
     },
     "metadata": {},
     "output_type": "display_data"
    },
    {
     "name": "stderr",
     "output_type": "stream",
     "text": [
      "Warning message in predict.lm(object, newdata, se.fit, scale = 1, type = if (type == :\n",
      "\"prediction from a rank-deficient fit may be misleading\"\n"
     ]
    },
    {
     "data": {
      "text/plain": [
       "    obs\n",
       "pred   0   1\n",
       "   0 813   0\n",
       "   1   0  61"
      ]
     },
     "metadata": {},
     "output_type": "display_data"
    }
   ],
   "source": [
    "#excluding varSel5\n",
    "glmmod1 <- glm(formula5, data=train,family='binomial')\n",
    "pred <- ifelse(predict(glmmod1, newdata=train,type='response')>=0.5,1,0)\n",
    "table(pred=pred, obs =train$NoShow)\n",
    "table(pred=ifelse(predict(glmmod1, newdata=test,type='response')>=0.5,1,0), obs =test$NoShow)\n",
    "\n",
    "#excluding varSel10\n",
    "glmmod2 <- glm(formula10, data=train,family='binomial')\n",
    "pred <- ifelse(predict(glmmod2, newdata=train,type='response')>=0.5,1,0)\n",
    "table(pred=pred, obs =train$NoShow)\n",
    "table(pred=ifelse(predict(glmmod2, newdata=test,type='response')>=0.5,1,0), obs =test$NoShow)"
   ]
  },
  {
   "cell_type": "code",
   "execution_count": 125,
   "metadata": {},
   "outputs": [
    {
     "name": "stderr",
     "output_type": "stream",
     "text": [
      "Loading required package: Matrix\n",
      "\n",
      "Loading required package: foreach\n",
      "\n",
      "Loaded glmnet 2.0-18\n",
      "\n",
      "\n"
     ]
    }
   ],
   "source": [
    "library(glmnet)"
   ]
  },
  {
   "cell_type": "code",
   "execution_count": 139,
   "metadata": {},
   "outputs": [
    {
     "data": {
      "image/png": "[encoded data removed]",
      "text/plain": [
       "plot without title"
      ]
     },
     "metadata": {
      "image/png": {
       "height": 420,
       "width": 420
      }
     },
     "output_type": "display_data"
    }
   ],
   "source": [
    "x <- as.matrix(train[2:64])\n",
    "y <- as.factor(train$NoShow)\n",
    "glmmod3 <- glmnet(x,y, alpha=0, family=\"binomial\")\n",
    "\n",
    "# Plot variable coefficients vs. shrinkage parameter lambda.\n",
    "plot(glmmod3, xvar=\"lambda\")"
   ]
  },
  {
   "cell_type": "code",
   "execution_count": 137,
   "metadata": {},
   "outputs": [
    {
     "data": {
      "image/png": "[encoded data removed]",
      "text/plain": [
       "plot without title"
      ]
     },
     "metadata": {
      "image/png": {
       "height": 420,
       "width": 420
      }
     },
     "output_type": "display_data"
    }
   ],
   "source": [
    "cv.glmmod3 <- cv.glmnet(x, y=train$NoShow, alpha=0)\n",
    "plot(cv.glmmod3)"
   ]
  },
  {
   "cell_type": "code",
   "execution_count": 138,
   "metadata": {},
   "outputs": [
    {
     "data": {
      "text/html": [
       "0.0241296694518024"
      ],
      "text/latex": [
       "0.0241296694518024"
      ],
      "text/markdown": [
       "0.0241296694518024"
      ],
      "text/plain": [
       "[1] 0.02412967"
      ]
     },
     "metadata": {},
     "output_type": "display_data"
    }
   ],
   "source": [
    "(best.lambda <- cv.glmmod3$lambda.min)"
   ]
  },
  {
   "cell_type": "code",
   "execution_count": 13,
   "metadata": {},
   "outputs": [
    {
     "data": {
      "text/html": [
       "<table>\n",
       "<caption>A data.frame: 2 × 57</caption>\n",
       "<thead>\n",
       "\t<tr><th></th><th scope=col>NoShow</th><th scope=col>sunday</th><th scope=col>monday</th><th scope=col>saturday</th><th scope=col>time_booked</th><th scope=col>service_CAL</th><th scope=col>service_CALC</th><th scope=col>service_CAS</th><th scope=col>service_CBAL</th><th scope=col>service_CCAMO</th><th scope=col>...</th><th scope=col>total_cancel12</th><th scope=col>hclust3_1</th><th scope=col>hclust4_4</th><th scope=col>Mclust3_1</th><th scope=col>Mclust3_2</th><th scope=col>Mclust3_3</th><th scope=col>Mclust4_1</th><th scope=col>Mclust4_2</th><th scope=col>Mclust4_3</th><th scope=col>Mclust4_4</th></tr>\n",
       "\t<tr><th></th><th scope=col>&lt;int&gt;</th><th scope=col>&lt;int&gt;</th><th scope=col>&lt;int&gt;</th><th scope=col>&lt;int&gt;</th><th scope=col>&lt;int&gt;</th><th scope=col>&lt;int&gt;</th><th scope=col>&lt;int&gt;</th><th scope=col>&lt;int&gt;</th><th scope=col>&lt;int&gt;</th><th scope=col>&lt;int&gt;</th><th scope=col>...</th><th scope=col>&lt;int&gt;</th><th scope=col>&lt;int&gt;</th><th scope=col>&lt;int&gt;</th><th scope=col>&lt;int&gt;</th><th scope=col>&lt;int&gt;</th><th scope=col>&lt;int&gt;</th><th scope=col>&lt;int&gt;</th><th scope=col>&lt;int&gt;</th><th scope=col>&lt;int&gt;</th><th scope=col>&lt;int&gt;</th></tr>\n",
       "</thead>\n",
       "<tbody>\n",
       "\t<tr><th scope=row>1</th><td>1</td><td>0</td><td>0</td><td>0</td><td> 510</td><td>0</td><td>0</td><td>0</td><td>0</td><td>0</td><td>...</td><td>0</td><td>1</td><td>0</td><td>0</td><td>1</td><td>0</td><td>0</td><td>0</td><td>1</td><td>0</td></tr>\n",
       "\t<tr><th scope=row>2</th><td>0</td><td>0</td><td>0</td><td>0</td><td>1080</td><td>0</td><td>0</td><td>0</td><td>0</td><td>0</td><td>...</td><td>0</td><td>0</td><td>0</td><td>0</td><td>1</td><td>0</td><td>0</td><td>0</td><td>1</td><td>0</td></tr>\n",
       "</tbody>\n",
       "</table>\n"
      ],
      "text/latex": [
       "A data.frame: 2 × 57\n",
       "\\begin{tabular}{r|lllllllllllllllllllll}\n",
       "  & NoShow & sunday & monday & saturday & time\\_booked & service\\_CAL & service\\_CALC & service\\_CAS & service\\_CBAL & service\\_CCAMO & ... & total\\_cancel12 & hclust3\\_1 & hclust4\\_4 & Mclust3\\_1 & Mclust3\\_2 & Mclust3\\_3 & Mclust4\\_1 & Mclust4\\_2 & Mclust4\\_3 & Mclust4\\_4\\\\\n",
       "  & <int> & <int> & <int> & <int> & <int> & <int> & <int> & <int> & <int> & <int> & ... & <int> & <int> & <int> & <int> & <int> & <int> & <int> & <int> & <int> & <int>\\\\\n",
       "\\hline\n",
       "\t1 & 1 & 0 & 0 & 0 &  510 & 0 & 0 & 0 & 0 & 0 & ... & 0 & 1 & 0 & 0 & 1 & 0 & 0 & 0 & 1 & 0\\\\\n",
       "\t2 & 0 & 0 & 0 & 0 & 1080 & 0 & 0 & 0 & 0 & 0 & ... & 0 & 0 & 0 & 0 & 1 & 0 & 0 & 0 & 1 & 0\\\\\n",
       "\\end{tabular}\n"
      ],
      "text/markdown": [
       "\n",
       "A data.frame: 2 × 57\n",
       "\n",
       "| <!--/--> | NoShow &lt;int&gt; | sunday &lt;int&gt; | monday &lt;int&gt; | saturday &lt;int&gt; | time_booked &lt;int&gt; | service_CAL &lt;int&gt; | service_CALC &lt;int&gt; | service_CAS &lt;int&gt; | service_CBAL &lt;int&gt; | service_CCAMO &lt;int&gt; | ... ... | total_cancel12 &lt;int&gt; | hclust3_1 &lt;int&gt; | hclust4_4 &lt;int&gt; | Mclust3_1 &lt;int&gt; | Mclust3_2 &lt;int&gt; | Mclust3_3 &lt;int&gt; | Mclust4_1 &lt;int&gt; | Mclust4_2 &lt;int&gt; | Mclust4_3 &lt;int&gt; | Mclust4_4 &lt;int&gt; |\n",
       "|---|---|---|---|---|---|---|---|---|---|---|---|---|---|---|---|---|---|---|---|---|---|\n",
       "| 1 | 1 | 0 | 0 | 0 |  510 | 0 | 0 | 0 | 0 | 0 | ... | 0 | 1 | 0 | 0 | 1 | 0 | 0 | 0 | 1 | 0 |\n",
       "| 2 | 0 | 0 | 0 | 0 | 1080 | 0 | 0 | 0 | 0 | 0 | ... | 0 | 0 | 0 | 0 | 1 | 0 | 0 | 0 | 1 | 0 |\n",
       "\n"
      ],
      "text/plain": [
       "  NoShow sunday monday saturday time_booked service_CAL service_CALC\n",
       "1 1      0      0      0         510        0           0           \n",
       "2 0      0      0      0        1080        0           0           \n",
       "  service_CAS service_CBAL service_CCAMO ... total_cancel12 hclust3_1 hclust4_4\n",
       "1 0           0            0             ... 0              1         0        \n",
       "2 0           0            0             ... 0              0         0        \n",
       "  Mclust3_1 Mclust3_2 Mclust3_3 Mclust4_1 Mclust4_2 Mclust4_3 Mclust4_4\n",
       "1 0         1         0         0         0         1         0        \n",
       "2 0         1         0         0         0         1         0        "
      ]
     },
     "metadata": {},
     "output_type": "display_data"
    }
   ],
   "source": [
    "# droping 'cancel_day_*' before spliting to train and test might solve the multicollinearity problme\n",
    "drops <- c(\"cancel_days_1\",\"cancel_days_2\",\"cancel_days_3\",\"cancel_days_4\",\"cancel_days_5\",\"cancel_days_6\",\"cancel_days_7\")\n",
    "data2 <- data[ , !(names(data) %in% drops)]\n",
    "head(data2,2)"
   ]
  },
  {
   "cell_type": "code",
   "execution_count": 14,
   "metadata": {},
   "outputs": [
    {
     "name": "stderr",
     "output_type": "stream",
     "text": [
      "Warning message in Table1(data = data2, y = \"NoShow\"):\n",
      "\"The following variables have unique values and will not be included in the analysis: \"\n"
     ]
    },
    {
     "name": "stdout",
     "output_type": "stream",
     "text": [
      "  |======================================================================| 100%"
     ]
    },
    {
     "name": "stderr",
     "output_type": "stream",
     "text": [
      "Warning message in `[<-.factor`(`*tmp*`, iseq, value = \"0\"):\n",
      "\"invalid factor level, NA generated\"\n",
      "Warning message:\n",
      "\"Column `Del` joining character vector and factor, coercing into character vector\"\n",
      "Warning message:\n",
      "\"Column `V1` joining character vector and factor, coercing into character vector\"\n",
      "Warning message:\n",
      "\"Column `V2` joining character vector and factor, coercing into character vector\"\n",
      "Warning message:\n",
      "\"Column `n` joining character vector and factor, coercing into character vector\"\n"
     ]
    },
    {
     "name": "stdout",
     "output_type": "stream",
     "text": [
      "  |======================================================================| 100%"
     ]
    },
    {
     "name": "stderr",
     "output_type": "stream",
     "text": [
      "Warning message in `[<-.factor`(`*tmp*`, iseq, value = \"1\"):\n",
      "\"invalid factor level, NA generated\"\n",
      "Warning message:\n",
      "\"Column `Del` joining character vector and factor, coercing into character vector\"\n",
      "Warning message:\n",
      "\"Column `V1` joining character vector and factor, coercing into character vector\"\n",
      "Warning message:\n",
      "\"Column `V2` joining character vector and factor, coercing into character vector\"\n",
      "Warning message:\n",
      "\"Column `n` joining character vector and factor, coercing into character vector\"\n"
     ]
    },
    {
     "name": "stdout",
     "output_type": "stream",
     "text": [
      "  |===================================================================== |  98%"
     ]
    },
    {
     "name": "stderr",
     "output_type": "stream",
     "text": [
      "Warning message:\n",
      "\"Column `V1` joining character vector and factor, coercing into character vector\"\n",
      "Warning message:\n",
      "\"Column `n` joining character vector and factor, coercing into character vector\"\n"
     ]
    },
    {
     "data": {
      "text/html": [
       "<table>\n",
       "<caption>A tibble: 115 × 6</caption>\n",
       "<thead>\n",
       "\t<tr><th scope=col>V1</th><th scope=col>V2</th><th scope=col>Pop</th><th scope=col>0</th><th scope=col>1</th><th scope=col>pval</th></tr>\n",
       "\t<tr><th scope=col>&lt;chr&gt;</th><th scope=col>&lt;chr&gt;</th><th scope=col>&lt;chr&gt;</th><th scope=col>&lt;fct&gt;</th><th scope=col>&lt;fct&gt;</th><th scope=col>&lt;fct&gt;</th></tr>\n",
       "</thead>\n",
       "<tbody>\n",
       "\t<tr><td>Individuals   </td><td>n           </td><td>2184               </td><td>2013               </td><td>171                </td><td>NA   </td></tr>\n",
       "\t<tr><td>NoShow        </td><td>Mean (SD)   </td><td>0.1 (0.3)          </td><td>NA                 </td><td>NA                 </td><td>NA   </td></tr>\n",
       "\t<tr><td>NoShow        </td><td>Median (IQR)</td><td>0.0 (0.0-0.0)      </td><td>NA                 </td><td>NA                 </td><td>0    </td></tr>\n",
       "\t<tr><td>sunday        </td><td>Mean (SD)   </td><td>0.0 (0.2)          </td><td>0.0 (0.2)          </td><td>0.1 (0.3)          </td><td>NA   </td></tr>\n",
       "\t<tr><td>sunday        </td><td>Median (IQR)</td><td>0.0 (0.0-0.0)      </td><td>0.0 (0.0-0.0)      </td><td>0.0 (0.0-0.0)      </td><td>0.028</td></tr>\n",
       "\t<tr><td>monday        </td><td>Mean (SD)   </td><td>0.0 (0.0)          </td><td>0.0 (0.0)          </td><td>0.0 (0.0)          </td><td>NA   </td></tr>\n",
       "\t<tr><td>monday        </td><td>Median (IQR)</td><td>0.0 (0.0-0.0)      </td><td>0.0 (0.0-0.0)      </td><td>0.0 (0.0-0.0)      </td><td>0.318</td></tr>\n",
       "\t<tr><td>saturday      </td><td>Mean (SD)   </td><td>0.2 (0.4)          </td><td>0.2 (0.4)          </td><td>0.2 (0.4)          </td><td>NA   </td></tr>\n",
       "\t<tr><td>saturday      </td><td>Median (IQR)</td><td>0.0 (0.0-0.0)      </td><td>0.0 (0.0-0.0)      </td><td>0.0 (0.0-0.0)      </td><td>0.182</td></tr>\n",
       "\t<tr><td>time_booked   </td><td>Mean (SD)   </td><td>804.7 (175.8)      </td><td>804.2 (175.4)      </td><td>810.5 (180.8)      </td><td>NA   </td></tr>\n",
       "\t<tr><td>time_booked   </td><td>Median (IQR)</td><td>790.0 (660.0-960.0)</td><td>790.0 (660.0-950.0)</td><td>810.0 (650.0-970.0)</td><td>0.653</td></tr>\n",
       "\t<tr><td>service_CAL   </td><td>Mean (SD)   </td><td>0.0 (0.1)          </td><td>0.0 (0.1)          </td><td>0.0 (0.0)          </td><td>NA   </td></tr>\n",
       "\t<tr><td>service_CAL   </td><td>Median (IQR)</td><td>0.0 (0.0-0.0)      </td><td>0.0 (0.0-0.0)      </td><td>0.0 (0.0-0.0)      </td><td>0.014</td></tr>\n",
       "\t<tr><td>service_CALC  </td><td>Mean (SD)   </td><td>0.0 (0.1)          </td><td>0.0 (0.1)          </td><td>0.0 (0.1)          </td><td>NA   </td></tr>\n",
       "\t<tr><td>service_CALC  </td><td>Median (IQR)</td><td>0.0 (0.0-0.0)      </td><td>0.0 (0.0-0.0)      </td><td>0.0 (0.0-0.0)      </td><td>0.041</td></tr>\n",
       "\t<tr><td>service_CAS   </td><td>Mean (SD)   </td><td>0.0 (0.0)          </td><td>0.0 (0.0)          </td><td>0.0 (0.0)          </td><td>NA   </td></tr>\n",
       "\t<tr><td>service_CAS   </td><td>Median (IQR)</td><td>0.0 (0.0-0.0)      </td><td>0.0 (0.0-0.0)      </td><td>0.0 (0.0-0.0)      </td><td>0.318</td></tr>\n",
       "\t<tr><td>service_CBAL  </td><td>Mean (SD)   </td><td>0.0 (0.1)          </td><td>0.0 (0.1)          </td><td>0.0 (0.2)          </td><td>NA   </td></tr>\n",
       "\t<tr><td>service_CBAL  </td><td>Median (IQR)</td><td>0.0 (0.0-0.0)      </td><td>0.0 (0.0-0.0)      </td><td>0.0 (0.0-0.0)      </td><td>0.018</td></tr>\n",
       "\t<tr><td>service_CCAMO </td><td>Mean (SD)   </td><td>0.0 (0.1)          </td><td>0.0 (0.1)          </td><td>0.0 (0.1)          </td><td>NA   </td></tr>\n",
       "\t<tr><td>service_CCAMO </td><td>Median (IQR)</td><td>0.0 (0.0-0.0)      </td><td>0.0 (0.0-0.0)      </td><td>0.0 (0.0-0.0)      </td><td>0.351</td></tr>\n",
       "\t<tr><td>service_CCO   </td><td>Mean (SD)   </td><td>0.0 (0.0)          </td><td>0.0 (0.0)          </td><td>0.0 (0.1)          </td><td>NA   </td></tr>\n",
       "\t<tr><td>service_CCO   </td><td>Median (IQR)</td><td>0.0 (0.0-0.0)      </td><td>0.0 (0.0-0.0)      </td><td>0.0 (0.0-0.0)      </td><td>0.363</td></tr>\n",
       "\t<tr><td>service_CDPB  </td><td>Mean (SD)   </td><td>0.0 (0.1)          </td><td>0.0 (0.1)          </td><td>0.0 (0.2)          </td><td>NA   </td></tr>\n",
       "\t<tr><td>service_CDPB  </td><td>Median (IQR)</td><td>0.0 (0.0-0.0)      </td><td>0.0 (0.0-0.0)      </td><td>0.0 (0.0-0.0)      </td><td>0.058</td></tr>\n",
       "\t<tr><td>service_CFC   </td><td>Mean (SD)   </td><td>0.0 (0.2)          </td><td>0.0 (0.2)          </td><td>0.0 (0.2)          </td><td>NA   </td></tr>\n",
       "\t<tr><td>service_CFC   </td><td>Median (IQR)</td><td>0.0 (0.0-0.0)      </td><td>0.0 (0.0-0.0)      </td><td>0.0 (0.0-0.0)      </td><td>0.281</td></tr>\n",
       "\t<tr><td>service_CHLFH </td><td>Mean (SD)   </td><td>0.0 (0.1)          </td><td>0.0 (0.1)          </td><td>0.0 (0.1)          </td><td>NA   </td></tr>\n",
       "\t<tr><td>service_CHLFH </td><td>Median (IQR)</td><td>0.0 (0.0-0.0)      </td><td>0.0 (0.0-0.0)      </td><td>0.0 (0.0-0.0)      </td><td>0.497</td></tr>\n",
       "\t<tr><td>service_CHLFHC</td><td>Mean (SD)   </td><td>0.0 (0.0)          </td><td>0.0 (0.0)          </td><td>0.0 (0.0)          </td><td>NA   </td></tr>\n",
       "\t<tr><td>...</td><td>...</td><td>...</td><td>...</td><td>...</td><td>...</td></tr>\n",
       "\t<tr><td>quantity_7    </td><td>Mean (SD)   </td><td>0.2 (0.4)    </td><td>0.2 (0.4)    </td><td>0.8 (0.4)    </td><td>NA   </td></tr>\n",
       "\t<tr><td>quantity_7    </td><td>Median (IQR)</td><td>0.0 (0.0-0.0)</td><td>0.0 (0.0-0.0)</td><td>1.0 (1.0-1.0)</td><td>0    </td></tr>\n",
       "\t<tr><td>amount        </td><td>Mean (SD)   </td><td>4.0 (1.4)    </td><td>4.0 (1.3)    </td><td>3.6 (1.8)    </td><td>NA   </td></tr>\n",
       "\t<tr><td>amount        </td><td>Median (IQR)</td><td>4.3 (3.9-4.7)</td><td>4.3 (3.9-4.7)</td><td>4.0 (3.5-4.8)</td><td>0.003</td></tr>\n",
       "\t<tr><td>avg_receipt_4 </td><td>Mean (SD)   </td><td>0.2 (0.4)    </td><td>0.2 (0.4)    </td><td>0.2 (0.4)    </td><td>NA   </td></tr>\n",
       "\t<tr><td>avg_receipt_4 </td><td>Median (IQR)</td><td>0.0 (0.0-0.0)</td><td>0.0 (0.0-0.0)</td><td>0.0 (0.0-0.0)</td><td>0.943</td></tr>\n",
       "\t<tr><td>avg_receipt_5 </td><td>Mean (SD)   </td><td>0.0 (0.2)    </td><td>0.0 (0.2)    </td><td>0.0 (0.1)    </td><td>NA   </td></tr>\n",
       "\t<tr><td>avg_receipt_5 </td><td>Median (IQR)</td><td>0.0 (0.0-0.0)</td><td>0.0 (0.0-0.0)</td><td>0.0 (0.0-0.0)</td><td>0.065</td></tr>\n",
       "\t<tr><td>avg_quantity_5</td><td>Mean (SD)   </td><td>0.0 (0.1)    </td><td>0.0 (0.1)    </td><td>0.0 (0.0)    </td><td>NA   </td></tr>\n",
       "\t<tr><td>avg_quantity_5</td><td>Median (IQR)</td><td>0.0 (0.0-0.0)</td><td>0.0 (0.0-0.0)</td><td>0.0 (0.0-0.0)</td><td>0.001</td></tr>\n",
       "\t<tr><td>total_cancel12</td><td>Mean (SD)   </td><td>0.5 (0.9)    </td><td>0.5 (0.9)    </td><td>0.7 (0.8)    </td><td>NA   </td></tr>\n",
       "\t<tr><td>total_cancel12</td><td>Median (IQR)</td><td>0.0 (0.0-1.0)</td><td>0.0 (0.0-1.0)</td><td>1.0 (0.0-1.0)</td><td>0.005</td></tr>\n",
       "\t<tr><td>hclust3_1     </td><td>Mean (SD)   </td><td>0.4 (0.5)    </td><td>0.4 (0.5)    </td><td>0.4 (0.5)    </td><td>NA   </td></tr>\n",
       "\t<tr><td>hclust3_1     </td><td>Median (IQR)</td><td>0.0 (0.0-1.0)</td><td>0.0 (0.0-1.0)</td><td>0.0 (0.0-1.0)</td><td>0.997</td></tr>\n",
       "\t<tr><td>hclust4_4     </td><td>Mean (SD)   </td><td>0.2 (0.4)    </td><td>0.2 (0.4)    </td><td>0.2 (0.4)    </td><td>NA   </td></tr>\n",
       "\t<tr><td>hclust4_4     </td><td>Median (IQR)</td><td>0.0 (0.0-0.0)</td><td>0.0 (0.0-0.0)</td><td>0.0 (0.0-0.0)</td><td>0.727</td></tr>\n",
       "\t<tr><td>Mclust3_1     </td><td>Mean (SD)   </td><td>0.2 (0.4)    </td><td>0.2 (0.4)    </td><td>0.4 (0.5)    </td><td>NA   </td></tr>\n",
       "\t<tr><td>Mclust3_1     </td><td>Median (IQR)</td><td>0.0 (0.0-0.0)</td><td>0.0 (0.0-0.0)</td><td>0.0 (0.0-1.0)</td><td>0    </td></tr>\n",
       "\t<tr><td>Mclust3_2     </td><td>Mean (SD)   </td><td>0.7 (0.5)    </td><td>0.7 (0.5)    </td><td>0.2 (0.4)    </td><td>NA   </td></tr>\n",
       "\t<tr><td>Mclust3_2     </td><td>Median (IQR)</td><td>1.0 (0.0-1.0)</td><td>1.0 (0.0-1.0)</td><td>0.0 (0.0-0.0)</td><td>0    </td></tr>\n",
       "\t<tr><td>Mclust3_3     </td><td>Mean (SD)   </td><td>0.1 (0.3)    </td><td>0.1 (0.3)    </td><td>0.4 (0.5)    </td><td>NA   </td></tr>\n",
       "\t<tr><td>Mclust3_3     </td><td>Median (IQR)</td><td>0.0 (0.0-0.0)</td><td>0.0 (0.0-0.0)</td><td>0.0 (0.0-1.0)</td><td>0    </td></tr>\n",
       "\t<tr><td>Mclust4_1     </td><td>Mean (SD)   </td><td>0.2 (0.4)    </td><td>0.2 (0.4)    </td><td>0.4 (0.5)    </td><td>NA   </td></tr>\n",
       "\t<tr><td>Mclust4_1     </td><td>Median (IQR)</td><td>0.0 (0.0-0.0)</td><td>0.0 (0.0-0.0)</td><td>0.0 (0.0-1.0)</td><td>0    </td></tr>\n",
       "\t<tr><td>Mclust4_2     </td><td>Mean (SD)   </td><td>0.4 (0.5)    </td><td>0.4 (0.5)    </td><td>0.1 (0.3)    </td><td>NA   </td></tr>\n",
       "\t<tr><td>Mclust4_2     </td><td>Median (IQR)</td><td>0.0 (0.0-1.0)</td><td>0.0 (0.0-1.0)</td><td>0.0 (0.0-0.0)</td><td>0    </td></tr>\n",
       "\t<tr><td>Mclust4_3     </td><td>Mean (SD)   </td><td>0.3 (0.5)    </td><td>0.3 (0.5)    </td><td>0.1 (0.2)    </td><td>NA   </td></tr>\n",
       "\t<tr><td>Mclust4_3     </td><td>Median (IQR)</td><td>0.0 (0.0-1.0)</td><td>0.0 (0.0-1.0)</td><td>0.0 (0.0-0.0)</td><td>0    </td></tr>\n",
       "\t<tr><td>Mclust4_4     </td><td>Mean (SD)   </td><td>0.1 (0.3)    </td><td>0.1 (0.3)    </td><td>0.4 (0.5)    </td><td>NA   </td></tr>\n",
       "\t<tr><td>Mclust4_4     </td><td>Median (IQR)</td><td>0.0 (0.0-0.0)</td><td>0.0 (0.0-0.0)</td><td>0.0 (0.0-1.0)</td><td>0    </td></tr>\n",
       "</tbody>\n",
       "</table>\n"
      ],
      "text/latex": [
       "A tibble: 115 × 6\n",
       "\\begin{tabular}{llllll}\n",
       " V1 & V2 & Pop & 0 & 1 & pval\\\\\n",
       " <chr> & <chr> & <chr> & <fct> & <fct> & <fct>\\\\\n",
       "\\hline\n",
       "\t Individuals    & n            & 2184                & 2013                & 171                 & NA   \\\\\n",
       "\t NoShow         & Mean (SD)    & 0.1 (0.3)           & NA                  & NA                  & NA   \\\\\n",
       "\t NoShow         & Median (IQR) & 0.0 (0.0-0.0)       & NA                  & NA                  & 0    \\\\\n",
       "\t sunday         & Mean (SD)    & 0.0 (0.2)           & 0.0 (0.2)           & 0.1 (0.3)           & NA   \\\\\n",
       "\t sunday         & Median (IQR) & 0.0 (0.0-0.0)       & 0.0 (0.0-0.0)       & 0.0 (0.0-0.0)       & 0.028\\\\\n",
       "\t monday         & Mean (SD)    & 0.0 (0.0)           & 0.0 (0.0)           & 0.0 (0.0)           & NA   \\\\\n",
       "\t monday         & Median (IQR) & 0.0 (0.0-0.0)       & 0.0 (0.0-0.0)       & 0.0 (0.0-0.0)       & 0.318\\\\\n",
       "\t saturday       & Mean (SD)    & 0.2 (0.4)           & 0.2 (0.4)           & 0.2 (0.4)           & NA   \\\\\n",
       "\t saturday       & Median (IQR) & 0.0 (0.0-0.0)       & 0.0 (0.0-0.0)       & 0.0 (0.0-0.0)       & 0.182\\\\\n",
       "\t time\\_booked    & Mean (SD)    & 804.7 (175.8)       & 804.2 (175.4)       & 810.5 (180.8)       & NA   \\\\\n",
       "\t time\\_booked    & Median (IQR) & 790.0 (660.0-960.0) & 790.0 (660.0-950.0) & 810.0 (650.0-970.0) & 0.653\\\\\n",
       "\t service\\_CAL    & Mean (SD)    & 0.0 (0.1)           & 0.0 (0.1)           & 0.0 (0.0)           & NA   \\\\\n",
       "\t service\\_CAL    & Median (IQR) & 0.0 (0.0-0.0)       & 0.0 (0.0-0.0)       & 0.0 (0.0-0.0)       & 0.014\\\\\n",
       "\t service\\_CALC   & Mean (SD)    & 0.0 (0.1)           & 0.0 (0.1)           & 0.0 (0.1)           & NA   \\\\\n",
       "\t service\\_CALC   & Median (IQR) & 0.0 (0.0-0.0)       & 0.0 (0.0-0.0)       & 0.0 (0.0-0.0)       & 0.041\\\\\n",
       "\t service\\_CAS    & Mean (SD)    & 0.0 (0.0)           & 0.0 (0.0)           & 0.0 (0.0)           & NA   \\\\\n",
       "\t service\\_CAS    & Median (IQR) & 0.0 (0.0-0.0)       & 0.0 (0.0-0.0)       & 0.0 (0.0-0.0)       & 0.318\\\\\n",
       "\t service\\_CBAL   & Mean (SD)    & 0.0 (0.1)           & 0.0 (0.1)           & 0.0 (0.2)           & NA   \\\\\n",
       "\t service\\_CBAL   & Median (IQR) & 0.0 (0.0-0.0)       & 0.0 (0.0-0.0)       & 0.0 (0.0-0.0)       & 0.018\\\\\n",
       "\t service\\_CCAMO  & Mean (SD)    & 0.0 (0.1)           & 0.0 (0.1)           & 0.0 (0.1)           & NA   \\\\\n",
       "\t service\\_CCAMO  & Median (IQR) & 0.0 (0.0-0.0)       & 0.0 (0.0-0.0)       & 0.0 (0.0-0.0)       & 0.351\\\\\n",
       "\t service\\_CCO    & Mean (SD)    & 0.0 (0.0)           & 0.0 (0.0)           & 0.0 (0.1)           & NA   \\\\\n",
       "\t service\\_CCO    & Median (IQR) & 0.0 (0.0-0.0)       & 0.0 (0.0-0.0)       & 0.0 (0.0-0.0)       & 0.363\\\\\n",
       "\t service\\_CDPB   & Mean (SD)    & 0.0 (0.1)           & 0.0 (0.1)           & 0.0 (0.2)           & NA   \\\\\n",
       "\t service\\_CDPB   & Median (IQR) & 0.0 (0.0-0.0)       & 0.0 (0.0-0.0)       & 0.0 (0.0-0.0)       & 0.058\\\\\n",
       "\t service\\_CFC    & Mean (SD)    & 0.0 (0.2)           & 0.0 (0.2)           & 0.0 (0.2)           & NA   \\\\\n",
       "\t service\\_CFC    & Median (IQR) & 0.0 (0.0-0.0)       & 0.0 (0.0-0.0)       & 0.0 (0.0-0.0)       & 0.281\\\\\n",
       "\t service\\_CHLFH  & Mean (SD)    & 0.0 (0.1)           & 0.0 (0.1)           & 0.0 (0.1)           & NA   \\\\\n",
       "\t service\\_CHLFH  & Median (IQR) & 0.0 (0.0-0.0)       & 0.0 (0.0-0.0)       & 0.0 (0.0-0.0)       & 0.497\\\\\n",
       "\t service\\_CHLFHC & Mean (SD)    & 0.0 (0.0)           & 0.0 (0.0)           & 0.0 (0.0)           & NA   \\\\\n",
       "\t ... & ... & ... & ... & ... & ...\\\\\n",
       "\t quantity\\_7     & Mean (SD)    & 0.2 (0.4)     & 0.2 (0.4)     & 0.8 (0.4)     & NA   \\\\\n",
       "\t quantity\\_7     & Median (IQR) & 0.0 (0.0-0.0) & 0.0 (0.0-0.0) & 1.0 (1.0-1.0) & 0    \\\\\n",
       "\t amount         & Mean (SD)    & 4.0 (1.4)     & 4.0 (1.3)     & 3.6 (1.8)     & NA   \\\\\n",
       "\t amount         & Median (IQR) & 4.3 (3.9-4.7) & 4.3 (3.9-4.7) & 4.0 (3.5-4.8) & 0.003\\\\\n",
       "\t avg\\_receipt\\_4  & Mean (SD)    & 0.2 (0.4)     & 0.2 (0.4)     & 0.2 (0.4)     & NA   \\\\\n",
       "\t avg\\_receipt\\_4  & Median (IQR) & 0.0 (0.0-0.0) & 0.0 (0.0-0.0) & 0.0 (0.0-0.0) & 0.943\\\\\n",
       "\t avg\\_receipt\\_5  & Mean (SD)    & 0.0 (0.2)     & 0.0 (0.2)     & 0.0 (0.1)     & NA   \\\\\n",
       "\t avg\\_receipt\\_5  & Median (IQR) & 0.0 (0.0-0.0) & 0.0 (0.0-0.0) & 0.0 (0.0-0.0) & 0.065\\\\\n",
       "\t avg\\_quantity\\_5 & Mean (SD)    & 0.0 (0.1)     & 0.0 (0.1)     & 0.0 (0.0)     & NA   \\\\\n",
       "\t avg\\_quantity\\_5 & Median (IQR) & 0.0 (0.0-0.0) & 0.0 (0.0-0.0) & 0.0 (0.0-0.0) & 0.001\\\\\n",
       "\t total\\_cancel12 & Mean (SD)    & 0.5 (0.9)     & 0.5 (0.9)     & 0.7 (0.8)     & NA   \\\\\n",
       "\t total\\_cancel12 & Median (IQR) & 0.0 (0.0-1.0) & 0.0 (0.0-1.0) & 1.0 (0.0-1.0) & 0.005\\\\\n",
       "\t hclust3\\_1      & Mean (SD)    & 0.4 (0.5)     & 0.4 (0.5)     & 0.4 (0.5)     & NA   \\\\\n",
       "\t hclust3\\_1      & Median (IQR) & 0.0 (0.0-1.0) & 0.0 (0.0-1.0) & 0.0 (0.0-1.0) & 0.997\\\\\n",
       "\t hclust4\\_4      & Mean (SD)    & 0.2 (0.4)     & 0.2 (0.4)     & 0.2 (0.4)     & NA   \\\\\n",
       "\t hclust4\\_4      & Median (IQR) & 0.0 (0.0-0.0) & 0.0 (0.0-0.0) & 0.0 (0.0-0.0) & 0.727\\\\\n",
       "\t Mclust3\\_1      & Mean (SD)    & 0.2 (0.4)     & 0.2 (0.4)     & 0.4 (0.5)     & NA   \\\\\n",
       "\t Mclust3\\_1      & Median (IQR) & 0.0 (0.0-0.0) & 0.0 (0.0-0.0) & 0.0 (0.0-1.0) & 0    \\\\\n",
       "\t Mclust3\\_2      & Mean (SD)    & 0.7 (0.5)     & 0.7 (0.5)     & 0.2 (0.4)     & NA   \\\\\n",
       "\t Mclust3\\_2      & Median (IQR) & 1.0 (0.0-1.0) & 1.0 (0.0-1.0) & 0.0 (0.0-0.0) & 0    \\\\\n",
       "\t Mclust3\\_3      & Mean (SD)    & 0.1 (0.3)     & 0.1 (0.3)     & 0.4 (0.5)     & NA   \\\\\n",
       "\t Mclust3\\_3      & Median (IQR) & 0.0 (0.0-0.0) & 0.0 (0.0-0.0) & 0.0 (0.0-1.0) & 0    \\\\\n",
       "\t Mclust4\\_1      & Mean (SD)    & 0.2 (0.4)     & 0.2 (0.4)     & 0.4 (0.5)     & NA   \\\\\n",
       "\t Mclust4\\_1      & Median (IQR) & 0.0 (0.0-0.0) & 0.0 (0.0-0.0) & 0.0 (0.0-1.0) & 0    \\\\\n",
       "\t Mclust4\\_2      & Mean (SD)    & 0.4 (0.5)     & 0.4 (0.5)     & 0.1 (0.3)     & NA   \\\\\n",
       "\t Mclust4\\_2      & Median (IQR) & 0.0 (0.0-1.0) & 0.0 (0.0-1.0) & 0.0 (0.0-0.0) & 0    \\\\\n",
       "\t Mclust4\\_3      & Mean (SD)    & 0.3 (0.5)     & 0.3 (0.5)     & 0.1 (0.2)     & NA   \\\\\n",
       "\t Mclust4\\_3      & Median (IQR) & 0.0 (0.0-1.0) & 0.0 (0.0-1.0) & 0.0 (0.0-0.0) & 0    \\\\\n",
       "\t Mclust4\\_4      & Mean (SD)    & 0.1 (0.3)     & 0.1 (0.3)     & 0.4 (0.5)     & NA   \\\\\n",
       "\t Mclust4\\_4      & Median (IQR) & 0.0 (0.0-0.0) & 0.0 (0.0-0.0) & 0.0 (0.0-1.0) & 0    \\\\\n",
       "\\end{tabular}\n"
      ],
      "text/markdown": [
       "\n",
       "A tibble: 115 × 6\n",
       "\n",
       "| V1 &lt;chr&gt; | V2 &lt;chr&gt; | Pop &lt;chr&gt; | 0 &lt;fct&gt; | 1 &lt;fct&gt; | pval &lt;fct&gt; |\n",
       "|---|---|---|---|---|---|\n",
       "| Individuals    | n            | 2184                | 2013                | 171                 | NA    |\n",
       "| NoShow         | Mean (SD)    | 0.1 (0.3)           | NA                  | NA                  | NA    |\n",
       "| NoShow         | Median (IQR) | 0.0 (0.0-0.0)       | NA                  | NA                  | 0     |\n",
       "| sunday         | Mean (SD)    | 0.0 (0.2)           | 0.0 (0.2)           | 0.1 (0.3)           | NA    |\n",
       "| sunday         | Median (IQR) | 0.0 (0.0-0.0)       | 0.0 (0.0-0.0)       | 0.0 (0.0-0.0)       | 0.028 |\n",
       "| monday         | Mean (SD)    | 0.0 (0.0)           | 0.0 (0.0)           | 0.0 (0.0)           | NA    |\n",
       "| monday         | Median (IQR) | 0.0 (0.0-0.0)       | 0.0 (0.0-0.0)       | 0.0 (0.0-0.0)       | 0.318 |\n",
       "| saturday       | Mean (SD)    | 0.2 (0.4)           | 0.2 (0.4)           | 0.2 (0.4)           | NA    |\n",
       "| saturday       | Median (IQR) | 0.0 (0.0-0.0)       | 0.0 (0.0-0.0)       | 0.0 (0.0-0.0)       | 0.182 |\n",
       "| time_booked    | Mean (SD)    | 804.7 (175.8)       | 804.2 (175.4)       | 810.5 (180.8)       | NA    |\n",
       "| time_booked    | Median (IQR) | 790.0 (660.0-960.0) | 790.0 (660.0-950.0) | 810.0 (650.0-970.0) | 0.653 |\n",
       "| service_CAL    | Mean (SD)    | 0.0 (0.1)           | 0.0 (0.1)           | 0.0 (0.0)           | NA    |\n",
       "| service_CAL    | Median (IQR) | 0.0 (0.0-0.0)       | 0.0 (0.0-0.0)       | 0.0 (0.0-0.0)       | 0.014 |\n",
       "| service_CALC   | Mean (SD)    | 0.0 (0.1)           | 0.0 (0.1)           | 0.0 (0.1)           | NA    |\n",
       "| service_CALC   | Median (IQR) | 0.0 (0.0-0.0)       | 0.0 (0.0-0.0)       | 0.0 (0.0-0.0)       | 0.041 |\n",
       "| service_CAS    | Mean (SD)    | 0.0 (0.0)           | 0.0 (0.0)           | 0.0 (0.0)           | NA    |\n",
       "| service_CAS    | Median (IQR) | 0.0 (0.0-0.0)       | 0.0 (0.0-0.0)       | 0.0 (0.0-0.0)       | 0.318 |\n",
       "| service_CBAL   | Mean (SD)    | 0.0 (0.1)           | 0.0 (0.1)           | 0.0 (0.2)           | NA    |\n",
       "| service_CBAL   | Median (IQR) | 0.0 (0.0-0.0)       | 0.0 (0.0-0.0)       | 0.0 (0.0-0.0)       | 0.018 |\n",
       "| service_CCAMO  | Mean (SD)    | 0.0 (0.1)           | 0.0 (0.1)           | 0.0 (0.1)           | NA    |\n",
       "| service_CCAMO  | Median (IQR) | 0.0 (0.0-0.0)       | 0.0 (0.0-0.0)       | 0.0 (0.0-0.0)       | 0.351 |\n",
       "| service_CCO    | Mean (SD)    | 0.0 (0.0)           | 0.0 (0.0)           | 0.0 (0.1)           | NA    |\n",
       "| service_CCO    | Median (IQR) | 0.0 (0.0-0.0)       | 0.0 (0.0-0.0)       | 0.0 (0.0-0.0)       | 0.363 |\n",
       "| service_CDPB   | Mean (SD)    | 0.0 (0.1)           | 0.0 (0.1)           | 0.0 (0.2)           | NA    |\n",
       "| service_CDPB   | Median (IQR) | 0.0 (0.0-0.0)       | 0.0 (0.0-0.0)       | 0.0 (0.0-0.0)       | 0.058 |\n",
       "| service_CFC    | Mean (SD)    | 0.0 (0.2)           | 0.0 (0.2)           | 0.0 (0.2)           | NA    |\n",
       "| service_CFC    | Median (IQR) | 0.0 (0.0-0.0)       | 0.0 (0.0-0.0)       | 0.0 (0.0-0.0)       | 0.281 |\n",
       "| service_CHLFH  | Mean (SD)    | 0.0 (0.1)           | 0.0 (0.1)           | 0.0 (0.1)           | NA    |\n",
       "| service_CHLFH  | Median (IQR) | 0.0 (0.0-0.0)       | 0.0 (0.0-0.0)       | 0.0 (0.0-0.0)       | 0.497 |\n",
       "| service_CHLFHC | Mean (SD)    | 0.0 (0.0)           | 0.0 (0.0)           | 0.0 (0.0)           | NA    |\n",
       "| ... | ... | ... | ... | ... | ... |\n",
       "| quantity_7     | Mean (SD)    | 0.2 (0.4)     | 0.2 (0.4)     | 0.8 (0.4)     | NA    |\n",
       "| quantity_7     | Median (IQR) | 0.0 (0.0-0.0) | 0.0 (0.0-0.0) | 1.0 (1.0-1.0) | 0     |\n",
       "| amount         | Mean (SD)    | 4.0 (1.4)     | 4.0 (1.3)     | 3.6 (1.8)     | NA    |\n",
       "| amount         | Median (IQR) | 4.3 (3.9-4.7) | 4.3 (3.9-4.7) | 4.0 (3.5-4.8) | 0.003 |\n",
       "| avg_receipt_4  | Mean (SD)    | 0.2 (0.4)     | 0.2 (0.4)     | 0.2 (0.4)     | NA    |\n",
       "| avg_receipt_4  | Median (IQR) | 0.0 (0.0-0.0) | 0.0 (0.0-0.0) | 0.0 (0.0-0.0) | 0.943 |\n",
       "| avg_receipt_5  | Mean (SD)    | 0.0 (0.2)     | 0.0 (0.2)     | 0.0 (0.1)     | NA    |\n",
       "| avg_receipt_5  | Median (IQR) | 0.0 (0.0-0.0) | 0.0 (0.0-0.0) | 0.0 (0.0-0.0) | 0.065 |\n",
       "| avg_quantity_5 | Mean (SD)    | 0.0 (0.1)     | 0.0 (0.1)     | 0.0 (0.0)     | NA    |\n",
       "| avg_quantity_5 | Median (IQR) | 0.0 (0.0-0.0) | 0.0 (0.0-0.0) | 0.0 (0.0-0.0) | 0.001 |\n",
       "| total_cancel12 | Mean (SD)    | 0.5 (0.9)     | 0.5 (0.9)     | 0.7 (0.8)     | NA    |\n",
       "| total_cancel12 | Median (IQR) | 0.0 (0.0-1.0) | 0.0 (0.0-1.0) | 1.0 (0.0-1.0) | 0.005 |\n",
       "| hclust3_1      | Mean (SD)    | 0.4 (0.5)     | 0.4 (0.5)     | 0.4 (0.5)     | NA    |\n",
       "| hclust3_1      | Median (IQR) | 0.0 (0.0-1.0) | 0.0 (0.0-1.0) | 0.0 (0.0-1.0) | 0.997 |\n",
       "| hclust4_4      | Mean (SD)    | 0.2 (0.4)     | 0.2 (0.4)     | 0.2 (0.4)     | NA    |\n",
       "| hclust4_4      | Median (IQR) | 0.0 (0.0-0.0) | 0.0 (0.0-0.0) | 0.0 (0.0-0.0) | 0.727 |\n",
       "| Mclust3_1      | Mean (SD)    | 0.2 (0.4)     | 0.2 (0.4)     | 0.4 (0.5)     | NA    |\n",
       "| Mclust3_1      | Median (IQR) | 0.0 (0.0-0.0) | 0.0 (0.0-0.0) | 0.0 (0.0-1.0) | 0     |\n",
       "| Mclust3_2      | Mean (SD)    | 0.7 (0.5)     | 0.7 (0.5)     | 0.2 (0.4)     | NA    |\n",
       "| Mclust3_2      | Median (IQR) | 1.0 (0.0-1.0) | 1.0 (0.0-1.0) | 0.0 (0.0-0.0) | 0     |\n",
       "| Mclust3_3      | Mean (SD)    | 0.1 (0.3)     | 0.1 (0.3)     | 0.4 (0.5)     | NA    |\n",
       "| Mclust3_3      | Median (IQR) | 0.0 (0.0-0.0) | 0.0 (0.0-0.0) | 0.0 (0.0-1.0) | 0     |\n",
       "| Mclust4_1      | Mean (SD)    | 0.2 (0.4)     | 0.2 (0.4)     | 0.4 (0.5)     | NA    |\n",
       "| Mclust4_1      | Median (IQR) | 0.0 (0.0-0.0) | 0.0 (0.0-0.0) | 0.0 (0.0-1.0) | 0     |\n",
       "| Mclust4_2      | Mean (SD)    | 0.4 (0.5)     | 0.4 (0.5)     | 0.1 (0.3)     | NA    |\n",
       "| Mclust4_2      | Median (IQR) | 0.0 (0.0-1.0) | 0.0 (0.0-1.0) | 0.0 (0.0-0.0) | 0     |\n",
       "| Mclust4_3      | Mean (SD)    | 0.3 (0.5)     | 0.3 (0.5)     | 0.1 (0.2)     | NA    |\n",
       "| Mclust4_3      | Median (IQR) | 0.0 (0.0-1.0) | 0.0 (0.0-1.0) | 0.0 (0.0-0.0) | 0     |\n",
       "| Mclust4_4      | Mean (SD)    | 0.1 (0.3)     | 0.1 (0.3)     | 0.4 (0.5)     | NA    |\n",
       "| Mclust4_4      | Median (IQR) | 0.0 (0.0-0.0) | 0.0 (0.0-0.0) | 0.0 (0.0-1.0) | 0     |\n",
       "\n"
      ],
      "text/plain": [
       "    V1             V2           Pop                 0                  \n",
       "1   Individuals    n            2184                2013               \n",
       "2   NoShow         Mean (SD)    0.1 (0.3)           NA                 \n",
       "3   NoShow         Median (IQR) 0.0 (0.0-0.0)       NA                 \n",
       "4   sunday         Mean (SD)    0.0 (0.2)           0.0 (0.2)          \n",
       "5   sunday         Median (IQR) 0.0 (0.0-0.0)       0.0 (0.0-0.0)      \n",
       "6   monday         Mean (SD)    0.0 (0.0)           0.0 (0.0)          \n",
       "7   monday         Median (IQR) 0.0 (0.0-0.0)       0.0 (0.0-0.0)      \n",
       "8   saturday       Mean (SD)    0.2 (0.4)           0.2 (0.4)          \n",
       "9   saturday       Median (IQR) 0.0 (0.0-0.0)       0.0 (0.0-0.0)      \n",
       "10  time_booked    Mean (SD)    804.7 (175.8)       804.2 (175.4)      \n",
       "11  time_booked    Median (IQR) 790.0 (660.0-960.0) 790.0 (660.0-950.0)\n",
       "12  service_CAL    Mean (SD)    0.0 (0.1)           0.0 (0.1)          \n",
       "13  service_CAL    Median (IQR) 0.0 (0.0-0.0)       0.0 (0.0-0.0)      \n",
       "14  service_CALC   Mean (SD)    0.0 (0.1)           0.0 (0.1)          \n",
       "15  service_CALC   Median (IQR) 0.0 (0.0-0.0)       0.0 (0.0-0.0)      \n",
       "16  service_CAS    Mean (SD)    0.0 (0.0)           0.0 (0.0)          \n",
       "17  service_CAS    Median (IQR) 0.0 (0.0-0.0)       0.0 (0.0-0.0)      \n",
       "18  service_CBAL   Mean (SD)    0.0 (0.1)           0.0 (0.1)          \n",
       "19  service_CBAL   Median (IQR) 0.0 (0.0-0.0)       0.0 (0.0-0.0)      \n",
       "20  service_CCAMO  Mean (SD)    0.0 (0.1)           0.0 (0.1)          \n",
       "21  service_CCAMO  Median (IQR) 0.0 (0.0-0.0)       0.0 (0.0-0.0)      \n",
       "22  service_CCO    Mean (SD)    0.0 (0.0)           0.0 (0.0)          \n",
       "23  service_CCO    Median (IQR) 0.0 (0.0-0.0)       0.0 (0.0-0.0)      \n",
       "24  service_CDPB   Mean (SD)    0.0 (0.1)           0.0 (0.1)          \n",
       "25  service_CDPB   Median (IQR) 0.0 (0.0-0.0)       0.0 (0.0-0.0)      \n",
       "26  service_CFC    Mean (SD)    0.0 (0.2)           0.0 (0.2)          \n",
       "27  service_CFC    Median (IQR) 0.0 (0.0-0.0)       0.0 (0.0-0.0)      \n",
       "28  service_CHLFH  Mean (SD)    0.0 (0.1)           0.0 (0.1)          \n",
       "29  service_CHLFH  Median (IQR) 0.0 (0.0-0.0)       0.0 (0.0-0.0)      \n",
       "30  service_CHLFHC Mean (SD)    0.0 (0.0)           0.0 (0.0)          \n",
       "... ...            ...          ...                 ...                \n",
       "86  quantity_7     Mean (SD)    0.2 (0.4)           0.2 (0.4)          \n",
       "87  quantity_7     Median (IQR) 0.0 (0.0-0.0)       0.0 (0.0-0.0)      \n",
       "88  amount         Mean (SD)    4.0 (1.4)           4.0 (1.3)          \n",
       "89  amount         Median (IQR) 4.3 (3.9-4.7)       4.3 (3.9-4.7)      \n",
       "90  avg_receipt_4  Mean (SD)    0.2 (0.4)           0.2 (0.4)          \n",
       "91  avg_receipt_4  Median (IQR) 0.0 (0.0-0.0)       0.0 (0.0-0.0)      \n",
       "92  avg_receipt_5  Mean (SD)    0.0 (0.2)           0.0 (0.2)          \n",
       "93  avg_receipt_5  Median (IQR) 0.0 (0.0-0.0)       0.0 (0.0-0.0)      \n",
       "94  avg_quantity_5 Mean (SD)    0.0 (0.1)           0.0 (0.1)          \n",
       "95  avg_quantity_5 Median (IQR) 0.0 (0.0-0.0)       0.0 (0.0-0.0)      \n",
       "96  total_cancel12 Mean (SD)    0.5 (0.9)           0.5 (0.9)          \n",
       "97  total_cancel12 Median (IQR) 0.0 (0.0-1.0)       0.0 (0.0-1.0)      \n",
       "98  hclust3_1      Mean (SD)    0.4 (0.5)           0.4 (0.5)          \n",
       "99  hclust3_1      Median (IQR) 0.0 (0.0-1.0)       0.0 (0.0-1.0)      \n",
       "100 hclust4_4      Mean (SD)    0.2 (0.4)           0.2 (0.4)          \n",
       "101 hclust4_4      Median (IQR) 0.0 (0.0-0.0)       0.0 (0.0-0.0)      \n",
       "102 Mclust3_1      Mean (SD)    0.2 (0.4)           0.2 (0.4)          \n",
       "103 Mclust3_1      Median (IQR) 0.0 (0.0-0.0)       0.0 (0.0-0.0)      \n",
       "104 Mclust3_2      Mean (SD)    0.7 (0.5)           0.7 (0.5)          \n",
       "105 Mclust3_2      Median (IQR) 1.0 (0.0-1.0)       1.0 (0.0-1.0)      \n",
       "106 Mclust3_3      Mean (SD)    0.1 (0.3)           0.1 (0.3)          \n",
       "107 Mclust3_3      Median (IQR) 0.0 (0.0-0.0)       0.0 (0.0-0.0)      \n",
       "108 Mclust4_1      Mean (SD)    0.2 (0.4)           0.2 (0.4)          \n",
       "109 Mclust4_1      Median (IQR) 0.0 (0.0-0.0)       0.0 (0.0-0.0)      \n",
       "110 Mclust4_2      Mean (SD)    0.4 (0.5)           0.4 (0.5)          \n",
       "111 Mclust4_2      Median (IQR) 0.0 (0.0-1.0)       0.0 (0.0-1.0)      \n",
       "112 Mclust4_3      Mean (SD)    0.3 (0.5)           0.3 (0.5)          \n",
       "113 Mclust4_3      Median (IQR) 0.0 (0.0-1.0)       0.0 (0.0-1.0)      \n",
       "114 Mclust4_4      Mean (SD)    0.1 (0.3)           0.1 (0.3)          \n",
       "115 Mclust4_4      Median (IQR) 0.0 (0.0-0.0)       0.0 (0.0-0.0)      \n",
       "    1                   pval \n",
       "1   171                 NA   \n",
       "2   NA                  NA   \n",
       "3   NA                  0    \n",
       "4   0.1 (0.3)           NA   \n",
       "5   0.0 (0.0-0.0)       0.028\n",
       "6   0.0 (0.0)           NA   \n",
       "7   0.0 (0.0-0.0)       0.318\n",
       "8   0.2 (0.4)           NA   \n",
       "9   0.0 (0.0-0.0)       0.182\n",
       "10  810.5 (180.8)       NA   \n",
       "11  810.0 (650.0-970.0) 0.653\n",
       "12  0.0 (0.0)           NA   \n",
       "13  0.0 (0.0-0.0)       0.014\n",
       "14  0.0 (0.1)           NA   \n",
       "15  0.0 (0.0-0.0)       0.041\n",
       "16  0.0 (0.0)           NA   \n",
       "17  0.0 (0.0-0.0)       0.318\n",
       "18  0.0 (0.2)           NA   \n",
       "19  0.0 (0.0-0.0)       0.018\n",
       "20  0.0 (0.1)           NA   \n",
       "21  0.0 (0.0-0.0)       0.351\n",
       "22  0.0 (0.1)           NA   \n",
       "23  0.0 (0.0-0.0)       0.363\n",
       "24  0.0 (0.2)           NA   \n",
       "25  0.0 (0.0-0.0)       0.058\n",
       "26  0.0 (0.2)           NA   \n",
       "27  0.0 (0.0-0.0)       0.281\n",
       "28  0.0 (0.1)           NA   \n",
       "29  0.0 (0.0-0.0)       0.497\n",
       "30  0.0 (0.0)           NA   \n",
       "... ...                 ...  \n",
       "86  0.8 (0.4)           NA   \n",
       "87  1.0 (1.0-1.0)       0    \n",
       "88  3.6 (1.8)           NA   \n",
       "89  4.0 (3.5-4.8)       0.003\n",
       "90  0.2 (0.4)           NA   \n",
       "91  0.0 (0.0-0.0)       0.943\n",
       "92  0.0 (0.1)           NA   \n",
       "93  0.0 (0.0-0.0)       0.065\n",
       "94  0.0 (0.0)           NA   \n",
       "95  0.0 (0.0-0.0)       0.001\n",
       "96  0.7 (0.8)           NA   \n",
       "97  1.0 (0.0-1.0)       0.005\n",
       "98  0.4 (0.5)           NA   \n",
       "99  0.0 (0.0-1.0)       0.997\n",
       "100 0.2 (0.4)           NA   \n",
       "101 0.0 (0.0-0.0)       0.727\n",
       "102 0.4 (0.5)           NA   \n",
       "103 0.0 (0.0-1.0)       0    \n",
       "104 0.2 (0.4)           NA   \n",
       "105 0.0 (0.0-0.0)       0    \n",
       "106 0.4 (0.5)           NA   \n",
       "107 0.0 (0.0-1.0)       0    \n",
       "108 0.4 (0.5)           NA   \n",
       "109 0.0 (0.0-1.0)       0    \n",
       "110 0.1 (0.3)           NA   \n",
       "111 0.0 (0.0-0.0)       0    \n",
       "112 0.1 (0.2)           NA   \n",
       "113 0.0 (0.0-0.0)       0    \n",
       "114 0.4 (0.5)           NA   \n",
       "115 0.0 (0.0-1.0)       0    "
      ]
     },
     "metadata": {},
     "output_type": "display_data"
    }
   ],
   "source": [
    "Table1(data = data2,y = \"NoShow\")"
   ]
  },
  {
   "cell_type": "code",
   "execution_count": 16,
   "metadata": {},
   "outputs": [
    {
     "name": "stderr",
     "output_type": "stream",
     "text": [
      "Dataset partitioned into:\n",
      "\n",
      " + Train dataset: train2\n",
      "\n",
      " + Test dataset: test2\n",
      "\n",
      "Warning message in Table1(data = df, y = \"traintest_ind_\", messages = FALSE):\n",
      "\"The following variables have unique values and will not be included in the analysis: \"\n"
     ]
    },
    {
     "name": "stdout",
     "output_type": "stream",
     "text": [
      "  |======================================================================| 100%"
     ]
    },
    {
     "name": "stderr",
     "output_type": "stream",
     "text": [
      "Warning message in `[<-.factor`(`*tmp*`, iseq, value = \"1\"):\n",
      "\"invalid factor level, NA generated\"\n",
      "Warning message:\n",
      "\"Column `Del` joining character vector and factor, coercing into character vector\"\n",
      "Warning message:\n",
      "\"Column `V1` joining character vector and factor, coercing into character vector\"\n",
      "Warning message:\n",
      "\"Column `V2` joining character vector and factor, coercing into character vector\"\n",
      "Warning message:\n",
      "\"Column `n` joining character vector and factor, coercing into character vector\"\n"
     ]
    },
    {
     "name": "stdout",
     "output_type": "stream",
     "text": [
      "  |======================================================================| 100%"
     ]
    },
    {
     "name": "stderr",
     "output_type": "stream",
     "text": [
      "Warning message in `[<-.factor`(`*tmp*`, iseq, value = \"2\"):\n",
      "\"invalid factor level, NA generated\"\n",
      "Warning message:\n",
      "\"Column `Del` joining character vector and factor, coercing into character vector\"\n",
      "Warning message:\n",
      "\"Column `V1` joining character vector and factor, coercing into character vector\"\n",
      "Warning message:\n",
      "\"Column `V2` joining character vector and factor, coercing into character vector\"\n",
      "Warning message:\n",
      "\"Column `n` joining character vector and factor, coercing into character vector\"\n"
     ]
    },
    {
     "name": "stdout",
     "output_type": "stream",
     "text": [
      "  |===================================================================== |  98%"
     ]
    },
    {
     "name": "stderr",
     "output_type": "stream",
     "text": [
      "Warning message:\n",
      "\"Column `V1` joining character vector and factor, coercing into character vector\"\n",
      "Warning message:\n",
      "\"Column `n` joining character vector and factor, coercing into character vector\"\n",
      "Warning message in Ops.factor(pval, 0.05):\n",
      "\"'<' not meaningful for factors\"\n",
      " \n",
      "\n",
      "You got a perfectly balanced training and test datasets\n",
      "\n",
      " \n",
      "\n"
     ]
    }
   ],
   "source": [
    "# spliting to train and test\n",
    "tab2 <- train_test(data = data2, train_name = \"train2\", test_name = \"test2\",prop = 0.6, seed = 952, tableone=T)"
   ]
  },
  {
   "cell_type": "code",
   "execution_count": 17,
   "metadata": {},
   "outputs": [
    {
     "data": {
      "text/html": [
       "<style>\n",
       ".list-inline {list-style: none; margin:0; padding: 0}\n",
       ".list-inline>li {display: inline-block}\n",
       ".list-inline>li:not(:last-child)::after {content: \"\\00b7\"; padding: 0 .5ex}\n",
       "</style>\n",
       "<ol class=list-inline><li>1310</li><li>57</li></ol>\n"
      ],
      "text/latex": [
       "\\begin{enumerate*}\n",
       "\\item 1310\n",
       "\\item 57\n",
       "\\end{enumerate*}\n"
      ],
      "text/markdown": [
       "1. 1310\n",
       "2. 57\n",
       "\n",
       "\n"
      ],
      "text/plain": [
       "[1] 1310   57"
      ]
     },
     "metadata": {},
     "output_type": "display_data"
    },
    {
     "data": {
      "text/html": [
       "<style>\n",
       ".list-inline {list-style: none; margin:0; padding: 0}\n",
       ".list-inline>li {display: inline-block}\n",
       ".list-inline>li:not(:last-child)::after {content: \"\\00b7\"; padding: 0 .5ex}\n",
       "</style>\n",
       "<ol class=list-inline><li>874</li><li>57</li></ol>\n"
      ],
      "text/latex": [
       "\\begin{enumerate*}\n",
       "\\item 874\n",
       "\\item 57\n",
       "\\end{enumerate*}\n"
      ],
      "text/markdown": [
       "1. 874\n",
       "2. 57\n",
       "\n",
       "\n"
      ],
      "text/plain": [
       "[1] 874  57"
      ]
     },
     "metadata": {},
     "output_type": "display_data"
    }
   ],
   "source": [
    "dim(train2)\n",
    "dim(test2)"
   ]
  },
  {
   "cell_type": "code",
   "execution_count": 18,
   "metadata": {},
   "outputs": [
    {
     "data": {
      "text/html": [
       "<table>\n",
       "<caption>A tibble: 117 × 6</caption>\n",
       "<thead>\n",
       "\t<tr><th scope=col>V1</th><th scope=col>V2</th><th scope=col>Pop</th><th scope=col>1</th><th scope=col>2</th><th scope=col>pval</th></tr>\n",
       "\t<tr><th scope=col>&lt;chr&gt;</th><th scope=col>&lt;chr&gt;</th><th scope=col>&lt;chr&gt;</th><th scope=col>&lt;fct&gt;</th><th scope=col>&lt;fct&gt;</th><th scope=col>&lt;fct&gt;</th></tr>\n",
       "</thead>\n",
       "<tbody>\n",
       "\t<tr><td>Individuals   </td><td>n           </td><td>2184               </td><td>1310               </td><td>874                </td><td>NA   </td></tr>\n",
       "\t<tr><td>NoShow        </td><td>Mean (SD)   </td><td>0.1 (0.3)          </td><td>0.1 (0.3)          </td><td>0.1 (0.3)          </td><td>NA   </td></tr>\n",
       "\t<tr><td>NoShow        </td><td>Median (IQR)</td><td>0.0 (0.0-0.0)      </td><td>0.0 (0.0-0.0)      </td><td>0.0 (0.0-0.0)      </td><td>0.22 </td></tr>\n",
       "\t<tr><td>sunday        </td><td>Mean (SD)   </td><td>0.0 (0.2)          </td><td>0.0 (0.2)          </td><td>0.0 (0.2)          </td><td>NA   </td></tr>\n",
       "\t<tr><td>sunday        </td><td>Median (IQR)</td><td>0.0 (0.0-0.0)      </td><td>0.0 (0.0-0.0)      </td><td>0.0 (0.0-0.0)      </td><td>0.614</td></tr>\n",
       "\t<tr><td>monday        </td><td>Mean (SD)   </td><td>0.0 (0.0)          </td><td>0.0 (0.0)          </td><td>0.0 (0.0)          </td><td>NA   </td></tr>\n",
       "\t<tr><td>monday        </td><td>Median (IQR)</td><td>0.0 (0.0-0.0)      </td><td>0.0 (0.0-0.0)      </td><td>0.0 (0.0-0.0)      </td><td>0.318</td></tr>\n",
       "\t<tr><td>saturday      </td><td>Mean (SD)   </td><td>0.2 (0.4)          </td><td>0.2 (0.4)          </td><td>0.2 (0.4)          </td><td>NA   </td></tr>\n",
       "\t<tr><td>saturday      </td><td>Median (IQR)</td><td>0.0 (0.0-0.0)      </td><td>0.0 (0.0-0.0)      </td><td>0.0 (0.0-0.0)      </td><td>0.269</td></tr>\n",
       "\t<tr><td>time_booked   </td><td>Mean (SD)   </td><td>804.7 (175.8)      </td><td>803.9 (174.4)      </td><td>805.9 (178.0)      </td><td>NA   </td></tr>\n",
       "\t<tr><td>time_booked   </td><td>Median (IQR)</td><td>790.0 (660.0-960.0)</td><td>790.0 (660.0-950.0)</td><td>800.0 (660.0-960.0)</td><td>0.794</td></tr>\n",
       "\t<tr><td>service_CAL   </td><td>Mean (SD)   </td><td>0.0 (0.1)          </td><td>0.0 (0.1)          </td><td>0.0 (0.0)          </td><td>NA   </td></tr>\n",
       "\t<tr><td>service_CAL   </td><td>Median (IQR)</td><td>0.0 (0.0-0.0)      </td><td>0.0 (0.0-0.0)      </td><td>0.0 (0.0-0.0)      </td><td>0.731</td></tr>\n",
       "\t<tr><td>service_CALC  </td><td>Mean (SD)   </td><td>0.0 (0.1)          </td><td>0.0 (0.1)          </td><td>0.0 (0.1)          </td><td>NA   </td></tr>\n",
       "\t<tr><td>service_CALC  </td><td>Median (IQR)</td><td>0.0 (0.0-0.0)      </td><td>0.0 (0.0-0.0)      </td><td>0.0 (0.0-0.0)      </td><td>0.312</td></tr>\n",
       "\t<tr><td>service_CAS   </td><td>Mean (SD)   </td><td>0.0 (0.0)          </td><td>0.0 (0.0)          </td><td>0.0 (0.0)          </td><td>NA   </td></tr>\n",
       "\t<tr><td>service_CAS   </td><td>Median (IQR)</td><td>0.0 (0.0-0.0)      </td><td>0.0 (0.0-0.0)      </td><td>0.0 (0.0-0.0)      </td><td>0.318</td></tr>\n",
       "\t<tr><td>service_CBAL  </td><td>Mean (SD)   </td><td>0.0 (0.1)          </td><td>0.0 (0.1)          </td><td>0.0 (0.1)          </td><td>NA   </td></tr>\n",
       "\t<tr><td>service_CBAL  </td><td>Median (IQR)</td><td>0.0 (0.0-0.0)      </td><td>0.0 (0.0-0.0)      </td><td>0.0 (0.0-0.0)      </td><td>0.568</td></tr>\n",
       "\t<tr><td>service_CCAMO </td><td>Mean (SD)   </td><td>0.0 (0.1)          </td><td>0.0 (0.1)          </td><td>0.0 (0.1)          </td><td>NA   </td></tr>\n",
       "\t<tr><td>service_CCAMO </td><td>Median (IQR)</td><td>0.0 (0.0-0.0)      </td><td>0.0 (0.0-0.0)      </td><td>0.0 (0.0-0.0)      </td><td>0.194</td></tr>\n",
       "\t<tr><td>service_CCO   </td><td>Mean (SD)   </td><td>0.0 (0.0)          </td><td>0.0 (0.0)          </td><td>0.0 (0.0)          </td><td>NA   </td></tr>\n",
       "\t<tr><td>service_CCO   </td><td>Median (IQR)</td><td>0.0 (0.0-0.0)      </td><td>0.0 (0.0-0.0)      </td><td>0.0 (0.0-0.0)      </td><td>0.157</td></tr>\n",
       "\t<tr><td>service_CDPB  </td><td>Mean (SD)   </td><td>0.0 (0.1)          </td><td>0.0 (0.1)          </td><td>0.0 (0.1)          </td><td>NA   </td></tr>\n",
       "\t<tr><td>service_CDPB  </td><td>Median (IQR)</td><td>0.0 (0.0-0.0)      </td><td>0.0 (0.0-0.0)      </td><td>0.0 (0.0-0.0)      </td><td>0.463</td></tr>\n",
       "\t<tr><td>service_CFC   </td><td>Mean (SD)   </td><td>0.0 (0.2)          </td><td>0.0 (0.2)          </td><td>0.0 (0.2)          </td><td>NA   </td></tr>\n",
       "\t<tr><td>service_CFC   </td><td>Median (IQR)</td><td>0.0 (0.0-0.0)      </td><td>0.0 (0.0-0.0)      </td><td>0.0 (0.0-0.0)      </td><td>0.248</td></tr>\n",
       "\t<tr><td>service_CHLFH </td><td>Mean (SD)   </td><td>0.0 (0.1)          </td><td>0.0 (0.1)          </td><td>0.0 (0.1)          </td><td>NA   </td></tr>\n",
       "\t<tr><td>service_CHLFH </td><td>Median (IQR)</td><td>0.0 (0.0-0.0)      </td><td>0.0 (0.0-0.0)      </td><td>0.0 (0.0-0.0)      </td><td>0.22 </td></tr>\n",
       "\t<tr><td>service_CHLFHC</td><td>Mean (SD)   </td><td>0.0 (0.0)          </td><td>0.0 (0.0)          </td><td>0.0 (0.0)          </td><td>NA   </td></tr>\n",
       "\t<tr><td>...</td><td>...</td><td>...</td><td>...</td><td>...</td><td>...</td></tr>\n",
       "\t<tr><td>amount        </td><td>Mean (SD)   </td><td>4.0 (1.4)    </td><td>4.0 (1.4)    </td><td>4.0 (1.4)    </td><td>NA   </td></tr>\n",
       "\t<tr><td>amount        </td><td>Median (IQR)</td><td>4.3 (3.9-4.7)</td><td>4.3 (3.9-4.7)</td><td>4.1 (3.7-4.7)</td><td>0.457</td></tr>\n",
       "\t<tr><td>avg_receipt_4 </td><td>Mean (SD)   </td><td>0.2 (0.4)    </td><td>0.2 (0.4)    </td><td>0.2 (0.4)    </td><td>NA   </td></tr>\n",
       "\t<tr><td>avg_receipt_4 </td><td>Median (IQR)</td><td>0.0 (0.0-0.0)</td><td>0.0 (0.0-0.0)</td><td>0.0 (0.0-0.0)</td><td>0.074</td></tr>\n",
       "\t<tr><td>avg_receipt_5 </td><td>Mean (SD)   </td><td>0.0 (0.2)    </td><td>0.0 (0.2)    </td><td>0.0 (0.2)    </td><td>NA   </td></tr>\n",
       "\t<tr><td>avg_receipt_5 </td><td>Median (IQR)</td><td>0.0 (0.0-0.0)</td><td>0.0 (0.0-0.0)</td><td>0.0 (0.0-0.0)</td><td>0.109</td></tr>\n",
       "\t<tr><td>avg_quantity_5</td><td>Mean (SD)   </td><td>0.0 (0.1)    </td><td>0.0 (0.1)    </td><td>0.0 (0.0)    </td><td>NA   </td></tr>\n",
       "\t<tr><td>avg_quantity_5</td><td>Median (IQR)</td><td>0.0 (0.0-0.0)</td><td>0.0 (0.0-0.0)</td><td>0.0 (0.0-0.0)</td><td>0.102</td></tr>\n",
       "\t<tr><td>total_cancel12</td><td>Mean (SD)   </td><td>0.5 (0.9)    </td><td>0.5 (0.9)    </td><td>0.5 (0.9)    </td><td>NA   </td></tr>\n",
       "\t<tr><td>total_cancel12</td><td>Median (IQR)</td><td>0.0 (0.0-1.0)</td><td>0.0 (0.0-1.0)</td><td>0.0 (0.0-1.0)</td><td>0.314</td></tr>\n",
       "\t<tr><td>hclust3_1     </td><td>Mean (SD)   </td><td>0.4 (0.5)    </td><td>0.4 (0.5)    </td><td>0.4 (0.5)    </td><td>NA   </td></tr>\n",
       "\t<tr><td>hclust3_1     </td><td>Median (IQR)</td><td>0.0 (0.0-1.0)</td><td>0.0 (0.0-1.0)</td><td>0.0 (0.0-1.0)</td><td>0.753</td></tr>\n",
       "\t<tr><td>hclust4_4     </td><td>Mean (SD)   </td><td>0.2 (0.4)    </td><td>0.2 (0.4)    </td><td>0.2 (0.4)    </td><td>NA   </td></tr>\n",
       "\t<tr><td>hclust4_4     </td><td>Median (IQR)</td><td>0.0 (0.0-0.0)</td><td>0.0 (0.0-0.0)</td><td>0.0 (0.0-0.0)</td><td>0.443</td></tr>\n",
       "\t<tr><td>Mclust3_1     </td><td>Mean (SD)   </td><td>0.2 (0.4)    </td><td>0.2 (0.4)    </td><td>0.2 (0.4)    </td><td>NA   </td></tr>\n",
       "\t<tr><td>Mclust3_1     </td><td>Median (IQR)</td><td>0.0 (0.0-0.0)</td><td>0.0 (0.0-0.0)</td><td>0.0 (0.0-0.0)</td><td>0.959</td></tr>\n",
       "\t<tr><td>Mclust3_2     </td><td>Mean (SD)   </td><td>0.7 (0.5)    </td><td>0.7 (0.5)    </td><td>0.7 (0.5)    </td><td>NA   </td></tr>\n",
       "\t<tr><td>Mclust3_2     </td><td>Median (IQR)</td><td>1.0 (0.0-1.0)</td><td>1.0 (0.0-1.0)</td><td>1.0 (0.0-1.0)</td><td>0.294</td></tr>\n",
       "\t<tr><td>Mclust3_3     </td><td>Mean (SD)   </td><td>0.1 (0.3)    </td><td>0.1 (0.3)    </td><td>0.1 (0.3)    </td><td>NA   </td></tr>\n",
       "\t<tr><td>Mclust3_3     </td><td>Median (IQR)</td><td>0.0 (0.0-0.0)</td><td>0.0 (0.0-0.0)</td><td>0.0 (0.0-0.0)</td><td>0.146</td></tr>\n",
       "\t<tr><td>Mclust4_1     </td><td>Mean (SD)   </td><td>0.2 (0.4)    </td><td>0.2 (0.4)    </td><td>0.2 (0.4)    </td><td>NA   </td></tr>\n",
       "\t<tr><td>Mclust4_1     </td><td>Median (IQR)</td><td>0.0 (0.0-0.0)</td><td>0.0 (0.0-0.0)</td><td>0.0 (0.0-0.0)</td><td>0.959</td></tr>\n",
       "\t<tr><td>Mclust4_2     </td><td>Mean (SD)   </td><td>0.4 (0.5)    </td><td>0.4 (0.5)    </td><td>0.4 (0.5)    </td><td>NA   </td></tr>\n",
       "\t<tr><td>Mclust4_2     </td><td>Median (IQR)</td><td>0.0 (0.0-1.0)</td><td>0.0 (0.0-1.0)</td><td>0.0 (0.0-1.0)</td><td>0.454</td></tr>\n",
       "\t<tr><td>Mclust4_3     </td><td>Mean (SD)   </td><td>0.3 (0.5)    </td><td>0.3 (0.5)    </td><td>0.3 (0.5)    </td><td>NA   </td></tr>\n",
       "\t<tr><td>Mclust4_3     </td><td>Median (IQR)</td><td>0.0 (0.0-1.0)</td><td>0.0 (0.0-1.0)</td><td>0.0 (0.0-1.0)</td><td>0.77 </td></tr>\n",
       "\t<tr><td>Mclust4_4     </td><td>Mean (SD)   </td><td>0.1 (0.3)    </td><td>0.1 (0.3)    </td><td>0.1 (0.3)    </td><td>NA   </td></tr>\n",
       "\t<tr><td>Mclust4_4     </td><td>Median (IQR)</td><td>0.0 (0.0-0.0)</td><td>0.0 (0.0-0.0)</td><td>0.0 (0.0-0.0)</td><td>0.146</td></tr>\n",
       "\t<tr><td>traintest_ind_</td><td>Mean (SD)   </td><td>1.4 (0.5)    </td><td>NA           </td><td>NA           </td><td>NA   </td></tr>\n",
       "\t<tr><td>traintest_ind_</td><td>Median (IQR)</td><td>1.0 (1.0-2.0)</td><td>NA           </td><td>NA           </td><td>0    </td></tr>\n",
       "</tbody>\n",
       "</table>\n"
      ],
      "text/latex": [
       "A tibble: 117 × 6\n",
       "\\begin{tabular}{llllll}\n",
       " V1 & V2 & Pop & 1 & 2 & pval\\\\\n",
       " <chr> & <chr> & <chr> & <fct> & <fct> & <fct>\\\\\n",
       "\\hline\n",
       "\t Individuals    & n            & 2184                & 1310                & 874                 & NA   \\\\\n",
       "\t NoShow         & Mean (SD)    & 0.1 (0.3)           & 0.1 (0.3)           & 0.1 (0.3)           & NA   \\\\\n",
       "\t NoShow         & Median (IQR) & 0.0 (0.0-0.0)       & 0.0 (0.0-0.0)       & 0.0 (0.0-0.0)       & 0.22 \\\\\n",
       "\t sunday         & Mean (SD)    & 0.0 (0.2)           & 0.0 (0.2)           & 0.0 (0.2)           & NA   \\\\\n",
       "\t sunday         & Median (IQR) & 0.0 (0.0-0.0)       & 0.0 (0.0-0.0)       & 0.0 (0.0-0.0)       & 0.614\\\\\n",
       "\t monday         & Mean (SD)    & 0.0 (0.0)           & 0.0 (0.0)           & 0.0 (0.0)           & NA   \\\\\n",
       "\t monday         & Median (IQR) & 0.0 (0.0-0.0)       & 0.0 (0.0-0.0)       & 0.0 (0.0-0.0)       & 0.318\\\\\n",
       "\t saturday       & Mean (SD)    & 0.2 (0.4)           & 0.2 (0.4)           & 0.2 (0.4)           & NA   \\\\\n",
       "\t saturday       & Median (IQR) & 0.0 (0.0-0.0)       & 0.0 (0.0-0.0)       & 0.0 (0.0-0.0)       & 0.269\\\\\n",
       "\t time\\_booked    & Mean (SD)    & 804.7 (175.8)       & 803.9 (174.4)       & 805.9 (178.0)       & NA   \\\\\n",
       "\t time\\_booked    & Median (IQR) & 790.0 (660.0-960.0) & 790.0 (660.0-950.0) & 800.0 (660.0-960.0) & 0.794\\\\\n",
       "\t service\\_CAL    & Mean (SD)    & 0.0 (0.1)           & 0.0 (0.1)           & 0.0 (0.0)           & NA   \\\\\n",
       "\t service\\_CAL    & Median (IQR) & 0.0 (0.0-0.0)       & 0.0 (0.0-0.0)       & 0.0 (0.0-0.0)       & 0.731\\\\\n",
       "\t service\\_CALC   & Mean (SD)    & 0.0 (0.1)           & 0.0 (0.1)           & 0.0 (0.1)           & NA   \\\\\n",
       "\t service\\_CALC   & Median (IQR) & 0.0 (0.0-0.0)       & 0.0 (0.0-0.0)       & 0.0 (0.0-0.0)       & 0.312\\\\\n",
       "\t service\\_CAS    & Mean (SD)    & 0.0 (0.0)           & 0.0 (0.0)           & 0.0 (0.0)           & NA   \\\\\n",
       "\t service\\_CAS    & Median (IQR) & 0.0 (0.0-0.0)       & 0.0 (0.0-0.0)       & 0.0 (0.0-0.0)       & 0.318\\\\\n",
       "\t service\\_CBAL   & Mean (SD)    & 0.0 (0.1)           & 0.0 (0.1)           & 0.0 (0.1)           & NA   \\\\\n",
       "\t service\\_CBAL   & Median (IQR) & 0.0 (0.0-0.0)       & 0.0 (0.0-0.0)       & 0.0 (0.0-0.0)       & 0.568\\\\\n",
       "\t service\\_CCAMO  & Mean (SD)    & 0.0 (0.1)           & 0.0 (0.1)           & 0.0 (0.1)           & NA   \\\\\n",
       "\t service\\_CCAMO  & Median (IQR) & 0.0 (0.0-0.0)       & 0.0 (0.0-0.0)       & 0.0 (0.0-0.0)       & 0.194\\\\\n",
       "\t service\\_CCO    & Mean (SD)    & 0.0 (0.0)           & 0.0 (0.0)           & 0.0 (0.0)           & NA   \\\\\n",
       "\t service\\_CCO    & Median (IQR) & 0.0 (0.0-0.0)       & 0.0 (0.0-0.0)       & 0.0 (0.0-0.0)       & 0.157\\\\\n",
       "\t service\\_CDPB   & Mean (SD)    & 0.0 (0.1)           & 0.0 (0.1)           & 0.0 (0.1)           & NA   \\\\\n",
       "\t service\\_CDPB   & Median (IQR) & 0.0 (0.0-0.0)       & 0.0 (0.0-0.0)       & 0.0 (0.0-0.0)       & 0.463\\\\\n",
       "\t service\\_CFC    & Mean (SD)    & 0.0 (0.2)           & 0.0 (0.2)           & 0.0 (0.2)           & NA   \\\\\n",
       "\t service\\_CFC    & Median (IQR) & 0.0 (0.0-0.0)       & 0.0 (0.0-0.0)       & 0.0 (0.0-0.0)       & 0.248\\\\\n",
       "\t service\\_CHLFH  & Mean (SD)    & 0.0 (0.1)           & 0.0 (0.1)           & 0.0 (0.1)           & NA   \\\\\n",
       "\t service\\_CHLFH  & Median (IQR) & 0.0 (0.0-0.0)       & 0.0 (0.0-0.0)       & 0.0 (0.0-0.0)       & 0.22 \\\\\n",
       "\t service\\_CHLFHC & Mean (SD)    & 0.0 (0.0)           & 0.0 (0.0)           & 0.0 (0.0)           & NA   \\\\\n",
       "\t ... & ... & ... & ... & ... & ...\\\\\n",
       "\t amount         & Mean (SD)    & 4.0 (1.4)     & 4.0 (1.4)     & 4.0 (1.4)     & NA   \\\\\n",
       "\t amount         & Median (IQR) & 4.3 (3.9-4.7) & 4.3 (3.9-4.7) & 4.1 (3.7-4.7) & 0.457\\\\\n",
       "\t avg\\_receipt\\_4  & Mean (SD)    & 0.2 (0.4)     & 0.2 (0.4)     & 0.2 (0.4)     & NA   \\\\\n",
       "\t avg\\_receipt\\_4  & Median (IQR) & 0.0 (0.0-0.0) & 0.0 (0.0-0.0) & 0.0 (0.0-0.0) & 0.074\\\\\n",
       "\t avg\\_receipt\\_5  & Mean (SD)    & 0.0 (0.2)     & 0.0 (0.2)     & 0.0 (0.2)     & NA   \\\\\n",
       "\t avg\\_receipt\\_5  & Median (IQR) & 0.0 (0.0-0.0) & 0.0 (0.0-0.0) & 0.0 (0.0-0.0) & 0.109\\\\\n",
       "\t avg\\_quantity\\_5 & Mean (SD)    & 0.0 (0.1)     & 0.0 (0.1)     & 0.0 (0.0)     & NA   \\\\\n",
       "\t avg\\_quantity\\_5 & Median (IQR) & 0.0 (0.0-0.0) & 0.0 (0.0-0.0) & 0.0 (0.0-0.0) & 0.102\\\\\n",
       "\t total\\_cancel12 & Mean (SD)    & 0.5 (0.9)     & 0.5 (0.9)     & 0.5 (0.9)     & NA   \\\\\n",
       "\t total\\_cancel12 & Median (IQR) & 0.0 (0.0-1.0) & 0.0 (0.0-1.0) & 0.0 (0.0-1.0) & 0.314\\\\\n",
       "\t hclust3\\_1      & Mean (SD)    & 0.4 (0.5)     & 0.4 (0.5)     & 0.4 (0.5)     & NA   \\\\\n",
       "\t hclust3\\_1      & Median (IQR) & 0.0 (0.0-1.0) & 0.0 (0.0-1.0) & 0.0 (0.0-1.0) & 0.753\\\\\n",
       "\t hclust4\\_4      & Mean (SD)    & 0.2 (0.4)     & 0.2 (0.4)     & 0.2 (0.4)     & NA   \\\\\n",
       "\t hclust4\\_4      & Median (IQR) & 0.0 (0.0-0.0) & 0.0 (0.0-0.0) & 0.0 (0.0-0.0) & 0.443\\\\\n",
       "\t Mclust3\\_1      & Mean (SD)    & 0.2 (0.4)     & 0.2 (0.4)     & 0.2 (0.4)     & NA   \\\\\n",
       "\t Mclust3\\_1      & Median (IQR) & 0.0 (0.0-0.0) & 0.0 (0.0-0.0) & 0.0 (0.0-0.0) & 0.959\\\\\n",
       "\t Mclust3\\_2      & Mean (SD)    & 0.7 (0.5)     & 0.7 (0.5)     & 0.7 (0.5)     & NA   \\\\\n",
       "\t Mclust3\\_2      & Median (IQR) & 1.0 (0.0-1.0) & 1.0 (0.0-1.0) & 1.0 (0.0-1.0) & 0.294\\\\\n",
       "\t Mclust3\\_3      & Mean (SD)    & 0.1 (0.3)     & 0.1 (0.3)     & 0.1 (0.3)     & NA   \\\\\n",
       "\t Mclust3\\_3      & Median (IQR) & 0.0 (0.0-0.0) & 0.0 (0.0-0.0) & 0.0 (0.0-0.0) & 0.146\\\\\n",
       "\t Mclust4\\_1      & Mean (SD)    & 0.2 (0.4)     & 0.2 (0.4)     & 0.2 (0.4)     & NA   \\\\\n",
       "\t Mclust4\\_1      & Median (IQR) & 0.0 (0.0-0.0) & 0.0 (0.0-0.0) & 0.0 (0.0-0.0) & 0.959\\\\\n",
       "\t Mclust4\\_2      & Mean (SD)    & 0.4 (0.5)     & 0.4 (0.5)     & 0.4 (0.5)     & NA   \\\\\n",
       "\t Mclust4\\_2      & Median (IQR) & 0.0 (0.0-1.0) & 0.0 (0.0-1.0) & 0.0 (0.0-1.0) & 0.454\\\\\n",
       "\t Mclust4\\_3      & Mean (SD)    & 0.3 (0.5)     & 0.3 (0.5)     & 0.3 (0.5)     & NA   \\\\\n",
       "\t Mclust4\\_3      & Median (IQR) & 0.0 (0.0-1.0) & 0.0 (0.0-1.0) & 0.0 (0.0-1.0) & 0.77 \\\\\n",
       "\t Mclust4\\_4      & Mean (SD)    & 0.1 (0.3)     & 0.1 (0.3)     & 0.1 (0.3)     & NA   \\\\\n",
       "\t Mclust4\\_4      & Median (IQR) & 0.0 (0.0-0.0) & 0.0 (0.0-0.0) & 0.0 (0.0-0.0) & 0.146\\\\\n",
       "\t traintest\\_ind\\_ & Mean (SD)    & 1.4 (0.5)     & NA            & NA            & NA   \\\\\n",
       "\t traintest\\_ind\\_ & Median (IQR) & 1.0 (1.0-2.0) & NA            & NA            & 0    \\\\\n",
       "\\end{tabular}\n"
      ],
      "text/markdown": [
       "\n",
       "A tibble: 117 × 6\n",
       "\n",
       "| V1 &lt;chr&gt; | V2 &lt;chr&gt; | Pop &lt;chr&gt; | 1 &lt;fct&gt; | 2 &lt;fct&gt; | pval &lt;fct&gt; |\n",
       "|---|---|---|---|---|---|\n",
       "| Individuals    | n            | 2184                | 1310                | 874                 | NA    |\n",
       "| NoShow         | Mean (SD)    | 0.1 (0.3)           | 0.1 (0.3)           | 0.1 (0.3)           | NA    |\n",
       "| NoShow         | Median (IQR) | 0.0 (0.0-0.0)       | 0.0 (0.0-0.0)       | 0.0 (0.0-0.0)       | 0.22  |\n",
       "| sunday         | Mean (SD)    | 0.0 (0.2)           | 0.0 (0.2)           | 0.0 (0.2)           | NA    |\n",
       "| sunday         | Median (IQR) | 0.0 (0.0-0.0)       | 0.0 (0.0-0.0)       | 0.0 (0.0-0.0)       | 0.614 |\n",
       "| monday         | Mean (SD)    | 0.0 (0.0)           | 0.0 (0.0)           | 0.0 (0.0)           | NA    |\n",
       "| monday         | Median (IQR) | 0.0 (0.0-0.0)       | 0.0 (0.0-0.0)       | 0.0 (0.0-0.0)       | 0.318 |\n",
       "| saturday       | Mean (SD)    | 0.2 (0.4)           | 0.2 (0.4)           | 0.2 (0.4)           | NA    |\n",
       "| saturday       | Median (IQR) | 0.0 (0.0-0.0)       | 0.0 (0.0-0.0)       | 0.0 (0.0-0.0)       | 0.269 |\n",
       "| time_booked    | Mean (SD)    | 804.7 (175.8)       | 803.9 (174.4)       | 805.9 (178.0)       | NA    |\n",
       "| time_booked    | Median (IQR) | 790.0 (660.0-960.0) | 790.0 (660.0-950.0) | 800.0 (660.0-960.0) | 0.794 |\n",
       "| service_CAL    | Mean (SD)    | 0.0 (0.1)           | 0.0 (0.1)           | 0.0 (0.0)           | NA    |\n",
       "| service_CAL    | Median (IQR) | 0.0 (0.0-0.0)       | 0.0 (0.0-0.0)       | 0.0 (0.0-0.0)       | 0.731 |\n",
       "| service_CALC   | Mean (SD)    | 0.0 (0.1)           | 0.0 (0.1)           | 0.0 (0.1)           | NA    |\n",
       "| service_CALC   | Median (IQR) | 0.0 (0.0-0.0)       | 0.0 (0.0-0.0)       | 0.0 (0.0-0.0)       | 0.312 |\n",
       "| service_CAS    | Mean (SD)    | 0.0 (0.0)           | 0.0 (0.0)           | 0.0 (0.0)           | NA    |\n",
       "| service_CAS    | Median (IQR) | 0.0 (0.0-0.0)       | 0.0 (0.0-0.0)       | 0.0 (0.0-0.0)       | 0.318 |\n",
       "| service_CBAL   | Mean (SD)    | 0.0 (0.1)           | 0.0 (0.1)           | 0.0 (0.1)           | NA    |\n",
       "| service_CBAL   | Median (IQR) | 0.0 (0.0-0.0)       | 0.0 (0.0-0.0)       | 0.0 (0.0-0.0)       | 0.568 |\n",
       "| service_CCAMO  | Mean (SD)    | 0.0 (0.1)           | 0.0 (0.1)           | 0.0 (0.1)           | NA    |\n",
       "| service_CCAMO  | Median (IQR) | 0.0 (0.0-0.0)       | 0.0 (0.0-0.0)       | 0.0 (0.0-0.0)       | 0.194 |\n",
       "| service_CCO    | Mean (SD)    | 0.0 (0.0)           | 0.0 (0.0)           | 0.0 (0.0)           | NA    |\n",
       "| service_CCO    | Median (IQR) | 0.0 (0.0-0.0)       | 0.0 (0.0-0.0)       | 0.0 (0.0-0.0)       | 0.157 |\n",
       "| service_CDPB   | Mean (SD)    | 0.0 (0.1)           | 0.0 (0.1)           | 0.0 (0.1)           | NA    |\n",
       "| service_CDPB   | Median (IQR) | 0.0 (0.0-0.0)       | 0.0 (0.0-0.0)       | 0.0 (0.0-0.0)       | 0.463 |\n",
       "| service_CFC    | Mean (SD)    | 0.0 (0.2)           | 0.0 (0.2)           | 0.0 (0.2)           | NA    |\n",
       "| service_CFC    | Median (IQR) | 0.0 (0.0-0.0)       | 0.0 (0.0-0.0)       | 0.0 (0.0-0.0)       | 0.248 |\n",
       "| service_CHLFH  | Mean (SD)    | 0.0 (0.1)           | 0.0 (0.1)           | 0.0 (0.1)           | NA    |\n",
       "| service_CHLFH  | Median (IQR) | 0.0 (0.0-0.0)       | 0.0 (0.0-0.0)       | 0.0 (0.0-0.0)       | 0.22  |\n",
       "| service_CHLFHC | Mean (SD)    | 0.0 (0.0)           | 0.0 (0.0)           | 0.0 (0.0)           | NA    |\n",
       "| ... | ... | ... | ... | ... | ... |\n",
       "| amount         | Mean (SD)    | 4.0 (1.4)     | 4.0 (1.4)     | 4.0 (1.4)     | NA    |\n",
       "| amount         | Median (IQR) | 4.3 (3.9-4.7) | 4.3 (3.9-4.7) | 4.1 (3.7-4.7) | 0.457 |\n",
       "| avg_receipt_4  | Mean (SD)    | 0.2 (0.4)     | 0.2 (0.4)     | 0.2 (0.4)     | NA    |\n",
       "| avg_receipt_4  | Median (IQR) | 0.0 (0.0-0.0) | 0.0 (0.0-0.0) | 0.0 (0.0-0.0) | 0.074 |\n",
       "| avg_receipt_5  | Mean (SD)    | 0.0 (0.2)     | 0.0 (0.2)     | 0.0 (0.2)     | NA    |\n",
       "| avg_receipt_5  | Median (IQR) | 0.0 (0.0-0.0) | 0.0 (0.0-0.0) | 0.0 (0.0-0.0) | 0.109 |\n",
       "| avg_quantity_5 | Mean (SD)    | 0.0 (0.1)     | 0.0 (0.1)     | 0.0 (0.0)     | NA    |\n",
       "| avg_quantity_5 | Median (IQR) | 0.0 (0.0-0.0) | 0.0 (0.0-0.0) | 0.0 (0.0-0.0) | 0.102 |\n",
       "| total_cancel12 | Mean (SD)    | 0.5 (0.9)     | 0.5 (0.9)     | 0.5 (0.9)     | NA    |\n",
       "| total_cancel12 | Median (IQR) | 0.0 (0.0-1.0) | 0.0 (0.0-1.0) | 0.0 (0.0-1.0) | 0.314 |\n",
       "| hclust3_1      | Mean (SD)    | 0.4 (0.5)     | 0.4 (0.5)     | 0.4 (0.5)     | NA    |\n",
       "| hclust3_1      | Median (IQR) | 0.0 (0.0-1.0) | 0.0 (0.0-1.0) | 0.0 (0.0-1.0) | 0.753 |\n",
       "| hclust4_4      | Mean (SD)    | 0.2 (0.4)     | 0.2 (0.4)     | 0.2 (0.4)     | NA    |\n",
       "| hclust4_4      | Median (IQR) | 0.0 (0.0-0.0) | 0.0 (0.0-0.0) | 0.0 (0.0-0.0) | 0.443 |\n",
       "| Mclust3_1      | Mean (SD)    | 0.2 (0.4)     | 0.2 (0.4)     | 0.2 (0.4)     | NA    |\n",
       "| Mclust3_1      | Median (IQR) | 0.0 (0.0-0.0) | 0.0 (0.0-0.0) | 0.0 (0.0-0.0) | 0.959 |\n",
       "| Mclust3_2      | Mean (SD)    | 0.7 (0.5)     | 0.7 (0.5)     | 0.7 (0.5)     | NA    |\n",
       "| Mclust3_2      | Median (IQR) | 1.0 (0.0-1.0) | 1.0 (0.0-1.0) | 1.0 (0.0-1.0) | 0.294 |\n",
       "| Mclust3_3      | Mean (SD)    | 0.1 (0.3)     | 0.1 (0.3)     | 0.1 (0.3)     | NA    |\n",
       "| Mclust3_3      | Median (IQR) | 0.0 (0.0-0.0) | 0.0 (0.0-0.0) | 0.0 (0.0-0.0) | 0.146 |\n",
       "| Mclust4_1      | Mean (SD)    | 0.2 (0.4)     | 0.2 (0.4)     | 0.2 (0.4)     | NA    |\n",
       "| Mclust4_1      | Median (IQR) | 0.0 (0.0-0.0) | 0.0 (0.0-0.0) | 0.0 (0.0-0.0) | 0.959 |\n",
       "| Mclust4_2      | Mean (SD)    | 0.4 (0.5)     | 0.4 (0.5)     | 0.4 (0.5)     | NA    |\n",
       "| Mclust4_2      | Median (IQR) | 0.0 (0.0-1.0) | 0.0 (0.0-1.0) | 0.0 (0.0-1.0) | 0.454 |\n",
       "| Mclust4_3      | Mean (SD)    | 0.3 (0.5)     | 0.3 (0.5)     | 0.3 (0.5)     | NA    |\n",
       "| Mclust4_3      | Median (IQR) | 0.0 (0.0-1.0) | 0.0 (0.0-1.0) | 0.0 (0.0-1.0) | 0.77  |\n",
       "| Mclust4_4      | Mean (SD)    | 0.1 (0.3)     | 0.1 (0.3)     | 0.1 (0.3)     | NA    |\n",
       "| Mclust4_4      | Median (IQR) | 0.0 (0.0-0.0) | 0.0 (0.0-0.0) | 0.0 (0.0-0.0) | 0.146 |\n",
       "| traintest_ind_ | Mean (SD)    | 1.4 (0.5)     | NA            | NA            | NA    |\n",
       "| traintest_ind_ | Median (IQR) | 1.0 (1.0-2.0) | NA            | NA            | 0     |\n",
       "\n"
      ],
      "text/plain": [
       "    V1             V2           Pop                 1                  \n",
       "1   Individuals    n            2184                1310               \n",
       "2   NoShow         Mean (SD)    0.1 (0.3)           0.1 (0.3)          \n",
       "3   NoShow         Median (IQR) 0.0 (0.0-0.0)       0.0 (0.0-0.0)      \n",
       "4   sunday         Mean (SD)    0.0 (0.2)           0.0 (0.2)          \n",
       "5   sunday         Median (IQR) 0.0 (0.0-0.0)       0.0 (0.0-0.0)      \n",
       "6   monday         Mean (SD)    0.0 (0.0)           0.0 (0.0)          \n",
       "7   monday         Median (IQR) 0.0 (0.0-0.0)       0.0 (0.0-0.0)      \n",
       "8   saturday       Mean (SD)    0.2 (0.4)           0.2 (0.4)          \n",
       "9   saturday       Median (IQR) 0.0 (0.0-0.0)       0.0 (0.0-0.0)      \n",
       "10  time_booked    Mean (SD)    804.7 (175.8)       803.9 (174.4)      \n",
       "11  time_booked    Median (IQR) 790.0 (660.0-960.0) 790.0 (660.0-950.0)\n",
       "12  service_CAL    Mean (SD)    0.0 (0.1)           0.0 (0.1)          \n",
       "13  service_CAL    Median (IQR) 0.0 (0.0-0.0)       0.0 (0.0-0.0)      \n",
       "14  service_CALC   Mean (SD)    0.0 (0.1)           0.0 (0.1)          \n",
       "15  service_CALC   Median (IQR) 0.0 (0.0-0.0)       0.0 (0.0-0.0)      \n",
       "16  service_CAS    Mean (SD)    0.0 (0.0)           0.0 (0.0)          \n",
       "17  service_CAS    Median (IQR) 0.0 (0.0-0.0)       0.0 (0.0-0.0)      \n",
       "18  service_CBAL   Mean (SD)    0.0 (0.1)           0.0 (0.1)          \n",
       "19  service_CBAL   Median (IQR) 0.0 (0.0-0.0)       0.0 (0.0-0.0)      \n",
       "20  service_CCAMO  Mean (SD)    0.0 (0.1)           0.0 (0.1)          \n",
       "21  service_CCAMO  Median (IQR) 0.0 (0.0-0.0)       0.0 (0.0-0.0)      \n",
       "22  service_CCO    Mean (SD)    0.0 (0.0)           0.0 (0.0)          \n",
       "23  service_CCO    Median (IQR) 0.0 (0.0-0.0)       0.0 (0.0-0.0)      \n",
       "24  service_CDPB   Mean (SD)    0.0 (0.1)           0.0 (0.1)          \n",
       "25  service_CDPB   Median (IQR) 0.0 (0.0-0.0)       0.0 (0.0-0.0)      \n",
       "26  service_CFC    Mean (SD)    0.0 (0.2)           0.0 (0.2)          \n",
       "27  service_CFC    Median (IQR) 0.0 (0.0-0.0)       0.0 (0.0-0.0)      \n",
       "28  service_CHLFH  Mean (SD)    0.0 (0.1)           0.0 (0.1)          \n",
       "29  service_CHLFH  Median (IQR) 0.0 (0.0-0.0)       0.0 (0.0-0.0)      \n",
       "30  service_CHLFHC Mean (SD)    0.0 (0.0)           0.0 (0.0)          \n",
       "... ...            ...          ...                 ...                \n",
       "88  amount         Mean (SD)    4.0 (1.4)           4.0 (1.4)          \n",
       "89  amount         Median (IQR) 4.3 (3.9-4.7)       4.3 (3.9-4.7)      \n",
       "90  avg_receipt_4  Mean (SD)    0.2 (0.4)           0.2 (0.4)          \n",
       "91  avg_receipt_4  Median (IQR) 0.0 (0.0-0.0)       0.0 (0.0-0.0)      \n",
       "92  avg_receipt_5  Mean (SD)    0.0 (0.2)           0.0 (0.2)          \n",
       "93  avg_receipt_5  Median (IQR) 0.0 (0.0-0.0)       0.0 (0.0-0.0)      \n",
       "94  avg_quantity_5 Mean (SD)    0.0 (0.1)           0.0 (0.1)          \n",
       "95  avg_quantity_5 Median (IQR) 0.0 (0.0-0.0)       0.0 (0.0-0.0)      \n",
       "96  total_cancel12 Mean (SD)    0.5 (0.9)           0.5 (0.9)          \n",
       "97  total_cancel12 Median (IQR) 0.0 (0.0-1.0)       0.0 (0.0-1.0)      \n",
       "98  hclust3_1      Mean (SD)    0.4 (0.5)           0.4 (0.5)          \n",
       "99  hclust3_1      Median (IQR) 0.0 (0.0-1.0)       0.0 (0.0-1.0)      \n",
       "100 hclust4_4      Mean (SD)    0.2 (0.4)           0.2 (0.4)          \n",
       "101 hclust4_4      Median (IQR) 0.0 (0.0-0.0)       0.0 (0.0-0.0)      \n",
       "102 Mclust3_1      Mean (SD)    0.2 (0.4)           0.2 (0.4)          \n",
       "103 Mclust3_1      Median (IQR) 0.0 (0.0-0.0)       0.0 (0.0-0.0)      \n",
       "104 Mclust3_2      Mean (SD)    0.7 (0.5)           0.7 (0.5)          \n",
       "105 Mclust3_2      Median (IQR) 1.0 (0.0-1.0)       1.0 (0.0-1.0)      \n",
       "106 Mclust3_3      Mean (SD)    0.1 (0.3)           0.1 (0.3)          \n",
       "107 Mclust3_3      Median (IQR) 0.0 (0.0-0.0)       0.0 (0.0-0.0)      \n",
       "108 Mclust4_1      Mean (SD)    0.2 (0.4)           0.2 (0.4)          \n",
       "109 Mclust4_1      Median (IQR) 0.0 (0.0-0.0)       0.0 (0.0-0.0)      \n",
       "110 Mclust4_2      Mean (SD)    0.4 (0.5)           0.4 (0.5)          \n",
       "111 Mclust4_2      Median (IQR) 0.0 (0.0-1.0)       0.0 (0.0-1.0)      \n",
       "112 Mclust4_3      Mean (SD)    0.3 (0.5)           0.3 (0.5)          \n",
       "113 Mclust4_3      Median (IQR) 0.0 (0.0-1.0)       0.0 (0.0-1.0)      \n",
       "114 Mclust4_4      Mean (SD)    0.1 (0.3)           0.1 (0.3)          \n",
       "115 Mclust4_4      Median (IQR) 0.0 (0.0-0.0)       0.0 (0.0-0.0)      \n",
       "116 traintest_ind_ Mean (SD)    1.4 (0.5)           NA                 \n",
       "117 traintest_ind_ Median (IQR) 1.0 (1.0-2.0)       NA                 \n",
       "    2                   pval \n",
       "1   874                 NA   \n",
       "2   0.1 (0.3)           NA   \n",
       "3   0.0 (0.0-0.0)       0.22 \n",
       "4   0.0 (0.2)           NA   \n",
       "5   0.0 (0.0-0.0)       0.614\n",
       "6   0.0 (0.0)           NA   \n",
       "7   0.0 (0.0-0.0)       0.318\n",
       "8   0.2 (0.4)           NA   \n",
       "9   0.0 (0.0-0.0)       0.269\n",
       "10  805.9 (178.0)       NA   \n",
       "11  800.0 (660.0-960.0) 0.794\n",
       "12  0.0 (0.0)           NA   \n",
       "13  0.0 (0.0-0.0)       0.731\n",
       "14  0.0 (0.1)           NA   \n",
       "15  0.0 (0.0-0.0)       0.312\n",
       "16  0.0 (0.0)           NA   \n",
       "17  0.0 (0.0-0.0)       0.318\n",
       "18  0.0 (0.1)           NA   \n",
       "19  0.0 (0.0-0.0)       0.568\n",
       "20  0.0 (0.1)           NA   \n",
       "21  0.0 (0.0-0.0)       0.194\n",
       "22  0.0 (0.0)           NA   \n",
       "23  0.0 (0.0-0.0)       0.157\n",
       "24  0.0 (0.1)           NA   \n",
       "25  0.0 (0.0-0.0)       0.463\n",
       "26  0.0 (0.2)           NA   \n",
       "27  0.0 (0.0-0.0)       0.248\n",
       "28  0.0 (0.1)           NA   \n",
       "29  0.0 (0.0-0.0)       0.22 \n",
       "30  0.0 (0.0)           NA   \n",
       "... ...                 ...  \n",
       "88  4.0 (1.4)           NA   \n",
       "89  4.1 (3.7-4.7)       0.457\n",
       "90  0.2 (0.4)           NA   \n",
       "91  0.0 (0.0-0.0)       0.074\n",
       "92  0.0 (0.2)           NA   \n",
       "93  0.0 (0.0-0.0)       0.109\n",
       "94  0.0 (0.0)           NA   \n",
       "95  0.0 (0.0-0.0)       0.102\n",
       "96  0.5 (0.9)           NA   \n",
       "97  0.0 (0.0-1.0)       0.314\n",
       "98  0.4 (0.5)           NA   \n",
       "99  0.0 (0.0-1.0)       0.753\n",
       "100 0.2 (0.4)           NA   \n",
       "101 0.0 (0.0-0.0)       0.443\n",
       "102 0.2 (0.4)           NA   \n",
       "103 0.0 (0.0-0.0)       0.959\n",
       "104 0.7 (0.5)           NA   \n",
       "105 1.0 (0.0-1.0)       0.294\n",
       "106 0.1 (0.3)           NA   \n",
       "107 0.0 (0.0-0.0)       0.146\n",
       "108 0.2 (0.4)           NA   \n",
       "109 0.0 (0.0-0.0)       0.959\n",
       "110 0.4 (0.5)           NA   \n",
       "111 0.0 (0.0-1.0)       0.454\n",
       "112 0.3 (0.5)           NA   \n",
       "113 0.0 (0.0-1.0)       0.77 \n",
       "114 0.1 (0.3)           NA   \n",
       "115 0.0 (0.0-0.0)       0.146\n",
       "116 NA                  NA   \n",
       "117 NA                  0    "
      ]
     },
     "metadata": {},
     "output_type": "display_data"
    }
   ],
   "source": [
    "tab2"
   ]
  },
  {
   "cell_type": "code",
   "execution_count": 19,
   "metadata": {},
   "outputs": [],
   "source": [
    "write.csv(test2,\"C:\\\\Users\\\\Mayer\\\\Documents\\\\DataScience\\\\project\\\\Noshows\\\\NoShowTest2.csv\",row.names = FALSE)"
   ]
  },
  {
   "cell_type": "code",
   "execution_count": 20,
   "metadata": {},
   "outputs": [
    {
     "name": "stderr",
     "output_type": "stream",
     "text": [
      "Warning message:\n",
      "\"glm.fit: fitted probabilities numerically 0 or 1 occurred\"\n",
      "Warning message in predict.lm(object, newdata, se.fit, scale = 1, type = if (type == :\n",
      "\"prediction from a rank-deficient fit may be misleading\"\n"
     ]
    },
    {
     "data": {
      "text/plain": [
       "    obs\n",
       "pred    0    1\n",
       "   0 1176   48\n",
       "   1   24   62"
      ]
     },
     "metadata": {},
     "output_type": "display_data"
    },
    {
     "name": "stderr",
     "output_type": "stream",
     "text": [
      "Warning message in predict.lm(object, newdata, se.fit, scale = 1, type = if (type == :\n",
      "\"prediction from a rank-deficient fit may be misleading\"\n"
     ]
    },
    {
     "data": {
      "text/plain": [
       "    obs\n",
       "pred   0   1\n",
       "   0 787  38\n",
       "   1  26  23"
      ]
     },
     "metadata": {},
     "output_type": "display_data"
    }
   ],
   "source": [
    "# checking the spliting before Cross Validation\n",
    "glmmod4 <- glm(NoShow ~., data=train2,family='binomial')\n",
    "pred <- ifelse(predict(glmmod4, newdata=train2,type='response')>=0.5,1,0)\n",
    "table(pred=pred, obs =train2$NoShow)\n",
    "table(pred=ifelse(predict(glmmod4, newdata=test2,type='response')>=0.5,1,0), obs =test2$NoShow)"
   ]
  },
  {
   "cell_type": "code",
   "execution_count": 141,
   "metadata": {},
   "outputs": [],
   "source": [
    "#threshold <- 0.05\n",
    " # signif_form <-\n",
    "  #  as.formula(paste(\"NoShow ~ \",\n",
    "   # paste(names(which((summary(glmmod)$coefficients[2:(nrow(summary(glmmod)$coefficients)), 4] < threshold) == TRUE)),\n",
    "    #collapse = \"+\")))\n",
    " # linear_model <- glm(signif_form, data = data)\n",
    "  #summary(linear_model)"
   ]
  },
  {
   "cell_type": "code",
   "execution_count": 55,
   "metadata": {},
   "outputs": [
    {
     "name": "stderr",
     "output_type": "stream",
     "text": [
      "Warning message:\n",
      "\"package 'ggplot2' was built under R version 3.6.3\"\n"
     ]
    }
   ],
   "source": [
    "library(ggplot2)"
   ]
  },
  {
   "cell_type": "code",
   "execution_count": 59,
   "metadata": {},
   "outputs": [],
   "source": [
    "#library(GGally)\n",
    "#pairs <-ggpairs(data[,2:64])\n",
    "#options(repr.plot.width = 40, repr.plot.height = 40)\n"
   ]
  },
  {
   "cell_type": "code",
   "execution_count": 149,
   "metadata": {},
   "outputs": [],
   "source": [
    "#pairs$plots"
   ]
  },
  {
   "cell_type": "code",
   "execution_count": 150,
   "metadata": {},
   "outputs": [],
   "source": [
    "#summary(lmmod)$coefficients[2:(nrow(summary(lmmod)$coefficients)),4]"
   ]
  },
  {
   "cell_type": "markdown",
   "metadata": {},
   "source": [
    "# Dataset Inbalance"
   ]
  },
  {
   "cell_type": "code",
   "execution_count": 84,
   "metadata": {},
   "outputs": [],
   "source": [
    "if(!require(imbalance)){install.packages(\"imbalance\");require(imbalance)}\n",
    "### ROSE = Random Over-Sampling Examples\n",
    "if(!require(ROSE)){install.packages(\"ROSE\");require(ROSE)}\n"
   ]
  },
  {
   "cell_type": "code",
   "execution_count": 85,
   "metadata": {},
   "outputs": [
    {
     "data": {
      "text/plain": [
       "\n",
       "   0    1 \n",
       "1200  110 "
      ]
     },
     "metadata": {},
     "output_type": "display_data"
    },
    {
     "data": {
      "text/plain": [
       "\n",
       "        0         1 \n",
       "91.603053  8.396947 "
      ]
     },
     "metadata": {},
     "output_type": "display_data"
    }
   ],
   "source": [
    "table(train$NoShow)\n",
    "table(train$NoShow)/nrow(train)*100"
   ]
  },
  {
   "cell_type": "code",
   "execution_count": 87,
   "metadata": {},
   "outputs": [
    {
     "data": {
      "text/html": [
       "<table>\n",
       "<caption>A matrix: 1 × 3 of type int</caption>\n",
       "<thead>\n",
       "\t<tr><th scope=col>numZero</th><th scope=col>numOne</th><th scope=col>nInstances</th></tr>\n",
       "</thead>\n",
       "<tbody>\n",
       "\t<tr><td>1200</td><td>110</td><td>1090</td></tr>\n",
       "</tbody>\n",
       "</table>\n"
      ],
      "text/latex": [
       "A matrix: 1 × 3 of type int\n",
       "\\begin{tabular}{lll}\n",
       " numZero & numOne & nInstances\\\\\n",
       "\\hline\n",
       "\t 1200 & 110 & 1090\\\\\n",
       "\\end{tabular}\n"
      ],
      "text/markdown": [
       "\n",
       "A matrix: 1 × 3 of type int\n",
       "\n",
       "| numZero | numOne | nInstances |\n",
       "|---|---|---|\n",
       "| 1200 | 110 | 1090 |\n",
       "\n"
      ],
      "text/plain": [
       "     numZero numOne nInstances\n",
       "[1,] 1200    110    1090      "
      ]
     },
     "metadata": {},
     "output_type": "display_data"
    }
   ],
   "source": [
    "numZero <- length(which(train$NoShow == 0))\n",
    "numOne <- length(which(train$NoShow == 1))\n",
    "nInstances <- numZero - numOne\n",
    "cbind(numZero=numZero,numOne=numOne,nInstances=nInstances)"
   ]
  },
  {
   "cell_type": "markdown",
   "metadata": {},
   "source": [
    "## I want to check all imbalance sampling techniques to choose the beter one"
   ]
  },
  {
   "cell_type": "markdown",
   "metadata": {},
   "source": [
    "## Under Sampling\n",
    " \n",
    "This techniques uses all the rows containing the minority class and select randomly the same number of minority class for the rows with the majority class "
   ]
  },
  {
   "cell_type": "code",
   "execution_count": 88,
   "metadata": {},
   "outputs": [
    {
     "data": {
      "text/plain": [
       "\n",
       "  0   1 \n",
       "110 110 "
      ]
     },
     "metadata": {},
     "output_type": "display_data"
    }
   ],
   "source": [
    "data_balanced_under <- ovun.sample(NoShow ~ ., data = train, method = \"under\",N = numOne*2)$data\n",
    "table(data_balanced_under$NoShow)"
   ]
  },
  {
   "cell_type": "markdown",
   "metadata": {},
   "source": [
    "## Over Sampling\n",
    " \n",
    "Over sampling takes the number of rows of the mayority class and repeat the rows of the minority class up to the same number of the mayority class. The repeated rows are selected randomly."
   ]
  },
  {
   "cell_type": "code",
   "execution_count": 89,
   "metadata": {},
   "outputs": [
    {
     "data": {
      "text/plain": [
       "\n",
       "   0    1 \n",
       "1200 1200 "
      ]
     },
     "metadata": {},
     "output_type": "display_data"
    }
   ],
   "source": [
    "#over sampling\n",
    "data_balanced_over <- ovun.sample(NoShow ~ ., data = train, method = \"over\",N = numZero*2)$data\n",
    "table(data_balanced_over$NoShow)"
   ]
  },
  {
   "cell_type": "markdown",
   "metadata": {},
   "source": [
    "## Over-Under Sampling\n",
    " \n",
    "In this technique we randomly select half of the majority class rows (under sampling) and increment the minority class rows by selecting them randomly.   "
   ]
  },
  {
   "cell_type": "code",
   "execution_count": 90,
   "metadata": {},
   "outputs": [
    {
     "data": {
      "text/plain": [
       "\n",
       "  0   1 \n",
       "628 572 "
      ]
     },
     "metadata": {},
     "output_type": "display_data"
    }
   ],
   "source": [
    "#over_under sampling\n",
    "data_balanced_both <- ovun.sample(NoShow ~ ., data = train, method = \"both\", p=0.5,N = 1200, seed = 1)$data\n",
    "table(data_balanced_both$NoShow)"
   ]
  },
  {
   "cell_type": "markdown",
   "metadata": {},
   "source": [
    "## ROSE (Random Over-Sampling Examples) \n",
    " \n",
    "Creates a sample of synthetic data by enlarging the features space of minority and majority class examples. ROSE selects an observation belonging to the class k and generates new examples in its neighbourhood"
   ]
  },
  {
   "cell_type": "code",
   "execution_count": 91,
   "metadata": {},
   "outputs": [
    {
     "data": {
      "text/plain": [
       "\n",
       "  0   1 \n",
       "685 625 "
      ]
     },
     "metadata": {},
     "output_type": "display_data"
    }
   ],
   "source": [
    "# Rose: \n",
    "data.rose <- ROSE(NoShow ~ ., data = train, seed = 1)$data\n",
    "table(data.rose$NoShow)"
   ]
  },
  {
   "cell_type": "markdown",
   "metadata": {},
   "source": [
    "## Oversampling with Synthetic data\n",
    " \n",
    "Additionally to ROSE. The package 'inbalance' has the function pdfos. This function generates synthetic minority examples for a numerical dataset approximating a Gaussian multivariate distribution."
   ]
  },
  {
   "cell_type": "code",
   "execution_count": 100,
   "metadata": {},
   "outputs": [],
   "source": [
    "#newSamples <- pdfos(dataset = train, numInstances = nInstances,classAttr = \"NoShow\")\n",
    "#newDataset <- rbind(train, newSamples)\n",
    "#table(newDataset$NoShow)"
   ]
  },
  {
   "cell_type": "code",
   "execution_count": 99,
   "metadata": {},
   "outputs": [],
   "source": [
    "#data.smote <- SMOTE(NoShow ~ ., data = train, perc.over = 200, k = 5, perc.under = 200)\n",
    "#table(data.smote$NoShow)"
   ]
  },
  {
   "cell_type": "markdown",
   "metadata": {},
   "source": [
    "## Models"
   ]
  },
  {
   "cell_type": "code",
   "execution_count": 101,
   "metadata": {},
   "outputs": [
    {
     "name": "stderr",
     "output_type": "stream",
     "text": [
      "Warning message:\n",
      "\"glm.fit: algorithm did not converge\"\n",
      "Warning message:\n",
      "\"glm.fit: fitted probabilities numerically 0 or 1 occurred\"\n",
      "Warning message in predict.lm(object, newdata, se.fit, scale = 1, type = if (type == :\n",
      "\"prediction from a rank-deficient fit may be misleading\"\n"
     ]
    },
    {
     "data": {
      "text/plain": [
       "    obs\n",
       "pred    0    1\n",
       "   0 1200    0\n",
       "   1    0  110"
      ]
     },
     "metadata": {},
     "output_type": "display_data"
    }
   ],
   "source": [
    "mod1 <- glm(NoShow ~., family='binomial', data=train)\n",
    "pred1 <- ifelse(predict(mod1, newdata=train,type='response')>=0.5,1,0)\n",
    "table(pred=pred1, obs =train$NoShow)"
   ]
  },
  {
   "cell_type": "code",
   "execution_count": 108,
   "metadata": {},
   "outputs": [
    {
     "name": "stderr",
     "output_type": "stream",
     "text": [
      "Warning message:\n",
      "\"glm.fit: algorithm did not converge\"\n",
      "Warning message:\n",
      "\"glm.fit: fitted probabilities numerically 0 or 1 occurred\"\n",
      "Warning message in predict.lm(object, newdata, se.fit, scale = 1, type = if (type == :\n",
      "\"prediction from a rank-deficient fit may be misleading\"\n"
     ]
    },
    {
     "data": {
      "text/plain": [
       "    obs\n",
       "pred   0   1\n",
       "   0 110   0\n",
       "   1   0 110"
      ]
     },
     "metadata": {},
     "output_type": "display_data"
    },
    {
     "name": "stderr",
     "output_type": "stream",
     "text": [
      "Warning message in predict.lm(object, newdata, se.fit, scale = 1, type = if (type == :\n",
      "\"prediction from a rank-deficient fit may be misleading\"\n"
     ]
    },
    {
     "data": {
      "text/plain": [
       "    obs\n",
       "pred    0    1\n",
       "   0 1190    0\n",
       "   1   10  110"
      ]
     },
     "metadata": {},
     "output_type": "display_data"
    }
   ],
   "source": [
    "mod2 <- glm(NoShow ~., family='binomial', data=data_balanced_under)\n",
    "pred2 <- ifelse(predict(mod2, newdata=data_balanced_under,type='response')>=0.5,1,0)\n",
    "table(pred=pred2, obs =data_balanced_under$NoShow)\n",
    "table(pred=ifelse(predict(mod2, newdata=train,type='response')>=0.5,1,0), obs =train$NoShow)"
   ]
  },
  {
   "cell_type": "raw",
   "metadata": {},
   "source": [
    "# checking for variables with levels<2\n",
    "l1 <- c()\n",
    "for (v in names(data_balanced_under)){\n",
    "    if (length(unique(data_balanced_under[[v]]))==1){\n",
    "        l1<- c(l1,v)\n",
    "    }\n",
    "}\n",
    "names(data_balanced_under[ , names(data_balanced_under) %in% l1])\n"
   ]
  },
  {
   "cell_type": "code",
   "execution_count": 104,
   "metadata": {},
   "outputs": [
    {
     "name": "stderr",
     "output_type": "stream",
     "text": [
      "Warning message:\n",
      "\"glm.fit: algorithm did not converge\"\n",
      "Warning message:\n",
      "\"glm.fit: fitted probabilities numerically 0 or 1 occurred\"\n",
      "Warning message in predict.lm(object, newdata, se.fit, scale = 1, type = if (type == :\n",
      "\"prediction from a rank-deficient fit may be misleading\"\n"
     ]
    },
    {
     "data": {
      "text/plain": [
       "    obs\n",
       "pred    0    1\n",
       "   0 1200    0\n",
       "   1    0 1200"
      ]
     },
     "metadata": {},
     "output_type": "display_data"
    },
    {
     "name": "stderr",
     "output_type": "stream",
     "text": [
      "Warning message in predict.lm(object, newdata, se.fit, scale = 1, type = if (type == :\n",
      "\"prediction from a rank-deficient fit may be misleading\"\n"
     ]
    },
    {
     "data": {
      "text/plain": [
       "    obs\n",
       "pred    0    1\n",
       "   0 1200    0\n",
       "   1    0  110"
      ]
     },
     "metadata": {},
     "output_type": "display_data"
    }
   ],
   "source": [
    "mod3 <- glm(NoShow ~., family='binomial', data=data_balanced_over)\n",
    "pred3 <- ifelse(predict(mod3, newdata=data_balanced_over,type='response')>=0.5,1,0)\n",
    "table(pred=pred3, obs =data_balanced_over$NoShow)\n",
    "table(pred=ifelse(predict(mod3, newdata=train,type='response')>=0.5,1,0), obs =train$NoShow)"
   ]
  },
  {
   "cell_type": "code",
   "execution_count": 105,
   "metadata": {},
   "outputs": [
    {
     "name": "stderr",
     "output_type": "stream",
     "text": [
      "Warning message:\n",
      "\"glm.fit: algorithm did not converge\"\n",
      "Warning message:\n",
      "\"glm.fit: fitted probabilities numerically 0 or 1 occurred\"\n",
      "Warning message in predict.lm(object, newdata, se.fit, scale = 1, type = if (type == :\n",
      "\"prediction from a rank-deficient fit may be misleading\"\n"
     ]
    },
    {
     "data": {
      "text/plain": [
       "    obs\n",
       "pred   0   1\n",
       "   0 628   0\n",
       "   1   0 572"
      ]
     },
     "metadata": {},
     "output_type": "display_data"
    },
    {
     "name": "stderr",
     "output_type": "stream",
     "text": [
      "Warning message in predict.lm(object, newdata, se.fit, scale = 1, type = if (type == :\n",
      "\"prediction from a rank-deficient fit may be misleading\"\n"
     ]
    },
    {
     "data": {
      "text/plain": [
       "    obs\n",
       "pred    0    1\n",
       "   0 1198    0\n",
       "   1    2  110"
      ]
     },
     "metadata": {},
     "output_type": "display_data"
    }
   ],
   "source": [
    "mod4 <- glm(NoShow ~., family='binomial', data=data_balanced_both)\n",
    "pred4 <- ifelse(predict(mod4, newdata=data_balanced_both,type='response')>=0.5,1,0)\n",
    "table(pred=pred4, obs =data_balanced_both$NoShow)\n",
    "table(pred=ifelse(predict(mod4, newdata=train,type='response')>=0.5,1,0), obs =train$NoShow)"
   ]
  },
  {
   "cell_type": "code",
   "execution_count": 109,
   "metadata": {},
   "outputs": [
    {
     "name": "stderr",
     "output_type": "stream",
     "text": [
      "Warning message:\n",
      "\"glm.fit: algorithm did not converge\"\n",
      "Warning message:\n",
      "\"glm.fit: fitted probabilities numerically 0 or 1 occurred\"\n",
      "Warning message in predict.lm(object, newdata, se.fit, scale = 1, type = if (type == :\n",
      "\"prediction from a rank-deficient fit may be misleading\"\n"
     ]
    },
    {
     "data": {
      "text/plain": [
       "    obs\n",
       "pred   0   1\n",
       "   0 685   0\n",
       "   1   0 625"
      ]
     },
     "metadata": {},
     "output_type": "display_data"
    },
    {
     "name": "stderr",
     "output_type": "stream",
     "text": [
      "Warning message in predict.lm(object, newdata, se.fit, scale = 1, type = if (type == :\n",
      "\"prediction from a rank-deficient fit may be misleading\"\n"
     ]
    },
    {
     "data": {
      "text/plain": [
       "    obs\n",
       "pred    0    1\n",
       "   0 1176    0\n",
       "   1   24  110"
      ]
     },
     "metadata": {},
     "output_type": "display_data"
    }
   ],
   "source": [
    "mod5 <- glm(NoShow ~., family='binomial', data=data.rose)\n",
    "pred5 <- ifelse(predict(mod5, newdata=data.rose,type='response')>=0.5,1,0)\n",
    "table(pred=pred5, obs =data.rose$NoShow)\n",
    "table(pred=ifelse(predict(mod5, newdata=train,type='response')>=0.5,1,0), obs =train$NoShow)"
   ]
  },
  {
   "cell_type": "markdown",
   "metadata": {},
   "source": [
    "-.-.-.-.-.-.-.-.-.-.-.-.-.-.-.-.-.-.-.-.-.-.-.-.-.-.-.-.-.-.-.-.-.-.-.-.-.-.-.-.-.-.-.--.-.-.-.-.-.-.-.-.-.-.-.-.-.-.-.-.-.-.-.-.-.-.-.-.-.-.-.-.-.-.\n",
    "## The result of over sampling is the best, I will use this method\n",
    "-.-.-.-.-.-.-.-.-.-.-.-.-.-.-.-.-.-.-.-.-.-.-.-.-.-.-.-.-.-.-.-.-.-.-.-.-.-.-.-.-.-.-.--.-.-.-.-.-.-.-.-.-.-.-.-.-.-.-.-.-.-.-.-.-.-.-.-.-.-.-.-.-.-.\n"
   ]
  },
  {
   "cell_type": "markdown",
   "metadata": {},
   "source": [
    "   \n",
    "   "
   ]
  },
  {
   "cell_type": "markdown",
   "metadata": {},
   "source": [
    "# Cross-Validation\n",
    "\n",
    "<img src=\"https://genome.tugraz.at/proclassify/help/pages/images/xv_folds.gif\"/>\n"
   ]
  },
  {
   "cell_type": "code",
   "execution_count": 12,
   "metadata": {},
   "outputs": [
    {
     "name": "stderr",
     "output_type": "stream",
     "text": [
      "Installing package into 'C:/Users/Mayer/Documents/R/win-library/3.6'\n",
      "(as 'lib' is unspecified)\n",
      "\n"
     ]
    },
    {
     "name": "stdout",
     "output_type": "stream",
     "text": [
      "package 'caret' successfully unpacked and MD5 sums checked\n",
      "\n",
      "The downloaded binary packages are in\n",
      "\tC:\\Users\\Mayer\\AppData\\Local\\Temp\\RtmpyKJzJR\\downloaded_packages\n"
     ]
    }
   ],
   "source": [
    "#install.packages(\"caret\", dependencies = c(\"Depends\", \"Suggests\"))\n",
    "#remove.packages('caret')"
   ]
  },
  {
   "cell_type": "code",
   "execution_count": 21,
   "metadata": {},
   "outputs": [
    {
     "name": "stderr",
     "output_type": "stream",
     "text": [
      "Warning message:\n",
      "\"package 'caret' was built under R version 3.6.3\"\n",
      "Loading required package: lattice\n",
      "\n",
      "Loading required package: ggplot2\n",
      "\n",
      "Warning message:\n",
      "\"package 'ggplot2' was built under R version 3.6.3\"\n",
      "Loading required package: DMwR\n",
      "\n",
      "Warning message:\n",
      "\"package 'DMwR' was built under R version 3.6.3\"\n",
      "Loading required package: grid\n",
      "\n",
      "Registered S3 method overwritten by 'xts':\n",
      "  method     from\n",
      "  as.zoo.xts zoo \n",
      "\n",
      "Registered S3 method overwritten by 'quantmod':\n",
      "  method            from\n",
      "  as.zoo.data.frame zoo \n",
      "\n",
      "\n",
      "Attaching package: 'dplyr'\n",
      "\n",
      "\n",
      "The following objects are masked from 'package:stats':\n",
      "\n",
      "    filter, lag\n",
      "\n",
      "\n",
      "The following objects are masked from 'package:base':\n",
      "\n",
      "    intersect, setdiff, setequal, union\n",
      "\n",
      "\n",
      "Loading required package: MLeval\n",
      "\n",
      "Warning message:\n",
      "\"package 'MLeval' was built under R version 3.6.3\"\n"
     ]
    }
   ],
   "source": [
    "library('caret')\n",
    "if(!require(DMwR)) {install.packages(\"DMwR\");require(DMwR)}\n",
    "library(dplyr)\n",
    "if(!require(MLeval)) {install.packages(\"MLeval\");require(MLeval)}"
   ]
  },
  {
   "cell_type": "code",
   "execution_count": 14,
   "metadata": {},
   "outputs": [],
   "source": [
    "#install.packages('recipes')\n",
    "#install.packages('ModelMetrics')"
   ]
  },
  {
   "cell_type": "code",
   "execution_count": 22,
   "metadata": {},
   "outputs": [],
   "source": [
    "set.seed(1065)\n",
    "seeds <- vector(mode = \"list\", length = 51)\n",
    "for(i in 1:50) seeds[[i]] <- sample.int(1000, 22)\n",
    "\n",
    "## For the last model:\n",
    "seeds[[51]] <- sample.int(1000, 1)"
   ]
  },
  {
   "cell_type": "code",
   "execution_count": 23,
   "metadata": {},
   "outputs": [
    {
     "data": {
      "text/html": [],
      "text/latex": [],
      "text/markdown": [],
      "text/plain": [
       "character(0)"
      ]
     },
     "metadata": {},
     "output_type": "display_data"
    }
   ],
   "source": [
    "# checking for variables with less then 1  level\n",
    "l <- sapply(train2, function(x) is.factor(x))\n",
    "m <- train2[, l]\n",
    "n <- ifelse( sapply(m, function(x) length(levels(x))) == 1, \"DROP\", \"NODROP\")\n",
    "n<-as.data.frame(n)\n",
    "dv <- n %>% tibble::rownames_to_column() %>% filter (n=='DROP')\n",
    "(dv <- dv$rowname)"
   ]
  },
  {
   "cell_type": "code",
   "execution_count": 75,
   "metadata": {},
   "outputs": [],
   "source": [
    "#vn <- setdiff(names(temp),dv)\n",
    "#temp2 <- temp[,vn]\n",
    "#head(temp2)"
   ]
  },
  {
   "cell_type": "code",
   "execution_count": 24,
   "metadata": {},
   "outputs": [
    {
     "name": "stdout",
     "output_type": "stream",
     "text": [
      " Factor w/ 2 levels \"Show\",\"NoShow\": 1 1 1 1 2 1 1 1 1 2 ...\n"
     ]
    }
   ],
   "source": [
    "train3 <- train2\n",
    "train3$NoShow <- factor(train3$NoShow)\n",
    "levels(train3$NoShow) <- c(\"Show\", \"NoShow\")\n",
    "str(train3$NoShow)\n",
    "\n",
    "# change the labels of the factor levels\n",
    "#train2  %>% \n",
    " # mutate(NoShow = factor(NoShow, \n",
    "  #        labels = make.names(levels(NoShow))))"
   ]
  },
  {
   "cell_type": "code",
   "execution_count": 25,
   "metadata": {},
   "outputs": [
    {
     "name": "stderr",
     "output_type": "stream",
     "text": [
      "Loaded ROSE 0.0-3\n",
      "\n",
      "\n"
     ]
    }
   ],
   "source": [
    "# define training control\n",
    "# Samplig is used to resolve class imbalances\n",
    "train_control <- caret::trainControl(method = \"repeatedcv\", repeats = 5, seeds=seeds,classProbs = TRUE, summaryFunction = twoClassSummary) # no sampling\n",
    "train_control_down <- caret::trainControl(method = \"repeatedcv\", repeats = 5, seeds=seeds,sampling='down',classProbs = TRUE, summaryFunction = twoClassSummary)\n",
    "train_control_up <- caret::trainControl(method = \"repeatedcv\", repeats = 5, seeds=seeds,sampling='up',classProbs = TRUE, summaryFunction = twoClassSummary)\n",
    "train_control_rose <- caret::trainControl(method = \"repeatedcv\", repeats = 5, seeds=seeds,sampling='rose',classProbs = TRUE, summaryFunction = twoClassSummary)\n",
    "train_control_smote <- caret::trainControl(method = \"repeatedcv\", repeats = 5, seeds=seeds,sampling='smote',classProbs = TRUE, summaryFunction = twoClassSummary)\n",
    "# train the model\n",
    "model <- train(NoShow~., data=train3, trControl=train_control, method=\"ranger\", metric='ROC')\n",
    "model_down <- train(NoShow~., data=train3, trControl=train_control_down, method=\"ranger\", metric='ROC')\n",
    "model_up <- train(NoShow~., data=train3, trControl=train_control_up, method=\"ranger\", metric='ROC')\n",
    "model_rose <- train(NoShow~., data=train3, trControl=train_control_rose, method=\"ranger\", metric='ROC')\n",
    "model_smote <- train(NoShow~., data=train3, trControl=train_control_smote, method=\"ranger\", metric='ROC')"
   ]
  },
  {
   "cell_type": "code",
   "execution_count": 134,
   "metadata": {},
   "outputs": [],
   "source": [
    "#str(train2)"
   ]
  },
  {
   "cell_type": "code",
   "execution_count": 138,
   "metadata": {},
   "outputs": [],
   "source": [
    "#factor(train$Mclust4, levels=c(1,2,3,4))"
   ]
  },
  {
   "cell_type": "code",
   "execution_count": 44,
   "metadata": {},
   "outputs": [],
   "source": [
    "#train$hclust4 <- paste(make.names(train$hclust4),collapse = \", \")"
   ]
  },
  {
   "cell_type": "code",
   "execution_count": 141,
   "metadata": {},
   "outputs": [
    {
     "data": {
      "text/html": [
       "<dl>\n",
       "\t<dt>$label</dt>\n",
       "\t\t<dd>'Random Forest'</dd>\n",
       "\t<dt>$library</dt>\n",
       "\t\t<dd><style>\n",
       ".list-inline {list-style: none; margin:0; padding: 0}\n",
       ".list-inline>li {display: inline-block}\n",
       ".list-inline>li:not(:last-child)::after {content: \"\\00b7\"; padding: 0 .5ex}\n",
       "</style>\n",
       "<ol class=list-inline><li>'e1071'</li><li>'ranger'</li><li>'dplyr'</li></ol>\n",
       "</dd>\n",
       "\t<dt>$check</dt>\n",
       "\t\t<dd><pre class=language-r><code>function (pkg) \n",
       "{\n",
       "<span style=white-space:pre-wrap>    requireNamespace(\"ranger\")</span>\n",
       "<span style=white-space:pre-wrap>    current &lt;- packageDescription(\"ranger\")$Version</span>\n",
       "<span style=white-space:pre-wrap>    expected &lt;- \"0.8.0\"</span>\n",
       "<span style=white-space:pre-wrap>    if (compareVersion(current, expected) &lt; 0) </span>\n",
       "<span style=white-space:pre-wrap>        stop(\"This modeling workflow requires ranger version \", </span>\n",
       "<span style=white-space:pre-wrap>            expected, \"or greater.\", call. = FALSE)</span>\n",
       "}</code></pre></dd>\n",
       "\t<dt>$loop</dt>\n",
       "\t\t<dd>NULL</dd>\n",
       "\t<dt>$type</dt>\n",
       "\t\t<dd><style>\n",
       ".list-inline {list-style: none; margin:0; padding: 0}\n",
       ".list-inline>li {display: inline-block}\n",
       ".list-inline>li:not(:last-child)::after {content: \"\\00b7\"; padding: 0 .5ex}\n",
       "</style>\n",
       "<ol class=list-inline><li>'Classification'</li><li>'Regression'</li></ol>\n",
       "</dd>\n",
       "\t<dt>$parameters</dt>\n",
       "\t\t<dd><table>\n",
       "<caption>A data.frame: 3 × 3</caption>\n",
       "<thead>\n",
       "\t<tr><th scope=col>parameter</th><th scope=col>class</th><th scope=col>label</th></tr>\n",
       "\t<tr><th scope=col>&lt;fct&gt;</th><th scope=col>&lt;fct&gt;</th><th scope=col>&lt;fct&gt;</th></tr>\n",
       "</thead>\n",
       "<tbody>\n",
       "\t<tr><td>mtry         </td><td>numeric  </td><td>#Randomly Selected Predictors</td></tr>\n",
       "\t<tr><td>splitrule    </td><td>character</td><td>Splitting Rule               </td></tr>\n",
       "\t<tr><td>min.node.size</td><td>numeric  </td><td>Minimal Node Size            </td></tr>\n",
       "</tbody>\n",
       "</table>\n",
       "</dd>\n",
       "\t<dt>$grid</dt>\n",
       "\t\t<dd><pre class=language-r><code>function (x, y, len = NULL, search = \"grid\") \n",
       "{\n",
       "<span style=white-space:pre-wrap>    if (search == \"grid\") {</span>\n",
       "<span style=white-space:pre-wrap>        srule &lt;- if (is.factor(y)) </span>\n",
       "<span style=white-space:pre-wrap>            \"gini\"</span>\n",
       "<span style=white-space:pre-wrap>        else \"variance\"</span>\n",
       "<span style=white-space:pre-wrap>        out &lt;- expand.grid(mtry = caret::var_seq(p = ncol(x), </span>\n",
       "<span style=white-space:pre-wrap>            classification = is.factor(y), len = len), min.node.size = ifelse(is.factor(y), </span>\n",
       "<span style=white-space:pre-wrap>            1, 5), splitrule = c(srule, \"extratrees\"))</span>\n",
       "<span style=white-space:pre-wrap>    }</span>\n",
       "<span style=white-space:pre-wrap>    else {</span>\n",
       "<span style=white-space:pre-wrap>        srules &lt;- if (is.factor(y)) </span>\n",
       "<span style=white-space:pre-wrap>            c(\"gini\", \"extratrees\")</span>\n",
       "<span style=white-space:pre-wrap>        else c(\"variance\", \"extratrees\", \"maxstat\")</span>\n",
       "<span style=white-space:pre-wrap>        out &lt;- data.frame(min.node.size = sample(1:(min(20, nrow(x))), </span>\n",
       "<span style=white-space:pre-wrap>            size = len, replace = TRUE), mtry = sample(1:ncol(x), </span>\n",
       "<span style=white-space:pre-wrap>            size = len, replace = TRUE), splitrule = sample(srules, </span>\n",
       "<span style=white-space:pre-wrap>            size = len, replace = TRUE))</span>\n",
       "<span style=white-space:pre-wrap>    }</span>\n",
       "<span style=white-space:pre-wrap>    out</span>\n",
       "}</code></pre></dd>\n",
       "\t<dt>$fit</dt>\n",
       "\t\t<dd><pre class=language-r><code>function (x, y, wts, param, lev, last, classProbs, ...) \n",
       "{\n",
       "<span style=white-space:pre-wrap>    if ((!is.data.frame(x)) || dplyr::is.tbl(x)) </span>\n",
       "<span style=white-space:pre-wrap>        x &lt;- as.data.frame(x)</span>\n",
       "<span style=white-space:pre-wrap>    x$.outcome &lt;- y</span>\n",
       "<span style=white-space:pre-wrap>    if (!is.null(wts)) {</span>\n",
       "<span style=white-space:pre-wrap>        out &lt;- ranger::ranger(dependent.variable.name = \".outcome\", </span>\n",
       "<span style=white-space:pre-wrap>            data = x, mtry = min(param$mtry, ncol(x)), min.node.size = param$min.node.size, </span>\n",
       "<span style=white-space:pre-wrap>            splitrule = as.character(param$splitrule), write.forest = TRUE, </span>\n",
       "<span style=white-space:pre-wrap>            probability = classProbs, case.weights = wts, ...)</span>\n",
       "<span style=white-space:pre-wrap>    }</span>\n",
       "<span style=white-space:pre-wrap>    else {</span>\n",
       "<span style=white-space:pre-wrap>        out &lt;- ranger::ranger(dependent.variable.name = \".outcome\", </span>\n",
       "<span style=white-space:pre-wrap>            data = x, mtry = min(param$mtry, ncol(x)), min.node.size = param$min.node.size, </span>\n",
       "<span style=white-space:pre-wrap>            splitrule = as.character(param$splitrule), write.forest = TRUE, </span>\n",
       "<span style=white-space:pre-wrap>            probability = classProbs, ...)</span>\n",
       "<span style=white-space:pre-wrap>    }</span>\n",
       "<span style=white-space:pre-wrap>    if (!last) </span>\n",
       "<span style=white-space:pre-wrap>        out$y &lt;- y</span>\n",
       "<span style=white-space:pre-wrap>    out</span>\n",
       "}</code></pre></dd>\n",
       "\t<dt>$predict</dt>\n",
       "\t\t<dd><pre class=language-r><code>function (modelFit, newdata, submodels = NULL) \n",
       "{\n",
       "<span style=white-space:pre-wrap>    if ((!is.data.frame(newdata)) || dplyr::is.tbl(newdata)) </span>\n",
       "<span style=white-space:pre-wrap>        newdata &lt;- as.data.frame(newdata)</span>\n",
       "<span style=white-space:pre-wrap>    out &lt;- predict(modelFit, newdata)$predictions</span>\n",
       "<span style=white-space:pre-wrap>    if (!is.null(modelFit$obsLevels) &amp; modelFit$treetype == \"Probability estimation\") {</span>\n",
       "<span style=white-space:pre-wrap>        out &lt;- colnames(out)[apply(out, 1, which.max)]</span>\n",
       "<span style=white-space:pre-wrap>    }</span>\n",
       "<span style=white-space:pre-wrap>    out</span>\n",
       "}</code></pre></dd>\n",
       "\t<dt>$prob</dt>\n",
       "\t\t<dd><pre class=language-r><code>function (modelFit, newdata, submodels = NULL) \n",
       "{\n",
       "<span style=white-space:pre-wrap>    if (!is.data.frame(newdata)) </span>\n",
       "<span style=white-space:pre-wrap>        newdata &lt;- as.data.frame(newdata)</span>\n",
       "<span style=white-space:pre-wrap>    predict(modelFit, newdata)$predictions</span>\n",
       "}</code></pre></dd>\n",
       "\t<dt>$predictors</dt>\n",
       "\t\t<dd><pre class=language-r><code>function (x, ...) \n",
       "{\n",
       "<span style=white-space:pre-wrap>    var_index &lt;- sort(unique(unlist(lapply(x$forest$split.varIDs, </span>\n",
       "<span style=white-space:pre-wrap>        function(x) x))))</span>\n",
       "<span style=white-space:pre-wrap>    var_index &lt;- var_index[var_index &gt; 0]</span>\n",
       "<span style=white-space:pre-wrap>    x$forest$independent.variable.names[var_index]</span>\n",
       "}</code></pre></dd>\n",
       "\t<dt>$varImp</dt>\n",
       "\t\t<dd><pre class=language-r><code>function (object, ...) \n",
       "{\n",
       "<span style=white-space:pre-wrap>    if (length(object$variable.importance) == 0) </span>\n",
       "<span style=white-space:pre-wrap>        stop(\"No importance values available\")</span>\n",
       "<span style=white-space:pre-wrap>    imps &lt;- ranger:::importance(object)</span>\n",
       "<span style=white-space:pre-wrap>    out &lt;- data.frame(Overall = as.vector(imps))</span>\n",
       "<span style=white-space:pre-wrap>    rownames(out) &lt;- names(imps)</span>\n",
       "<span style=white-space:pre-wrap>    out</span>\n",
       "}</code></pre></dd>\n",
       "\t<dt>$levels</dt>\n",
       "\t\t<dd><pre class=language-r><code>function (x) \n",
       "{\n",
       "<span style=white-space:pre-wrap>    if (x$treetype == \"Probability estimation\") {</span>\n",
       "<span style=white-space:pre-wrap>        out &lt;- colnames(x$predictions)</span>\n",
       "<span style=white-space:pre-wrap>    }</span>\n",
       "<span style=white-space:pre-wrap>    else {</span>\n",
       "<span style=white-space:pre-wrap>        if (x$treetype == \"Classification\") {</span>\n",
       "<span style=white-space:pre-wrap>            out &lt;- levels(x$predictions)</span>\n",
       "<span style=white-space:pre-wrap>        }</span>\n",
       "<span style=white-space:pre-wrap>        else out &lt;- NULL</span>\n",
       "<span style=white-space:pre-wrap>    }</span>\n",
       "<span style=white-space:pre-wrap>    out</span>\n",
       "}</code></pre></dd>\n",
       "\t<dt>$oob</dt>\n",
       "\t\t<dd><pre class=language-r><code>function (x) \n",
       "{\n",
       "<span style=white-space:pre-wrap>    postResample(x$predictions, x$y)</span>\n",
       "}</code></pre></dd>\n",
       "\t<dt>$tags</dt>\n",
       "\t\t<dd><style>\n",
       ".list-inline {list-style: none; margin:0; padding: 0}\n",
       ".list-inline>li {display: inline-block}\n",
       ".list-inline>li:not(:last-child)::after {content: \"\\00b7\"; padding: 0 .5ex}\n",
       "</style>\n",
       "<ol class=list-inline><li>'Random Forest'</li><li>'Ensemble Model'</li><li>'Bagging'</li><li>'Implicit Feature Selection'</li><li>'Accepts Case Weights'</li></ol>\n",
       "</dd>\n",
       "\t<dt>$sort</dt>\n",
       "\t\t<dd><pre class=language-r><code>function (x) \n",
       "x[order(x[, 1]), ]</code></pre></dd>\n",
       "</dl>\n"
      ],
      "text/latex": [
       "\\begin{description}\n",
       "\\item[\\$label] 'Random Forest'\n",
       "\\item[\\$library] \\begin{enumerate*}\n",
       "\\item 'e1071'\n",
       "\\item 'ranger'\n",
       "\\item 'dplyr'\n",
       "\\end{enumerate*}\n",
       "\n",
       "\\item[\\$check] \\begin{minted}{r}\n",
       "function (pkg) \n",
       "\\{\n",
       "    requireNamespace(\"ranger\")\n",
       "    current <- packageDescription(\"ranger\")\\$Version\n",
       "    expected <- \"0.8.0\"\n",
       "    if (compareVersion(current, expected) < 0) \n",
       "        stop(\"This modeling workflow requires ranger version \", \n",
       "            expected, \"or greater.\", call. = FALSE)\n",
       "\\}\n",
       "\\end{minted}\n",
       "\\item[\\$loop] NULL\n",
       "\\item[\\$type] \\begin{enumerate*}\n",
       "\\item 'Classification'\n",
       "\\item 'Regression'\n",
       "\\end{enumerate*}\n",
       "\n",
       "\\item[\\$parameters] A data.frame: 3 × 3\n",
       "\\begin{tabular}{lll}\n",
       " parameter & class & label\\\\\n",
       " <fct> & <fct> & <fct>\\\\\n",
       "\\hline\n",
       "\t mtry          & numeric   & \\#Randomly Selected Predictors\\\\\n",
       "\t splitrule     & character & Splitting Rule               \\\\\n",
       "\t min.node.size & numeric   & Minimal Node Size            \\\\\n",
       "\\end{tabular}\n",
       "\n",
       "\\item[\\$grid] \\begin{minted}{r}\n",
       "function (x, y, len = NULL, search = \"grid\") \n",
       "\\{\n",
       "    if (search == \"grid\") \\{\n",
       "        srule <- if (is.factor(y)) \n",
       "            \"gini\"\n",
       "        else \"variance\"\n",
       "        out <- expand.grid(mtry = caret::var\\_seq(p = ncol(x), \n",
       "            classification = is.factor(y), len = len), min.node.size = ifelse(is.factor(y), \n",
       "            1, 5), splitrule = c(srule, \"extratrees\"))\n",
       "    \\}\n",
       "    else \\{\n",
       "        srules <- if (is.factor(y)) \n",
       "            c(\"gini\", \"extratrees\")\n",
       "        else c(\"variance\", \"extratrees\", \"maxstat\")\n",
       "        out <- data.frame(min.node.size = sample(1:(min(20, nrow(x))), \n",
       "            size = len, replace = TRUE), mtry = sample(1:ncol(x), \n",
       "            size = len, replace = TRUE), splitrule = sample(srules, \n",
       "            size = len, replace = TRUE))\n",
       "    \\}\n",
       "    out\n",
       "\\}\n",
       "\\end{minted}\n",
       "\\item[\\$fit] \\begin{minted}{r}\n",
       "function (x, y, wts, param, lev, last, classProbs, ...) \n",
       "\\{\n",
       "    if ((!is.data.frame(x)) \\textbar{}\\textbar{} dplyr::is.tbl(x)) \n",
       "        x <- as.data.frame(x)\n",
       "    x\\$.outcome <- y\n",
       "    if (!is.null(wts)) \\{\n",
       "        out <- ranger::ranger(dependent.variable.name = \".outcome\", \n",
       "            data = x, mtry = min(param\\$mtry, ncol(x)), min.node.size = param\\$min.node.size, \n",
       "            splitrule = as.character(param\\$splitrule), write.forest = TRUE, \n",
       "            probability = classProbs, case.weights = wts, ...)\n",
       "    \\}\n",
       "    else \\{\n",
       "        out <- ranger::ranger(dependent.variable.name = \".outcome\", \n",
       "            data = x, mtry = min(param\\$mtry, ncol(x)), min.node.size = param\\$min.node.size, \n",
       "            splitrule = as.character(param\\$splitrule), write.forest = TRUE, \n",
       "            probability = classProbs, ...)\n",
       "    \\}\n",
       "    if (!last) \n",
       "        out\\$y <- y\n",
       "    out\n",
       "\\}\n",
       "\\end{minted}\n",
       "\\item[\\$predict] \\begin{minted}{r}\n",
       "function (modelFit, newdata, submodels = NULL) \n",
       "\\{\n",
       "    if ((!is.data.frame(newdata)) \\textbar{}\\textbar{} dplyr::is.tbl(newdata)) \n",
       "        newdata <- as.data.frame(newdata)\n",
       "    out <- predict(modelFit, newdata)\\$predictions\n",
       "    if (!is.null(modelFit\\$obsLevels) \\& modelFit\\$treetype == \"Probability estimation\") \\{\n",
       "        out <- colnames(out){[}apply(out, 1, which.max){]}\n",
       "    \\}\n",
       "    out\n",
       "\\}\n",
       "\\end{minted}\n",
       "\\item[\\$prob] \\begin{minted}{r}\n",
       "function (modelFit, newdata, submodels = NULL) \n",
       "\\{\n",
       "    if (!is.data.frame(newdata)) \n",
       "        newdata <- as.data.frame(newdata)\n",
       "    predict(modelFit, newdata)\\$predictions\n",
       "\\}\n",
       "\\end{minted}\n",
       "\\item[\\$predictors] \\begin{minted}{r}\n",
       "function (x, ...) \n",
       "\\{\n",
       "    var\\_index <- sort(unique(unlist(lapply(x\\$forest\\$split.varIDs, \n",
       "        function(x) x))))\n",
       "    var\\_index <- var\\_index{[}var\\_index > 0{]}\n",
       "    x\\$forest\\$independent.variable.names{[}var\\_index{]}\n",
       "\\}\n",
       "\\end{minted}\n",
       "\\item[\\$varImp] \\begin{minted}{r}\n",
       "function (object, ...) \n",
       "\\{\n",
       "    if (length(object\\$variable.importance) == 0) \n",
       "        stop(\"No importance values available\")\n",
       "    imps <- ranger:::importance(object)\n",
       "    out <- data.frame(Overall = as.vector(imps))\n",
       "    rownames(out) <- names(imps)\n",
       "    out\n",
       "\\}\n",
       "\\end{minted}\n",
       "\\item[\\$levels] \\begin{minted}{r}\n",
       "function (x) \n",
       "\\{\n",
       "    if (x\\$treetype == \"Probability estimation\") \\{\n",
       "        out <- colnames(x\\$predictions)\n",
       "    \\}\n",
       "    else \\{\n",
       "        if (x\\$treetype == \"Classification\") \\{\n",
       "            out <- levels(x\\$predictions)\n",
       "        \\}\n",
       "        else out <- NULL\n",
       "    \\}\n",
       "    out\n",
       "\\}\n",
       "\\end{minted}\n",
       "\\item[\\$oob] \\begin{minted}{r}\n",
       "function (x) \n",
       "\\{\n",
       "    postResample(x\\$predictions, x\\$y)\n",
       "\\}\n",
       "\\end{minted}\n",
       "\\item[\\$tags] \\begin{enumerate*}\n",
       "\\item 'Random Forest'\n",
       "\\item 'Ensemble Model'\n",
       "\\item 'Bagging'\n",
       "\\item 'Implicit Feature Selection'\n",
       "\\item 'Accepts Case Weights'\n",
       "\\end{enumerate*}\n",
       "\n",
       "\\item[\\$sort] \\begin{minted}{r}\n",
       "function (x) \n",
       "x{[}order(x{[}, 1{]}), {]}\n",
       "\\end{minted}\n",
       "\\end{description}\n"
      ],
      "text/markdown": [
       "$label\n",
       ":   'Random Forest'\n",
       "$library\n",
       ":   1. 'e1071'\n",
       "2. 'ranger'\n",
       "3. 'dplyr'\n",
       "\n",
       "\n",
       "\n",
       "$check\n",
       ":   ```r\n",
       "function (pkg) \n",
       "{\n",
       "    requireNamespace(\"ranger\")\n",
       "    current <- packageDescription(\"ranger\")$Version\n",
       "    expected <- \"0.8.0\"\n",
       "    if (compareVersion(current, expected) < 0) \n",
       "        stop(\"This modeling workflow requires ranger version \", \n",
       "            expected, \"or greater.\", call. = FALSE)\n",
       "}\n",
       "```\n",
       "$loop\n",
       ":   NULL\n",
       "$type\n",
       ":   1. 'Classification'\n",
       "2. 'Regression'\n",
       "\n",
       "\n",
       "\n",
       "$parameters\n",
       ":   \n",
       "A data.frame: 3 × 3\n",
       "\n",
       "| parameter &lt;fct&gt; | class &lt;fct&gt; | label &lt;fct&gt; |\n",
       "|---|---|---|\n",
       "| mtry          | numeric   | #Randomly Selected Predictors |\n",
       "| splitrule     | character | Splitting Rule                |\n",
       "| min.node.size | numeric   | Minimal Node Size             |\n",
       "\n",
       "\n",
       "$grid\n",
       ":   ```r\n",
       "function (x, y, len = NULL, search = \"grid\") \n",
       "{\n",
       "    if (search == \"grid\") {\n",
       "        srule <- if (is.factor(y)) \n",
       "            \"gini\"\n",
       "        else \"variance\"\n",
       "        out <- expand.grid(mtry = caret::var_seq(p = ncol(x), \n",
       "            classification = is.factor(y), len = len), min.node.size = ifelse(is.factor(y), \n",
       "            1, 5), splitrule = c(srule, \"extratrees\"))\n",
       "    }\n",
       "    else {\n",
       "        srules <- if (is.factor(y)) \n",
       "            c(\"gini\", \"extratrees\")\n",
       "        else c(\"variance\", \"extratrees\", \"maxstat\")\n",
       "        out <- data.frame(min.node.size = sample(1:(min(20, nrow(x))), \n",
       "            size = len, replace = TRUE), mtry = sample(1:ncol(x), \n",
       "            size = len, replace = TRUE), splitrule = sample(srules, \n",
       "            size = len, replace = TRUE))\n",
       "    }\n",
       "    out\n",
       "}\n",
       "```\n",
       "$fit\n",
       ":   ```r\n",
       "function (x, y, wts, param, lev, last, classProbs, ...) \n",
       "{\n",
       "    if ((!is.data.frame(x)) || dplyr::is.tbl(x)) \n",
       "        x <- as.data.frame(x)\n",
       "    x$.outcome <- y\n",
       "    if (!is.null(wts)) {\n",
       "        out <- ranger::ranger(dependent.variable.name = \".outcome\", \n",
       "            data = x, mtry = min(param$mtry, ncol(x)), min.node.size = param$min.node.size, \n",
       "            splitrule = as.character(param$splitrule), write.forest = TRUE, \n",
       "            probability = classProbs, case.weights = wts, ...)\n",
       "    }\n",
       "    else {\n",
       "        out <- ranger::ranger(dependent.variable.name = \".outcome\", \n",
       "            data = x, mtry = min(param$mtry, ncol(x)), min.node.size = param$min.node.size, \n",
       "            splitrule = as.character(param$splitrule), write.forest = TRUE, \n",
       "            probability = classProbs, ...)\n",
       "    }\n",
       "    if (!last) \n",
       "        out$y <- y\n",
       "    out\n",
       "}\n",
       "```\n",
       "$predict\n",
       ":   ```r\n",
       "function (modelFit, newdata, submodels = NULL) \n",
       "{\n",
       "    if ((!is.data.frame(newdata)) || dplyr::is.tbl(newdata)) \n",
       "        newdata <- as.data.frame(newdata)\n",
       "    out <- predict(modelFit, newdata)$predictions\n",
       "    if (!is.null(modelFit$obsLevels) & modelFit$treetype == \"Probability estimation\") {\n",
       "        out <- colnames(out)[apply(out, 1, which.max)]\n",
       "    }\n",
       "    out\n",
       "}\n",
       "```\n",
       "$prob\n",
       ":   ```r\n",
       "function (modelFit, newdata, submodels = NULL) \n",
       "{\n",
       "    if (!is.data.frame(newdata)) \n",
       "        newdata <- as.data.frame(newdata)\n",
       "    predict(modelFit, newdata)$predictions\n",
       "}\n",
       "```\n",
       "$predictors\n",
       ":   ```r\n",
       "function (x, ...) \n",
       "{\n",
       "    var_index <- sort(unique(unlist(lapply(x$forest$split.varIDs, \n",
       "        function(x) x))))\n",
       "    var_index <- var_index[var_index > 0]\n",
       "    x$forest$independent.variable.names[var_index]\n",
       "}\n",
       "```\n",
       "$varImp\n",
       ":   ```r\n",
       "function (object, ...) \n",
       "{\n",
       "    if (length(object$variable.importance) == 0) \n",
       "        stop(\"No importance values available\")\n",
       "    imps <- ranger:::importance(object)\n",
       "    out <- data.frame(Overall = as.vector(imps))\n",
       "    rownames(out) <- names(imps)\n",
       "    out\n",
       "}\n",
       "```\n",
       "$levels\n",
       ":   ```r\n",
       "function (x) \n",
       "{\n",
       "    if (x$treetype == \"Probability estimation\") {\n",
       "        out <- colnames(x$predictions)\n",
       "    }\n",
       "    else {\n",
       "        if (x$treetype == \"Classification\") {\n",
       "            out <- levels(x$predictions)\n",
       "        }\n",
       "        else out <- NULL\n",
       "    }\n",
       "    out\n",
       "}\n",
       "```\n",
       "$oob\n",
       ":   ```r\n",
       "function (x) \n",
       "{\n",
       "    postResample(x$predictions, x$y)\n",
       "}\n",
       "```\n",
       "$tags\n",
       ":   1. 'Random Forest'\n",
       "2. 'Ensemble Model'\n",
       "3. 'Bagging'\n",
       "4. 'Implicit Feature Selection'\n",
       "5. 'Accepts Case Weights'\n",
       "\n",
       "\n",
       "\n",
       "$sort\n",
       ":   ```r\n",
       "function (x) \n",
       "x[order(x[, 1]), ]\n",
       "```\n",
       "\n",
       "\n"
      ],
      "text/plain": [
       "$label\n",
       "[1] \"Random Forest\"\n",
       "\n",
       "$library\n",
       "[1] \"e1071\"  \"ranger\" \"dplyr\" \n",
       "\n",
       "$check\n",
       "function(pkg) {\n",
       "                    requireNamespace(\"ranger\")\n",
       "                    current <- packageDescription(\"ranger\")$Version\n",
       "                    expected <- \"0.8.0\"\n",
       "                    if(compareVersion(current, expected) < 0)\n",
       "                      stop(\"This modeling workflow requires ranger version \",\n",
       "                           expected, \"or greater.\", call. = FALSE)\n",
       "                  }\n",
       "\n",
       "$loop\n",
       "NULL\n",
       "\n",
       "$type\n",
       "[1] \"Classification\" \"Regression\"    \n",
       "\n",
       "$parameters\n",
       "      parameter     class                         label\n",
       "1          mtry   numeric #Randomly Selected Predictors\n",
       "2     splitrule character                Splitting Rule\n",
       "3 min.node.size   numeric             Minimal Node Size\n",
       "\n",
       "$grid\n",
       "function(x, y, len = NULL, search = \"grid\") {\n",
       "                    if(search == \"grid\") {\n",
       "                      srule <-\n",
       "                        if (is.factor(y))\n",
       "                          \"gini\"\n",
       "                      else\n",
       "                        \"variance\"\n",
       "                      out <- expand.grid(mtry = \n",
       "                                          caret::var_seq(p = ncol(x),\n",
       "                                                         classification = is.factor(y),\n",
       "                                                         len = len),\n",
       "                                         min.node.size = ifelse( is.factor(y), 1, 5), \n",
       "                                        splitrule = c(srule, \"extratrees\"))\n",
       "                    } else {\n",
       "                      srules <- if (is.factor(y))\n",
       "                        c(\"gini\", \"extratrees\")\n",
       "                      else\n",
       "                        c(\"variance\", \"extratrees\", \"maxstat\")\n",
       "                      out <-\n",
       "                        data.frame(\n",
       "                          min.node.size= sample(1:(min(20,nrow(x))), size = len, replace = TRUE), \n",
       "                          mtry = sample(1:ncol(x), size = len, replace = TRUE),\n",
       "                          splitrule = sample(srules, size = len, replace = TRUE)\n",
       "                        )\n",
       "                    }\n",
       "                    out\n",
       "                  }\n",
       "\n",
       "$fit\n",
       "function(x, y, wts, param, lev, last, classProbs, ...) {\n",
       "                    if((!is.data.frame(x))||dplyr::is.tbl(x)) x <- as.data.frame(x)\n",
       "                    x$.outcome <- y\n",
       "                    if(!is.null(wts)) {\n",
       "                      out <- ranger::ranger(dependent.variable.name = \".outcome\", \n",
       "                                            data = x, \n",
       "                                            mtry = min(param$mtry, ncol(x)),\n",
       "                                            min.node.size = param$min.node.size,\n",
       "                                            splitrule = as.character(param$splitrule),\n",
       "                                            write.forest = TRUE,\n",
       "                                            probability = classProbs, \n",
       "                                            case.weights = wts, \n",
       "                                            ...)\n",
       "                    } else {\n",
       "                      out <- ranger::ranger(dependent.variable.name = \".outcome\", \n",
       "                                            data = x, \n",
       "                                            mtry = min(param$mtry, ncol(x)), \n",
       "                                            min.node.size = param$min.node.size,\n",
       "                                            splitrule = as.character(param$splitrule),\n",
       "                                            write.forest = TRUE,\n",
       "                                            probability = classProbs, \n",
       "                                            ...)\n",
       "                    }\n",
       "                    ## in case the resampling method is \"oob\"\n",
       "                    if(!last) out$y <- y\n",
       "                    out\n",
       "                  }\n",
       "<bytecode: 0x000000000a8e4718>\n",
       "\n",
       "$predict\n",
       "function(modelFit, newdata, submodels = NULL) {\n",
       "                    if((!is.data.frame(newdata))||dplyr::is.tbl(newdata)) newdata <- as.data.frame(newdata)\n",
       "                    out <- predict(modelFit, newdata)$predictions\n",
       "                    if(!is.null(modelFit$obsLevels) & modelFit$treetype == \"Probability estimation\") {\n",
       "                      out <- colnames(out)[apply(out, 1, which.max)]\n",
       "                    }\n",
       "                    out\n",
       "                  }\n",
       "<bytecode: 0x000000000b8029b8>\n",
       "\n",
       "$prob\n",
       "function(modelFit, newdata, submodels = NULL) {\n",
       "                    if(!is.data.frame(newdata)) newdata <- as.data.frame(newdata)\n",
       "                    predict(modelFit, newdata)$predictions\n",
       "                  }\n",
       "<bytecode: 0x0000000005489190>\n",
       "\n",
       "$predictors\n",
       "function(x, ...) {\n",
       "                    var_index <- sort(unique(unlist(lapply(x$forest$split.varIDs, function(x) x))))\n",
       "                    var_index <-var_index[var_index > 0]\n",
       "                    x$forest$independent.variable.names[var_index]\n",
       "                  }\n",
       "\n",
       "$varImp\n",
       "function(object, ...){\n",
       "                    if(length(object$variable.importance) == 0)\n",
       "                      stop(\"No importance values available\")\n",
       "                    imps <- ranger:::importance(object)\n",
       "                    out <- data.frame(Overall = as.vector(imps))\n",
       "                    rownames(out) <- names(imps)\n",
       "                    out\n",
       "                  }\n",
       "\n",
       "$levels\n",
       "function(x) {\n",
       "                    if(x$treetype == \"Probability estimation\") {\n",
       "                      out <- colnames(x$predictions)\n",
       "                    } else {\n",
       "                      if(x$treetype == \"Classification\") {\n",
       "                        out <- levels(x$predictions)\n",
       "                      } else out <- NULL\n",
       "                    }\n",
       "                    out\n",
       "                  }\n",
       "\n",
       "$oob\n",
       "function(x) {\n",
       "                    postResample(x$predictions, x$y)\n",
       "                  }\n",
       "\n",
       "$tags\n",
       "[1] \"Random Forest\"              \"Ensemble Model\"            \n",
       "[3] \"Bagging\"                    \"Implicit Feature Selection\"\n",
       "[5] \"Accepts Case Weights\"      \n",
       "\n",
       "$sort\n",
       "function(x) x[order(x[,1]),]\n"
      ]
     },
     "metadata": {},
     "output_type": "display_data"
    }
   ],
   "source": [
    "#x <- evalm(model_smote)\n",
    "#x$roc\n",
    "model_up$modelInfo"
   ]
  },
  {
   "cell_type": "code",
   "execution_count": 26,
   "metadata": {},
   "outputs": [
    {
     "name": "stdout",
     "output_type": "stream",
     "text": [
      "Random Forest \n",
      "\n",
      "1310 samples\n",
      "  56 predictor\n",
      "   2 classes: 'Show', 'NoShow' \n",
      "\n",
      "No pre-processing\n",
      "Resampling: Cross-Validated (10 fold, repeated 5 times) \n",
      "Summary of sample sizes: 1179, 1179, 1179, 1179, 1179, 1179, ... \n",
      "Resampling results across tuning parameters:\n",
      "\n",
      "  mtry  splitrule   ROC        Sens       Spec     \n",
      "   2    gini        0.9289470  1.0000000  0.0000000\n",
      "   2    extratrees  0.9262348  1.0000000  0.0000000\n",
      "  29    gini        0.9407424  0.9641667  0.4272727\n",
      "  29    extratrees  0.9405682  0.9615000  0.4490909\n",
      "  56    gini        0.9278864  0.9631667  0.4272727\n",
      "  56    extratrees  0.9305985  0.9578333  0.4454545\n",
      "\n",
      "Tuning parameter 'min.node.size' was held constant at a value of 1\n",
      "ROC was used to select the optimal model using the largest value.\n",
      "The final values used for the model were mtry = 29, splitrule = gini\n",
      " and min.node.size = 1.\n",
      "Random Forest \n",
      "\n",
      "1310 samples\n",
      "  56 predictor\n",
      "   2 classes: 'Show', 'NoShow' \n",
      "\n",
      "No pre-processing\n",
      "Resampling: Cross-Validated (10 fold, repeated 5 times) \n",
      "Summary of sample sizes: 1179, 1179, 1179, 1179, 1179, 1179, ... \n",
      "Addtional sampling using down-sampling\n",
      "\n",
      "Resampling results across tuning parameters:\n",
      "\n",
      "  mtry  splitrule   ROC        Sens       Spec     \n",
      "   2    gini        0.9130909  0.8193333  0.8418182\n",
      "   2    extratrees  0.9139318  0.8128333  0.8363636\n",
      "  29    gini        0.9320909  0.8443333  0.9127273\n",
      "  29    extratrees  0.9336212  0.8495000  0.9127273\n",
      "  56    gini        0.9261591  0.8525000  0.8981818\n",
      "  56    extratrees  0.9310530  0.8591667  0.8872727\n",
      "\n",
      "Tuning parameter 'min.node.size' was held constant at a value of 1\n",
      "ROC was used to select the optimal model using the largest value.\n",
      "The final values used for the model were mtry = 29, splitrule = extratrees\n",
      " and min.node.size = 1.\n",
      "Random Forest \n",
      "\n",
      "1310 samples\n",
      "  56 predictor\n",
      "   2 classes: 'Show', 'NoShow' \n",
      "\n",
      "No pre-processing\n",
      "Resampling: Cross-Validated (10 fold, repeated 5 times) \n",
      "Summary of sample sizes: 1179, 1179, 1179, 1179, 1179, 1179, ... \n",
      "Addtional sampling using up-sampling\n",
      "\n",
      "Resampling results across tuning parameters:\n",
      "\n",
      "  mtry  splitrule   ROC        Sens       Spec     \n",
      "   2    gini        0.9222273  0.8881667  0.8254545\n",
      "   2    extratrees  0.9215833  0.8820000  0.8236364\n",
      "  29    gini        0.9349545  0.9483333  0.5254545\n",
      "  29    extratrees  0.9363409  0.9493333  0.5618182\n",
      "  56    gini        0.9184091  0.9443333  0.5218182\n",
      "  56    extratrees  0.9251970  0.9496667  0.5272727\n",
      "\n",
      "Tuning parameter 'min.node.size' was held constant at a value of 1\n",
      "ROC was used to select the optimal model using the largest value.\n",
      "The final values used for the model were mtry = 29, splitrule = extratrees\n",
      " and min.node.size = 1.\n",
      "Random Forest \n",
      "\n",
      "1310 samples\n",
      "  56 predictor\n",
      "   2 classes: 'Show', 'NoShow' \n",
      "\n",
      "No pre-processing\n",
      "Resampling: Cross-Validated (10 fold, repeated 5 times) \n",
      "Summary of sample sizes: 1179, 1179, 1179, 1179, 1179, 1179, ... \n",
      "Addtional sampling using ROSE\n",
      "\n",
      "Resampling results across tuning parameters:\n",
      "\n",
      "  mtry  splitrule   ROC        Sens        Spec     \n",
      "   2    gini        0.9121894  0.00000000  1.0000000\n",
      "   2    extratrees  0.9092045  0.59700000  0.9800000\n",
      "  29    gini        0.8860000  0.03216667  0.9963636\n",
      "  29    extratrees  0.9226591  0.03000000  0.9981818\n",
      "  56    gini        0.8781591  0.18450000  0.9818182\n",
      "  56    extratrees  0.9221136  0.03416667  0.9981818\n",
      "\n",
      "Tuning parameter 'min.node.size' was held constant at a value of 1\n",
      "ROC was used to select the optimal model using the largest value.\n",
      "The final values used for the model were mtry = 29, splitrule = extratrees\n",
      " and min.node.size = 1.\n",
      "Random Forest \n",
      "\n",
      "1310 samples\n",
      "  56 predictor\n",
      "   2 classes: 'Show', 'NoShow' \n",
      "\n",
      "No pre-processing\n",
      "Resampling: Cross-Validated (10 fold, repeated 5 times) \n",
      "Summary of sample sizes: 1179, 1179, 1179, 1179, 1179, 1179, ... \n",
      "Addtional sampling using SMOTE\n",
      "\n",
      "Resampling results across tuning parameters:\n",
      "\n",
      "  mtry  splitrule   ROC        Sens       Spec     \n",
      "   2    gini        0.9229545  0.9560000  0.5200000\n",
      "   2    extratrees  0.9257576  0.9291667  0.6836364\n",
      "  29    gini        0.9359318  0.9170000  0.7436364\n",
      "  29    extratrees  0.9393939  0.9125000  0.7927273\n",
      "  56    gini        0.9311818  0.9131667  0.7345455\n",
      "  56    extratrees  0.9374015  0.9148333  0.7454545\n",
      "\n",
      "Tuning parameter 'min.node.size' was held constant at a value of 1\n",
      "ROC was used to select the optimal model using the largest value.\n",
      "The final values used for the model were mtry = 29, splitrule = extratrees\n",
      " and min.node.size = 1.\n"
     ]
    }
   ],
   "source": [
    "# summarize results\n",
    "print(model)\n",
    "print(model_down)\n",
    "print(model_up)\n",
    "print(model_rose)\n",
    "print(model_smote)"
   ]
  },
  {
   "cell_type": "code",
   "execution_count": null,
   "metadata": {},
   "outputs": [],
   "source": []
  }
 ],
 "metadata": {
  "kernelspec": {
   "display_name": "R",
   "language": "R",
   "name": "ir"
  },
  "language_info": {
   "codemirror_mode": "r",
   "file_extension": ".r",
   "mimetype": "text/x-r-source",
   "name": "R",
   "pygments_lexer": "r",
   "version": "3.6.1"
  }
 },
 "nbformat": 4,
 "nbformat_minor": 2
}
