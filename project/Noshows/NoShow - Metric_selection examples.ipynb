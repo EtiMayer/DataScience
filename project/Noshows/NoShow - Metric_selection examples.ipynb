{
 "cells": [
  {
   "cell_type": "markdown",
   "metadata": {},
   "source": [
    "# Metric Selection"
   ]
  },
  {
   "cell_type": "code",
   "execution_count": 1,
   "metadata": {},
   "outputs": [
    {
     "data": {
      "text/plain": [
       "'0.21.2'"
      ]
     },
     "execution_count": 1,
     "metadata": {},
     "output_type": "execute_result"
    }
   ],
   "source": [
    "import sklearn\n",
    "sklearn.__version__\n"
   ]
  },
  {
   "cell_type": "markdown",
   "metadata": {},
   "source": [
    "# Classification Metrics"
   ]
  },
  {
   "cell_type": "code",
   "execution_count": 14,
   "metadata": {},
   "outputs": [],
   "source": [
    "y =     [1,1,1,1,1,1,0,0,0,0,0]\n",
    "y_hat = [0,1,1,1,1,1,0,0,0,0,1]"
   ]
  },
  {
   "cell_type": "code",
   "execution_count": 15,
   "metadata": {},
   "outputs": [
    {
     "name": "stdout",
     "output_type": "stream",
     "text": [
      "Accuracy= 0.8181818181818182\n",
      "              precision    recall  f1-score   support\n",
      "\n",
      "           0       0.80      0.80      0.80         5\n",
      "           1       0.83      0.83      0.83         6\n",
      "\n",
      "    accuracy                           0.82        11\n",
      "   macro avg       0.82      0.82      0.82        11\n",
      "weighted avg       0.82      0.82      0.82        11\n",
      "\n",
      "Log-loss= 6.279850\n",
      "AUC= 0.816667\n"
     ]
    }
   ],
   "source": [
    "print('Accuracy= %s' % metrics.accuracy_score(y,y_hat))\n",
    "print(metrics.classification_report(y,y_hat))\n",
    "print('Log-loss= %f' % metrics.log_loss(y,y_hat))\n",
    "print('AUC= %f' % metrics.roc_auc_score(y,y_hat))"
   ]
  },
  {
   "cell_type": "code",
   "execution_count": 16,
   "metadata": {},
   "outputs": [],
   "source": [
    "y =     [1,1,1,1,1,1,0,0,0,0,0]\n",
    "y_hat = [0,0,1,1,1,1,0,0,0,1,1]"
   ]
  },
  {
   "cell_type": "code",
   "execution_count": 17,
   "metadata": {},
   "outputs": [
    {
     "name": "stdout",
     "output_type": "stream",
     "text": [
      "Accuracy= 0.6363636363636364\n",
      "              precision    recall  f1-score   support\n",
      "\n",
      "           0       0.60      0.60      0.60         5\n",
      "           1       0.67      0.67      0.67         6\n",
      "\n",
      "    accuracy                           0.64        11\n",
      "   macro avg       0.63      0.63      0.63        11\n",
      "weighted avg       0.64      0.64      0.64        11\n",
      "\n",
      "Log-loss= 12.559700\n",
      "AUC= 0.633333\n"
     ]
    }
   ],
   "source": [
    "print('Accuracy= %s' % metrics.accuracy_score(y,y_hat))\n",
    "print(metrics.classification_report(y,y_hat))\n",
    "print('Log-loss= %f' % metrics.log_loss(y,y_hat))\n",
    "print('AUC= %f' % metrics.roc_auc_score(y,y_hat))"
   ]
  },
  {
   "cell_type": "code",
   "execution_count": 18,
   "metadata": {},
   "outputs": [],
   "source": [
    "y =     [1,1,1,0,0,0,0,0,0,0,0]\n",
    "y_hat = [0,0,0,0,0,0,0,0,0,0,0]"
   ]
  },
  {
   "cell_type": "code",
   "execution_count": 19,
   "metadata": {},
   "outputs": [
    {
     "name": "stdout",
     "output_type": "stream",
     "text": [
      "Accuracy= 0.7272727272727273\n",
      "              precision    recall  f1-score   support\n",
      "\n",
      "           0       0.73      1.00      0.84         8\n",
      "           1       0.00      0.00      0.00         3\n",
      "\n",
      "    accuracy                           0.73        11\n",
      "   macro avg       0.36      0.50      0.42        11\n",
      "weighted avg       0.53      0.73      0.61        11\n",
      "\n",
      "Log-loss= 9.419666\n",
      "AUC= 0.500000\n"
     ]
    },
    {
     "name": "stderr",
     "output_type": "stream",
     "text": [
      "C:\\Users\\Mayer\\Anaconda3\\lib\\site-packages\\sklearn\\metrics\\classification.py:1437: UndefinedMetricWarning: Precision and F-score are ill-defined and being set to 0.0 in labels with no predicted samples.\n",
      "  'precision', 'predicted', average, warn_for)\n"
     ]
    }
   ],
   "source": [
    "print('Accuracy= %s' % metrics.accuracy_score(y,y_hat)) #unbalanced dataset. inacurate accuracy score!\n",
    "print(metrics.classification_report(y,y_hat))\n",
    "print('Log-loss= %f' % metrics.log_loss(y,y_hat))\n",
    "print('AUC= %f' % metrics.roc_auc_score(y,y_hat))"
   ]
  },
  {
   "cell_type": "code",
   "execution_count": 20,
   "metadata": {},
   "outputs": [],
   "source": [
    "y =     [1,1,1,0,0,0,0,0,0,0,0]\n",
    "y_hat = [1,0,1,0,0,0,0,0,0,0,0]"
   ]
  },
  {
   "cell_type": "code",
   "execution_count": 21,
   "metadata": {},
   "outputs": [
    {
     "name": "stdout",
     "output_type": "stream",
     "text": [
      "Accuracy= 0.9090909090909091\n",
      "              precision    recall  f1-score   support\n",
      "\n",
      "           0       0.89      1.00      0.94         8\n",
      "           1       1.00      0.67      0.80         3\n",
      "\n",
      "    accuracy                           0.91        11\n",
      "   macro avg       0.94      0.83      0.87        11\n",
      "weighted avg       0.92      0.91      0.90        11\n",
      "\n",
      "Log-loss= 3.139889\n",
      "AUC= 0.833333\n"
     ]
    }
   ],
   "source": [
    "print('Accuracy= %s' % metrics.accuracy_score(y,y_hat))\n",
    "print(metrics.classification_report(y,y_hat))\n",
    "print('Log-loss= %f' % metrics.log_loss(y,y_hat))\n",
    "print('AUC= %f' % metrics.roc_auc_score(y,y_hat))"
   ]
  },
  {
   "cell_type": "code",
   "execution_count": 22,
   "metadata": {},
   "outputs": [],
   "source": [
    "y =     [1,1,1,0,0,0,0,0,0,0,0]\n",
    "y_hat = [1,0,1,0,0,0,0,0,0,0,1]"
   ]
  },
  {
   "cell_type": "code",
   "execution_count": 23,
   "metadata": {},
   "outputs": [
    {
     "name": "stdout",
     "output_type": "stream",
     "text": [
      "Accuracy= 0.8181818181818182\n",
      "              precision    recall  f1-score   support\n",
      "\n",
      "           0       0.88      0.88      0.88         8\n",
      "           1       0.67      0.67      0.67         3\n",
      "\n",
      "    accuracy                           0.82        11\n",
      "   macro avg       0.77      0.77      0.77        11\n",
      "weighted avg       0.82      0.82      0.82        11\n",
      "\n",
      "Log-loss= 6.279850\n",
      "AUC= 0.770833\n"
     ]
    }
   ],
   "source": [
    "print('Accuracy= %s' % metrics.accuracy_score(y,y_hat))\n",
    "print(metrics.classification_report(y,y_hat))\n",
    "print('Log-loss= %f' % metrics.log_loss(y,y_hat))\n",
    "print('AUC= %f' % metrics.roc_auc_score(y,y_hat))"
   ]
  },
  {
   "cell_type": "code",
   "execution_count": null,
   "metadata": {},
   "outputs": [],
   "source": []
  }
 ],
 "metadata": {
  "kernelspec": {
   "display_name": "Python 3",
   "language": "python",
   "name": "python3"
  },
  "language_info": {
   "codemirror_mode": {
    "name": "ipython",
    "version": 3
   },
   "file_extension": ".py",
   "mimetype": "text/x-python",
   "name": "python",
   "nbconvert_exporter": "python",
   "pygments_lexer": "ipython3",
   "version": "3.7.3"
  }
 },
 "nbformat": 4,
 "nbformat_minor": 2
}
