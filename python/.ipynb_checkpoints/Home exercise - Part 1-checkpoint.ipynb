{
 "cells": [
  {
   "cell_type": "markdown",
   "metadata": {},
   "source": [
    "# Exercises for part I - Try it at home"
   ]
  },
  {
   "cell_type": "markdown",
   "metadata": {},
   "source": [
    "## List\n",
    " \n",
    "1. Create a list of numbers from 1 to 10"
   ]
  },
  {
   "cell_type": "code",
   "execution_count": 1,
   "metadata": {},
   "outputs": [
    {
     "data": {
      "text/plain": [
       "[1, 2, 3, 4, 5, 6, 7, 8, 9, 10]"
      ]
     },
     "execution_count": 1,
     "metadata": {},
     "output_type": "execute_result"
    }
   ],
   "source": [
    "t = [1,2,3,4,5,6,7,8,9,10]\n",
    "t"
   ]
  },
  {
   "cell_type": "markdown",
   "metadata": {},
   "source": [
    "2. Append to the list the number 20"
   ]
  },
  {
   "cell_type": "code",
   "execution_count": 2,
   "metadata": {},
   "outputs": [
    {
     "data": {
      "text/plain": [
       "[1, 2, 3, 4, 5, 6, 7, 8, 9, 10, 11, 12, 13, 14, 15, 16, 17, 18, 19, 20]"
      ]
     },
     "execution_count": 2,
     "metadata": {},
     "output_type": "execute_result"
    }
   ],
   "source": [
    "t.extend(range(11,21))\n",
    "t"
   ]
  },
  {
   "cell_type": "markdown",
   "metadata": {},
   "source": [
    "3. Insert two zeros after the fourth place of the list"
   ]
  },
  {
   "cell_type": "code",
   "execution_count": 4,
   "metadata": {},
   "outputs": [
    {
     "data": {
      "text/plain": [
       "[1, 2, 3, 4, 5, 0, 0, 6, 7, 8, 9, 10, 11, 12, 13, 14, 15, 16, 17, 18, 19, 20]"
      ]
     },
     "execution_count": 4,
     "metadata": {},
     "output_type": "execute_result"
    }
   ],
   "source": [
    "t.insert(5,0)\n",
    "t"
   ]
  },
  {
   "cell_type": "markdown",
   "metadata": {},
   "source": [
    "4. Sort the list in reverse order"
   ]
  },
  {
   "cell_type": "code",
   "execution_count": 5,
   "metadata": {},
   "outputs": [
    {
     "data": {
      "text/plain": [
       "[20, 19, 18, 17, 16, 15, 14, 13, 12, 11, 10, 9, 8, 7, 6, 5, 4, 3, 2, 1, 0, 0]"
      ]
     },
     "execution_count": 5,
     "metadata": {},
     "output_type": "execute_result"
    }
   ],
   "source": [
    "t.sort(reverse=True)\n",
    "t"
   ]
  },
  {
   "cell_type": "markdown",
   "metadata": {},
   "source": [
    "5. Remove the last two items from the list"
   ]
  },
  {
   "cell_type": "code",
   "execution_count": 7,
   "metadata": {},
   "outputs": [
    {
     "data": {
      "text/plain": [
       "[20, 19, 18, 17, 16, 15, 14, 13, 12, 11, 10, 9, 8, 7, 6, 5, 4, 3, 2, 1]"
      ]
     },
     "execution_count": 7,
     "metadata": {},
     "output_type": "execute_result"
    }
   ],
   "source": [
    "t.pop()\n",
    "t"
   ]
  },
  {
   "cell_type": "markdown",
   "metadata": {},
   "source": [
    "6. Invert the order of the list"
   ]
  },
  {
   "cell_type": "code",
   "execution_count": 8,
   "metadata": {},
   "outputs": [
    {
     "data": {
      "text/plain": [
       "[1, 2, 3, 4, 5, 6, 7, 8, 9, 10, 11, 12, 13, 14, 15, 16, 17, 18, 19, 20]"
      ]
     },
     "execution_count": 8,
     "metadata": {},
     "output_type": "execute_result"
    }
   ],
   "source": [
    "t.reverse()\n",
    "t"
   ]
  },
  {
   "cell_type": "markdown",
   "metadata": {},
   "source": [
    "7. How many items has the list?"
   ]
  },
  {
   "cell_type": "code",
   "execution_count": 10,
   "metadata": {},
   "outputs": [
    {
     "data": {
      "text/plain": [
       "20"
      ]
     },
     "execution_count": 10,
     "metadata": {},
     "output_type": "execute_result"
    }
   ],
   "source": [
    "len(t)"
   ]
  },
  {
   "cell_type": "markdown",
   "metadata": {},
   "source": [
    "8. Give the minimum, maximum and the sum of all the items in the list"
   ]
  },
  {
   "cell_type": "code",
   "execution_count": 18,
   "metadata": {},
   "outputs": [
    {
     "name": "stdout",
     "output_type": "stream",
     "text": [
      "min is: 1 - max is: 20\n"
     ]
    }
   ],
   "source": [
    "print(\"min is: %s - max is: %s\" % (min(t),max(t)))\n"
   ]
  },
  {
   "cell_type": "markdown",
   "metadata": {},
   "source": [
    "9. What will happen if you multiply the list by 2?"
   ]
  },
  {
   "cell_type": "markdown",
   "metadata": {},
   "source": [
    "Multiplying the list will show the list twice"
   ]
  },
  {
   "cell_type": "code",
   "execution_count": 22,
   "metadata": {},
   "outputs": [
    {
     "data": {
      "text/plain": [
       "[1,\n",
       " 2,\n",
       " 3,\n",
       " 4,\n",
       " 5,\n",
       " 6,\n",
       " 7,\n",
       " 8,\n",
       " 9,\n",
       " 10,\n",
       " 11,\n",
       " 12,\n",
       " 13,\n",
       " 14,\n",
       " 15,\n",
       " 16,\n",
       " 17,\n",
       " 18,\n",
       " 19,\n",
       " 20,\n",
       " 1,\n",
       " 2,\n",
       " 3,\n",
       " 4,\n",
       " 5,\n",
       " 6,\n",
       " 7,\n",
       " 8,\n",
       " 9,\n",
       " 10,\n",
       " 11,\n",
       " 12,\n",
       " 13,\n",
       " 14,\n",
       " 15,\n",
       " 16,\n",
       " 17,\n",
       " 18,\n",
       " 19,\n",
       " 20]"
      ]
     },
     "execution_count": 22,
     "metadata": {},
     "output_type": "execute_result"
    }
   ],
   "source": [
    "t * 2\n"
   ]
  },
  {
   "cell_type": "markdown",
   "metadata": {},
   "source": [
    "10. Can you divide the list by 3?"
   ]
  },
  {
   "cell_type": "code",
   "execution_count": null,
   "metadata": {},
   "outputs": [],
   "source": [
    "yes - by creating new list"
   ]
  },
  {
   "cell_type": "code",
   "execution_count": 29,
   "metadata": {},
   "outputs": [
    {
     "data": {
      "text/plain": [
       "[0.3333333333333333,\n",
       " 0.6666666666666666,\n",
       " 1.0,\n",
       " 1.3333333333333333,\n",
       " 1.6666666666666667,\n",
       " 2.0,\n",
       " 2.3333333333333335,\n",
       " 2.6666666666666665,\n",
       " 3.0,\n",
       " 3.3333333333333335,\n",
       " 3.6666666666666665,\n",
       " 4.0,\n",
       " 4.333333333333333,\n",
       " 4.666666666666667,\n",
       " 5.0,\n",
       " 5.333333333333333,\n",
       " 5.666666666666667,\n",
       " 6.0,\n",
       " 6.333333333333333,\n",
       " 6.666666666666667]"
      ]
     },
     "execution_count": 29,
     "metadata": {},
     "output_type": "execute_result"
    }
   ],
   "source": [
    "myInt = 3\n",
    "newList = [x / myInt for x in t]\n",
    "newList"
   ]
  },
  {
   "cell_type": "markdown",
   "metadata": {},
   "source": [
    "# Tupples\n",
    " \n",
    "1. Create a tupple with three characters and four numbers"
   ]
  },
  {
   "cell_type": "code",
   "execution_count": 37,
   "metadata": {},
   "outputs": [
    {
     "data": {
      "text/plain": [
       "('a', 'b', 'c', 1, 2, 3, 4)"
      ]
     },
     "execution_count": 37,
     "metadata": {},
     "output_type": "execute_result"
    }
   ],
   "source": [
    "z = ('a','b','c',1,2,3,4)\n",
    "z"
   ]
  },
  {
   "cell_type": "markdown",
   "metadata": {},
   "source": [
    "2. Append two booleans (false, true) to the tupple"
   ]
  },
  {
   "cell_type": "code",
   "execution_count": 38,
   "metadata": {},
   "outputs": [
    {
     "data": {
      "text/plain": [
       "('a', 'b', 'c', 1, 2, 3, 4, False, True)"
      ]
     },
     "execution_count": 38,
     "metadata": {},
     "output_type": "execute_result"
    }
   ],
   "source": [
    "z = z + (False,True)\n",
    "z"
   ]
  },
  {
   "cell_type": "markdown",
   "metadata": {},
   "source": [
    "3. Retrieve the third to sixth items from the tupple"
   ]
  },
  {
   "cell_type": "code",
   "execution_count": 40,
   "metadata": {},
   "outputs": [
    {
     "data": {
      "text/plain": [
       "('c', 1, 2, 3, 4)"
      ]
     },
     "execution_count": 40,
     "metadata": {},
     "output_type": "execute_result"
    }
   ],
   "source": [
    "z[2:7]"
   ]
  },
  {
   "cell_type": "markdown",
   "metadata": {},
   "source": [
    "4. Divide the tupple by data type and create a list for each, then create a muttable tupple using these lists "
   ]
  },
  {
   "cell_type": "code",
   "execution_count": 65,
   "metadata": {},
   "outputs": [
    {
     "data": {
      "text/plain": [
       "(['a', 'b', 'c'], [1, 2, 3, 4], [False, True])"
      ]
     },
     "execution_count": 65,
     "metadata": {},
     "output_type": "execute_result"
    }
   ],
   "source": [
    "y = list(z[0:3])\n",
    "y\n",
    "w = list(z[3:7])\n",
    "w\n",
    "v = list(z[7:])\n",
    "v\n",
    "u = (y,w,v)\n",
    "u"
   ]
  },
  {
   "cell_type": "markdown",
   "metadata": {},
   "source": [
    "# Sets\n",
    " \n",
    "1. Create a set using the following paragraph:\n",
    " \n",
    "<quote>\n",
    "\"Shallow copy is a bit-wise copy of an object. A new object is created that has an exact copy of the values in the original object\"\n",
    "<quote>\n",
    " \n",
    "Note: Each part of the set must be a word, not a character!"
   ]
  },
  {
   "cell_type": "code",
   "execution_count": 110,
   "metadata": {},
   "outputs": [
    {
     "data": {
      "text/plain": [
       "{'A',\n",
       " 'Shallow',\n",
       " 'a',\n",
       " 'an',\n",
       " 'bit-wise',\n",
       " 'copy',\n",
       " 'created',\n",
       " 'exact',\n",
       " 'has',\n",
       " 'in',\n",
       " 'is',\n",
       " 'new',\n",
       " 'object',\n",
       " 'object.',\n",
       " 'of',\n",
       " 'original',\n",
       " 'that',\n",
       " 'the',\n",
       " 'values'}"
      ]
     },
     "execution_count": 110,
     "metadata": {},
     "output_type": "execute_result"
    }
   ],
   "source": [
    "a = \"Shallow copy is a bit-wise copy of an object. A new object is created that has an exact copy of the values in the original object\"\n",
    "a = a.split(' ')\n",
    "b = set(a)\n",
    "b"
   ]
  },
  {
   "cell_type": "markdown",
   "metadata": {},
   "source": [
    "2. Do you see something wierd in this set? What? How can you prevent that?"
   ]
  },
  {
   "cell_type": "code",
   "execution_count": 111,
   "metadata": {},
   "outputs": [
    {
     "data": {
      "text/plain": [
       "{'',\n",
       " 'A',\n",
       " 'Shallow',\n",
       " 'a',\n",
       " 'an',\n",
       " 'bit-wise',\n",
       " 'copy',\n",
       " 'created',\n",
       " 'exact',\n",
       " 'has',\n",
       " 'in',\n",
       " 'is',\n",
       " 'new',\n",
       " 'object',\n",
       " 'of',\n",
       " 'original',\n",
       " 'that',\n",
       " 'the',\n",
       " 'values'}"
      ]
     },
     "execution_count": 111,
     "metadata": {},
     "output_type": "execute_result"
    }
   ],
   "source": [
    "# the word \"object\" appears twice. \n",
    "#Importing re module than re-spliting the list by ' ' and '.'\n",
    "#Than creating a set\n",
    "\n",
    "import re\n",
    "a = \"Shallow copy is a bit-wise copy of an object. A new object is created that has an exact copy of the values in the original object\"\n",
    "a = re.split(r'[ .]', a)\n",
    "b = set(a)\n",
    "b"
   ]
  },
  {
   "cell_type": "markdown",
   "metadata": {},
   "source": [
    "# Dictionary\n",
    " \n",
    "1. Generate a dictionary from the following table:\n",
    "\n",
    "<table>\n",
    "    <tr> <th> EmployeeID </th> <th> Name </th> <th> Position </th> <th> Phone </th> </tr>\n",
    "    <tr> <td> 1020 </td> <td> Harry Smith </td> <td> Sales Manager </td> <td> 030-223.65.44 </td> </tr>\n",
    "    <tr> <td> 2201 </td><td> Margaret Holsum </td> <td> Sales Representative </td> <td> 030-223.64.12 </td> </tr>\n",
    "    <tr> <td> 3320 </td><td> Lasly Howard </td> <td> Human Resources </td> <td> 030-223.83.33 </td> </tr>\n",
    "    <tr> <td> 8111 </td><td> Larry Johnson </td> <td> Project Manager </td> <td> 030-224.22.00 </td> </tr>\n",
    "    <tr> <td> 2733 </td><td> Hellen Young </td> <td> Customer Service </td> <td> 030-223.03.20 </td> </tr>\n",
    "</table>\n"
   ]
  },
  {
   "cell_type": "code",
   "execution_count": 1,
   "metadata": {},
   "outputs": [
    {
     "data": {
      "text/plain": [
       "{1020: ['Harry Smith', 'Sales Manager', '030-223.65.44'],\n",
       " 2201: ['Margaret Holsum', 'Sales Representative', '030-223.64.12'],\n",
       " 3320: ['Lasly Howard', 'Human Resources', '030-223.83.33'],\n",
       " 8111: ['Larry Johnson', 'Project Manager', '030-224.22.00'],\n",
       " 2733: ['Hellen Young', 'Customer Service', '030-223.03.20']}"
      ]
     },
     "execution_count": 1,
     "metadata": {},
     "output_type": "execute_result"
    }
   ],
   "source": [
    "myDict = {1020:['Harry Smith','Sales Manager','030-223.65.44'],\n",
    "          2201:['Margaret Holsum','Sales Representative','030-223.64.12'],\n",
    "          3320:['Lasly Howard','Human Resources','030-223.83.33'],\n",
    "          8111:['Larry Johnson','Project Manager','030-224.22.00'],\n",
    "          2733:['Hellen Young','Customer Service','030-223.03.20']\n",
    "         }\n",
    "myDict\n"
   ]
  },
  {
   "cell_type": "markdown",
   "metadata": {},
   "source": [
    "1. Get all the keys of the dictionary"
   ]
  },
  {
   "cell_type": "code",
   "execution_count": 2,
   "metadata": {},
   "outputs": [
    {
     "data": {
      "text/plain": [
       "dict_keys([1020, 2201, 3320, 8111, 2733])"
      ]
     },
     "execution_count": 2,
     "metadata": {},
     "output_type": "execute_result"
    }
   ],
   "source": [
    "myDict.keys()"
   ]
  },
  {
   "cell_type": "markdown",
   "metadata": {},
   "source": [
    "2. Get all the values of the dictionary"
   ]
  },
  {
   "cell_type": "code",
   "execution_count": 3,
   "metadata": {},
   "outputs": [
    {
     "data": {
      "text/plain": [
       "dict_values([['Harry Smith', 'Sales Manager', '030-223.65.44'], ['Margaret Holsum', 'Sales Representative', '030-223.64.12'], ['Lasly Howard', 'Human Resources', '030-223.83.33'], ['Larry Johnson', 'Project Manager', '030-224.22.00'], ['Hellen Young', 'Customer Service', '030-223.03.20']])"
      ]
     },
     "execution_count": 3,
     "metadata": {},
     "output_type": "execute_result"
    }
   ],
   "source": [
    "myDict.values()"
   ]
  },
  {
   "cell_type": "markdown",
   "metadata": {},
   "source": [
    "3. Show the third row of the table by calling the dictionary using the respective EmployeeID"
   ]
  },
  {
   "cell_type": "code",
   "execution_count": 5,
   "metadata": {},
   "outputs": [
    {
     "data": {
      "text/plain": [
       "['Larry Johnson', 'Project Manager', '030-224.22.00']"
      ]
     },
     "execution_count": 5,
     "metadata": {},
     "output_type": "execute_result"
    }
   ],
   "source": [
    "myDict[8111]"
   ]
  },
  {
   "cell_type": "markdown",
   "metadata": {},
   "source": [
    "# Loop programming in python\n",
    " \n",
    "1. Write a script that shows all the primary numbers from 1 to 100. Use for.. loop and if..else"
   ]
  },
  {
   "cell_type": "code",
   "execution_count": 127,
   "metadata": {},
   "outputs": [
    {
     "name": "stdout",
     "output_type": "stream",
     "text": [
      " 2   3   5   7   11   13   17   19   23   29   31   37   41   43   47   53   59   61   67   71   73   79   83   89   97  "
     ]
    }
   ],
   "source": [
    "for Number in range (1, 101):\n",
    "    count = 0\n",
    "    for i in range(2, (Number//2 + 1)):\n",
    "        if(Number % i == 0):\n",
    "            count = count + 1\n",
    "            break\n",
    "\n",
    "    if (count == 0 and Number != 1):\n",
    "        print(\" %d\" %Number, end = '  ')"
   ]
  },
  {
   "cell_type": "markdown",
   "metadata": {},
   "source": [
    "2. Write a different solution to the problem in the last question, but using while.. in place of for.."
   ]
  },
  {
   "cell_type": "code",
   "execution_count": 128,
   "metadata": {},
   "outputs": [
    {
     "name": "stdout",
     "output_type": "stream",
     "text": [
      " 2   3   5   7   11   13   17   19   23   29   31   37   41   43   47   53   59   61   67   71   73   79   83   89   97  "
     ]
    }
   ],
   "source": [
    "Number = 1\n",
    "\n",
    "while(Number <= 100):\n",
    "    count = 0\n",
    "    i = 2\n",
    "    \n",
    "    while(i <= Number//2):\n",
    "        if(Number % i == 0):\n",
    "            count = count + 1\n",
    "            break\n",
    "        i = i + 1\n",
    "\n",
    "    if (count == 0 and Number != 1):\n",
    "        print(\" %d\" %Number, end = '  ')\n",
    "    Number = Number  + 1"
   ]
  }
 ],
 "metadata": {
  "kernelspec": {
   "display_name": "Python 3",
   "language": "python",
   "name": "python3"
  },
  "language_info": {
   "codemirror_mode": {
    "name": "ipython",
    "version": 3
   },
   "file_extension": ".py",
   "mimetype": "text/x-python",
   "name": "python",
   "nbconvert_exporter": "python",
   "pygments_lexer": "ipython3",
   "version": "3.7.3"
  }
 },
 "nbformat": 4,
 "nbformat_minor": 2
}
