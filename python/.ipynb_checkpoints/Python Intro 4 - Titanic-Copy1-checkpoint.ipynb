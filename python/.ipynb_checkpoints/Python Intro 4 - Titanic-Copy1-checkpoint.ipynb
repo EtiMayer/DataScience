{
 "cells": [
  {
   "cell_type": "markdown",
   "metadata": {},
   "source": [
    "# Understanding the Titanic Survival\n",
    "\n",
    "<img src=\"https://upload.wikimedia.org/wikipedia/commons/6/6e/St%C3%B6wer_Titanic.jpg\" />\n",
    " \n",
    "Wellcome to the Titanic, the largest British ship at the time,  that sank in the North \n",
    "Atlantic Ocean in the early hours of 15 April 1912. \n",
    " \n",
    "In this notebook we will try to undestand the characteristics of the individuals that were at the Titanic, how many survived and who survived.\n",
    "\n",
    "Please download the titanic.csv file from the Google Drive into your computer and load it\n",
    "using Pandas.\n",
    "\n",
    "This dataset is a partial dataset used as the training set on Kaggle's Titanic challenge.\n",
    "\n",
    "###  NOTE: Open this notebook in Jupiter and make a copy of it (File ->  Make a copy). Work on the copied notebook so you can use the original notebook as a reference for the expected results.\n",
    " \n",
    "I recommend you to try to repeat the same analysis we make here using R :-)\n",
    " "
   ]
  },
  {
   "cell_type": "code",
   "execution_count": 4,
   "metadata": {},
   "outputs": [],
   "source": [
    "import numpy as np #aggregeations\n",
    "import pandas as pd #DataFrames\n",
    "import matplotlib.pyplot as plt #for Graphs\n",
    "import seaborn as sns #Graphs"
   ]
  },
  {
   "cell_type": "code",
   "execution_count": 5,
   "metadata": {},
   "outputs": [],
   "source": [
    "### change this to the path you downloded the file\n",
    "path = \"../data/titanic.csv\""
   ]
  },
  {
   "cell_type": "code",
   "execution_count": 8,
   "metadata": {},
   "outputs": [
    {
     "data": {
      "text/html": [
       "<div>\n",
       "<style scoped>\n",
       "    .dataframe tbody tr th:only-of-type {\n",
       "        vertical-align: middle;\n",
       "    }\n",
       "\n",
       "    .dataframe tbody tr th {\n",
       "        vertical-align: top;\n",
       "    }\n",
       "\n",
       "    .dataframe thead th {\n",
       "        text-align: right;\n",
       "    }\n",
       "</style>\n",
       "<table border=\"1\" class=\"dataframe\">\n",
       "  <thead>\n",
       "    <tr style=\"text-align: right;\">\n",
       "      <th></th>\n",
       "      <th>PassengerId</th>\n",
       "      <th>Survived</th>\n",
       "      <th>Pclass</th>\n",
       "      <th>Name</th>\n",
       "      <th>Sex</th>\n",
       "      <th>Age</th>\n",
       "      <th>SibSp</th>\n",
       "      <th>Parch</th>\n",
       "      <th>Ticket</th>\n",
       "      <th>Fare</th>\n",
       "      <th>Cabin</th>\n",
       "      <th>Embarked</th>\n",
       "    </tr>\n",
       "  </thead>\n",
       "  <tbody>\n",
       "    <tr>\n",
       "      <th>0</th>\n",
       "      <td>1</td>\n",
       "      <td>0</td>\n",
       "      <td>3</td>\n",
       "      <td>Braund, Mr. Owen Harris</td>\n",
       "      <td>male</td>\n",
       "      <td>22.0</td>\n",
       "      <td>1</td>\n",
       "      <td>0</td>\n",
       "      <td>A/5 21171</td>\n",
       "      <td>7.2500</td>\n",
       "      <td>NaN</td>\n",
       "      <td>S</td>\n",
       "    </tr>\n",
       "    <tr>\n",
       "      <th>1</th>\n",
       "      <td>2</td>\n",
       "      <td>1</td>\n",
       "      <td>1</td>\n",
       "      <td>Cumings, Mrs. John Bradley (Florence Briggs Th...</td>\n",
       "      <td>female</td>\n",
       "      <td>38.0</td>\n",
       "      <td>1</td>\n",
       "      <td>0</td>\n",
       "      <td>PC 17599</td>\n",
       "      <td>71.2833</td>\n",
       "      <td>C85</td>\n",
       "      <td>C</td>\n",
       "    </tr>\n",
       "    <tr>\n",
       "      <th>2</th>\n",
       "      <td>3</td>\n",
       "      <td>1</td>\n",
       "      <td>3</td>\n",
       "      <td>Heikkinen, Miss. Laina</td>\n",
       "      <td>female</td>\n",
       "      <td>26.0</td>\n",
       "      <td>0</td>\n",
       "      <td>0</td>\n",
       "      <td>STON/O2. 3101282</td>\n",
       "      <td>7.9250</td>\n",
       "      <td>NaN</td>\n",
       "      <td>S</td>\n",
       "    </tr>\n",
       "    <tr>\n",
       "      <th>3</th>\n",
       "      <td>4</td>\n",
       "      <td>1</td>\n",
       "      <td>1</td>\n",
       "      <td>Futrelle, Mrs. Jacques Heath (Lily May Peel)</td>\n",
       "      <td>female</td>\n",
       "      <td>35.0</td>\n",
       "      <td>1</td>\n",
       "      <td>0</td>\n",
       "      <td>113803</td>\n",
       "      <td>53.1000</td>\n",
       "      <td>C123</td>\n",
       "      <td>S</td>\n",
       "    </tr>\n",
       "    <tr>\n",
       "      <th>4</th>\n",
       "      <td>5</td>\n",
       "      <td>0</td>\n",
       "      <td>3</td>\n",
       "      <td>Allen, Mr. William Henry</td>\n",
       "      <td>male</td>\n",
       "      <td>35.0</td>\n",
       "      <td>0</td>\n",
       "      <td>0</td>\n",
       "      <td>373450</td>\n",
       "      <td>8.0500</td>\n",
       "      <td>NaN</td>\n",
       "      <td>S</td>\n",
       "    </tr>\n",
       "  </tbody>\n",
       "</table>\n",
       "</div>"
      ],
      "text/plain": [
       "   PassengerId  Survived  Pclass  \\\n",
       "0            1         0       3   \n",
       "1            2         1       1   \n",
       "2            3         1       3   \n",
       "3            4         1       1   \n",
       "4            5         0       3   \n",
       "\n",
       "                                                Name     Sex   Age  SibSp  \\\n",
       "0                            Braund, Mr. Owen Harris    male  22.0      1   \n",
       "1  Cumings, Mrs. John Bradley (Florence Briggs Th...  female  38.0      1   \n",
       "2                             Heikkinen, Miss. Laina  female  26.0      0   \n",
       "3       Futrelle, Mrs. Jacques Heath (Lily May Peel)  female  35.0      1   \n",
       "4                           Allen, Mr. William Henry    male  35.0      0   \n",
       "\n",
       "   Parch            Ticket     Fare Cabin Embarked  \n",
       "0      0         A/5 21171   7.2500   NaN        S  \n",
       "1      0          PC 17599  71.2833   C85        C  \n",
       "2      0  STON/O2. 3101282   7.9250   NaN        S  \n",
       "3      0            113803  53.1000  C123        S  \n",
       "4      0            373450   8.0500   NaN        S  "
      ]
     },
     "execution_count": 8,
     "metadata": {},
     "output_type": "execute_result"
    }
   ],
   "source": [
    "### user pandas to read the csv (read_csv())\n",
    "### show the top rows\n",
    "\n",
    "titanic = pd.read_csv(path)\n",
    "titanic.head()"
   ]
  },
  {
   "cell_type": "markdown",
   "metadata": {},
   "source": [
    "#### Columns\n",
    " \n",
    "Those the descriptions of the variables in this dataset:\n",
    "\n",
    "<table>\n",
    "    <tr><th> PassengerId </th><td> type should be integers </td></tr>\n",
    "    <tr><th> Survived </th><td> Survived=1 or Not=0</td></tr>\n",
    "    <tr><th> Pclass </th><td> Class of Travel = 1,2,3 </td></tr>\n",
    "    <tr><th> Name </th><td> Name of Passenger </td></tr>\n",
    "    <tr><th> Sex </th><td> Gender = f,m </td></tr>\n",
    "    <tr><th> Age </th><td> </td></tr>\n",
    "    <tr><th> SibSp </th><td> Number of Sibling/Spouse abord </td></tr>\n",
    "    <tr><th> Parch </th><td> Number of Parent/Child abord </td></tr>\n",
    "    <tr><th> Ticket </th><td> </td></tr>\n",
    "    <tr><th> Fare </th><td> </td></tr>\n",
    "    <tr><th> Cabin </th><td> </td></tr>\n",
    "    <tr><th> Embarked </th><td> The port in which a passenger has embarked. <br> C - Cherbourg, S - Southampton, Q = Queenstown </td></tr>\n",
    "</table>\n"
   ]
  },
  {
   "cell_type": "markdown",
   "metadata": {},
   "source": [
    "#### Passangers and Survival\n",
    " \n",
    "First, lets check how many passangers are on the Titanic's dataset and how many of them survived?"
   ]
  },
  {
   "cell_type": "code",
   "execution_count": 32,
   "metadata": {},
   "outputs": [
    {
     "name": "stdout",
     "output_type": "stream",
     "text": [
      "We have 891 passangers but only 342 of them survived (38.383838%)\n"
     ]
    }
   ],
   "source": [
    "passangers = pd.np.count_nonzero(titanic.PassengerId)  #be carful from this function, it might not count all passengers\n",
    "survived = pd.np.sum(titanic.Survived)\n",
    "\n",
    "print(\"We have %d passangers but only %d of them survived (%f%%)\" % (passangers, survived, (survived/passangers*100)))\n"
   ]
  },
  {
   "cell_type": "markdown",
   "metadata": {},
   "source": [
    "Answer: We have 891 passangers but only 342 of them survived (38.383838%)"
   ]
  },
  {
   "cell_type": "code",
   "execution_count": 18,
   "metadata": {},
   "outputs": [
    {
     "name": "stdout",
     "output_type": "stream",
     "text": [
      "We have 891 passangers but only 342 of them survived (38.383838%)\n"
     ]
    }
   ],
   "source": [
    "Another way\n",
    "#passangers = len(titanic)\n",
    "passangers = titanic.shape[0]\n",
    "survived = sum(titanic[\"Survived\"])\n",
    "\n",
    "print(\"We have %d passangers but only %d of them survived (%f%%)\" % (passangers, survived, (survived/passangers*100)))\n"
   ]
  },
  {
   "cell_type": "markdown",
   "metadata": {},
   "source": [
    "#### Missing values\n",
    " \n",
    "How many missing values are in the dataset?"
   ]
  },
  {
   "cell_type": "code",
   "execution_count": 29,
   "metadata": {},
   "outputs": [
    {
     "data": {
      "text/plain": [
       "PassengerId      0\n",
       "Survived         0\n",
       "Pclass           0\n",
       "Name             0\n",
       "Sex              0\n",
       "Age            177\n",
       "SibSp            0\n",
       "Parch            0\n",
       "Ticket           0\n",
       "Fare             0\n",
       "Cabin          687\n",
       "Embarked         2\n",
       "dtype: int64"
      ]
     },
     "execution_count": 29,
     "metadata": {},
     "output_type": "execute_result"
    }
   ],
   "source": [
    "### use the function isnull() and the function sum()\n",
    "titanic.isnull().sum()\n",
    "#or:\n",
    "#titanic.isna().sum()"
   ]
  },
  {
   "cell_type": "markdown",
   "metadata": {},
   "source": [
    "Answer: The only variables having missing values are: Age (177), Cabin (687) and Emberked (2)"
   ]
  },
  {
   "cell_type": "markdown",
   "metadata": {},
   "source": [
    "#### Gender distribution and survival\n",
    "\n",
    "How distributed the survivors by gender?"
   ]
  },
  {
   "cell_type": "code",
   "execution_count": 36,
   "metadata": {},
   "outputs": [
    {
     "data": {
      "text/html": [
       "<div>\n",
       "<style scoped>\n",
       "    .dataframe tbody tr th:only-of-type {\n",
       "        vertical-align: middle;\n",
       "    }\n",
       "\n",
       "    .dataframe tbody tr th {\n",
       "        vertical-align: top;\n",
       "    }\n",
       "\n",
       "    .dataframe thead tr th {\n",
       "        text-align: left;\n",
       "    }\n",
       "\n",
       "    .dataframe thead tr:last-of-type th {\n",
       "        text-align: right;\n",
       "    }\n",
       "</style>\n",
       "<table border=\"1\" class=\"dataframe\">\n",
       "  <thead>\n",
       "    <tr>\n",
       "      <th></th>\n",
       "      <th colspan=\"3\" halign=\"left\">Survived</th>\n",
       "    </tr>\n",
       "    <tr>\n",
       "      <th></th>\n",
       "      <th>count</th>\n",
       "      <th>sum</th>\n",
       "      <th>mean</th>\n",
       "    </tr>\n",
       "    <tr>\n",
       "      <th>Sex</th>\n",
       "      <th></th>\n",
       "      <th></th>\n",
       "      <th></th>\n",
       "    </tr>\n",
       "  </thead>\n",
       "  <tbody>\n",
       "    <tr>\n",
       "      <th>female</th>\n",
       "      <td>314</td>\n",
       "      <td>233</td>\n",
       "      <td>0.742038</td>\n",
       "    </tr>\n",
       "    <tr>\n",
       "      <th>male</th>\n",
       "      <td>577</td>\n",
       "      <td>109</td>\n",
       "      <td>0.188908</td>\n",
       "    </tr>\n",
       "  </tbody>\n",
       "</table>\n",
       "</div>"
      ],
      "text/plain": [
       "       Survived               \n",
       "          count  sum      mean\n",
       "Sex                           \n",
       "female      314  233  0.742038\n",
       "male        577  109  0.188908"
      ]
     },
     "execution_count": 36,
     "metadata": {},
     "output_type": "execute_result"
    }
   ],
   "source": [
    "## use groupby() and agg() to get the table bellow\n",
    "titanic.groupby('Sex').agg({'Survived':['count',sum,'mean']}) #creating dictionary grouped by sex"
   ]
  },
  {
   "cell_type": "markdown",
   "metadata": {},
   "source": [
    "Survived\n",
    "\n",
    "Sex\t\tcount\tsum\tmean\n",
    "female\t  314\t233\t0.742038\n",
    "male\t  577\t109\t0.188908\n",
    "\n"
   ]
  },
  {
   "cell_type": "markdown",
   "metadata": {},
   "source": [
    "#### Age distribution and survival\n",
    "\n",
    "Plot the Age frequencies of the passangers. (use an histogram)\n"
   ]
  },
  {
   "cell_type": "code",
   "execution_count": 216,
   "metadata": {},
   "outputs": [
    {
     "data": {
      "text/plain": [
       "count    714.000000\n",
       "mean      29.699118\n",
       "std       14.526497\n",
       "min        0.420000\n",
       "25%       20.125000\n",
       "50%       28.000000\n",
       "75%       38.000000\n",
       "max       80.000000\n",
       "Name: Age, dtype: float64"
      ]
     },
     "execution_count": 216,
     "metadata": {},
     "output_type": "execute_result"
    }
   ],
   "source": [
    "titanic['Age'].describe()"
   ]
  },
  {
   "cell_type": "code",
   "execution_count": 37,
   "metadata": {},
   "outputs": [
    {
     "data": {
      "image/png": "[encoded data removed]",
      "text/plain": [
       "<Figure size 432x288 with 1 Axes>"
      ]
     },
     "metadata": {
      "needs_background": "light"
     },
     "output_type": "display_data"
    }
   ],
   "source": [
    "### As there are null values in Age, we have to drop those nulls adding the .dropna() function !\n",
    "fig, ax = plt.subplots()\n",
    "ax.hist(x=titanic['Age'].dropna()) #dropna - without nulls\n",
    "plt.show()"
   ]
  },
  {
   "cell_type": "code",
   "execution_count": 41,
   "metadata": {},
   "outputs": [
    {
     "ename": "KeyError",
     "evalue": "False",
     "output_type": "error",
     "traceback": [
      "\u001b[1;31m---------------------------------------------------------------------------\u001b[0m",
      "\u001b[1;31mKeyError\u001b[0m                                  Traceback (most recent call last)",
      "\u001b[1;32m~\\Anaconda3\\lib\\site-packages\\pandas\\core\\indexes\\base.py\u001b[0m in \u001b[0;36mget_loc\u001b[1;34m(self, key, method, tolerance)\u001b[0m\n\u001b[0;32m   2656\u001b[0m             \u001b[1;32mtry\u001b[0m\u001b[1;33m:\u001b[0m\u001b[1;33m\u001b[0m\u001b[1;33m\u001b[0m\u001b[0m\n\u001b[1;32m-> 2657\u001b[1;33m                 \u001b[1;32mreturn\u001b[0m \u001b[0mself\u001b[0m\u001b[1;33m.\u001b[0m\u001b[0m_engine\u001b[0m\u001b[1;33m.\u001b[0m\u001b[0mget_loc\u001b[0m\u001b[1;33m(\u001b[0m\u001b[0mkey\u001b[0m\u001b[1;33m)\u001b[0m\u001b[1;33m\u001b[0m\u001b[1;33m\u001b[0m\u001b[0m\n\u001b[0m\u001b[0;32m   2658\u001b[0m             \u001b[1;32mexcept\u001b[0m \u001b[0mKeyError\u001b[0m\u001b[1;33m:\u001b[0m\u001b[1;33m\u001b[0m\u001b[1;33m\u001b[0m\u001b[0m\n",
      "\u001b[1;32mpandas/_libs/index.pyx\u001b[0m in \u001b[0;36mpandas._libs.index.IndexEngine.get_loc\u001b[1;34m()\u001b[0m\n",
      "\u001b[1;32mpandas/_libs/index.pyx\u001b[0m in \u001b[0;36mpandas._libs.index.IndexEngine.get_loc\u001b[1;34m()\u001b[0m\n",
      "\u001b[1;32mpandas/_libs/hashtable_class_helper.pxi\u001b[0m in \u001b[0;36mpandas._libs.hashtable.PyObjectHashTable.get_item\u001b[1;34m()\u001b[0m\n",
      "\u001b[1;32mpandas/_libs/hashtable_class_helper.pxi\u001b[0m in \u001b[0;36mpandas._libs.hashtable.PyObjectHashTable.get_item\u001b[1;34m()\u001b[0m\n",
      "\u001b[1;31mKeyError\u001b[0m: False",
      "\nDuring handling of the above exception, another exception occurred:\n",
      "\u001b[1;31mKeyError\u001b[0m                                  Traceback (most recent call last)",
      "\u001b[1;32m<ipython-input-41-cb5d782b6a03>\u001b[0m in \u001b[0;36m<module>\u001b[1;34m\u001b[0m\n\u001b[0;32m      1\u001b[0m \u001b[1;31m### As there are null values in Age, we have to drop those nulls adding the .dropna() function !\u001b[0m\u001b[1;33m\u001b[0m\u001b[1;33m\u001b[0m\u001b[1;33m\u001b[0m\u001b[0m\n\u001b[1;32m----> 2\u001b[1;33m \u001b[0mmale\u001b[0m \u001b[1;33m=\u001b[0m \u001b[0mtitanic\u001b[0m\u001b[1;33m.\u001b[0m\u001b[0mloc\u001b[0m\u001b[1;33m(\u001b[0m\u001b[1;33m[\u001b[0m\u001b[0mtitanic\u001b[0m\u001b[1;33m[\u001b[0m\u001b[1;34m'Sex'\u001b[0m \u001b[1;33m==\u001b[0m \u001b[1;34m'male'\u001b[0m\u001b[1;33m]\u001b[0m\u001b[1;33m]\u001b[0m\u001b[1;33m)\u001b[0m\u001b[1;33m\u001b[0m\u001b[1;33m\u001b[0m\u001b[0m\n\u001b[0m\u001b[0;32m      3\u001b[0m \u001b[0mfemale\u001b[0m \u001b[1;33m=\u001b[0m \u001b[0mtitanic\u001b[0m\u001b[1;33m.\u001b[0m\u001b[0mloc\u001b[0m\u001b[1;33m(\u001b[0m\u001b[1;33m[\u001b[0m\u001b[0mtitanic\u001b[0m\u001b[1;33m[\u001b[0m\u001b[1;34m'Sex'\u001b[0m \u001b[1;33m==\u001b[0m \u001b[1;34m'female'\u001b[0m\u001b[1;33m]\u001b[0m\u001b[1;33m]\u001b[0m\u001b[1;33m)\u001b[0m\u001b[1;33m\u001b[0m\u001b[1;33m\u001b[0m\u001b[0m\n\u001b[0;32m      4\u001b[0m \u001b[0mfig\u001b[0m\u001b[1;33m,\u001b[0m \u001b[0max\u001b[0m \u001b[1;33m=\u001b[0m \u001b[0mplt\u001b[0m\u001b[1;33m.\u001b[0m\u001b[0msubplots\u001b[0m\u001b[1;33m(\u001b[0m\u001b[1;33m)\u001b[0m\u001b[1;33m\u001b[0m\u001b[1;33m\u001b[0m\u001b[0m\n\u001b[0;32m      5\u001b[0m \u001b[0max\u001b[0m\u001b[1;33m.\u001b[0m\u001b[0mhist\u001b[0m\u001b[1;33m(\u001b[0m\u001b[0mx\u001b[0m\u001b[1;33m=\u001b[0m\u001b[0mmale\u001b[0m\u001b[1;33m[\u001b[0m\u001b[1;34m'Age'\u001b[0m\u001b[1;33m]\u001b[0m\u001b[1;33m.\u001b[0m\u001b[0mdropna\u001b[0m\u001b[1;33m(\u001b[0m\u001b[1;33m)\u001b[0m\u001b[1;33m)\u001b[0m\u001b[1;33m\u001b[0m\u001b[1;33m\u001b[0m\u001b[0m\n",
      "\u001b[1;32m~\\Anaconda3\\lib\\site-packages\\pandas\\core\\frame.py\u001b[0m in \u001b[0;36m__getitem__\u001b[1;34m(self, key)\u001b[0m\n\u001b[0;32m   2925\u001b[0m             \u001b[1;32mif\u001b[0m \u001b[0mself\u001b[0m\u001b[1;33m.\u001b[0m\u001b[0mcolumns\u001b[0m\u001b[1;33m.\u001b[0m\u001b[0mnlevels\u001b[0m \u001b[1;33m>\u001b[0m \u001b[1;36m1\u001b[0m\u001b[1;33m:\u001b[0m\u001b[1;33m\u001b[0m\u001b[1;33m\u001b[0m\u001b[0m\n\u001b[0;32m   2926\u001b[0m                 \u001b[1;32mreturn\u001b[0m \u001b[0mself\u001b[0m\u001b[1;33m.\u001b[0m\u001b[0m_getitem_multilevel\u001b[0m\u001b[1;33m(\u001b[0m\u001b[0mkey\u001b[0m\u001b[1;33m)\u001b[0m\u001b[1;33m\u001b[0m\u001b[1;33m\u001b[0m\u001b[0m\n\u001b[1;32m-> 2927\u001b[1;33m             \u001b[0mindexer\u001b[0m \u001b[1;33m=\u001b[0m \u001b[0mself\u001b[0m\u001b[1;33m.\u001b[0m\u001b[0mcolumns\u001b[0m\u001b[1;33m.\u001b[0m\u001b[0mget_loc\u001b[0m\u001b[1;33m(\u001b[0m\u001b[0mkey\u001b[0m\u001b[1;33m)\u001b[0m\u001b[1;33m\u001b[0m\u001b[1;33m\u001b[0m\u001b[0m\n\u001b[0m\u001b[0;32m   2928\u001b[0m             \u001b[1;32mif\u001b[0m \u001b[0mis_integer\u001b[0m\u001b[1;33m(\u001b[0m\u001b[0mindexer\u001b[0m\u001b[1;33m)\u001b[0m\u001b[1;33m:\u001b[0m\u001b[1;33m\u001b[0m\u001b[1;33m\u001b[0m\u001b[0m\n\u001b[0;32m   2929\u001b[0m                 \u001b[0mindexer\u001b[0m \u001b[1;33m=\u001b[0m \u001b[1;33m[\u001b[0m\u001b[0mindexer\u001b[0m\u001b[1;33m]\u001b[0m\u001b[1;33m\u001b[0m\u001b[1;33m\u001b[0m\u001b[0m\n",
      "\u001b[1;32m~\\Anaconda3\\lib\\site-packages\\pandas\\core\\indexes\\base.py\u001b[0m in \u001b[0;36mget_loc\u001b[1;34m(self, key, method, tolerance)\u001b[0m\n\u001b[0;32m   2657\u001b[0m                 \u001b[1;32mreturn\u001b[0m \u001b[0mself\u001b[0m\u001b[1;33m.\u001b[0m\u001b[0m_engine\u001b[0m\u001b[1;33m.\u001b[0m\u001b[0mget_loc\u001b[0m\u001b[1;33m(\u001b[0m\u001b[0mkey\u001b[0m\u001b[1;33m)\u001b[0m\u001b[1;33m\u001b[0m\u001b[1;33m\u001b[0m\u001b[0m\n\u001b[0;32m   2658\u001b[0m             \u001b[1;32mexcept\u001b[0m \u001b[0mKeyError\u001b[0m\u001b[1;33m:\u001b[0m\u001b[1;33m\u001b[0m\u001b[1;33m\u001b[0m\u001b[0m\n\u001b[1;32m-> 2659\u001b[1;33m                 \u001b[1;32mreturn\u001b[0m \u001b[0mself\u001b[0m\u001b[1;33m.\u001b[0m\u001b[0m_engine\u001b[0m\u001b[1;33m.\u001b[0m\u001b[0mget_loc\u001b[0m\u001b[1;33m(\u001b[0m\u001b[0mself\u001b[0m\u001b[1;33m.\u001b[0m\u001b[0m_maybe_cast_indexer\u001b[0m\u001b[1;33m(\u001b[0m\u001b[0mkey\u001b[0m\u001b[1;33m)\u001b[0m\u001b[1;33m)\u001b[0m\u001b[1;33m\u001b[0m\u001b[1;33m\u001b[0m\u001b[0m\n\u001b[0m\u001b[0;32m   2660\u001b[0m         \u001b[0mindexer\u001b[0m \u001b[1;33m=\u001b[0m \u001b[0mself\u001b[0m\u001b[1;33m.\u001b[0m\u001b[0mget_indexer\u001b[0m\u001b[1;33m(\u001b[0m\u001b[1;33m[\u001b[0m\u001b[0mkey\u001b[0m\u001b[1;33m]\u001b[0m\u001b[1;33m,\u001b[0m \u001b[0mmethod\u001b[0m\u001b[1;33m=\u001b[0m\u001b[0mmethod\u001b[0m\u001b[1;33m,\u001b[0m \u001b[0mtolerance\u001b[0m\u001b[1;33m=\u001b[0m\u001b[0mtolerance\u001b[0m\u001b[1;33m)\u001b[0m\u001b[1;33m\u001b[0m\u001b[1;33m\u001b[0m\u001b[0m\n\u001b[0;32m   2661\u001b[0m         \u001b[1;32mif\u001b[0m \u001b[0mindexer\u001b[0m\u001b[1;33m.\u001b[0m\u001b[0mndim\u001b[0m \u001b[1;33m>\u001b[0m \u001b[1;36m1\u001b[0m \u001b[1;32mor\u001b[0m \u001b[0mindexer\u001b[0m\u001b[1;33m.\u001b[0m\u001b[0msize\u001b[0m \u001b[1;33m>\u001b[0m \u001b[1;36m1\u001b[0m\u001b[1;33m:\u001b[0m\u001b[1;33m\u001b[0m\u001b[1;33m\u001b[0m\u001b[0m\n",
      "\u001b[1;32mpandas/_libs/index.pyx\u001b[0m in \u001b[0;36mpandas._libs.index.IndexEngine.get_loc\u001b[1;34m()\u001b[0m\n",
      "\u001b[1;32mpandas/_libs/index.pyx\u001b[0m in \u001b[0;36mpandas._libs.index.IndexEngine.get_loc\u001b[1;34m()\u001b[0m\n",
      "\u001b[1;32mpandas/_libs/hashtable_class_helper.pxi\u001b[0m in \u001b[0;36mpandas._libs.hashtable.PyObjectHashTable.get_item\u001b[1;34m()\u001b[0m\n",
      "\u001b[1;32mpandas/_libs/hashtable_class_helper.pxi\u001b[0m in \u001b[0;36mpandas._libs.hashtable.PyObjectHashTable.get_item\u001b[1;34m()\u001b[0m\n",
      "\u001b[1;31mKeyError\u001b[0m: False"
     ]
    }
   ],
   "source": [
    "### As there are null values in Age, we have to drop those nulls adding the .dropna() function !\n",
    "male = titanic.loc([titanic['Sex' == 'male']])\n",
    "female = titanic.loc([titanic['Sex' == 'female']])\n",
    "fig, ax = plt.subplots()\n",
    "ax.hist(x=male['Age'].dropna())\n",
    "ax.hist(x=female['Age'].dropna())\n",
    "plt.show()"
   ]
  },
  {
   "cell_type": "code",
   "execution_count": 218,
   "metadata": {},
   "outputs": [
    {
     "data": {
      "text/plain": [
       "(0.0, 100.0)"
      ]
     },
     "execution_count": 218,
     "metadata": {},
     "output_type": "execute_result"
    },
    {
     "data": {
      "image/png": "[encoded data removed]",
      "text/plain": [
       "<Figure size 432x288 with 1 Axes>"
      ]
     },
     "metadata": {},
     "output_type": "display_data"
    }
   ],
   "source": [
    "### A more sophisticated example...\n",
    "n, bins, patches = plt.hist(x=titanic['Age'].dropna(), bins='auto', color='#0504aa',alpha=0.7, rwidth=0.85)\n",
    "plt.grid(axis='y', alpha=0.75)\n",
    "plt.xlabel('Age')\n",
    "plt.ylabel('Frequency')\n",
    "plt.title('Age Distribution of the Titanic Passengers')\n",
    "maxfreq = n.max()\n",
    "# Set a clean upper y-axis limit.\n",
    "plt.ylim(ymax=np.ceil(maxfreq / 10) * 10 if maxfreq % 10 else maxfreq + 10)\n"
   ]
  },
  {
   "cell_type": "code",
   "execution_count": 58,
   "metadata": {},
   "outputs": [
    {
     "data": {
      "text/plain": [
       "<matplotlib.axes._subplots.AxesSubplot at 0x2151882d710>"
      ]
     },
     "execution_count": 58,
     "metadata": {},
     "output_type": "execute_result"
    },
    {
     "data": {
      "image/png": "[encoded data removed]",
      "text/plain": [
       "<Figure size 432x288 with 1 Axes>"
      ]
     },
     "metadata": {
      "needs_background": "light"
     },
     "output_type": "display_data"
    }
   ],
   "source": [
    "### using seaborn... easier to create...\n",
    "\n",
    "sns.distplot(titanic['Age'].dropna(),kde=True, color=\"r\")   #kde = True add the line "
   ]
  },
  {
   "cell_type": "markdown",
   "metadata": {},
   "source": [
    "\n",
    "Create a new variable that will divide the passangers in four age categories:\n",
    "\n",
    "- Babies: 0-5\n",
    "- Children: 6-12 years old\n",
    "- Young: 13-17 years old\n",
    "- Adult: 18-59 years old\n",
    "- Older: 60+ years old\n",
    "\n",
    "How many (number and percent) survived on each age group? (We will use the mean function as the percentage)\n"
   ]
  },
  {
   "cell_type": "code",
   "execution_count": 82,
   "metadata": {},
   "outputs": [
    {
     "data": {
      "text/plain": [
       "0       18-59\n",
       "1       18-59\n",
       "2       18-59\n",
       "3       18-59\n",
       "4       18-59\n",
       "5      No Age\n",
       "6       18-59\n",
       "7         0-5\n",
       "8       18-59\n",
       "9       13-17\n",
       "10        0-5\n",
       "11      18-59\n",
       "12      18-59\n",
       "13      18-59\n",
       "14      13-17\n",
       "15      18-59\n",
       "16        0-5\n",
       "17     No Age\n",
       "18      18-59\n",
       "19     No Age\n",
       "20      18-59\n",
       "21      18-59\n",
       "22      13-17\n",
       "23      18-59\n",
       "24       6-12\n",
       "25      18-59\n",
       "26     No Age\n",
       "27      18-59\n",
       "28     No Age\n",
       "29     No Age\n",
       "        ...  \n",
       "861     18-59\n",
       "862     18-59\n",
       "863    No Age\n",
       "864     18-59\n",
       "865     18-59\n",
       "866     18-59\n",
       "867     18-59\n",
       "868    No Age\n",
       "869       0-5\n",
       "870     18-59\n",
       "871     18-59\n",
       "872     18-59\n",
       "873     18-59\n",
       "874     18-59\n",
       "875     13-17\n",
       "876     18-59\n",
       "877     18-59\n",
       "878    No Age\n",
       "879     18-59\n",
       "880     18-59\n",
       "881     18-59\n",
       "882     18-59\n",
       "883     18-59\n",
       "884     18-59\n",
       "885     18-59\n",
       "886     18-59\n",
       "887     18-59\n",
       "888    No Age\n",
       "889     18-59\n",
       "890     18-59\n",
       "Name: AgeGroup, Length: 891, dtype: object"
      ]
     },
     "execution_count": 82,
     "metadata": {},
     "output_type": "execute_result"
    }
   ],
   "source": [
    "### create the categorical variables\n",
    "titanic['AgeGroup'] = '18-59'\n",
    "titanic.loc[(titanic['Age'] < 6, 'AgeGroup')] = '0-5'\n",
    "titanic.loc[(titanic['Age'] >= 6) & (titanic['Age'] <= 12), 'AgeGroup'] = '6-12'\n",
    "titanic.loc[(titanic['Age'] >= 13) & (titanic['Age'] <= 17), 'AgeGroup'] = '13-17'\n",
    "titanic.loc[(titanic['Age'] >= 60, 'AgeGroup')] = '60+'\n",
    "titanic.loc[(titanic['Age'].isnull()), 'AgeGroup'] = 'No Age'\n",
    "\n",
    "titanic['AgeGroup']\n"
   ]
  },
  {
   "cell_type": "code",
   "execution_count": 83,
   "metadata": {},
   "outputs": [
    {
     "data": {
      "text/html": [
       "<div>\n",
       "<style scoped>\n",
       "    .dataframe tbody tr th:only-of-type {\n",
       "        vertical-align: middle;\n",
       "    }\n",
       "\n",
       "    .dataframe tbody tr th {\n",
       "        vertical-align: top;\n",
       "    }\n",
       "\n",
       "    .dataframe thead tr th {\n",
       "        text-align: left;\n",
       "    }\n",
       "\n",
       "    .dataframe thead tr:last-of-type th {\n",
       "        text-align: right;\n",
       "    }\n",
       "</style>\n",
       "<table border=\"1\" class=\"dataframe\">\n",
       "  <thead>\n",
       "    <tr>\n",
       "      <th></th>\n",
       "      <th colspan=\"3\" halign=\"left\">Survived</th>\n",
       "    </tr>\n",
       "    <tr>\n",
       "      <th></th>\n",
       "      <th>count</th>\n",
       "      <th>sum</th>\n",
       "      <th>mean</th>\n",
       "    </tr>\n",
       "    <tr>\n",
       "      <th>AgeGroup</th>\n",
       "      <th></th>\n",
       "      <th></th>\n",
       "      <th></th>\n",
       "    </tr>\n",
       "  </thead>\n",
       "  <tbody>\n",
       "    <tr>\n",
       "      <th>0-5</th>\n",
       "      <td>44</td>\n",
       "      <td>31</td>\n",
       "      <td>0.704545</td>\n",
       "    </tr>\n",
       "    <tr>\n",
       "      <th>13-17</th>\n",
       "      <td>44</td>\n",
       "      <td>21</td>\n",
       "      <td>0.477273</td>\n",
       "    </tr>\n",
       "    <tr>\n",
       "      <th>18-59</th>\n",
       "      <td>575</td>\n",
       "      <td>222</td>\n",
       "      <td>0.386087</td>\n",
       "    </tr>\n",
       "    <tr>\n",
       "      <th>6-12</th>\n",
       "      <td>25</td>\n",
       "      <td>9</td>\n",
       "      <td>0.360000</td>\n",
       "    </tr>\n",
       "    <tr>\n",
       "      <th>60+</th>\n",
       "      <td>26</td>\n",
       "      <td>7</td>\n",
       "      <td>0.269231</td>\n",
       "    </tr>\n",
       "    <tr>\n",
       "      <th>No Age</th>\n",
       "      <td>177</td>\n",
       "      <td>52</td>\n",
       "      <td>0.293785</td>\n",
       "    </tr>\n",
       "  </tbody>\n",
       "</table>\n",
       "</div>"
      ],
      "text/plain": [
       "         Survived               \n",
       "            count  sum      mean\n",
       "AgeGroup                        \n",
       "0-5            44   31  0.704545\n",
       "13-17          44   21  0.477273\n",
       "18-59         575  222  0.386087\n",
       "6-12           25    9  0.360000\n",
       "60+            26    7  0.269231\n",
       "No Age        177   52  0.293785"
      ]
     },
     "execution_count": 83,
     "metadata": {},
     "output_type": "execute_result"
    }
   ],
   "source": [
    "## use groupby() and agg() to get the table bellow\n",
    "titanic.groupby('AgeGroup').agg({'Survived':['count',sum,'mean']}) #creating dictionary grouped by AgeGroup"
   ]
  },
  {
   "cell_type": "markdown",
   "metadata": {},
   "source": [
    "\tSurvived\n",
    "\n",
    "AgeGroup count\tsum\tmean\t\t\t\n",
    "0-5\t      44\t31\t0.704545\n",
    "6-12\t  25\t9\t0.360000\n",
    "13-17\t  44\t21\t0.477273\n",
    "18-59\t  752\t274\t0.364362\n",
    "60+\t      26\t7\t0.269231"
   ]
  },
  {
   "cell_type": "markdown",
   "metadata": {},
   "source": [
    "#### Age-Gender Survival\n",
    "\n",
    "Where there differences on survival by age group and gender?"
   ]
  },
  {
   "cell_type": "code",
   "execution_count": 85,
   "metadata": {},
   "outputs": [
    {
     "data": {
      "text/html": [
       "<div>\n",
       "<style scoped>\n",
       "    .dataframe tbody tr th:only-of-type {\n",
       "        vertical-align: middle;\n",
       "    }\n",
       "\n",
       "    .dataframe tbody tr th {\n",
       "        vertical-align: top;\n",
       "    }\n",
       "\n",
       "    .dataframe thead tr th {\n",
       "        text-align: left;\n",
       "    }\n",
       "\n",
       "    .dataframe thead tr:last-of-type th {\n",
       "        text-align: right;\n",
       "    }\n",
       "</style>\n",
       "<table border=\"1\" class=\"dataframe\">\n",
       "  <thead>\n",
       "    <tr>\n",
       "      <th></th>\n",
       "      <th></th>\n",
       "      <th colspan=\"3\" halign=\"left\">Survived</th>\n",
       "    </tr>\n",
       "    <tr>\n",
       "      <th></th>\n",
       "      <th></th>\n",
       "      <th>count</th>\n",
       "      <th>sum</th>\n",
       "      <th>mean</th>\n",
       "    </tr>\n",
       "    <tr>\n",
       "      <th>Sex</th>\n",
       "      <th>AgeGroup</th>\n",
       "      <th></th>\n",
       "      <th></th>\n",
       "      <th></th>\n",
       "    </tr>\n",
       "  </thead>\n",
       "  <tbody>\n",
       "    <tr>\n",
       "      <th rowspan=\"6\" valign=\"top\">female</th>\n",
       "      <th>0-5</th>\n",
       "      <td>21</td>\n",
       "      <td>16</td>\n",
       "      <td>0.761905</td>\n",
       "    </tr>\n",
       "    <tr>\n",
       "      <th>13-17</th>\n",
       "      <td>23</td>\n",
       "      <td>19</td>\n",
       "      <td>0.826087</td>\n",
       "    </tr>\n",
       "    <tr>\n",
       "      <th>18-59</th>\n",
       "      <td>202</td>\n",
       "      <td>155</td>\n",
       "      <td>0.767327</td>\n",
       "    </tr>\n",
       "    <tr>\n",
       "      <th>6-12</th>\n",
       "      <td>11</td>\n",
       "      <td>3</td>\n",
       "      <td>0.272727</td>\n",
       "    </tr>\n",
       "    <tr>\n",
       "      <th>60+</th>\n",
       "      <td>4</td>\n",
       "      <td>4</td>\n",
       "      <td>1.000000</td>\n",
       "    </tr>\n",
       "    <tr>\n",
       "      <th>No Age</th>\n",
       "      <td>53</td>\n",
       "      <td>36</td>\n",
       "      <td>0.679245</td>\n",
       "    </tr>\n",
       "    <tr>\n",
       "      <th rowspan=\"6\" valign=\"top\">male</th>\n",
       "      <th>0-5</th>\n",
       "      <td>23</td>\n",
       "      <td>15</td>\n",
       "      <td>0.652174</td>\n",
       "    </tr>\n",
       "    <tr>\n",
       "      <th>13-17</th>\n",
       "      <td>21</td>\n",
       "      <td>2</td>\n",
       "      <td>0.095238</td>\n",
       "    </tr>\n",
       "    <tr>\n",
       "      <th>18-59</th>\n",
       "      <td>373</td>\n",
       "      <td>67</td>\n",
       "      <td>0.179625</td>\n",
       "    </tr>\n",
       "    <tr>\n",
       "      <th>6-12</th>\n",
       "      <td>14</td>\n",
       "      <td>6</td>\n",
       "      <td>0.428571</td>\n",
       "    </tr>\n",
       "    <tr>\n",
       "      <th>60+</th>\n",
       "      <td>22</td>\n",
       "      <td>3</td>\n",
       "      <td>0.136364</td>\n",
       "    </tr>\n",
       "    <tr>\n",
       "      <th>No Age</th>\n",
       "      <td>124</td>\n",
       "      <td>16</td>\n",
       "      <td>0.129032</td>\n",
       "    </tr>\n",
       "  </tbody>\n",
       "</table>\n",
       "</div>"
      ],
      "text/plain": [
       "                Survived               \n",
       "                   count  sum      mean\n",
       "Sex    AgeGroup                        \n",
       "female 0-5            21   16  0.761905\n",
       "       13-17          23   19  0.826087\n",
       "       18-59         202  155  0.767327\n",
       "       6-12           11    3  0.272727\n",
       "       60+             4    4  1.000000\n",
       "       No Age         53   36  0.679245\n",
       "male   0-5            23   15  0.652174\n",
       "       13-17          21    2  0.095238\n",
       "       18-59         373   67  0.179625\n",
       "       6-12           14    6  0.428571\n",
       "       60+            22    3  0.136364\n",
       "       No Age        124   16  0.129032"
      ]
     },
     "execution_count": 85,
     "metadata": {},
     "output_type": "execute_result"
    }
   ],
   "source": [
    "## use groupby() and agg() to get the table bellow\n",
    "titanic.groupby(['Sex','AgeGroup']).agg({'Survived':['count',sum,'mean']})"
   ]
  },
  {
   "cell_type": "markdown",
   "metadata": {},
   "source": [
    "Survived\n",
    "\n",
    "Sex\t  AgeGroup count\tsum\tmean\t\t\n",
    "female\t0-5\t    21\t    16\t0.761905\n",
    "        6-12\t11\t    3\t0.272727\n",
    "        13-17\t23\t    19\t0.826087\n",
    "        18-59\t255\t    191\t0.749020\n",
    "        60+\t    4\t    4\t1.000000\n",
    "        No Age  53      36  0.679245\n",
    "male\t0-5\t    23\t    15\t0.652174\n",
    "        6-12\t14\t    6\t0.428571\n",
    "        13-17\t21\t    2\t0.095238\n",
    "        18-59\t497\t    83\t0.167002\n",
    "        60+\t    22\t    3\t0.136364\n",
    "        No Age  124     16  0.129032"
   ]
  },
  {
   "cell_type": "markdown",
   "metadata": {},
   "source": [
    "#### Passenger Class and Survival\n",
    "\n",
    "Was there any difference in the survival among passangers by their ticket class (Pclass) ?"
   ]
  },
  {
   "cell_type": "code",
   "execution_count": 86,
   "metadata": {},
   "outputs": [
    {
     "data": {
      "text/html": [
       "<div>\n",
       "<style scoped>\n",
       "    .dataframe tbody tr th:only-of-type {\n",
       "        vertical-align: middle;\n",
       "    }\n",
       "\n",
       "    .dataframe tbody tr th {\n",
       "        vertical-align: top;\n",
       "    }\n",
       "\n",
       "    .dataframe thead tr th {\n",
       "        text-align: left;\n",
       "    }\n",
       "\n",
       "    .dataframe thead tr:last-of-type th {\n",
       "        text-align: right;\n",
       "    }\n",
       "</style>\n",
       "<table border=\"1\" class=\"dataframe\">\n",
       "  <thead>\n",
       "    <tr>\n",
       "      <th></th>\n",
       "      <th colspan=\"3\" halign=\"left\">Survived</th>\n",
       "    </tr>\n",
       "    <tr>\n",
       "      <th></th>\n",
       "      <th>count</th>\n",
       "      <th>sum</th>\n",
       "      <th>mean</th>\n",
       "    </tr>\n",
       "    <tr>\n",
       "      <th>Pclass</th>\n",
       "      <th></th>\n",
       "      <th></th>\n",
       "      <th></th>\n",
       "    </tr>\n",
       "  </thead>\n",
       "  <tbody>\n",
       "    <tr>\n",
       "      <th>1</th>\n",
       "      <td>216</td>\n",
       "      <td>136</td>\n",
       "      <td>0.629630</td>\n",
       "    </tr>\n",
       "    <tr>\n",
       "      <th>2</th>\n",
       "      <td>184</td>\n",
       "      <td>87</td>\n",
       "      <td>0.472826</td>\n",
       "    </tr>\n",
       "    <tr>\n",
       "      <th>3</th>\n",
       "      <td>491</td>\n",
       "      <td>119</td>\n",
       "      <td>0.242363</td>\n",
       "    </tr>\n",
       "  </tbody>\n",
       "</table>\n",
       "</div>"
      ],
      "text/plain": [
       "       Survived               \n",
       "          count  sum      mean\n",
       "Pclass                        \n",
       "1           216  136  0.629630\n",
       "2           184   87  0.472826\n",
       "3           491  119  0.242363"
      ]
     },
     "execution_count": 86,
     "metadata": {},
     "output_type": "execute_result"
    }
   ],
   "source": [
    "## use groupby() and agg() to get the table bellow\n",
    "titanic.groupby('Pclass').agg({'Survived':['count',sum,'mean']})"
   ]
  },
  {
   "cell_type": "markdown",
   "metadata": {},
   "source": [
    "Survived\n",
    "\n",
    "Pclass\tcount\tsum\tmean\t\t\n",
    "    1\t216\t    136\t0.629630\n",
    "    2\t184\t    87\t0.472826\n",
    "    3\t491\t    119\t0.242363\n"
   ]
  },
  {
   "cell_type": "markdown",
   "metadata": {},
   "source": [
    "#### Traveling alone vs with family\n",
    "\n",
    "Who survived more, individuals that traveled alone or those who traveled with their families?"
   ]
  },
  {
   "cell_type": "code",
   "execution_count": 98,
   "metadata": {},
   "outputs": [
    {
     "data": {
      "text/html": [
       "<div>\n",
       "<style scoped>\n",
       "    .dataframe tbody tr th:only-of-type {\n",
       "        vertical-align: middle;\n",
       "    }\n",
       "\n",
       "    .dataframe tbody tr th {\n",
       "        vertical-align: top;\n",
       "    }\n",
       "\n",
       "    .dataframe thead tr th {\n",
       "        text-align: left;\n",
       "    }\n",
       "\n",
       "    .dataframe thead tr:last-of-type th {\n",
       "        text-align: right;\n",
       "    }\n",
       "</style>\n",
       "<table border=\"1\" class=\"dataframe\">\n",
       "  <thead>\n",
       "    <tr>\n",
       "      <th></th>\n",
       "      <th colspan=\"3\" halign=\"left\">Survived</th>\n",
       "    </tr>\n",
       "    <tr>\n",
       "      <th></th>\n",
       "      <th>count</th>\n",
       "      <th>sum</th>\n",
       "      <th>mean</th>\n",
       "    </tr>\n",
       "    <tr>\n",
       "      <th>TravelAlone</th>\n",
       "      <th></th>\n",
       "      <th></th>\n",
       "      <th></th>\n",
       "    </tr>\n",
       "  </thead>\n",
       "  <tbody>\n",
       "    <tr>\n",
       "      <th>Familys</th>\n",
       "      <td>354</td>\n",
       "      <td>179</td>\n",
       "      <td>0.505650</td>\n",
       "    </tr>\n",
       "    <tr>\n",
       "      <th>Individuals</th>\n",
       "      <td>537</td>\n",
       "      <td>163</td>\n",
       "      <td>0.303538</td>\n",
       "    </tr>\n",
       "  </tbody>\n",
       "</table>\n",
       "</div>"
      ],
      "text/plain": [
       "            Survived               \n",
       "               count  sum      mean\n",
       "TravelAlone                        \n",
       "Familys          354  179  0.505650\n",
       "Individuals      537  163  0.303538"
      ]
     },
     "execution_count": 98,
     "metadata": {},
     "output_type": "execute_result"
    }
   ],
   "source": [
    "# first we have to determine who was alone and who was in family. Use the variables SibSp and Parch\n",
    "titanic['TravelAlone'] = 0\n",
    "titanic.loc[(titanic['SibSp'] == 0) | (titanic['Parch'] == 0), 'TravelAlone'] = 'Individuals'\n",
    "titanic.loc[(titanic['SibSp'] > 0) | (titanic['Parch'] > 0), 'TravelAlone'] = 'Familys'\n",
    "titanic['TravelAlone']\n",
    "\n",
    "titanic.groupby('TravelAlone').agg({'Survived':['count',sum,'mean']})"
   ]
  },
  {
   "cell_type": "markdown",
   "metadata": {},
   "source": [
    "Survived\n",
    "\n",
    "TravelAlone\tcount\tsum\tmean\t\t\n",
    "    0\t     354\t179\t0.505650\n",
    "    1\t     537\t163\t0.303538"
   ]
  },
  {
   "cell_type": "markdown",
   "metadata": {},
   "source": [
    "#### Embarking port and survival\n",
    "\n",
    "Was there any difference in survival related to the embarking port?"
   ]
  },
  {
   "cell_type": "code",
   "execution_count": 99,
   "metadata": {},
   "outputs": [
    {
     "data": {
      "text/html": [
       "<div>\n",
       "<style scoped>\n",
       "    .dataframe tbody tr th:only-of-type {\n",
       "        vertical-align: middle;\n",
       "    }\n",
       "\n",
       "    .dataframe tbody tr th {\n",
       "        vertical-align: top;\n",
       "    }\n",
       "\n",
       "    .dataframe thead tr th {\n",
       "        text-align: left;\n",
       "    }\n",
       "\n",
       "    .dataframe thead tr:last-of-type th {\n",
       "        text-align: right;\n",
       "    }\n",
       "</style>\n",
       "<table border=\"1\" class=\"dataframe\">\n",
       "  <thead>\n",
       "    <tr>\n",
       "      <th></th>\n",
       "      <th colspan=\"3\" halign=\"left\">Survived</th>\n",
       "    </tr>\n",
       "    <tr>\n",
       "      <th></th>\n",
       "      <th>count</th>\n",
       "      <th>sum</th>\n",
       "      <th>mean</th>\n",
       "    </tr>\n",
       "    <tr>\n",
       "      <th>Embarked</th>\n",
       "      <th></th>\n",
       "      <th></th>\n",
       "      <th></th>\n",
       "    </tr>\n",
       "  </thead>\n",
       "  <tbody>\n",
       "    <tr>\n",
       "      <th>C</th>\n",
       "      <td>168</td>\n",
       "      <td>93</td>\n",
       "      <td>0.553571</td>\n",
       "    </tr>\n",
       "    <tr>\n",
       "      <th>Q</th>\n",
       "      <td>77</td>\n",
       "      <td>30</td>\n",
       "      <td>0.389610</td>\n",
       "    </tr>\n",
       "    <tr>\n",
       "      <th>S</th>\n",
       "      <td>644</td>\n",
       "      <td>217</td>\n",
       "      <td>0.336957</td>\n",
       "    </tr>\n",
       "  </tbody>\n",
       "</table>\n",
       "</div>"
      ],
      "text/plain": [
       "         Survived               \n",
       "            count  sum      mean\n",
       "Embarked                        \n",
       "C             168   93  0.553571\n",
       "Q              77   30  0.389610\n",
       "S             644  217  0.336957"
      ]
     },
     "execution_count": 99,
     "metadata": {},
     "output_type": "execute_result"
    }
   ],
   "source": [
    "## use groupby() and agg() to get the table bellow\n",
    "titanic.groupby('Embarked').agg({'Survived':['count',sum,'mean']})"
   ]
  },
  {
   "cell_type": "markdown",
   "metadata": {},
   "source": [
    "Survived\n",
    "\n",
    "Embarked  count\tsum\tmean\t\t\t\n",
    "    C\t   168\t93\t0.553571\n",
    "    Q\t    77\t30\t0.389610\n",
    "    S\t   644\t217\t0.336957"
   ]
  },
  {
   "cell_type": "markdown",
   "metadata": {},
   "source": [
    "#### Paid fair and survival\n",
    "\n",
    "What was the fare range paid by the passangers?\n"
   ]
  },
  {
   "cell_type": "code",
   "execution_count": 123,
   "metadata": {},
   "outputs": [
    {
     "data": {
      "text/plain": [
       "count    891.000000\n",
       "mean      32.204208\n",
       "std       49.693429\n",
       "min        0.000000\n",
       "25%        7.910400\n",
       "50%       14.454200\n",
       "75%       31.000000\n",
       "max      512.329200\n",
       "Name: Fare, dtype: float64"
      ]
     },
     "execution_count": 123,
     "metadata": {},
     "output_type": "execute_result"
    }
   ],
   "source": [
    "#### use describe() to get the summary of the Fare variable\n",
    "titanic['Fare'].describe()\n",
    "\n",
    "### draw an histogram for the Fare variable. \n",
    "\n"
   ]
  },
  {
   "cell_type": "markdown",
   "metadata": {},
   "source": [
    "How many individuals didn't paid for their ticket?\n",
    " \n",
    "Does this affected their survival?"
   ]
  },
  {
   "cell_type": "code",
   "execution_count": 136,
   "metadata": {},
   "outputs": [
    {
     "data": {
      "text/plain": [
       "15"
      ]
     },
     "execution_count": 136,
     "metadata": {},
     "output_type": "execute_result"
    }
   ],
   "source": [
    "### get the number of those with a Fare == 0\n",
    "titanic['NoPaid'] = 0\n",
    "titanic.loc[(titanic['Fare'] == 0), 'NoPaid'] = 1\n",
    "titanic['NoPaid']\n",
    "titanic['NoPaid'].sum()\n"
   ]
  },
  {
   "cell_type": "code",
   "execution_count": 229,
   "metadata": {},
   "outputs": [
    {
     "data": {
      "text/html": [
       "<div>\n",
       "<style>\n",
       "    .dataframe thead tr:only-child th {\n",
       "        text-align: right;\n",
       "    }\n",
       "\n",
       "    .dataframe thead th {\n",
       "        text-align: left;\n",
       "    }\n",
       "\n",
       "    .dataframe tbody tr th {\n",
       "        vertical-align: top;\n",
       "    }\n",
       "</style>\n",
       "<table border=\"1\" class=\"dataframe\">\n",
       "  <thead>\n",
       "    <tr>\n",
       "      <th></th>\n",
       "      <th colspan=\"3\" halign=\"left\">Survived</th>\n",
       "    </tr>\n",
       "    <tr>\n",
       "      <th></th>\n",
       "      <th>count</th>\n",
       "      <th>sum</th>\n",
       "      <th>mean</th>\n",
       "    </tr>\n",
       "    <tr>\n",
       "      <th>Gratis</th>\n",
       "      <th></th>\n",
       "      <th></th>\n",
       "      <th></th>\n",
       "    </tr>\n",
       "  </thead>\n",
       "  <tbody>\n",
       "    <tr>\n",
       "      <th>0</th>\n",
       "      <td>876</td>\n",
       "      <td>341</td>\n",
       "      <td>0.389269</td>\n",
       "    </tr>\n",
       "    <tr>\n",
       "      <th>1</th>\n",
       "      <td>15</td>\n",
       "      <td>1</td>\n",
       "      <td>0.066667</td>\n",
       "    </tr>\n",
       "  </tbody>\n",
       "</table>\n",
       "</div>"
      ],
      "text/plain": [
       "       Survived               \n",
       "          count  sum      mean\n",
       "Gratis                        \n",
       "0           876  341  0.389269\n",
       "1            15    1  0.066667"
      ]
     },
     "execution_count": 229,
     "metadata": {},
     "output_type": "execute_result"
    }
   ],
   "source": [
    "### Create a new variable called Gratis and give 1 to passangers who didn't pay\n",
    "titanic['Gratis'] = 0\n",
    "....\n",
    "\n",
    "## then use groupby() and agg() to get the table bellow\n",
    "..."
   ]
  },
  {
   "cell_type": "markdown",
   "metadata": {},
   "source": [
    "Where there differences in fare rates among the same ticket classes? \n",
    " \n",
    "If the answer was yes, does those differences affected the survival of individuals?"
   ]
  },
  {
   "cell_type": "code",
   "execution_count": 230,
   "metadata": {},
   "outputs": [
    {
     "data": {
      "text/html": [
       "<div>\n",
       "<style>\n",
       "    .dataframe thead tr:only-child th {\n",
       "        text-align: right;\n",
       "    }\n",
       "\n",
       "    .dataframe thead th {\n",
       "        text-align: left;\n",
       "    }\n",
       "\n",
       "    .dataframe tbody tr th {\n",
       "        vertical-align: top;\n",
       "    }\n",
       "</style>\n",
       "<table border=\"1\" class=\"dataframe\">\n",
       "  <thead>\n",
       "    <tr style=\"text-align: right;\">\n",
       "      <th></th>\n",
       "      <th>count</th>\n",
       "      <th>mean</th>\n",
       "      <th>std</th>\n",
       "      <th>min</th>\n",
       "      <th>25%</th>\n",
       "      <th>50%</th>\n",
       "      <th>75%</th>\n",
       "      <th>max</th>\n",
       "    </tr>\n",
       "    <tr>\n",
       "      <th>Pclass</th>\n",
       "      <th></th>\n",
       "      <th></th>\n",
       "      <th></th>\n",
       "      <th></th>\n",
       "      <th></th>\n",
       "      <th></th>\n",
       "      <th></th>\n",
       "      <th></th>\n",
       "    </tr>\n",
       "  </thead>\n",
       "  <tbody>\n",
       "    <tr>\n",
       "      <th>1</th>\n",
       "      <td>216.0</td>\n",
       "      <td>84.154687</td>\n",
       "      <td>78.380373</td>\n",
       "      <td>0.0</td>\n",
       "      <td>30.92395</td>\n",
       "      <td>60.2875</td>\n",
       "      <td>93.5</td>\n",
       "      <td>512.3292</td>\n",
       "    </tr>\n",
       "    <tr>\n",
       "      <th>2</th>\n",
       "      <td>184.0</td>\n",
       "      <td>20.662183</td>\n",
       "      <td>13.417399</td>\n",
       "      <td>0.0</td>\n",
       "      <td>13.00000</td>\n",
       "      <td>14.2500</td>\n",
       "      <td>26.0</td>\n",
       "      <td>73.5000</td>\n",
       "    </tr>\n",
       "    <tr>\n",
       "      <th>3</th>\n",
       "      <td>491.0</td>\n",
       "      <td>13.675550</td>\n",
       "      <td>11.778142</td>\n",
       "      <td>0.0</td>\n",
       "      <td>7.75000</td>\n",
       "      <td>8.0500</td>\n",
       "      <td>15.5</td>\n",
       "      <td>69.5500</td>\n",
       "    </tr>\n",
       "  </tbody>\n",
       "</table>\n",
       "</div>"
      ],
      "text/plain": [
       "        count       mean        std  min       25%      50%   75%       max\n",
       "Pclass                                                                     \n",
       "1       216.0  84.154687  78.380373  0.0  30.92395  60.2875  93.5  512.3292\n",
       "2       184.0  20.662183  13.417399  0.0  13.00000  14.2500  26.0   73.5000\n",
       "3       491.0  13.675550  11.778142  0.0   7.75000   8.0500  15.5   69.5500"
      ]
     },
     "execution_count": 230,
     "metadata": {},
     "output_type": "execute_result"
    }
   ],
   "source": [
    "byPclass = titanic.groupby('Pclass')\n",
    "byPclass['Fare'].describe()\n"
   ]
  },
  {
   "cell_type": "code",
   "execution_count": 114,
   "metadata": {},
   "outputs": [
    {
     "data": {
      "text/plain": [
       "0         Low\n",
       "1      Normal\n",
       "2      Normal\n",
       "3      Normal\n",
       "4      Normal\n",
       "5      Normal\n",
       "6      Normal\n",
       "7        High\n",
       "8      Normal\n",
       "9        High\n",
       "10       High\n",
       "11        Low\n",
       "12     Normal\n",
       "13       High\n",
       "14     Normal\n",
       "15     Normal\n",
       "16       High\n",
       "17     Normal\n",
       "18       High\n",
       "19        Low\n",
       "20     Normal\n",
       "21     Normal\n",
       "22     Normal\n",
       "23     Normal\n",
       "24       High\n",
       "25       High\n",
       "26        Low\n",
       "27       High\n",
       "28     Normal\n",
       "29     Normal\n",
       "        ...  \n",
       "861       Low\n",
       "862       Low\n",
       "863      High\n",
       "864    Normal\n",
       "865    Normal\n",
       "866    Normal\n",
       "867    Normal\n",
       "868    Normal\n",
       "869    Normal\n",
       "870    Normal\n",
       "871    Normal\n",
       "872       Low\n",
       "873    Normal\n",
       "874    Normal\n",
       "875       Low\n",
       "876    Normal\n",
       "877    Normal\n",
       "878    Normal\n",
       "879    Normal\n",
       "880    Normal\n",
       "881    Normal\n",
       "882    Normal\n",
       "883       Low\n",
       "884       Low\n",
       "885      High\n",
       "886    Normal\n",
       "887       Low\n",
       "888      High\n",
       "889       Low\n",
       "890    Normal\n",
       "Name: FareGroup, Length: 891, dtype: object"
      ]
     },
     "execution_count": 114,
     "metadata": {},
     "output_type": "execute_result"
    }
   ],
   "source": [
    "### We will use the data on the desctiptive table to divide the paid fare:\n",
    "### Those who paid more than the 75% where considered 'Overpaid', \n",
    "### If paid less than the 25% where categorized as 'Underpaid', else 'Normal' fare\n",
    "titanic['FareGroup'] = 'Normal'\n",
    "titanic.loc[(titanic['Pclass'] == 1) & (titanic['Fare'] < 30.92395), 'FareGroup'] = 'Low'\n",
    "titanic.loc[(titanic['Pclass'] == 1) & (titanic['Fare'] > 93.5), 'FareGroup'] = 'High'\n",
    "titanic.loc[(titanic['Pclass'] == 2) & (titanic['Fare'] < 13.0), 'FareGroup'] = 'Low'\n",
    "titanic.loc[(titanic['Pclass'] == 2) & (titanic['Fare'] > 26.0), 'FareGroup'] = 'High'\n",
    "titanic.loc[(titanic['Pclass'] == 3) & (titanic['Fare'] < 7.75), 'FareGroup'] = 'Low'\n",
    "titanic.loc[(titanic['Pclass'] == 3) & (titanic['Fare'] > 15.5), 'FareGroup'] = 'High'\n",
    "titanic['FareGroup']\n"
   ]
  },
  {
   "cell_type": "markdown",
   "metadata": {},
   "source": [
    "Now we will check how many survived by Pclass and Fategroup:"
   ]
  },
  {
   "cell_type": "code",
   "execution_count": 115,
   "metadata": {},
   "outputs": [
    {
     "data": {
      "text/html": [
       "<div>\n",
       "<style scoped>\n",
       "    .dataframe tbody tr th:only-of-type {\n",
       "        vertical-align: middle;\n",
       "    }\n",
       "\n",
       "    .dataframe tbody tr th {\n",
       "        vertical-align: top;\n",
       "    }\n",
       "\n",
       "    .dataframe thead tr th {\n",
       "        text-align: left;\n",
       "    }\n",
       "\n",
       "    .dataframe thead tr:last-of-type th {\n",
       "        text-align: right;\n",
       "    }\n",
       "</style>\n",
       "<table border=\"1\" class=\"dataframe\">\n",
       "  <thead>\n",
       "    <tr>\n",
       "      <th></th>\n",
       "      <th></th>\n",
       "      <th colspan=\"3\" halign=\"left\">Survived</th>\n",
       "    </tr>\n",
       "    <tr>\n",
       "      <th></th>\n",
       "      <th></th>\n",
       "      <th>count</th>\n",
       "      <th>sum</th>\n",
       "      <th>mean</th>\n",
       "    </tr>\n",
       "    <tr>\n",
       "      <th>Pclass</th>\n",
       "      <th>FareGroup</th>\n",
       "      <th></th>\n",
       "      <th></th>\n",
       "      <th></th>\n",
       "    </tr>\n",
       "  </thead>\n",
       "  <tbody>\n",
       "    <tr>\n",
       "      <th rowspan=\"3\" valign=\"top\">1</th>\n",
       "      <th>High</th>\n",
       "      <td>53</td>\n",
       "      <td>39</td>\n",
       "      <td>0.735849</td>\n",
       "    </tr>\n",
       "    <tr>\n",
       "      <th>Low</th>\n",
       "      <td>54</td>\n",
       "      <td>25</td>\n",
       "      <td>0.462963</td>\n",
       "    </tr>\n",
       "    <tr>\n",
       "      <th>Normal</th>\n",
       "      <td>109</td>\n",
       "      <td>72</td>\n",
       "      <td>0.660550</td>\n",
       "    </tr>\n",
       "    <tr>\n",
       "      <th rowspan=\"3\" valign=\"top\">2</th>\n",
       "      <th>High</th>\n",
       "      <td>39</td>\n",
       "      <td>23</td>\n",
       "      <td>0.589744</td>\n",
       "    </tr>\n",
       "    <tr>\n",
       "      <th>Low</th>\n",
       "      <td>42</td>\n",
       "      <td>13</td>\n",
       "      <td>0.309524</td>\n",
       "    </tr>\n",
       "    <tr>\n",
       "      <th>Normal</th>\n",
       "      <td>103</td>\n",
       "      <td>51</td>\n",
       "      <td>0.495146</td>\n",
       "    </tr>\n",
       "    <tr>\n",
       "      <th rowspan=\"3\" valign=\"top\">3</th>\n",
       "      <th>High</th>\n",
       "      <td>120</td>\n",
       "      <td>34</td>\n",
       "      <td>0.283333</td>\n",
       "    </tr>\n",
       "    <tr>\n",
       "      <th>Low</th>\n",
       "      <td>94</td>\n",
       "      <td>17</td>\n",
       "      <td>0.180851</td>\n",
       "    </tr>\n",
       "    <tr>\n",
       "      <th>Normal</th>\n",
       "      <td>277</td>\n",
       "      <td>68</td>\n",
       "      <td>0.245487</td>\n",
       "    </tr>\n",
       "  </tbody>\n",
       "</table>\n",
       "</div>"
      ],
      "text/plain": [
       "                 Survived              \n",
       "                    count sum      mean\n",
       "Pclass FareGroup                       \n",
       "1      High            53  39  0.735849\n",
       "       Low             54  25  0.462963\n",
       "       Normal         109  72  0.660550\n",
       "2      High            39  23  0.589744\n",
       "       Low             42  13  0.309524\n",
       "       Normal         103  51  0.495146\n",
       "3      High           120  34  0.283333\n",
       "       Low             94  17  0.180851\n",
       "       Normal         277  68  0.245487"
      ]
     },
     "execution_count": 115,
     "metadata": {},
     "output_type": "execute_result"
    }
   ],
   "source": [
    "## use groupby() and agg() to get the table bellow\n",
    "titanic.groupby(['Pclass','FareGroup']).agg({'Survived':['count',sum,'mean']})"
   ]
  },
  {
   "cell_type": "markdown",
   "metadata": {},
   "source": [
    "Survived\n",
    "\n",
    "Pclass\tFareGroup count\tsum\tmean\n",
    "    1\tNormal\t   109\t72\t0.660550\n",
    "        Overpaid\t53\t39\t0.735849\n",
    "        Underpaid\t54\t25\t0.462963\n",
    "    2\tNormal\t   103\t51\t0.495146\n",
    "        Overpaid\t39\t23\t0.589744\n",
    "        Underpaid\t42\t13\t0.309524\n",
    "    3\tNormal\t   277\t68\t0.245487\n",
    "        Overpaid   120\t34\t0.283333\n",
    "        Underpaid\t94\t17\t0.180851"
   ]
  },
  {
   "cell_type": "markdown",
   "metadata": {},
   "source": [
    "#### The title passanger had and survival \n",
    "\n",
    "Which were the five most common titles passanger had? (Sir, Mr, Mrs, etc)?\n",
    " \n",
    "For this part we will take the 'Name' column and will split all the words in the name by the white space.\n",
    " \n",
    "Then we will join all the words and calculate the frequency of appearance of each world in descending order.\n",
    " \n",
    "We will take the five most common words (must be titles), and with them we will create a new column. Then we will procede as we did in the other analyses.\n"
   ]
  },
  {
   "cell_type": "code",
   "execution_count": 233,
   "metadata": {},
   "outputs": [
    {
     "name": "stdout",
     "output_type": "stream",
     "text": [
      "Braund, Mr. Owen Harris Cumings, Mrs. John Bradley (Florence Briggs Thayer) Heikkinen, Miss. Laina F\n"
     ]
    }
   ],
   "source": [
    "## Join all the words in the 'Name' column\n",
    "words = ' '.join(titanic['Name'])\n",
    "len(words)\n",
    "print(words[0:100])"
   ]
  },
  {
   "cell_type": "code",
   "execution_count": 234,
   "metadata": {},
   "outputs": [
    {
     "name": "stdout",
     "output_type": "stream",
     "text": [
      "Braund Mr Owen Harris Cumings Mrs John Bradley Florence Briggs Thayer Heikkinen Miss Laina Futrelle \n"
     ]
    }
   ],
   "source": [
    "## the following code will delete the punctuation\n",
    "import string\n",
    "\n",
    "table = str.maketrans({key: None for key in string.punctuation})\n",
    "words = words.translate(table)\n",
    "print(words[0:100])"
   ]
  },
  {
   "cell_type": "code",
   "execution_count": 235,
   "metadata": {},
   "outputs": [
    {
     "name": "stdout",
     "output_type": "stream",
     "text": [
      "<class 'list'>\n",
      "['Mr', 'Owen', 'Harris', 'Cumings', 'Mrs', 'John', 'Bradley', 'Florence', 'Briggs']\n"
     ]
    }
   ],
   "source": [
    "## now we will split by the white spaces the words string into a list\n",
    "wordlist = words.split()\n",
    "print(type(wordlist))\n",
    "print(wordlist[1:10])"
   ]
  },
  {
   "cell_type": "code",
   "execution_count": 236,
   "metadata": {},
   "outputs": [
    {
     "name": "stdout",
     "output_type": "stream",
     "text": [
      "1526\n",
      "1526\n",
      "1526\n",
      "<class 'dict_keys'>\n",
      "<class 'dict_values'>\n"
     ]
    }
   ],
   "source": [
    "## We will count each unique word and show the top 20 in descending order\n",
    "## There are lots of ways to this. We will generate a dictionary to make the counts\n",
    "\n",
    "worddict = {x:wordlist.count(x) for x in wordlist}\n",
    "\n",
    "wordunq, wordcnt = worddict.keys(), worddict.values()\n",
    "\n",
    "print(len(worddict))\n",
    "print(len(wordunq))\n",
    "print(len(wordcnt))\n",
    "\n",
    "#wordunq.tolist()\n",
    "\n",
    "print(type(wordunq))\n",
    "print(type(wordcnt))\n"
   ]
  },
  {
   "cell_type": "code",
   "execution_count": 243,
   "metadata": {},
   "outputs": [
    {
     "data": {
      "text/html": [
       "<div>\n",
       "<style>\n",
       "    .dataframe thead tr:only-child th {\n",
       "        text-align: right;\n",
       "    }\n",
       "\n",
       "    .dataframe thead th {\n",
       "        text-align: left;\n",
       "    }\n",
       "\n",
       "    .dataframe tbody tr th {\n",
       "        vertical-align: top;\n",
       "    }\n",
       "</style>\n",
       "<table border=\"1\" class=\"dataframe\">\n",
       "  <thead>\n",
       "    <tr style=\"text-align: right;\">\n",
       "      <th></th>\n",
       "      <th>quantity</th>\n",
       "      <th>word</th>\n",
       "    </tr>\n",
       "  </thead>\n",
       "  <tbody>\n",
       "    <tr>\n",
       "      <th>1225</th>\n",
       "      <td>521</td>\n",
       "      <td>Mr</td>\n",
       "    </tr>\n",
       "    <tr>\n",
       "      <th>389</th>\n",
       "      <td>182</td>\n",
       "      <td>Miss</td>\n",
       "    </tr>\n",
       "    <tr>\n",
       "      <th>893</th>\n",
       "      <td>129</td>\n",
       "      <td>Mrs</td>\n",
       "    </tr>\n",
       "    <tr>\n",
       "      <th>453</th>\n",
       "      <td>64</td>\n",
       "      <td>William</td>\n",
       "    </tr>\n",
       "    <tr>\n",
       "      <th>124</th>\n",
       "      <td>44</td>\n",
       "      <td>John</td>\n",
       "    </tr>\n",
       "    <tr>\n",
       "      <th>509</th>\n",
       "      <td>40</td>\n",
       "      <td>Master</td>\n",
       "    </tr>\n",
       "    <tr>\n",
       "      <th>998</th>\n",
       "      <td>35</td>\n",
       "      <td>Henry</td>\n",
       "    </tr>\n",
       "    <tr>\n",
       "      <th>423</th>\n",
       "      <td>24</td>\n",
       "      <td>George</td>\n",
       "    </tr>\n",
       "    <tr>\n",
       "      <th>1356</th>\n",
       "      <td>24</td>\n",
       "      <td>James</td>\n",
       "    </tr>\n",
       "    <tr>\n",
       "      <th>821</th>\n",
       "      <td>23</td>\n",
       "      <td>Charles</td>\n",
       "    </tr>\n",
       "    <tr>\n",
       "      <th>1498</th>\n",
       "      <td>22</td>\n",
       "      <td>Thomas</td>\n",
       "    </tr>\n",
       "    <tr>\n",
       "      <th>1006</th>\n",
       "      <td>20</td>\n",
       "      <td>Mary</td>\n",
       "    </tr>\n",
       "    <tr>\n",
       "      <th>167</th>\n",
       "      <td>18</td>\n",
       "      <td>Edward</td>\n",
       "    </tr>\n",
       "    <tr>\n",
       "      <th>875</th>\n",
       "      <td>17</td>\n",
       "      <td>Anna</td>\n",
       "    </tr>\n",
       "    <tr>\n",
       "      <th>1394</th>\n",
       "      <td>16</td>\n",
       "      <td>Joseph</td>\n",
       "    </tr>\n",
       "    <tr>\n",
       "      <th>1405</th>\n",
       "      <td>15</td>\n",
       "      <td>Johan</td>\n",
       "    </tr>\n",
       "    <tr>\n",
       "      <th>433</th>\n",
       "      <td>15</td>\n",
       "      <td>Frederick</td>\n",
       "    </tr>\n",
       "    <tr>\n",
       "      <th>1028</th>\n",
       "      <td>15</td>\n",
       "      <td>Elizabeth</td>\n",
       "    </tr>\n",
       "    <tr>\n",
       "      <th>770</th>\n",
       "      <td>14</td>\n",
       "      <td>Richard</td>\n",
       "    </tr>\n",
       "    <tr>\n",
       "      <th>529</th>\n",
       "      <td>13</td>\n",
       "      <td>Arthur</td>\n",
       "    </tr>\n",
       "  </tbody>\n",
       "</table>\n",
       "</div>"
      ],
      "text/plain": [
       "      quantity       word\n",
       "1225       521         Mr\n",
       "389        182       Miss\n",
       "893        129        Mrs\n",
       "453         64    William\n",
       "124         44       John\n",
       "509         40     Master\n",
       "998         35      Henry\n",
       "423         24     George\n",
       "1356        24      James\n",
       "821         23    Charles\n",
       "1498        22     Thomas\n",
       "1006        20       Mary\n",
       "167         18     Edward\n",
       "875         17       Anna\n",
       "1394        16     Joseph\n",
       "1405        15      Johan\n",
       "433         15  Frederick\n",
       "1028        15  Elizabeth\n",
       "770         14    Richard\n",
       "529         13     Arthur"
      ]
     },
     "execution_count": 243,
     "metadata": {},
     "output_type": "execute_result"
    }
   ],
   "source": [
    "## now we tranform the keys and values into lists and create with them a DataFrame\n",
    "\n",
    "...\n",
    "\n",
    "...\n"
   ]
  },
  {
   "cell_type": "markdown",
   "metadata": {},
   "source": [
    "Answer:\n",
    "    quantity\tword\n",
    " \t521\t        Mr\n",
    "\t182\t        Miss\n",
    "\t129\t        Mrs\n",
    "\t64\t        William\n",
    "\t44\t        John\n",
    "\t40\t        Master"
   ]
  },
  {
   "cell_type": "markdown",
   "metadata": {},
   "source": [
    "We have shown here that the most common titles were Mr (521), Miss (182), Mrs (129) and Master (40). \n",
    " \n",
    "This totals 872 out of 891 passengers (97.9%).\n",
    " \n",
    "Now we will create a new variable with those titles and check for differences on survival among them.\n",
    " \n",
    "We can use the following function to decide if a title is present on a name:\n",
    "\n",
    "<code> \n",
    " titanic['Name'].str.contains('Mr')\n",
    "</code>"
   ]
  },
  {
   "cell_type": "code",
   "execution_count": 242,
   "metadata": {},
   "outputs": [
    {
     "data": {
      "text/html": [
       "<div>\n",
       "<style>\n",
       "    .dataframe thead tr:only-child th {\n",
       "        text-align: right;\n",
       "    }\n",
       "\n",
       "    .dataframe thead th {\n",
       "        text-align: left;\n",
       "    }\n",
       "\n",
       "    .dataframe tbody tr th {\n",
       "        vertical-align: top;\n",
       "    }\n",
       "</style>\n",
       "<table border=\"1\" class=\"dataframe\">\n",
       "  <thead>\n",
       "    <tr>\n",
       "      <th></th>\n",
       "      <th colspan=\"3\" halign=\"left\">Survived</th>\n",
       "    </tr>\n",
       "    <tr>\n",
       "      <th></th>\n",
       "      <th>count</th>\n",
       "      <th>sum</th>\n",
       "      <th>mean</th>\n",
       "    </tr>\n",
       "    <tr>\n",
       "      <th>Title</th>\n",
       "      <th></th>\n",
       "      <th></th>\n",
       "      <th></th>\n",
       "    </tr>\n",
       "  </thead>\n",
       "  <tbody>\n",
       "    <tr>\n",
       "      <th>Master</th>\n",
       "      <td>40</td>\n",
       "      <td>23</td>\n",
       "      <td>0.575000</td>\n",
       "    </tr>\n",
       "    <tr>\n",
       "      <th>Miss</th>\n",
       "      <td>180</td>\n",
       "      <td>126</td>\n",
       "      <td>0.700000</td>\n",
       "    </tr>\n",
       "    <tr>\n",
       "      <th>Mr</th>\n",
       "      <td>518</td>\n",
       "      <td>82</td>\n",
       "      <td>0.158301</td>\n",
       "    </tr>\n",
       "    <tr>\n",
       "      <th>Mrs</th>\n",
       "      <td>130</td>\n",
       "      <td>103</td>\n",
       "      <td>0.792308</td>\n",
       "    </tr>\n",
       "    <tr>\n",
       "      <th>Other</th>\n",
       "      <td>24</td>\n",
       "      <td>9</td>\n",
       "      <td>0.375000</td>\n",
       "    </tr>\n",
       "  </tbody>\n",
       "</table>\n",
       "</div>"
      ],
      "text/plain": [
       "       Survived               \n",
       "          count  sum      mean\n",
       "Title                         \n",
       "Master       40   23  0.575000\n",
       "Miss        180  126  0.700000\n",
       "Mr          518   82  0.158301\n",
       "Mrs         130  103  0.792308\n",
       "Other        24    9  0.375000"
      ]
     },
     "execution_count": 242,
     "metadata": {},
     "output_type": "execute_result"
    }
   ],
   "source": [
    "titanic['Title'] = 'Other'\n",
    "\n",
    "...\n",
    "\n",
    "## then use groupby() and agg() to get the table bellow\n",
    "...\n"
   ]
  },
  {
   "cell_type": "markdown",
   "metadata": {},
   "source": [
    "Survived\n",
    "\n",
    "Title\tcount\tsum\tmean\t\t\n",
    "Master\t  40\t23\t0.575000\n",
    "Miss\t 180\t126\t0.700000\n",
    "Mr\t     518\t82\t0.158301\n",
    "Mrs\t     130\t103\t0.792308\n",
    "Other\t  24\t9\t0.375000"
   ]
  }
 ],
 "metadata": {
  "kernelspec": {
   "display_name": "Python 3",
   "language": "python",
   "name": "python3"
  },
  "language_info": {
   "codemirror_mode": {
    "name": "ipython",
    "version": 3
   },
   "file_extension": ".py",
   "mimetype": "text/x-python",
   "name": "python",
   "nbconvert_exporter": "python",
   "pygments_lexer": "ipython3",
   "version": "3.7.3"
  }
 },
 "nbformat": 4,
 "nbformat_minor": 2
}
