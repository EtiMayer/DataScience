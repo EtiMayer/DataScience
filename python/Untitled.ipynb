{
 "cells": [
  {
   "cell_type": "code",
   "execution_count": 1,
   "metadata": {},
   "outputs": [
    {
     "name": "stdout",
     "output_type": "stream",
     "text": [
      "Collecting rpy2\n",
      "  Downloading https://files.pythonhosted.org/packages/d9/51/d5c41ac70e0aa3272f24cf836bd35d6246c95b98d8d811f338cec5a8098e/rpy2-3.2.2.tar.gz (162kB)\n",
      "Note: you may need to restart the kernel to use updated packages.\n"
     ]
    },
    {
     "name": "stderr",
     "output_type": "stream",
     "text": [
      "    ERROR: Complete output from command python setup.py egg_info:\n",
      "    ERROR: 'sh' is not recognized as an internal or external command,\n",
      "    operable program or batch file.\n",
      "    Traceback (most recent call last):\n",
      "      File \"<string>\", line 1, in <module>\n",
      "      File \"C:\\Users\\Mayer\\AppData\\Local\\Temp\\pip-install-0rpz13_j\\rpy2\\setup.py\", line 105, in <module>\n",
      "        c_extension_status = get_r_c_extension_status()\n",
      "      File \"C:\\Users\\Mayer\\AppData\\Local\\Temp\\pip-install-0rpz13_j\\rpy2\\setup.py\", line 94, in get_r_c_extension_status\n",
      "        *situation.get_r_flags(r_home, '--ldflags')\n",
      "      File \"C:\\Users\\Mayer\\AppData\\Local\\Temp\\pip-install-0rpz13_j\\rpy2\\rpy2\\situation.py\", line 176, in get_r_flags\n",
      "        allow_empty=False)))\n",
      "      File \"C:\\Users\\Mayer\\AppData\\Local\\Temp\\pip-install-0rpz13_j\\rpy2\\rpy2\\situation.py\", line 145, in _get_r_cmd_config\n",
      "        universal_newlines=True\n",
      "      File \"C:\\Users\\Mayer\\Anaconda3\\lib\\subprocess.py\", line 395, in check_output\n",
      "        **kwargs).stdout\n",
      "      File \"C:\\Users\\Mayer\\Anaconda3\\lib\\subprocess.py\", line 487, in run\n",
      "        output=stdout, stderr=stderr)\n",
      "    subprocess.CalledProcessError: Command '('C:\\\\Program Files\\\\R\\\\R-3.6.1\\\\bin\\\\x64\\\\R', 'CMD', 'config', '--ldflags')' returned non-zero exit status 1.\n",
      "    ----------------------------------------\n",
      "ERROR: Command \"python setup.py egg_info\" failed with error code 1 in C:\\Users\\Mayer\\AppData\\Local\\Temp\\pip-install-0rpz13_j\\rpy2\\\n"
     ]
    }
   ],
   "source": [
    "pip install rpy2"
   ]
  },
  {
   "cell_type": "code",
   "execution_count": 2,
   "metadata": {},
   "outputs": [
    {
     "name": "stdout",
     "output_type": "stream",
     "text": [
      "Collecting setuptools\n",
      "  Downloading https://files.pythonhosted.org/packages/54/28/c45d8b54c1339f9644b87663945e54a8503cfef59cf0f65b3ff5dd17cf64/setuptools-42.0.2-py2.py3-none-any.whl (583kB)\n",
      "Installing collected packages: setuptools\n",
      "  Found existing installation: setuptools 41.0.1\n",
      "    Uninstalling setuptools-41.0.1:\n",
      "      Successfully uninstalled setuptools-41.0.1\n",
      "Successfully installed setuptools-42.0.2\n",
      "Note: you may need to restart the kernel to use updated packages.\n"
     ]
    }
   ],
   "source": [
    "pip install --upgrade setuptools\n"
   ]
  },
  {
   "cell_type": "code",
   "execution_count": 1,
   "metadata": {},
   "outputs": [
    {
     "name": "stdout",
     "output_type": "stream",
     "text": [
      "Collecting rpy2\n",
      "  Using cached https://files.pythonhosted.org/packages/d9/51/d5c41ac70e0aa3272f24cf836bd35d6246c95b98d8d811f338cec5a8098e/rpy2-3.2.2.tar.gz\n",
      "Note: you may need to restart the kernel to use updated packages.\n"
     ]
    },
    {
     "name": "stderr",
     "output_type": "stream",
     "text": [
      "    ERROR: Complete output from command python setup.py egg_info:\n",
      "    ERROR: 'sh' is not recognized as an internal or external command,\n",
      "    operable program or batch file.\n",
      "    Traceback (most recent call last):\n",
      "      File \"<string>\", line 1, in <module>\n",
      "      File \"C:\\Users\\Mayer\\AppData\\Local\\Temp\\pip-install-ul849f06\\rpy2\\setup.py\", line 105, in <module>\n",
      "        c_extension_status = get_r_c_extension_status()\n",
      "      File \"C:\\Users\\Mayer\\AppData\\Local\\Temp\\pip-install-ul849f06\\rpy2\\setup.py\", line 94, in get_r_c_extension_status\n",
      "        *situation.get_r_flags(r_home, '--ldflags')\n",
      "      File \"C:\\Users\\Mayer\\AppData\\Local\\Temp\\pip-install-ul849f06\\rpy2\\rpy2\\situation.py\", line 176, in get_r_flags\n",
      "        allow_empty=False)))\n",
      "      File \"C:\\Users\\Mayer\\AppData\\Local\\Temp\\pip-install-ul849f06\\rpy2\\rpy2\\situation.py\", line 145, in _get_r_cmd_config\n",
      "        universal_newlines=True\n",
      "      File \"C:\\Users\\Mayer\\Anaconda3\\lib\\subprocess.py\", line 395, in check_output\n",
      "        **kwargs).stdout\n",
      "      File \"C:\\Users\\Mayer\\Anaconda3\\lib\\subprocess.py\", line 487, in run\n",
      "        output=stdout, stderr=stderr)\n",
      "    subprocess.CalledProcessError: Command '('C:\\\\Program Files\\\\R\\\\R-3.6.1\\\\bin\\\\x64\\\\R', 'CMD', 'config', '--ldflags')' returned non-zero exit status 1.\n",
      "    ----------------------------------------\n",
      "ERROR: Command \"python setup.py egg_info\" failed with error code 1 in C:\\Users\\Mayer\\AppData\\Local\\Temp\\pip-install-ul849f06\\rpy2\\\n"
     ]
    }
   ],
   "source": [
    "pip install rpy2"
   ]
  },
  {
   "cell_type": "code",
   "execution_count": null,
   "metadata": {},
   "outputs": [],
   "source": []
  }
 ],
 "metadata": {
  "kernelspec": {
   "display_name": "Python 3",
   "language": "python",
   "name": "python3"
  },
  "language_info": {
   "codemirror_mode": {
    "name": "ipython",
    "version": 3
   },
   "file_extension": ".py",
   "mimetype": "text/x-python",
   "name": "python",
   "nbconvert_exporter": "python",
   "pygments_lexer": "ipython3",
   "version": "3.7.3"
  }
 },
 "nbformat": 4,
 "nbformat_minor": 2
}
