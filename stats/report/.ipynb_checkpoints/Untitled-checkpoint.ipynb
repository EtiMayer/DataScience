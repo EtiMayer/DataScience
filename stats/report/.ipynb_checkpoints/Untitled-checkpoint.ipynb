{
 "cells": [
  {
   "cell_type": "code",
   "execution_count": 4,
   "metadata": {},
   "outputs": [],
   "source": [
    "library(devtools)\n"
   ]
  },
  {
   "cell_type": "code",
   "execution_count": 6,
   "metadata": {},
   "outputs": [
    {
     "name": "stderr",
     "output_type": "stream",
     "text": [
      "WARNING: Rtools is required to build R packages, but is not currently installed.\n",
      "\n",
      "Please download and install Rtools 3.5 from http://cran.r-project.org/bin/windows/Rtools/.\n",
      "\n",
      "Downloading GitHub repo karpatit/mechkar@master\n",
      "\n"
     ]
    },
    {
     "name": "stdout",
     "output_type": "stream",
     "text": [
      "rlang        (0.4.0     -> 0.4.2    ) [CRAN]\n",
      "car          (3.0-3     -> 3.0-6    ) [CRAN]\n",
      "Hmisc        (4.2-0     -> 4.3-0    ) [CRAN]\n",
      "sjstats      (0.17.6    -> 0.17.7   ) [CRAN]\n",
      "sjmisc       (2.8.1     -> 2.8.2    ) [CRAN]\n",
      "Informati... (NA        -> 1.2.3    ) [CRAN]\n",
      "coxphw       (NA        -> 4.0.1    ) [CRAN]\n",
      "carData      (3.0-2     -> 3.0-3    ) [CRAN]\n",
      "quantreg     (5.51      -> 5.54     ) [CRAN]\n",
      "maptools     (0.9-5     -> 0.9-9    ) [CRAN]\n",
      "latticeExtra (0.6-28    -> 0.6-29   ) [CRAN]\n",
      "data.table   (1.12.2    -> 1.12.8   ) [CRAN]\n",
      "htmlTable    (1.13.1    -> 1.13.3   ) [CRAN]\n",
      "htmltools    (0.3.6     -> 0.4.0    ) [CRAN]\n",
      "plyr         (1.8.4     -> 1.8.5    ) [CRAN]\n",
      "Rcpp         (1.0.2     -> 1.0.3    ) [CRAN]\n",
      "bayestestR   (0.2.5     -> 0.4.0    ) [CRAN]\n",
      "broom        (0.5.2     -> 0.5.3    ) [CRAN]\n",
      "emmeans      (1.4       -> 1.4.3.01 ) [CRAN]\n",
      "insight      (0.5.0     -> 0.7.1    ) [CRAN]\n",
      "parameters   (0.1.0     -> 0.3.0    ) [CRAN]\n",
      "performance  (0.3.0     -> 0.4.2    ) [CRAN]\n",
      "purrr        (0.3.2     -> 0.3.3    ) [CRAN]\n",
      "sjlabelled   (1.1.0     -> 1.1.1    ) [CRAN]\n",
      "pkgconfig    (2.0.2     -> 2.0.3    ) [CRAN]\n",
      "R6           (2.4.0     -> 2.4.1    ) [CRAN]\n",
      "BH           (1.69.0-1  -> 1.72.0-2 ) [CRAN]\n",
      "cli          (1.1.0     -> 2.0.0    ) [CRAN]\n",
      "pillar       (1.4.2     -> 1.4.3    ) [CRAN]\n",
      "rootSolve    (1.7       -> 1.8.2    ) [CRAN]\n",
      "scales       (1.0.0     -> 1.1.0    ) [CRAN]\n",
      "RcppEigen    (0.3.3.5.0 -> 0.3.3.7.0) [CRAN]\n",
      "SparseM      (1.77      -> 1.78     ) [CRAN]\n",
      "sp           (1.3-1     -> 1.3-2    ) [CRAN]\n",
      "haven        (2.1.1     -> 2.2.0    ) [CRAN]\n",
      "curl         (4.0       -> 4.3      ) [CRAN]\n",
      "openxlsx     (4.1.0.1   -> 4.1.4    ) [CRAN]\n",
      "hms          (0.5.1     -> 0.5.2    ) [CRAN]\n",
      "vctrs        (0.2.0     -> 0.2.1    ) [CRAN]\n",
      "backports    (1.1.4     -> 1.1.5    ) [CRAN]\n",
      "farver       (NA        -> 2.0.1    ) [CRAN]\n",
      "jpeg         (0.1-8     -> 0.1-8.1  ) [CRAN]\n",
      "knitr        (1.24      -> 1.26     ) [CRAN]\n",
      "htmlwidgets  (1.3       -> 1.5.1    ) [CRAN]\n",
      "xfun         (0.9       -> 0.11     ) [CRAN]\n",
      "mime         (0.7       -> 0.8      ) [CRAN]\n"
     ]
    },
    {
     "name": "stderr",
     "output_type": "stream",
     "text": [
      "Installing 46 packages: rlang, car, Hmisc, sjstats, sjmisc, InformationValue, coxphw, carData, quantreg, maptools, latticeExtra, data.table, htmlTable, htmltools, plyr, Rcpp, bayestestR, broom, emmeans, insight, parameters, performance, purrr, sjlabelled, pkgconfig, R6, BH, cli, pillar, rootSolve, scales, RcppEigen, SparseM, sp, haven, curl, openxlsx, hms, vctrs, backports, farver, jpeg, knitr, htmlwidgets, xfun, mime\n",
      "\n",
      "Installing packages into 'C:/Users/Mayer/Documents/R/win-library/3.6'\n",
      "(as 'lib' is unspecified)\n",
      "\n"
     ]
    },
    {
     "name": "stdout",
     "output_type": "stream",
     "text": [
      "package 'rlang' successfully unpacked and MD5 sums checked\n"
     ]
    },
    {
     "ename": "ERROR",
     "evalue": "Error: Failed to install 'mechkar' from GitHub:\n  (converted from warning) cannot remove prior installation of package 'rlang'\n",
     "output_type": "error",
     "traceback": [
      "Error: Failed to install 'mechkar' from GitHub:\n  (converted from warning) cannot remove prior installation of package 'rlang'\nTraceback:\n",
      "1. install_github(\"karpatit/mechkar\")",
      "2. pkgbuild::with_build_tools({\n .     ellipsis::check_dots_used(action = getOption(\"devtools.ellipsis_action\", \n .         rlang::warn))\n .     {\n .         remotes <- lapply(repo, github_remote, ref = ref, subdir = subdir, \n .             auth_token = auth_token, host = host)\n .         install_remotes(remotes, auth_token = auth_token, host = host, \n .             dependencies = dependencies, upgrade = upgrade, force = force, \n .             quiet = quiet, build = build, build_opts = build_opts, \n .             build_manual = build_manual, build_vignettes = build_vignettes, \n .             repos = repos, type = type, ...)\n .     }\n . }, required = FALSE)",
      "3. install_remotes(remotes, auth_token = auth_token, host = host, \n .     dependencies = dependencies, upgrade = upgrade, force = force, \n .     quiet = quiet, build = build, build_opts = build_opts, build_manual = build_manual, \n .     build_vignettes = build_vignettes, repos = repos, type = type, \n .     ...)",
      "4. tryCatch(res[[i]] <- install_remote(remotes[[i]], ...), error = function(e) {\n .     stop(remote_install_error(remotes[[i]], e))\n . })",
      "5. tryCatchList(expr, classes, parentenv, handlers)",
      "6. tryCatchOne(expr, names, parentenv, handlers[[1L]])",
      "7. value[[3L]](cond)"
     ]
    }
   ],
   "source": [
    "install_github(\"karpatit/mechkar\")\n",
    "\n",
    "library (mechkar)\n",
    "setwd (\"C:/Users/Mayer/Documents/DataScience/stats\")"
   ]
  },
  {
   "cell_type": "code",
   "execution_count": null,
   "metadata": {},
   "outputs": [],
   "source": [
    "exploreData(data=movie)"
   ]
  }
 ],
 "metadata": {
  "kernelspec": {
   "display_name": "R",
   "language": "R",
   "name": "ir"
  },
  "language_info": {
   "codemirror_mode": "r",
   "file_extension": ".r",
   "mimetype": "text/x-r-source",
   "name": "R",
   "pygments_lexer": "r",
   "version": "3.6.1"
  }
 },
 "nbformat": 4,
 "nbformat_minor": 2
}
